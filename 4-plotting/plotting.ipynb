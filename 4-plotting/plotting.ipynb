{
 "cells": [
  {
   "cell_type": "code",
   "execution_count": 33,
   "metadata": {},
   "outputs": [
    {
     "name": "stdout",
     "output_type": "stream",
     "text": [
      "workbookDir: /home/sulab/tRNA-charge-seq/4-plotting\n"
     ]
    }
   ],
   "source": [
    "import pandas as pd\n",
    "import sys, os, subprocess, shutil, glob, bz2, csv\n",
    "from Bio import SeqIO\n",
    "import numpy as np\n",
    "import json\n",
    "\n",
    "import logomaker\n",
    "import numpy as np\n",
    "import seaborn as sns\n",
    "import matplotlib.pyplot as plt\n",
    "import matplotlib.backends.backend_pdf\n",
    "import matplotlib.colors as mcolors\n",
    "import matplotlib.ticker as ticker\n",
    "import matplotlib.gridspec as gridspec\n",
    "palette = list(mcolors.TABLEAU_COLORS.keys())\n",
    "%matplotlib inline\n",
    "#sns.set_theme(style=\"ticks\", palette=\"pastel\")\n",
    "sns.set_theme(style=\"ticks\", palette=\"muted\")\n",
    "sns.set_context(\"talk\")\n",
    "\n",
    "# Navigate back to workbookDir in case of re-running a code block:\n",
    "if not 'workbookDir' in globals():\n",
    "    workbookDir = os.getcwd()\n",
    "print('workbookDir: ' + workbookDir)\n",
    "os.chdir(workbookDir)  # If you changed the current working dir, this will take you back to the workbook dir."
   ]
  },
  {
   "cell_type": "markdown",
   "metadata": {},
   "source": [
    "### Requirements\n",
    "1. gfsa\n",
    "2. hgrewsa"
   ]
  },
  {
   "cell_type": "code",
   "execution_count": null,
   "metadata": {},
   "outputs": [],
   "source": []
  },
  {
   "cell_type": "code",
   "execution_count": null,
   "metadata": {},
   "outputs": [],
   "source": []
  },
  {
   "cell_type": "code",
   "execution_count": null,
   "metadata": {},
   "outputs": [],
   "source": [
    " "
   ]
  },
  {
   "cell_type": "code",
   "execution_count": 34,
   "metadata": {},
   "outputs": [],
   "source": [
    "#### Comments ######\n",
    "\n",
    "# Parse all data and for each sample generate the following dataframe:\n",
    "# readID, sample_name, replicate, barcode, tRNA_annotation, align_score, unique_annotation, tRNA_annotation_len, align_5p_idx, align_3p_idx, align_5p_nt, align_3p_nt, codon, anticodon, amino_acid, 5p_cover, 3p_cover, 5p_non-temp, 3p_non-temp\n",
    "\n",
    "# readID -> (string) fastq raw data read header/ID\n",
    "# sample_name -> (string) non unique sample name\n",
    "# replicate -> (integer) replicate number (sample_name - replicate should be unique)\n",
    "# barcode -> (string) barcode name\n",
    "# tRNA_annotation -> (string) tRNA annotation string, either unique or multiple separated by @\n",
    "# align_score -> (integer) alignment score\n",
    "# unique_annotation -> (True/False) if annotation is unique or (multiple or centroid)\n",
    "# tRNA_annotation_len -> (integer) the length of the tRNA annotated, if multiple annotations take the first\n",
    "# align_5p_idx -> (integer) first base (by index) of annotated tRNA in the alignement\n",
    "# align_3p_idx -> (integer) last base (by index) of annotated tRNA in the alignement (if CC add one to index)\n",
    "# align_5p_nt -> (string) first base of annotated tRNA in the alignement\n",
    "# align_3p_nt -> (string) last base of annotated tRNA in the alignement\n",
    "# codon -> (string) codon\n",
    "# anticodon -> (string) anticodon\n",
    "# amino_acid -> (string) amino acid\n",
    "# 5p_cover -> (True/False) if align_5p_idx == 1\n",
    "# 3p_cover -> (True/False) if align_3p_idx == tRNA_annotation_len\n",
    "# 5p_non-temp -> (string) 5' bases not part of the alignment to the annotation i.e. non-template bases\n",
    "# 3p_non-temp -> (string) 3' bases not part of the alignment to the annotation i.e. non-template bases\n",
    "\n",
    "\n",
    "\n",
    "\n",
    "\n",
    "\n",
    "\n",
    "# Stats general:\n",
    "# Percent covering 3' (read covering end[-1]), percent with 3' truncation\n",
    "# Percent of those covering 3' are full length\n"
   ]
  },
  {
   "cell_type": "code",
   "execution_count": null,
   "metadata": {},
   "outputs": [],
   "source": [
    "\n"
   ]
  },
  {
   "cell_type": "code",
   "execution_count": null,
   "metadata": {},
   "outputs": [],
   "source": []
  },
  {
   "cell_type": "code",
   "execution_count": null,
   "metadata": {},
   "outputs": [],
   "source": []
  },
  {
   "cell_type": "code",
   "execution_count": 35,
   "metadata": {},
   "outputs": [],
   "source": [
    "# Variables that changes from batch to batch:\n",
    "#data_folder = 'data/pilot_exp'\n",
    "#project_folder = 'projects/pilot_exp'\n",
    "data_folder = 'data/tRNAseq_lib1'\n",
    "project_folder = 'projects/tRNAseq_lib1'\n",
    "# tRNA_database = '../../../2-align_reads/tRNA_database/hg19_mature-tRNA.fa'"
   ]
  },
  {
   "cell_type": "code",
   "execution_count": 36,
   "metadata": {},
   "outputs": [],
   "source": [
    "# Variables that should not change:\n",
    "plots_data_dir = 'plotting'\n",
    "data_dir = 'stats_collection'\n",
    "sample_list = 'sample_list.xlsx'\n",
    "stat_csv_fnam = 'stats_collection.csv.bz2'\n",
    "agg_csv_fnam = 'stats_filtered_CC-CCA-aggregate.csv'"
   ]
  },
  {
   "cell_type": "code",
   "execution_count": 37,
   "metadata": {},
   "outputs": [],
   "source": [
    "### Read sample information ###\n",
    "sample_df = pd.read_excel('../' + project_folder + '/' + sample_list)\n",
    "\n",
    "# Create folder for plots:\n",
    "os.chdir('../' + data_folder)\n",
    "plots_dir = '../../' + project_folder + '/plots'\n",
    "try:\n",
    "    os.mkdir(plots_dir) # For plots\n",
    "except:\n",
    "    shutil.rmtree(plots_dir)\n",
    "    os.mkdir(plots_dir)\n",
    "# For manipulations:\n",
    "try:\n",
    "    os.mkdir(plots_data_dir) # For data\n",
    "except:\n",
    "    shutil.rmtree(plots_data_dir)\n",
    "    os.mkdir(plots_data_dir)\n",
    "os.chdir(plots_data_dir)"
   ]
  },
  {
   "cell_type": "code",
   "execution_count": null,
   "metadata": {},
   "outputs": [],
   "source": []
  },
  {
   "cell_type": "code",
   "execution_count": null,
   "metadata": {},
   "outputs": [],
   "source": []
  },
  {
   "cell_type": "code",
   "execution_count": null,
   "metadata": {},
   "outputs": [],
   "source": []
  },
  {
   "cell_type": "code",
   "execution_count": 38,
   "metadata": {},
   "outputs": [],
   "source": [
    "### Make df for codons only\n",
    "# Collapse and average all anticodon and take the weighted average"
   ]
  },
  {
   "cell_type": "code",
   "execution_count": 39,
   "metadata": {},
   "outputs": [],
   "source": [
    "### Prepare charge dataframe ###\n",
    "\n",
    "# Skip header lines, if restarted:\n",
    "with open('../' + data_dir + '/' + agg_csv_fnam, 'r') as fh:\n",
    "    skip_list = list()\n",
    "    for idx, l in enumerate(fh):\n",
    "        if 'sample_name,replicate,barcode,tRNA_annotation' in l:\n",
    "            skip_list.append(idx)\n",
    "skip_list.pop(0)\n",
    "# Load from csv:\n",
    "df = pd.read_csv('../' + data_dir + '/' + agg_csv_fnam, skiprows=skip_list)\n",
    "header_mask = (df['count'] != 'count')\n",
    "df = df[header_mask]\n",
    "#df['count'] = [int(v) for v in df['count'].values]\n",
    "df['mito_codon'] = ['mito_tRNA' in anno for anno in df['tRNA_annotation'].values]\n",
    "df['human_codon'] = ['Homo_sapiens' in anno for anno in df['tRNA_annotation'].values]\n",
    "df['AA_codon'] = [AA + '-' + codon for codon, AA in zip(df['codon'].values, df['amino_acid'].values)]\n",
    "# Add sample sheet information:\n",
    "df = df.merge(sample_df.loc[:, ['sample_name', 'barcode', 'plot_group', 'hue_name', 'hue_value', 'hue_order']], on=['sample_name', 'barcode'])\n",
    "# Create single codon filter, to filter out sequences that map to\n",
    "# tRNA sequences with different codon/anticodon:\n",
    "single_codon = list()\n",
    "for anno_str, anticodon in zip(df['tRNA_annotation'].values, df['anticodon'].values):\n",
    "    sc = True\n",
    "    anno_list = anno_str.split('@')\n",
    "    for anno in anno_list:\n",
    "        if not anno.split('-')[2] == anticodon:\n",
    "            sc = False\n",
    "    single_codon.append(sc)\n",
    "df['single_codon'] = single_codon\n",
    "\n",
    "# Extract a dataframe for charge data:\n",
    "dfcol = df.columns.values\n",
    "col_mask = (dfcol != 'align_3p_nt') & (dfcol != 'count')\n",
    "cols_sele = dfcol[col_mask]\n",
    "df_charge = pd.DataFrame(columns=cols_sele)\n",
    "df_charge['charge'] = []\n",
    "df_charge['Ncharge'] = []\n",
    "# Count A/C endings:\n",
    "df_dict = dict()\n",
    "for row in df.iterrows():\n",
    "    key = tuple(row[1].loc[cols_sele])\n",
    "    if key in df_dict:\n",
    "        df_dict[key][row[1]['align_3p_nt']] = row[1]['count']\n",
    "    else:\n",
    "        df_dict[key] = dict()\n",
    "        df_dict[key][row[1]['align_3p_nt']] = row[1]['count']\n",
    "# Add 0 count if count is missing,\n",
    "# then calculate the charge percentage:\n",
    "for key in df_dict.keys():\n",
    "    if 'A' not in df_dict[key]:\n",
    "        df_dict[key]['A'] = 0\n",
    "    if 'C' not in df_dict[key]:\n",
    "        df_dict[key]['C'] = 0\n",
    "    \n",
    "    df_dict[key]['charge'] = df_dict[key]['A'] / (df_dict[key]['A'] + df_dict[key]['C']) * 100\n",
    "    df_dict[key]['Ncharge'] = (df_dict[key]['A'] + df_dict[key]['C'])\n",
    "\n",
    "# Use a tmp file to write charge\n",
    "# and total counts for the row (Ncharge),\n",
    "# then load into dataframe:\n",
    "try:\n",
    "    os.remove('tmp_df.csv')\n",
    "except:\n",
    "    pass\n",
    "with open('tmp_df.csv', 'a') as fh_csv:\n",
    "    df_charge.to_csv(fh_csv, header=True, index=False)\n",
    "    for i, key in enumerate(df_dict.keys()):\n",
    "        row = list(key)\n",
    "        row.append(df_dict[key]['charge'])\n",
    "        row.append(df_dict[key]['Ncharge'])\n",
    "        # df_charge.loc[i] = row # Too slow\n",
    "        print(','.join(map(str, row)), file=fh_csv)\n",
    "df_charge = pd.read_csv('tmp_df.csv')\n",
    "os.remove('tmp_df.csv')\n",
    "\n",
    "# Generate a normalized charge by using the\n",
    "# E.coli Lys tRNA spike-in.\n",
    "# This is supposed to correct some of the barcode ligation bias\n",
    "# leading to more or less CC vs. CCA:\n",
    "barcodes = set(df_charge['barcode'].values)\n",
    "charge_norm = dict()\n",
    "for barcode in barcodes:\n",
    "    bar_mask = (df_charge['barcode'] == barcode)\n",
    "    eColi_mask = (df_charge['amino_acid'] == 'eColiLys')\n",
    "    eColi_charge = df_charge[bar_mask&eColi_mask]['charge'].values.mean()\n",
    "    charge_norm[barcode] = eColi_charge\n",
    "max_charge = max(charge_norm.values())\n",
    "for barcode in barcodes:\n",
    "    charge_norm[barcode] = max_charge / charge_norm[barcode]\n",
    "df_charge['charge_norm'] = [0] * len(df_charge)\n",
    "for barcode in barcodes:\n",
    "    bar_mask = (df_charge['barcode'] == barcode)\n",
    "    df_charge.loc[bar_mask, 'charge_norm'] = df_charge.loc[bar_mask, 'charge'] * charge_norm[barcode]"
   ]
  },
  {
   "cell_type": "code",
   "execution_count": null,
   "metadata": {},
   "outputs": [],
   "source": []
  },
  {
   "cell_type": "code",
   "execution_count": 40,
   "metadata": {},
   "outputs": [
    {
     "name": "stderr",
     "output_type": "stream",
     "text": [
      "/tmp/ipykernel_8511/1264222201.py:14: RuntimeWarning: More than 20 figures have been opened. Figures created through the pyplot interface (`matplotlib.pyplot.figure`) are retained until explicitly closed and may consume too much memory. (To control this warning, see the rcParam `figure.max_open_warning`).\n",
      "  fig = plt.figure(figsize=(20, 9))\n"
     ]
    },
    {
     "data": {
      "text/plain": [
       "<Figure size 1440x648 with 0 Axes>"
      ]
     },
     "metadata": {},
     "output_type": "display_data"
    },
    {
     "data": {
      "text/plain": [
       "<Figure size 2880x720 with 0 Axes>"
      ]
     },
     "metadata": {},
     "output_type": "display_data"
    },
    {
     "data": {
      "text/plain": [
       "<Figure size 1440x648 with 0 Axes>"
      ]
     },
     "metadata": {},
     "output_type": "display_data"
    },
    {
     "data": {
      "text/plain": [
       "<Figure size 2880x720 with 0 Axes>"
      ]
     },
     "metadata": {},
     "output_type": "display_data"
    },
    {
     "data": {
      "text/plain": [
       "<Figure size 1440x648 with 0 Axes>"
      ]
     },
     "metadata": {},
     "output_type": "display_data"
    },
    {
     "data": {
      "text/plain": [
       "<Figure size 2880x720 with 0 Axes>"
      ]
     },
     "metadata": {},
     "output_type": "display_data"
    },
    {
     "data": {
      "text/plain": [
       "<Figure size 1440x648 with 0 Axes>"
      ]
     },
     "metadata": {},
     "output_type": "display_data"
    },
    {
     "data": {
      "text/plain": [
       "<Figure size 2880x720 with 0 Axes>"
      ]
     },
     "metadata": {},
     "output_type": "display_data"
    },
    {
     "data": {
      "text/plain": [
       "<Figure size 1440x648 with 0 Axes>"
      ]
     },
     "metadata": {},
     "output_type": "display_data"
    },
    {
     "data": {
      "text/plain": [
       "<Figure size 2880x720 with 0 Axes>"
      ]
     },
     "metadata": {},
     "output_type": "display_data"
    },
    {
     "data": {
      "text/plain": [
       "<Figure size 1440x648 with 0 Axes>"
      ]
     },
     "metadata": {},
     "output_type": "display_data"
    },
    {
     "data": {
      "text/plain": [
       "<Figure size 2880x720 with 0 Axes>"
      ]
     },
     "metadata": {},
     "output_type": "display_data"
    },
    {
     "data": {
      "text/plain": [
       "<Figure size 1440x648 with 0 Axes>"
      ]
     },
     "metadata": {},
     "output_type": "display_data"
    },
    {
     "data": {
      "text/plain": [
       "<Figure size 2880x720 with 0 Axes>"
      ]
     },
     "metadata": {},
     "output_type": "display_data"
    },
    {
     "data": {
      "text/plain": [
       "<Figure size 1440x648 with 0 Axes>"
      ]
     },
     "metadata": {},
     "output_type": "display_data"
    },
    {
     "data": {
      "text/plain": [
       "<Figure size 2880x720 with 0 Axes>"
      ]
     },
     "metadata": {},
     "output_type": "display_data"
    },
    {
     "data": {
      "text/plain": [
       "<Figure size 1440x648 with 0 Axes>"
      ]
     },
     "metadata": {},
     "output_type": "display_data"
    },
    {
     "data": {
      "text/plain": [
       "<Figure size 2880x720 with 0 Axes>"
      ]
     },
     "metadata": {},
     "output_type": "display_data"
    },
    {
     "data": {
      "text/plain": [
       "<Figure size 1440x648 with 0 Axes>"
      ]
     },
     "metadata": {},
     "output_type": "display_data"
    },
    {
     "data": {
      "text/plain": [
       "<Figure size 2880x720 with 0 Axes>"
      ]
     },
     "metadata": {},
     "output_type": "display_data"
    },
    {
     "data": {
      "text/plain": [
       "<Figure size 1440x648 with 0 Axes>"
      ]
     },
     "metadata": {},
     "output_type": "display_data"
    },
    {
     "data": {
      "text/plain": [
       "<Figure size 2880x720 with 0 Axes>"
      ]
     },
     "metadata": {},
     "output_type": "display_data"
    },
    {
     "data": {
      "text/plain": [
       "<Figure size 1440x648 with 0 Axes>"
      ]
     },
     "metadata": {},
     "output_type": "display_data"
    },
    {
     "data": {
      "text/plain": [
       "<Figure size 2880x720 with 0 Axes>"
      ]
     },
     "metadata": {},
     "output_type": "display_data"
    },
    {
     "data": {
      "text/plain": [
       "<Figure size 1440x648 with 0 Axes>"
      ]
     },
     "metadata": {},
     "output_type": "display_data"
    },
    {
     "data": {
      "text/plain": [
       "<Figure size 2880x720 with 0 Axes>"
      ]
     },
     "metadata": {},
     "output_type": "display_data"
    },
    {
     "data": {
      "text/plain": [
       "<Figure size 1440x648 with 0 Axes>"
      ]
     },
     "metadata": {},
     "output_type": "display_data"
    },
    {
     "data": {
      "text/plain": [
       "<Figure size 2880x720 with 0 Axes>"
      ]
     },
     "metadata": {},
     "output_type": "display_data"
    },
    {
     "data": {
      "text/plain": [
       "<Figure size 1440x648 with 0 Axes>"
      ]
     },
     "metadata": {},
     "output_type": "display_data"
    },
    {
     "data": {
      "text/plain": [
       "<Figure size 2880x720 with 0 Axes>"
      ]
     },
     "metadata": {},
     "output_type": "display_data"
    },
    {
     "data": {
      "text/plain": [
       "<Figure size 1440x648 with 0 Axes>"
      ]
     },
     "metadata": {},
     "output_type": "display_data"
    },
    {
     "data": {
      "text/plain": [
       "<Figure size 2880x720 with 0 Axes>"
      ]
     },
     "metadata": {},
     "output_type": "display_data"
    },
    {
     "data": {
      "text/plain": [
       "<Figure size 1440x648 with 0 Axes>"
      ]
     },
     "metadata": {},
     "output_type": "display_data"
    },
    {
     "data": {
      "text/plain": [
       "<Figure size 2880x720 with 0 Axes>"
      ]
     },
     "metadata": {},
     "output_type": "display_data"
    },
    {
     "data": {
      "text/plain": [
       "<Figure size 1440x648 with 0 Axes>"
      ]
     },
     "metadata": {},
     "output_type": "display_data"
    },
    {
     "data": {
      "text/plain": [
       "<Figure size 2880x720 with 0 Axes>"
      ]
     },
     "metadata": {},
     "output_type": "display_data"
    },
    {
     "data": {
      "text/plain": [
       "<Figure size 1440x648 with 0 Axes>"
      ]
     },
     "metadata": {},
     "output_type": "display_data"
    },
    {
     "data": {
      "text/plain": [
       "<Figure size 2880x720 with 0 Axes>"
      ]
     },
     "metadata": {},
     "output_type": "display_data"
    },
    {
     "data": {
      "text/plain": [
       "<Figure size 1440x648 with 0 Axes>"
      ]
     },
     "metadata": {},
     "output_type": "display_data"
    },
    {
     "data": {
      "text/plain": [
       "<Figure size 2880x720 with 0 Axes>"
      ]
     },
     "metadata": {},
     "output_type": "display_data"
    },
    {
     "data": {
      "text/plain": [
       "<Figure size 1440x648 with 0 Axes>"
      ]
     },
     "metadata": {},
     "output_type": "display_data"
    },
    {
     "data": {
      "text/plain": [
       "<Figure size 2880x720 with 0 Axes>"
      ]
     },
     "metadata": {},
     "output_type": "display_data"
    },
    {
     "data": {
      "text/plain": [
       "<Figure size 1440x648 with 0 Axes>"
      ]
     },
     "metadata": {},
     "output_type": "display_data"
    },
    {
     "data": {
      "text/plain": [
       "<Figure size 2880x720 with 0 Axes>"
      ]
     },
     "metadata": {},
     "output_type": "display_data"
    },
    {
     "data": {
      "text/plain": [
       "<Figure size 1440x648 with 0 Axes>"
      ]
     },
     "metadata": {},
     "output_type": "display_data"
    },
    {
     "data": {
      "text/plain": [
       "<Figure size 2880x720 with 0 Axes>"
      ]
     },
     "metadata": {},
     "output_type": "display_data"
    },
    {
     "data": {
      "text/plain": [
       "<Figure size 1440x648 with 0 Axes>"
      ]
     },
     "metadata": {},
     "output_type": "display_data"
    },
    {
     "data": {
      "text/plain": [
       "<Figure size 2880x720 with 0 Axes>"
      ]
     },
     "metadata": {},
     "output_type": "display_data"
    },
    {
     "data": {
      "text/plain": [
       "<Figure size 1440x648 with 0 Axes>"
      ]
     },
     "metadata": {},
     "output_type": "display_data"
    },
    {
     "data": {
      "text/plain": [
       "<Figure size 2880x720 with 0 Axes>"
      ]
     },
     "metadata": {},
     "output_type": "display_data"
    },
    {
     "data": {
      "text/plain": [
       "<Figure size 1440x648 with 0 Axes>"
      ]
     },
     "metadata": {},
     "output_type": "display_data"
    },
    {
     "data": {
      "text/plain": [
       "<Figure size 2880x720 with 0 Axes>"
      ]
     },
     "metadata": {},
     "output_type": "display_data"
    },
    {
     "data": {
      "text/plain": [
       "<Figure size 1440x648 with 0 Axes>"
      ]
     },
     "metadata": {},
     "output_type": "display_data"
    },
    {
     "data": {
      "text/plain": [
       "<Figure size 2880x720 with 0 Axes>"
      ]
     },
     "metadata": {},
     "output_type": "display_data"
    },
    {
     "data": {
      "text/plain": [
       "<Figure size 1440x648 with 0 Axes>"
      ]
     },
     "metadata": {},
     "output_type": "display_data"
    },
    {
     "data": {
      "text/plain": [
       "<Figure size 2880x720 with 0 Axes>"
      ]
     },
     "metadata": {},
     "output_type": "display_data"
    },
    {
     "data": {
      "text/plain": [
       "<Figure size 1440x648 with 0 Axes>"
      ]
     },
     "metadata": {},
     "output_type": "display_data"
    },
    {
     "data": {
      "text/plain": [
       "<Figure size 2880x720 with 0 Axes>"
      ]
     },
     "metadata": {},
     "output_type": "display_data"
    },
    {
     "data": {
      "text/plain": [
       "<Figure size 1440x648 with 0 Axes>"
      ]
     },
     "metadata": {},
     "output_type": "display_data"
    },
    {
     "data": {
      "text/plain": [
       "<Figure size 2880x720 with 0 Axes>"
      ]
     },
     "metadata": {},
     "output_type": "display_data"
    },
    {
     "data": {
      "text/plain": [
       "<Figure size 1440x648 with 0 Axes>"
      ]
     },
     "metadata": {},
     "output_type": "display_data"
    },
    {
     "data": {
      "text/plain": [
       "<Figure size 2880x720 with 0 Axes>"
      ]
     },
     "metadata": {},
     "output_type": "display_data"
    },
    {
     "data": {
      "text/plain": [
       "<Figure size 1440x648 with 0 Axes>"
      ]
     },
     "metadata": {},
     "output_type": "display_data"
    },
    {
     "data": {
      "text/plain": [
       "<Figure size 2880x720 with 0 Axes>"
      ]
     },
     "metadata": {},
     "output_type": "display_data"
    },
    {
     "data": {
      "text/plain": [
       "<Figure size 1440x648 with 0 Axes>"
      ]
     },
     "metadata": {},
     "output_type": "display_data"
    },
    {
     "data": {
      "text/plain": [
       "<Figure size 2880x720 with 0 Axes>"
      ]
     },
     "metadata": {},
     "output_type": "display_data"
    },
    {
     "data": {
      "text/plain": [
       "<Figure size 1440x648 with 0 Axes>"
      ]
     },
     "metadata": {},
     "output_type": "display_data"
    },
    {
     "data": {
      "text/plain": [
       "<Figure size 2880x720 with 0 Axes>"
      ]
     },
     "metadata": {},
     "output_type": "display_data"
    },
    {
     "data": {
      "text/plain": [
       "<Figure size 1440x648 with 0 Axes>"
      ]
     },
     "metadata": {},
     "output_type": "display_data"
    },
    {
     "data": {
      "text/plain": [
       "<Figure size 2880x720 with 0 Axes>"
      ]
     },
     "metadata": {},
     "output_type": "display_data"
    },
    {
     "data": {
      "text/plain": [
       "<Figure size 1440x648 with 0 Axes>"
      ]
     },
     "metadata": {},
     "output_type": "display_data"
    },
    {
     "data": {
      "text/plain": [
       "<Figure size 2880x720 with 0 Axes>"
      ]
     },
     "metadata": {},
     "output_type": "display_data"
    },
    {
     "data": {
      "text/plain": [
       "<Figure size 1440x648 with 0 Axes>"
      ]
     },
     "metadata": {},
     "output_type": "display_data"
    },
    {
     "data": {
      "text/plain": [
       "<Figure size 2880x720 with 0 Axes>"
      ]
     },
     "metadata": {},
     "output_type": "display_data"
    },
    {
     "data": {
      "text/plain": [
       "<Figure size 1440x648 with 0 Axes>"
      ]
     },
     "metadata": {},
     "output_type": "display_data"
    },
    {
     "data": {
      "text/plain": [
       "<Figure size 2880x720 with 0 Axes>"
      ]
     },
     "metadata": {},
     "output_type": "display_data"
    },
    {
     "data": {
      "text/plain": [
       "<Figure size 1440x648 with 0 Axes>"
      ]
     },
     "metadata": {},
     "output_type": "display_data"
    },
    {
     "data": {
      "text/plain": [
       "<Figure size 2880x720 with 0 Axes>"
      ]
     },
     "metadata": {},
     "output_type": "display_data"
    },
    {
     "data": {
      "text/plain": [
       "<Figure size 1440x648 with 0 Axes>"
      ]
     },
     "metadata": {},
     "output_type": "display_data"
    },
    {
     "data": {
      "text/plain": [
       "<Figure size 2880x720 with 0 Axes>"
      ]
     },
     "metadata": {},
     "output_type": "display_data"
    },
    {
     "data": {
      "text/plain": [
       "<Figure size 1440x648 with 0 Axes>"
      ]
     },
     "metadata": {},
     "output_type": "display_data"
    },
    {
     "data": {
      "text/plain": [
       "<Figure size 2880x720 with 0 Axes>"
      ]
     },
     "metadata": {},
     "output_type": "display_data"
    },
    {
     "data": {
      "text/plain": [
       "<Figure size 1440x648 with 0 Axes>"
      ]
     },
     "metadata": {},
     "output_type": "display_data"
    },
    {
     "data": {
      "text/plain": [
       "<Figure size 2880x720 with 0 Axes>"
      ]
     },
     "metadata": {},
     "output_type": "display_data"
    },
    {
     "data": {
      "text/plain": [
       "<Figure size 1440x648 with 0 Axes>"
      ]
     },
     "metadata": {},
     "output_type": "display_data"
    },
    {
     "data": {
      "text/plain": [
       "<Figure size 2880x720 with 0 Axes>"
      ]
     },
     "metadata": {},
     "output_type": "display_data"
    },
    {
     "data": {
      "text/plain": [
       "<Figure size 1440x648 with 0 Axes>"
      ]
     },
     "metadata": {},
     "output_type": "display_data"
    },
    {
     "data": {
      "text/plain": [
       "<Figure size 2880x720 with 0 Axes>"
      ]
     },
     "metadata": {},
     "output_type": "display_data"
    },
    {
     "data": {
      "text/plain": [
       "<Figure size 1440x648 with 0 Axes>"
      ]
     },
     "metadata": {},
     "output_type": "display_data"
    },
    {
     "data": {
      "text/plain": [
       "<Figure size 2880x720 with 0 Axes>"
      ]
     },
     "metadata": {},
     "output_type": "display_data"
    },
    {
     "data": {
      "text/plain": [
       "<Figure size 1440x648 with 0 Axes>"
      ]
     },
     "metadata": {},
     "output_type": "display_data"
    },
    {
     "data": {
      "text/plain": [
       "<Figure size 2880x720 with 0 Axes>"
      ]
     },
     "metadata": {},
     "output_type": "display_data"
    },
    {
     "data": {
      "text/plain": [
       "<Figure size 1440x648 with 0 Axes>"
      ]
     },
     "metadata": {},
     "output_type": "display_data"
    },
    {
     "data": {
      "text/plain": [
       "<Figure size 2880x720 with 0 Axes>"
      ]
     },
     "metadata": {},
     "output_type": "display_data"
    },
    {
     "data": {
      "text/plain": [
       "<Figure size 1440x648 with 0 Axes>"
      ]
     },
     "metadata": {},
     "output_type": "display_data"
    },
    {
     "data": {
      "text/plain": [
       "<Figure size 2880x720 with 0 Axes>"
      ]
     },
     "metadata": {},
     "output_type": "display_data"
    },
    {
     "data": {
      "text/plain": [
       "<Figure size 1440x648 with 0 Axes>"
      ]
     },
     "metadata": {},
     "output_type": "display_data"
    },
    {
     "data": {
      "text/plain": [
       "<Figure size 2880x720 with 0 Axes>"
      ]
     },
     "metadata": {},
     "output_type": "display_data"
    },
    {
     "data": {
      "text/plain": [
       "<Figure size 1440x648 with 0 Axes>"
      ]
     },
     "metadata": {},
     "output_type": "display_data"
    },
    {
     "data": {
      "text/plain": [
       "<Figure size 2880x720 with 0 Axes>"
      ]
     },
     "metadata": {},
     "output_type": "display_data"
    },
    {
     "data": {
      "text/plain": [
       "<Figure size 1440x648 with 0 Axes>"
      ]
     },
     "metadata": {},
     "output_type": "display_data"
    },
    {
     "data": {
      "text/plain": [
       "<Figure size 2880x720 with 0 Axes>"
      ]
     },
     "metadata": {},
     "output_type": "display_data"
    },
    {
     "data": {
      "text/plain": [
       "<Figure size 1440x648 with 0 Axes>"
      ]
     },
     "metadata": {},
     "output_type": "display_data"
    },
    {
     "data": {
      "text/plain": [
       "<Figure size 2880x720 with 0 Axes>"
      ]
     },
     "metadata": {},
     "output_type": "display_data"
    },
    {
     "data": {
      "text/plain": [
       "<Figure size 1440x648 with 0 Axes>"
      ]
     },
     "metadata": {},
     "output_type": "display_data"
    },
    {
     "data": {
      "text/plain": [
       "<Figure size 2880x720 with 0 Axes>"
      ]
     },
     "metadata": {},
     "output_type": "display_data"
    },
    {
     "data": {
      "text/plain": [
       "<Figure size 1440x648 with 0 Axes>"
      ]
     },
     "metadata": {},
     "output_type": "display_data"
    },
    {
     "data": {
      "text/plain": [
       "<Figure size 2880x720 with 0 Axes>"
      ]
     },
     "metadata": {},
     "output_type": "display_data"
    },
    {
     "data": {
      "text/plain": [
       "<Figure size 1440x648 with 0 Axes>"
      ]
     },
     "metadata": {},
     "output_type": "display_data"
    },
    {
     "data": {
      "text/plain": [
       "<Figure size 2880x720 with 0 Axes>"
      ]
     },
     "metadata": {},
     "output_type": "display_data"
    },
    {
     "data": {
      "text/plain": [
       "<Figure size 2880x648 with 0 Axes>"
      ]
     },
     "metadata": {},
     "output_type": "display_data"
    },
    {
     "data": {
      "text/plain": [
       "<Figure size 504x360 with 0 Axes>"
      ]
     },
     "metadata": {},
     "output_type": "display_data"
    },
    {
     "data": {
      "text/plain": [
       "<Figure size 1440x648 with 0 Axes>"
      ]
     },
     "metadata": {},
     "output_type": "display_data"
    },
    {
     "data": {
      "text/plain": [
       "<Figure size 2880x720 with 0 Axes>"
      ]
     },
     "metadata": {},
     "output_type": "display_data"
    },
    {
     "data": {
      "text/plain": [
       "<Figure size 1440x648 with 0 Axes>"
      ]
     },
     "metadata": {},
     "output_type": "display_data"
    },
    {
     "data": {
      "text/plain": [
       "<Figure size 2880x720 with 0 Axes>"
      ]
     },
     "metadata": {},
     "output_type": "display_data"
    },
    {
     "data": {
      "text/plain": [
       "<Figure size 1440x648 with 0 Axes>"
      ]
     },
     "metadata": {},
     "output_type": "display_data"
    },
    {
     "data": {
      "text/plain": [
       "<Figure size 2880x720 with 0 Axes>"
      ]
     },
     "metadata": {},
     "output_type": "display_data"
    },
    {
     "data": {
      "text/plain": [
       "<Figure size 1440x648 with 0 Axes>"
      ]
     },
     "metadata": {},
     "output_type": "display_data"
    },
    {
     "data": {
      "text/plain": [
       "<Figure size 2880x720 with 0 Axes>"
      ]
     },
     "metadata": {},
     "output_type": "display_data"
    },
    {
     "data": {
      "text/plain": [
       "<Figure size 1440x648 with 0 Axes>"
      ]
     },
     "metadata": {},
     "output_type": "display_data"
    },
    {
     "data": {
      "text/plain": [
       "<Figure size 2880x720 with 0 Axes>"
      ]
     },
     "metadata": {},
     "output_type": "display_data"
    },
    {
     "data": {
      "text/plain": [
       "<Figure size 1440x648 with 0 Axes>"
      ]
     },
     "metadata": {},
     "output_type": "display_data"
    },
    {
     "data": {
      "text/plain": [
       "<Figure size 2880x720 with 0 Axes>"
      ]
     },
     "metadata": {},
     "output_type": "display_data"
    },
    {
     "data": {
      "text/plain": [
       "<Figure size 1440x648 with 0 Axes>"
      ]
     },
     "metadata": {},
     "output_type": "display_data"
    },
    {
     "data": {
      "text/plain": [
       "<Figure size 2880x720 with 0 Axes>"
      ]
     },
     "metadata": {},
     "output_type": "display_data"
    },
    {
     "data": {
      "text/plain": [
       "<Figure size 1440x648 with 0 Axes>"
      ]
     },
     "metadata": {},
     "output_type": "display_data"
    },
    {
     "data": {
      "text/plain": [
       "<Figure size 2880x720 with 0 Axes>"
      ]
     },
     "metadata": {},
     "output_type": "display_data"
    },
    {
     "data": {
      "text/plain": [
       "<Figure size 1440x648 with 0 Axes>"
      ]
     },
     "metadata": {},
     "output_type": "display_data"
    },
    {
     "data": {
      "text/plain": [
       "<Figure size 2880x720 with 0 Axes>"
      ]
     },
     "metadata": {},
     "output_type": "display_data"
    },
    {
     "data": {
      "text/plain": [
       "<Figure size 1440x648 with 0 Axes>"
      ]
     },
     "metadata": {},
     "output_type": "display_data"
    },
    {
     "data": {
      "text/plain": [
       "<Figure size 2880x720 with 0 Axes>"
      ]
     },
     "metadata": {},
     "output_type": "display_data"
    },
    {
     "data": {
      "text/plain": [
       "<Figure size 1440x648 with 0 Axes>"
      ]
     },
     "metadata": {},
     "output_type": "display_data"
    },
    {
     "data": {
      "text/plain": [
       "<Figure size 2880x720 with 0 Axes>"
      ]
     },
     "metadata": {},
     "output_type": "display_data"
    },
    {
     "data": {
      "text/plain": [
       "<Figure size 1440x648 with 0 Axes>"
      ]
     },
     "metadata": {},
     "output_type": "display_data"
    },
    {
     "data": {
      "text/plain": [
       "<Figure size 2880x720 with 0 Axes>"
      ]
     },
     "metadata": {},
     "output_type": "display_data"
    },
    {
     "data": {
      "text/plain": [
       "<Figure size 1440x648 with 0 Axes>"
      ]
     },
     "metadata": {},
     "output_type": "display_data"
    },
    {
     "data": {
      "text/plain": [
       "<Figure size 2880x720 with 0 Axes>"
      ]
     },
     "metadata": {},
     "output_type": "display_data"
    },
    {
     "data": {
      "text/plain": [
       "<Figure size 1440x648 with 0 Axes>"
      ]
     },
     "metadata": {},
     "output_type": "display_data"
    },
    {
     "data": {
      "text/plain": [
       "<Figure size 2880x720 with 0 Axes>"
      ]
     },
     "metadata": {},
     "output_type": "display_data"
    },
    {
     "data": {
      "text/plain": [
       "<Figure size 1440x648 with 0 Axes>"
      ]
     },
     "metadata": {},
     "output_type": "display_data"
    },
    {
     "data": {
      "text/plain": [
       "<Figure size 2880x720 with 0 Axes>"
      ]
     },
     "metadata": {},
     "output_type": "display_data"
    },
    {
     "data": {
      "text/plain": [
       "<Figure size 1440x648 with 0 Axes>"
      ]
     },
     "metadata": {},
     "output_type": "display_data"
    },
    {
     "data": {
      "text/plain": [
       "<Figure size 2880x720 with 0 Axes>"
      ]
     },
     "metadata": {},
     "output_type": "display_data"
    },
    {
     "data": {
      "text/plain": [
       "<Figure size 1440x648 with 0 Axes>"
      ]
     },
     "metadata": {},
     "output_type": "display_data"
    },
    {
     "data": {
      "text/plain": [
       "<Figure size 2880x720 with 0 Axes>"
      ]
     },
     "metadata": {},
     "output_type": "display_data"
    },
    {
     "data": {
      "text/plain": [
       "<Figure size 1440x648 with 0 Axes>"
      ]
     },
     "metadata": {},
     "output_type": "display_data"
    },
    {
     "data": {
      "text/plain": [
       "<Figure size 2880x720 with 0 Axes>"
      ]
     },
     "metadata": {},
     "output_type": "display_data"
    },
    {
     "data": {
      "text/plain": [
       "<Figure size 1440x648 with 0 Axes>"
      ]
     },
     "metadata": {},
     "output_type": "display_data"
    },
    {
     "data": {
      "text/plain": [
       "<Figure size 2880x720 with 0 Axes>"
      ]
     },
     "metadata": {},
     "output_type": "display_data"
    },
    {
     "data": {
      "text/plain": [
       "<Figure size 1440x648 with 0 Axes>"
      ]
     },
     "metadata": {},
     "output_type": "display_data"
    },
    {
     "data": {
      "text/plain": [
       "<Figure size 2880x720 with 0 Axes>"
      ]
     },
     "metadata": {},
     "output_type": "display_data"
    },
    {
     "data": {
      "text/plain": [
       "<Figure size 1440x648 with 0 Axes>"
      ]
     },
     "metadata": {},
     "output_type": "display_data"
    },
    {
     "data": {
      "text/plain": [
       "<Figure size 2880x720 with 0 Axes>"
      ]
     },
     "metadata": {},
     "output_type": "display_data"
    },
    {
     "data": {
      "text/plain": [
       "<Figure size 1440x648 with 0 Axes>"
      ]
     },
     "metadata": {},
     "output_type": "display_data"
    },
    {
     "data": {
      "text/plain": [
       "<Figure size 2880x720 with 0 Axes>"
      ]
     },
     "metadata": {},
     "output_type": "display_data"
    },
    {
     "data": {
      "text/plain": [
       "<Figure size 1440x648 with 0 Axes>"
      ]
     },
     "metadata": {},
     "output_type": "display_data"
    },
    {
     "data": {
      "text/plain": [
       "<Figure size 2880x720 with 0 Axes>"
      ]
     },
     "metadata": {},
     "output_type": "display_data"
    },
    {
     "data": {
      "text/plain": [
       "<Figure size 1440x648 with 0 Axes>"
      ]
     },
     "metadata": {},
     "output_type": "display_data"
    },
    {
     "data": {
      "text/plain": [
       "<Figure size 2880x720 with 0 Axes>"
      ]
     },
     "metadata": {},
     "output_type": "display_data"
    },
    {
     "data": {
      "text/plain": [
       "<Figure size 1440x648 with 0 Axes>"
      ]
     },
     "metadata": {},
     "output_type": "display_data"
    },
    {
     "data": {
      "text/plain": [
       "<Figure size 2880x720 with 0 Axes>"
      ]
     },
     "metadata": {},
     "output_type": "display_data"
    },
    {
     "data": {
      "text/plain": [
       "<Figure size 1440x648 with 0 Axes>"
      ]
     },
     "metadata": {},
     "output_type": "display_data"
    },
    {
     "data": {
      "text/plain": [
       "<Figure size 2880x720 with 0 Axes>"
      ]
     },
     "metadata": {},
     "output_type": "display_data"
    },
    {
     "data": {
      "text/plain": [
       "<Figure size 1440x648 with 0 Axes>"
      ]
     },
     "metadata": {},
     "output_type": "display_data"
    },
    {
     "data": {
      "text/plain": [
       "<Figure size 2880x720 with 0 Axes>"
      ]
     },
     "metadata": {},
     "output_type": "display_data"
    },
    {
     "data": {
      "text/plain": [
       "<Figure size 1440x648 with 0 Axes>"
      ]
     },
     "metadata": {},
     "output_type": "display_data"
    },
    {
     "data": {
      "text/plain": [
       "<Figure size 2880x720 with 0 Axes>"
      ]
     },
     "metadata": {},
     "output_type": "display_data"
    },
    {
     "data": {
      "text/plain": [
       "<Figure size 1440x648 with 0 Axes>"
      ]
     },
     "metadata": {},
     "output_type": "display_data"
    },
    {
     "data": {
      "text/plain": [
       "<Figure size 2880x720 with 0 Axes>"
      ]
     },
     "metadata": {},
     "output_type": "display_data"
    },
    {
     "data": {
      "text/plain": [
       "<Figure size 1440x648 with 0 Axes>"
      ]
     },
     "metadata": {},
     "output_type": "display_data"
    },
    {
     "data": {
      "text/plain": [
       "<Figure size 2880x720 with 0 Axes>"
      ]
     },
     "metadata": {},
     "output_type": "display_data"
    },
    {
     "data": {
      "text/plain": [
       "<Figure size 1440x648 with 0 Axes>"
      ]
     },
     "metadata": {},
     "output_type": "display_data"
    },
    {
     "data": {
      "text/plain": [
       "<Figure size 2880x720 with 0 Axes>"
      ]
     },
     "metadata": {},
     "output_type": "display_data"
    },
    {
     "data": {
      "text/plain": [
       "<Figure size 1440x648 with 0 Axes>"
      ]
     },
     "metadata": {},
     "output_type": "display_data"
    },
    {
     "data": {
      "text/plain": [
       "<Figure size 2880x720 with 0 Axes>"
      ]
     },
     "metadata": {},
     "output_type": "display_data"
    },
    {
     "data": {
      "text/plain": [
       "<Figure size 1440x648 with 0 Axes>"
      ]
     },
     "metadata": {},
     "output_type": "display_data"
    },
    {
     "data": {
      "text/plain": [
       "<Figure size 2880x720 with 0 Axes>"
      ]
     },
     "metadata": {},
     "output_type": "display_data"
    },
    {
     "data": {
      "text/plain": [
       "<Figure size 1440x648 with 0 Axes>"
      ]
     },
     "metadata": {},
     "output_type": "display_data"
    },
    {
     "data": {
      "text/plain": [
       "<Figure size 2880x720 with 0 Axes>"
      ]
     },
     "metadata": {},
     "output_type": "display_data"
    },
    {
     "data": {
      "text/plain": [
       "<Figure size 1440x648 with 0 Axes>"
      ]
     },
     "metadata": {},
     "output_type": "display_data"
    },
    {
     "data": {
      "text/plain": [
       "<Figure size 2880x720 with 0 Axes>"
      ]
     },
     "metadata": {},
     "output_type": "display_data"
    },
    {
     "data": {
      "text/plain": [
       "<Figure size 1440x648 with 0 Axes>"
      ]
     },
     "metadata": {},
     "output_type": "display_data"
    },
    {
     "data": {
      "text/plain": [
       "<Figure size 2880x720 with 0 Axes>"
      ]
     },
     "metadata": {},
     "output_type": "display_data"
    },
    {
     "data": {
      "text/plain": [
       "<Figure size 1440x648 with 0 Axes>"
      ]
     },
     "metadata": {},
     "output_type": "display_data"
    },
    {
     "data": {
      "text/plain": [
       "<Figure size 2880x720 with 0 Axes>"
      ]
     },
     "metadata": {},
     "output_type": "display_data"
    },
    {
     "data": {
      "text/plain": [
       "<Figure size 1440x648 with 0 Axes>"
      ]
     },
     "metadata": {},
     "output_type": "display_data"
    },
    {
     "data": {
      "text/plain": [
       "<Figure size 2880x720 with 0 Axes>"
      ]
     },
     "metadata": {},
     "output_type": "display_data"
    },
    {
     "data": {
      "text/plain": [
       "<Figure size 1440x648 with 0 Axes>"
      ]
     },
     "metadata": {},
     "output_type": "display_data"
    },
    {
     "data": {
      "text/plain": [
       "<Figure size 2880x720 with 0 Axes>"
      ]
     },
     "metadata": {},
     "output_type": "display_data"
    },
    {
     "data": {
      "text/plain": [
       "<Figure size 1440x648 with 0 Axes>"
      ]
     },
     "metadata": {},
     "output_type": "display_data"
    },
    {
     "data": {
      "text/plain": [
       "<Figure size 2880x720 with 0 Axes>"
      ]
     },
     "metadata": {},
     "output_type": "display_data"
    },
    {
     "data": {
      "text/plain": [
       "<Figure size 1440x648 with 0 Axes>"
      ]
     },
     "metadata": {},
     "output_type": "display_data"
    },
    {
     "data": {
      "text/plain": [
       "<Figure size 2880x720 with 0 Axes>"
      ]
     },
     "metadata": {},
     "output_type": "display_data"
    },
    {
     "data": {
      "text/plain": [
       "<Figure size 1440x648 with 0 Axes>"
      ]
     },
     "metadata": {},
     "output_type": "display_data"
    },
    {
     "data": {
      "text/plain": [
       "<Figure size 2880x720 with 0 Axes>"
      ]
     },
     "metadata": {},
     "output_type": "display_data"
    },
    {
     "data": {
      "text/plain": [
       "<Figure size 1440x648 with 0 Axes>"
      ]
     },
     "metadata": {},
     "output_type": "display_data"
    },
    {
     "data": {
      "text/plain": [
       "<Figure size 2880x720 with 0 Axes>"
      ]
     },
     "metadata": {},
     "output_type": "display_data"
    },
    {
     "data": {
      "text/plain": [
       "<Figure size 1440x648 with 0 Axes>"
      ]
     },
     "metadata": {},
     "output_type": "display_data"
    },
    {
     "data": {
      "text/plain": [
       "<Figure size 2880x720 with 0 Axes>"
      ]
     },
     "metadata": {},
     "output_type": "display_data"
    },
    {
     "data": {
      "text/plain": [
       "<Figure size 1440x648 with 0 Axes>"
      ]
     },
     "metadata": {},
     "output_type": "display_data"
    },
    {
     "data": {
      "text/plain": [
       "<Figure size 2880x720 with 0 Axes>"
      ]
     },
     "metadata": {},
     "output_type": "display_data"
    },
    {
     "data": {
      "text/plain": [
       "<Figure size 1440x648 with 0 Axes>"
      ]
     },
     "metadata": {},
     "output_type": "display_data"
    },
    {
     "data": {
      "text/plain": [
       "<Figure size 2880x720 with 0 Axes>"
      ]
     },
     "metadata": {},
     "output_type": "display_data"
    },
    {
     "data": {
      "text/plain": [
       "<Figure size 1440x648 with 0 Axes>"
      ]
     },
     "metadata": {},
     "output_type": "display_data"
    },
    {
     "data": {
      "text/plain": [
       "<Figure size 2880x720 with 0 Axes>"
      ]
     },
     "metadata": {},
     "output_type": "display_data"
    },
    {
     "data": {
      "text/plain": [
       "<Figure size 1440x648 with 0 Axes>"
      ]
     },
     "metadata": {},
     "output_type": "display_data"
    },
    {
     "data": {
      "text/plain": [
       "<Figure size 2880x720 with 0 Axes>"
      ]
     },
     "metadata": {},
     "output_type": "display_data"
    },
    {
     "data": {
      "text/plain": [
       "<Figure size 1440x648 with 0 Axes>"
      ]
     },
     "metadata": {},
     "output_type": "display_data"
    },
    {
     "data": {
      "text/plain": [
       "<Figure size 2880x720 with 0 Axes>"
      ]
     },
     "metadata": {},
     "output_type": "display_data"
    },
    {
     "data": {
      "text/plain": [
       "<Figure size 1440x648 with 0 Axes>"
      ]
     },
     "metadata": {},
     "output_type": "display_data"
    },
    {
     "data": {
      "text/plain": [
       "<Figure size 2880x720 with 0 Axes>"
      ]
     },
     "metadata": {},
     "output_type": "display_data"
    },
    {
     "data": {
      "text/plain": [
       "<Figure size 1440x648 with 0 Axes>"
      ]
     },
     "metadata": {},
     "output_type": "display_data"
    },
    {
     "data": {
      "text/plain": [
       "<Figure size 2880x720 with 0 Axes>"
      ]
     },
     "metadata": {},
     "output_type": "display_data"
    },
    {
     "data": {
      "text/plain": [
       "<Figure size 1440x648 with 0 Axes>"
      ]
     },
     "metadata": {},
     "output_type": "display_data"
    },
    {
     "data": {
      "text/plain": [
       "<Figure size 2880x720 with 0 Axes>"
      ]
     },
     "metadata": {},
     "output_type": "display_data"
    },
    {
     "data": {
      "text/plain": [
       "<Figure size 1440x648 with 0 Axes>"
      ]
     },
     "metadata": {},
     "output_type": "display_data"
    },
    {
     "data": {
      "text/plain": [
       "<Figure size 2880x720 with 0 Axes>"
      ]
     },
     "metadata": {},
     "output_type": "display_data"
    },
    {
     "data": {
      "text/plain": [
       "<Figure size 1440x648 with 0 Axes>"
      ]
     },
     "metadata": {},
     "output_type": "display_data"
    },
    {
     "data": {
      "text/plain": [
       "<Figure size 2880x720 with 0 Axes>"
      ]
     },
     "metadata": {},
     "output_type": "display_data"
    },
    {
     "data": {
      "text/plain": [
       "<Figure size 1440x648 with 0 Axes>"
      ]
     },
     "metadata": {},
     "output_type": "display_data"
    },
    {
     "data": {
      "text/plain": [
       "<Figure size 2880x720 with 0 Axes>"
      ]
     },
     "metadata": {},
     "output_type": "display_data"
    },
    {
     "data": {
      "text/plain": [
       "<Figure size 2880x648 with 0 Axes>"
      ]
     },
     "metadata": {},
     "output_type": "display_data"
    }
   ],
   "source": [
    "### Per sample charge plots ###\n",
    "\n",
    "# No normalization\n",
    "per_sample_plots_dir = 'per_sample_charge'\n",
    "try:\n",
    "    os.mkdir(per_sample_plots_dir)\n",
    "except:\n",
    "    shutil.rmtree(per_sample_plots_dir)\n",
    "    os.mkdir(per_sample_plots_dir)\n",
    "\n",
    "sample_names = set(df_charge['sample_name'].values)\n",
    "for sample_name in sample_names:\n",
    "\n",
    "    fig = plt.figure(figsize=(20, 9))\n",
    "    gs = fig.add_gridspec(2, 4)\n",
    "    ax1 = fig.add_subplot(gs[0, :])\n",
    "    ax2 = fig.add_subplot(gs[1, 1:3])\n",
    "\n",
    "    # Cyto tRNAs\n",
    "    mask = (df_charge['sample_name'] == sample_name) & (df_charge['human_codon']) & (~df_charge['mito_codon']) & (df_charge['Ncharge'] > 50) & (df_charge['single_codon'])\n",
    "    codon_list = sorted(set(df_charge['AA_codon'][mask].values), key=str.casefold)\n",
    "    g1 = sns.barplot(ax=ax1, x='AA_codon', y='charge', order=codon_list, data=df_charge[mask], capsize=.1, errwidth=2, edgecolor='black', linewidth=2, alpha=0.7)\n",
    "    g1.set_title('Cytoplasmic tRNA')\n",
    "    g1.grid(True, axis='y')\n",
    "    g1.set_ylabel('Charge (%)');\n",
    "    g1.set_xlabel('');\n",
    "    g1.set_xticklabels(g1.get_xticklabels(), rotation=90)\n",
    "\n",
    "    # mito tRNAs\n",
    "    mask = (df_charge['sample_name'] == sample_name) & (df_charge['human_codon']) & (df_charge['mito_codon']) & (df_charge['Ncharge'] > 50) & (df_charge['single_codon'])\n",
    "    codon_list = sorted(set(df_charge['AA_codon'][mask].values), key=str.casefold)\n",
    "    g2 = sns.barplot(ax=ax2, x='AA_codon', y='charge', order=codon_list, data=df_charge[mask], capsize=.1, errwidth=2, edgecolor='black', linewidth=2, alpha=0.7)\n",
    "    g2.set_title('Mitochondrial tRNA')\n",
    "    g2.grid(True, axis='y')\n",
    "    g2.set_ylabel('Charge (%)');\n",
    "    g2.set_xlabel('');\n",
    "    g2.set_xticklabels(g2.get_xticklabels(), rotation=90)\n",
    "\n",
    "    plt.tight_layout()\n",
    "    fig.savefig('{}/{}.pdf'.format(per_sample_plots_dir, sample_name))\n",
    "    fig.clear()\n",
    "    g1.clear()\n",
    "    g2.clear()\n",
    "\n",
    "    # Per transcript charge\n",
    "    fig, ax1 = plt.subplots(1, 1, figsize=(40, 10))\n",
    "    mask = (df_charge['sample_name'] == sample_name) & (df_charge['human_codon']) & (df_charge['Ncharge'] > 50) & (df_charge['unique_annotation'])\n",
    "    anno_list = sorted(set(df_charge['tRNA_annotation'][mask].values), key=str.casefold)\n",
    "    # Make color cycle for same codons:\n",
    "    anno2codon = {a: c for a, c in zip(df_charge['tRNA_annotation'][mask].values, df_charge['AA_codon'][mask].values)}\n",
    "    cmap = sns.color_palette(None, len(anno_list))\n",
    "    codons = sorted(set(df_charge[mask]['AA_codon'].values), key=str.casefold)\n",
    "    codon2color = {nam: cmap[i] for i, nam in enumerate(codons)}\n",
    "    palette = {a: codon2color[anno2codon[a]] for a in df_charge['tRNA_annotation'][mask].values}\n",
    "    g1 = sns.barplot(ax=ax1, x='tRNA_annotation', y='charge', palette=palette, order=anno_list, data=df_charge[mask], capsize=.1, errwidth=2, edgecolor='black', linewidth=2, alpha=0.7)\n",
    "    g1.grid(True, axis='y')\n",
    "    g1.set_ylabel('Charge (%)');\n",
    "    g1.set_xlabel('');\n",
    "    g1.set_xticklabels(g1.get_xticklabels(), rotation=90)\n",
    "    plt.tight_layout()\n",
    "    fig.savefig('{}/transcripts_{}.pdf'.format(per_sample_plots_dir, sample_name))\n",
    "    fig.clear()\n",
    "    g1.clear()\n",
    "    \n",
    "#### Barcode bias ####\n",
    "fig = plt.figure(figsize=(40, 9))\n",
    "gs = fig.add_gridspec(2, 4)\n",
    "ax1 = fig.add_subplot(gs[0, :])\n",
    "ax2 = fig.add_subplot(gs[1, 1:3])\n",
    "\n",
    "# Cyto tRNAs\n",
    "mask = (~df_charge['mito_codon']) & (df_charge['Ncharge'] > 50) & (df_charge['single_codon'])\n",
    "codon_list = sorted(set(df_charge['AA_codon'][mask].values), key=str.casefold)\n",
    "codon_list.pop(codon_list.index('eColiLys-AAA'))\n",
    "codon_list = ['eColiLys-AAA'] + codon_list\n",
    "g1 = sns.barplot(ax=ax1, x='AA_codon', y='charge', order=codon_list, hue_order=['l1', 'l2', 'l3', 'l4'], hue='barcode', data=df_charge[mask], capsize=.1, errwidth=2, edgecolor='black', linewidth=2, alpha=0.7)\n",
    "g1.set_title('Cytoplasmic tRNA')\n",
    "g1.grid(True, axis='y')\n",
    "g1.set_ylabel('Charge (%)');\n",
    "g1.set_xlabel('');\n",
    "g1.set_xticklabels(g1.get_xticklabels(), rotation=90)\n",
    "\n",
    "old_legend = g1.legend_\n",
    "handles = old_legend.legendHandles\n",
    "labels = ['l1', 'l2', 'l3', 'l4']\n",
    "title = 'Barcode'\n",
    "g1.legend(handles, labels, title=title, bbox_to_anchor=(1.04,1), borderaxespad=0)\n",
    "\n",
    "# mito tRNAs\n",
    "mask = (df_charge['mito_codon']) & (df_charge['Ncharge'] > 50) & (df_charge['single_codon'])\n",
    "codon_list = sorted(set(df_charge['AA_codon'][mask].values), key=str.casefold)\n",
    "g2 = sns.barplot(ax=ax2, x='AA_codon', y='charge', order=codon_list, hue_order=['l1', 'l2', 'l3', 'l4'], hue='barcode', data=df_charge[mask], capsize=.1, errwidth=2, edgecolor='black', linewidth=2, alpha=0.7)\n",
    "g2.set_title('Mitochondrial tRNA')\n",
    "g2.grid(True, axis='y')\n",
    "g2.set_ylabel('Charge (%)');\n",
    "g2.set_xlabel('');\n",
    "g2.set_xticklabels(g2.get_xticklabels(), rotation=90)\n",
    "\n",
    "old_legend = g2.legend_\n",
    "handles = old_legend.legendHandles\n",
    "labels = ['l1', 'l2', 'l3', 'l4']\n",
    "title = 'Barcode'\n",
    "g2.legend(handles, labels, title=title, bbox_to_anchor=(1.04,1), borderaxespad=0)\n",
    "\n",
    "plt.tight_layout()\n",
    "fig.savefig('{}/barcode-bias_codon-breakdown.pdf'.format(per_sample_plots_dir))\n",
    "fig.clear()\n",
    "g1.clear()\n",
    "g2.clear()\n",
    "\n",
    "# All tRNAs\n",
    "fig, ax1 = plt.subplots(1, 1, figsize=(7, 5))\n",
    "g1 = sns.barplot(ax=ax1, x='barcode', y='charge', order=['l1', 'l2', 'l3', 'l4'], data=df_charge, capsize=.1, errwidth=2, edgecolor='black', linewidth=2, alpha=0.7)\n",
    "g1.set_title('All tRNA')\n",
    "g1.grid(True, axis='y')\n",
    "g1.set_ylabel('Charge (%)');\n",
    "g1.set_xlabel('');\n",
    "plt.tight_layout()\n",
    "fig.savefig('{}/barcode-bias_all-tRNAs.pdf'.format(per_sample_plots_dir))\n",
    "fig.clear()\n",
    "g1.clear()\n",
    "\n",
    "\n",
    "\n",
    "\n",
    "\n",
    "# Normalized by E.coli Lys spike-in\n",
    "per_sample_plots_dir = 'per_sample_charge_norm'\n",
    "try:\n",
    "    os.mkdir(per_sample_plots_dir)\n",
    "except:\n",
    "    shutil.rmtree(per_sample_plots_dir)\n",
    "    os.mkdir(per_sample_plots_dir)\n",
    "\n",
    "sample_names = set(df_charge['sample_name'].values)\n",
    "for sample_name in sample_names:\n",
    "\n",
    "    fig = plt.figure(figsize=(20, 9))\n",
    "    gs = fig.add_gridspec(2, 4)\n",
    "    ax1 = fig.add_subplot(gs[0, :])\n",
    "    ax2 = fig.add_subplot(gs[1, 1:3])\n",
    "\n",
    "    # Cyto tRNAs\n",
    "    mask = (df_charge['sample_name'] == sample_name) & (df_charge['human_codon']) & (~df_charge['mito_codon']) & (df_charge['Ncharge'] > 50) & (df_charge['single_codon'])\n",
    "    codon_list = sorted(set(df_charge['AA_codon'][mask].values), key=str.casefold)\n",
    "    g1 = sns.barplot(ax=ax1, x='AA_codon', y='charge_norm', order=codon_list, data=df_charge[mask], capsize=.1, errwidth=2, edgecolor='black', linewidth=2, alpha=0.7)\n",
    "    g1.set_title('Cytoplasmic tRNA')\n",
    "    g1.grid(True, axis='y')\n",
    "    g1.set_ylabel('Charge (%)');\n",
    "    g1.set_xlabel('');\n",
    "    g1.set_xticklabels(g1.get_xticklabels(), rotation=90)\n",
    "\n",
    "    # mito tRNAs\n",
    "    mask = (df_charge['sample_name'] == sample_name) & (df_charge['human_codon']) & (df_charge['mito_codon']) & (df_charge['Ncharge'] > 50) & (df_charge['single_codon'])\n",
    "    codon_list = sorted(set(df_charge['AA_codon'][mask].values), key=str.casefold)\n",
    "    g2 = sns.barplot(ax=ax2, x='AA_codon', y='charge_norm', order=codon_list, data=df_charge[mask], capsize=.1, errwidth=2, edgecolor='black', linewidth=2, alpha=0.7)\n",
    "    g2.set_title('Mitochondrial tRNA')\n",
    "    g2.grid(True, axis='y')\n",
    "    g2.set_ylabel('Charge (%)');\n",
    "    g2.set_xlabel('');\n",
    "    g2.set_xticklabels(g2.get_xticklabels(), rotation=90)\n",
    "\n",
    "    plt.tight_layout()\n",
    "    fig.savefig('{}/{}.pdf'.format(per_sample_plots_dir, sample_name))\n",
    "    fig.clear()\n",
    "    g1.clear()\n",
    "    g2.clear()\n",
    "\n",
    "    # Per transcript charge\n",
    "    fig, ax1 = plt.subplots(1, 1, figsize=(40, 10))\n",
    "    mask = (df_charge['sample_name'] == sample_name) & (df_charge['human_codon']) & (df_charge['Ncharge'] > 50) & (df_charge['unique_annotation'])\n",
    "    anno_list = sorted(set(df_charge['tRNA_annotation'][mask].values), key=str.casefold)\n",
    "    # Make color cycle for same codons:\n",
    "    anno2codon = {a: c for a, c in zip(df_charge['tRNA_annotation'][mask].values, df_charge['AA_codon'][mask].values)}\n",
    "    cmap = sns.color_palette(None, len(anno_list))\n",
    "    codons = sorted(set(df_charge[mask]['AA_codon'].values), key=str.casefold)\n",
    "    codon2color = {nam: cmap[i] for i, nam in enumerate(codons)}\n",
    "    palette = {a: codon2color[anno2codon[a]] for a in df_charge['tRNA_annotation'][mask].values}\n",
    "    g1 = sns.barplot(ax=ax1, x='tRNA_annotation', y='charge_norm', palette=palette, order=anno_list, data=df_charge[mask], capsize=.1, errwidth=2, edgecolor='black', linewidth=2, alpha=0.7)\n",
    "    g1.grid(True, axis='y')\n",
    "    g1.set_ylabel('Charge (%)');\n",
    "    g1.set_xlabel('');\n",
    "    g1.set_xticklabels(g1.get_xticklabels(), rotation=90)\n",
    "    plt.tight_layout()\n",
    "    fig.savefig('{}/transcripts_{}.pdf'.format(per_sample_plots_dir, sample_name))\n",
    "    fig.clear()\n",
    "    g1.clear()\n",
    "    \n",
    "\n",
    "#### Barcode bias ####\n",
    "fig = plt.figure(figsize=(40, 9))\n",
    "gs = fig.add_gridspec(2, 4)\n",
    "ax1 = fig.add_subplot(gs[0, :])\n",
    "ax2 = fig.add_subplot(gs[1, 1:3])\n",
    "\n",
    "# Cyto tRNAs\n",
    "mask = (~df_charge['mito_codon']) & (df_charge['Ncharge'] > 50) & (df_charge['single_codon'])\n",
    "codon_list = sorted(set(df_charge['AA_codon'][mask].values), key=str.casefold)\n",
    "codon_list.pop(codon_list.index('eColiLys-AAA'))\n",
    "codon_list = ['eColiLys-AAA'] + codon_list\n",
    "g1 = sns.barplot(ax=ax1, x='AA_codon', y='charge_norm', order=codon_list, hue_order=['l1', 'l2', 'l3', 'l4'], hue='barcode', data=df_charge[mask], capsize=.1, errwidth=2, edgecolor='black', linewidth=2, alpha=0.7)\n",
    "g1.set_title('Cytoplasmic tRNA')\n",
    "g1.grid(True, axis='y')\n",
    "g1.set_ylabel('Charge (%)');\n",
    "g1.set_xlabel('');\n",
    "g1.set_xticklabels(g1.get_xticklabels(), rotation=90)\n",
    "\n",
    "old_legend = g1.legend_\n",
    "handles = old_legend.legendHandles\n",
    "labels = ['l1', 'l2', 'l3', 'l4']\n",
    "title = 'Barcode'\n",
    "g1.legend(handles, labels, title=title, bbox_to_anchor=(1.04,1), borderaxespad=0)\n",
    "\n",
    "# mito tRNAs\n",
    "mask = (df_charge['mito_codon']) & (df_charge['Ncharge'] > 50) & (df_charge['single_codon'])\n",
    "codon_list = sorted(set(df_charge['AA_codon'][mask].values), key=str.casefold)\n",
    "g2 = sns.barplot(ax=ax2, x='AA_codon', y='charge_norm', order=codon_list, hue_order=['l1', 'l2', 'l3', 'l4'], hue='barcode', data=df_charge[mask], capsize=.1, errwidth=2, edgecolor='black', linewidth=2, alpha=0.7)\n",
    "g2.set_title('Mitochondrial tRNA')\n",
    "g2.grid(True, axis='y')\n",
    "g2.set_ylabel('Charge (%)');\n",
    "g2.set_xlabel('');\n",
    "g2.set_xticklabels(g2.get_xticklabels(), rotation=90)\n",
    "\n",
    "old_legend = g2.legend_\n",
    "handles = old_legend.legendHandles\n",
    "labels = ['l1', 'l2', 'l3', 'l4']\n",
    "title = 'Barcode'\n",
    "g2.legend(handles, labels, title=title, bbox_to_anchor=(1.04,1), borderaxespad=0)\n",
    "\n",
    "plt.tight_layout()\n",
    "fig.savefig('{}/barcode-bias_codon-breakdown.pdf'.format(per_sample_plots_dir))\n",
    "fig.clear()\n",
    "g1.clear()\n",
    "g2.clear()\n",
    "\n",
    "# All tRNAs\n",
    "fig, ax1 = plt.subplots(1, 1, figsize=(7, 5))\n",
    "g1 = sns.barplot(ax=ax1, x='barcode', y='charge_norm', order=['l1', 'l2', 'l3', 'l4'], data=df_charge, capsize=.1, errwidth=2, edgecolor='black', linewidth=2, alpha=0.7)\n",
    "g1.set_title('All tRNA')\n",
    "g1.grid(True, axis='y')\n",
    "g1.set_ylabel('Charge (%)');\n",
    "g1.set_xlabel('');\n",
    "plt.tight_layout()\n",
    "fig.savefig('{}/barcode-bias_all-tRNAs.pdf'.format(per_sample_plots_dir))\n",
    "fig.clear()\n",
    "g1.clear()\n",
    "plt.close(fig)"
   ]
  },
  {
   "cell_type": "code",
   "execution_count": null,
   "metadata": {},
   "outputs": [],
   "source": []
  },
  {
   "cell_type": "code",
   "execution_count": 41,
   "metadata": {},
   "outputs": [
    {
     "name": "stderr",
     "output_type": "stream",
     "text": [
      "/tmp/ipykernel_8511/2561172856.py:72: RuntimeWarning: More than 20 figures have been opened. Figures created through the pyplot interface (`matplotlib.pyplot.figure`) are retained until explicitly closed and may consume too much memory. (To control this warning, see the rcParam `figure.max_open_warning`).\n",
      "  fig = plt.figure(figsize=(28/3*Ngrp, 9))\n"
     ]
    },
    {
     "data": {
      "text/plain": [
       "<Figure size 2688x648 with 0 Axes>"
      ]
     },
     "metadata": {},
     "output_type": "display_data"
    },
    {
     "data": {
      "text/plain": [
       "<Figure size 2016x648 with 0 Axes>"
      ]
     },
     "metadata": {},
     "output_type": "display_data"
    },
    {
     "data": {
      "text/plain": [
       "<Figure size 4704x648 with 0 Axes>"
      ]
     },
     "metadata": {},
     "output_type": "display_data"
    },
    {
     "data": {
      "text/plain": [
       "<Figure size 2688x648 with 0 Axes>"
      ]
     },
     "metadata": {},
     "output_type": "display_data"
    },
    {
     "data": {
      "text/plain": [
       "<Figure size 8064x648 with 0 Axes>"
      ]
     },
     "metadata": {},
     "output_type": "display_data"
    },
    {
     "data": {
      "text/plain": [
       "<Figure size 1344x648 with 0 Axes>"
      ]
     },
     "metadata": {},
     "output_type": "display_data"
    },
    {
     "data": {
      "text/plain": [
       "<Figure size 2016x648 with 0 Axes>"
      ]
     },
     "metadata": {},
     "output_type": "display_data"
    },
    {
     "data": {
      "text/plain": [
       "<Figure size 2688x648 with 0 Axes>"
      ]
     },
     "metadata": {},
     "output_type": "display_data"
    },
    {
     "data": {
      "text/plain": [
       "<Figure size 2688x648 with 0 Axes>"
      ]
     },
     "metadata": {},
     "output_type": "display_data"
    },
    {
     "data": {
      "text/plain": [
       "<Figure size 2688x648 with 0 Axes>"
      ]
     },
     "metadata": {},
     "output_type": "display_data"
    },
    {
     "data": {
      "text/plain": [
       "<Figure size 2688x648 with 0 Axes>"
      ]
     },
     "metadata": {},
     "output_type": "display_data"
    },
    {
     "data": {
      "text/plain": [
       "<Figure size 672x648 with 0 Axes>"
      ]
     },
     "metadata": {},
     "output_type": "display_data"
    },
    {
     "data": {
      "text/plain": [
       "<Figure size 2016x648 with 0 Axes>"
      ]
     },
     "metadata": {},
     "output_type": "display_data"
    },
    {
     "data": {
      "text/plain": [
       "<Figure size 2688x648 with 0 Axes>"
      ]
     },
     "metadata": {},
     "output_type": "display_data"
    },
    {
     "data": {
      "text/plain": [
       "<Figure size 2016x648 with 0 Axes>"
      ]
     },
     "metadata": {},
     "output_type": "display_data"
    },
    {
     "data": {
      "text/plain": [
       "<Figure size 4704x648 with 0 Axes>"
      ]
     },
     "metadata": {},
     "output_type": "display_data"
    },
    {
     "data": {
      "text/plain": [
       "<Figure size 2688x648 with 0 Axes>"
      ]
     },
     "metadata": {},
     "output_type": "display_data"
    },
    {
     "data": {
      "text/plain": [
       "<Figure size 8064x648 with 0 Axes>"
      ]
     },
     "metadata": {},
     "output_type": "display_data"
    },
    {
     "data": {
      "text/plain": [
       "<Figure size 1344x648 with 0 Axes>"
      ]
     },
     "metadata": {},
     "output_type": "display_data"
    },
    {
     "data": {
      "text/plain": [
       "<Figure size 2016x648 with 0 Axes>"
      ]
     },
     "metadata": {},
     "output_type": "display_data"
    },
    {
     "data": {
      "text/plain": [
       "<Figure size 2688x648 with 0 Axes>"
      ]
     },
     "metadata": {},
     "output_type": "display_data"
    },
    {
     "data": {
      "text/plain": [
       "<Figure size 2688x648 with 0 Axes>"
      ]
     },
     "metadata": {},
     "output_type": "display_data"
    },
    {
     "data": {
      "text/plain": [
       "<Figure size 2688x648 with 0 Axes>"
      ]
     },
     "metadata": {},
     "output_type": "display_data"
    },
    {
     "data": {
      "text/plain": [
       "<Figure size 2688x648 with 0 Axes>"
      ]
     },
     "metadata": {},
     "output_type": "display_data"
    },
    {
     "data": {
      "text/plain": [
       "<Figure size 672x648 with 0 Axes>"
      ]
     },
     "metadata": {},
     "output_type": "display_data"
    },
    {
     "data": {
      "text/plain": [
       "<Figure size 2016x648 with 0 Axes>"
      ]
     },
     "metadata": {},
     "output_type": "display_data"
    }
   ],
   "source": [
    "### Per group charge plots ###\n",
    "\n",
    "# No normalization\n",
    "per_group_plots_dir = 'per_group_charge'\n",
    "try:\n",
    "    os.mkdir(per_group_plots_dir)\n",
    "except:\n",
    "    shutil.rmtree(per_group_plots_dir)\n",
    "    os.mkdir(per_group_plots_dir)\n",
    "\n",
    "plot_groups = set(df_charge['plot_group'].values)\n",
    "for plot_group in plot_groups:\n",
    "    Ngrp = len(set(df_charge[(df_charge['plot_group'] == plot_group)]['hue_order'].values))\n",
    "\n",
    "    fig = plt.figure(figsize=(28/3*Ngrp, 9))\n",
    "    gs = fig.add_gridspec(2, 4)\n",
    "    ax1 = fig.add_subplot(gs[0, :])\n",
    "    ax2 = fig.add_subplot(gs[1, 1:3])\n",
    "\n",
    "    # Cyto tRNAs\n",
    "    mask = (df_charge['plot_group'] == plot_group) & (df_charge['human_codon']) & (~df_charge['mito_codon']) & (df_charge['Ncharge'] > 50) & (df_charge['single_codon'])\n",
    "    hue_order = [t[0] for t in sorted(dict(zip(df_charge[mask]['hue_value'].values, df_charge[mask]['hue_order'].values)).items(), key=lambda x: x[1])]\n",
    "    \n",
    "    codon_list = sorted(set(df_charge['AA_codon'][mask].values), key=str.casefold)\n",
    "    g1 = sns.barplot(ax=ax1, x='AA_codon', y='charge', order=codon_list, hue='hue_value', hue_order=hue_order, data=df_charge[mask], capsize=.1, errwidth=2, edgecolor='black', linewidth=2, alpha=0.7)\n",
    "    g1.set_title('Cytoplasmic tRNA')\n",
    "    g1.grid(True, axis='y')\n",
    "    g1.set_ylabel('Charge (%)');\n",
    "    g1.set_xlabel('');\n",
    "    g1.set_xticklabels(g1.get_xticklabels(), rotation=90)\n",
    "    old_legend = g1.legend_\n",
    "    handles = old_legend.legendHandles\n",
    "    labels = hue_order\n",
    "    title = df_charge[mask]['hue_name'].values[0]\n",
    "    g1.legend(handles, labels, title=title, bbox_to_anchor=(1.01,1), borderaxespad=0)\n",
    " \n",
    "    # mito tRNAs\n",
    "    mask = (df_charge['plot_group'] == plot_group) & (df_charge['human_codon']) & (df_charge['mito_codon']) & (df_charge['Ncharge'] > 50) & (df_charge['single_codon'])\n",
    "    codon_list = sorted(set(df_charge['AA_codon'][mask].values), key=str.casefold)\n",
    "    g2 = sns.barplot(ax=ax2, x='AA_codon', y='charge', order=codon_list, hue='hue_value', hue_order=hue_order, data=df_charge[mask], capsize=.1, errwidth=2, edgecolor='black', linewidth=2, alpha=0.7)\n",
    "    g2.set_title('Mitochondrial tRNA')\n",
    "    g2.grid(True, axis='y')\n",
    "    g2.set_ylabel('Charge (%)');\n",
    "    g2.set_xlabel('');\n",
    "    g2.set_xticklabels(g2.get_xticklabels(), rotation=90)\n",
    "    g2.legend_.remove()\n",
    "\n",
    "    plt.tight_layout()\n",
    "    fig.savefig('{}/{}.pdf'.format(per_group_plots_dir, plot_group))\n",
    "    fig.clear()\n",
    "    g1.clear()\n",
    "    g2.clear()\n",
    "\n",
    "\n",
    "\n",
    "\n",
    "\n",
    "\n",
    "    \n",
    "# Normalized by E.coli Lys spike-in\n",
    "per_group_plots_dir = 'per_group_charge_norm'\n",
    "try:\n",
    "    os.mkdir(per_group_plots_dir)\n",
    "except:\n",
    "    shutil.rmtree(per_group_plots_dir)\n",
    "    os.mkdir(per_group_plots_dir)\n",
    "\n",
    "plot_groups = set(df_charge['plot_group'].values)\n",
    "for plot_group in plot_groups:\n",
    "    Ngrp = len(set(df_charge[(df_charge['plot_group'] == plot_group)]['hue_order'].values))\n",
    "\n",
    "    fig = plt.figure(figsize=(28/3*Ngrp, 9))\n",
    "    gs = fig.add_gridspec(2, 4)\n",
    "    ax1 = fig.add_subplot(gs[0, :])\n",
    "    ax2 = fig.add_subplot(gs[1, 1:3])\n",
    "\n",
    "    # Cyto tRNAs\n",
    "    mask = (df_charge['plot_group'] == plot_group) & (df_charge['human_codon']) & (~df_charge['mito_codon']) & (df_charge['Ncharge'] > 50) & (df_charge['single_codon'])\n",
    "    hue_order = [t[0] for t in sorted(dict(zip(df_charge[mask]['hue_value'].values, df_charge[mask]['hue_order'].values)).items(), key=lambda x: x[1])]\n",
    "    \n",
    "    codon_list = sorted(set(df_charge['AA_codon'][mask].values), key=str.casefold)\n",
    "    g1 = sns.barplot(ax=ax1, x='AA_codon', y='charge_norm', order=codon_list, hue='hue_value', hue_order=hue_order, data=df_charge[mask], capsize=.1, errwidth=2, edgecolor='black', linewidth=2, alpha=0.7)\n",
    "    g1.set_title('Cytoplasmic tRNA')\n",
    "    g1.grid(True, axis='y')\n",
    "    g1.set_ylabel('Charge (%)');\n",
    "    g1.set_xlabel('');\n",
    "    g1.set_xticklabels(g1.get_xticklabels(), rotation=90)\n",
    "    old_legend = g1.legend_\n",
    "    handles = old_legend.legendHandles\n",
    "    labels = hue_order\n",
    "    title = df_charge[mask]['hue_name'].values[0]\n",
    "    g1.legend(handles, labels, title=title, bbox_to_anchor=(1.01,1), borderaxespad=0)\n",
    " \n",
    "    # mito tRNAs\n",
    "    mask = (df_charge['plot_group'] == plot_group) & (df_charge['human_codon']) & (df_charge['mito_codon']) & (df_charge['Ncharge'] > 50) & (df_charge['single_codon'])\n",
    "    codon_list = sorted(set(df_charge['AA_codon'][mask].values), key=str.casefold)\n",
    "    g2 = sns.barplot(ax=ax2, x='AA_codon', y='charge_norm', order=codon_list, hue='hue_value', hue_order=hue_order, data=df_charge[mask], capsize=.1, errwidth=2, edgecolor='black', linewidth=2, alpha=0.7)\n",
    "    g2.set_title('Mitochondrial tRNA')\n",
    "    g2.grid(True, axis='y')\n",
    "    g2.set_ylabel('Charge (%)');\n",
    "    g2.set_xlabel('');\n",
    "    g2.set_xticklabels(g2.get_xticklabels(), rotation=90)\n",
    "    g2.legend_.remove()\n",
    "\n",
    "    plt.tight_layout()\n",
    "    fig.savefig('{}/{}.pdf'.format(per_group_plots_dir, plot_group))\n",
    "    fig.clear()\n",
    "    g1.clear()\n",
    "    g2.clear()\n"
   ]
  },
  {
   "cell_type": "code",
   "execution_count": null,
   "metadata": {},
   "outputs": [],
   "source": []
  },
  {
   "cell_type": "code",
   "execution_count": null,
   "metadata": {},
   "outputs": [],
   "source": []
  },
  {
   "cell_type": "code",
   "execution_count": null,
   "metadata": {},
   "outputs": [],
   "source": []
  },
  {
   "cell_type": "code",
   "execution_count": null,
   "metadata": {},
   "outputs": [],
   "source": []
  },
  {
   "cell_type": "code",
   "execution_count": null,
   "metadata": {},
   "outputs": [],
   "source": []
  },
  {
   "cell_type": "code",
   "execution_count": null,
   "metadata": {},
   "outputs": [],
   "source": []
  },
  {
   "cell_type": "code",
   "execution_count": null,
   "metadata": {},
   "outputs": [],
   "source": []
  },
  {
   "cell_type": "code",
   "execution_count": 9,
   "metadata": {},
   "outputs": [],
   "source": []
  },
  {
   "cell_type": "code",
   "execution_count": 10,
   "metadata": {},
   "outputs": [],
   "source": [
    "### Plot histogram of non-template addition length"
   ]
  },
  {
   "cell_type": "code",
   "execution_count": null,
   "metadata": {},
   "outputs": [],
   "source": []
  },
  {
   "cell_type": "code",
   "execution_count": null,
   "metadata": {},
   "outputs": [],
   "source": []
  },
  {
   "cell_type": "code",
   "execution_count": null,
   "metadata": {},
   "outputs": [],
   "source": []
  },
  {
   "cell_type": "code",
   "execution_count": null,
   "metadata": {},
   "outputs": [],
   "source": []
  },
  {
   "cell_type": "code",
   "execution_count": 9,
   "metadata": {},
   "outputs": [
    {
     "ename": "KeyboardInterrupt",
     "evalue": "",
     "output_type": "error",
     "traceback": [
      "\u001b[0;31m---------------------------------------------------------------------------\u001b[0m",
      "\u001b[0;31mKeyboardInterrupt\u001b[0m                         Traceback (most recent call last)",
      "\u001b[0;32m/tmp/ipykernel_3007125/1958299568.py\u001b[0m in \u001b[0;36m<module>\u001b[0;34m\u001b[0m\n\u001b[1;32m     17\u001b[0m     \u001b[0mreader\u001b[0m \u001b[0;34m=\u001b[0m \u001b[0mcsv\u001b[0m\u001b[0;34m.\u001b[0m\u001b[0mreader\u001b[0m\u001b[0;34m(\u001b[0m\u001b[0mcsv_fh\u001b[0m\u001b[0;34m)\u001b[0m\u001b[0;34m\u001b[0m\u001b[0;34m\u001b[0m\u001b[0m\n\u001b[1;32m     18\u001b[0m     \u001b[0mheader\u001b[0m \u001b[0;34m=\u001b[0m \u001b[0mnext\u001b[0m\u001b[0;34m(\u001b[0m\u001b[0mreader\u001b[0m\u001b[0;34m)\u001b[0m\u001b[0;34m\u001b[0m\u001b[0;34m\u001b[0m\u001b[0m\n\u001b[0;32m---> 19\u001b[0;31m     \u001b[0;32mfor\u001b[0m \u001b[0mrow\u001b[0m \u001b[0;32min\u001b[0m \u001b[0mreader\u001b[0m\u001b[0;34m:\u001b[0m\u001b[0;34m\u001b[0m\u001b[0;34m\u001b[0m\u001b[0m\n\u001b[0m\u001b[1;32m     20\u001b[0m         \u001b[0m_5p_cover\u001b[0m\u001b[0;34m,\u001b[0m \u001b[0m_3p_cover\u001b[0m\u001b[0;34m,\u001b[0m \u001b[0m_5p_non_temp\u001b[0m\u001b[0;34m,\u001b[0m \u001b[0m_3p_non_temp\u001b[0m \u001b[0;34m=\u001b[0m \u001b[0mrow\u001b[0m\u001b[0;34m[\u001b[0m\u001b[0;34m-\u001b[0m\u001b[0;36m4\u001b[0m\u001b[0;34m:\u001b[0m\u001b[0;34m]\u001b[0m\u001b[0;34m\u001b[0m\u001b[0;34m\u001b[0m\u001b[0m\n\u001b[1;32m     21\u001b[0m         \u001b[0malign_5p_nt\u001b[0m \u001b[0;34m=\u001b[0m \u001b[0mrow\u001b[0m\u001b[0;34m[\u001b[0m\u001b[0;36m10\u001b[0m\u001b[0;34m]\u001b[0m\u001b[0;34m\u001b[0m\u001b[0;34m\u001b[0m\u001b[0m\n",
      "\u001b[0;32m~/anaconda3/lib/python3.9/bz2.py\u001b[0m in \u001b[0;36mclosed\u001b[0;34m(self)\u001b[0m\n\u001b[1;32m    127\u001b[0m     \u001b[0;32mdef\u001b[0m \u001b[0mclosed\u001b[0m\u001b[0;34m(\u001b[0m\u001b[0mself\u001b[0m\u001b[0;34m)\u001b[0m\u001b[0;34m:\u001b[0m\u001b[0;34m\u001b[0m\u001b[0;34m\u001b[0m\u001b[0m\n\u001b[1;32m    128\u001b[0m         \u001b[0;34m\"\"\"True if this file is closed.\"\"\"\u001b[0m\u001b[0;34m\u001b[0m\u001b[0;34m\u001b[0m\u001b[0m\n\u001b[0;32m--> 129\u001b[0;31m         \u001b[0;32mreturn\u001b[0m \u001b[0mself\u001b[0m\u001b[0;34m.\u001b[0m\u001b[0m_mode\u001b[0m \u001b[0;34m==\u001b[0m \u001b[0m_MODE_CLOSED\u001b[0m\u001b[0;34m\u001b[0m\u001b[0;34m\u001b[0m\u001b[0m\n\u001b[0m\u001b[1;32m    130\u001b[0m \u001b[0;34m\u001b[0m\u001b[0m\n\u001b[1;32m    131\u001b[0m     \u001b[0;32mdef\u001b[0m \u001b[0mfileno\u001b[0m\u001b[0;34m(\u001b[0m\u001b[0mself\u001b[0m\u001b[0;34m)\u001b[0m\u001b[0;34m:\u001b[0m\u001b[0;34m\u001b[0m\u001b[0;34m\u001b[0m\u001b[0m\n",
      "\u001b[0;31mKeyboardInterrupt\u001b[0m: "
     ]
    }
   ],
   "source": [
    "### 5' non-template bases logo plot ###\n",
    "min_obs = 5000\n",
    "\n",
    "_5p_plots_dir = '5p_non-template'\n",
    "try:\n",
    "    os.mkdir(_5p_plots_dir)\n",
    "    os.mkdir(_5p_plots_dir + '/count')\n",
    "    os.mkdir(_5p_plots_dir + '/frequency')\n",
    "except:\n",
    "    shutil.rmtree(_5p_plots_dir)\n",
    "    os.mkdir(_5p_plots_dir)\n",
    "    os.mkdir(_5p_plots_dir + '/count')\n",
    "    os.mkdir(_5p_plots_dir + '/frequency')\n",
    "\n",
    "_5p_dict = dict()\n",
    "with bz2.open('../' + data_dir + '/' + stat_csv_fnam, 'rt') as csv_fh:\n",
    "    reader = csv.reader(csv_fh)\n",
    "    header = next(reader)\n",
    "    for row in reader:\n",
    "        _5p_cover, _3p_cover, _5p_non_temp, _3p_non_temp = row[-4:]\n",
    "        align_5p_nt = row[10]\n",
    "        if _3p_cover == 'True' and _3p_non_temp == '' and _5p_non_temp != '':\n",
    "            for pos, base in enumerate(_5p_non_temp):\n",
    "                key = (pos, align_5p_nt, eval(_5p_cover), base)\n",
    "                if key in _5p_dict:\n",
    "                    _5p_dict[key] += 1\n",
    "                else:\n",
    "                    _5p_dict[key] = 1\n",
    "\n",
    "with open('tmp_df.csv', 'w') as fh_csv:\n",
    "    print('position,pre_nt,5p_covered,base,count', file=fh_csv)\n",
    "    for key in _5p_dict:\n",
    "        print('{},{}'.format(','.join(map(str, key)), _5p_dict[key]), file=fh_csv)\n",
    "_5p_df = pd.read_csv('tmp_df.csv')\n",
    "\n",
    "\n",
    "# Make logo plots:\n",
    "for pre_base in ['A', 'T', 'G', 'C', 'N']:\n",
    "    if pre_base != 'N':\n",
    "        mask_pre_base = _5p_df['pre_nt'] == pre_base\n",
    "    else:\n",
    "        mask_pre_base = np.array([True]*len(_5p_df))\n",
    "    for _5pc in [True, False, 'all']:\n",
    "        if _5pc is True:\n",
    "            mask_5p_cover = mask_pre_base & (_5p_df['5p_covered'])\n",
    "            mask_name = 'pre_base-{}_5p-covered'.format(pre_base)\n",
    "        elif _5pc is False:\n",
    "            mask_5p_cover = mask_pre_base & (~_5p_df['5p_covered'])\n",
    "            mask_name = 'pre_base-{}_5p-uncovered'.format(pre_base)\n",
    "        elif _5pc == 'all':\n",
    "            mask_5p_cover = mask_pre_base & np.array([True]*len(_5p_df))\n",
    "            mask_name = 'pre_base-{}_5p-all'.format(pre_base)\n",
    "\n",
    "        plot_df = _5p_df[mask_5p_cover]\n",
    "        plot_df = plot_df.pivot_table(index='position', columns=['base'], values=['count'], aggfunc=np.sum)\n",
    "        plot_df.columns = [c[1] for c in plot_df.columns]\n",
    "        plot_df['total'] = plot_df['A'].values + plot_df['C'].values + plot_df['G'].values + plot_df['T'].values\n",
    "        obs_mask = plot_df['total'] > min_obs\n",
    "        plot_df = plot_df[obs_mask]\n",
    "        plot_df_count = plot_df.drop(columns=['total'])\n",
    "        plot_df_freq = plot_df.copy()\n",
    "        plot_df_freq['A'] = plot_df_freq['A'].values / plot_df_freq['total'].values\n",
    "        plot_df_freq['T'] = plot_df_freq['T'].values / plot_df_freq['total'].values\n",
    "        plot_df_freq['C'] = plot_df_freq['C'].values / plot_df_freq['total'].values\n",
    "        plot_df_freq['G'] = plot_df_freq['G'].values / plot_df_freq['total'].values\n",
    "        plot_df_freq = plot_df_freq.drop(columns=['total'])\n",
    "        plot_df_count.index = plot_df.index.values[::-1]\n",
    "        plot_df_freq.index = plot_df.index.values[::-1]\n",
    "\n",
    "        # Count based logo:\n",
    "        if len(plot_df) > 4:\n",
    "            fig, ax = plt.subplots(1,1, figsize=[len(plot_df), 3.5])\n",
    "        else:\n",
    "            fig, ax = plt.subplots(1,1, figsize=[4, 3.5])\n",
    "        _5p_logo_count = logomaker.Logo(plot_df_count,\n",
    "                                  ax=ax,\n",
    "                                  shade_below=.5,\n",
    "                                  fade_below=.5,\n",
    "                                  font_name='Arial Rounded MT Bold')\n",
    "        _5p_logo_count.ax.set_ylabel('Observations', labelpad=0)\n",
    "        _5p_logo_count.ax.set_title(mask_name)\n",
    "        _5p_logo_count.fig.tight_layout()\n",
    "        _5p_logo_count.fig.savefig('{}/count/{}.pdf'.format(_5p_plots_dir, mask_name))\n",
    "        _5p_logo_count.fig.clear()\n",
    "\n",
    "        # Frequency based logo:\n",
    "        if len(plot_df) > 4:\n",
    "            fig, ax = plt.subplots(1,1, figsize=[len(plot_df), 3.5])\n",
    "        else:\n",
    "            fig, ax = plt.subplots(1,1, figsize=[4, 3.5])\n",
    "        _5p_logo_freq = logomaker.Logo(plot_df_freq,\n",
    "                                  ax=ax,\n",
    "                                  shade_below=.5,\n",
    "                                  fade_below=.5,\n",
    "                                  font_name='Arial Rounded MT Bold')\n",
    "        _5p_logo_freq.ax.set_ylabel('Observations', labelpad=0)\n",
    "        _5p_logo_freq.ax.set_title(mask_name)\n",
    "        _5p_logo_freq.fig.tight_layout()\n",
    "        _5p_logo_freq.fig.savefig('{}/frequency/{}.pdf'.format(_5p_plots_dir, mask_name))\n",
    "        _5p_logo_freq.fig.clear()\n"
   ]
  },
  {
   "cell_type": "code",
   "execution_count": null,
   "metadata": {},
   "outputs": [],
   "source": []
  },
  {
   "cell_type": "code",
   "execution_count": 268,
   "metadata": {},
   "outputs": [],
   "source": []
  },
  {
   "cell_type": "code",
   "execution_count": null,
   "metadata": {},
   "outputs": [],
   "source": []
  },
  {
   "cell_type": "code",
   "execution_count": null,
   "metadata": {},
   "outputs": [],
   "source": []
  },
  {
   "cell_type": "code",
   "execution_count": null,
   "metadata": {},
   "outputs": [],
   "source": [
    "\n"
   ]
  },
  {
   "cell_type": "code",
   "execution_count": null,
   "metadata": {},
   "outputs": [],
   "source": []
  },
  {
   "cell_type": "code",
   "execution_count": null,
   "metadata": {},
   "outputs": [],
   "source": []
  },
  {
   "cell_type": "code",
   "execution_count": null,
   "metadata": {},
   "outputs": [],
   "source": []
  },
  {
   "cell_type": "code",
   "execution_count": null,
   "metadata": {},
   "outputs": [],
   "source": []
  },
  {
   "cell_type": "code",
   "execution_count": null,
   "metadata": {},
   "outputs": [],
   "source": []
  },
  {
   "cell_type": "code",
   "execution_count": null,
   "metadata": {},
   "outputs": [],
   "source": []
  },
  {
   "cell_type": "code",
   "execution_count": null,
   "metadata": {},
   "outputs": [],
   "source": []
  },
  {
   "cell_type": "code",
   "execution_count": null,
   "metadata": {},
   "outputs": [],
   "source": []
  },
  {
   "cell_type": "code",
   "execution_count": null,
   "metadata": {},
   "outputs": [],
   "source": []
  },
  {
   "cell_type": "code",
   "execution_count": null,
   "metadata": {},
   "outputs": [],
   "source": []
  },
  {
   "cell_type": "code",
   "execution_count": null,
   "metadata": {},
   "outputs": [],
   "source": []
  },
  {
   "cell_type": "code",
   "execution_count": 286,
   "metadata": {},
   "outputs": [],
   "source": []
  },
  {
   "cell_type": "code",
   "execution_count": null,
   "metadata": {},
   "outputs": [],
   "source": []
  },
  {
   "cell_type": "code",
   "execution_count": null,
   "metadata": {},
   "outputs": [],
   "source": []
  },
  {
   "cell_type": "code",
   "execution_count": null,
   "metadata": {},
   "outputs": [],
   "source": []
  },
  {
   "cell_type": "code",
   "execution_count": null,
   "metadata": {},
   "outputs": [],
   "source": []
  },
  {
   "cell_type": "code",
   "execution_count": null,
   "metadata": {},
   "outputs": [],
   "source": []
  },
  {
   "cell_type": "code",
   "execution_count": null,
   "metadata": {},
   "outputs": [],
   "source": []
  },
  {
   "cell_type": "code",
   "execution_count": null,
   "metadata": {},
   "outputs": [],
   "source": []
  },
  {
   "cell_type": "code",
   "execution_count": null,
   "metadata": {},
   "outputs": [],
   "source": []
  },
  {
   "cell_type": "code",
   "execution_count": null,
   "metadata": {},
   "outputs": [],
   "source": []
  },
  {
   "cell_type": "code",
   "execution_count": null,
   "metadata": {},
   "outputs": [],
   "source": []
  },
  {
   "cell_type": "code",
   "execution_count": null,
   "metadata": {},
   "outputs": [],
   "source": []
  },
  {
   "cell_type": "code",
   "execution_count": null,
   "metadata": {},
   "outputs": [],
   "source": []
  },
  {
   "cell_type": "code",
   "execution_count": null,
   "metadata": {},
   "outputs": [],
   "source": []
  },
  {
   "cell_type": "code",
   "execution_count": null,
   "metadata": {},
   "outputs": [],
   "source": []
  },
  {
   "cell_type": "code",
   "execution_count": null,
   "metadata": {},
   "outputs": [],
   "source": []
  },
  {
   "cell_type": "code",
   "execution_count": null,
   "metadata": {},
   "outputs": [],
   "source": []
  },
  {
   "cell_type": "code",
   "execution_count": null,
   "metadata": {},
   "outputs": [],
   "source": []
  },
  {
   "cell_type": "code",
   "execution_count": null,
   "metadata": {},
   "outputs": [],
   "source": []
  },
  {
   "cell_type": "code",
   "execution_count": null,
   "metadata": {},
   "outputs": [],
   "source": []
  },
  {
   "cell_type": "code",
   "execution_count": null,
   "metadata": {},
   "outputs": [],
   "source": []
  },
  {
   "cell_type": "code",
   "execution_count": null,
   "metadata": {},
   "outputs": [],
   "source": []
  },
  {
   "cell_type": "code",
   "execution_count": null,
   "metadata": {},
   "outputs": [],
   "source": []
  },
  {
   "cell_type": "code",
   "execution_count": null,
   "metadata": {},
   "outputs": [],
   "source": []
  },
  {
   "cell_type": "code",
   "execution_count": null,
   "metadata": {},
   "outputs": [],
   "source": []
  },
  {
   "cell_type": "code",
   "execution_count": null,
   "metadata": {},
   "outputs": [],
   "source": []
  },
  {
   "cell_type": "code",
   "execution_count": 123,
   "metadata": {},
   "outputs": [
    {
     "data": {
      "text/html": [
       "<div>\n",
       "<style scoped>\n",
       "    .dataframe tbody tr th:only-of-type {\n",
       "        vertical-align: middle;\n",
       "    }\n",
       "\n",
       "    .dataframe tbody tr th {\n",
       "        vertical-align: top;\n",
       "    }\n",
       "\n",
       "    .dataframe thead th {\n",
       "        text-align: right;\n",
       "    }\n",
       "</style>\n",
       "<table border=\"1\" class=\"dataframe\">\n",
       "  <thead>\n",
       "    <tr style=\"text-align: right;\">\n",
       "      <th></th>\n",
       "      <th>sample_name</th>\n",
       "      <th>replicate</th>\n",
       "      <th>barcode</th>\n",
       "      <th>tRNA_annotation</th>\n",
       "      <th>tRNA_annotation_len</th>\n",
       "      <th>unique_annotation</th>\n",
       "      <th>codon</th>\n",
       "      <th>anticodon</th>\n",
       "      <th>amino_acid</th>\n",
       "      <th>mito_codon</th>\n",
       "      <th>human_codon</th>\n",
       "      <th>AA_codon</th>\n",
       "      <th>single_codon</th>\n",
       "      <th>charge</th>\n",
       "      <th>Ncharge</th>\n",
       "      <th>charge_norm</th>\n",
       "    </tr>\n",
       "  </thead>\n",
       "  <tbody>\n",
       "    <tr>\n",
       "      <th>0</th>\n",
       "      <td>Rich</td>\n",
       "      <td>1</td>\n",
       "      <td>l1</td>\n",
       "      <td>Escherichia_coli_str_K_12_substr_MG1655_tRNA-e...</td>\n",
       "      <td>76</td>\n",
       "      <td>True</td>\n",
       "      <td>AAA</td>\n",
       "      <td>TTT</td>\n",
       "      <td>eColiLys</td>\n",
       "      <td>False</td>\n",
       "      <td>False</td>\n",
       "      <td>eColiLys-AAA</td>\n",
       "      <td>True</td>\n",
       "      <td>45.226131</td>\n",
       "      <td>199</td>\n",
       "      <td>55.701367</td>\n",
       "    </tr>\n",
       "    <tr>\n",
       "      <th>1</th>\n",
       "      <td>Rich</td>\n",
       "      <td>1</td>\n",
       "      <td>l1</td>\n",
       "      <td>Homo_sapiens_mito_tRNA-Ala-TGC-1-1</td>\n",
       "      <td>72</td>\n",
       "      <td>True</td>\n",
       "      <td>GCA</td>\n",
       "      <td>TGC</td>\n",
       "      <td>Ala</td>\n",
       "      <td>True</td>\n",
       "      <td>True</td>\n",
       "      <td>Ala-GCA</td>\n",
       "      <td>True</td>\n",
       "      <td>70.731707</td>\n",
       "      <td>41</td>\n",
       "      <td>87.114523</td>\n",
       "    </tr>\n",
       "    <tr>\n",
       "      <th>2</th>\n",
       "      <td>Rich</td>\n",
       "      <td>1</td>\n",
       "      <td>l1</td>\n",
       "      <td>Homo_sapiens_mito_tRNA-Arg-TCG-1-1</td>\n",
       "      <td>68</td>\n",
       "      <td>True</td>\n",
       "      <td>CGA</td>\n",
       "      <td>TCG</td>\n",
       "      <td>Arg</td>\n",
       "      <td>True</td>\n",
       "      <td>True</td>\n",
       "      <td>Arg-CGA</td>\n",
       "      <td>True</td>\n",
       "      <td>64.444444</td>\n",
       "      <td>45</td>\n",
       "      <td>79.371010</td>\n",
       "    </tr>\n",
       "    <tr>\n",
       "      <th>3</th>\n",
       "      <td>Rich</td>\n",
       "      <td>1</td>\n",
       "      <td>l1</td>\n",
       "      <td>Homo_sapiens_mito_tRNA-Asn-GTT-1-1</td>\n",
       "      <td>76</td>\n",
       "      <td>True</td>\n",
       "      <td>AAC</td>\n",
       "      <td>GTT</td>\n",
       "      <td>Asn</td>\n",
       "      <td>True</td>\n",
       "      <td>True</td>\n",
       "      <td>Asn-AAC</td>\n",
       "      <td>True</td>\n",
       "      <td>56.250000</td>\n",
       "      <td>32</td>\n",
       "      <td>69.278576</td>\n",
       "    </tr>\n",
       "    <tr>\n",
       "      <th>4</th>\n",
       "      <td>Rich</td>\n",
       "      <td>1</td>\n",
       "      <td>l1</td>\n",
       "      <td>Homo_sapiens_mito_tRNA-Asp-GTC-1-1</td>\n",
       "      <td>71</td>\n",
       "      <td>True</td>\n",
       "      <td>GAC</td>\n",
       "      <td>GTC</td>\n",
       "      <td>Asp</td>\n",
       "      <td>True</td>\n",
       "      <td>True</td>\n",
       "      <td>Asp-GAC</td>\n",
       "      <td>True</td>\n",
       "      <td>72.093023</td>\n",
       "      <td>86</td>\n",
       "      <td>88.791146</td>\n",
       "    </tr>\n",
       "    <tr>\n",
       "      <th>...</th>\n",
       "      <td>...</td>\n",
       "      <td>...</td>\n",
       "      <td>...</td>\n",
       "      <td>...</td>\n",
       "      <td>...</td>\n",
       "      <td>...</td>\n",
       "      <td>...</td>\n",
       "      <td>...</td>\n",
       "      <td>...</td>\n",
       "      <td>...</td>\n",
       "      <td>...</td>\n",
       "      <td>...</td>\n",
       "      <td>...</td>\n",
       "      <td>...</td>\n",
       "      <td>...</td>\n",
       "      <td>...</td>\n",
       "    </tr>\n",
       "    <tr>\n",
       "      <th>6347</th>\n",
       "      <td>A-NaCl</td>\n",
       "      <td>1</td>\n",
       "      <td>l4</td>\n",
       "      <td>Homo_sapiens_tRNA-Val-TAC-3-1</td>\n",
       "      <td>76</td>\n",
       "      <td>True</td>\n",
       "      <td>GUA</td>\n",
       "      <td>TAC</td>\n",
       "      <td>Val</td>\n",
       "      <td>False</td>\n",
       "      <td>True</td>\n",
       "      <td>Val-GUA</td>\n",
       "      <td>True</td>\n",
       "      <td>98.181818</td>\n",
       "      <td>55</td>\n",
       "      <td>98.181818</td>\n",
       "    </tr>\n",
       "    <tr>\n",
       "      <th>6348</th>\n",
       "      <td>A-NaCl</td>\n",
       "      <td>1</td>\n",
       "      <td>l4</td>\n",
       "      <td>Homo_sapiens_tRNA-Val-TAC-4-1</td>\n",
       "      <td>76</td>\n",
       "      <td>True</td>\n",
       "      <td>GUA</td>\n",
       "      <td>TAC</td>\n",
       "      <td>Val</td>\n",
       "      <td>False</td>\n",
       "      <td>True</td>\n",
       "      <td>Val-GUA</td>\n",
       "      <td>True</td>\n",
       "      <td>100.000000</td>\n",
       "      <td>18</td>\n",
       "      <td>100.000000</td>\n",
       "    </tr>\n",
       "    <tr>\n",
       "      <th>6349</th>\n",
       "      <td>A-NaCl</td>\n",
       "      <td>1</td>\n",
       "      <td>l4</td>\n",
       "      <td>Homo_sapiens_tRNA-iMet-CAT-1-1</td>\n",
       "      <td>75</td>\n",
       "      <td>True</td>\n",
       "      <td>AUG</td>\n",
       "      <td>CAT</td>\n",
       "      <td>iMet</td>\n",
       "      <td>False</td>\n",
       "      <td>True</td>\n",
       "      <td>iMet-AUG</td>\n",
       "      <td>True</td>\n",
       "      <td>99.598930</td>\n",
       "      <td>2244</td>\n",
       "      <td>99.598930</td>\n",
       "    </tr>\n",
       "    <tr>\n",
       "      <th>6350</th>\n",
       "      <td>A-NaCl</td>\n",
       "      <td>1</td>\n",
       "      <td>l4</td>\n",
       "      <td>Homo_sapiens_tRNA-iMet-CAT-1-1@Homo_sapiens_tR...</td>\n",
       "      <td>75</td>\n",
       "      <td>False</td>\n",
       "      <td>AUG</td>\n",
       "      <td>CAT</td>\n",
       "      <td>iMet</td>\n",
       "      <td>False</td>\n",
       "      <td>True</td>\n",
       "      <td>iMet-AUG</td>\n",
       "      <td>True</td>\n",
       "      <td>100.000000</td>\n",
       "      <td>8</td>\n",
       "      <td>100.000000</td>\n",
       "    </tr>\n",
       "    <tr>\n",
       "      <th>6351</th>\n",
       "      <td>A-NaCl</td>\n",
       "      <td>1</td>\n",
       "      <td>l4</td>\n",
       "      <td>Homo_sapiens_tRNA-iMet-CAT-2-1</td>\n",
       "      <td>75</td>\n",
       "      <td>True</td>\n",
       "      <td>AUG</td>\n",
       "      <td>CAT</td>\n",
       "      <td>iMet</td>\n",
       "      <td>False</td>\n",
       "      <td>True</td>\n",
       "      <td>iMet-AUG</td>\n",
       "      <td>True</td>\n",
       "      <td>100.000000</td>\n",
       "      <td>3</td>\n",
       "      <td>100.000000</td>\n",
       "    </tr>\n",
       "  </tbody>\n",
       "</table>\n",
       "<p>6352 rows × 16 columns</p>\n",
       "</div>"
      ],
      "text/plain": [
       "     sample_name  replicate barcode  \\\n",
       "0           Rich          1      l1   \n",
       "1           Rich          1      l1   \n",
       "2           Rich          1      l1   \n",
       "3           Rich          1      l1   \n",
       "4           Rich          1      l1   \n",
       "...          ...        ...     ...   \n",
       "6347      A-NaCl          1      l4   \n",
       "6348      A-NaCl          1      l4   \n",
       "6349      A-NaCl          1      l4   \n",
       "6350      A-NaCl          1      l4   \n",
       "6351      A-NaCl          1      l4   \n",
       "\n",
       "                                        tRNA_annotation  tRNA_annotation_len  \\\n",
       "0     Escherichia_coli_str_K_12_substr_MG1655_tRNA-e...                   76   \n",
       "1                    Homo_sapiens_mito_tRNA-Ala-TGC-1-1                   72   \n",
       "2                    Homo_sapiens_mito_tRNA-Arg-TCG-1-1                   68   \n",
       "3                    Homo_sapiens_mito_tRNA-Asn-GTT-1-1                   76   \n",
       "4                    Homo_sapiens_mito_tRNA-Asp-GTC-1-1                   71   \n",
       "...                                                 ...                  ...   \n",
       "6347                      Homo_sapiens_tRNA-Val-TAC-3-1                   76   \n",
       "6348                      Homo_sapiens_tRNA-Val-TAC-4-1                   76   \n",
       "6349                     Homo_sapiens_tRNA-iMet-CAT-1-1                   75   \n",
       "6350  Homo_sapiens_tRNA-iMet-CAT-1-1@Homo_sapiens_tR...                   75   \n",
       "6351                     Homo_sapiens_tRNA-iMet-CAT-2-1                   75   \n",
       "\n",
       "      unique_annotation codon anticodon amino_acid  mito_codon  human_codon  \\\n",
       "0                  True   AAA       TTT   eColiLys       False        False   \n",
       "1                  True   GCA       TGC        Ala        True         True   \n",
       "2                  True   CGA       TCG        Arg        True         True   \n",
       "3                  True   AAC       GTT        Asn        True         True   \n",
       "4                  True   GAC       GTC        Asp        True         True   \n",
       "...                 ...   ...       ...        ...         ...          ...   \n",
       "6347               True   GUA       TAC        Val       False         True   \n",
       "6348               True   GUA       TAC        Val       False         True   \n",
       "6349               True   AUG       CAT       iMet       False         True   \n",
       "6350              False   AUG       CAT       iMet       False         True   \n",
       "6351               True   AUG       CAT       iMet       False         True   \n",
       "\n",
       "          AA_codon  single_codon      charge  Ncharge  charge_norm  \n",
       "0     eColiLys-AAA          True   45.226131      199    55.701367  \n",
       "1          Ala-GCA          True   70.731707       41    87.114523  \n",
       "2          Arg-CGA          True   64.444444       45    79.371010  \n",
       "3          Asn-AAC          True   56.250000       32    69.278576  \n",
       "4          Asp-GAC          True   72.093023       86    88.791146  \n",
       "...            ...           ...         ...      ...          ...  \n",
       "6347       Val-GUA          True   98.181818       55    98.181818  \n",
       "6348       Val-GUA          True  100.000000       18   100.000000  \n",
       "6349      iMet-AUG          True   99.598930     2244    99.598930  \n",
       "6350      iMet-AUG          True  100.000000        8   100.000000  \n",
       "6351      iMet-AUG          True  100.000000        3   100.000000  \n",
       "\n",
       "[6352 rows x 16 columns]"
      ]
     },
     "execution_count": 123,
     "metadata": {},
     "output_type": "execute_result"
    }
   ],
   "source": [
    "df_charge"
   ]
  },
  {
   "cell_type": "code",
   "execution_count": null,
   "metadata": {},
   "outputs": [],
   "source": []
  },
  {
   "cell_type": "code",
   "execution_count": null,
   "metadata": {},
   "outputs": [],
   "source": []
  },
  {
   "cell_type": "code",
   "execution_count": null,
   "metadata": {},
   "outputs": [],
   "source": []
  },
  {
   "cell_type": "code",
   "execution_count": null,
   "metadata": {},
   "outputs": [],
   "source": []
  },
  {
   "cell_type": "code",
   "execution_count": 70,
   "metadata": {},
   "outputs": [],
   "source": []
  },
  {
   "cell_type": "code",
   "execution_count": null,
   "metadata": {},
   "outputs": [],
   "source": []
  },
  {
   "cell_type": "code",
   "execution_count": null,
   "metadata": {},
   "outputs": [],
   "source": []
  },
  {
   "cell_type": "code",
   "execution_count": null,
   "metadata": {},
   "outputs": [],
   "source": []
  },
  {
   "cell_type": "code",
   "execution_count": null,
   "metadata": {},
   "outputs": [],
   "source": []
  },
  {
   "cell_type": "code",
   "execution_count": null,
   "metadata": {},
   "outputs": [],
   "source": []
  },
  {
   "cell_type": "code",
   "execution_count": null,
   "metadata": {},
   "outputs": [],
   "source": []
  },
  {
   "cell_type": "code",
   "execution_count": null,
   "metadata": {},
   "outputs": [],
   "source": []
  },
  {
   "cell_type": "code",
   "execution_count": null,
   "metadata": {},
   "outputs": [],
   "source": []
  },
  {
   "cell_type": "code",
   "execution_count": null,
   "metadata": {},
   "outputs": [],
   "source": []
  },
  {
   "cell_type": "code",
   "execution_count": null,
   "metadata": {},
   "outputs": [],
   "source": []
  },
  {
   "cell_type": "code",
   "execution_count": 58,
   "metadata": {},
   "outputs": [
    {
     "data": {
      "image/png": "[encoded data removed]",
      "text/plain": [
       "<Figure size 1440x316.8 with 1 Axes>"
      ]
     },
     "metadata": {},
     "output_type": "display_data"
    }
   ],
   "source": [
    "mask = (df_charge['human_codon']) & (~df_charge['mito_codon']) & (df_charge['barcode'] != 'l4')\n",
    "codon_list = sorted(set(df_charge['AA_codon'][mask].values), key=str.casefold)\n",
    "\n",
    "fig, ax1 = plt.subplots(1, 1, figsize=(20, 4.4))\n",
    "\n",
    "g1 = sns.barplot(ax=ax1, x='AA_codon', y='charge_norm', hue='sample_name', order=codon_list, hue_order=['Rich', 'L', 'A', 'U'], data=df_charge[mask], capsize=.1, errwidth=2, edgecolor='black', linewidth=2, alpha=0.7)\n",
    "g1.grid(True, axis='y')\n",
    "g1.set_ylabel('Charge (%)');\n",
    "g1.set_xlabel('');\n",
    "g1.set_xticklabels(g1.get_xticklabels(), rotation=90)\n",
    "\n",
    "old_legend = g1.legend_\n",
    "handles = old_legend.legendHandles\n",
    "labels = ['Rich', 'No Leu', 'No Arg', '5 μM UCPH']\n",
    "title = 'Treatment'\n",
    "g1.legend(handles, labels, title=title, bbox_to_anchor=(1.04,1), borderaxespad=0)\n",
    "\n",
    "\n",
    "plt.tight_layout()\n",
    "fig.savefig('mito.pdf')"
   ]
  },
  {
   "cell_type": "code",
   "execution_count": null,
   "metadata": {},
   "outputs": [],
   "source": []
  },
  {
   "cell_type": "code",
   "execution_count": null,
   "metadata": {},
   "outputs": [],
   "source": []
  },
  {
   "cell_type": "code",
   "execution_count": null,
   "metadata": {},
   "outputs": [],
   "source": []
  },
  {
   "cell_type": "code",
   "execution_count": 139,
   "metadata": {},
   "outputs": [],
   "source": []
  },
  {
   "cell_type": "code",
   "execution_count": null,
   "metadata": {},
   "outputs": [],
   "source": []
  },
  {
   "cell_type": "code",
   "execution_count": null,
   "metadata": {},
   "outputs": [],
   "source": []
  },
  {
   "cell_type": "code",
   "execution_count": null,
   "metadata": {},
   "outputs": [],
   "source": []
  },
  {
   "cell_type": "code",
   "execution_count": null,
   "metadata": {},
   "outputs": [],
   "source": []
  },
  {
   "cell_type": "code",
   "execution_count": null,
   "metadata": {},
   "outputs": [],
   "source": []
  },
  {
   "cell_type": "code",
   "execution_count": null,
   "metadata": {},
   "outputs": [],
   "source": []
  },
  {
   "cell_type": "code",
   "execution_count": null,
   "metadata": {},
   "outputs": [],
   "source": []
  },
  {
   "cell_type": "code",
   "execution_count": null,
   "metadata": {},
   "outputs": [],
   "source": []
  },
  {
   "cell_type": "code",
   "execution_count": 144,
   "metadata": {},
   "outputs": [],
   "source": []
  },
  {
   "cell_type": "code",
   "execution_count": null,
   "metadata": {},
   "outputs": [],
   "source": []
  },
  {
   "cell_type": "code",
   "execution_count": null,
   "metadata": {},
   "outputs": [],
   "source": []
  },
  {
   "cell_type": "code",
   "execution_count": null,
   "metadata": {},
   "outputs": [],
   "source": []
  },
  {
   "cell_type": "code",
   "execution_count": null,
   "metadata": {},
   "outputs": [],
   "source": []
  },
  {
   "cell_type": "code",
   "execution_count": null,
   "metadata": {},
   "outputs": [],
   "source": []
  },
  {
   "cell_type": "code",
   "execution_count": null,
   "metadata": {},
   "outputs": [],
   "source": []
  }
 ],
 "metadata": {
  "kernelspec": {
   "display_name": "Python 3 (ipykernel)",
   "language": "python",
   "name": "python3"
  },
  "language_info": {
   "codemirror_mode": {
    "name": "ipython",
    "version": 3
   },
   "file_extension": ".py",
   "mimetype": "text/x-python",
   "name": "python",
   "nbconvert_exporter": "python",
   "pygments_lexer": "ipython3",
   "version": "3.9.7"
  }
 },
 "nbformat": 4,
 "nbformat_minor": 4
}
