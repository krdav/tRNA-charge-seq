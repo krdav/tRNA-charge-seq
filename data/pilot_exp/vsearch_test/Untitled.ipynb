{
 "cells": [
  {
   "cell_type": "code",
   "execution_count": 81,
   "metadata": {},
   "outputs": [],
   "source": [
    "from Bio.Blast import NCBIXML\n",
    "from Bio import SearchIO\n",
    "import xml.etree.ElementTree as ET\n"
   ]
  },
  {
   "cell_type": "code",
   "execution_count": 118,
   "metadata": {},
   "outputs": [],
   "source": [
    "fnam = \"out_swipe.fa\""
   ]
  },
  {
   "cell_type": "code",
   "execution_count": null,
   "metadata": {},
   "outputs": [],
   "source": []
  },
  {
   "cell_type": "code",
   "execution_count": 119,
   "metadata": {},
   "outputs": [],
   "source": [
    "tree = ET.parse(fnam)\n",
    "q = tree.getroot()"
   ]
  },
  {
   "cell_type": "code",
   "execution_count": 120,
   "metadata": {},
   "outputs": [
    {
     "name": "stdout",
     "output_type": "stream",
     "text": [
      "hitno 1\n",
      "track 384\n",
      "query M_M04866:495:000000000-DCJNG:1:1101:14680:1959\n",
      "name gnl|BL_ORD_ID|384 Homo_sapiens_tRNA-Val-CAC-4-1\n",
      "len 76\n",
      "score 51\n",
      "alignment M59\n",
      "qpos 12,70\n",
      "dpos 1,59\n",
      "qseq gtttccgtagtgtagtggttatcacgttcgcctcacactcgaaagttccccggttcgaa\n",
      "aseq |||||||||||||||||||||||||||||||||||||| |||||| |||||||||||||\n",
      "dseq gtttccgtagtgtagtggttatcacgttcgcctcacacgcgaaaggtccccggttcgaa\n",
      "hitno 1\n",
      "track 414\n",
      "query M_M04866:495:000000000-DCJNG:1:1101:18195:1971\n",
      "name gnl|BL_ORD_ID|414 Homo_sapiens_mito_tRNA-Pro-TGG-1-1\n",
      "len 71\n",
      "score 49\n",
      "alignment M25I1M31\n",
      "qpos 12,67\n",
      "dpos 10,66\n",
      "qseq gtttaaattagaatcttagctttgg-tgctaatggtggagttaaagactttttctct\n",
      "aseq ||||||||||||||||||||||||| |||||||||||||||||||||||||||||||\n",
      "dseq gtttaaattagaatcttagctttgggtgctaatggtggagttaaagactttttctct\n",
      "hitno 1\n",
      "track 40\n",
      "query M_M04866:495:000000000-DCJNG:1:1101:17488:1973\n",
      "name gnl|BL_ORD_ID|40 Homo_sapiens_tRNA-Arg-ACG-1-1\n",
      "len 76\n",
      "score 38\n",
      "alignment M66\n",
      "qpos 11,76\n",
      "dpos 8,73\n",
      "qseq tggcgcaatggataacgcatctgactgcgcatcagaagattccaggttaggatcctggctgtctcg\n",
      "aseq |||||||||||||||||| ||||||| || |||||||||||||||||| |  ||||||||| ||||\n",
      "dseq tggcgcaatggataacgcgtctgactacggatcagaagattccaggttcgactcctggctggctcg\n",
      "hitno 1\n",
      "track 203\n",
      "query M_M04866:495:000000000-DCJNG:1:1101:15362:1985\n",
      "name gnl|BL_ORD_ID|203 Homo_sapiens_tRNA-Leu-AAG-3-1\n",
      "len 85\n",
      "score 64\n",
      "alignment M84\n",
      "qpos 11,94\n",
      "dpos 2,85\n",
      "qseq gtagcgtggccgagcggtctaaggcactggattgaggctccagtctcttcgggggcgtgggttcatatcccaccgatgacacca\n",
      "aseq ||||||||||||||||||||||||| ||||||| ||||||||||||||||||||||||||||||| ||||||||| || |||||\n",
      "dseq gtagcgtggccgagcggtctaaggcgctggattaaggctccagtctcttcgggggcgtgggttcaaatcccaccgctgccacca\n",
      "hitno 1\n",
      "track 123\n",
      "query M_M04866:495:000000000-DCJNG:1:1101:15889:1990\n",
      "name gnl|BL_ORD_ID|123 Homo_sapiens_tRNA-Gln-CTG-1-1\n",
      "len 75\n",
      "score 63\n",
      "alignment M75\n",
      "qpos 12,86\n",
      "dpos 1,75\n",
      "qseq ggttccattgtgtaatggttagcactctggactctgaatccagcgatccgagttcatatctcggtggaacatcca\n",
      "aseq |||||||| ||||||||||||||||||||||||||||||||||||||||||||||| ||||||||||||| ||||\n",
      "dseq ggttccatggtgtaatggttagcactctggactctgaatccagcgatccgagttcaaatctcggtggaacctcca\n"
     ]
    }
   ],
   "source": [
    "for res in q:\n",
    "    #print(res.tag)\n",
    "    for hits in res:\n",
    "        if hits.tag == 'hits':\n",
    "            for hit in hits:\n",
    "                for info in hit:\n",
    "                    print(info.tag, info.text)\n",
    "            "
   ]
  },
  {
   "cell_type": "code",
   "execution_count": null,
   "metadata": {},
   "outputs": [],
   "source": []
  },
  {
   "cell_type": "code",
   "execution_count": null,
   "metadata": {},
   "outputs": [],
   "source": []
  },
  {
   "cell_type": "code",
   "execution_count": null,
   "metadata": {},
   "outputs": [],
   "source": []
  },
  {
   "cell_type": "code",
   "execution_count": null,
   "metadata": {},
   "outputs": [],
   "source": []
  },
  {
   "cell_type": "code",
   "execution_count": null,
   "metadata": {},
   "outputs": [],
   "source": []
  },
  {
   "cell_type": "code",
   "execution_count": 75,
   "metadata": {},
   "outputs": [],
   "source": [
    "qresult = SearchIO.read(fnam, 'blast-tab', comments=True)"
   ]
  },
  {
   "cell_type": "code",
   "execution_count": 76,
   "metadata": {},
   "outputs": [
    {
     "data": {
      "text/plain": [
       "QueryResult(id='', 0 hits)"
      ]
     },
     "execution_count": 76,
     "metadata": {},
     "output_type": "execute_result"
    }
   ],
   "source": [
    "qresult"
   ]
  },
  {
   "cell_type": "code",
   "execution_count": null,
   "metadata": {},
   "outputs": [],
   "source": []
  },
  {
   "cell_type": "code",
   "execution_count": null,
   "metadata": {},
   "outputs": [],
   "source": []
  },
  {
   "cell_type": "code",
   "execution_count": null,
   "metadata": {},
   "outputs": [],
   "source": []
  },
  {
   "cell_type": "code",
   "execution_count": 69,
   "metadata": {},
   "outputs": [
    {
     "ename": "ValueError",
     "evalue": "Your XML file did not start with '<?xml'... but instead '# SWIPE 2.1.0 - Comp'",
     "output_type": "error",
     "traceback": [
      "\u001b[0;31m---------------------------------------------------------------------------\u001b[0m",
      "\u001b[0;31mValueError\u001b[0m                                Traceback (most recent call last)",
      "\u001b[0;32m<ipython-input-69-468558297c95>\u001b[0m in \u001b[0;36m<module>\u001b[0;34m\u001b[0m\n\u001b[1;32m      1\u001b[0m \u001b[0mblast_record\u001b[0m \u001b[0;34m=\u001b[0m \u001b[0;32mNone\u001b[0m\u001b[0;34m\u001b[0m\u001b[0;34m\u001b[0m\u001b[0m\n\u001b[0;32m----> 2\u001b[0;31m \u001b[0;32mfor\u001b[0m \u001b[0mblast_record\u001b[0m \u001b[0;32min\u001b[0m \u001b[0mNCBIXML\u001b[0m\u001b[0;34m.\u001b[0m\u001b[0mparse\u001b[0m\u001b[0;34m(\u001b[0m\u001b[0mopen\u001b[0m\u001b[0;34m(\u001b[0m\u001b[0mfnam\u001b[0m\u001b[0;34m)\u001b[0m\u001b[0;34m)\u001b[0m\u001b[0;34m:\u001b[0m\u001b[0;34m\u001b[0m\u001b[0;34m\u001b[0m\u001b[0m\n\u001b[0m\u001b[1;32m      3\u001b[0m     \u001b[0;32mpass\u001b[0m\u001b[0;34m\u001b[0m\u001b[0;34m\u001b[0m\u001b[0m\n",
      "\u001b[0;32m~/anaconda3/lib/python3.8/site-packages/Bio/Blast/NCBIXML.py\u001b[0m in \u001b[0;36mparse\u001b[0;34m(handle, debug)\u001b[0m\n\u001b[1;32m    802\u001b[0m         \u001b[0;31m# We are now starting a new XML file\u001b[0m\u001b[0;34m\u001b[0m\u001b[0;34m\u001b[0m\u001b[0;34m\u001b[0m\u001b[0m\n\u001b[1;32m    803\u001b[0m         \u001b[0;32mif\u001b[0m \u001b[0;32mnot\u001b[0m \u001b[0mtext\u001b[0m\u001b[0;34m.\u001b[0m\u001b[0mstartswith\u001b[0m\u001b[0;34m(\u001b[0m\u001b[0mXML_START\u001b[0m\u001b[0;34m)\u001b[0m\u001b[0;34m:\u001b[0m\u001b[0;34m\u001b[0m\u001b[0;34m\u001b[0m\u001b[0m\n\u001b[0;32m--> 804\u001b[0;31m             raise ValueError(\n\u001b[0m\u001b[1;32m    805\u001b[0m                 \u001b[0;34m\"Your XML file did not start with %r... but instead %r\"\u001b[0m\u001b[0;34m\u001b[0m\u001b[0;34m\u001b[0m\u001b[0m\n\u001b[1;32m    806\u001b[0m                 \u001b[0;34m%\u001b[0m \u001b[0;34m(\u001b[0m\u001b[0mXML_START\u001b[0m\u001b[0;34m,\u001b[0m \u001b[0mtext\u001b[0m\u001b[0;34m[\u001b[0m\u001b[0;34m:\u001b[0m\u001b[0;36m20\u001b[0m\u001b[0;34m]\u001b[0m\u001b[0;34m)\u001b[0m\u001b[0;34m\u001b[0m\u001b[0;34m\u001b[0m\u001b[0m\n",
      "\u001b[0;31mValueError\u001b[0m: Your XML file did not start with '<?xml'... but instead '# SWIPE 2.1.0 - Comp'"
     ]
    }
   ],
   "source": [
    "blast_record = None\n",
    "for blast_record in NCBIXML.parse(open(fnam)):\n",
    "    pass"
   ]
  },
  {
   "cell_type": "code",
   "execution_count": 62,
   "metadata": {},
   "outputs": [],
   "source": [
    "g = NCBIXML.parse(open(fnam))"
   ]
  },
  {
   "cell_type": "code",
   "execution_count": 63,
   "metadata": {},
   "outputs": [
    {
     "data": {
      "text/plain": [
       "<generator object parse at 0x119ddac10>"
      ]
     },
     "execution_count": 63,
     "metadata": {},
     "output_type": "execute_result"
    }
   ],
   "source": [
    "g"
   ]
  },
  {
   "cell_type": "code",
   "execution_count": null,
   "metadata": {},
   "outputs": [],
   "source": []
  },
  {
   "cell_type": "code",
   "execution_count": null,
   "metadata": {},
   "outputs": [],
   "source": []
  },
  {
   "cell_type": "code",
   "execution_count": null,
   "metadata": {},
   "outputs": [],
   "source": []
  },
  {
   "cell_type": "code",
   "execution_count": 122,
   "metadata": {},
   "outputs": [],
   "source": [
    "fnam2 = '../ggg.fa'"
   ]
  },
  {
   "cell_type": "code",
   "execution_count": 130,
   "metadata": {},
   "outputs": [],
   "source": [
    "def strdist(s1, s2):\n",
    "    return(sum([1 for i, j in zip(s1, s2) if i != j]))\n",
    "\n",
    "from Bio import SeqIO\n",
    "seqN = 1\n",
    "bd = dict()\n",
    "for record in SeqIO.parse(fnam2, \"fasta\"):\n",
    "    rs = str(record.seq)\n",
    "    if seqN <= 4:\n",
    "        bd[rs] = [rs]\n",
    "        seqN += 1\n",
    "    else:\n",
    "        for bs in bd:\n",
    "            if strdist(rs, bs) <= 2:\n",
    "                bd[bs].append(rs)\n",
    "        "
   ]
  },
  {
   "cell_type": "code",
   "execution_count": 156,
   "metadata": {},
   "outputs": [
    {
     "name": "stdout",
     "output_type": "stream",
     "text": [
      "  G   C   C   T   T   A   G   C\n",
      "A 0.2 0.2 0.0 0.0 0.0 1.0 0.0 0.1 \n",
      "T 0.1 0.1 0.1 1.0 1.0 0.0 0.0 0.1 \n",
      "G 0.6 0.1 0.0 0.0 0.0 0.0 1.0 0.0 \n",
      "C 0.1 0.6 0.9 0.0 0.0 0.0 0.0 0.8 \n",
      "  A   T   G   C   A   G   T   A\n",
      "A 0.7 0.2 0.0 0.1 0.9 0.1 0.0 1.0 \n",
      "T 0.1 0.8 0.2 0.1 0.1 0.0 1.0 0.0 \n",
      "G 0.0 0.0 0.7 0.0 0.0 0.9 0.0 0.0 \n",
      "C 0.2 0.0 0.1 0.8 0.0 0.0 0.0 0.0 \n",
      "  C   G   T   A   C   T   C   G\n",
      "A 0.2 0.1 0.0 1.0 0.1 0.0 0.0 0.0 \n",
      "T 0.1 0.2 1.0 0.0 0.1 1.0 0.1 0.1 \n",
      "G 0.0 0.6 0.0 0.0 0.0 0.0 0.0 0.9 \n",
      "C 0.7 0.1 0.0 0.0 0.8 0.0 0.9 0.0 \n",
      "  T   A   A   G   G   C   A   T\n",
      "A 0.3 0.6 0.9 0.0 0.0 0.0 1.0 0.0 \n",
      "T 0.4 0.1 0.0 0.0 0.0 0.1 0.0 1.0 \n",
      "G 0.0 0.0 0.0 1.0 1.0 0.0 0.0 0.0 \n",
      "C 0.3 0.3 0.1 0.0 0.0 0.9 0.0 0.0 \n"
     ]
    }
   ],
   "source": [
    "aa = ['A', 'T', 'G', 'C']\n",
    "for bs in bd:\n",
    "    print('  ' + '   '.join(list(bs)))\n",
    "    for a in aa:\n",
    "        print(a+' ', end='')\n",
    "        for pos in range(8):\n",
    "            Na = 0\n",
    "            for s in bd[bs]:\n",
    "                if s[pos] == a:\n",
    "                    Na += 1\n",
    "            #print(str(round(Na/len(bd[bs]), 2)) + ' ', end='')\n",
    "            print('{0:.1f} '.format(Na/len(bd[bs])), end='')\n",
    "        print()\n",
    "        "
   ]
  },
  {
   "cell_type": "code",
   "execution_count": null,
   "metadata": {},
   "outputs": [],
   "source": []
  },
  {
   "cell_type": "code",
   "execution_count": null,
   "metadata": {},
   "outputs": [],
   "source": []
  },
  {
   "cell_type": "code",
   "execution_count": null,
   "metadata": {},
   "outputs": [],
   "source": []
  }
 ],
 "metadata": {
  "kernelspec": {
   "display_name": "Python 3",
   "language": "python",
   "name": "python3"
  },
  "language_info": {
   "codemirror_mode": {
    "name": "ipython",
    "version": 3
   },
   "file_extension": ".py",
   "mimetype": "text/x-python",
   "name": "python",
   "nbconvert_exporter": "python",
   "pygments_lexer": "ipython3",
   "version": "3.8.5"
  }
 },
 "nbformat": 4,
 "nbformat_minor": 4
}
