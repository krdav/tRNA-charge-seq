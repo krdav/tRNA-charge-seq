{
 "cells": [
  {
   "cell_type": "code",
   "execution_count": null,
   "metadata": {},
   "outputs": [],
   "source": []
  },
  {
   "cell_type": "code",
   "execution_count": 1,
   "metadata": {},
   "outputs": [],
   "source": [
    "%load_ext autoreload\n",
    "%autoreload 2\n",
    "\n",
    "import os, sys, shutil, bz2, copy\n",
    "from pathlib import Path\n",
    "import pandas as pd\n",
    "pd.set_option('display.max_columns', 50)\n",
    "import numpy as np\n",
    "from natsort import natsorted\n",
    "\n",
    "### Plotting imports ###\n",
    "import seaborn as sns\n",
    "import matplotlib.pyplot as plt\n",
    "from matplotlib.backends.backend_pdf import PdfPages\n",
    "import matplotlib.colors as mcolors\n",
    "import matplotlib as mpl\n",
    "from matplotlib.patches import StepPatch\n",
    "import matplotlib.ticker as ticker\n",
    "import matplotlib.gridspec as gridspec\n",
    "import logomaker as lm\n",
    "palette = list(mcolors.TABLEAU_COLORS.keys())\n",
    "sns.set_theme(style=\"ticks\", palette=\"muted\")\n",
    "sns.set_context(\"talk\")\n",
    "%matplotlib inline"
   ]
  },
  {
   "cell_type": "code",
   "execution_count": 2,
   "metadata": {},
   "outputs": [
    {
     "name": "stdout",
     "output_type": "stream",
     "text": [
      "Notebook is in: /Users/krdav/Google Drive/MCB/Sullivan_lab/tRNA-charge-seq/sim/s1\n",
      "Repo is in: /Users/krdav/Google Drive/MCB/Sullivan_lab/tRNA-charge-seq\n"
     ]
    }
   ],
   "source": [
    "# Navigate back to NBdir in case of re-running a code block:\n",
    "if not 'NBdir' in globals():\n",
    "    NBdir = os.getcwd()\n",
    "print('Notebook is in: {}'.format(NBdir))\n",
    "os.chdir(NBdir)  # If you changed the current working dir, this will take you back to the notebook dir.\n",
    "\n",
    "# Define the path to the repo folder.\n",
    "# Change if necessary.\n",
    "homedir = '/'.join(NBdir.split('/')[0:-2])\n",
    "print('Repo is in: {}'.format(homedir))\n",
    "sys.path.insert(1, homedir)\n",
    "from src.misc import read_tRNAdb_info\n",
    "from src.alignment import SWIPE_align\n",
    "from src.stats_collection import STATS_collection\n",
    "from src.plotting import TRNA_plot\n",
    "from src.transcript_mutations import TM_analysis\n",
    "from src.simulate import TRNA_ReadSim\n",
    "\n",
    "# These are default folder names for data and raw fastq files\n",
    "# relative to the folder in which this notebook is in:\n",
    "data_dir = 'sim_data'\n",
    "# These folder names are used in subsequent processing steps\n",
    "# to dump data. Best to not change:\n",
    "align_dir = 'SWalign'\n",
    "stats_dir = 'stats_collection'\n",
    "TM_dir = 'transcript_mutations'\n",
    "plotting_dir = 'plotting'\n",
    "\n",
    "SWIPE_score_mat = '{}/utils/nuc_score-matrix.txt'.format(homedir)"
   ]
  },
  {
   "cell_type": "code",
   "execution_count": null,
   "metadata": {},
   "outputs": [],
   "source": []
  },
  {
   "cell_type": "code",
   "execution_count": null,
   "metadata": {},
   "outputs": [],
   "source": []
  },
  {
   "cell_type": "code",
   "execution_count": 6,
   "metadata": {},
   "outputs": [
    {
     "name": "stdout",
     "output_type": "stream",
     "text": [
      "Stopped with reference having 35.86/35.08 max/min coverage accross 5 read batches.\n"
     ]
    }
   ],
   "source": [
    "# Input files needed for read simulation:\n",
    "tRNA_ref_fnam = '{}/tRNA_database/human/hg38-tRNAs.fa'.format(homedir)\n",
    "tRNA_mod_fnam = '{}/utils/mod_types.json'.format(homedir)\n",
    "sim_sheet_fnam = 'sim_samples.xlsx'\n",
    "\n",
    "# Initialize the simulation object:\n",
    "dstr_mods = {'norm': {'mean': 8, 'std': 2}}\n",
    "sim_obj = TRNA_ReadSim(tRNA_ref_fnam, tRNA_mod_fnam, dstr_mods=dstr_mods)\n",
    "\n",
    "# Find a reference set with readthrough between 40 and 33 %:\n",
    "sim_kwargs={'mod_rdthr_scl': 0.1, 'gap_add_lbd': 0.4, 'mod_pen_scl': 1}\n",
    "sim_obj.adjust_ref_rdthr(rdthr_max=40, rdthr_min=35, kwargs=sim_kwargs)"
   ]
  },
  {
   "cell_type": "code",
   "execution_count": null,
   "metadata": {},
   "outputs": [],
   "source": []
  },
  {
   "cell_type": "code",
   "execution_count": null,
   "metadata": {},
   "outputs": [],
   "source": []
  },
  {
   "cell_type": "code",
   "execution_count": null,
   "metadata": {},
   "outputs": [],
   "source": []
  },
  {
   "cell_type": "code",
   "execution_count": 7,
   "metadata": {},
   "outputs": [],
   "source": [
    "### Simulate reads ###\n",
    "dir_dict, sample_df, tRNA_db_sim = sim_obj.sim_from_sheet(sim_sheet_fnam, NBdir, \\\n",
    "                                                          data_dir=data_dir, overwrite_dir=True)\n",
    "\n",
    "# Add missing directories to the dict:\n",
    "dir_dict['align_dir'] = align_dir\n",
    "dir_dict['stats_dir'] = stats_dir\n",
    "dir_dict['TM_dir'] = TM_dir\n",
    "dir_dict['plotting_dir'] = plotting_dir\n",
    "\n",
    "# Read information (length, codon etc) of tRNAs into dictionary:\n",
    "tRNA_data = read_tRNAdb_info(tRNA_db_sim)"
   ]
  },
  {
   "cell_type": "code",
   "execution_count": null,
   "metadata": {},
   "outputs": [],
   "source": []
  },
  {
   "cell_type": "code",
   "execution_count": null,
   "metadata": {},
   "outputs": [],
   "source": []
  },
  {
   "cell_type": "code",
   "execution_count": 15,
   "metadata": {},
   "outputs": [
    {
     "name": "stdout",
     "output_type": "stream",
     "text": [
      "Running Swipe on:  75p_1  100p_1  100p_2  25p_1  50p_2  50p_1  0p_1  0p_2\n",
      "Collecting alignment statistics, from sample:  100p_1  100p_2  75p_1  25p_1  50p_2  50p_1  0p_1  0p_2"
     ]
    },
    {
     "data": {
      "text/html": [
       "<div>\n",
       "<style scoped>\n",
       "    .dataframe tbody tr th:only-of-type {\n",
       "        vertical-align: middle;\n",
       "    }\n",
       "\n",
       "    .dataframe tbody tr th {\n",
       "        vertical-align: top;\n",
       "    }\n",
       "\n",
       "    .dataframe thead th {\n",
       "        text-align: right;\n",
       "    }\n",
       "</style>\n",
       "<table border=\"1\" class=\"dataframe\">\n",
       "  <thead>\n",
       "    <tr style=\"text-align: right;\">\n",
       "      <th></th>\n",
       "      <th>sample_name_unique</th>\n",
       "      <th>sample_name</th>\n",
       "      <th>replicate</th>\n",
       "      <th>barcode</th>\n",
       "      <th>barcode_seq</th>\n",
       "      <th>species</th>\n",
       "      <th>plot_group</th>\n",
       "      <th>hue_name</th>\n",
       "      <th>hue_value</th>\n",
       "      <th>hue_order</th>\n",
       "      <th>N_after_downsample</th>\n",
       "      <th>N_UMI_observed</th>\n",
       "      <th>N_UMI_expected</th>\n",
       "      <th>percent_UMI_obs-vs-exp</th>\n",
       "      <th>N_mapped</th>\n",
       "      <th>percent_single_annotation</th>\n",
       "      <th>percent_multiple_annotation</th>\n",
       "      <th>percent_multiple_codons</th>\n",
       "      <th>Mapping_percent</th>\n",
       "    </tr>\n",
       "  </thead>\n",
       "  <tbody>\n",
       "    <tr>\n",
       "      <th>0</th>\n",
       "      <td>100p_1</td>\n",
       "      <td>100p</td>\n",
       "      <td>1</td>\n",
       "      <td>l2Sp</td>\n",
       "      <td>GGCTGCCATGCTGTCACG</td>\n",
       "      <td>human</td>\n",
       "      <td>Charge-titration</td>\n",
       "      <td>Percent charge</td>\n",
       "      <td>100p</td>\n",
       "      <td>1</td>\n",
       "      <td>10000</td>\n",
       "      <td>9911</td>\n",
       "      <td>9905.245375</td>\n",
       "      <td>100.058097</td>\n",
       "      <td>9850</td>\n",
       "      <td>78.812183</td>\n",
       "      <td>21.187817</td>\n",
       "      <td>1.401015</td>\n",
       "      <td>98.50</td>\n",
       "    </tr>\n",
       "    <tr>\n",
       "      <th>1</th>\n",
       "      <td>100p_2</td>\n",
       "      <td>100p</td>\n",
       "      <td>2</td>\n",
       "      <td>l4Sp</td>\n",
       "      <td>GGCTGCCATGCAAGCTG</td>\n",
       "      <td>human</td>\n",
       "      <td>Charge-titration</td>\n",
       "      <td>Percent charge</td>\n",
       "      <td>100p</td>\n",
       "      <td>1</td>\n",
       "      <td>10000</td>\n",
       "      <td>9903</td>\n",
       "      <td>9905.245375</td>\n",
       "      <td>99.977331</td>\n",
       "      <td>9843</td>\n",
       "      <td>78.736158</td>\n",
       "      <td>21.263842</td>\n",
       "      <td>1.483288</td>\n",
       "      <td>98.43</td>\n",
       "    </tr>\n",
       "    <tr>\n",
       "      <th>2</th>\n",
       "      <td>75p_1</td>\n",
       "      <td>75p</td>\n",
       "      <td>1</td>\n",
       "      <td>l6Sp</td>\n",
       "      <td>GGCTGCCATGCTACAG</td>\n",
       "      <td>human</td>\n",
       "      <td>Charge-titration</td>\n",
       "      <td>Percent charge</td>\n",
       "      <td>75p</td>\n",
       "      <td>2</td>\n",
       "      <td>10000</td>\n",
       "      <td>9917</td>\n",
       "      <td>9905.245375</td>\n",
       "      <td>100.118671</td>\n",
       "      <td>9824</td>\n",
       "      <td>78.318404</td>\n",
       "      <td>21.681596</td>\n",
       "      <td>1.333469</td>\n",
       "      <td>98.24</td>\n",
       "    </tr>\n",
       "  </tbody>\n",
       "</table>\n",
       "</div>"
      ],
      "text/plain": [
       "  sample_name_unique sample_name  replicate barcode         barcode_seq  \\\n",
       "0             100p_1        100p          1    l2Sp  GGCTGCCATGCTGTCACG   \n",
       "1             100p_2        100p          2    l4Sp   GGCTGCCATGCAAGCTG   \n",
       "2              75p_1         75p          1    l6Sp    GGCTGCCATGCTACAG   \n",
       "\n",
       "  species        plot_group        hue_name hue_value  hue_order  \\\n",
       "0   human  Charge-titration  Percent charge      100p          1   \n",
       "1   human  Charge-titration  Percent charge      100p          1   \n",
       "2   human  Charge-titration  Percent charge       75p          2   \n",
       "\n",
       "   N_after_downsample  N_UMI_observed  N_UMI_expected  percent_UMI_obs-vs-exp  \\\n",
       "0               10000            9911     9905.245375              100.058097   \n",
       "1               10000            9903     9905.245375               99.977331   \n",
       "2               10000            9917     9905.245375              100.118671   \n",
       "\n",
       "   N_mapped  percent_single_annotation  percent_multiple_annotation  \\\n",
       "0      9850                  78.812183                    21.187817   \n",
       "1      9843                  78.736158                    21.263842   \n",
       "2      9824                  78.318404                    21.681596   \n",
       "\n",
       "   percent_multiple_codons  Mapping_percent  \n",
       "0                 1.401015            98.50  \n",
       "1                 1.483288            98.43  \n",
       "2                 1.333469            98.24  "
      ]
     },
     "execution_count": 15,
     "metadata": {},
     "output_type": "execute_result"
    }
   ],
   "source": [
    "### Align reads to database of reference tRNAs ###\n",
    "align_obj = SWIPE_align(dir_dict, tRNA_db_sim, sample_df, SWIPE_score_mat, \\\n",
    "                        gap_penalty=6, extension_penalty=3, min_score_align=15, \\\n",
    "                        overwrite_dir=True)\n",
    "sample_df = align_obj.run_parallel(n_jobs=3)\n",
    "sample_df.head(3)"
   ]
  },
  {
   "cell_type": "code",
   "execution_count": null,
   "metadata": {},
   "outputs": [],
   "source": []
  },
  {
   "cell_type": "code",
   "execution_count": null,
   "metadata": {},
   "outputs": [],
   "source": []
  },
  {
   "cell_type": "code",
   "execution_count": null,
   "metadata": {},
   "outputs": [],
   "source": []
  },
  {
   "cell_type": "code",
   "execution_count": null,
   "metadata": {},
   "outputs": [],
   "source": []
  },
  {
   "cell_type": "code",
   "execution_count": null,
   "metadata": {},
   "outputs": [],
   "source": []
  },
  {
   "cell_type": "code",
   "execution_count": null,
   "metadata": {},
   "outputs": [],
   "source": []
  },
  {
   "cell_type": "code",
   "execution_count": null,
   "metadata": {},
   "outputs": [],
   "source": []
  },
  {
   "cell_type": "code",
   "execution_count": null,
   "metadata": {},
   "outputs": [],
   "source": []
  },
  {
   "cell_type": "code",
   "execution_count": null,
   "metadata": {},
   "outputs": [],
   "source": []
  },
  {
   "cell_type": "code",
   "execution_count": 16,
   "metadata": {},
   "outputs": [
    {
     "name": "stdout",
     "output_type": "stream",
     "text": [
      "Using existing folder because overwrite set to false: /Users/krdav/Google Drive/MCB/Sullivan_lab/tRNA-charge-seq/sim/s1/sim_data/stats_collection\n",
      "Collecting stats from:  100p_1  100p_2  75p_1  50p_1  25p_1  50p_2  0p_2  0p_1"
     ]
    },
    {
     "data": {
      "text/html": [
       "<div>\n",
       "<style scoped>\n",
       "    .dataframe tbody tr th:only-of-type {\n",
       "        vertical-align: middle;\n",
       "    }\n",
       "\n",
       "    .dataframe tbody tr th {\n",
       "        vertical-align: top;\n",
       "    }\n",
       "\n",
       "    .dataframe thead th {\n",
       "        text-align: right;\n",
       "    }\n",
       "</style>\n",
       "<table border=\"1\" class=\"dataframe\">\n",
       "  <thead>\n",
       "    <tr style=\"text-align: right;\">\n",
       "      <th></th>\n",
       "      <th>sample_name_unique</th>\n",
       "      <th>sample_name</th>\n",
       "      <th>replicate</th>\n",
       "      <th>barcode</th>\n",
       "      <th>species</th>\n",
       "      <th>tRNA_annotation</th>\n",
       "      <th>tRNA_annotation_len</th>\n",
       "      <th>unique_annotation</th>\n",
       "      <th>5p_cover</th>\n",
       "      <th>align_3p_nt</th>\n",
       "      <th>codon</th>\n",
       "      <th>anticodon</th>\n",
       "      <th>amino_acid</th>\n",
       "      <th>align_gap</th>\n",
       "      <th>fmax_score&gt;0.9</th>\n",
       "      <th>count</th>\n",
       "      <th>UMIcount</th>\n",
       "      <th>UMI_percent_exp</th>\n",
       "    </tr>\n",
       "  </thead>\n",
       "  <tbody>\n",
       "    <tr>\n",
       "      <th>0</th>\n",
       "      <td>100p_1</td>\n",
       "      <td>100p</td>\n",
       "      <td>1</td>\n",
       "      <td>l2Sp</td>\n",
       "      <td>human</td>\n",
       "      <td>Homo_sapiens_tRNA-Ala-AGC-10-1</td>\n",
       "      <td>76</td>\n",
       "      <td>True</td>\n",
       "      <td>False</td>\n",
       "      <td>A</td>\n",
       "      <td>GCU</td>\n",
       "      <td>AGC</td>\n",
       "      <td>Ala</td>\n",
       "      <td>False</td>\n",
       "      <td>False</td>\n",
       "      <td>14</td>\n",
       "      <td>14</td>\n",
       "      <td>100.001240</td>\n",
       "    </tr>\n",
       "    <tr>\n",
       "      <th>1</th>\n",
       "      <td>100p_1</td>\n",
       "      <td>100p</td>\n",
       "      <td>1</td>\n",
       "      <td>l2Sp</td>\n",
       "      <td>human</td>\n",
       "      <td>Homo_sapiens_tRNA-Ala-AGC-10-1</td>\n",
       "      <td>76</td>\n",
       "      <td>True</td>\n",
       "      <td>False</td>\n",
       "      <td>A</td>\n",
       "      <td>GCU</td>\n",
       "      <td>AGC</td>\n",
       "      <td>Ala</td>\n",
       "      <td>False</td>\n",
       "      <td>True</td>\n",
       "      <td>37</td>\n",
       "      <td>37</td>\n",
       "      <td>100.003433</td>\n",
       "    </tr>\n",
       "    <tr>\n",
       "      <th>2</th>\n",
       "      <td>100p_1</td>\n",
       "      <td>100p</td>\n",
       "      <td>1</td>\n",
       "      <td>l2Sp</td>\n",
       "      <td>human</td>\n",
       "      <td>Homo_sapiens_tRNA-Ala-AGC-10-1</td>\n",
       "      <td>76</td>\n",
       "      <td>True</td>\n",
       "      <td>False</td>\n",
       "      <td>A</td>\n",
       "      <td>GCU</td>\n",
       "      <td>AGC</td>\n",
       "      <td>Ala</td>\n",
       "      <td>True</td>\n",
       "      <td>False</td>\n",
       "      <td>2</td>\n",
       "      <td>2</td>\n",
       "      <td>100.000095</td>\n",
       "    </tr>\n",
       "  </tbody>\n",
       "</table>\n",
       "</div>"
      ],
      "text/plain": [
       "  sample_name_unique sample_name  replicate barcode species  \\\n",
       "0             100p_1        100p          1    l2Sp   human   \n",
       "1             100p_1        100p          1    l2Sp   human   \n",
       "2             100p_1        100p          1    l2Sp   human   \n",
       "\n",
       "                  tRNA_annotation  tRNA_annotation_len  unique_annotation  \\\n",
       "0  Homo_sapiens_tRNA-Ala-AGC-10-1                   76               True   \n",
       "1  Homo_sapiens_tRNA-Ala-AGC-10-1                   76               True   \n",
       "2  Homo_sapiens_tRNA-Ala-AGC-10-1                   76               True   \n",
       "\n",
       "   5p_cover align_3p_nt codon anticodon amino_acid  align_gap  fmax_score>0.9  \\\n",
       "0     False           A   GCU       AGC        Ala      False           False   \n",
       "1     False           A   GCU       AGC        Ala      False            True   \n",
       "2     False           A   GCU       AGC        Ala       True           False   \n",
       "\n",
       "   count  UMIcount  UMI_percent_exp  \n",
       "0     14        14       100.001240  \n",
       "1     37        37       100.003433  \n",
       "2      2         2       100.000095  "
      ]
     },
     "execution_count": 16,
     "metadata": {},
     "output_type": "execute_result"
    }
   ],
   "source": [
    "### Collect alignment statistics ###\n",
    "stats_obj = STATS_collection(dir_dict, tRNA_data, sample_df, \\\n",
    "                             overwrite_dir=False, check_exists=False)\n",
    "stats_df = stats_obj.run_parallel(n_jobs=4)\n",
    "stats_df.head(3)"
   ]
  },
  {
   "cell_type": "code",
   "execution_count": null,
   "metadata": {},
   "outputs": [],
   "source": []
  },
  {
   "cell_type": "code",
   "execution_count": 10,
   "metadata": {},
   "outputs": [],
   "source": [
    "### Generate standard tRNAseq data plots ###\n",
    "plot_obj = TRNA_plot(dir_dict, sample_df, overwrite_dir=False, pull_default=False)"
   ]
  },
  {
   "cell_type": "code",
   "execution_count": 13,
   "metadata": {
    "scrolled": true
   },
   "outputs": [
    {
     "name": "stdout",
     "output_type": "stream",
     "text": [
      "\n",
      "Now plotting sample/group:  Charge-titration\n",
      "Now plotting sample/group:  Charge-titration"
     ]
    }
   ],
   "source": [
    "# Codon abundance barchart:\n",
    "plot_obj.plot_abundance(plot_type='codon', plot_name='codon_abundance_grp', \\\n",
    "                        group=True, min_obs=20)\n",
    "\n",
    "# Codon charge barchart:\n",
    "plot_obj.plot_abundance(plot_type='codon', plot_name='codon_charge_grp', \\\n",
    "                        group=True, min_obs=20, charge_plot=True)"
   ]
  },
  {
   "cell_type": "code",
   "execution_count": 14,
   "metadata": {},
   "outputs": [
    {
     "name": "stdout",
     "output_type": "stream",
     "text": [
      "\n",
      "Now collecting data for sample:  100p_1  100p_2  50p_1  75p_1  50p_2  25p_1  0p_1  0p_2\n",
      "Now plotting sample:  100p_1  100p_2  75p_1  50p_1  50p_2  25p_1  0p_1  0p_2"
     ]
    }
   ],
   "source": [
    "# Coverage plots for cyto/mito transcripts:\n",
    "plot_obj.plot_coverage(compartment='cyto', plot_type='behrens', y_norm=True, \\\n",
    "                       plot_name='cov_plot_cyto_behrens_norm', n_jobs=12)"
   ]
  },
  {
   "cell_type": "code",
   "execution_count": null,
   "metadata": {},
   "outputs": [],
   "source": []
  },
  {
   "cell_type": "code",
   "execution_count": null,
   "metadata": {},
   "outputs": [],
   "source": []
  },
  {
   "cell_type": "code",
   "execution_count": null,
   "metadata": {},
   "outputs": [],
   "source": []
  },
  {
   "cell_type": "code",
   "execution_count": null,
   "metadata": {},
   "outputs": [],
   "source": []
  },
  {
   "cell_type": "code",
   "execution_count": null,
   "metadata": {},
   "outputs": [],
   "source": []
  },
  {
   "cell_type": "code",
   "execution_count": 6,
   "metadata": {},
   "outputs": [
    {
     "name": "stdout",
     "output_type": "stream",
     "text": [
      "Using common sequences...\n",
      "Folder exists and overwrite set to false... Doing nothing.\n"
     ]
    }
   ],
   "source": [
    "### Perform transcript mutation analysis ###\n",
    "TM_obj = TM_analysis(dir_dict, sample_df, tRNA_database, pull_default=False, \\\n",
    "                     common_seqs=common_seqs, ignore_common_count=False, \\\n",
    "                     overwrite_dir=False, check_exists=False)"
   ]
  },
  {
   "cell_type": "code",
   "execution_count": 7,
   "metadata": {},
   "outputs": [],
   "source": [
    "# Find mutations and save them:\n",
    "if False:\n",
    "    TM_obj.find_muts(n_jobs=8, unique_anno=True)\n",
    "    TM_obj.pickle_muts_write(pickle_name='saved_muts_unique-anno.pickle')\n",
    "else:\n",
    "    TM_obj.pickle_muts_read(pickle_name='saved_muts_unique-anno.pickle')"
   ]
  },
  {
   "cell_type": "code",
   "execution_count": 19,
   "metadata": {},
   "outputs": [],
   "source": [
    "# Plot mutation/gap/RT stops for charge titration samples:\n",
    "TM_obj.plot_transcript_mut_compare(species='human', \\\n",
    "                                   plot_name='charge-tit_mut_matrix_top20-max-diff', \\\n",
    "                                   no_plot_return=True, \\\n",
    "                                   mito=False,\n",
    "                                   data_type='mut', \\\n",
    "                                   min_count_show=400, \\\n",
    "                                   sample_pairs=[['100p', '100p', '85p', '85p', '40p'], \\\n",
    "                                                 ['85p',  '0p',   '40p', '0p',  '0p']], \\\n",
    "                                   sample_pairs_col='sample_name', \\\n",
    "                                   freq_avg_weighted=False, \\\n",
    "                                   topN=20, topN_select='max_diff')\n",
    "\n",
    "TM_obj.plot_transcript_mut_compare(species='human', \\\n",
    "                                   plot_name='charge-tit_gap_matrix_top20-max-diff', \\\n",
    "                                   no_plot_return=True, \\\n",
    "                                   mito=False,\n",
    "                                   data_type='gap', \\\n",
    "                                   min_count_show=400, \\\n",
    "                                   sample_pairs=[['100p', '100p', '85p', '85p', '40p'], \\\n",
    "                                                 ['85p',  '0p',   '40p', '0p',  '0p']], \\\n",
    "                                   sample_pairs_col='sample_name', \\\n",
    "                                   freq_avg_weighted=False, \\\n",
    "                                   topN=20, topN_select='max_diff')\n",
    "\n",
    "TM_obj.plot_transcript_mut_compare(species='human', \\\n",
    "                                   plot_name='charge-tit_RTstops_matrix_top20-max-diff', \\\n",
    "                                   no_plot_return=True, \\\n",
    "                                   mito=False,\n",
    "                                   data_type='RTstops', \\\n",
    "                                   min_count_show=400, \\\n",
    "                                   sample_pairs=[['100p', '100p', '85p', '85p', '40p'], \\\n",
    "                                                 ['85p',  '0p',   '40p', '0p',  '0p']], \\\n",
    "                                   sample_pairs_col='sample_name', \\\n",
    "                                   freq_avg_weighted=False, \\\n",
    "                                   topN=20, topN_select='max_diff')"
   ]
  },
  {
   "cell_type": "code",
   "execution_count": 20,
   "metadata": {},
   "outputs": [],
   "source": [
    "# Plot mutation/gap/RT stops for charge titration samples:\n",
    "TM_obj.plot_transcript_mut_compare(species='human', \\\n",
    "                                   plot_name='hl_mut_matrix_top20-max-diff', \\\n",
    "                                   no_plot_return=True, \\\n",
    "                                   mito=False,\n",
    "                                   data_type='mut', \\\n",
    "                                   min_count_show=400, \\\n",
    "                                   sample_pairs=[['0m', '0m', '0m',  '4h',  '40h',], \\\n",
    "                                                 ['1h', '4h', '40h', '16h', '40h_NoOx']], \\\n",
    "                                   sample_pairs_col='sample_name', \\\n",
    "                                   freq_avg_weighted=False, \\\n",
    "                                   topN=20, topN_select='max_diff')\n",
    "\n",
    "TM_obj.plot_transcript_mut_compare(species='human', \\\n",
    "                                   plot_name='hl_gap_matrix_top20-max-diff', \\\n",
    "                                   no_plot_return=True, \\\n",
    "                                   mito=False,\n",
    "                                   data_type='gap', \\\n",
    "                                   min_count_show=400, \\\n",
    "                                   sample_pairs=[['0m', '0m', '0m',  '4h',  '40h',], \\\n",
    "                                                 ['1h', '4h', '40h', '16h', '40h_NoOx']], \\\n",
    "                                   sample_pairs_col='sample_name', \\\n",
    "                                   freq_avg_weighted=False, \\\n",
    "                                   topN=20, topN_select='max_diff')\n",
    "\n",
    "TM_obj.plot_transcript_mut_compare(species='human', \\\n",
    "                                   plot_name='hl_RTstops_matrix_top20-max-diff', \\\n",
    "                                   no_plot_return=True, \\\n",
    "                                   mito=False,\n",
    "                                   data_type='RTstops', \\\n",
    "                                   min_count_show=400, \\\n",
    "                                   sample_pairs=[['0m', '0m', '0m',  '4h',  '40h',], \\\n",
    "                                                 ['1h', '4h', '40h', '16h', '40h_NoOx']], \\\n",
    "                                   sample_pairs_col='sample_name', \\\n",
    "                                   freq_avg_weighted=False, \\\n",
    "                                   topN=20, topN_select='max_diff')"
   ]
  },
  {
   "cell_type": "code",
   "execution_count": 36,
   "metadata": {},
   "outputs": [],
   "source": [
    "# Plot the clustered mutation/gap/RT stop data for transcripts\n",
    "# with the mcm5s2U modification (see Lentini, Ramos & Fu 2018):\n",
    "TM_obj.plot_transcript_mut_cluster(data_type='mut', min_count_show=500, \\\n",
    "                                   plot_name='NoOx-vs-Ox_mcm5s2U-transcripts_mut-clust', \\\n",
    "                                   right_align=False, plot_compact=False, \\\n",
    "                                   vmax=0.8, \\\n",
    "                                   sample_list_incl=['40h_1', '40h_NoOx_1', '40h_2', '40h_NoOx_2', \\\n",
    "                                                     '40h_3', '40h_NoOx_3', '40h_4', '40h_NoOx_4'], \\\n",
    "                                   anno_substring_incl=['Homo_sapiens_tRNA-Lys-TTT-4-1', \\\n",
    "                                                        'Homo_sapiens_tRNA-Gln-TTG-1-1', \\\n",
    "                                                        'Homo_sapiens_tRNA-Arg-TCT-1-1', \\\n",
    "                                                        'Homo_sapiens_tRNA-Arg-TCG-3-1', \\\n",
    "                                                        'Homo_sapiens_tRNA-Glu-TTC-2-1'])\n",
    "\n",
    "TM_obj.plot_transcript_mut_cluster(data_type='gap', min_count_show=500, \\\n",
    "                                   plot_name='NoOx-vs-Ox_mcm5s2U-transcripts_gap-clust', \\\n",
    "                                   right_align=False, plot_compact=False, \\\n",
    "                                   vmax=0.2, \\\n",
    "                                   sample_list_incl=['40h_1', '40h_NoOx_1', '40h_2', '40h_NoOx_2', \\\n",
    "                                                     '40h_3', '40h_NoOx_3', '40h_4', '40h_NoOx_4'], \\\n",
    "                                   anno_substring_incl=['Homo_sapiens_tRNA-Lys-TTT-4-1', \\\n",
    "                                                        'Homo_sapiens_tRNA-Gln-TTG-1-1', \\\n",
    "                                                        'Homo_sapiens_tRNA-Arg-TCT-1-1', \\\n",
    "                                                        'Homo_sapiens_tRNA-Arg-TCG-3-1', \\\n",
    "                                                        'Homo_sapiens_tRNA-Glu-TTC-2-1'])\n",
    "\n",
    "TM_obj.plot_transcript_mut_cluster(data_type='RTstops', min_count_show=500, \\\n",
    "                                   plot_name='NoOx-vs-Ox_mcm5s2U-transcripts_RTstops-clust', \\\n",
    "                                   right_align=False, plot_compact=False, \\\n",
    "                                   vmax=80, \\\n",
    "                                   sample_list_incl=['40h_1', '40h_NoOx_1', '40h_2', '40h_NoOx_2', \\\n",
    "                                                     '40h_3', '40h_NoOx_3', '40h_4', '40h_NoOx_4'], \\\n",
    "                                   anno_substring_incl=['Homo_sapiens_tRNA-Lys-TTT-4-1', \\\n",
    "                                                        'Homo_sapiens_tRNA-Gln-TTG-1-1', \\\n",
    "                                                        'Homo_sapiens_tRNA-Arg-TCT-1-1', \\\n",
    "                                                        'Homo_sapiens_tRNA-Arg-TCG-3-1', \\\n",
    "                                                        'Homo_sapiens_tRNA-Glu-TTC-2-1'])"
   ]
  },
  {
   "cell_type": "code",
   "execution_count": 9,
   "metadata": {},
   "outputs": [],
   "source": [
    "# Plot the mutation/gap/RT stop data for\n",
    "# position 34 wobble position (see Lentini, Ramos & Fu 2018)\n",
    "# to infer mcm5s2U modification status:\n",
    "data_dict = TM_obj.plot_transcript_mut_pos(tr_pos=34, min_count_show=500, \\\n",
    "                                           plot_name='pos34_NoOx-vs-Ox', \\\n",
    "                                           xlabel_rot=30, \\\n",
    "                                           sample_list_incl=['40h_1', '40h_NoOx_1', '40h_2', '40h_NoOx_2', \\\n",
    "                                                             '40h_3', '40h_NoOx_3', '40h_4', '40h_NoOx_4'], \\\n",
    "                                           anno_substring_incl=['Homo_sapiens_tRNA-Lys-TTT-4-1', \\\n",
    "                                                                'Homo_sapiens_tRNA-Gln-TTG-1-1', \\\n",
    "                                                                'Homo_sapiens_tRNA-Arg-TCT-1-1', \\\n",
    "                                                                'Homo_sapiens_tRNA-Arg-TCG-3-1', \\\n",
    "                                                                'Homo_sapiens_tRNA-Glu-TTC-2-1'])"
   ]
  },
  {
   "cell_type": "code",
   "execution_count": 10,
   "metadata": {},
   "outputs": [],
   "source": [
    "# Prepare data for plotting the position 34 mcm5s2U modification\n",
    "# for oxidixed vs. non-oxidized samples:\n",
    "anno_list = list(data_dict.keys())\n",
    "df_cat = data_dict[anno_list[0]]['mut']\n",
    "df_cat['annotation'] = 'dummy'\n",
    "df_cat['data_type'] = 'dummy'\n",
    "\n",
    "for anno in anno_list:\n",
    "    for dtyp in ['mut', 'gap', 'RTstops']:\n",
    "        df = data_dict[anno][dtyp].copy()\n",
    "        df['annotation'] = anno\n",
    "        df['data_type'] = dtyp\n",
    "        df_cat = pd.concat([df_cat, df])\n",
    "\n",
    "mask = (df_cat['annotation'] != 'dummy')\n",
    "df_cat = df_cat[mask].reset_index(drop=True)\n",
    "\n",
    "df_cat['anno_short'] = [anno.split('_')[-1] for anno in df_cat['annotation']]\n",
    "df_cat['anno_shorter'] = ['-'.join(anno.split('-')[1:5]) for anno in df_cat['anno_short']]\n",
    "\n",
    "df_cat['sample name'] = [' '.join(snam.split('_')) for snam in df_cat['sample_name']]\n",
    "df_cat['sample_name_ox'] = ['NaCl' if 'NoOx' in snam else 'NaIO4' for snam in df_cat['sample_name']]"
   ]
  },
  {
   "cell_type": "code",
   "execution_count": 15,
   "metadata": {},
   "outputs": [
    {
     "data": {
      "image/png": "[encoded data removed]",
      "text/plain": [
       "<Figure size 648x612 with 3 Axes>"
      ]
     },
     "metadata": {},
     "output_type": "display_data"
    }
   ],
   "source": [
    "# Plot the mutation/gap/RT stop data for\n",
    "# position 34 to infer mcm5s2U modification status:\n",
    "fig = plt.figure(figsize=(9, 8.5))\n",
    "gs = fig.add_gridspec(2, 2)\n",
    "ax1 = fig.add_subplot(gs[0, 1])\n",
    "ax2 = fig.add_subplot(gs[1, 0])\n",
    "ax3 = fig.add_subplot(gs[1, 1])\n",
    "\n",
    "x_order = natsorted(set(df_cat['anno_shorter']))\n",
    "hue_order = ['NaCl', 'NaIO4']\n",
    "\n",
    "for dtyp, ax in zip(['mut', 'gap', 'RTstops'], [ax1, ax2, ax3]):\n",
    "    mask = (df_cat['data_type'] == dtyp)\n",
    "    g1 = sns.barplot(ax=ax, data=df_cat[mask], x='anno_shorter', y='mut_freq', hue='sample_name_ox', \\\n",
    "                     capsize=0.1, edgecolor=\".2\", linewidth=2, alpha=0.8, \\\n",
    "                     order=x_order, hue_order=hue_order)\n",
    "    g2 = sns.swarmplot(ax=ax, data=df_cat[mask], x='anno_shorter', y='mut_freq', hue='sample_name_ox', \\\n",
    "                       palette='dark:grey', alpha=0.7, edgecolor='black', dodge=True, \\\n",
    "                       linewidth=0.8, size=6, marker='X', warn_thresh=1, order=x_order, legend=False, \\\n",
    "                       hue_order=hue_order)\n",
    "    g1.set_xticklabels(g1.get_xticklabels(), rotation=30, size=14)\n",
    "\n",
    "    if dtyp == 'RTstops':\n",
    "        g2.set_ylabel('Percent')\n",
    "        g2.set_xlabel('')\n",
    "        g2.set_title('RT stops (pos 34)')\n",
    "        g1.legend_ = None\n",
    "\n",
    "    if dtyp == 'mut':\n",
    "        g2.set_ylabel('Frequency')\n",
    "        g2.set_xlabel('')\n",
    "        g2.set_title('Mismatches (pos 34)')\n",
    "        sns.move_legend(g1, \"lower center\", bbox_to_anchor=(0.5, 1.17), \\\n",
    "                        ncol=2, title='Oxidation rxn', alignment='center', \\\n",
    "                        labelspacing=0.3, handletextpad=0.3, borderaxespad=0.2, \\\n",
    "                        handlelength=1.5)\n",
    "\n",
    "    if dtyp == 'gap':\n",
    "        g2.set_ylabel('Frequency')\n",
    "        g2.set_xlabel('')\n",
    "        g2.set_title('Gaps (pos 34)')\n",
    "        g1.legend_ = None\n",
    "\n",
    "fig.tight_layout()\n",
    "fig.savefig('data/transcript_mutations/pos34_mcm5s2U_NoOx-vs-Ox.pdf', bbox_inches='tight')"
   ]
  },
  {
   "cell_type": "code",
   "execution_count": null,
   "metadata": {},
   "outputs": [],
   "source": []
  },
  {
   "cell_type": "code",
   "execution_count": null,
   "metadata": {},
   "outputs": [],
   "source": []
  },
  {
   "cell_type": "code",
   "execution_count": null,
   "metadata": {},
   "outputs": [],
   "source": []
  }
 ],
 "metadata": {
  "kernelspec": {
   "display_name": "Python 3",
   "language": "python",
   "name": "python3"
  },
  "language_info": {
   "codemirror_mode": {
    "name": "ipython",
    "version": 3
   },
   "file_extension": ".py",
   "mimetype": "text/x-python",
   "name": "python",
   "nbconvert_exporter": "python",
   "pygments_lexer": "ipython3",
   "version": "3.8.5"
  }
 },
 "nbformat": 4,
 "nbformat_minor": 4
}
