{
 "cells": [
  {
   "cell_type": "markdown",
   "metadata": {},
   "source": [
    "# tRNA sequencing - data processing example\n",
    "\n",
    "This notebook is an example of processing raw data from tRNA sequencing.\n",
    "It starts from raw paired-end reads and concludes with a datafile containing counts of tRNA transcripts, with information about amino acids, codons, charge etc. and broken down based on sample name, replicate etc.\n",
    "Some generically useful plots will be generated, such as: logo plots of the UMI sequences and non-template bases, plots showing the transcript/codon coverage and charge per sample.\n",
    "\n",
    "\n",
    "\n",
    "## Setup - no need to change\n",
    "Setting up folders, alignment setting, sequence information etc.\n",
    "There should be no need to change these setting if the raw bz2 compressed data is stored in a folder named `data/raw_fastq`.\n",
    "\n",
    "\n",
    "### Importing external packages"
   ]
  },
  {
   "cell_type": "code",
   "execution_count": 1,
   "metadata": {},
   "outputs": [
    {
     "name": "stderr",
     "output_type": "stream",
     "text": [
      "/home/sulab/anaconda3/lib/python3.9/site-packages/numpy/core/getlimits.py:549: UserWarning: The value of the smallest subnormal for <class 'numpy.float64'> type is zero.\n",
      "  setattr(self, word, getattr(machar, word).flat[0])\n",
      "/home/sulab/anaconda3/lib/python3.9/site-packages/numpy/core/getlimits.py:89: UserWarning: The value of the smallest subnormal for <class 'numpy.float64'> type is zero.\n",
      "  return self._float_to_str(self.smallest_subnormal)\n",
      "/home/sulab/anaconda3/lib/python3.9/site-packages/numpy/core/getlimits.py:549: UserWarning: The value of the smallest subnormal for <class 'numpy.float32'> type is zero.\n",
      "  setattr(self, word, getattr(machar, word).flat[0])\n",
      "/home/sulab/anaconda3/lib/python3.9/site-packages/numpy/core/getlimits.py:89: UserWarning: The value of the smallest subnormal for <class 'numpy.float32'> type is zero.\n",
      "  return self._float_to_str(self.smallest_subnormal)\n"
     ]
    }
   ],
   "source": [
    "# These magic cells reloads imported code when it changes.\n",
    "# Very useful for prototyping, other will do nothing.\n",
    "%load_ext autoreload\n",
    "%autoreload 2\n",
    "\n",
    "### General imports ###\n",
    "import os, sys, shutil, bz2\n",
    "from pathlib import Path\n",
    "import pandas as pd\n",
    "pd.set_option('display.max_columns', 50)\n",
    "import numpy as np\n",
    "\n",
    "### Plotting imports ###\n",
    "import seaborn as sns\n",
    "import matplotlib.pyplot as plt\n",
    "from matplotlib.backends.backend_pdf import PdfPages\n",
    "import matplotlib.colors as mcolors\n",
    "import matplotlib as mpl\n",
    "from matplotlib.patches import StepPatch\n",
    "import matplotlib.ticker as ticker\n",
    "import matplotlib.gridspec as gridspec\n",
    "import logomaker as lm\n",
    "from cycler import cycler\n",
    "palette = list(mcolors.TABLEAU_COLORS.keys())\n",
    "sns.set_theme(style=\"ticks\", palette=\"muted\")\n",
    "sns.set_context(\"talk\")\n",
    "%matplotlib inline"
   ]
  },
  {
   "cell_type": "markdown",
   "metadata": {},
   "source": [
    "### Setting home directory\n",
    "Navigate back to `NBdir` when re-running this code block."
   ]
  },
  {
   "cell_type": "code",
   "execution_count": 2,
   "metadata": {},
   "outputs": [
    {
     "name": "stdout",
     "output_type": "stream",
     "text": [
      "Notebook is in: /home/sulab/tRNA-charge-seq/projects/example\n"
     ]
    }
   ],
   "source": [
    "if not 'NBdir' in globals():\n",
    "    NBdir = os.getcwd()\n",
    "print('Notebook is in: {}'.format(NBdir))\n",
    "os.chdir(NBdir)  # If you changed the current working dir, this will take you back to the notebook dir."
   ]
  },
  {
   "cell_type": "markdown",
   "metadata": {},
   "source": [
    "Define the path to the repo folder and insert it to the system path to enable code import from the `src/` folder.\n",
    "__If the repo structure is changed this may need to be edited.__"
   ]
  },
  {
   "cell_type": "code",
   "execution_count": 3,
   "metadata": {},
   "outputs": [
    {
     "name": "stdout",
     "output_type": "stream",
     "text": [
      "Repo is in: /home/sulab/tRNA-charge-seq\n"
     ]
    }
   ],
   "source": [
    "homedir = '/'.join(NBdir.split('/')[0:-2])\n",
    "assert(os.path.isdir(homedir))\n",
    "print('Repo is in: {}'.format(homedir))\n",
    "sys.path.insert(1, homedir)"
   ]
  },
  {
   "cell_type": "markdown",
   "metadata": {},
   "source": [
    "### Importing internal code\n",
    "Import all the relevant classes and functions from the `src/` folder:"
   ]
  },
  {
   "cell_type": "code",
   "execution_count": 4,
   "metadata": {},
   "outputs": [],
   "source": [
    "from src.misc import index_to_sample_df, downsample_raw_input, read_tRNAdb_info, sample_df_to_dict, show_PDF\n",
    "from src.read_processing import AR_merge, BC_split, Kmer_analysis, BC_analysis, UMI_trim\n",
    "from src.alignment import SWIPE_align\n",
    "from src.stats_collection import STATS_collection\n",
    "from src.plotting import TRNA_plot\n",
    "from src.transcript_mutations import TM_analysis"
   ]
  },
  {
   "cell_type": "markdown",
   "metadata": {},
   "source": [
    "### Specify input\n",
    "Default folder names for data and raw fastq files relative to the folder in which this notebook is in.\n",
    "In this example all the output data should be put in the `data_dir` called `data` and the raw fastq files are stored in the `raw_fastq` folder, under the `data` folder."
   ]
  },
  {
   "cell_type": "code",
   "execution_count": 5,
   "metadata": {},
   "outputs": [],
   "source": [
    "data_dir = 'data'\n",
    "seq_dir = 'raw_fastq'\n",
    "seq_dir_noDS = seq_dir # Not downsampled\n",
    "assert(os.path.isdir('{}/{}/{}'.format(NBdir, data_dir, seq_dir)))"
   ]
  },
  {
   "cell_type": "markdown",
   "metadata": {},
   "source": [
    "The tRNA database is specied as a dictionary with keys for the different species:"
   ]
  },
  {
   "cell_type": "code",
   "execution_count": 6,
   "metadata": {},
   "outputs": [],
   "source": [
    "tRNA_database = dict()\n",
    "tRNA_database['human'] = '{}/tRNA_database/human/hg38-tRNAs.fa'.format(homedir)\n",
    "tRNA_database['mouse'] = '{}/tRNA_database/mouse/mm10-tRNAs.fa'.format(homedir)\n",
    "assert(all(os.path.isfile(db) for sp, db in tRNA_database.items()))\n",
    "tRNA_database_masked = dict()\n",
    "tRNA_database_masked['human'] = '{}/tRNA_database_masked/human/human-tRNAs.fa'.format(homedir)\n",
    "assert(all(os.path.isfile(db) for sp, db in tRNA_database_masked.items()))"
   ]
  },
  {
   "cell_type": "markdown",
   "metadata": {},
   "source": [
    "tRNA sequencing yields many duplicated reads.\n",
    "Adding these commonly seen sequences to a list prevents running the same alignments again and again.\n",
    "This is optional."
   ]
  },
  {
   "cell_type": "code",
   "execution_count": 7,
   "metadata": {},
   "outputs": [],
   "source": [
    "# common_seqs = '{}/utils/common-seqs.fasta.bz2'.format(homedir)\n",
    "# ^^ That one is big an comprehensive, good for a full scale run\n",
    "# with >1e6 reads per sample. For this example though it is going to\n",
    "# be a bottleneck for alignment so instead take the top 1k:\n",
    "common_seqs = '{}/utils/common-seqs_1k.fasta.bz2'.format(homedir)\n",
    "assert(os.path.isfile(common_seqs))"
   ]
  },
  {
   "cell_type": "markdown",
   "metadata": {},
   "source": [
    "Scoring matrices for SWIPE alignemnt.\n",
    "Matrix one is a standard +1 for match and -2 for mismatch.\n",
    "Matrix two is similar, but also rewarding match to a \"masked\" nt. marked by the character \"N\"."
   ]
  },
  {
   "cell_type": "code",
   "execution_count": 8,
   "metadata": {},
   "outputs": [],
   "source": [
    "SWIPE_score_mat = '{}/utils/nuc_score-matrix.txt'.format(homedir)\n",
    "SWIPE_score_mat2 = '{}/utils/nuc_score-matrix_2.txt'.format(homedir) # For masked reference sequences\n",
    "assert(os.path.isfile(SWIPE_score_mat))\n",
    "assert(os.path.isfile(SWIPE_score_mat2))"
   ]
  },
  {
   "cell_type": "markdown",
   "metadata": {},
   "source": [
    "Excel file to specify the sequence barcodes/indices e.g. the sequence of Illumina D501 index and the barcode sequence of each adapter."
   ]
  },
  {
   "cell_type": "code",
   "execution_count": 9,
   "metadata": {},
   "outputs": [],
   "source": [
    "index_list_fnam = 'index_list.xlsx'\n",
    "index_list_path = '{}/utils/{}'.format(homedir, index_list_fnam)\n",
    "assert(os.path.isfile(index_list_path))"
   ]
  },
  {
   "cell_type": "markdown",
   "metadata": {},
   "source": [
    "### Specify output directories\n",
    "These folder names are used in subsequent processing steps to dump data into the `data_dir`.\n",
    "Best to not change if you want to reload the data from past processing."
   ]
  },
  {
   "cell_type": "code",
   "execution_count": 10,
   "metadata": {},
   "outputs": [],
   "source": [
    "AdapterRemoval_dir = 'AdapterRemoval'\n",
    "BC_dir = 'BC_split'\n",
    "UMI_dir = 'UMI_trimmed'\n",
    "align_dir = 'SWalign'\n",
    "stats_dir = 'stats_collection'\n",
    "TM_dir = 'transcript_mutations'\n",
    "plotting_dir = 'plotting'"
   ]
  },
  {
   "cell_type": "markdown",
   "metadata": {},
   "source": [
    "### Specify setting for read length and alignment\n",
    "Define minimum read length based on minimum insert size."
   ]
  },
  {
   "cell_type": "code",
   "execution_count": 11,
   "metadata": {},
   "outputs": [
    {
     "name": "stdout",
     "output_type": "stream",
     "text": [
      "Using minimum read length: 39 (after merge)\n"
     ]
    }
   ],
   "source": [
    "MIN_INSERT_LEN = 10\n",
    "UMI_LEN = 10\n",
    "BC_MAX_LEN = 19\n",
    "MIN_READ_LEN = MIN_INSERT_LEN + UMI_LEN + BC_MAX_LEN\n",
    "print('Using minimum read length: {} (after merge)'.format(MIN_READ_LEN))"
   ]
  },
  {
   "cell_type": "markdown",
   "metadata": {},
   "source": [
    "The minimum alignment score.\n",
    "The alignment score is calculated as 1 per match, -2 per mismatch, -6 per gap opening and -1 per gap extension.\n",
    "Better to set relatively low, since additional filtering can be applied later."
   ]
  },
  {
   "cell_type": "code",
   "execution_count": 12,
   "metadata": {},
   "outputs": [
    {
     "name": "stdout",
     "output_type": "stream",
     "text": [
      "Using minimum alignemnt score: 15\n"
     ]
    }
   ],
   "source": [
    "MIN_SCORE_ALIGN = 15\n",
    "print('Using minimum alignemnt score: {}'.format(MIN_SCORE_ALIGN))"
   ]
  },
  {
   "cell_type": "markdown",
   "metadata": {},
   "source": [
    "### Read some global input"
   ]
  },
  {
   "cell_type": "code",
   "execution_count": 13,
   "metadata": {},
   "outputs": [],
   "source": [
    "# Read tRNA database information (length, codon etc) into dictionary:\n",
    "tRNA_data = read_tRNAdb_info(tRNA_database)\n",
    "# Read index information into dataframe:\n",
    "index_df = pd.read_excel(index_list_path)"
   ]
  },
  {
   "cell_type": "code",
   "execution_count": null,
   "metadata": {},
   "outputs": [],
   "source": []
  },
  {
   "cell_type": "code",
   "execution_count": null,
   "metadata": {},
   "outputs": [],
   "source": []
  },
  {
   "cell_type": "markdown",
   "metadata": {},
   "source": [
    "## Setup - sample specific\n",
    "A sample list is defined in an Excel file, in this case named `sample_list.xlsx`.\n",
    "Here, specify the filename, load it and show the first few rows:"
   ]
  },
  {
   "cell_type": "code",
   "execution_count": 14,
   "metadata": {},
   "outputs": [
    {
     "data": {
      "text/html": [
       "<div>\n",
       "<style scoped>\n",
       "    .dataframe tbody tr th:only-of-type {\n",
       "        vertical-align: middle;\n",
       "    }\n",
       "\n",
       "    .dataframe tbody tr th {\n",
       "        vertical-align: top;\n",
       "    }\n",
       "\n",
       "    .dataframe thead th {\n",
       "        text-align: right;\n",
       "    }\n",
       "</style>\n",
       "<table border=\"1\" class=\"dataframe\">\n",
       "  <thead>\n",
       "    <tr style=\"text-align: right;\">\n",
       "      <th></th>\n",
       "      <th>sample_name_unique</th>\n",
       "      <th>sample_name</th>\n",
       "      <th>replicate</th>\n",
       "      <th>fastq_mate1_filename</th>\n",
       "      <th>fastq_mate2_filename</th>\n",
       "      <th>P5_index</th>\n",
       "      <th>P7_index</th>\n",
       "      <th>barcode</th>\n",
       "      <th>species</th>\n",
       "      <th>plot_group</th>\n",
       "      <th>hue_name</th>\n",
       "      <th>hue_value</th>\n",
       "      <th>hue_order</th>\n",
       "    </tr>\n",
       "  </thead>\n",
       "  <tbody>\n",
       "    <tr>\n",
       "      <th>0</th>\n",
       "      <td>100p</td>\n",
       "      <td>100p</td>\n",
       "      <td>1</td>\n",
       "      <td>P3_R1.fastq.bz2</td>\n",
       "      <td>P3_R2.fastq.bz2</td>\n",
       "      <td>D501</td>\n",
       "      <td>D703</td>\n",
       "      <td>l2Sp</td>\n",
       "      <td>human</td>\n",
       "      <td>Charge-titration</td>\n",
       "      <td>Percent charge</td>\n",
       "      <td>100p</td>\n",
       "      <td>1</td>\n",
       "    </tr>\n",
       "    <tr>\n",
       "      <th>1</th>\n",
       "      <td>85p</td>\n",
       "      <td>85p</td>\n",
       "      <td>1</td>\n",
       "      <td>P3_R1.fastq.bz2</td>\n",
       "      <td>P3_R2.fastq.bz2</td>\n",
       "      <td>D501</td>\n",
       "      <td>D703</td>\n",
       "      <td>l4Sp</td>\n",
       "      <td>human</td>\n",
       "      <td>Charge-titration</td>\n",
       "      <td>Percent charge</td>\n",
       "      <td>85p</td>\n",
       "      <td>2</td>\n",
       "    </tr>\n",
       "  </tbody>\n",
       "</table>\n",
       "</div>"
      ],
      "text/plain": [
       "  sample_name_unique sample_name  replicate fastq_mate1_filename  \\\n",
       "0               100p        100p          1      P3_R1.fastq.bz2   \n",
       "1                85p         85p          1      P3_R1.fastq.bz2   \n",
       "\n",
       "  fastq_mate2_filename P5_index P7_index barcode species        plot_group  \\\n",
       "0      P3_R2.fastq.bz2     D501     D703    l2Sp   human  Charge-titration   \n",
       "1      P3_R2.fastq.bz2     D501     D703    l4Sp   human  Charge-titration   \n",
       "\n",
       "         hue_name hue_value  hue_order  \n",
       "0  Percent charge      100p          1  \n",
       "1  Percent charge       85p          2  "
      ]
     },
     "execution_count": 14,
     "metadata": {},
     "output_type": "execute_result"
    }
   ],
   "source": [
    "sample_list_fnam = 'sample_list.xlsx'\n",
    "sample_df = pd.read_excel('{}/{}'.format(NBdir, sample_list_fnam))\n",
    "sample_df.head(2)"
   ]
  },
  {
   "cell_type": "markdown",
   "metadata": {},
   "source": [
    "To this sample list dataframe add barcode and Illumina index sequences from the index dataframe:"
   ]
  },
  {
   "cell_type": "code",
   "execution_count": 15,
   "metadata": {},
   "outputs": [],
   "source": [
    "sample_df = index_to_sample_df(sample_df, index_df)"
   ]
  },
  {
   "cell_type": "markdown",
   "metadata": {},
   "source": [
    "Extract the filename for the paired-end mates to merge.\n",
    "In this example there is only one:"
   ]
  },
  {
   "cell_type": "code",
   "execution_count": 16,
   "metadata": {},
   "outputs": [
    {
     "data": {
      "text/html": [
       "<div>\n",
       "<style scoped>\n",
       "    .dataframe tbody tr th:only-of-type {\n",
       "        vertical-align: middle;\n",
       "    }\n",
       "\n",
       "    .dataframe tbody tr th {\n",
       "        vertical-align: top;\n",
       "    }\n",
       "\n",
       "    .dataframe thead th {\n",
       "        text-align: right;\n",
       "    }\n",
       "</style>\n",
       "<table border=\"1\" class=\"dataframe\">\n",
       "  <thead>\n",
       "    <tr style=\"text-align: right;\">\n",
       "      <th></th>\n",
       "      <th>fastq_mate1_filename</th>\n",
       "      <th>fastq_mate2_filename</th>\n",
       "      <th>P5_index</th>\n",
       "      <th>P7_index</th>\n",
       "      <th>P5_index_seq</th>\n",
       "      <th>P7_index_seq</th>\n",
       "    </tr>\n",
       "  </thead>\n",
       "  <tbody>\n",
       "    <tr>\n",
       "      <th>0</th>\n",
       "      <td>P3_R1.fastq.bz2</td>\n",
       "      <td>P3_R2.fastq.bz2</td>\n",
       "      <td>D501</td>\n",
       "      <td>D703</td>\n",
       "      <td>AGGCTATA</td>\n",
       "      <td>CGCTCATT</td>\n",
       "    </tr>\n",
       "  </tbody>\n",
       "</table>\n",
       "</div>"
      ],
      "text/plain": [
       "  fastq_mate1_filename fastq_mate2_filename P5_index P7_index P5_index_seq  \\\n",
       "0      P3_R1.fastq.bz2      P3_R2.fastq.bz2     D501     D703     AGGCTATA   \n",
       "\n",
       "  P7_index_seq  \n",
       "0     CGCTCATT  "
      ]
     },
     "execution_count": 16,
     "metadata": {},
     "output_type": "execute_result"
    }
   ],
   "source": [
    "# Get filenames from the sample information:\n",
    "inp_file_df = sample_df[['fastq_mate1_filename', 'fastq_mate2_filename', 'P5_index', 'P7_index', 'P5_index_seq', 'P7_index_seq']].copy().drop_duplicates().reset_index(drop=True)\n",
    "inp_file_df"
   ]
  },
  {
   "cell_type": "code",
   "execution_count": null,
   "metadata": {},
   "outputs": [],
   "source": []
  },
  {
   "cell_type": "markdown",
   "metadata": {},
   "source": [
    "### Downsampling for quick first-pass processing\n",
    "This example has 500,000 paired-end reads per file under `data/raw_fastq`.\n",
    "This is a small amount spread over the multiple samples that have been barcoded and pooled, but it is enough for an example.\n",
    "\n",
    "In a typical real run each sample has >1e6 reads and a total of more than 100 samples are pooled.\n",
    "Even simple tasks like uncompressing this amount of reads take a long time.\n",
    "To quickly check the integrity of the data, whether settings are right etc. it is possible to downsample each datafile using the `downsample_raw_input` function.\n",
    "\n",
    "There are two ways to perform downsampling at the input stage: using the `downsample_absolute` option or the `downsample_fold` option.\n",
    "When using the `downsample_absolute` option, samples are taken from the top of the fastq file (for speed reasons) and thus not randomly.\n",
    "Use the `downsample_fold` option for true random sampling.\n",
    "\n",
    "It is highly recommended to do a run on downsampled data first e.g. downsampled to 1e4 reads per file.\n",
    "That way, any error will be detected quickly and when results are satisfactory on the downsampled data the workflow can be performed on the full size data with confidence.\n",
    "\n",
    "Because this is an example there is no need to downsample the data first; however for reference, below is an example on how to call the `downsample_raw_input` function and downsample to 1e4 reads per file."
   ]
  },
  {
   "cell_type": "code",
   "execution_count": 17,
   "metadata": {},
   "outputs": [],
   "source": [
    "if False:\n",
    "    sample_df, inp_file_df, seq_dir = downsample_raw_input(sample_df, inp_file_df, NBdir, data_dir, seq_dir_noDS, downsample_absolute=1e4)"
   ]
  },
  {
   "cell_type": "markdown",
   "metadata": {},
   "source": [
    "### Paths for input/output\n",
    "Make a dictionary with paths used for data processing:"
   ]
  },
  {
   "cell_type": "code",
   "execution_count": 18,
   "metadata": {},
   "outputs": [],
   "source": [
    "dir_dict = dict(NBdir = NBdir,\n",
    "                data_dir = data_dir,\n",
    "                seq_dir = seq_dir,\n",
    "                AdapterRemoval_dir = AdapterRemoval_dir,\n",
    "                BC_dir = BC_dir,\n",
    "                UMI_dir = UMI_dir,\n",
    "                align_dir = align_dir,\n",
    "                stats_dir = stats_dir,\n",
    "                TM_dir = TM_dir,\n",
    "                plotting_dir = plotting_dir)"
   ]
  },
  {
   "cell_type": "code",
   "execution_count": null,
   "metadata": {},
   "outputs": [],
   "source": []
  },
  {
   "cell_type": "code",
   "execution_count": null,
   "metadata": {},
   "outputs": [],
   "source": []
  },
  {
   "cell_type": "markdown",
   "metadata": {},
   "source": [
    "## Process tRNA sequencing reads\n",
    "\n",
    "### Adapter removal and merging\n",
    "Run AdapterRemoval software to trim off any remaining Illumina adapters (if that has not already been done) and merge the paired-end reads:"
   ]
  },
  {
   "cell_type": "code",
   "execution_count": 19,
   "metadata": {},
   "outputs": [],
   "source": [
    "# Initiate the AdapterRemoval object:\n",
    "AR_obj = AR_merge(dir_dict, inp_file_df, MIN_READ_LEN, overwrite_dir=True)\n",
    "# Start AdapterRemoval (here n_jobs is irrelevant because there is only one input file pair):\n",
    "inp_file_df = AR_obj.run_parallel(n_jobs=4, overwrite=True)"
   ]
  },
  {
   "cell_type": "markdown",
   "metadata": {},
   "source": [
    "Statistics about the merging has now been added to the `inp_file_df` dataframe.\n",
    "Typically, >90 % of all reads are successfully merged."
   ]
  },
  {
   "cell_type": "code",
   "execution_count": 20,
   "metadata": {},
   "outputs": [
    {
     "data": {
      "text/html": [
       "<div>\n",
       "<style scoped>\n",
       "    .dataframe tbody tr th:only-of-type {\n",
       "        vertical-align: middle;\n",
       "    }\n",
       "\n",
       "    .dataframe tbody tr th {\n",
       "        vertical-align: top;\n",
       "    }\n",
       "\n",
       "    .dataframe thead th {\n",
       "        text-align: right;\n",
       "    }\n",
       "</style>\n",
       "<table border=\"1\" class=\"dataframe\">\n",
       "  <thead>\n",
       "    <tr style=\"text-align: right;\">\n",
       "      <th></th>\n",
       "      <th>fastq_mate1_filename</th>\n",
       "      <th>fastq_mate2_filename</th>\n",
       "      <th>P5_index</th>\n",
       "      <th>P7_index</th>\n",
       "      <th>P5_index_seq</th>\n",
       "      <th>P7_index_seq</th>\n",
       "      <th>N_pairs</th>\n",
       "      <th>N_merged</th>\n",
       "      <th>percent_successfully_merged</th>\n",
       "    </tr>\n",
       "  </thead>\n",
       "  <tbody>\n",
       "    <tr>\n",
       "      <th>0</th>\n",
       "      <td>P3_R1.fastq.bz2</td>\n",
       "      <td>P3_R2.fastq.bz2</td>\n",
       "      <td>D501</td>\n",
       "      <td>D703</td>\n",
       "      <td>AGGCTATA</td>\n",
       "      <td>CGCTCATT</td>\n",
       "      <td>551564</td>\n",
       "      <td>533567</td>\n",
       "      <td>96.737097</td>\n",
       "    </tr>\n",
       "  </tbody>\n",
       "</table>\n",
       "</div>"
      ],
      "text/plain": [
       "  fastq_mate1_filename fastq_mate2_filename P5_index P7_index P5_index_seq  \\\n",
       "0      P3_R1.fastq.bz2      P3_R2.fastq.bz2     D501     D703     AGGCTATA   \n",
       "\n",
       "  P7_index_seq  N_pairs  N_merged  percent_successfully_merged  \n",
       "0     CGCTCATT   551564    533567                    96.737097  "
      ]
     },
     "execution_count": 20,
     "metadata": {},
     "output_type": "execute_result"
    }
   ],
   "source": [
    "inp_file_df"
   ]
  },
  {
   "cell_type": "code",
   "execution_count": null,
   "metadata": {},
   "outputs": [],
   "source": []
  },
  {
   "cell_type": "markdown",
   "metadata": {},
   "source": [
    "### Sample splitting\n",
    "Now, each merged file (only one for this example) contains reads from several adapter barcoded samples.\n",
    "In the following code block the merged file is split into sample specific files."
   ]
  },
  {
   "cell_type": "code",
   "execution_count": 21,
   "metadata": {},
   "outputs": [],
   "source": [
    "# Initiate the barcode splitting object:\n",
    "BCsplit_obj = BC_split(dir_dict, sample_df, inp_file_df, overwrite_dir=True)\n",
    "# Split the files (again, n_jobs is irrelevant because there is only one input file):\n",
    "sample_df, inp_file_df = BCsplit_obj.run_parallel(n_jobs=4)"
   ]
  },
  {
   "cell_type": "markdown",
   "metadata": {},
   "source": [
    "New columns of statistics have been added to the `inp_file_df` dataframe.\n",
    "Typically, >90 % of all merged reads will be successfully mapped to a barcode and split.\n",
    "In this example only 76 % of reads were mapped, below will investigate why."
   ]
  },
  {
   "cell_type": "code",
   "execution_count": 22,
   "metadata": {},
   "outputs": [
    {
     "data": {
      "text/html": [
       "<div>\n",
       "<style scoped>\n",
       "    .dataframe tbody tr th:only-of-type {\n",
       "        vertical-align: middle;\n",
       "    }\n",
       "\n",
       "    .dataframe tbody tr th {\n",
       "        vertical-align: top;\n",
       "    }\n",
       "\n",
       "    .dataframe thead th {\n",
       "        text-align: right;\n",
       "    }\n",
       "</style>\n",
       "<table border=\"1\" class=\"dataframe\">\n",
       "  <thead>\n",
       "    <tr style=\"text-align: right;\">\n",
       "      <th></th>\n",
       "      <th>fastq_mate1_filename</th>\n",
       "      <th>fastq_mate2_filename</th>\n",
       "      <th>P5_index</th>\n",
       "      <th>P7_index</th>\n",
       "      <th>P5_index_seq</th>\n",
       "      <th>P7_index_seq</th>\n",
       "      <th>N_pairs</th>\n",
       "      <th>N_merged</th>\n",
       "      <th>percent_successfully_merged</th>\n",
       "      <th>N_BC-mapped</th>\n",
       "      <th>N_BC-unmapped</th>\n",
       "      <th>N_sum-check</th>\n",
       "      <th>percent_BC-mapped</th>\n",
       "    </tr>\n",
       "  </thead>\n",
       "  <tbody>\n",
       "    <tr>\n",
       "      <th>0</th>\n",
       "      <td>P3_R1.fastq.bz2</td>\n",
       "      <td>P3_R2.fastq.bz2</td>\n",
       "      <td>D501</td>\n",
       "      <td>D703</td>\n",
       "      <td>AGGCTATA</td>\n",
       "      <td>CGCTCATT</td>\n",
       "      <td>551564</td>\n",
       "      <td>533567</td>\n",
       "      <td>96.737097</td>\n",
       "      <td>425051</td>\n",
       "      <td>108516</td>\n",
       "      <td>533567</td>\n",
       "      <td>79.662161</td>\n",
       "    </tr>\n",
       "  </tbody>\n",
       "</table>\n",
       "</div>"
      ],
      "text/plain": [
       "  fastq_mate1_filename fastq_mate2_filename P5_index P7_index P5_index_seq  \\\n",
       "0      P3_R1.fastq.bz2      P3_R2.fastq.bz2     D501     D703     AGGCTATA   \n",
       "\n",
       "  P7_index_seq  N_pairs  N_merged  percent_successfully_merged  N_BC-mapped  \\\n",
       "0     CGCTCATT   551564    533567                    96.737097       425051   \n",
       "\n",
       "   N_BC-unmapped  N_sum-check  percent_BC-mapped  \n",
       "0         108516       533567          79.662161  "
      ]
     },
     "execution_count": 22,
     "metadata": {},
     "output_type": "execute_result"
    }
   ],
   "source": [
    "inp_file_df"
   ]
  },
  {
   "cell_type": "markdown",
   "metadata": {},
   "source": [
    "Statistics have also also been added to the `sample_df` dataframe.\n",
    "For example the total number of reads for the sample (N_total) and how many ended on CC vs. CCA.\n",
    "Since all mature tRNAs end on CCA, and oxidation and 3' cleavage generates 3' CC, the percentage of CCA+CC vs. total reads is a good indidator of sample purity; it is typically >95 %.\n",
    "The percentage of CCA ending sequences (vs. CCA+CC ending) can be interpreted as the bulk charge"
   ]
  },
  {
   "cell_type": "code",
   "execution_count": 23,
   "metadata": {},
   "outputs": [
    {
     "data": {
      "text/html": [
       "<div>\n",
       "<style scoped>\n",
       "    .dataframe tbody tr th:only-of-type {\n",
       "        vertical-align: middle;\n",
       "    }\n",
       "\n",
       "    .dataframe tbody tr th {\n",
       "        vertical-align: top;\n",
       "    }\n",
       "\n",
       "    .dataframe thead th {\n",
       "        text-align: right;\n",
       "    }\n",
       "</style>\n",
       "<table border=\"1\" class=\"dataframe\">\n",
       "  <thead>\n",
       "    <tr style=\"text-align: right;\">\n",
       "      <th></th>\n",
       "      <th>sample_name_unique</th>\n",
       "      <th>sample_name</th>\n",
       "      <th>replicate</th>\n",
       "      <th>fastq_mate1_filename</th>\n",
       "      <th>fastq_mate2_filename</th>\n",
       "      <th>P5_index</th>\n",
       "      <th>P7_index</th>\n",
       "      <th>barcode</th>\n",
       "      <th>species</th>\n",
       "      <th>plot_group</th>\n",
       "      <th>hue_name</th>\n",
       "      <th>hue_value</th>\n",
       "      <th>hue_order</th>\n",
       "      <th>P5_index_seq</th>\n",
       "      <th>P7_index_seq</th>\n",
       "      <th>barcode_seq</th>\n",
       "      <th>N_total</th>\n",
       "      <th>N_CC</th>\n",
       "      <th>N_CCA</th>\n",
       "      <th>N_CCA+CC</th>\n",
       "      <th>CCA+CC_percent_total</th>\n",
       "      <th>percent_CCA</th>\n",
       "    </tr>\n",
       "  </thead>\n",
       "  <tbody>\n",
       "    <tr>\n",
       "      <th>0</th>\n",
       "      <td>100p</td>\n",
       "      <td>100p</td>\n",
       "      <td>1</td>\n",
       "      <td>P3_R1.fastq.bz2</td>\n",
       "      <td>P3_R2.fastq.bz2</td>\n",
       "      <td>D501</td>\n",
       "      <td>D703</td>\n",
       "      <td>l2Sp</td>\n",
       "      <td>human</td>\n",
       "      <td>Charge-titration</td>\n",
       "      <td>Percent charge</td>\n",
       "      <td>100p</td>\n",
       "      <td>1</td>\n",
       "      <td>AGGCTATA</td>\n",
       "      <td>CGCTCATT</td>\n",
       "      <td>GGCTGCCATGCTGTCACG</td>\n",
       "      <td>42716</td>\n",
       "      <td>2277</td>\n",
       "      <td>40088</td>\n",
       "      <td>42365</td>\n",
       "      <td>99.178294</td>\n",
       "      <td>94.625280</td>\n",
       "    </tr>\n",
       "    <tr>\n",
       "      <th>1</th>\n",
       "      <td>85p</td>\n",
       "      <td>85p</td>\n",
       "      <td>1</td>\n",
       "      <td>P3_R1.fastq.bz2</td>\n",
       "      <td>P3_R2.fastq.bz2</td>\n",
       "      <td>D501</td>\n",
       "      <td>D703</td>\n",
       "      <td>l4Sp</td>\n",
       "      <td>human</td>\n",
       "      <td>Charge-titration</td>\n",
       "      <td>Percent charge</td>\n",
       "      <td>85p</td>\n",
       "      <td>2</td>\n",
       "      <td>AGGCTATA</td>\n",
       "      <td>CGCTCATT</td>\n",
       "      <td>GGCTGCCATGCAAGCTG</td>\n",
       "      <td>41313</td>\n",
       "      <td>9872</td>\n",
       "      <td>31070</td>\n",
       "      <td>40942</td>\n",
       "      <td>99.101978</td>\n",
       "      <td>75.887841</td>\n",
       "    </tr>\n",
       "    <tr>\n",
       "      <th>2</th>\n",
       "      <td>70p</td>\n",
       "      <td>70p</td>\n",
       "      <td>1</td>\n",
       "      <td>P3_R1.fastq.bz2</td>\n",
       "      <td>P3_R2.fastq.bz2</td>\n",
       "      <td>D501</td>\n",
       "      <td>D703</td>\n",
       "      <td>l6Sp</td>\n",
       "      <td>human</td>\n",
       "      <td>Charge-titration</td>\n",
       "      <td>Percent charge</td>\n",
       "      <td>70p</td>\n",
       "      <td>3</td>\n",
       "      <td>AGGCTATA</td>\n",
       "      <td>CGCTCATT</td>\n",
       "      <td>GGCTGCCATGCTACAG</td>\n",
       "      <td>52725</td>\n",
       "      <td>23269</td>\n",
       "      <td>29050</td>\n",
       "      <td>52319</td>\n",
       "      <td>99.229967</td>\n",
       "      <td>55.524762</td>\n",
       "    </tr>\n",
       "    <tr>\n",
       "      <th>3</th>\n",
       "      <td>47p</td>\n",
       "      <td>47p</td>\n",
       "      <td>1</td>\n",
       "      <td>P3_R1.fastq.bz2</td>\n",
       "      <td>P3_R2.fastq.bz2</td>\n",
       "      <td>D501</td>\n",
       "      <td>D703</td>\n",
       "      <td>l9Sp</td>\n",
       "      <td>human</td>\n",
       "      <td>Charge-titration</td>\n",
       "      <td>Percent charge</td>\n",
       "      <td>47p</td>\n",
       "      <td>4</td>\n",
       "      <td>AGGCTATA</td>\n",
       "      <td>CGCTCATT</td>\n",
       "      <td>GGCTGCCATGCAACGTACA</td>\n",
       "      <td>106275</td>\n",
       "      <td>67655</td>\n",
       "      <td>37726</td>\n",
       "      <td>105381</td>\n",
       "      <td>99.158786</td>\n",
       "      <td>35.799622</td>\n",
       "    </tr>\n",
       "    <tr>\n",
       "      <th>4</th>\n",
       "      <td>40p1</td>\n",
       "      <td>40p</td>\n",
       "      <td>1</td>\n",
       "      <td>P3_R1.fastq.bz2</td>\n",
       "      <td>P3_R2.fastq.bz2</td>\n",
       "      <td>D501</td>\n",
       "      <td>D703</td>\n",
       "      <td>l3Sp</td>\n",
       "      <td>human</td>\n",
       "      <td>Charge-titration</td>\n",
       "      <td>Percent charge</td>\n",
       "      <td>40p</td>\n",
       "      <td>5</td>\n",
       "      <td>AGGCTATA</td>\n",
       "      <td>CGCTCATT</td>\n",
       "      <td>GGCTGCCATGCTGCGA</td>\n",
       "      <td>43163</td>\n",
       "      <td>30962</td>\n",
       "      <td>11883</td>\n",
       "      <td>42845</td>\n",
       "      <td>99.263258</td>\n",
       "      <td>27.734858</td>\n",
       "    </tr>\n",
       "    <tr>\n",
       "      <th>5</th>\n",
       "      <td>40p2</td>\n",
       "      <td>40p</td>\n",
       "      <td>2</td>\n",
       "      <td>P3_R1.fastq.bz2</td>\n",
       "      <td>P3_R2.fastq.bz2</td>\n",
       "      <td>D501</td>\n",
       "      <td>D703</td>\n",
       "      <td>l5Sp</td>\n",
       "      <td>human</td>\n",
       "      <td>Charge-titration</td>\n",
       "      <td>Percent charge</td>\n",
       "      <td>40p</td>\n",
       "      <td>5</td>\n",
       "      <td>AGGCTATA</td>\n",
       "      <td>CGCTCATT</td>\n",
       "      <td>GGCTGCCATGCAACGCATC</td>\n",
       "      <td>42019</td>\n",
       "      <td>29963</td>\n",
       "      <td>11761</td>\n",
       "      <td>41724</td>\n",
       "      <td>99.297937</td>\n",
       "      <td>28.187614</td>\n",
       "    </tr>\n",
       "    <tr>\n",
       "      <th>6</th>\n",
       "      <td>10p</td>\n",
       "      <td>10p</td>\n",
       "      <td>1</td>\n",
       "      <td>P3_R1.fastq.bz2</td>\n",
       "      <td>P3_R2.fastq.bz2</td>\n",
       "      <td>D501</td>\n",
       "      <td>D703</td>\n",
       "      <td>l1Sp</td>\n",
       "      <td>human</td>\n",
       "      <td>Charge-titration</td>\n",
       "      <td>Percent charge</td>\n",
       "      <td>10p</td>\n",
       "      <td>6</td>\n",
       "      <td>AGGCTATA</td>\n",
       "      <td>CGCTCATT</td>\n",
       "      <td>GGCTGCCATGCGACTA</td>\n",
       "      <td>44904</td>\n",
       "      <td>41762</td>\n",
       "      <td>2760</td>\n",
       "      <td>44522</td>\n",
       "      <td>99.149296</td>\n",
       "      <td>6.199182</td>\n",
       "    </tr>\n",
       "    <tr>\n",
       "      <th>7</th>\n",
       "      <td>0p</td>\n",
       "      <td>0p</td>\n",
       "      <td>1</td>\n",
       "      <td>P3_R1.fastq.bz2</td>\n",
       "      <td>P3_R2.fastq.bz2</td>\n",
       "      <td>D501</td>\n",
       "      <td>D703</td>\n",
       "      <td>l7Sp</td>\n",
       "      <td>human</td>\n",
       "      <td>Charge-titration</td>\n",
       "      <td>Percent charge</td>\n",
       "      <td>0p</td>\n",
       "      <td>7</td>\n",
       "      <td>AGGCTATA</td>\n",
       "      <td>CGCTCATT</td>\n",
       "      <td>GGCTGCCATGCACATGA</td>\n",
       "      <td>51936</td>\n",
       "      <td>51195</td>\n",
       "      <td>317</td>\n",
       "      <td>51512</td>\n",
       "      <td>99.183611</td>\n",
       "      <td>0.615391</td>\n",
       "    </tr>\n",
       "  </tbody>\n",
       "</table>\n",
       "</div>"
      ],
      "text/plain": [
       "  sample_name_unique sample_name  replicate fastq_mate1_filename  \\\n",
       "0               100p        100p          1      P3_R1.fastq.bz2   \n",
       "1                85p         85p          1      P3_R1.fastq.bz2   \n",
       "2                70p         70p          1      P3_R1.fastq.bz2   \n",
       "3                47p         47p          1      P3_R1.fastq.bz2   \n",
       "4               40p1         40p          1      P3_R1.fastq.bz2   \n",
       "5               40p2         40p          2      P3_R1.fastq.bz2   \n",
       "6                10p         10p          1      P3_R1.fastq.bz2   \n",
       "7                 0p          0p          1      P3_R1.fastq.bz2   \n",
       "\n",
       "  fastq_mate2_filename P5_index P7_index barcode species        plot_group  \\\n",
       "0      P3_R2.fastq.bz2     D501     D703    l2Sp   human  Charge-titration   \n",
       "1      P3_R2.fastq.bz2     D501     D703    l4Sp   human  Charge-titration   \n",
       "2      P3_R2.fastq.bz2     D501     D703    l6Sp   human  Charge-titration   \n",
       "3      P3_R2.fastq.bz2     D501     D703    l9Sp   human  Charge-titration   \n",
       "4      P3_R2.fastq.bz2     D501     D703    l3Sp   human  Charge-titration   \n",
       "5      P3_R2.fastq.bz2     D501     D703    l5Sp   human  Charge-titration   \n",
       "6      P3_R2.fastq.bz2     D501     D703    l1Sp   human  Charge-titration   \n",
       "7      P3_R2.fastq.bz2     D501     D703    l7Sp   human  Charge-titration   \n",
       "\n",
       "         hue_name hue_value  hue_order P5_index_seq P7_index_seq  \\\n",
       "0  Percent charge      100p          1     AGGCTATA     CGCTCATT   \n",
       "1  Percent charge       85p          2     AGGCTATA     CGCTCATT   \n",
       "2  Percent charge       70p          3     AGGCTATA     CGCTCATT   \n",
       "3  Percent charge       47p          4     AGGCTATA     CGCTCATT   \n",
       "4  Percent charge       40p          5     AGGCTATA     CGCTCATT   \n",
       "5  Percent charge       40p          5     AGGCTATA     CGCTCATT   \n",
       "6  Percent charge       10p          6     AGGCTATA     CGCTCATT   \n",
       "7  Percent charge        0p          7     AGGCTATA     CGCTCATT   \n",
       "\n",
       "           barcode_seq  N_total   N_CC  N_CCA  N_CCA+CC  CCA+CC_percent_total  \\\n",
       "0   GGCTGCCATGCTGTCACG    42716   2277  40088     42365             99.178294   \n",
       "1    GGCTGCCATGCAAGCTG    41313   9872  31070     40942             99.101978   \n",
       "2     GGCTGCCATGCTACAG    52725  23269  29050     52319             99.229967   \n",
       "3  GGCTGCCATGCAACGTACA   106275  67655  37726    105381             99.158786   \n",
       "4     GGCTGCCATGCTGCGA    43163  30962  11883     42845             99.263258   \n",
       "5  GGCTGCCATGCAACGCATC    42019  29963  11761     41724             99.297937   \n",
       "6     GGCTGCCATGCGACTA    44904  41762   2760     44522             99.149296   \n",
       "7    GGCTGCCATGCACATGA    51936  51195    317     51512             99.183611   \n",
       "\n",
       "   percent_CCA  \n",
       "0    94.625280  \n",
       "1    75.887841  \n",
       "2    55.524762  \n",
       "3    35.799622  \n",
       "4    27.734858  \n",
       "5    28.187614  \n",
       "6     6.199182  \n",
       "7     0.615391  "
      ]
     },
     "execution_count": 23,
     "metadata": {},
     "output_type": "execute_result"
    }
   ],
   "source": [
    "sample_df"
   ]
  },
  {
   "cell_type": "code",
   "execution_count": null,
   "metadata": {},
   "outputs": [],
   "source": []
  },
  {
   "cell_type": "markdown",
   "metadata": {},
   "source": [
    "### Looking at unmapped reads\n",
    "Since the above mapping percentage was low we can run analysis on the unmapped reads to see if there is a pattern at the end of the reads were the adapter sequences was supposed to be.\n",
    "\n",
    "The most basic way of doing this is by counting Kmers:"
   ]
  },
  {
   "cell_type": "code",
   "execution_count": 24,
   "metadata": {},
   "outputs": [],
   "source": [
    "### Perform Kmer analysis on unmapped reads ###\n",
    "if True: # barcode analysis is typically suficient \n",
    "    # Initiate the Kmer analysis object:\n",
    "    kmer_obj = Kmer_analysis(dir_dict, inp_file_df, index_df, overwrite=True)\n",
    "    # Add a filter to avoid Kmers from the end of tRNA sequences:\n",
    "    kmer_obj.filter_3p_fasta(tRNA_database['human'])\n",
    "    # Add to this filter the constant region of the adapters:\n",
    "    kmer_obj.filter_window_BC(filter_window=(0, 11))\n",
    "    # Search for Kmers:\n",
    "    all_kmer = kmer_obj.search_unmapped(search_size=13)"
   ]
  },
  {
   "cell_type": "markdown",
   "metadata": {},
   "source": [
    "In the output table below each Kmer is listed with its count and distance to a known barcode (as defined in the index list input).\n",
    "It would seem that a lot of reads have Kmers similar to those found in adapter l11Sp..."
   ]
  },
  {
   "cell_type": "code",
   "execution_count": 25,
   "metadata": {},
   "outputs": [
    {
     "data": {
      "text/html": [
       "<div>\n",
       "<style scoped>\n",
       "    .dataframe tbody tr th:only-of-type {\n",
       "        vertical-align: middle;\n",
       "    }\n",
       "\n",
       "    .dataframe tbody tr th {\n",
       "        vertical-align: top;\n",
       "    }\n",
       "\n",
       "    .dataframe thead th {\n",
       "        text-align: right;\n",
       "    }\n",
       "</style>\n",
       "<table border=\"1\" class=\"dataframe\">\n",
       "  <thead>\n",
       "    <tr style=\"text-align: right;\">\n",
       "      <th></th>\n",
       "      <th>Kmer</th>\n",
       "      <th>Count</th>\n",
       "      <th>Barcode distance</th>\n",
       "      <th>Barcode</th>\n",
       "    </tr>\n",
       "  </thead>\n",
       "  <tbody>\n",
       "    <tr>\n",
       "      <th>0</th>\n",
       "      <td>TGCAA</td>\n",
       "      <td>90633</td>\n",
       "      <td>0.0</td>\n",
       "      <td>l4Sp</td>\n",
       "    </tr>\n",
       "    <tr>\n",
       "      <th>1</th>\n",
       "      <td>AACCT</td>\n",
       "      <td>54611</td>\n",
       "      <td>0.0</td>\n",
       "      <td>l11Sp</td>\n",
       "    </tr>\n",
       "    <tr>\n",
       "      <th>2</th>\n",
       "      <td>CTGAT</td>\n",
       "      <td>54577</td>\n",
       "      <td>0.0</td>\n",
       "      <td>l11Sp</td>\n",
       "    </tr>\n",
       "    <tr>\n",
       "      <th>3</th>\n",
       "      <td>CCTGA</td>\n",
       "      <td>54445</td>\n",
       "      <td>0.0</td>\n",
       "      <td>l11Sp</td>\n",
       "    </tr>\n",
       "    <tr>\n",
       "      <th>4</th>\n",
       "      <td>ACCTG</td>\n",
       "      <td>54430</td>\n",
       "      <td>0.0</td>\n",
       "      <td>l11Sp</td>\n",
       "    </tr>\n",
       "    <tr>\n",
       "      <th>5</th>\n",
       "      <td>GCAAG</td>\n",
       "      <td>33329</td>\n",
       "      <td>0.0</td>\n",
       "      <td>l4Sp</td>\n",
       "    </tr>\n",
       "    <tr>\n",
       "      <th>6</th>\n",
       "      <td>CAAGT</td>\n",
       "      <td>32826</td>\n",
       "      <td>0.0</td>\n",
       "      <td>l10Sp</td>\n",
       "    </tr>\n",
       "    <tr>\n",
       "      <th>7</th>\n",
       "      <td>AAGTG</td>\n",
       "      <td>32467</td>\n",
       "      <td>0.0</td>\n",
       "      <td>l10Sp</td>\n",
       "    </tr>\n",
       "  </tbody>\n",
       "</table>\n",
       "</div>"
      ],
      "text/plain": [
       "    Kmer  Count  Barcode distance Barcode\n",
       "0  TGCAA  90633               0.0    l4Sp\n",
       "1  AACCT  54611               0.0   l11Sp\n",
       "2  CTGAT  54577               0.0   l11Sp\n",
       "3  CCTGA  54445               0.0   l11Sp\n",
       "4  ACCTG  54430               0.0   l11Sp\n",
       "5  GCAAG  33329               0.0    l4Sp\n",
       "6  CAAGT  32826               0.0   l10Sp\n",
       "7  AAGTG  32467               0.0   l10Sp"
      ]
     },
     "execution_count": 25,
     "metadata": {},
     "output_type": "execute_result"
    }
   ],
   "source": [
    "all_kmer.head(8)"
   ]
  },
  {
   "cell_type": "markdown",
   "metadata": {},
   "source": [
    "Another way, typically more useful, of looking into the unmapped reads is to look for the barcode sequences directly.\n",
    "\n",
    "Recall that adapters look like this:  \n",
    "``GGCTGCCATGC    GACTA``  \n",
    "``GGCTGCCATGCA   AGTGC``  \n",
    "``GGCTGCCATGCTG  TCACG``  \n",
    "``GGCTGCCATGCAAC CTGAT``  \n",
    "With the barcode as the rightmost 5 nt.\n",
    "Search these 5 nt. barcodes by specifying `BC_size_3p=5`."
   ]
  },
  {
   "cell_type": "code",
   "execution_count": 26,
   "metadata": {},
   "outputs": [],
   "source": [
    "# Initiate the barcode analysis object:\n",
    "bc_analysis_obj = BC_analysis(dir_dict, inp_file_df, index_df, BC_size_3p=5, overwrite=True)\n",
    "# Search for barcodes in the unmapped reads.\n",
    "# For the summary output, filter by a max distance\n",
    "# to any barcode of 1 (group_dist=1), then group by barcode name:\n",
    "bc_analysis_df = bc_analysis_obj.search_unmapped(group_dist=1)"
   ]
  },
  {
   "cell_type": "markdown",
   "metadata": {},
   "source": [
    "The grouped counts can be seen in the output and again suggests presence of l10Sp and l11Sp, but also l12Sp and l3Sp to a lesser extend:"
   ]
  },
  {
   "cell_type": "code",
   "execution_count": 27,
   "metadata": {},
   "outputs": [
    {
     "data": {
      "text/html": [
       "<div>\n",
       "<style scoped>\n",
       "    .dataframe tbody tr th:only-of-type {\n",
       "        vertical-align: middle;\n",
       "    }\n",
       "\n",
       "    .dataframe tbody tr th {\n",
       "        vertical-align: top;\n",
       "    }\n",
       "\n",
       "    .dataframe thead th {\n",
       "        text-align: right;\n",
       "    }\n",
       "</style>\n",
       "<table border=\"1\" class=\"dataframe\">\n",
       "  <thead>\n",
       "    <tr style=\"text-align: right;\">\n",
       "      <th></th>\n",
       "      <th>Name</th>\n",
       "      <th>Count</th>\n",
       "    </tr>\n",
       "  </thead>\n",
       "  <tbody>\n",
       "    <tr>\n",
       "      <th>0</th>\n",
       "      <td>l11Sp</td>\n",
       "      <td>54404</td>\n",
       "    </tr>\n",
       "    <tr>\n",
       "      <th>1</th>\n",
       "      <td>l10Sp</td>\n",
       "      <td>32262</td>\n",
       "    </tr>\n",
       "    <tr>\n",
       "      <th>2</th>\n",
       "      <td>l12Sp</td>\n",
       "      <td>7387</td>\n",
       "    </tr>\n",
       "    <tr>\n",
       "      <th>3</th>\n",
       "      <td>l3Sp</td>\n",
       "      <td>3248</td>\n",
       "    </tr>\n",
       "  </tbody>\n",
       "</table>\n",
       "</div>"
      ],
      "text/plain": [
       "    Name  Count\n",
       "0  l11Sp  54404\n",
       "1  l10Sp  32262\n",
       "2  l12Sp   7387\n",
       "3   l3Sp   3248"
      ]
     },
     "execution_count": 27,
     "metadata": {},
     "output_type": "execute_result"
    }
   ],
   "source": [
    "bc_analysis_df.head(4)"
   ]
  },
  {
   "cell_type": "markdown",
   "metadata": {},
   "source": [
    "And more detailed information can be gleaned in the `bc_df` attribute which shows that the high number for l5Sp shown above is mostly due to observations with distances 1 from the barcode counted because of the `group_dist=1` flag."
   ]
  },
  {
   "cell_type": "code",
   "execution_count": 28,
   "metadata": {},
   "outputs": [
    {
     "data": {
      "text/html": [
       "<div>\n",
       "<style scoped>\n",
       "    .dataframe tbody tr th:only-of-type {\n",
       "        vertical-align: middle;\n",
       "    }\n",
       "\n",
       "    .dataframe tbody tr th {\n",
       "        vertical-align: top;\n",
       "    }\n",
       "\n",
       "    .dataframe thead th {\n",
       "        text-align: right;\n",
       "    }\n",
       "</style>\n",
       "<table border=\"1\" class=\"dataframe\">\n",
       "  <thead>\n",
       "    <tr style=\"text-align: right;\">\n",
       "      <th></th>\n",
       "      <th>Name</th>\n",
       "      <th>Barcode</th>\n",
       "      <th>Target</th>\n",
       "      <th>Count</th>\n",
       "      <th>Distance</th>\n",
       "    </tr>\n",
       "  </thead>\n",
       "  <tbody>\n",
       "    <tr>\n",
       "      <th>0</th>\n",
       "      <td>l11Sp</td>\n",
       "      <td>CTGAT</td>\n",
       "      <td>CTGAT</td>\n",
       "      <td>54318</td>\n",
       "      <td>0</td>\n",
       "    </tr>\n",
       "    <tr>\n",
       "      <th>1</th>\n",
       "      <td>l10Sp</td>\n",
       "      <td>AGTGC</td>\n",
       "      <td>AGTGC</td>\n",
       "      <td>32227</td>\n",
       "      <td>0</td>\n",
       "    </tr>\n",
       "    <tr>\n",
       "      <th>2</th>\n",
       "      <td>l12Sp</td>\n",
       "      <td>GTGAC</td>\n",
       "      <td>GTGAC</td>\n",
       "      <td>7364</td>\n",
       "      <td>0</td>\n",
       "    </tr>\n",
       "    <tr>\n",
       "      <th>3</th>\n",
       "      <td>l9Sp</td>\n",
       "      <td>GTACA</td>\n",
       "      <td>GTACA</td>\n",
       "      <td>1676</td>\n",
       "      <td>0</td>\n",
       "    </tr>\n",
       "    <tr>\n",
       "      <th>4</th>\n",
       "      <td>l3Sp</td>\n",
       "      <td>TGCGA</td>\n",
       "      <td>TGCGA</td>\n",
       "      <td>1125</td>\n",
       "      <td>0</td>\n",
       "    </tr>\n",
       "    <tr>\n",
       "      <th>5</th>\n",
       "      <td>l7Sp</td>\n",
       "      <td>CATGA</td>\n",
       "      <td>CATGA</td>\n",
       "      <td>1068</td>\n",
       "      <td>0</td>\n",
       "    </tr>\n",
       "    <tr>\n",
       "      <th>6</th>\n",
       "      <td>l5Sp</td>\n",
       "      <td>GCATC</td>\n",
       "      <td>GCATC</td>\n",
       "      <td>706</td>\n",
       "      <td>0</td>\n",
       "    </tr>\n",
       "  </tbody>\n",
       "</table>\n",
       "</div>"
      ],
      "text/plain": [
       "    Name Barcode Target  Count  Distance\n",
       "0  l11Sp   CTGAT  CTGAT  54318         0\n",
       "1  l10Sp   AGTGC  AGTGC  32227         0\n",
       "2  l12Sp   GTGAC  GTGAC   7364         0\n",
       "3   l9Sp   GTACA  GTACA   1676         0\n",
       "4   l3Sp   TGCGA  TGCGA   1125         0\n",
       "5   l7Sp   CATGA  CATGA   1068         0\n",
       "6   l5Sp   GCATC  GCATC    706         0"
      ]
     },
     "execution_count": 28,
     "metadata": {},
     "output_type": "execute_result"
    }
   ],
   "source": [
    "bc_analysis_obj.bc_df.head(7)"
   ]
  },
  {
   "cell_type": "markdown",
   "metadata": {},
   "source": [
    "The full output, grouped and not, can be found in the barcode split data folder in the two folders `Kmer_analysis` and `BC_analysis`.\n",
    "The explanation for the low mapping and the above findings is that the input file actually _do_ have samples barcoded with l10Sp, l11Sp and l12Sp even though these samples have not been defined in the samples sheet `sample_list.xlsx`.\n",
    "Thus, the use of Kmer and/or barcode analysis could be used to identify any mislabelling, bad adapters etc."
   ]
  },
  {
   "cell_type": "code",
   "execution_count": null,
   "metadata": {},
   "outputs": [],
   "source": []
  },
  {
   "cell_type": "markdown",
   "metadata": {},
   "source": [
    "### Trimming UMI\n",
    "The reverse transcription was performed with an oligo containing a 10 nt. unique molecular identifier (UMI).\n",
    "Typically, UMIs are employed to collaped reads from the same molecule when over-sequencing a library made from a very small amount of starting material.\n",
    "For tRNA sequencing, the amount of starting material should be so high that only few tRNA moleculars are sequenced twice; however, if there were bottlenecks in the library prep that assumption could prove false.\n",
    "Therefore, the UMI employed for tRNA sequencing is mostly a quality control for the library prep.\n",
    "It also helps to diversify the start of the read, thereby increasing Illumina sequencing quality, and it randomizes the sequence context for circular ligation, decreasing ligation bias.\n",
    "Lastly, the UMI is used for count correction later in the stats collection where reads mapping to the same transcript with identical UMI can be count corrected.\n",
    "\n",
    "But first, we need to trim it off the read before alignment.\n",
    "Then, we have the option to randomly downsample the resulting trimmed reads to even out the number of reads per sample.\n",
    "We can either set a maximum number of trimmed reads using the `downsample_absolute` option, or downsample using a percentile of the number of trimmed reads in each sample.\n",
    "The percentile option is set using `downsample_percentile` and works like the following:  \n",
    "Observe samples: \\[A, B, C, D, E\\], with following number of trimmed reads: \\[1, 2, 3, 4, 5\\]  \n",
    "Setting `downsample_percentile` to 50, means taking the 50th percentile of \\[1, 2, 3, 4, 5\\]  \n",
    "After downsampling, samples \\[A, B, C, D, E\\] have \\[1, 2, 3, 3, 3\\] number of trimmed reads.  \n"
   ]
  },
  {
   "cell_type": "code",
   "execution_count": 29,
   "metadata": {},
   "outputs": [
    {
     "name": "stdout",
     "output_type": "stream",
     "text": [
      "Downsampling UMI trimmed sequences to maximum 43268 reads.\n"
     ]
    }
   ],
   "source": [
    "# Initiate the UMI trimming object:\n",
    "UMItrim_obj = UMI_trim(dir_dict, sample_df, overwrite_dir=True, \\\n",
    "                       downsample_percentile=50)\n",
    "# Run the UMI trimming in parallel (increase n_jobs to number of processor):\n",
    "sample_df = UMItrim_obj.run_parallel(n_jobs=4)"
   ]
  },
  {
   "cell_type": "markdown",
   "metadata": {},
   "source": [
    "UMI trimming statistics have been added to the `sample_df` dataframe.\n",
    "Typically, >95 % of all barcode split reads have a valid UMI sequence i.e. the UMI ends on T or C.\n",
    "\n",
    "Observe, that the _expected_ number of observed UMIs have been calculated given the length of the UMI and the number reads with valid UMIs.\n",
    "The percentage of observed vs. expected UMIs is a good validation that the library prep was successful.\n",
    "It should not be expected to be 100 % because random bases in oligos are [not completely random](https://www.idtdna.com/pages/products/custom-dna-rna/mixed-bases); however, it should typically be >90 %.\n",
    "Be aware though, that the observed vs. expected UMI percentage depends on the sampling depth and thus the number of reads in a sample will affect this number.\n",
    "For an example of how the number of reads affect this, see the `utils/code-of-limited-use` folder and check the `UMI_count_analysis` notebook."
   ]
  },
  {
   "cell_type": "code",
   "execution_count": 30,
   "metadata": {},
   "outputs": [
    {
     "data": {
      "text/html": [
       "<div>\n",
       "<style scoped>\n",
       "    .dataframe tbody tr th:only-of-type {\n",
       "        vertical-align: middle;\n",
       "    }\n",
       "\n",
       "    .dataframe tbody tr th {\n",
       "        vertical-align: top;\n",
       "    }\n",
       "\n",
       "    .dataframe thead th {\n",
       "        text-align: right;\n",
       "    }\n",
       "</style>\n",
       "<table border=\"1\" class=\"dataframe\">\n",
       "  <thead>\n",
       "    <tr style=\"text-align: right;\">\n",
       "      <th></th>\n",
       "      <th>sample_name_unique</th>\n",
       "      <th>sample_name</th>\n",
       "      <th>replicate</th>\n",
       "      <th>fastq_mate1_filename</th>\n",
       "      <th>fastq_mate2_filename</th>\n",
       "      <th>P5_index</th>\n",
       "      <th>P7_index</th>\n",
       "      <th>barcode</th>\n",
       "      <th>species</th>\n",
       "      <th>plot_group</th>\n",
       "      <th>hue_name</th>\n",
       "      <th>hue_value</th>\n",
       "      <th>hue_order</th>\n",
       "      <th>P5_index_seq</th>\n",
       "      <th>P7_index_seq</th>\n",
       "      <th>barcode_seq</th>\n",
       "      <th>N_total</th>\n",
       "      <th>N_CC</th>\n",
       "      <th>N_CCA</th>\n",
       "      <th>N_CCA+CC</th>\n",
       "      <th>CCA+CC_percent_total</th>\n",
       "      <th>percent_CCA</th>\n",
       "      <th>N_after_trim</th>\n",
       "      <th>N_UMI_observed</th>\n",
       "      <th>N_UMI_expected</th>\n",
       "      <th>percent_seqs_after_UMI_trim</th>\n",
       "      <th>percent_UMI_obs-vs-exp</th>\n",
       "      <th>N_after_downsample</th>\n",
       "    </tr>\n",
       "  </thead>\n",
       "  <tbody>\n",
       "    <tr>\n",
       "      <th>0</th>\n",
       "      <td>100p</td>\n",
       "      <td>100p</td>\n",
       "      <td>1</td>\n",
       "      <td>P3_R1.fastq.bz2</td>\n",
       "      <td>P3_R2.fastq.bz2</td>\n",
       "      <td>D501</td>\n",
       "      <td>D703</td>\n",
       "      <td>l2Sp</td>\n",
       "      <td>human</td>\n",
       "      <td>Charge-titration</td>\n",
       "      <td>Percent charge</td>\n",
       "      <td>100p</td>\n",
       "      <td>1</td>\n",
       "      <td>AGGCTATA</td>\n",
       "      <td>CGCTCATT</td>\n",
       "      <td>GGCTGCCATGCTGTCACG</td>\n",
       "      <td>42716</td>\n",
       "      <td>2277</td>\n",
       "      <td>40088</td>\n",
       "      <td>42365</td>\n",
       "      <td>99.178294</td>\n",
       "      <td>94.625280</td>\n",
       "      <td>41949</td>\n",
       "      <td>39540</td>\n",
       "      <td>40314.715657</td>\n",
       "      <td>98.204420</td>\n",
       "      <td>98.078330</td>\n",
       "      <td>41949</td>\n",
       "    </tr>\n",
       "    <tr>\n",
       "      <th>1</th>\n",
       "      <td>85p</td>\n",
       "      <td>85p</td>\n",
       "      <td>1</td>\n",
       "      <td>P3_R1.fastq.bz2</td>\n",
       "      <td>P3_R2.fastq.bz2</td>\n",
       "      <td>D501</td>\n",
       "      <td>D703</td>\n",
       "      <td>l4Sp</td>\n",
       "      <td>human</td>\n",
       "      <td>Charge-titration</td>\n",
       "      <td>Percent charge</td>\n",
       "      <td>85p</td>\n",
       "      <td>2</td>\n",
       "      <td>AGGCTATA</td>\n",
       "      <td>CGCTCATT</td>\n",
       "      <td>GGCTGCCATGCAAGCTG</td>\n",
       "      <td>41313</td>\n",
       "      <td>9872</td>\n",
       "      <td>31070</td>\n",
       "      <td>40942</td>\n",
       "      <td>99.101978</td>\n",
       "      <td>75.887841</td>\n",
       "      <td>40571</td>\n",
       "      <td>38379</td>\n",
       "      <td>39041.001540</td>\n",
       "      <td>98.203955</td>\n",
       "      <td>98.304343</td>\n",
       "      <td>40571</td>\n",
       "    </tr>\n",
       "    <tr>\n",
       "      <th>2</th>\n",
       "      <td>70p</td>\n",
       "      <td>70p</td>\n",
       "      <td>1</td>\n",
       "      <td>P3_R1.fastq.bz2</td>\n",
       "      <td>P3_R2.fastq.bz2</td>\n",
       "      <td>D501</td>\n",
       "      <td>D703</td>\n",
       "      <td>l6Sp</td>\n",
       "      <td>human</td>\n",
       "      <td>Charge-titration</td>\n",
       "      <td>Percent charge</td>\n",
       "      <td>70p</td>\n",
       "      <td>3</td>\n",
       "      <td>AGGCTATA</td>\n",
       "      <td>CGCTCATT</td>\n",
       "      <td>GGCTGCCATGCTACAG</td>\n",
       "      <td>52725</td>\n",
       "      <td>23269</td>\n",
       "      <td>29050</td>\n",
       "      <td>52319</td>\n",
       "      <td>99.229967</td>\n",
       "      <td>55.524762</td>\n",
       "      <td>51833</td>\n",
       "      <td>48254</td>\n",
       "      <td>49353.235984</td>\n",
       "      <td>98.308203</td>\n",
       "      <td>97.772718</td>\n",
       "      <td>43268</td>\n",
       "    </tr>\n",
       "  </tbody>\n",
       "</table>\n",
       "</div>"
      ],
      "text/plain": [
       "  sample_name_unique sample_name  replicate fastq_mate1_filename  \\\n",
       "0               100p        100p          1      P3_R1.fastq.bz2   \n",
       "1                85p         85p          1      P3_R1.fastq.bz2   \n",
       "2                70p         70p          1      P3_R1.fastq.bz2   \n",
       "\n",
       "  fastq_mate2_filename P5_index P7_index barcode species        plot_group  \\\n",
       "0      P3_R2.fastq.bz2     D501     D703    l2Sp   human  Charge-titration   \n",
       "1      P3_R2.fastq.bz2     D501     D703    l4Sp   human  Charge-titration   \n",
       "2      P3_R2.fastq.bz2     D501     D703    l6Sp   human  Charge-titration   \n",
       "\n",
       "         hue_name hue_value  hue_order P5_index_seq P7_index_seq  \\\n",
       "0  Percent charge      100p          1     AGGCTATA     CGCTCATT   \n",
       "1  Percent charge       85p          2     AGGCTATA     CGCTCATT   \n",
       "2  Percent charge       70p          3     AGGCTATA     CGCTCATT   \n",
       "\n",
       "          barcode_seq  N_total   N_CC  N_CCA  N_CCA+CC  CCA+CC_percent_total  \\\n",
       "0  GGCTGCCATGCTGTCACG    42716   2277  40088     42365             99.178294   \n",
       "1   GGCTGCCATGCAAGCTG    41313   9872  31070     40942             99.101978   \n",
       "2    GGCTGCCATGCTACAG    52725  23269  29050     52319             99.229967   \n",
       "\n",
       "   percent_CCA  N_after_trim  N_UMI_observed  N_UMI_expected  \\\n",
       "0    94.625280         41949           39540    40314.715657   \n",
       "1    75.887841         40571           38379    39041.001540   \n",
       "2    55.524762         51833           48254    49353.235984   \n",
       "\n",
       "   percent_seqs_after_UMI_trim  percent_UMI_obs-vs-exp  N_after_downsample  \n",
       "0                    98.204420               98.078330               41949  \n",
       "1                    98.203955               98.304343               40571  \n",
       "2                    98.308203               97.772718               43268  "
      ]
     },
     "execution_count": 30,
     "metadata": {},
     "output_type": "execute_result"
    }
   ],
   "source": [
    "sample_df.head(3)"
   ]
  },
  {
   "cell_type": "code",
   "execution_count": null,
   "metadata": {},
   "outputs": [],
   "source": []
  },
  {
   "cell_type": "markdown",
   "metadata": {},
   "source": [
    "### Align sequences\n",
    "Now, the sequences are ready for alignment.\n",
    "This done using [SWIPE](https://github.com/torognes/swipe/), which is a fast implementation of the Smith-Waterman algorithm.\n",
    "The gap en gap extension penalties can be adjusted when initiating the alignment object and the match/mismatch score can be adjusted in the score matrix defined in the input above.\n",
    "However, the current defualt values have been tested and work well so adjustment should not be necessary.\n",
    "\n",
    "If `common_seqs` is specified, these sequences, when found in each sample, will be counted, skipped and first aligned at the end.\n",
    "This prevents alignments of common sequences to be run many times and can shorten the alignment time drastically.\n",
    "When alignment statistics is calculated the common sequences will be added with the their number of observations.\n",
    "\n",
    "Running this cell should be the slowest computation in this example.\n",
    "It may take a few minutes to run."
   ]
  },
  {
   "cell_type": "code",
   "execution_count": 31,
   "metadata": {},
   "outputs": [
    {
     "name": "stdout",
     "output_type": "stream",
     "text": [
      "Using common sequences to prevent duplicated alignment.\n",
      "Running Swipe on:  85p  70p  100p  47p  40p2  40p1  10p  0p  common-seqs\n",
      "Collecting alignment statistics, from sample:  100p  85p  70p  47p  40p1  40p2  0p  10p  common-seqs"
     ]
    }
   ],
   "source": [
    "# Initiate alignment object:\n",
    "align_obj = SWIPE_align(dir_dict, tRNA_database_masked, sample_df, \\\n",
    "                        SWIPE_score_mat2, gap_penalty=6, extension_penalty=3, \\\n",
    "                        min_score_align=MIN_SCORE_ALIGN, common_seqs=common_seqs, \\\n",
    "                        overwrite_dir=True)\n",
    "# Start the alignemnt:\n",
    "sample_df = align_obj.run_parallel(n_jobs=4)"
   ]
  },
  {
   "cell_type": "markdown",
   "metadata": {},
   "source": [
    "Alignment statistics is added to the `sample_df` dataframe.\n",
    "Typically, >95% of sequences are mapped and >70% of these have a single annotation.\n",
    "Those sequences with multiple annotations have exactly the same alignment score when aligned to multiple reference sequences which often happens when there exists multiple transcripts of a tRNAs with the same codon.\n",
    "The `percent_multiple_codons` quantifies the extend of the more problematic case when the multiple annotations come from transcripts with different codons.\n",
    "This should only be less than 10% of mapped reads."
   ]
  },
  {
   "cell_type": "code",
   "execution_count": 32,
   "metadata": {},
   "outputs": [
    {
     "data": {
      "text/html": [
       "<div>\n",
       "<style scoped>\n",
       "    .dataframe tbody tr th:only-of-type {\n",
       "        vertical-align: middle;\n",
       "    }\n",
       "\n",
       "    .dataframe tbody tr th {\n",
       "        vertical-align: top;\n",
       "    }\n",
       "\n",
       "    .dataframe thead th {\n",
       "        text-align: right;\n",
       "    }\n",
       "</style>\n",
       "<table border=\"1\" class=\"dataframe\">\n",
       "  <thead>\n",
       "    <tr style=\"text-align: right;\">\n",
       "      <th></th>\n",
       "      <th>sample_name_unique</th>\n",
       "      <th>sample_name</th>\n",
       "      <th>replicate</th>\n",
       "      <th>fastq_mate1_filename</th>\n",
       "      <th>fastq_mate2_filename</th>\n",
       "      <th>P5_index</th>\n",
       "      <th>P7_index</th>\n",
       "      <th>barcode</th>\n",
       "      <th>species</th>\n",
       "      <th>plot_group</th>\n",
       "      <th>hue_name</th>\n",
       "      <th>hue_value</th>\n",
       "      <th>hue_order</th>\n",
       "      <th>P5_index_seq</th>\n",
       "      <th>P7_index_seq</th>\n",
       "      <th>barcode_seq</th>\n",
       "      <th>N_total</th>\n",
       "      <th>N_CC</th>\n",
       "      <th>N_CCA</th>\n",
       "      <th>N_CCA+CC</th>\n",
       "      <th>CCA+CC_percent_total</th>\n",
       "      <th>percent_CCA</th>\n",
       "      <th>N_after_trim</th>\n",
       "      <th>N_UMI_observed</th>\n",
       "      <th>N_UMI_expected</th>\n",
       "      <th>percent_seqs_after_UMI_trim</th>\n",
       "      <th>percent_UMI_obs-vs-exp</th>\n",
       "      <th>N_after_downsample</th>\n",
       "      <th>N_mapped</th>\n",
       "      <th>percent_single_annotation</th>\n",
       "      <th>percent_multiple_annotation</th>\n",
       "      <th>percent_multiple_codons</th>\n",
       "      <th>Mapping_percent</th>\n",
       "    </tr>\n",
       "  </thead>\n",
       "  <tbody>\n",
       "    <tr>\n",
       "      <th>0</th>\n",
       "      <td>100p</td>\n",
       "      <td>100p</td>\n",
       "      <td>1</td>\n",
       "      <td>P3_R1.fastq.bz2</td>\n",
       "      <td>P3_R2.fastq.bz2</td>\n",
       "      <td>D501</td>\n",
       "      <td>D703</td>\n",
       "      <td>l2Sp</td>\n",
       "      <td>human</td>\n",
       "      <td>Charge-titration</td>\n",
       "      <td>Percent charge</td>\n",
       "      <td>100p</td>\n",
       "      <td>1</td>\n",
       "      <td>AGGCTATA</td>\n",
       "      <td>CGCTCATT</td>\n",
       "      <td>GGCTGCCATGCTGTCACG</td>\n",
       "      <td>42716</td>\n",
       "      <td>2277</td>\n",
       "      <td>40088</td>\n",
       "      <td>42365</td>\n",
       "      <td>99.178294</td>\n",
       "      <td>94.625280</td>\n",
       "      <td>41949</td>\n",
       "      <td>39540</td>\n",
       "      <td>40314.715657</td>\n",
       "      <td>98.204420</td>\n",
       "      <td>98.078330</td>\n",
       "      <td>41949</td>\n",
       "      <td>41490.0</td>\n",
       "      <td>73.499638</td>\n",
       "      <td>26.500362</td>\n",
       "      <td>4.355266</td>\n",
       "      <td>98.905814</td>\n",
       "    </tr>\n",
       "    <tr>\n",
       "      <th>1</th>\n",
       "      <td>85p</td>\n",
       "      <td>85p</td>\n",
       "      <td>1</td>\n",
       "      <td>P3_R1.fastq.bz2</td>\n",
       "      <td>P3_R2.fastq.bz2</td>\n",
       "      <td>D501</td>\n",
       "      <td>D703</td>\n",
       "      <td>l4Sp</td>\n",
       "      <td>human</td>\n",
       "      <td>Charge-titration</td>\n",
       "      <td>Percent charge</td>\n",
       "      <td>85p</td>\n",
       "      <td>2</td>\n",
       "      <td>AGGCTATA</td>\n",
       "      <td>CGCTCATT</td>\n",
       "      <td>GGCTGCCATGCAAGCTG</td>\n",
       "      <td>41313</td>\n",
       "      <td>9872</td>\n",
       "      <td>31070</td>\n",
       "      <td>40942</td>\n",
       "      <td>99.101978</td>\n",
       "      <td>75.887841</td>\n",
       "      <td>40571</td>\n",
       "      <td>38379</td>\n",
       "      <td>39041.001540</td>\n",
       "      <td>98.203955</td>\n",
       "      <td>98.304343</td>\n",
       "      <td>40571</td>\n",
       "      <td>40247.0</td>\n",
       "      <td>73.727234</td>\n",
       "      <td>26.272766</td>\n",
       "      <td>4.340696</td>\n",
       "      <td>99.201400</td>\n",
       "    </tr>\n",
       "    <tr>\n",
       "      <th>2</th>\n",
       "      <td>70p</td>\n",
       "      <td>70p</td>\n",
       "      <td>1</td>\n",
       "      <td>P3_R1.fastq.bz2</td>\n",
       "      <td>P3_R2.fastq.bz2</td>\n",
       "      <td>D501</td>\n",
       "      <td>D703</td>\n",
       "      <td>l6Sp</td>\n",
       "      <td>human</td>\n",
       "      <td>Charge-titration</td>\n",
       "      <td>Percent charge</td>\n",
       "      <td>70p</td>\n",
       "      <td>3</td>\n",
       "      <td>AGGCTATA</td>\n",
       "      <td>CGCTCATT</td>\n",
       "      <td>GGCTGCCATGCTACAG</td>\n",
       "      <td>52725</td>\n",
       "      <td>23269</td>\n",
       "      <td>29050</td>\n",
       "      <td>52319</td>\n",
       "      <td>99.229967</td>\n",
       "      <td>55.524762</td>\n",
       "      <td>51833</td>\n",
       "      <td>48254</td>\n",
       "      <td>49353.235984</td>\n",
       "      <td>98.308203</td>\n",
       "      <td>97.772718</td>\n",
       "      <td>43268</td>\n",
       "      <td>42974.0</td>\n",
       "      <td>74.405454</td>\n",
       "      <td>25.594546</td>\n",
       "      <td>4.358449</td>\n",
       "      <td>99.320514</td>\n",
       "    </tr>\n",
       "  </tbody>\n",
       "</table>\n",
       "</div>"
      ],
      "text/plain": [
       "  sample_name_unique sample_name  replicate fastq_mate1_filename  \\\n",
       "0               100p        100p          1      P3_R1.fastq.bz2   \n",
       "1                85p         85p          1      P3_R1.fastq.bz2   \n",
       "2                70p         70p          1      P3_R1.fastq.bz2   \n",
       "\n",
       "  fastq_mate2_filename P5_index P7_index barcode species        plot_group  \\\n",
       "0      P3_R2.fastq.bz2     D501     D703    l2Sp   human  Charge-titration   \n",
       "1      P3_R2.fastq.bz2     D501     D703    l4Sp   human  Charge-titration   \n",
       "2      P3_R2.fastq.bz2     D501     D703    l6Sp   human  Charge-titration   \n",
       "\n",
       "         hue_name hue_value  hue_order P5_index_seq P7_index_seq  \\\n",
       "0  Percent charge      100p          1     AGGCTATA     CGCTCATT   \n",
       "1  Percent charge       85p          2     AGGCTATA     CGCTCATT   \n",
       "2  Percent charge       70p          3     AGGCTATA     CGCTCATT   \n",
       "\n",
       "          barcode_seq  N_total   N_CC  N_CCA  N_CCA+CC  CCA+CC_percent_total  \\\n",
       "0  GGCTGCCATGCTGTCACG    42716   2277  40088     42365             99.178294   \n",
       "1   GGCTGCCATGCAAGCTG    41313   9872  31070     40942             99.101978   \n",
       "2    GGCTGCCATGCTACAG    52725  23269  29050     52319             99.229967   \n",
       "\n",
       "   percent_CCA  N_after_trim  N_UMI_observed  N_UMI_expected  \\\n",
       "0    94.625280         41949           39540    40314.715657   \n",
       "1    75.887841         40571           38379    39041.001540   \n",
       "2    55.524762         51833           48254    49353.235984   \n",
       "\n",
       "   percent_seqs_after_UMI_trim  percent_UMI_obs-vs-exp  N_after_downsample  \\\n",
       "0                    98.204420               98.078330               41949   \n",
       "1                    98.203955               98.304343               40571   \n",
       "2                    98.308203               97.772718               43268   \n",
       "\n",
       "   N_mapped  percent_single_annotation  percent_multiple_annotation  \\\n",
       "0   41490.0                  73.499638                    26.500362   \n",
       "1   40247.0                  73.727234                    26.272766   \n",
       "2   42974.0                  74.405454                    25.594546   \n",
       "\n",
       "   percent_multiple_codons  Mapping_percent  \n",
       "0                 4.355266        98.905814  \n",
       "1                 4.340696        99.201400  \n",
       "2                 4.358449        99.320514  "
      ]
     },
     "execution_count": 32,
     "metadata": {},
     "output_type": "execute_result"
    }
   ],
   "source": [
    "sample_df.head(3)"
   ]
  },
  {
   "cell_type": "code",
   "execution_count": null,
   "metadata": {},
   "outputs": [],
   "source": []
  },
  {
   "cell_type": "markdown",
   "metadata": {},
   "source": [
    "### Collect alignment statistics\n",
    "The alignment results are stored in large JSON files that are practical for parsing but not for data manipulation, plotting etc.\n",
    "Therefore, it is necessary to collect statistics, add sample information, add UMI info and many more things.\n",
    "Notice the `common_seqs` argument is also used to fill out the common sequences that were separated out during the alignment phase."
   ]
  },
  {
   "cell_type": "code",
   "execution_count": 33,
   "metadata": {},
   "outputs": [
    {
     "name": "stdout",
     "output_type": "stream",
     "text": [
      "Using common sequences...\n",
      "Collecting stats from:  100p  85p  70p  47p  40p2  40p1  10p  0p"
     ]
    }
   ],
   "source": [
    "# Initiate the stats collection object:\n",
    "stats_obj = STATS_collection(dir_dict, tRNA_data, \\\n",
    "                             sample_df, common_seqs=common_seqs, \\\n",
    "                             overwrite_dir=True)\n",
    "# Start collecting stats for each sample:\n",
    "stats_df = stats_obj.run_parallel(n_jobs=4)"
   ]
  },
  {
   "cell_type": "markdown",
   "metadata": {},
   "source": [
    "The statistics is written, per read, as a bz2 compressed .csv file; however, many of the entries in this table will be duplicates and only different by different fastq read ID and UMI sequence.\n",
    "Therefore, another uncompressed table is made that aggregates all the row that are identical except differing read ID and UMI.\n",
    "\n",
    "After statistics have been collected for all samples a concatenation of the aggregated data from all samples is made with the name `ALL_stats_aggregate.csv`.\n",
    "This file is particularly useful because it is relatively compact but contains all information from all samples.\n",
    "\n",
    "The dataframe returned is the `ALL_stats_aggregate_filtered.csv` which is the aggregated data filtered to contain only the most relevant columnns and requiring that the 3' must be covered and have no 3' non-template bases."
   ]
  },
  {
   "cell_type": "code",
   "execution_count": 34,
   "metadata": {},
   "outputs": [
    {
     "data": {
      "text/html": [
       "<div>\n",
       "<style scoped>\n",
       "    .dataframe tbody tr th:only-of-type {\n",
       "        vertical-align: middle;\n",
       "    }\n",
       "\n",
       "    .dataframe tbody tr th {\n",
       "        vertical-align: top;\n",
       "    }\n",
       "\n",
       "    .dataframe thead th {\n",
       "        text-align: right;\n",
       "    }\n",
       "</style>\n",
       "<table border=\"1\" class=\"dataframe\">\n",
       "  <thead>\n",
       "    <tr style=\"text-align: right;\">\n",
       "      <th></th>\n",
       "      <th>sample_name_unique</th>\n",
       "      <th>sample_name</th>\n",
       "      <th>replicate</th>\n",
       "      <th>barcode</th>\n",
       "      <th>species</th>\n",
       "      <th>tRNA_annotation</th>\n",
       "      <th>tRNA_annotation_len</th>\n",
       "      <th>unique_annotation</th>\n",
       "      <th>5p_cover</th>\n",
       "      <th>align_3p_nt</th>\n",
       "      <th>codon</th>\n",
       "      <th>anticodon</th>\n",
       "      <th>amino_acid</th>\n",
       "      <th>align_gap</th>\n",
       "      <th>fmax_score&gt;0.9</th>\n",
       "      <th>count</th>\n",
       "      <th>UMIcount</th>\n",
       "      <th>UMI_percent_exp</th>\n",
       "    </tr>\n",
       "  </thead>\n",
       "  <tbody>\n",
       "    <tr>\n",
       "      <th>0</th>\n",
       "      <td>100p</td>\n",
       "      <td>100p</td>\n",
       "      <td>1</td>\n",
       "      <td>l2Sp</td>\n",
       "      <td>human</td>\n",
       "      <td>Escherichia_coli_str_K_12_substr_MG1655_tRNA-e...</td>\n",
       "      <td>76</td>\n",
       "      <td>True</td>\n",
       "      <td>False</td>\n",
       "      <td>C</td>\n",
       "      <td>AAA</td>\n",
       "      <td>TTT</td>\n",
       "      <td>eColiLys</td>\n",
       "      <td>False</td>\n",
       "      <td>False</td>\n",
       "      <td>1</td>\n",
       "      <td>1</td>\n",
       "      <td>100.000000</td>\n",
       "    </tr>\n",
       "    <tr>\n",
       "      <th>1</th>\n",
       "      <td>100p</td>\n",
       "      <td>100p</td>\n",
       "      <td>1</td>\n",
       "      <td>l2Sp</td>\n",
       "      <td>human</td>\n",
       "      <td>Escherichia_coli_str_K_12_substr_MG1655_tRNA-e...</td>\n",
       "      <td>76</td>\n",
       "      <td>True</td>\n",
       "      <td>False</td>\n",
       "      <td>C</td>\n",
       "      <td>AAA</td>\n",
       "      <td>TTT</td>\n",
       "      <td>eColiLys</td>\n",
       "      <td>False</td>\n",
       "      <td>True</td>\n",
       "      <td>13</td>\n",
       "      <td>13</td>\n",
       "      <td>100.001144</td>\n",
       "    </tr>\n",
       "    <tr>\n",
       "      <th>2</th>\n",
       "      <td>100p</td>\n",
       "      <td>100p</td>\n",
       "      <td>1</td>\n",
       "      <td>l2Sp</td>\n",
       "      <td>human</td>\n",
       "      <td>Escherichia_coli_str_K_12_substr_MG1655_tRNA-e...</td>\n",
       "      <td>76</td>\n",
       "      <td>True</td>\n",
       "      <td>False</td>\n",
       "      <td>C</td>\n",
       "      <td>AAA</td>\n",
       "      <td>TTT</td>\n",
       "      <td>eColiLys</td>\n",
       "      <td>True</td>\n",
       "      <td>False</td>\n",
       "      <td>2</td>\n",
       "      <td>2</td>\n",
       "      <td>100.000095</td>\n",
       "    </tr>\n",
       "    <tr>\n",
       "      <th>3</th>\n",
       "      <td>100p</td>\n",
       "      <td>100p</td>\n",
       "      <td>1</td>\n",
       "      <td>l2Sp</td>\n",
       "      <td>human</td>\n",
       "      <td>Escherichia_coli_str_K_12_substr_MG1655_tRNA-e...</td>\n",
       "      <td>76</td>\n",
       "      <td>True</td>\n",
       "      <td>True</td>\n",
       "      <td>A</td>\n",
       "      <td>AAA</td>\n",
       "      <td>TTT</td>\n",
       "      <td>eColiLys</td>\n",
       "      <td>False</td>\n",
       "      <td>True</td>\n",
       "      <td>1</td>\n",
       "      <td>1</td>\n",
       "      <td>100.000000</td>\n",
       "    </tr>\n",
       "    <tr>\n",
       "      <th>4</th>\n",
       "      <td>100p</td>\n",
       "      <td>100p</td>\n",
       "      <td>1</td>\n",
       "      <td>l2Sp</td>\n",
       "      <td>human</td>\n",
       "      <td>Escherichia_coli_str_K_12_substr_MG1655_tRNA-e...</td>\n",
       "      <td>76</td>\n",
       "      <td>True</td>\n",
       "      <td>True</td>\n",
       "      <td>C</td>\n",
       "      <td>AAA</td>\n",
       "      <td>TTT</td>\n",
       "      <td>eColiLys</td>\n",
       "      <td>False</td>\n",
       "      <td>True</td>\n",
       "      <td>9</td>\n",
       "      <td>9</td>\n",
       "      <td>100.000763</td>\n",
       "    </tr>\n",
       "    <tr>\n",
       "      <th>5</th>\n",
       "      <td>100p</td>\n",
       "      <td>100p</td>\n",
       "      <td>1</td>\n",
       "      <td>l2Sp</td>\n",
       "      <td>human</td>\n",
       "      <td>Escherichia_coli_str_K_12_substr_MG1655_tRNA-e...</td>\n",
       "      <td>76</td>\n",
       "      <td>True</td>\n",
       "      <td>True</td>\n",
       "      <td>C</td>\n",
       "      <td>AAA</td>\n",
       "      <td>TTT</td>\n",
       "      <td>eColiLys</td>\n",
       "      <td>True</td>\n",
       "      <td>False</td>\n",
       "      <td>2</td>\n",
       "      <td>2</td>\n",
       "      <td>100.000095</td>\n",
       "    </tr>\n",
       "    <tr>\n",
       "      <th>6</th>\n",
       "      <td>100p</td>\n",
       "      <td>100p</td>\n",
       "      <td>1</td>\n",
       "      <td>l2Sp</td>\n",
       "      <td>human</td>\n",
       "      <td>Homo_sapiens_mito_tRNA-Ala-TGC</td>\n",
       "      <td>72</td>\n",
       "      <td>True</td>\n",
       "      <td>False</td>\n",
       "      <td>A</td>\n",
       "      <td>GCA</td>\n",
       "      <td>TGC</td>\n",
       "      <td>Ala</td>\n",
       "      <td>False</td>\n",
       "      <td>False</td>\n",
       "      <td>1</td>\n",
       "      <td>1</td>\n",
       "      <td>100.000000</td>\n",
       "    </tr>\n",
       "    <tr>\n",
       "      <th>7</th>\n",
       "      <td>100p</td>\n",
       "      <td>100p</td>\n",
       "      <td>1</td>\n",
       "      <td>l2Sp</td>\n",
       "      <td>human</td>\n",
       "      <td>Homo_sapiens_mito_tRNA-Ala-TGC</td>\n",
       "      <td>72</td>\n",
       "      <td>True</td>\n",
       "      <td>False</td>\n",
       "      <td>A</td>\n",
       "      <td>GCA</td>\n",
       "      <td>TGC</td>\n",
       "      <td>Ala</td>\n",
       "      <td>False</td>\n",
       "      <td>True</td>\n",
       "      <td>35</td>\n",
       "      <td>35</td>\n",
       "      <td>100.003243</td>\n",
       "    </tr>\n",
       "  </tbody>\n",
       "</table>\n",
       "</div>"
      ],
      "text/plain": [
       "  sample_name_unique sample_name  replicate barcode species  \\\n",
       "0               100p        100p          1    l2Sp   human   \n",
       "1               100p        100p          1    l2Sp   human   \n",
       "2               100p        100p          1    l2Sp   human   \n",
       "3               100p        100p          1    l2Sp   human   \n",
       "4               100p        100p          1    l2Sp   human   \n",
       "5               100p        100p          1    l2Sp   human   \n",
       "6               100p        100p          1    l2Sp   human   \n",
       "7               100p        100p          1    l2Sp   human   \n",
       "\n",
       "                                     tRNA_annotation  tRNA_annotation_len  \\\n",
       "0  Escherichia_coli_str_K_12_substr_MG1655_tRNA-e...                   76   \n",
       "1  Escherichia_coli_str_K_12_substr_MG1655_tRNA-e...                   76   \n",
       "2  Escherichia_coli_str_K_12_substr_MG1655_tRNA-e...                   76   \n",
       "3  Escherichia_coli_str_K_12_substr_MG1655_tRNA-e...                   76   \n",
       "4  Escherichia_coli_str_K_12_substr_MG1655_tRNA-e...                   76   \n",
       "5  Escherichia_coli_str_K_12_substr_MG1655_tRNA-e...                   76   \n",
       "6                     Homo_sapiens_mito_tRNA-Ala-TGC                   72   \n",
       "7                     Homo_sapiens_mito_tRNA-Ala-TGC                   72   \n",
       "\n",
       "   unique_annotation  5p_cover align_3p_nt codon anticodon amino_acid  \\\n",
       "0               True     False           C   AAA       TTT   eColiLys   \n",
       "1               True     False           C   AAA       TTT   eColiLys   \n",
       "2               True     False           C   AAA       TTT   eColiLys   \n",
       "3               True      True           A   AAA       TTT   eColiLys   \n",
       "4               True      True           C   AAA       TTT   eColiLys   \n",
       "5               True      True           C   AAA       TTT   eColiLys   \n",
       "6               True     False           A   GCA       TGC        Ala   \n",
       "7               True     False           A   GCA       TGC        Ala   \n",
       "\n",
       "   align_gap  fmax_score>0.9  count  UMIcount  UMI_percent_exp  \n",
       "0      False           False      1         1       100.000000  \n",
       "1      False            True     13        13       100.001144  \n",
       "2       True           False      2         2       100.000095  \n",
       "3      False            True      1         1       100.000000  \n",
       "4      False            True      9         9       100.000763  \n",
       "5       True           False      2         2       100.000095  \n",
       "6      False           False      1         1       100.000000  \n",
       "7      False            True     35        35       100.003243  "
      ]
     },
     "execution_count": 34,
     "metadata": {},
     "output_type": "execute_result"
    }
   ],
   "source": [
    "stats_df.head(8)"
   ]
  },
  {
   "cell_type": "code",
   "execution_count": null,
   "metadata": {},
   "outputs": [],
   "source": []
  },
  {
   "cell_type": "markdown",
   "metadata": {},
   "source": [
    "### Plotting the results\n",
    "Next, the data can be plotted in order to 1) inspect the data quality and 2) get an overview of the relative tRNA expression and charge.\n",
    "For this the `TRNA_plot` class was made.\n",
    "This class allows us to generate some standard plots that are useful for most experiments involving tRNA sequencing.\n",
    "It utilizes the information in the `sample_df` dataframe to group samples onto the same plot.\n",
    "\n",
    "The class can the initiated with exclusion filters based on alignment score or alignment gap content and using UMI or read counts.\n",
    "By using UMI counts instead of read counts, we can correct for PCR duplications; however, typically there is not a big difference between the UMI or read counts."
   ]
  },
  {
   "cell_type": "code",
   "execution_count": 35,
   "metadata": {},
   "outputs": [],
   "source": [
    "# Initiate the plotting object:\n",
    "plot_obj = TRNA_plot(dir_dict, sample_df, overwrite_dir=True)"
   ]
  },
  {
   "cell_type": "markdown",
   "metadata": {},
   "source": [
    "Inspired by the coverage plots in Behrens et al. 2021, we could start by plotting the sequence coverage broken down by the amino acid identity of the transcript.\n",
    "To plot all transcripts on a single plot it is necessary to scale the transcript length such that all are equal.\n",
    "This scaling is done by mapping all transcripts to the longest transcript.\n",
    "\n",
    "Below, a Behrens style coverage plot is shown, normalized on the y-axis such that coverage is shown as a percentage of the coverage at the 3' of the transcript.\n",
    "It shows nicely how the coverage decreases further into the transcript and drops off at particular points which are associated with commonly modified positions.\n",
    "It also shows the relative abundance of transcripts of an amino acid e.g. higher relative abundance of alanine (A) compared to tryptophan (W)."
   ]
  },
  {
   "cell_type": "code",
   "execution_count": 36,
   "metadata": {},
   "outputs": [
    {
     "name": "stdout",
     "output_type": "stream",
     "text": [
      "\n",
      "Now collecting data for sample:  100p  85p  70p  47p  40p2  40p1  10p  0p\n",
      "Now plotting sample:  100p  85p  70p  47p  40p1  40p2  10p  0p"
     ]
    },
    {
     "data": {
      "text/html": [
       "\n",
       "        <iframe\n",
       "            width=\"1000\"\n",
       "            height=\"500\"\n",
       "            src=\"data/plotting/cov-plot_cyto_behrens_norm.pdf\"\n",
       "            frameborder=\"0\"\n",
       "            allowfullscreen\n",
       "            \n",
       "        ></iframe>\n",
       "        "
      ],
      "text/plain": [
       "<IPython.lib.display.IFrame at 0x5636c718c700>"
      ]
     },
     "execution_count": 36,
     "metadata": {},
     "output_type": "execute_result"
    }
   ],
   "source": [
    "plot_obj.plot_coverage(compartment='cyto', plot_type='behrens', y_norm=True, \\\n",
    "                       plot_name='cov-plot_cyto_behrens_norm')\n",
    "show_PDF('data/plotting/cov-plot_cyto_behrens_norm.pdf')"
   ]
  },
  {
   "cell_type": "markdown",
   "metadata": {},
   "source": [
    "Sometimes, it may be desirable to focus on the coverage drop off and show more explicitly the fraction of reads that fully cover a transcript.\n",
    "For this, we can normalize the coverage such that the difference in relative abundance between different amino acids is equalized.\n",
    "Furthermore, a different style plot can be generated to enhance the view of coverage drop off.\n",
    "This plot is referred to as a \"needle plot\"\n",
    "\n",
    "Below, such a needle plot is shown.\n",
    "It clearly shows that the valine transcript (V) has a high read-through while the tryptophan transcript (W) has a very low read-through with two points with large coverage drop off."
   ]
  },
  {
   "cell_type": "code",
   "execution_count": 37,
   "metadata": {},
   "outputs": [
    {
     "name": "stdout",
     "output_type": "stream",
     "text": [
      "\n",
      "Now collecting data for sample:  100p  85p  70p  47p  40p2  10p  40p1  0p\n",
      "Now plotting sample:  100p  85p  70p  47p  40p1  40p2  10p  0p"
     ]
    },
    {
     "data": {
      "text/html": [
       "\n",
       "        <iframe\n",
       "            width=\"1000\"\n",
       "            height=\"500\"\n",
       "            src=\"data/plotting/cov-plot_cyto_needle_aa-norm.pdf\"\n",
       "            frameborder=\"0\"\n",
       "            allowfullscreen\n",
       "            \n",
       "        ></iframe>\n",
       "        "
      ],
      "text/plain": [
       "<IPython.lib.display.IFrame at 0x5636747a0220>"
      ]
     },
     "execution_count": 37,
     "metadata": {},
     "output_type": "execute_result"
    }
   ],
   "source": [
    "plot_obj.plot_coverage(compartment='cyto', plot_type='needle', aa_norm=True, \\\n",
    "                       plot_name='cov-plot_cyto_needle_aa-norm')\n",
    "show_PDF('data/plotting/cov-plot_cyto_needle_aa-norm.pdf')"
   ]
  },
  {
   "cell_type": "markdown",
   "metadata": {},
   "source": [
    "A common standard plot is a simple view of the relative expression level broken down by either transcript, codon or amino acid identity.\n",
    "This plot is generated below:"
   ]
  },
  {
   "cell_type": "code",
   "execution_count": 38,
   "metadata": {},
   "outputs": [
    {
     "name": "stdout",
     "output_type": "stream",
     "text": [
      "\n",
      "Now plotting sample/group:  Charge-titration\n",
      "Now plotting sample/group:  100p  85p  70p  47p  40p  10p  0p"
     ]
    },
    {
     "data": {
      "text/html": [
       "\n",
       "        <iframe\n",
       "            width=\"1000\"\n",
       "            height=\"500\"\n",
       "            src=\"data/plotting/abundance-plot_codon.pdf\"\n",
       "            frameborder=\"0\"\n",
       "            allowfullscreen\n",
       "            \n",
       "        ></iframe>\n",
       "        "
      ],
      "text/plain": [
       "<IPython.lib.display.IFrame at 0x5636c27dc220>"
      ]
     },
     "execution_count": 38,
     "metadata": {},
     "output_type": "execute_result"
    }
   ],
   "source": [
    "# Grouped plot:\n",
    "plot_obj.plot_abundance(plot_name='abundance-plot_codon_grp', group=True, \\\n",
    "                        plot_type='codon', min_obs=10)\n",
    "# Individual sample plot:\n",
    "plot_obj.plot_abundance(plot_name='abundance-plot_codon', group=False, \\\n",
    "                        plot_type='codon', min_obs=10)\n",
    "show_PDF('data/plotting/abundance-plot_codon.pdf')"
   ]
  },
  {
   "cell_type": "markdown",
   "metadata": {},
   "source": [
    "Another standard plot is one showing the tRNA charge.\n",
    "Such a plot, broken down by amino acid and grouped, is shown below:"
   ]
  },
  {
   "cell_type": "code",
   "execution_count": 39,
   "metadata": {},
   "outputs": [
    {
     "name": "stdout",
     "output_type": "stream",
     "text": [
      "\n",
      "Now plotting sample/group:  Charge-titration\n",
      "Now plotting sample/group:  Charge-titration"
     ]
    },
    {
     "data": {
      "text/html": [
       "\n",
       "        <iframe\n",
       "            width=\"1000\"\n",
       "            height=\"500\"\n",
       "            src=\"data/plotting/charge-plot_aa_grp.pdf\"\n",
       "            frameborder=\"0\"\n",
       "            allowfullscreen\n",
       "            \n",
       "        ></iframe>\n",
       "        "
      ],
      "text/plain": [
       "<IPython.lib.display.IFrame at 0x56366d56fdf0>"
      ]
     },
     "execution_count": 39,
     "metadata": {},
     "output_type": "execute_result"
    }
   ],
   "source": [
    "# Grouped plot, per codon:\n",
    "plot_obj.plot_abundance(plot_name='charge-plot_codon_grp', group=True, \\\n",
    "                        plot_type='codon', min_obs=50, charge_plot=True)\n",
    "# Grouped plot, per amino acid:\n",
    "plot_obj.plot_abundance(plot_name='charge-plot_aa_grp', group=True, \\\n",
    "                        plot_type='aa', min_obs=50, charge_plot=True)\n",
    "show_PDF('data/plotting/charge-plot_aa_grp.pdf')"
   ]
  },
  {
   "cell_type": "markdown",
   "metadata": {},
   "source": [
    "Sometimes, it can be useful to plot the relative abundance of two samples in comparison to each other.\n",
    "For example, for replicates or samples that should have the same relative abundance, the RPM values should fall on a straight line.\n",
    "This is plotted below, with each transcript as a datapoint, a linear regression line in blue and a one-to-one correspondance as a red line:"
   ]
  },
  {
   "cell_type": "code",
   "execution_count": 40,
   "metadata": {},
   "outputs": [
    {
     "name": "stdout",
     "output_type": "stream",
     "text": [
      "\n",
      "Now plotting sample pairs:  (100p - 10p)  (100p - 0p)"
     ]
    },
    {
     "data": {
      "text/html": [
       "\n",
       "        <iframe\n",
       "            width=\"1000\"\n",
       "            height=\"500\"\n",
       "            src=\"data/plotting/abundance-corr-plot_tr.pdf\"\n",
       "            frameborder=\"0\"\n",
       "            allowfullscreen\n",
       "            \n",
       "        ></iframe>\n",
       "        "
      ],
      "text/plain": [
       "<IPython.lib.display.IFrame at 0x5636c70a9f10>"
      ]
     },
     "execution_count": 40,
     "metadata": {},
     "output_type": "execute_result"
    }
   ],
   "source": [
    "plot_obj.plot_abundance_corr(sample_unique_pairs=[['100p', '100p'], ['10p', '0p']], \\\n",
    "                             plot_type='transcript', charge_plot=False, log=True, \\\n",
    "                             plot_name='abundance-corr-plot_tr', \\\n",
    "                             min_obs=30)\n",
    "show_PDF('data/plotting/abundance-corr-plot_tr.pdf')"
   ]
  },
  {
   "cell_type": "markdown",
   "metadata": {},
   "source": [
    "A similar plot can be made showing charge instead of RPM:"
   ]
  },
  {
   "cell_type": "code",
   "execution_count": 41,
   "metadata": {},
   "outputs": [
    {
     "name": "stdout",
     "output_type": "stream",
     "text": [
      "\n",
      "Now plotting sample pairs:  (40p1 - 40p2)"
     ]
    },
    {
     "data": {
      "text/html": [
       "\n",
       "        <iframe\n",
       "            width=\"1000\"\n",
       "            height=\"500\"\n",
       "            src=\"data/plotting/charge-corr-plot_aa.pdf\"\n",
       "            frameborder=\"0\"\n",
       "            allowfullscreen\n",
       "            \n",
       "        ></iframe>\n",
       "        "
      ],
      "text/plain": [
       "<IPython.lib.display.IFrame at 0x5636c718c2e0>"
      ]
     },
     "execution_count": 41,
     "metadata": {},
     "output_type": "execute_result"
    }
   ],
   "source": [
    "plot_obj.plot_abundance_corr(sample_unique_pairs=[['40p1'], ['40p2']], \\\n",
    "                             plot_type='aa', charge_plot=True, log=False, \\\n",
    "                             plot_name='charge-corr-plot_aa', \\\n",
    "                             min_obs=500, one2one_corr=True)\n",
    "show_PDF('data/plotting/charge-corr-plot_aa.pdf')"
   ]
  },
  {
   "cell_type": "markdown",
   "metadata": {},
   "source": [
    "Finally, we can look into some of the features of the library prep.\n",
    "First, let us plot a logo over the positional nucleotide use of the UMI:"
   ]
  },
  {
   "cell_type": "code",
   "execution_count": 42,
   "metadata": {},
   "outputs": [
    {
     "name": "stdout",
     "output_type": "stream",
     "text": [
      "\n",
      "Now collecting data for sample:  100p  70p  85p  47p  40p2  40p1  10p  0p\n",
      "Now plotting logo plot."
     ]
    },
    {
     "data": {
      "text/html": [
       "\n",
       "        <iframe\n",
       "            width=\"1000\"\n",
       "            height=\"500\"\n",
       "            src=\"data/plotting/UMI_logo.pdf\"\n",
       "            frameborder=\"0\"\n",
       "            allowfullscreen\n",
       "            \n",
       "        ></iframe>\n",
       "        "
      ],
      "text/plain": [
       "<IPython.lib.display.IFrame at 0x56366c6fedc0>"
      ]
     },
     "execution_count": 42,
     "metadata": {},
     "output_type": "execute_result"
    }
   ],
   "source": [
    "plot_obj.plot_UMI_logo(plot_name='UMI_logo')\n",
    "show_PDF('data/plotting/UMI_logo.pdf')"
   ]
  },
  {
   "cell_type": "markdown",
   "metadata": {},
   "source": [
    "The UMI logo plot shows approxiamate random nucleotide use on all positions except the 3' nt. which is always a random pyrimidine.\n",
    "This is also what should be expected given the RT oligo design.\n",
    "\n",
    "Next, we can plot the 5' non-template nucleotides.\n",
    "These are added to the end of the cDNA by the reverse transcriptase during the RT-PCR reaction.\n",
    "Here, we only include up to the 99th percentile of the longest 5' non-template nucleotide additions:"
   ]
  },
  {
   "cell_type": "code",
   "execution_count": 43,
   "metadata": {},
   "outputs": [
    {
     "name": "stdout",
     "output_type": "stream",
     "text": [
      "\n",
      "Now collecting data for sample:  85p  100p  70p  47p  40p2  40p1  10p  0p\n",
      "Now plotting logo plot."
     ]
    },
    {
     "data": {
      "text/html": [
       "\n",
       "        <iframe\n",
       "            width=\"1000\"\n",
       "            height=\"500\"\n",
       "            src=\"data/plotting/_5p-non-template_logo.pdf\"\n",
       "            frameborder=\"0\"\n",
       "            allowfullscreen\n",
       "            \n",
       "        ></iframe>\n",
       "        "
      ],
      "text/plain": [
       "<IPython.lib.display.IFrame at 0x56366d104c40>"
      ]
     },
     "execution_count": 43,
     "metadata": {},
     "output_type": "execute_result"
    }
   ],
   "source": [
    "plot_obj.plot_non_temp(end='5p', plot_name='_5p-non-template_logo', \\\n",
    "                       seq_len_percentile=99)\n",
    "show_PDF('data/plotting/_5p-non-template_logo.pdf')"
   ]
  },
  {
   "cell_type": "markdown",
   "metadata": {},
   "source": [
    "We observe that the most commonly observed 5' non-template nucleotide is T, which means that the reverse transcriptase adds A to the 3' of the cDNA.\n",
    "This is similar to the observation made by Behrens et al. 2021.\n",
    "\n",
    "Next, we can look at the 3' non-template nucleotides.\n",
    "These are not added by the reverse transcriptase but are likely either erronous CCA additions or additional bases in the adapter.\n",
    "Plotted below and only showing sequences with 3' coverage:"
   ]
  },
  {
   "cell_type": "code",
   "execution_count": 44,
   "metadata": {},
   "outputs": [
    {
     "name": "stdout",
     "output_type": "stream",
     "text": [
      "\n",
      "Now collecting data for sample:  100p  85p  70p  47p  40p2  40p1  10p  0p\n",
      "Now plotting logo plot."
     ]
    },
    {
     "data": {
      "text/html": [
       "\n",
       "        <iframe\n",
       "            width=\"1000\"\n",
       "            height=\"500\"\n",
       "            src=\"data/plotting/_3p-non-template_logo.pdf\"\n",
       "            frameborder=\"0\"\n",
       "            allowfullscreen\n",
       "            \n",
       "        ></iframe>\n",
       "        "
      ],
      "text/plain": [
       "<IPython.lib.display.IFrame at 0x5636c2113340>"
      ]
     },
     "execution_count": 44,
     "metadata": {},
     "output_type": "execute_result"
    }
   ],
   "source": [
    "plot_obj.plot_non_temp(end='3p', plot_name='_3p-non-template_logo', \\\n",
    "                       seq_len_percentile=99.9, _3p_cover=True)\n",
    "show_PDF('data/plotting/_3p-non-template_logo.pdf')"
   ]
  },
  {
   "cell_type": "markdown",
   "metadata": {},
   "source": [
    "From this, we can see that 3' non-template nucleotides are a rare occurence with mostly one or two nucleotides added.\n",
    "Had there been many more sequences with 3' non-template nucleotides it would have indicated a problem, possibly with the quality of the adapter oligo.\n",
    "\n",
    "Before moving on, we can dump the charge and relative abundance data to enable custom plotting:"
   ]
  },
  {
   "cell_type": "code",
   "execution_count": 45,
   "metadata": {},
   "outputs": [],
   "source": [
    "# Write charge/RPM data grouped by transcript, codon and amino acid:\n",
    "plot_obj.write_charge_df(df_type='transcript', \\\n",
    "                         fnam='charge-df_tr')\n",
    "plot_obj.write_charge_df(df_type='codon', \\\n",
    "                         fnam='charge-df_codon')\n",
    "plot_obj.write_charge_df(df_type='aa', \\\n",
    "                         fnam='charge-df_aa')"
   ]
  },
  {
   "cell_type": "code",
   "execution_count": null,
   "metadata": {},
   "outputs": [],
   "source": []
  },
  {
   "cell_type": "markdown",
   "metadata": {},
   "source": [
    "### Transcript mutation analysis\n",
    "The last element of this analysis is going to be addressing the mismatches between the tRNA sequence of the reference vs. the sequenced read.\n",
    "Assuming that the reference database is complete and contains no errors the mismatch between reference and read can derive from: 1) biological errors in tRNA synthesis, 2) RT PCR errors, 3) PCR errors, 4) sequencing errors and 5) chemical modification fx depurination.\n",
    "tRNAs are heavily modified with many modifications disrupting the Watson–Crick base pairing.\n",
    "Such modifications will lead to stalling, fall off, misincorporation or skipping in the RT PCR reaction and thus this reaction is by far the most likely process to introduce errors in the read.\n",
    "\n",
    "Because the read errors are most likely a direct consequence of tRNA modifications, we can use the error type (mismatch/gap/RT stop) and site frequency to measure the level of modification.\n",
    "Comparison between samples will then allow us to infer differential modifications.\n",
    "However, the introduction of many mismatches and/or gaps into a read can also make the alignment difficult.\n",
    "An easy solution is to mask the positions in the reference that are most likely affected such that a mismatch does not lead to alignment penalty.\n",
    "The alignment run above was actually setup using a masked reference, also indicated by the variable name `tRNA_database_masked`.\n",
    "This masking was generated a priori using the transcript mutation analysis now presented."
   ]
  },
  {
   "cell_type": "code",
   "execution_count": 46,
   "metadata": {},
   "outputs": [
    {
     "name": "stdout",
     "output_type": "stream",
     "text": [
      "Using common sequences...\n"
     ]
    }
   ],
   "source": [
    "# Initiate the transcript mutation object:\n",
    "TM_obj = TM_analysis(dir_dict, sample_df, tRNA_database, pull_default=False, \\\n",
    "                     common_seqs=common_seqs, ignore_common_count=False, \\\n",
    "                     overwrite_dir=True)"
   ]
  },
  {
   "cell_type": "markdown",
   "metadata": {},
   "source": [
    "First, we need to find and count the mutations/gaps/RT stops.\n",
    "This involves alignment of each read to its respective transcript annotation(s).\n",
    "Furthermore, we can choose alignment parameters (not shown here) and exclusion criteria, such as only analyzing reads with a unique annotation."
   ]
  },
  {
   "cell_type": "code",
   "execution_count": 47,
   "metadata": {},
   "outputs": [
    {
     "name": "stdout",
     "output_type": "stream",
     "text": [
      "Collecting stats from:  100p  85p  70p  47p  40p1  40p2  0p  10p"
     ]
    }
   ],
   "source": [
    "TM_obj.find_muts(n_jobs=4, unique_anno=False)"
   ]
  },
  {
   "cell_type": "markdown",
   "metadata": {},
   "source": [
    "After generating transcript mutation data it can be saved.\n",
    "Saved data can be read at another time, thus avoiding repeating the time consuming analysis."
   ]
  },
  {
   "cell_type": "code",
   "execution_count": 48,
   "metadata": {},
   "outputs": [],
   "source": [
    "# Save transcript mutation data:\n",
    "TM_obj.pickle_muts_write(pickle_name='saved_muts.pickle')\n",
    "# Read previosly saved transcript mutation data:\n",
    "TM_obj.pickle_muts_read(pickle_name='saved_muts.pickle')"
   ]
  },
  {
   "cell_type": "markdown",
   "metadata": {},
   "source": [
    "Now, all the data has been generated and we can plot it in many different ways.\n",
    "One way, would be to plot the positional nucleotide frequency of all reads mapped to a given transcript in the reference database.\n",
    "Such logo plot is plotted below.\n",
    "Notice, read gaps appear as a black line."
   ]
  },
  {
   "cell_type": "code",
   "execution_count": 49,
   "metadata": {},
   "outputs": [
    {
     "data": {
      "text/html": [
       "\n",
       "        <iframe\n",
       "            width=\"1000\"\n",
       "            height=\"500\"\n",
       "            src=\"data/transcript_mutations/tr-mut_logos.pdf\"\n",
       "            frameborder=\"0\"\n",
       "            allowfullscreen\n",
       "            \n",
       "        ></iframe>\n",
       "        "
      ],
      "text/plain": [
       "<IPython.lib.display.IFrame at 0x56366ac0a880>"
      ]
     },
     "execution_count": 49,
     "metadata": {},
     "output_type": "execute_result"
    }
   ],
   "source": [
    "TM_obj.plot_transcript_logo(plot_name='tr-mut_logos')\n",
    "show_PDF('data/transcript_mutations/tr-mut_logos.pdf')"
   ]
  },
  {
   "cell_type": "markdown",
   "metadata": {},
   "source": [
    "The logo plot is a classic way of showing sequence variation and, when plotted with read counts, also gives a sense of the RT stops when a drop in read counts is seen.\n",
    "This is similar to the coverage plot generated above; however, here showing the coverage on the levels of the individual transcript.\n",
    "Below, we use a more explicit way of showing this transcript coverage.\n",
    "It starts at 100% at the 3' end and decreases as approaching the 5'.\n",
    "Since the data is right aligned to the longest transcript, the first 15 positions typically has no coverage."
   ]
  },
  {
   "cell_type": "code",
   "execution_count": 50,
   "metadata": {},
   "outputs": [
    {
     "data": {
      "image/png": "[encoded data removed]",
      "text/plain": [
       "<Figure size 1800x288 with 2 Axes>"
      ]
     },
     "metadata": {},
     "output_type": "display_data"
    }
   ],
   "source": [
    "obs_mat_df, fig, sorted_anno = TM_obj.plot_transcript_cov(plot_name='tr-cov_matrix', \\\n",
    "                                                          topN=10)"
   ]
  },
  {
   "cell_type": "markdown",
   "metadata": {},
   "source": [
    "Transcript coverage can also be converted to a metric describing the fraction of RT PCR readthrough.\n",
    "Below, this is referred to as `RTstops`, others refer to it as the \"termination signal\" (see Wang et al. 2021).\n",
    "It is calculated as:\n",
    "$$\n",
    "100 * \\frac{cov(i+1) - cov(i)}{cov(i+1)}\n",
    "$$\n",
    "\n",
    "Where $cov(i+1) \\ge cov(i)$ such that this repressents the percentual RT PCR readthrough."
   ]
  },
  {
   "cell_type": "code",
   "execution_count": 51,
   "metadata": {},
   "outputs": [
    {
     "data": {
      "image/png": "[encoded data removed]",
      "text/plain": [
       "<Figure size 1800x288 with 2 Axes>"
      ]
     },
     "metadata": {},
     "output_type": "display_data"
    }
   ],
   "source": [
    "obs_mat_df, fig, sorted_anno = TM_obj.plot_transcript_cov(plot_name='tr-RTstop_matrix', \\\n",
    "                                                          topN=10, RTstops=True)"
   ]
  },
  {
   "cell_type": "markdown",
   "metadata": {},
   "source": [
    "Similarly, the mutation frequency (sum of mismatch and gap frequencies) can be plotted per position:"
   ]
  },
  {
   "cell_type": "code",
   "execution_count": 52,
   "metadata": {},
   "outputs": [
    {
     "data": {
      "image/png": "[encoded data removed]",
      "text/plain": [
       "<Figure size 1800x288 with 2 Axes>"
      ]
     },
     "metadata": {},
     "output_type": "display_data"
    }
   ],
   "source": [
    "mut_mat_df, fig, sorted_anno = TM_obj.plot_transcript_mut(topN=10, species='human', plot_name='tr-mut_matrix')"
   ]
  },
  {
   "cell_type": "markdown",
   "metadata": {},
   "source": [
    "As well as the gap frequency:"
   ]
  },
  {
   "cell_type": "code",
   "execution_count": 53,
   "metadata": {},
   "outputs": [
    {
     "data": {
      "image/png": "[encoded data removed]",
      "text/plain": [
       "<Figure size 1800x288 with 2 Axes>"
      ]
     },
     "metadata": {},
     "output_type": "display_data"
    }
   ],
   "source": [
    "mut_mat_df, fig, sorted_anno = TM_obj.plot_transcript_mut(topN=10, species='human', \\\n",
    "                                                          plot_name='tr-gap_matrix', \\\n",
    "                                                          gap_only=True)"
   ]
  },
  {
   "cell_type": "markdown",
   "metadata": {},
   "source": [
    "Sometimes, we want to focus the attention on mitochondrial transcripts.\n",
    "This is done using the `mito` input variable:"
   ]
  },
  {
   "cell_type": "code",
   "execution_count": 54,
   "metadata": {},
   "outputs": [
    {
     "data": {
      "image/png": "[encoded data removed]",
      "text/plain": [
       "<Figure size 1800x288 with 2 Axes>"
      ]
     },
     "metadata": {},
     "output_type": "display_data"
    }
   ],
   "source": [
    "mut_mat_df, fig, sorted_anno = TM_obj.plot_transcript_mut(topN=10, species='human', \\\n",
    "                                                          plot_name='tr-mut_matrix_mito', \\\n",
    "                                                          mito=True)"
   ]
  },
  {
   "cell_type": "markdown",
   "metadata": {},
   "source": [
    "The above tools are good for overview purposes; however, they do not provide a good way of comparing sample conditions.\n",
    "We can achieve this using pairwise sample comparison and sorting the transcripts such that the maximally different transcripts are shown first.\n",
    "\n",
    "The samples in this example are all derived from the same batch of tRNA isolated from tissue culture cells and thus should not differ much in the mutation frequencies.\n",
    "However, a comparison is still shown to provide an example."
   ]
  },
  {
   "cell_type": "code",
   "execution_count": 55,
   "metadata": {},
   "outputs": [
    {
     "data": {
      "image/png": "[encoded data removed]",
      "text/plain": [
       "<Figure size 1800x522 with 2 Axes>"
      ]
     },
     "metadata": {},
     "output_type": "display_data"
    },
    {
     "data": {
      "image/png": "[encoded data removed]",
      "text/plain": [
       "<Figure size 1800x522 with 2 Axes>"
      ]
     },
     "metadata": {},
     "output_type": "display_data"
    }
   ],
   "source": [
    "TM_obj.plot_transcript_mut_compare(plot_name='tr-mut_matrix_comp', \\\n",
    "                                   sample_unique_pairs=[['100p', '100p'], ['10p', '0p']], \\\n",
    "                                   data_type='mut', \\\n",
    "                                   topN=10, topN_select='max_diff')"
   ]
  },
  {
   "cell_type": "markdown",
   "metadata": {},
   "source": [
    "Sometimes clustering samples is better than pairwise comparison.\n",
    "For example, in the above pairwise comparison it would seem that there is a difference between samples 100p and 0p for the Arg-ACG-1-3 transcript on column index 50.\n",
    "If true, we should be able to cluster the samples and recover the correct order: 100p, 85p, 70p, 47p, 40p, 10p, 0p.\n",
    "\n",
    "Transcript Arg-ACG-1-1 is 76 nt. long and thus column index 50 correspond to position 37 on the transcript.\n",
    "In the clustered heatmap below the data is left aligned and column index 36 corresponds to column index 50 in the pairwise comparison.\n",
    "Cells beyond the length of the transcript, or with insufficient coverage, are crossed out with a white X."
   ]
  },
  {
   "cell_type": "code",
   "execution_count": 56,
   "metadata": {},
   "outputs": [
    {
     "data": {
      "text/html": [
       "\n",
       "        <iframe\n",
       "            width=\"1000\"\n",
       "            height=\"500\"\n",
       "            src=\"data/transcript_mutations/tr-mut_matrix_clust_Arg.pdf\"\n",
       "            frameborder=\"0\"\n",
       "            allowfullscreen\n",
       "            \n",
       "        ></iframe>\n",
       "        "
      ],
      "text/plain": [
       "<IPython.lib.display.IFrame at 0x56367476af10>"
      ]
     },
     "execution_count": 56,
     "metadata": {},
     "output_type": "execute_result"
    }
   ],
   "source": [
    "TM_obj.plot_transcript_mut_cluster(data_type='mut', min_count_show=50, \\\n",
    "                                   plot_name='tr-mut_matrix_clust_Arg', \\\n",
    "                                   right_align=False, \\\n",
    "                                   anno_substring_incl='Arg-ACG-1-3')\n",
    "show_PDF('data/transcript_mutations/tr-mut_matrix_clust_Arg.pdf')"
   ]
  },
  {
   "cell_type": "markdown",
   "metadata": {},
   "source": [
    "The clustered heatmap shows little difference between the samples, which is good because there should not be any, but had there been a true difference the rows would have been sorted according to the sample clusterings.\n",
    "\n",
    "Should any doubt remain, we can zoom in on position 37 of Arg-ACG-1-3 and plot both the mutation, gap and RT stop data, and as shown below no consistent difference can be proven."
   ]
  },
  {
   "cell_type": "code",
   "execution_count": 57,
   "metadata": {},
   "outputs": [
    {
     "data": {
      "text/html": [
       "\n",
       "        <iframe\n",
       "            width=\"1000\"\n",
       "            height=\"500\"\n",
       "            src=\"data/transcript_mutations/pos37_Arg-ACG-1-3.pdf\"\n",
       "            frameborder=\"0\"\n",
       "            allowfullscreen\n",
       "            \n",
       "        ></iframe>\n",
       "        "
      ],
      "text/plain": [
       "<IPython.lib.display.IFrame at 0x56366a271220>"
      ]
     },
     "execution_count": 57,
     "metadata": {},
     "output_type": "execute_result"
    }
   ],
   "source": [
    "data_dict = TM_obj.plot_transcript_mut_pos(tr_pos=37, min_count_show=50, \\\n",
    "                                           plot_name='pos37_Arg-ACG-1-3', \\\n",
    "                                           anno_substring_incl='Arg-ACG-1-3')\n",
    "show_PDF('data/transcript_mutations/pos37_Arg-ACG-1-3.pdf')"
   ]
  },
  {
   "cell_type": "markdown",
   "metadata": {},
   "source": [
    "At this point, if the plots shown are insufficient, the transcript mutation data can be exported to csv format using the `write_transcript_mut` method:"
   ]
  },
  {
   "cell_type": "code",
   "execution_count": 58,
   "metadata": {},
   "outputs": [],
   "source": [
    "TM_obj.write_transcript_mut(csv_name='tr-mut_matrix', \\\n",
    "                            data_type='mut', \\\n",
    "                            mask_min_count=10)"
   ]
  },
  {
   "cell_type": "markdown",
   "metadata": {},
   "source": [
    "Lastly, the transcript mutation data can be used to generate a new reference database, masking the most frequently mutated positions.\n",
    "Reference masking should be done carefully, so as to not bias the alignment.\n",
    "See an example of finding the optimal reference masking under the `projects/alignment-opti` folder.\n",
    "\n",
    "To provide a full example the command for reference masking is run below:"
   ]
  },
  {
   "cell_type": "code",
   "execution_count": 59,
   "metadata": {},
   "outputs": [],
   "source": [
    "# Masking the reference using mutation frequency data,\n",
    "# then extending the masking to highly similar transcripts:\n",
    "TM_obj.mask_tRNA_database()\n",
    "# Write the masked reference to a new folder\n",
    "# and generate a BLAST index:\n",
    "tRNA_database_masked = TM_obj.write_masked_tRNA_database(out_dir='tRNA_database_masked')"
   ]
  },
  {
   "cell_type": "code",
   "execution_count": null,
   "metadata": {},
   "outputs": [],
   "source": []
  },
  {
   "cell_type": "code",
   "execution_count": null,
   "metadata": {},
   "outputs": [],
   "source": []
  },
  {
   "cell_type": "code",
   "execution_count": null,
   "metadata": {},
   "outputs": [],
   "source": []
  }
 ],
 "metadata": {
  "kernelspec": {
   "display_name": "Python 3",
   "language": "python",
   "name": "python3"
  },
  "language_info": {
   "codemirror_mode": {
    "name": "ipython",
    "version": 3
   },
   "file_extension": ".py",
   "mimetype": "text/x-python",
   "name": "python",
   "nbconvert_exporter": "python",
   "pygments_lexer": "ipython3",
   "version": "3.8.5"
  }
 },
 "nbformat": 4,
 "nbformat_minor": 4
}
