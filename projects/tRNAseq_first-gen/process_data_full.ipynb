{
 "cells": [
  {
   "cell_type": "code",
   "execution_count": null,
   "metadata": {},
   "outputs": [],
   "source": []
  },
  {
   "cell_type": "code",
   "execution_count": 1,
   "metadata": {},
   "outputs": [
    {
     "name": "stderr",
     "output_type": "stream",
     "text": [
      "/home/sulab/anaconda3/lib/python3.9/site-packages/numpy/core/getlimits.py:518: UserWarning: The value of the smallest subnormal for <class 'numpy.float64'> type is zero.\n",
      "  setattr(self, word, getattr(machar, word).flat[0])\n",
      "/home/sulab/anaconda3/lib/python3.9/site-packages/numpy/core/getlimits.py:89: UserWarning: The value of the smallest subnormal for <class 'numpy.float64'> type is zero.\n",
      "  return self._float_to_str(self.smallest_subnormal)\n",
      "/home/sulab/anaconda3/lib/python3.9/site-packages/numpy/core/getlimits.py:518: UserWarning: The value of the smallest subnormal for <class 'numpy.float32'> type is zero.\n",
      "  setattr(self, word, getattr(machar, word).flat[0])\n",
      "/home/sulab/anaconda3/lib/python3.9/site-packages/numpy/core/getlimits.py:89: UserWarning: The value of the smallest subnormal for <class 'numpy.float32'> type is zero.\n",
      "  return self._float_to_str(self.smallest_subnormal)\n"
     ]
    }
   ],
   "source": [
    "%load_ext autoreload\n",
    "%autoreload 2\n",
    "\n",
    "import os, sys, shutil, bz2, copy\n",
    "from pathlib import Path\n",
    "import pandas as pd\n",
    "pd.set_option('display.max_columns', 50)\n",
    "import numpy as np\n",
    "\n",
    "### Plotting imports ###\n",
    "import seaborn as sns\n",
    "import matplotlib.pyplot as plt\n",
    "from matplotlib.backends.backend_pdf import PdfPages\n",
    "import matplotlib.colors as mcolors\n",
    "import matplotlib as mpl\n",
    "from matplotlib.patches import StepPatch\n",
    "import matplotlib.ticker as ticker\n",
    "import matplotlib.gridspec as gridspec\n",
    "import logomaker as lm\n",
    "palette = list(mcolors.TABLEAU_COLORS.keys())\n",
    "sns.set_theme(style=\"ticks\", palette=\"muted\")\n",
    "sns.set_context(\"talk\")\n",
    "%matplotlib inline"
   ]
  },
  {
   "cell_type": "code",
   "execution_count": 2,
   "metadata": {},
   "outputs": [
    {
     "name": "stdout",
     "output_type": "stream",
     "text": [
      "Notebook is in: /home/sulab/tRNA-charge-seq/projects/tRNAseq_first-gen\n",
      "Repo is in: /home/sulab/tRNA-charge-seq\n",
      "Using minimum read length: 25 (after merge)\n"
     ]
    }
   ],
   "source": [
    "# Navigate back to NBdir in case of re-running a code block:\n",
    "if not 'NBdir' in globals():\n",
    "    NBdir = os.getcwd()\n",
    "print('Notebook is in: {}'.format(NBdir))\n",
    "os.chdir(NBdir)  # If you changed the current working dir, this will take you back to the notebook dir.\n",
    "\n",
    "# Define the path to the repo folder.\n",
    "# Change if necessary.\n",
    "homedir = '/'.join(NBdir.split('/')[0:-2])\n",
    "print('Repo is in: {}'.format(homedir))\n",
    "sys.path.insert(1, homedir)\n",
    "from src.misc import index_to_sample_df, downsample_raw_input, read_tRNAdb_info, sample_df_to_dict\n",
    "from src.read_processing import AR_merge, BC_split, Kmer_analysis, BC_analysis, UMI_trim\n",
    "from src.alignment import SWIPE_align\n",
    "from src.stats_collection import STATS_collection\n",
    "from src.plotting import TRNA_plot\n",
    "from src.transcript_mutations import TM_analysis\n",
    "\n",
    "# These are default folder names for data and raw fastq files\n",
    "# relative to the folder in which this notebook is in:\n",
    "data_dir = 'data'\n",
    "seq_dir = 'raw_fastq'\n",
    "seq_dir_noDS = seq_dir # Not downsampled\n",
    "\n",
    "# These folder names are used in subsequent processing steps\n",
    "# to dump data. Best to not change:\n",
    "AdapterRemoval_dir = 'AdapterRemoval'\n",
    "BC_dir = 'BC_split'\n",
    "UMI_dir = 'UMI_trimmed'\n",
    "align_dir = 'SWalign'\n",
    "stats_dir = 'stats_collection'\n",
    "TM_dir = 'transcript_mutations'\n",
    "plotting_dir = 'plotting'\n",
    "tRNA_database = dict()\n",
    "tRNA_database['human'] = '{}/tRNA_database/human/hg38-tRNAs.fa'.format(homedir)\n",
    "tRNA_database['mouse'] = '{}/tRNA_database/mouse/mm10-tRNAs.fa'.format(homedir)\n",
    "tRNA_database_masked = dict()\n",
    "tRNA_database_masked['human'] = '{}/tRNA_database_masked/human/human-tRNAs.fa'.format(homedir)\n",
    "# Read information (length, codon etc) of tRNAs into dictionary:\n",
    "tRNA_data = read_tRNAdb_info(tRNA_database)\n",
    "SWIPE_score_mat = '{}/utils/nuc_score-matrix.txt'.format(homedir)\n",
    "SWIPE_score_mat2 = '{}/utils/nuc_score-matrix_2.txt'.format(homedir) # For masked reference sequences\n",
    "# tRNA sequencing yields many duplicated reads.\n",
    "# Adding these commonly seen sequences to a list prevents duplicated alignment:\n",
    "common_seqs = '{}/utils/common-seqs.fasta.bz2'.format(homedir)\n",
    "\n",
    "# Define minimum read length based on minimum insert size:\n",
    "MIN_INSERT_LEN = 10\n",
    "UMI_LEN = 10\n",
    "BC_MAX_LEN = 5\n",
    "MIN_READ_LEN = MIN_INSERT_LEN + UMI_LEN + BC_MAX_LEN\n",
    "print('Using minimum read length: {} (after merge)'.format(MIN_READ_LEN))\n",
    "\n",
    "# Read index information:\n",
    "index_list_fnam = 'index_list.xlsx'\n",
    "index_df = pd.read_excel('{}/utils/{}'.format(homedir, index_list_fnam))"
   ]
  },
  {
   "cell_type": "code",
   "execution_count": null,
   "metadata": {},
   "outputs": [],
   "source": []
  },
  {
   "cell_type": "markdown",
   "metadata": {},
   "source": [
    "### Settings"
   ]
  },
  {
   "cell_type": "code",
   "execution_count": 3,
   "metadata": {},
   "outputs": [],
   "source": [
    "sample_list_fnam = 'sample_list.xlsx'\n",
    "sample_df = pd.read_excel('{}/{}'.format(NBdir, sample_list_fnam))\n",
    "# Add barcode sequences:\n",
    "sample_df = index_to_sample_df(sample_df, index_df)\n",
    "# Read elementary info (replicate, barcode, species)\n",
    "# for each unique sample name into a dictionary:\n",
    "sample_dict = sample_df_to_dict(sample_df)\n",
    "# Get filenames from the sample information:\n",
    "inp_file_df = sample_df[['fastq_mate1_filename', 'fastq_mate2_filename', 'P5_index', 'P7_index', 'P5_index_seq', 'P7_index_seq']].copy().drop_duplicates().reset_index(drop=True)\n",
    "\n",
    "# Downsample:\n",
    "if False:\n",
    "    sample_df, inp_file_df, seq_dir = downsample_raw_input(sample_df, inp_file_df, NBdir, data_dir, seq_dir_noDS, downsample_absolute=1e4)\n",
    "\n",
    "# Make a dictionary with paths used for data processing:\n",
    "dir_dict = dict(NBdir = NBdir,\n",
    "                data_dir = data_dir,\n",
    "                seq_dir = seq_dir,\n",
    "                AdapterRemoval_dir = AdapterRemoval_dir,\n",
    "                BC_dir = BC_dir,\n",
    "                UMI_dir = UMI_dir,\n",
    "                align_dir = align_dir,\n",
    "                stats_dir = stats_dir,\n",
    "                TM_dir = TM_dir,\n",
    "                plotting_dir = plotting_dir)"
   ]
  },
  {
   "cell_type": "code",
   "execution_count": null,
   "metadata": {},
   "outputs": [],
   "source": []
  },
  {
   "cell_type": "code",
   "execution_count": null,
   "metadata": {},
   "outputs": [],
   "source": [
    "# Run AdapterRemoval:\n",
    "AR_obj = AR_merge(dir_dict, inp_file_df, MIN_READ_LEN, overwrite_dir=True)\n",
    "inp_file_df = AR_obj.run_parallel(n_jobs=4, overwrite=True)"
   ]
  },
  {
   "cell_type": "code",
   "execution_count": null,
   "metadata": {},
   "outputs": [],
   "source": [
    "# Split files based on barcodes:\n",
    "BCsplit_obj = BC_split(dir_dict, sample_df, inp_file_df, overwrite_dir=True)\n",
    "sample_df, inp_file_df = BCsplit_obj.run_parallel(n_jobs=12, load_previous=False)"
   ]
  },
  {
   "cell_type": "code",
   "execution_count": null,
   "metadata": {},
   "outputs": [],
   "source": [
    "### Generate UMI stats and write final trimmed tRNA sequences ###\n",
    "# Note, the cDNA input amount is so large that it is very unlikely to sequence\n",
    "# the same PCR amplified DNA twice. Therefore, this processing step does not\n",
    "# attempt to merge possible UMI duplicates.\n",
    "UMItrim_obj = UMI_trim(dir_dict, sample_df, overwrite_dir=True)\n",
    "sample_df = UMItrim_obj.run_parallel(n_jobs=12, load_previous=False)\n",
    "sample_df.head(3)"
   ]
  },
  {
   "cell_type": "code",
   "execution_count": null,
   "metadata": {},
   "outputs": [],
   "source": [
    "### Align reads to database of reference tRNAs ###\n",
    "align_obj = SWIPE_align(dir_dict, tRNA_database_masked, sample_df, SWIPE_score_mat2, \\\n",
    "                        gap_penalty=6, extension_penalty=3, min_score_align=15, \\\n",
    "                        common_seqs=common_seqs, overwrite_dir=True)\n",
    "sample_df = align_obj.run_parallel(n_jobs=6, overwrite=False, load_previous=False)\n",
    "sample_df.head(3)"
   ]
  },
  {
   "cell_type": "code",
   "execution_count": null,
   "metadata": {},
   "outputs": [],
   "source": [
    "### Collect alignment statistics ###\n",
    "stats_obj = STATS_collection(dir_dict, tRNA_data, sample_df, common_seqs=common_seqs, \\\n",
    "                             overwrite_dir=True)\n",
    "stats_df = stats_obj.run_parallel(n_jobs=8, load_previous=False)\n",
    "# The dataframe returned is the \"ALL_stats_aggregate_filtered.csv\"\n",
    "# which is the aggregated data filtered to contain only the\n",
    "# most relevant columnns and requiring the 3' must be covered\n",
    "# and have no 3' non-template bases.\n",
    "# The CSV file output \"ALL_stats_aggregate.csv\" is the data\n",
    "# aggregated based on all values identical except\n",
    "# readID, 5p_UMI and 3p_BC. I.e. every information, except\n",
    "# the UMI seequence is maintained in the aggregated CSV.\n",
    "stats_df.head(3)"
   ]
  },
  {
   "cell_type": "code",
   "execution_count": null,
   "metadata": {},
   "outputs": [],
   "source": [
    "### Generate standard tRNAseq data plots ###\n",
    "plot_obj = TRNA_plot(dir_dict, sample_df, overwrite_dir=True, pull_default=False)\n",
    "\n",
    "# Plot UMI nucleotide content logo per sample:\n",
    "#plot_obj.plot_UMI_logo()\n",
    "\n",
    "# Plot the 5p non-template nucleotide logo per sample,\n",
    "# using only those at, or below, the legth determined as a percentile:\n",
    "#plot_obj.plot_non_temp('5p', '_5p-non-template_logo', seq_len_percentile=99)\n",
    "\n",
    "# 3p non-template nucleotides are more rare, therefore 99.9 percentile:\n",
    "#plot_obj.plot_non_temp('3p', '_3p-non-template_logo', seq_len_percentile=99.9)\n",
    "\n",
    "# 3p non-template nucleotides, but require 3p coverage.\n",
    "# This is more likely to reflect either:\n",
    "# 1) Erronous CCA addition, or 2) additional bases in the adapter.\n",
    "#plot_obj.plot_non_temp('3p', '_3p-non-template_3p-cover_logo', seq_len_percentile=99.9, _3p_cover=True)\n",
    "\n",
    "# Plot the 5p to 3p coverage for each amino acid:\n",
    "#plot_obj.plot_coverage(compartment='cyto', plot_type='needle', aa_norm=False, plot_name='cov_plot_cyto_needle')\n",
    "#plot_obj.plot_coverage(compartment='mito', plot_type='needle', aa_norm=False, plot_name='cov_plot_mito_needle')\n",
    "#plot_obj.plot_coverage(compartment='cyto', plot_type='behrens', aa_norm=False, plot_name='cov_plot_cyto_behrens')\n",
    "#plot_obj.plot_coverage(compartment='mito', plot_type='behrens', aa_norm=False, plot_name='cov_plot_mito_behrens')\n",
    "#plot_obj.plot_coverage(compartment='cyto', plot_type='needle', aa_norm=False, #plot_name='cov_plot_cyto_needle_100p', sample_list=['100p1', '100p2', '100p3', '100p4'])\n",
    "#plot_obj.plot_coverage(compartment='cyto', plot_type='behrens', y_norm=True, plot_name='cov_plot_cyto_behrens_norm')\n",
    "\n"
   ]
  },
  {
   "cell_type": "code",
   "execution_count": null,
   "metadata": {},
   "outputs": [],
   "source": []
  },
  {
   "cell_type": "code",
   "execution_count": null,
   "metadata": {},
   "outputs": [],
   "source": [
    "plot_obj.plot_UMI_logo(n_jobs=8)\n",
    "\n",
    "plot_obj.plot_non_temp(end='5p', plot_name='_5p-non-template_logo', \\\n",
    "                       seq_len_percentile=99, n_jobs=8)\n",
    "\n",
    "plot_obj.plot_non_temp(end='3p', plot_name='_3p-non-template_logo', \\\n",
    "                       seq_len_percentile=99.9, n_jobs=8)\n",
    "\n",
    "plot_obj.plot_non_temp(end='3p', plot_name='_3p-non-template_3p-cover_logo', \\\n",
    "                       seq_len_percentile=99.9, _3p_cover=True, n_jobs=8)\n",
    "\n",
    "plot_obj.plot_coverage(compartment='cyto', plot_type='behrens', y_norm=True, \\\n",
    "                       plot_name='cov_plot_cyto_behrens_norm', n_jobs=12)\n",
    "\n",
    "plot_obj.plot_coverage(compartment='mito', plot_type='behrens', y_norm=True, \\\n",
    "                       plot_name='cov_plot_mito_behrens_norm', n_jobs=12)\n",
    "\n"
   ]
  },
  {
   "cell_type": "code",
   "execution_count": 11,
   "metadata": {},
   "outputs": [
    {
     "name": "stdout",
     "output_type": "stream",
     "text": [
      "\n",
      "Now plotting sample/group:  Charge-titration  Acylation-half-life  Barcode test  293t-NoLeu  293t-NoArg  293t-NoGln  HCT116-Depletion\n",
      "Now plotting sample/group:  Charge-titration  Acylation-half-life  Barcode test  293t-NoLeu  293t-NoArg  293t-NoGln  HCT116-Depletion\n",
      "Now plotting sample/group:  Charge-titration  Acylation-half-life  Barcode test  293t-NoLeu  293t-NoArg  293t-NoGln  HCT116-Depletion\n",
      "Now plotting sample/group:  Charge-titration  Acylation-half-life  Barcode test  293t-NoLeu  293t-NoArg  293t-NoGln  HCT116-Depletion\n",
      "Now plotting sample pairs:  (100p - 85p)  (100p - 0p)  (85p - 40p)  (85p - 0p)  (40p - 0p)  (40h - 40h_NoOx)\n",
      "Now plotting sample pairs:  (100p - 85p)  (100p - 0p)  (85p - 40p)  (85p - 0p)  (40p - 0p)  (40h - 40h_NoOx)\n",
      "Now plotting sample pairs:  (L1 - R1)  (L1 - L6)  (R1 - R6)\n",
      "Now plotting sample pairs:  (L1 - R1)  (L1 - L6)  (R1 - R6)\n",
      "Now plotting sample pairs:  (40h_1 - 40h_2)  (40h_NoOx_1 - 40h_NoOx_2)"
     ]
    }
   ],
   "source": [
    "plot_obj.plot_abundance(plot_type='codon', plot_name='codon_abundance_grp', \\\n",
    "                        group=True, min_obs=500)\n",
    "\n",
    "plot_obj.plot_abundance(plot_type='aa', plot_name='aa_abundance_grp', \\\n",
    "                        group=True, min_obs=500)\n",
    "\n",
    "plot_obj.plot_abundance(plot_type='codon', plot_name='codon_charge_grp', \\\n",
    "                        group=True, min_obs=500, charge_plot=True)\n",
    "\n",
    "plot_obj.plot_abundance(plot_type='aa', plot_name='aa_charge_grp', \\\n",
    "                        group=True, min_obs=500, charge_plot=True)\n",
    "\n",
    "plot_obj.plot_abundance_corr(sample_pairs=[['100p', '100p', '85p', '85p', '40p', '40h'], \\\n",
    "                                           ['85p', '0p', '40p', '0p', '0p', '40h_NoOx']], \\\n",
    "                             plot_type='codon', plot_name='codon_abundance_corr', \\\n",
    "                             min_obs=500, charge_plot=False)\n",
    "\n",
    "plot_obj.plot_abundance_corr(sample_pairs=[['100p', '100p', '85p', '85p', '40p', '40h'], \\\n",
    "                                           ['85p', '0p', '40p', '0p', '0p', '40h_NoOx']], \\\n",
    "                             plot_type='transcript', plot_name='tr_abundance_corr', \\\n",
    "                             min_obs=500, charge_plot=False)\n",
    "\n",
    "plot_obj.plot_abundance_corr(sample_unique_pairs=[['L1', 'L1', 'R1'], ['R1', 'L6', 'R6']], \\\n",
    "                             plot_type='codon', plot_name='codon_abundance_corr_L-R', \\\n",
    "                             min_obs=500, charge_plot=False)\n",
    "\n",
    "plot_obj.plot_abundance_corr(sample_unique_pairs=[['L1', 'L1', 'R1'], ['R1', 'L6', 'R6']], \\\n",
    "                             plot_type='transcript', plot_name='tr_abundance_corr_L-R', \\\n",
    "                             min_obs=500, charge_plot=False)\n",
    "\n",
    "plot_obj.plot_abundance_corr(sample_unique_pairs=[['100p1', '85p1', '55p1', '40p1', '0p1', '40h_1', '40h_NoOx_1'], \\\n",
    "                                           ['100p3', '85p4', '55p3', '40p2', '0p2', '40h_2', '40h_NoOx_2']], \\\n",
    "                             plot_type='codon', plot_name='codon_charge_corr', \\\n",
    "                             min_obs=500, charge_plot=True)"
   ]
  },
  {
   "cell_type": "code",
   "execution_count": null,
   "metadata": {},
   "outputs": [],
   "source": []
  },
  {
   "cell_type": "code",
   "execution_count": null,
   "metadata": {},
   "outputs": [],
   "source": []
  },
  {
   "cell_type": "code",
   "execution_count": 7,
   "metadata": {},
   "outputs": [],
   "source": [
    "asam = pd.read_excel('Alicias_samples.xlsx', header=None)\n",
    "alicia_samples = set(asam[0].values)"
   ]
  },
  {
   "cell_type": "code",
   "execution_count": 36,
   "metadata": {},
   "outputs": [],
   "source": [
    "amask_aa = plot_obj.charge_filt['aa']['sample_name_unique'].isin(alicia_samples)\n",
    "plot_obj.charge_filt['aa'][amask_aa].reset_index(drop=True).to_csv('alicia_res_AA.csv', index=False)"
   ]
  },
  {
   "cell_type": "code",
   "execution_count": 37,
   "metadata": {},
   "outputs": [],
   "source": [
    "amask_cd = plot_obj.charge_filt['codon']['sample_name_unique'].isin(alicia_samples)\n",
    "plot_obj.charge_filt['codon'][amask_cd].reset_index(drop=True).to_csv('alicia_res_codon.csv', index=False)"
   ]
  },
  {
   "cell_type": "code",
   "execution_count": 38,
   "metadata": {},
   "outputs": [],
   "source": [
    "amask_tr = plot_obj.charge_filt['tr']['sample_name_unique'].isin(alicia_samples)\n",
    "plot_obj.charge_filt['tr'][amask_tr].reset_index(drop=True).to_csv('alicia_res_tr.csv', index=False)"
   ]
  },
  {
   "cell_type": "code",
   "execution_count": null,
   "metadata": {},
   "outputs": [],
   "source": []
  },
  {
   "cell_type": "code",
   "execution_count": null,
   "metadata": {},
   "outputs": [],
   "source": []
  },
  {
   "cell_type": "code",
   "execution_count": null,
   "metadata": {},
   "outputs": [],
   "source": []
  },
  {
   "cell_type": "code",
   "execution_count": null,
   "metadata": {},
   "outputs": [],
   "source": [
    "# Use the TM_analysis to find the most mutated positions in the tRNA transcripts.\n",
    "# Then generate a new version of the tRNA transcripts database with these positions masked\n",
    "# Then, using the masked sequences, re-run the alignment, stats collected and plotting\n",
    "\n",
    "# Re-run using gap_open = -3 and gap_extension = -2 to reflect how gaps are more tolerated\n",
    "\n",
    "### The masked tRNA database will only be used for alignment\n",
    "# All other steps will use the old unmasked database"
   ]
  },
  {
   "cell_type": "code",
   "execution_count": null,
   "metadata": {},
   "outputs": [],
   "source": []
  },
  {
   "cell_type": "code",
   "execution_count": 4,
   "metadata": {},
   "outputs": [
    {
     "name": "stdout",
     "output_type": "stream",
     "text": [
      "Using common sequences...\n"
     ]
    }
   ],
   "source": [
    "### Perform transcript mutation analysis ###\n",
    "TM_obj = TM_analysis(dir_dict, sample_df, tRNA_database, pull_default=False, \\\n",
    "                     common_seqs=common_seqs, ignore_common_count=False, \\\n",
    "                     overwrite_dir=True)\n",
    "\n",
    "\n",
    "#TM_obj.find_muts(n_jobs=12, unique_anno=True)\n",
    "#TM_obj.find_muts(n_jobs=4)\n",
    "\n",
    "#TM_obj.plot_transcript_logo()\n",
    "\n",
    "\n",
    "\n",
    "# tr_mut_out = TM_obj.plot_transcript_mut(topN=30, no_plot_return=False, mito=False, gap_only=False, plot_name='test_heat', min_count_show=10)\n",
    "#tr_mut_out = TM_obj.plot_transcript_mut(topN=30, no_plot_return=False, mito=False, gap_only=False, plot_name='test_heat2')\n",
    "\n",
    "\n",
    "#tr_cov_out = TM_obj.plot_transcript_cov(topN=40, no_plot_return=False, mito=False, plot_name='test_heat_cov', sort_rows=True)\n",
    "#tr_mut_out = TM_obj.plot_transcript_mut(topN=40, no_plot_return=False, mito=False, gap_only=False, plot_name='test_heat2', sort_rows=tr_cov_out[2])\n",
    "\n",
    "\n",
    "#TM_obj.mask_tRNA_database(min_mut_freq=0.5, min_pos_count=50, min_tr_count=100, frac_max_score=0.90)\n",
    "\n",
    "#tRNA_database_masked = TM_obj.write_masked_tRNA_database(out_dir='tRNA_database_masked')"
   ]
  },
  {
   "cell_type": "code",
   "execution_count": null,
   "metadata": {},
   "outputs": [],
   "source": []
  },
  {
   "cell_type": "code",
   "execution_count": 5,
   "metadata": {},
   "outputs": [],
   "source": [
    "#TM_obj.find_muts(n_jobs=10, unique_anno=True, fix_end=True, \\\n",
    "#                 sample_list=['100p1', '100p3', '0p1', '0p2', '0p4', \\\n",
    "#                              '0m_1', '40h_NoOx_1', '40h_NoOx_2', '0m_3',\n",
    "#                              'L1', 'L3', 'L6', 'L8', 'L12', \\\n",
    "#                              'R1', 'R3', 'R6', 'R8', 'R12'])"
   ]
  },
  {
   "cell_type": "code",
   "execution_count": null,
   "metadata": {},
   "outputs": [
    {
     "name": "stdout",
     "output_type": "stream",
     "text": [
      "Collecting stats from:  L1  L2  L4  L3  L5  L6  L7  L10  L8  L9  R1  R4  R6  R2  L12  R8  R3  R10  L11  R5  R7  R11  2Q1  2Q3  2Q2  R12  2Q6  GQ3  R9  2Q5  GQ5  GQ6  2Q4  GQ1  GQ4  GQ2  HR2  HQ1  HR1  HQ2  H1  HL1  HL2  HGL1  HG1  HGR1  HGQ2  HGR2  HGQ1  HGL2"
     ]
    }
   ],
   "source": [
    "#alicia_samples.remove('R4')\n",
    "TM_obj.find_muts(n_jobs=10, unique_anno=False, fix_end=True, \\\n",
    "                 sample_list=list(alicia_samples))"
   ]
  },
  {
   "cell_type": "code",
   "execution_count": null,
   "metadata": {},
   "outputs": [],
   "source": []
  },
  {
   "cell_type": "code",
   "execution_count": 13,
   "metadata": {},
   "outputs": [],
   "source": [
    "TM_obj.plot_transcript_mut_compare(species='human', \\\n",
    "                                   plot_name='NoLeu-NoArg_tr-mut_matrix_comp_top20-max-diff', \\\n",
    "                                   no_plot_return=True, \\\n",
    "                                   mito=False, gap_only=False, \\\n",
    "                                   min_count_show=1000, \\\n",
    "                                   sample_unique_pairs=[['L1', 'L8',  'L1', 'L6',  'R1', 'R8',  'R1', 'R6'], \\\n",
    "                                                        ['L6', 'L12', 'L8', 'L12', 'R6', 'R12', 'R8', 'R12']], \\\n",
    "                                   freq_avg_weighted=True, \\\n",
    "                                   topN=20, topN_select='max_diff')\n",
    "\n",
    "TM_obj.plot_transcript_mut_compare(species='human', \\\n",
    "                                   plot_name='NoLeu-NoArg_tr-mut_matrix_comp_AA-Arg', \\\n",
    "                                   no_plot_return=True, \\\n",
    "                                   mito=False, gap_only=False, \\\n",
    "                                   min_count_show=1000, \\\n",
    "                                   sample_unique_pairs=[['L1', 'L8',  'L1', 'L6',  'R1', 'R8',  'R1', 'R6'], \\\n",
    "                                                        ['L6', 'L12', 'L8', 'L12', 'R6', 'R12', 'R8', 'R12']], \\\n",
    "                                   freq_avg_weighted=True, \\\n",
    "                                   anno_substring_compare='Arg')\n",
    "\n",
    "TM_obj.plot_transcript_mut_compare(species='human', \\\n",
    "                                   plot_name='NoLeu-NoArg_tr-mut_matrix_comp_AA-Leu', \\\n",
    "                                   no_plot_return=True, \\\n",
    "                                   mito=False, gap_only=False, \\\n",
    "                                   min_count_show=1000, \\\n",
    "                                   sample_unique_pairs=[['L1', 'L8',  'L1', 'L6',  'R1', 'R8',  'R1', 'R6'], \\\n",
    "                                                        ['L6', 'L12', 'L8', 'L12', 'R6', 'R12', 'R8', 'R12']], \\\n",
    "                                   freq_avg_weighted=True, \\\n",
    "                                   anno_substring_compare='Leu')"
   ]
  },
  {
   "cell_type": "code",
   "execution_count": 14,
   "metadata": {},
   "outputs": [],
   "source": [
    "TM_obj.plot_transcript_mut_compare(species='human', \\\n",
    "                                   plot_name='NoLeu-NoArg_tr-mut_matrix_comp_AA-Asn', \\\n",
    "                                   no_plot_return=True, \\\n",
    "                                   mito=False, gap_only=False, \\\n",
    "                                   min_count_show=400, \\\n",
    "                                   sample_unique_pairs=[['L1', 'L8',  'L1', 'L6',  'R1', 'R8',  'R1', 'R6'], \\\n",
    "                                                        ['L6', 'L12', 'L8', 'L12', 'R6', 'R12', 'R8', 'R12']], \\\n",
    "                                   freq_avg_weighted=True, \\\n",
    "                                   anno_substring_compare='Asn')"
   ]
  },
  {
   "cell_type": "code",
   "execution_count": 15,
   "metadata": {},
   "outputs": [],
   "source": [
    "TM_obj.plot_transcript_mut_compare(species='human', \\\n",
    "                                   plot_name='NoLeu-NoArg_tr-mut_matrix_comp_AA-Ala', \\\n",
    "                                   no_plot_return=True, \\\n",
    "                                   mito=False, gap_only=False, \\\n",
    "                                   min_count_show=400, \\\n",
    "                                   sample_unique_pairs=[['L1', 'L8',  'L1', 'L6',  'R1', 'R8',  'R1', 'R6'], \\\n",
    "                                                        ['L6', 'L12', 'L8', 'L12', 'R6', 'R12', 'R8', 'R12']], \\\n",
    "                                   freq_avg_weighted=True, \\\n",
    "                                   anno_substring_compare='Ala')"
   ]
  },
  {
   "cell_type": "code",
   "execution_count": null,
   "metadata": {},
   "outputs": [],
   "source": []
  },
  {
   "cell_type": "code",
   "execution_count": null,
   "metadata": {},
   "outputs": [],
   "source": []
  },
  {
   "cell_type": "code",
   "execution_count": 16,
   "metadata": {},
   "outputs": [],
   "source": [
    "TM_obj.plot_transcript_logo(sample_list=['100p1', '100p3', '0p1', '0p2', '0p4', \\\n",
    "                                         '0m_1', '40h_NoOx_1', '40h_NoOx_2', '0m_3', \\\n",
    "                                         'L1', 'L3', 'L6', 'R1', 'R3', 'R6'], \\\n",
    "                            plot_name='tr-muts_logo')"
   ]
  },
  {
   "cell_type": "code",
   "execution_count": 17,
   "metadata": {},
   "outputs": [],
   "source": [
    "tr_cov_out = TM_obj.plot_transcript_cov(topN=40, no_plot_return=True, mito=False, \\\n",
    "                                        plot_name='tr-cov_matrix', sort_rows=True, \\\n",
    "                                        sample_list=['100p1', '100p3', '0p1', '0p2', '0p4', \\\n",
    "                                                     '0m_1', '40h_NoOx_1', '40h_NoOx_2', '0m_3', \\\n",
    "                                                     'L1', 'L3', 'L6', 'R1', 'R3', 'R6'])"
   ]
  },
  {
   "cell_type": "code",
   "execution_count": 18,
   "metadata": {},
   "outputs": [],
   "source": [
    "tr_mut_out = TM_obj.plot_transcript_mut(topN=40, no_plot_return=True, mito=False, \\\n",
    "                                        gap_only=False, min_count_show=1000, \\\n",
    "                                        plot_name='tr-mut_matrix', \\\n",
    "                                        sample_list=['100p1', '100p3', '0p1', '0p2', '0p4', \\\n",
    "                                                     '0m_1', '40h_NoOx_1', '40h_NoOx_2', '0m_3', \\\n",
    "                                                     'L1', 'L3', 'L6', 'R1', 'R3', 'R6'])"
   ]
  },
  {
   "cell_type": "code",
   "execution_count": null,
   "metadata": {},
   "outputs": [],
   "source": []
  },
  {
   "cell_type": "code",
   "execution_count": null,
   "metadata": {},
   "outputs": [],
   "source": []
  },
  {
   "cell_type": "code",
   "execution_count": null,
   "metadata": {},
   "outputs": [],
   "source": [
    "TM_obj.write_transcript_mut(list(alicia_samples), \\\n",
    "                            csv_name='mut-matrix_right-aligned')"
   ]
  },
  {
   "cell_type": "code",
   "execution_count": null,
   "metadata": {},
   "outputs": [],
   "source": [
    "TM_obj.write_transcript_mut([list(alicia_samples), \\\n",
    "                            csv_name='mut-matrix_left-aligned', \\\n",
    "                            right_align=False)"
   ]
  },
  {
   "cell_type": "code",
   "execution_count": null,
   "metadata": {},
   "outputs": [],
   "source": []
  },
  {
   "cell_type": "code",
   "execution_count": null,
   "metadata": {},
   "outputs": [],
   "source": []
  },
  {
   "cell_type": "code",
   "execution_count": null,
   "metadata": {},
   "outputs": [],
   "source": []
  },
  {
   "cell_type": "code",
   "execution_count": null,
   "metadata": {},
   "outputs": [],
   "source": []
  },
  {
   "cell_type": "code",
   "execution_count": null,
   "metadata": {},
   "outputs": [],
   "source": []
  },
  {
   "cell_type": "code",
   "execution_count": null,
   "metadata": {},
   "outputs": [],
   "source": []
  },
  {
   "cell_type": "code",
   "execution_count": null,
   "metadata": {},
   "outputs": [],
   "source": []
  },
  {
   "cell_type": "code",
   "execution_count": null,
   "metadata": {},
   "outputs": [],
   "source": []
  },
  {
   "cell_type": "code",
   "execution_count": null,
   "metadata": {},
   "outputs": [],
   "source": []
  },
  {
   "cell_type": "code",
   "execution_count": null,
   "metadata": {},
   "outputs": [],
   "source": []
  },
  {
   "cell_type": "code",
   "execution_count": null,
   "metadata": {},
   "outputs": [],
   "source": []
  },
  {
   "cell_type": "code",
   "execution_count": null,
   "metadata": {},
   "outputs": [],
   "source": []
  },
  {
   "cell_type": "code",
   "execution_count": null,
   "metadata": {},
   "outputs": [],
   "source": []
  },
  {
   "cell_type": "code",
   "execution_count": null,
   "metadata": {},
   "outputs": [],
   "source": []
  }
 ],
 "metadata": {
  "kernelspec": {
   "display_name": "Python 3 (ipykernel)",
   "language": "python",
   "name": "python3"
  },
  "language_info": {
   "codemirror_mode": {
    "name": "ipython",
    "version": 3
   },
   "file_extension": ".py",
   "mimetype": "text/x-python",
   "name": "python",
   "nbconvert_exporter": "python",
   "pygments_lexer": "ipython3",
   "version": "3.9.7"
  }
 },
 "nbformat": 4,
 "nbformat_minor": 4
}
