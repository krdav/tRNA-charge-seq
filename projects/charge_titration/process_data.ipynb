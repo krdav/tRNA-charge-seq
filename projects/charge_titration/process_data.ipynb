{
 "cells": [
  {
   "cell_type": "code",
   "execution_count": null,
   "metadata": {},
   "outputs": [],
   "source": []
  },
  {
   "cell_type": "code",
   "execution_count": 1,
   "metadata": {},
   "outputs": [],
   "source": [
    "%load_ext autoreload\n",
    "%autoreload 2\n",
    "\n",
    "import os, sys, shutil, bz2, warnings\n",
    "from pathlib import Path\n",
    "import pandas as pd\n",
    "pd.set_option('display.max_columns', 50)\n",
    "import numpy as np\n",
    "from numpy.random import Generator, PCG64\n",
    "rng_pg = Generator(PCG64())\n",
    "from scipy.optimize import newton, minimize, fsolve\n",
    "from scipy.optimize import nnls\n",
    "import statsmodels.api as sm\n",
    "import statsmodels.formula.api as smf\n",
    "\n",
    "\n",
    "### Plotting imports ###\n",
    "import seaborn as sns\n",
    "import matplotlib.pyplot as plt\n",
    "import matplotlib.colors as mcolors\n",
    "import matplotlib as mpl\n",
    "from matplotlib.backends.backend_pdf import PdfPages\n",
    "import matplotlib.ticker as ticker\n",
    "import matplotlib.gridspec as gridspec\n",
    "palette = list(mcolors.TABLEAU_COLORS.keys())\n",
    "sns.set_theme(style=\"ticks\", palette=\"muted\")\n",
    "sns.set_context(\"notebook\")\n",
    "%matplotlib inline\n",
    "\n",
    "from wand.image import Image as WImage"
   ]
  },
  {
   "cell_type": "code",
   "execution_count": 2,
   "metadata": {},
   "outputs": [
    {
     "name": "stdout",
     "output_type": "stream",
     "text": [
      "Notebook is in: /Users/krdav/Google Drive/MCB/Sullivan_lab/tRNA-charge-seq/projects/charge_titration\n",
      "Repo is in: /Users/krdav/Google Drive/MCB/Sullivan_lab/tRNA-charge-seq\n"
     ]
    }
   ],
   "source": [
    "# Navigate back to NBdir in case of re-running a code block:\n",
    "if not 'NBdir' in globals():\n",
    "    NBdir = os.getcwd()\n",
    "print('Notebook is in: {}'.format(NBdir))\n",
    "os.chdir(NBdir)  # If you changed the current working dir, this will take you back to the notebook dir.\n",
    "\n",
    "# Define the path to the repo folder.\n",
    "# Change if necessary.\n",
    "homedir = '/'.join(NBdir.split('/')[0:-2])\n",
    "print('Repo is in: {}'.format(homedir))\n",
    "sys.path.insert(1, homedir)\n",
    "from src.stats_collection import STATS_collection\n",
    "from src.plotting import TRNA_plot\n",
    "from src.curve_fitting import loss_func_c1, loss_func_l1, loss_func_l2, hl_bsl_fit, lin_fit_off, obj_lin_fit_off, bootstrap_hl, bootstrap_hl_fast\n",
    "\n",
    "# These are default folder names for data and raw fastq files\n",
    "# relative to the folder in which this notebook is in:\n",
    "data_dir = 'data'\n",
    "stats_dir = 'stats_collection'\n",
    "plotting_dir = 'plotting'"
   ]
  },
  {
   "cell_type": "code",
   "execution_count": null,
   "metadata": {},
   "outputs": [],
   "source": []
  },
  {
   "cell_type": "markdown",
   "metadata": {},
   "source": [
    "# Charge titration to validate tRNA-charge sequencing approach\n",
    "In this notebook I will process and analyze the samples generated to validate the tRNA-charge sequencing approach.\n",
    "The summary of the finding of this analysis is:\n",
    "* tRNA oxidation/cleavage goes to completion, thus the initial step of charge discrimination is quantitative \n",
    "* tRNA abundance is affected by the oxidation/cleavage reactions but relative abundance is comparable between samples that have undergone the same treatment\n",
    "* tRNA charge can be determined quantitatively\n",
    "\n",
    "\n",
    "### Sample description\n",
    "To generate samples with known tRNA acetylation leves a mixture of intact and deacetylated tRNA was made.\n",
    "The intact tRNA was isolated from a cell culture, split in two and one part deacylated before mixing them together at different ratios.\n",
    "A titration was made to establish a linear range of tRNA charging quantification.\n",
    "The titration spans 8 different ratios: 100/0, 85/15, 70/30, 55/45, 40/60, 25/75, 10/90, 0/100 of percentage charge/uncharge.\n",
    "\n",
    "If there is a adapter ligation bias, this should reveal itself as a deviation from linearity between predicted and measured tRNA charge.\n",
    "Because the substrate is a complex mix of tRNAs isolated from a cell culture, it will be possible to reveal ligation bias on the transcript level.\n",
    "\n",
    "\n",
    "\n",
    "#### Protocol for preparing the tRNA titration\n",
    "1. Isolate whole cell RNA from adherent cells using Trizol. Place dish on ice, thoroughly aspirate media, then add enough Trizol to cover the cells. From this point onwards, keep the RNA cold and work fast to retain tRNA acylation. Scrape cells and move to tube, add chloroform, vortex 5 min and spin. Precipitate RNA with IPA, spin and wash the pellet twice in acetate buffered 80% IPA (pH=4.5), then do a final wash in 100% IPA and dry RNA pellet. Dry RNA pellets can be stored at -80C for months without detectable loss of acetylation.\n",
    "2. Prepare deacetylated tRNA by taking a tube with whole cell RNA, reconstituting it with 100 mM sodium acetate, pH=4.5, measure the RNA concentration and adjust it to 1 ug/uL. Add 50 uL 1M lysine (pH=8) per 10 uL RNA and incubate 4 h at 45C. After incubation, lower the pH by adding 10 uL 11 M sodium acetate per 10 uL RNA, then precipitate, wash and reconstitute with 100 mM sodium acetate, pH=4.5, measure the RNA concentration and adjust it to 1 ug/uL.\n",
    "3. Prepare intact tRNA by taking a tube with whole cell RNA and reconstituting it with 100 mM sodium acetate, pH=4.5, measure the RNA concentration and adjust it to 1 ug/uL.\n",
    "4. Make a titration of the following percentages of intact/deacylated RNA: 100/0, 85/15, 70/30, 55/45, 40/60, 25/75, 10/90, 0/100\n",
    "5. Perform periodate oxidation, including adding E.coli control, and subsequent steps following the tRNA-charge-seq protocol with the appropriate scaling\n",
    "6. At the adapter ligation step, use multiple adapters for each titration ratio to get barcode level replicates\n"
   ]
  },
  {
   "cell_type": "code",
   "execution_count": null,
   "metadata": {},
   "outputs": [],
   "source": []
  },
  {
   "cell_type": "markdown",
   "metadata": {},
   "source": [
    "### Read and filter input data\n",
    "A sample list is provided to filter the samples for further use and add relevant sample level information.\n",
    "The data is read from a .csv file with aggregated sample statistics.\n",
    "This .csv file was generated using the standard process described in the tRNA-seq-charge repo and is the result of using the `STATS_collection` class.\n",
    "Below the `TRNA_plot` class is used to extract the relevant tRNA charge information at transcript level."
   ]
  },
  {
   "cell_type": "code",
   "execution_count": 3,
   "metadata": {},
   "outputs": [
    {
     "name": "stdout",
     "output_type": "stream",
     "text": [
      "Folder exists and overwrite set to false... Doing nothing.\n"
     ]
    }
   ],
   "source": [
    "sample_list_fnam = 'sample_list.xlsx'\n",
    "sample_df = pd.read_excel('{}/{}'.format(NBdir, sample_list_fnam))\n",
    "# Isolate the titration samples:\n",
    "mask = (sample_df['plot_group'] == 'Charge-titration') & (sample_df['sample_name'] != '0p_90m') & (sample_df['sample_name'] != '100p')\n",
    "sample_df = sample_df[mask].reset_index(drop=True).copy()\n",
    "\n",
    "# Make a dictionary with paths used for data processing:\n",
    "dir_dict = dict(NBdir = NBdir,\n",
    "                data_dir = data_dir,\n",
    "                stats_dir = stats_dir,\n",
    "                plotting_dir = plotting_dir)\n",
    "\n",
    "# Get charge dataframe for aggregated stats:\n",
    "plot_obj = TRNA_plot(dir_dict, sample_df=sample_df, \\\n",
    "                     stats_fnam='ALL_stats_aggregate.csv', \\\n",
    "                     overwrite_dir=False)\n",
    "plot_obj.get_charge_df()"
   ]
  },
  {
   "cell_type": "code",
   "execution_count": 4,
   "metadata": {},
   "outputs": [],
   "source": [
    "# Add E.coli control RPM to sample level information:\n",
    "ectr = plot_obj.charge_filt['tr'][plot_obj.charge_filt['tr']['Ecoli_ctr']].copy()\n",
    "sample_df = ectr.loc[:, ['sample_name_unique', 'RPM']].merge(sample_df, on='sample_name_unique')\n",
    "sample_df = sample_df.rename(columns={'RPM': 'RPM_Ectr'}, errors='ignore')\n",
    "\n",
    "# Select the titration samples and add sample information:\n",
    "charge_df = sample_df.loc[:, ['sample_name_unique', 'hue_value', 'hue_order', 'RPM_Ectr']].merge(plot_obj.charge_filt['tr'], on='sample_name_unique')\n",
    "\n",
    "# Convert percent charged to an integer value:\n",
    "frac_list = list()\n",
    "for sn in charge_df['sample_name']:\n",
    "    try:\n",
    "        frac_list.append(int(sn[0:3]))\n",
    "        continue\n",
    "    except:\n",
    "        pass\n",
    "    try:\n",
    "        frac_list.append(int(sn[0:2]))\n",
    "        continue\n",
    "    except:\n",
    "        pass\n",
    "    try:\n",
    "        frac_list.append(int(sn[0:1]))\n",
    "        continue\n",
    "    except:\n",
    "        raise Exception('???')\n",
    "charge_df['percent_charged'] = frac_list"
   ]
  },
  {
   "cell_type": "code",
   "execution_count": 5,
   "metadata": {},
   "outputs": [],
   "source": [
    "# Enforce minimum read count:\n",
    "min_count = 1000\n",
    "# For each tRNA annotation, find samples\n",
    "# that have above the minimum count:\n",
    "tann2snu = dict()\n",
    "for snu, tann, ectr, cnt in zip(charge_df['sample_name_unique'], \\\n",
    "                               charge_df['tRNA_annotation'], \\\n",
    "                               charge_df['Ecoli_ctr'], \\\n",
    "                               charge_df['count']):\n",
    "    if ectr or cnt < min_count:\n",
    "        continue\n",
    "    \n",
    "    if tann in tann2snu:\n",
    "        tann2snu[tann].add(snu)\n",
    "    else:\n",
    "        tann2snu[tann] = set()\n",
    "        tann2snu[tann].add(snu)\n",
    "\n",
    "# Filter tRNA annotation based on\n",
    "# all samples having above the minimum count:\n",
    "all_snu = set(charge_df['sample_name_unique'])\n",
    "tann_sele = set()\n",
    "for tann in tann2snu:\n",
    "    if tann2snu[tann] == all_snu:\n",
    "        tann_sele.add(tann)\n",
    "mask = charge_df['tRNA_annotation'].isin(tann_sele)\n",
    "titr_df = charge_df[mask].copy()\n",
    "titr_df['RPM_norm'] = titr_df['RPM'] / titr_df['RPM_Ectr']"
   ]
  },
  {
   "cell_type": "code",
   "execution_count": null,
   "metadata": {},
   "outputs": [],
   "source": []
  },
  {
   "cell_type": "markdown",
   "metadata": {},
   "source": [
    "### Check data integrity\n",
    "Ploting the \"charge\" of the E.coli control tRNA in each sample.\n",
    "\n",
    "The E.coli control was added to check that the NaIO4 oxidation and lysine cleavage reaction goes to completion and therefore should appear as 0% charged (i.e. all CC, no CCA); however, typically, a smaller percentage remains intact and thus will appear as charged.\n",
    "This, is also apparent below where most samples have a measured charge for the E.coli control samples of ~1% and no samples are above 2%.\n",
    "Whether this small residual \"charge\" reflects the incompletion of the NaIO4 oxidation and lysine cleavage reaction or is a sequencing artifact is unknown, but we take it that the levels are so low that for most pratical purposes, including this analysis, the reaction can be assumed complete."
   ]
  },
  {
   "cell_type": "code",
   "execution_count": 6,
   "metadata": {},
   "outputs": [
    {
     "data": {
      "image/png": "[encoded data removed]",
      "text/plain": [
       "<Figure size 504x273.6 with 1 Axes>"
      ]
     },
     "metadata": {},
     "output_type": "display_data"
    }
   ],
   "source": [
    "# Select E.coli controls samples:\n",
    "ectr_mask = charge_df['Ecoli_ctr']\n",
    "fig, ax1 = plt.subplots(1, 1, figsize=(7, 3.8))\n",
    "\n",
    "g1 = sns.barplot(ax=ax1, data=charge_df[ectr_mask], x='percent_charged', y='charge', \\\n",
    "                 capsize=0.1, edgecolor=\".2\", linewidth=2, alpha=0.8)\n",
    "g1 = sns.swarmplot(ax=ax1, data=charge_df[ectr_mask], x='percent_charged', y='charge', \\\n",
    "                   color='grey', alpha=0.8, edgecolor='black', linewidth=0.8, \\\n",
    "                   size=5, marker=\"X\")\n",
    "g1.set(xlabel='Percentage intact tRNA', ylabel='Measured charge')\n",
    "g1.set_title('E.coli control spike-in tRNA')\n",
    "fig.tight_layout()\n",
    "fig.savefig('data/plotting/ecoli-control_charge.pdf', bbox_inches='tight')"
   ]
  },
  {
   "cell_type": "code",
   "execution_count": null,
   "metadata": {},
   "outputs": [],
   "source": []
  },
  {
   "cell_type": "markdown",
   "metadata": {},
   "source": [
    "### Predicted vs. measured tRNA charge\n",
    "As described in the above protocol, the RNA concentrations were measured and adjusted before mixing a known ratio of intact and deacylated RNA; however, it is not given that the RNA concentration is 100% accurate and it is also not known whether some tRNAs are preferentially accumulating as a result of the deacylation step.\n",
    "We will remain agnostic to both of these possibilities by assuming that the concentration of each tRNA transcript is unknown in the deacylated sample.\n",
    "\n",
    "Let $A$ represent intact RNA and $B$ represent deacylated RNA.\n",
    "Assume the concentration of a tRNA transcript $i$ in the intact RNA as $1$:\n",
    "$$\n",
    "C^A_i = 1\n",
    "$$\n",
    "While letting the concentration of the same tRNA transcript in the deacylated RNA be unknown:\n",
    "$$\n",
    "C^B_i = F_i <=> F_i = \\frac{C^B_i}{C^A_i}\n",
    "$$\n",
    "\n",
    "Define $T^A_i$ as the average measured charge of the intact tRNA of a transcript $i$\n",
    "$$\n",
    "T^A_i = \\text{Avg charge}(A_i)\n",
    "$$\n",
    "And similarily for deacylated RNA:\n",
    "$$\n",
    "T^B_i = \\text{Avg charge}(B_i)\n",
    "$$\n",
    "\n",
    "Now, the predicted charge of a mixture of $A$ and $B$ can be defined using $p$ to describe the percentage of $A$ in the mixture:\n",
    "$$\n",
    "T^{AB}_i(p) = \\frac{p T^A_i + (100-p) T^B_i F_i}{p + (100-p) F_i}\n",
    "$$\n",
    "\n",
    "In the above, only $F_i$ is unknown.\n",
    "The titration was made with 8 different mixing ratios, two of which are used to fix the upper/lower bounds of the predicted charge, thus leaving 6 mixing ratios, each with several barcode replicates, to fit $F_i$ such that the squared difference between predicted and measured charge is minimized.\n",
    "\n",
    "Alternatively, instead of fitting $F_i$ using the charge data it can be calculated using the abundance data.\n",
    "tRNA abundance is measured by read counts which are relative to the sequencing depth and therefore normalized as reads per million (RPM).\n",
    "The RPM value for each transcript is then normalized to the RPM value of the E.coli spike-in control to get a pseudo-quantitative metric:\n",
    "$$\n",
    "R^A_i = \\frac{\\text{RPM}^A_i}{\\text{RPM}^A_{ecoli}}\n",
    "$$\n",
    "\n",
    "$F_i$ can then be calculated as:\n",
    "$$\n",
    "F_i = \\frac{R^B_i}{R^A_i}\n",
    "$$\n",
    "\n",
    "\n",
    "Below, both approaches are implemented and compared."
   ]
  },
  {
   "cell_type": "code",
   "execution_count": 7,
   "metadata": {},
   "outputs": [],
   "source": [
    "# Function to infer and calculate the concentration of deacylated\n",
    "# compared to intact RNA (correction factor)\n",
    "# including plotting of the results.\n",
    "def infer_FB(df, tRNA_name, BFGS_loss_func=loss_func_l2, plot_return=True, plot_fh=None):\n",
    "    # Extract information for the fit:\n",
    "    x = df['percent_charged'].values # \"p\" above\n",
    "    y = df['charge'].values          # The measured charge\n",
    "    A_charge = y[x==100].mean()      # \"TA_i\" above\n",
    "    B_charge = y[x==0].mean()        # \"TB_i\" above\n",
    "    \n",
    "    # Input realistic bounds (4x either direction)\n",
    "    # and use no difference as initial guess:\n",
    "    bnds = ((0.25, 4), )\n",
    "    guess = (1, )\n",
    "    # Do the minimization with BFGS:\n",
    "    def fun_F(p): return(obj_F_fit(BFGS_loss_func, x, y, A_charge, B_charge, p))\n",
    "    p_fun_FB = minimize(fun_F, guess, method='L-BFGS-B', bounds=bnds)\n",
    "    FB_inferred = p_fun_FB.x[0]\n",
    "    # Calculate the signed prediction error\n",
    "    # this would be percentage point deviation:\n",
    "    x_trans = x_trans_fun(x, A_charge, B_charge, FB_inferred)\n",
    "    pred_err = y - x_trans\n",
    "    df['pred_err'] = pred_err\n",
    "    \n",
    "    # \"Calculate\" the correction factor\n",
    "    # using the e.coli spike-in normalized RPM values:\n",
    "    ms = (x < 100) # drop 100p samples b/c e.coli control was added at different quantity\n",
    "    y2 = df['RPM_norm'].values\n",
    "    # Make a linear fit to use all data to better\n",
    "    # predict normalized RPM:\n",
    "    A = np.vstack([x[ms], np.ones(len(x[ms]))]).T\n",
    "    slope, intersection = np.linalg.lstsq(A, y2[ms], rcond=None)[0]\n",
    "    # Calculate the correction factor:\n",
    "    rpm0_pred = intersection\n",
    "    rpm100_pred = intersection + 100*slope\n",
    "    FB_calculated = rpm0_pred/rpm100_pred\n",
    "    \n",
    "\n",
    "    ### Plotting ###\n",
    "    fig = plt.figure(figsize=(16, 5))\n",
    "    gs = fig.add_gridspec(1, 3, width_ratios=[1, 1.3, 1])\n",
    "    \n",
    "    # Predicted vs. measured using \"inferred\" correction factor:\n",
    "    ax1 = fig.add_subplot(gs[0, 0])\n",
    "    g1 = sns.scatterplot(ax=ax1, x=x_trans, y=y, zorder=10, alpha=0.5, \\\n",
    "                         edgecolor='black', linewidth=0.7)\n",
    "    g1.set_title('Factor inferred {:.2f}'.format(FB_inferred))\n",
    "    g1.set(xlabel='Predicted charge', ylabel='Measured charge')\n",
    "    ax1.plot(x, x, c='r', zorder=1)\n",
    "    \n",
    "    # Prediction error broken down by barcode:\n",
    "    with sns.axes_style(\"whitegrid\"):\n",
    "        ax2 = fig.add_subplot(gs[0, 1])\n",
    "        bc_order = sorted(set(df['barcode']))\n",
    "        g2 = sns.boxplot(ax=ax2, data=df, x='barcode', y='pred_err', boxprops=dict(alpha=0.8), \\\n",
    "                         order=bc_order, fliersize=False, zorder=10)\n",
    "    with warnings.catch_warnings():\n",
    "        warnings.simplefilter(\"ignore\")\n",
    "        sns.swarmplot(ax=ax2, data=df, x='barcode', y='pred_err', size=4, \\\n",
    "                      order=bc_order, color='white', alpha=0.8, edgecolor='black', \\\n",
    "                      linewidth=0.8, marker=\"X\", zorder=11)\n",
    "    g2.set_title('Barcode bias')\n",
    "    g2.set(xlabel='Barcode', ylabel='Error (measured - predicted)')\n",
    "\n",
    "    # Normalized RPM data and linear fit to\n",
    "    # generate the \"calculated\" correction factor:\n",
    "    ax3 = fig.add_subplot(gs[0, 2])\n",
    "    g3 = sns.scatterplot(ax=ax3, x=x[ms], y=y2[ms], zorder=11, alpha=0.5, \\\n",
    "                         edgecolor='black', linewidth=0.7)\n",
    "    g3.set_title('Factor calculated {:.2f}'.format(FB_calculated))\n",
    "    g3.set(xlabel='Percent deacylated tRNA', ylabel='RPM (norm. to spike-in)')\n",
    "    y2_pred = intersection + slope*x\n",
    "    ax3.plot(x, y2_pred, c='r', zorder=1)\n",
    "    \n",
    "    fig.suptitle('{}'.format(tRNA_name), size=15);\n",
    "    fig.tight_layout()\n",
    "\n",
    "    # Save plots:\n",
    "    if not plot_fh is None:\n",
    "        plot_fh.savefig(fig, bbox_inches='tight')\n",
    "    else:\n",
    "        fig.savefig('data/plotting/{}.pdf'.format(tRNA_name), bbox_inches='tight')\n",
    "    if plot_return is False:\n",
    "        plt.close(fig)\n",
    "    \n",
    "    return((FB_inferred, FB_calculated), pred_err)\n",
    "\n",
    "\n",
    "# Objective function for fitting the F_i variable:\n",
    "def obj_F_fit(loss_func, x, y, A_charge, B_charge, p):\n",
    "    F = p[0]\n",
    "    x_trans = x_trans_fun(x, A_charge, B_charge, F)\n",
    "\n",
    "    loss = sum(loss_func(y, x_trans))\n",
    "    return(loss)\n",
    "\n",
    "# Function to calculate the predicted charge:\n",
    "def x_trans_fun(x, A_charge, B_charge, F):\n",
    "    return((x*A_charge + (100-x)*F*B_charge) / (x + (100-x)*F))\n"
   ]
  },
  {
   "cell_type": "code",
   "execution_count": 8,
   "metadata": {},
   "outputs": [],
   "source": [
    "# Run analysis on titration data\n",
    "# one tRNA transcript at the time:\n",
    "FB_res = list()\n",
    "bc_err = {bc: [] for bc in set(titr_df['barcode'])}\n",
    "anno_list = list(tann_sele)\n",
    "with PdfPages('data/plotting/titration-fit.pdf') as pp:\n",
    "    for tann in anno_list:\n",
    "        # Extract dataframe with single tRNA annotation:\n",
    "        sample_mask = (titr_df['tRNA_annotation'] == tann)\n",
    "        titr_spl = titr_df[sample_mask].copy()\n",
    "        tann_short = titr_spl['tRNA_anno_short'].drop_duplicates().values[0]\n",
    "\n",
    "        # Perform correction factor inference and plot:\n",
    "        FB_tup, pred_err = infer_FB(titr_spl, tann_short, plot_fh=pp, plot_return=False)\n",
    "        FB_res.append(FB_tup)\n",
    "        # Save the prediction error for each barcode:\n",
    "        for bc, pe in zip(titr_spl['barcode'], pred_err):\n",
    "            bc_err[bc].append(pe)\n",
    "        \n",
    "# Correction factor \"inferred\" and \"calculated\" to dataframe:\n",
    "FB_df = pd.DataFrame(FB_res).rename(columns={0: 'Inferred', 1: 'Calculated'})\n",
    "FB_df['tRNA_annotation'] = anno_list\n",
    "FB_df = FB_df.merge(titr_df.loc[:, ['tRNA_annotation', 'tRNA_anno_short', 'tRNA_annotation_len', \\\n",
    "                                    'codon', 'anticodon', 'AA_codon', 'amino_acid', 'AA_letter', \\\n",
    "                                    'mito_codon', 'Ecoli_ctr']], \\\n",
    "                    on='tRNA_annotation').drop_duplicates().reset_index(drop=True)\n",
    "\n",
    "# Barcode error to dataframe:\n",
    "bc_keys = list(bc_err.keys())\n",
    "bc_err_df = pd.DataFrame({\n",
    "    'barcode': np.repeat(bc_keys, [len(bc_err[k]) for k in bc_keys]),\n",
    "    'pred_err': [err_i for k in bc_keys for err_i in bc_err[k]]\n",
    "})"
   ]
  },
  {
   "cell_type": "code",
   "execution_count": null,
   "metadata": {},
   "outputs": [],
   "source": []
  },
  {
   "cell_type": "markdown",
   "metadata": {},
   "source": [
    "We can check the results by looking at the fit for a random trancript.\n",
    "The left scatterplot shows the predicted vs. measured charge using the inferred correction factor to make the prediction.\n",
    "The red line shows a perfect 1:1 fit.\n",
    "The middle boxplot shows the prediction error of the left plot broken down by barcode.\n",
    "The right scatterplot shows the E.coli spike-in normalized RPM values as a function of the percentage of deacylated tRNA in the mixture.\n",
    "The linear fit used to calculated the correction factor is shown as a red line.\n",
    "\n",
    "The plot in the right shows that the normalized RPM values are quite variable, probably because this number is affected by the variance of both the RPM value of the transcript and the RPM value of the E.coli spike-in.\n",
    "It is clear from the left plot that the charge titration is highly linear and close to the predicted charge values.\n",
    "This means that tRNA charge can be quantified reliably for this tRNA transcript."
   ]
  },
  {
   "cell_type": "code",
   "execution_count": 9,
   "metadata": {},
   "outputs": [
    {
     "data": {
      "image/png": "[encoded data removed]",
      "text/plain": [
       "<wand.image.Image: 18279db 'PDF' (1125x347)>"
      ]
     },
     "execution_count": 9,
     "metadata": {},
     "output_type": "execute_result"
    }
   ],
   "source": [
    "random_image = np.random.randint(len(anno_list))\n",
    "img = WImage(filename='data/plotting/titration-fit.pdf[{}]'.format(random_image))\n",
    "img"
   ]
  },
  {
   "cell_type": "code",
   "execution_count": null,
   "metadata": {},
   "outputs": [],
   "source": []
  },
  {
   "cell_type": "markdown",
   "metadata": {},
   "source": [
    "Looking at the \"inferred\" vs \"calculated\" abundance correction factor there is a clear correlation but it deviates from the expected 1:1 proportionality marked by a red line.\n",
    "The reason for this deviation is unknown."
   ]
  },
  {
   "cell_type": "code",
   "execution_count": 10,
   "metadata": {},
   "outputs": [
    {
     "data": {
      "image/png": "[encoded data removed]",
      "text/plain": [
       "<Figure size 432x360 with 1 Axes>"
      ]
     },
     "metadata": {},
     "output_type": "display_data"
    }
   ],
   "source": [
    "# Plot inferred vs. calculated correction factor:\n",
    "fig, ax1 = plt.subplots(1, 1, figsize=(6, 5))\n",
    "\n",
    "g1 = sns.regplot(ax=ax1, data=FB_df, x='Inferred', y='Calculated', \\\n",
    "                 scatter_kws=dict(alpha=0.5, edgecolor='black', linewidth=0.7))\n",
    "g1.set(xlabel='Inferred', ylabel='Calculated')\n",
    "g1.set_title('tRNA abundance correction factor')\n",
    "ax1.plot([1.05, 2.1], [1.05, 2.1], c='r')\n",
    "fig.tight_layout()\n",
    "fig.savefig('data/plotting/correction-factor.pdf', bbox_inches='tight')"
   ]
  },
  {
   "cell_type": "code",
   "execution_count": null,
   "metadata": {},
   "outputs": [],
   "source": []
  },
  {
   "cell_type": "markdown",
   "metadata": {},
   "source": [
    "The barcode bias summarized over all the tRNA annotations can give us a clue as to whether any barcode is problematic.\n",
    "In this case, the boxplot shows that barcode 4 (l4Sp) is slightly biased towards higher measured charge which could be because the adapter with this barcode has a slight ligation preference towards CCA as opposed to CC.\n",
    "All the other barcodes have a tight error distribution around or close to zero and thus not showing any ligation bias."
   ]
  },
  {
   "cell_type": "code",
   "execution_count": 11,
   "metadata": {},
   "outputs": [
    {
     "data": {
      "image/png": "[encoded data removed]",
      "text/plain": [
       "<Figure size 468x324 with 1 Axes>"
      ]
     },
     "metadata": {},
     "output_type": "display_data"
    }
   ],
   "source": [
    "# Plot the prediction error for all the tRNA annotations\n",
    "# broken down by barcode:\n",
    "bc_order = sorted(set(bc_err_df['barcode']))\n",
    "with sns.axes_style(\"whitegrid\"):\n",
    "    fig, ax1 = plt.subplots(1, 1, figsize=(6.5, 4.5))\n",
    "    g1 = sns.boxplot(ax=ax1, data=bc_err_df, x='barcode', y='pred_err', \\\n",
    "                     boxprops=dict(alpha=0.8), order=bc_order, fliersize=False)\n",
    "\n",
    "g1.set(xlabel='Barcode', ylabel='Error (measured - predicted)')\n",
    "g1.set_title('Barcode bias')\n",
    "fig.tight_layout()\n",
    "fig.savefig('data/plotting/barcode_prediction-error.pdf', bbox_inches='tight')"
   ]
  },
  {
   "cell_type": "code",
   "execution_count": null,
   "metadata": {},
   "outputs": [],
   "source": []
  },
  {
   "cell_type": "code",
   "execution_count": null,
   "metadata": {},
   "outputs": [],
   "source": []
  },
  {
   "cell_type": "code",
   "execution_count": null,
   "metadata": {},
   "outputs": [],
   "source": []
  },
  {
   "cell_type": "code",
   "execution_count": null,
   "metadata": {},
   "outputs": [],
   "source": []
  },
  {
   "cell_type": "code",
   "execution_count": null,
   "metadata": {},
   "outputs": [],
   "source": []
  },
  {
   "cell_type": "code",
   "execution_count": null,
   "metadata": {},
   "outputs": [],
   "source": []
  },
  {
   "cell_type": "code",
   "execution_count": null,
   "metadata": {},
   "outputs": [],
   "source": []
  },
  {
   "cell_type": "code",
   "execution_count": null,
   "metadata": {},
   "outputs": [],
   "source": []
  },
  {
   "cell_type": "code",
   "execution_count": null,
   "metadata": {},
   "outputs": [],
   "source": []
  },
  {
   "cell_type": "code",
   "execution_count": null,
   "metadata": {},
   "outputs": [],
   "source": []
  },
  {
   "cell_type": "code",
   "execution_count": null,
   "metadata": {},
   "outputs": [],
   "source": []
  },
  {
   "cell_type": "code",
   "execution_count": null,
   "metadata": {},
   "outputs": [],
   "source": []
  },
  {
   "cell_type": "code",
   "execution_count": null,
   "metadata": {},
   "outputs": [],
   "source": []
  },
  {
   "cell_type": "code",
   "execution_count": null,
   "metadata": {},
   "outputs": [],
   "source": []
  },
  {
   "cell_type": "code",
   "execution_count": null,
   "metadata": {},
   "outputs": [],
   "source": []
  },
  {
   "cell_type": "code",
   "execution_count": null,
   "metadata": {},
   "outputs": [],
   "source": []
  },
  {
   "cell_type": "code",
   "execution_count": null,
   "metadata": {},
   "outputs": [],
   "source": []
  },
  {
   "cell_type": "code",
   "execution_count": null,
   "metadata": {},
   "outputs": [],
   "source": []
  },
  {
   "cell_type": "code",
   "execution_count": null,
   "metadata": {},
   "outputs": [],
   "source": []
  },
  {
   "cell_type": "code",
   "execution_count": null,
   "metadata": {},
   "outputs": [],
   "source": []
  },
  {
   "cell_type": "code",
   "execution_count": null,
   "metadata": {},
   "outputs": [],
   "source": []
  },
  {
   "cell_type": "code",
   "execution_count": null,
   "metadata": {},
   "outputs": [],
   "source": []
  },
  {
   "cell_type": "code",
   "execution_count": 361,
   "metadata": {},
   "outputs": [
    {
     "data": {
      "text/html": [
       "<div>\n",
       "<style scoped>\n",
       "    .dataframe tbody tr th:only-of-type {\n",
       "        vertical-align: middle;\n",
       "    }\n",
       "\n",
       "    .dataframe tbody tr th {\n",
       "        vertical-align: top;\n",
       "    }\n",
       "\n",
       "    .dataframe thead th {\n",
       "        text-align: right;\n",
       "    }\n",
       "</style>\n",
       "<table border=\"1\" class=\"dataframe\">\n",
       "  <thead>\n",
       "    <tr style=\"text-align: right;\">\n",
       "      <th></th>\n",
       "      <th>Inferred</th>\n",
       "      <th>Calculated</th>\n",
       "      <th>tRNA_annotation</th>\n",
       "      <th>tRNA_anno_short</th>\n",
       "      <th>tRNA_annotation_len</th>\n",
       "      <th>codon</th>\n",
       "      <th>anticodon</th>\n",
       "      <th>AA_codon</th>\n",
       "      <th>amino_acid</th>\n",
       "      <th>AA_letter</th>\n",
       "      <th>mito_codon</th>\n",
       "      <th>Ecoli_ctr</th>\n",
       "    </tr>\n",
       "  </thead>\n",
       "  <tbody>\n",
       "    <tr>\n",
       "      <th>0</th>\n",
       "      <td>1.626758</td>\n",
       "      <td>1.484503</td>\n",
       "      <td>Homo_sapiens_tRNA-Asn-GTT-2-1</td>\n",
       "      <td>Asn-GTT-2-1</td>\n",
       "      <td>77</td>\n",
       "      <td>AAC</td>\n",
       "      <td>GTT</td>\n",
       "      <td>Asn-AAC</td>\n",
       "      <td>Asn</td>\n",
       "      <td>N</td>\n",
       "      <td>False</td>\n",
       "      <td>False</td>\n",
       "    </tr>\n",
       "    <tr>\n",
       "      <th>1</th>\n",
       "      <td>1.835380</td>\n",
       "      <td>1.590232</td>\n",
       "      <td>Homo_sapiens_tRNA-Phe-GAA-1-1</td>\n",
       "      <td>Phe-GAA-1-1</td>\n",
       "      <td>76</td>\n",
       "      <td>UUC</td>\n",
       "      <td>GAA</td>\n",
       "      <td>Phe-UUC</td>\n",
       "      <td>Phe</td>\n",
       "      <td>F</td>\n",
       "      <td>False</td>\n",
       "      <td>False</td>\n",
       "    </tr>\n",
       "    <tr>\n",
       "      <th>2</th>\n",
       "      <td>1.208483</td>\n",
       "      <td>1.224850</td>\n",
       "      <td>Homo_sapiens_tRNA-Glu-CTC-1-1</td>\n",
       "      <td>Glu-CTC-1-1</td>\n",
       "      <td>75</td>\n",
       "      <td>GAG</td>\n",
       "      <td>CTC</td>\n",
       "      <td>Glu-GAG</td>\n",
       "      <td>Glu</td>\n",
       "      <td>E</td>\n",
       "      <td>False</td>\n",
       "      <td>False</td>\n",
       "    </tr>\n",
       "  </tbody>\n",
       "</table>\n",
       "</div>"
      ],
      "text/plain": [
       "   Inferred  Calculated                tRNA_annotation tRNA_anno_short  \\\n",
       "0  1.626758    1.484503  Homo_sapiens_tRNA-Asn-GTT-2-1     Asn-GTT-2-1   \n",
       "1  1.835380    1.590232  Homo_sapiens_tRNA-Phe-GAA-1-1     Phe-GAA-1-1   \n",
       "2  1.208483    1.224850  Homo_sapiens_tRNA-Glu-CTC-1-1     Glu-CTC-1-1   \n",
       "\n",
       "   tRNA_annotation_len codon anticodon AA_codon amino_acid AA_letter  \\\n",
       "0                   77   AAC       GTT  Asn-AAC        Asn         N   \n",
       "1                   76   UUC       GAA  Phe-UUC        Phe         F   \n",
       "2                   75   GAG       CTC  Glu-GAG        Glu         E   \n",
       "\n",
       "   mito_codon  Ecoli_ctr  \n",
       "0       False      False  \n",
       "1       False      False  \n",
       "2       False      False  "
      ]
     },
     "execution_count": 361,
     "metadata": {},
     "output_type": "execute_result"
    }
   ],
   "source": [
    "FB_df.head(3)"
   ]
  },
  {
   "cell_type": "code",
   "execution_count": 96,
   "metadata": {},
   "outputs": [],
   "source": [
    "results = smf.ols('Inferred ~ tRNA_annotation_len + codon + mito_codon', data=FB_df).fit()"
   ]
  },
  {
   "cell_type": "code",
   "execution_count": null,
   "metadata": {},
   "outputs": [],
   "source": []
  },
  {
   "cell_type": "code",
   "execution_count": 91,
   "metadata": {},
   "outputs": [
    {
     "name": "stdout",
     "output_type": "stream",
     "text": [
      "                            OLS Regression Results                            \n",
      "==============================================================================\n",
      "Dep. Variable:               Inferred   R-squared:                       0.722\n",
      "Model:                            OLS   Adj. R-squared:                  0.626\n",
      "Method:                 Least Squares   F-statistic:                     7.563\n",
      "Date:                Sat, 04 Mar 2023   Prob (F-statistic):           3.09e-21\n",
      "Time:                        16:58:28   Log-Likelihood:                 131.04\n",
      "No. Observations:                 189   AIC:                            -164.1\n",
      "Df Residuals:                     140   BIC:                            -5.234\n",
      "Df Model:                          48                                         \n",
      "Covariance Type:            nonrobust                                         \n",
      "=======================================================================================\n",
      "                          coef    std err          t      P>|t|      [0.025      0.975]\n",
      "---------------------------------------------------------------------------------------\n",
      "Intercept               1.8546      0.668      2.776      0.006       0.534       3.176\n",
      "codon[T.AAC]            0.0998      0.079      1.264      0.208      -0.056       0.256\n",
      "codon[T.AAG]           -0.2208      0.100     -2.216      0.028      -0.418      -0.024\n",
      "codon[T.ACA]           -0.2420      0.081     -2.978      0.003      -0.403      -0.081\n",
      "codon[T.ACG]           -0.1880      0.091     -2.066      0.041      -0.368      -0.008\n",
      "codon[T.ACU]           -0.2028      0.082     -2.488      0.014      -0.364      -0.042\n",
      "codon[T.AGA]            0.1228      0.091      1.350      0.179      -0.057       0.303\n",
      "codon[T.AGC]            0.0587      0.120      0.487      0.627      -0.179       0.297\n",
      "codon[T.AGG]            0.0461      0.091      0.506      0.613      -0.134       0.226\n",
      "codon[T.AUA]            0.4618      0.100      4.633      0.000       0.265       0.659\n",
      "codon[T.AUC]            0.0058      0.155      0.037      0.970      -0.301       0.312\n",
      "codon[T.AUG]            0.0359      0.081      0.442      0.659      -0.125       0.197\n",
      "codon[T.AUU]            0.1115      0.076      1.461      0.146      -0.039       0.262\n",
      "codon[T.CAA]           -0.2761      0.091     -3.041      0.003      -0.456      -0.097\n",
      "codon[T.CAC]            0.1283      0.115      1.112      0.268      -0.100       0.356\n",
      "codon[T.CAG]           -0.1354      0.092     -1.476      0.142      -0.317       0.046\n",
      "codon[T.CCA]            0.1390      0.091      1.523      0.130      -0.041       0.319\n",
      "codon[T.CCG]            0.3509      0.116      3.036      0.003       0.122       0.579\n",
      "codon[T.CCU]            0.0444      0.116      0.384      0.702      -0.184       0.273\n",
      "codon[T.CGA]            0.1895      0.081      2.326      0.021       0.028       0.351\n",
      "codon[T.CGG]            0.0596      0.115      0.519      0.605      -0.168       0.287\n",
      "codon[T.CGU]           -0.0998      0.115     -0.868      0.387      -0.327       0.127\n",
      "codon[T.CUA]            0.2742      0.110      2.483      0.014       0.056       0.492\n",
      "codon[T.CUG]            0.2797      0.142      1.970      0.051      -0.001       0.560\n",
      "codon[T.CUU]            0.1203      0.124      0.967      0.335      -0.126       0.366\n",
      "codon[T.GAA]           -0.0212      0.091     -0.232      0.817      -0.201       0.159\n",
      "codon[T.GAC]           -0.1993      0.100     -1.996      0.048      -0.397      -0.002\n",
      "codon[T.GAG]           -0.2082      0.116     -1.801      0.074      -0.437       0.020\n",
      "codon[T.GCA]           -0.1185      0.079     -1.504      0.135      -0.274       0.037\n",
      "codon[T.GCG]           -0.1150      0.092     -1.253      0.212      -0.296       0.066\n",
      "codon[T.GCU]           -0.0455      0.077     -0.592      0.555      -0.197       0.106\n",
      "codon[T.GGA]           -0.0687      0.091     -0.753      0.453      -0.249       0.112\n",
      "codon[T.GGC]            0.0597      0.117      0.511      0.610      -0.171       0.291\n",
      "codon[T.GGG]            0.0630      0.117      0.539      0.591      -0.168       0.294\n",
      "codon[T.GUA]            0.0989      0.085      1.162      0.247      -0.069       0.267\n",
      "codon[T.GUG]            0.1906      0.091      2.095      0.038       0.011       0.371\n",
      "codon[T.GUU]            0.2468      0.100      2.478      0.014       0.050       0.444\n",
      "codon[T.UAC]           -0.0516      0.085     -0.604      0.547      -0.220       0.117\n",
      "codon[T.UCA]           -0.2484      0.105     -2.363      0.020      -0.456      -0.041\n",
      "codon[T.UCG]           -0.2109      0.137     -1.539      0.126      -0.482       0.060\n",
      "codon[T.UCU]           -0.3684      0.137     -2.688      0.008      -0.639      -0.097\n",
      "codon[T.UGA]           -0.0438      0.130     -0.337      0.737      -0.301       0.213\n",
      "codon[T.UGC]           -0.3406      0.074     -4.628      0.000      -0.486      -0.195\n",
      "codon[T.UGG]            0.3520      0.092      3.836      0.000       0.171       0.533\n",
      "codon[T.UUA]            0.2675      0.120      2.234      0.027       0.031       0.504\n",
      "codon[T.UUC]           -0.0171      0.091     -0.189      0.851      -0.197       0.163\n",
      "codon[T.UUG]            0.4089      0.128      3.197      0.002       0.156       0.662\n",
      "mito_codon[T.True]      0.0199      0.060      0.330      0.742      -0.099       0.139\n",
      "tRNA_annotation_len    -0.0033      0.009     -0.374      0.709      -0.020       0.014\n",
      "==============================================================================\n",
      "Omnibus:                        2.869   Durbin-Watson:                   1.883\n",
      "Prob(Omnibus):                  0.238   Jarque-Bera (JB):                2.932\n",
      "Skew:                           0.283   Prob(JB):                        0.231\n",
      "Kurtosis:                       2.774   Cond. No.                     5.35e+03\n",
      "==============================================================================\n",
      "\n",
      "Notes:\n",
      "[1] Standard Errors assume that the covariance matrix of the errors is correctly specified.\n",
      "[2] The condition number is large, 5.35e+03. This might indicate that there are\n",
      "strong multicollinearity or other numerical problems.\n"
     ]
    }
   ],
   "source": [
    "print(results.summary())\n"
   ]
  },
  {
   "cell_type": "code",
   "execution_count": null,
   "metadata": {},
   "outputs": [],
   "source": []
  },
  {
   "cell_type": "code",
   "execution_count": 94,
   "metadata": {},
   "outputs": [
    {
     "data": {
      "text/plain": [
       "['Intercept',\n",
       " 'codon[T.AAC]',\n",
       " 'codon[T.AAG]',\n",
       " 'codon[T.ACA]',\n",
       " 'codon[T.ACG]',\n",
       " 'codon[T.ACU]',\n",
       " 'codon[T.AGA]',\n",
       " 'codon[T.AGC]',\n",
       " 'codon[T.AGG]',\n",
       " 'codon[T.AUA]',\n",
       " 'codon[T.AUC]',\n",
       " 'codon[T.AUG]',\n",
       " 'codon[T.AUU]',\n",
       " 'codon[T.CAA]',\n",
       " 'codon[T.CAC]',\n",
       " 'codon[T.CAG]',\n",
       " 'codon[T.CCA]',\n",
       " 'codon[T.CCG]',\n",
       " 'codon[T.CCU]',\n",
       " 'codon[T.CGA]',\n",
       " 'codon[T.CGG]',\n",
       " 'codon[T.CGU]',\n",
       " 'codon[T.CUA]',\n",
       " 'codon[T.CUG]',\n",
       " 'codon[T.CUU]',\n",
       " 'codon[T.GAA]',\n",
       " 'codon[T.GAC]',\n",
       " 'codon[T.GAG]',\n",
       " 'codon[T.GCA]',\n",
       " 'codon[T.GCG]',\n",
       " 'codon[T.GCU]',\n",
       " 'codon[T.GGA]',\n",
       " 'codon[T.GGC]',\n",
       " 'codon[T.GGG]',\n",
       " 'codon[T.GUA]',\n",
       " 'codon[T.GUG]',\n",
       " 'codon[T.GUU]',\n",
       " 'codon[T.UAC]',\n",
       " 'codon[T.UCA]',\n",
       " 'codon[T.UCG]',\n",
       " 'codon[T.UCU]',\n",
       " 'codon[T.UGA]',\n",
       " 'codon[T.UGC]',\n",
       " 'codon[T.UGG]',\n",
       " 'codon[T.UUA]',\n",
       " 'codon[T.UUC]',\n",
       " 'codon[T.UUG]',\n",
       " 'mito_codon[T.True]',\n",
       " 'tRNA_annotation_len']"
      ]
     },
     "execution_count": 94,
     "metadata": {},
     "output_type": "execute_result"
    }
   ],
   "source": [
    "results.model.exog_names"
   ]
  },
  {
   "cell_type": "code",
   "execution_count": null,
   "metadata": {},
   "outputs": [],
   "source": []
  },
  {
   "cell_type": "code",
   "execution_count": null,
   "metadata": {},
   "outputs": [],
   "source": []
  },
  {
   "cell_type": "code",
   "execution_count": 86,
   "metadata": {},
   "outputs": [
    {
     "ename": "NotImplementedError",
     "evalue": "",
     "output_type": "error",
     "traceback": [
      "\u001b[0;31m---------------------------------------------------------------------------\u001b[0m",
      "\u001b[0;31mNotImplementedError\u001b[0m                       Traceback (most recent call last)",
      "\u001b[0;32m<ipython-input-86-42e11606c9ba>\u001b[0m in \u001b[0;36m<module>\u001b[0;34m\u001b[0m\n\u001b[1;32m      1\u001b[0m \u001b[0mresults\u001b[0m \u001b[0;34m=\u001b[0m \u001b[0msmf\u001b[0m\u001b[0;34m.\u001b[0m\u001b[0mols\u001b[0m\u001b[0;34m(\u001b[0m\u001b[0;34m'Inferred ~ tRNA_annotation_len + codon + mito_codon'\u001b[0m\u001b[0;34m,\u001b[0m \u001b[0mdata\u001b[0m\u001b[0;34m=\u001b[0m\u001b[0moffset_df\u001b[0m\u001b[0;34m)\u001b[0m\u001b[0;34m.\u001b[0m\u001b[0mfit_regularized\u001b[0m\u001b[0;34m(\u001b[0m\u001b[0;34m)\u001b[0m\u001b[0;34m\u001b[0m\u001b[0;34m\u001b[0m\u001b[0m\n\u001b[0;32m----> 2\u001b[0;31m \u001b[0mprint\u001b[0m\u001b[0;34m(\u001b[0m\u001b[0mresults\u001b[0m\u001b[0;34m.\u001b[0m\u001b[0msummary\u001b[0m\u001b[0;34m(\u001b[0m\u001b[0;34m)\u001b[0m\u001b[0;34m)\u001b[0m\u001b[0;34m\u001b[0m\u001b[0;34m\u001b[0m\u001b[0m\n\u001b[0m",
      "\u001b[0;32m~/anaconda3/lib/python3.8/site-packages/statsmodels/base/model.py\u001b[0m in \u001b[0;36msummary\u001b[0;34m(self)\u001b[0m\n\u001b[1;32m   1175\u001b[0m         \u001b[0mNot\u001b[0m \u001b[0mimplemented\u001b[0m\u001b[0;34m\u001b[0m\u001b[0;34m\u001b[0m\u001b[0m\n\u001b[1;32m   1176\u001b[0m         \"\"\"\n\u001b[0;32m-> 1177\u001b[0;31m         \u001b[0;32mraise\u001b[0m \u001b[0mNotImplementedError\u001b[0m\u001b[0;34m\u001b[0m\u001b[0;34m\u001b[0m\u001b[0m\n\u001b[0m\u001b[1;32m   1178\u001b[0m \u001b[0;34m\u001b[0m\u001b[0m\n\u001b[1;32m   1179\u001b[0m \u001b[0;34m\u001b[0m\u001b[0m\n",
      "\u001b[0;31mNotImplementedError\u001b[0m: "
     ]
    }
   ],
   "source": [
    "results = smf.ols('Inferred ~ tRNA_annotation_len + codon + mito_codon', data=FB_df).fit_regularized()\n",
    "print(results.summary())"
   ]
  },
  {
   "cell_type": "code",
   "execution_count": 49,
   "metadata": {},
   "outputs": [
    {
     "data": {
      "text/plain": [
       "array([ 1.,  0.,  0.,  0.,  0.,  0.,  0.,  0.,  0.,  0.,  0.,  0.,  0.,\n",
       "        0.,  0.,  0.,  0.,  0.,  0.,  0.,  0.,  0.,  0.,  0.,  0.,  0.,\n",
       "        0.,  0.,  0.,  0.,  0.,  0.,  0.,  0.,  0.,  0.,  0.,  0.,  0.,\n",
       "        0.,  0.,  0.,  0.,  1.,  0.,  0.,  0.,  0., 75.])"
      ]
     },
     "execution_count": 49,
     "metadata": {},
     "output_type": "execute_result"
    }
   ],
   "source": [
    "results.model.wexog[0]"
   ]
  },
  {
   "cell_type": "code",
   "execution_count": null,
   "metadata": {},
   "outputs": [],
   "source": []
  },
  {
   "cell_type": "code",
   "execution_count": null,
   "metadata": {},
   "outputs": [],
   "source": []
  },
  {
   "cell_type": "code",
   "execution_count": null,
   "metadata": {},
   "outputs": [],
   "source": []
  },
  {
   "cell_type": "code",
   "execution_count": null,
   "metadata": {},
   "outputs": [],
   "source": []
  },
  {
   "cell_type": "code",
   "execution_count": null,
   "metadata": {},
   "outputs": [],
   "source": []
  },
  {
   "cell_type": "code",
   "execution_count": null,
   "metadata": {},
   "outputs": [],
   "source": []
  },
  {
   "cell_type": "code",
   "execution_count": null,
   "metadata": {},
   "outputs": [],
   "source": []
  },
  {
   "cell_type": "code",
   "execution_count": null,
   "metadata": {},
   "outputs": [],
   "source": []
  },
  {
   "cell_type": "code",
   "execution_count": null,
   "metadata": {},
   "outputs": [],
   "source": []
  },
  {
   "cell_type": "code",
   "execution_count": null,
   "metadata": {},
   "outputs": [],
   "source": []
  },
  {
   "cell_type": "code",
   "execution_count": null,
   "metadata": {},
   "outputs": [],
   "source": []
  },
  {
   "cell_type": "code",
   "execution_count": null,
   "metadata": {},
   "outputs": [],
   "source": []
  },
  {
   "cell_type": "code",
   "execution_count": null,
   "metadata": {},
   "outputs": [],
   "source": []
  },
  {
   "cell_type": "code",
   "execution_count": null,
   "metadata": {},
   "outputs": [],
   "source": []
  },
  {
   "cell_type": "code",
   "execution_count": 8,
   "metadata": {},
   "outputs": [],
   "source": []
  },
  {
   "cell_type": "code",
   "execution_count": null,
   "metadata": {},
   "outputs": [],
   "source": []
  },
  {
   "cell_type": "code",
   "execution_count": null,
   "metadata": {},
   "outputs": [],
   "source": []
  },
  {
   "cell_type": "code",
   "execution_count": null,
   "metadata": {},
   "outputs": [],
   "source": []
  },
  {
   "cell_type": "code",
   "execution_count": null,
   "metadata": {},
   "outputs": [],
   "source": []
  },
  {
   "cell_type": "code",
   "execution_count": null,
   "metadata": {},
   "outputs": [],
   "source": []
  },
  {
   "cell_type": "code",
   "execution_count": null,
   "metadata": {},
   "outputs": [],
   "source": []
  },
  {
   "cell_type": "code",
   "execution_count": null,
   "metadata": {},
   "outputs": [],
   "source": []
  },
  {
   "cell_type": "code",
   "execution_count": null,
   "metadata": {},
   "outputs": [],
   "source": []
  },
  {
   "cell_type": "code",
   "execution_count": null,
   "metadata": {},
   "outputs": [],
   "source": []
  },
  {
   "cell_type": "code",
   "execution_count": null,
   "metadata": {},
   "outputs": [],
   "source": []
  },
  {
   "cell_type": "code",
   "execution_count": null,
   "metadata": {},
   "outputs": [],
   "source": []
  },
  {
   "cell_type": "code",
   "execution_count": null,
   "metadata": {},
   "outputs": [],
   "source": []
  },
  {
   "cell_type": "code",
   "execution_count": null,
   "metadata": {},
   "outputs": [],
   "source": []
  },
  {
   "cell_type": "code",
   "execution_count": null,
   "metadata": {},
   "outputs": [],
   "source": []
  },
  {
   "cell_type": "code",
   "execution_count": null,
   "metadata": {},
   "outputs": [],
   "source": []
  },
  {
   "cell_type": "code",
   "execution_count": null,
   "metadata": {},
   "outputs": [],
   "source": []
  },
  {
   "cell_type": "code",
   "execution_count": null,
   "metadata": {},
   "outputs": [],
   "source": []
  },
  {
   "cell_type": "code",
   "execution_count": null,
   "metadata": {},
   "outputs": [],
   "source": []
  },
  {
   "cell_type": "code",
   "execution_count": null,
   "metadata": {},
   "outputs": [],
   "source": []
  },
  {
   "cell_type": "code",
   "execution_count": null,
   "metadata": {},
   "outputs": [],
   "source": []
  },
  {
   "cell_type": "code",
   "execution_count": null,
   "metadata": {},
   "outputs": [],
   "source": []
  },
  {
   "cell_type": "code",
   "execution_count": null,
   "metadata": {},
   "outputs": [],
   "source": []
  },
  {
   "cell_type": "code",
   "execution_count": null,
   "metadata": {},
   "outputs": [],
   "source": []
  },
  {
   "cell_type": "code",
   "execution_count": null,
   "metadata": {},
   "outputs": [],
   "source": []
  },
  {
   "cell_type": "code",
   "execution_count": null,
   "metadata": {},
   "outputs": [],
   "source": []
  },
  {
   "cell_type": "code",
   "execution_count": null,
   "metadata": {},
   "outputs": [],
   "source": []
  },
  {
   "cell_type": "code",
   "execution_count": null,
   "metadata": {},
   "outputs": [],
   "source": []
  },
  {
   "cell_type": "code",
   "execution_count": null,
   "metadata": {},
   "outputs": [],
   "source": []
  },
  {
   "cell_type": "code",
   "execution_count": null,
   "metadata": {},
   "outputs": [],
   "source": []
  },
  {
   "cell_type": "code",
   "execution_count": null,
   "metadata": {},
   "outputs": [],
   "source": []
  },
  {
   "cell_type": "code",
   "execution_count": null,
   "metadata": {},
   "outputs": [],
   "source": []
  },
  {
   "cell_type": "code",
   "execution_count": null,
   "metadata": {},
   "outputs": [],
   "source": []
  },
  {
   "cell_type": "code",
   "execution_count": null,
   "metadata": {},
   "outputs": [],
   "source": []
  },
  {
   "cell_type": "code",
   "execution_count": null,
   "metadata": {},
   "outputs": [],
   "source": []
  }
 ],
 "metadata": {
  "kernelspec": {
   "display_name": "Python 3",
   "language": "python",
   "name": "python3"
  },
  "language_info": {
   "codemirror_mode": {
    "name": "ipython",
    "version": 3
   },
   "file_extension": ".py",
   "mimetype": "text/x-python",
   "name": "python",
   "nbconvert_exporter": "python",
   "pygments_lexer": "ipython3",
   "version": "3.8.5"
  }
 },
 "nbformat": 4,
 "nbformat_minor": 4
}
