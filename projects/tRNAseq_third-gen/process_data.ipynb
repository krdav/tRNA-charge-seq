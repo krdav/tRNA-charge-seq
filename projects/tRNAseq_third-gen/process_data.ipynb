{
 "cells": [
  {
   "cell_type": "code",
   "execution_count": 1,
   "metadata": {},
   "outputs": [],
   "source": [
    "%load_ext autoreload\n",
    "%autoreload 2"
   ]
  },
  {
   "cell_type": "code",
   "execution_count": 2,
   "metadata": {},
   "outputs": [],
   "source": [
    "import os, sys, shutil, bz2, random, resource, warnings, subprocess, copy, re, glob, json, collections, gc, contextlib\n",
    "from pathlib import Path\n",
    "import json_stream\n",
    "import xml.etree.ElementTree as ET\n",
    "from subprocess import Popen, PIPE, STDOUT\n",
    "import pandas as pd\n",
    "pd.set_option('display.max_columns', 50)\n",
    "import numpy as np\n",
    "from Bio import SeqIO, bgzf\n",
    "import Bio.Data.CodonTable\n",
    "from Bio.SeqIO.QualityIO import FastqGeneralIterator\n",
    "from Bio import Seq, SeqIO, SearchIO, SeqRecord\n",
    "from mpire import WorkerPool\n",
    "import jellyfish\n",
    "from Bio import Align"
   ]
  },
  {
   "cell_type": "code",
   "execution_count": 3,
   "metadata": {},
   "outputs": [],
   "source": [
    "### Plotting imports ###\n",
    "import seaborn as sns\n",
    "import matplotlib.pyplot as plt\n",
    "from matplotlib.backends.backend_pdf import PdfPages\n",
    "import matplotlib.colors as mcolors\n",
    "import matplotlib as mpl\n",
    "from matplotlib.patches import StepPatch\n",
    "import matplotlib.ticker as ticker\n",
    "import matplotlib.gridspec as gridspec\n",
    "import logomaker as lm\n",
    "from cycler import cycler\n",
    "palette = list(mcolors.TABLEAU_COLORS.keys())\n",
    "sns.set_theme(style=\"ticks\", palette=\"muted\")\n",
    "sns.set_context(\"talk\")\n",
    "%matplotlib inline"
   ]
  },
  {
   "cell_type": "code",
   "execution_count": null,
   "metadata": {},
   "outputs": [],
   "source": []
  },
  {
   "cell_type": "code",
   "execution_count": null,
   "metadata": {},
   "outputs": [],
   "source": []
  },
  {
   "cell_type": "code",
   "execution_count": 4,
   "metadata": {},
   "outputs": [
    {
     "name": "stdout",
     "output_type": "stream",
     "text": [
      "Notebook is in: /Users/krdav/Google Drive/MCB/Sullivan_lab/tRNA-charge-seq/projects/tRNAseq_third-gen\n",
      "Repo is in: /Users/krdav/Google Drive/MCB/Sullivan_lab/tRNA-charge-seq\n",
      "Using minimum read length: 49 (after merge)\n",
      "Using minimum alignemnt score: 20\n"
     ]
    }
   ],
   "source": [
    "# Navigate back to NBdir in case of re-running a code block:\n",
    "if not 'NBdir' in globals():\n",
    "    NBdir = os.getcwd()\n",
    "print('Notebook is in: {}'.format(NBdir))\n",
    "os.chdir(NBdir)  # If you changed the current working dir, this will take you back to the notebook dir.\n",
    "\n",
    "# Define the path to the repo folder.\n",
    "# Change if necessary.\n",
    "homedir = '/'.join(NBdir.split('/')[0:-2])\n",
    "print('Repo is in: {}'.format(homedir))\n",
    "sys.path.insert(1, homedir)\n",
    "from utils.misc import index_to_sample_df, downsample_raw_input, read_tRNAdb_info, sample_df_to_dict\n",
    "from utils.read_processing import AR_merge, BC_split, Kmer_analysis, BC_analysis, UMI_trim\n",
    "from utils.alignment import SWIPE_align\n",
    "from utils.stats_collection import STATS_collection\n",
    "from utils.plotting import TRNA_plot\n",
    "# from utils.transcript_mutations import TM_analysis\n",
    "\n",
    "# These are default folder names for data and raw fastq files\n",
    "# relative to the folder in which this notebook is in:\n",
    "data_dir = 'data'\n",
    "seq_dir = 'raw_fastq'\n",
    "seq_dir_noDS = seq_dir # Not downsampled\n",
    "\n",
    "# These folder names are used in subsequent processing steps\n",
    "# to dump data. Best to not change:\n",
    "AdapterRemoval_dir = 'AdapterRemoval'\n",
    "BC_dir = 'BC_split'\n",
    "UMI_dir = 'UMI_trimmed'\n",
    "align_dir = 'SWalign'\n",
    "stats_dir = 'stats_collection'\n",
    "TM_dir = 'transcript_mutations'\n",
    "plotting_dir = 'plotting'\n",
    "tRNA_database = dict()\n",
    "tRNA_database['human'] = '{}/utils/tRNA_database/human/hg38-tRNAs.fa'.format(homedir)\n",
    "tRNA_database['mouse'] = '{}/utils/tRNA_database/mouse/mm10-tRNAs.fa'.format(homedir)\n",
    "# Read information (length, codon etc) of tRNAs into dictionary:\n",
    "tRNA_data = read_tRNAdb_info(tRNA_database)\n",
    "SWIPE_score_mat = '{}/utils/nuc_score-matrix.txt'.format(homedir)\n",
    "# tRNA sequencing yields many duplicated reads.\n",
    "# Adding these commonly seen sequences to a list prevents duplicated alignment:\n",
    "common_seqs = '{}/utils/common-seqs.fasta.bz2'.format(homedir)\n",
    "# ^^ That one is too big, take the top 1k instead:\n",
    "common_seqs = '{}/utils/common-seqs_1k.fasta.bz2'.format(homedir)\n",
    "\n",
    "# Define minimum read length based on minimum insert size:\n",
    "MIN_INSERT_LEN = 20\n",
    "UMI_LEN = 10\n",
    "BC_MAX_LEN = 19\n",
    "MIN_READ_LEN = MIN_INSERT_LEN + UMI_LEN + BC_MAX_LEN\n",
    "print('Using minimum read length: {} (after merge)'.format(MIN_READ_LEN))\n",
    "\n",
    "# The minimum alignment score.\n",
    "# The alignment score is calculated as 1 per match,\n",
    "# -2 per mismatch, -6 per gap opening and -1 per gap extension.\n",
    "# Better to set relatively low, since additional filtering can\n",
    "# be applied later.\n",
    "MIN_SCORE_ALIGN = 20\n",
    "print('Using minimum alignemnt score: {}'.format(MIN_SCORE_ALIGN))\n",
    "\n",
    "# Read index information:\n",
    "index_list_fnam = 'index_list.xlsx'\n",
    "index_df = pd.read_excel('{}/utils/{}'.format(homedir, index_list_fnam))"
   ]
  },
  {
   "cell_type": "code",
   "execution_count": null,
   "metadata": {},
   "outputs": [],
   "source": []
  },
  {
   "cell_type": "code",
   "execution_count": null,
   "metadata": {},
   "outputs": [],
   "source": []
  },
  {
   "cell_type": "markdown",
   "metadata": {},
   "source": [
    "### Settings"
   ]
  },
  {
   "cell_type": "code",
   "execution_count": 5,
   "metadata": {},
   "outputs": [],
   "source": [
    "sample_list_fnam = 'sample_list_P1-2-3.xlsx'\n",
    "sample_df = pd.read_excel('{}/{}'.format(NBdir, sample_list_fnam))\n",
    "# Add barcode sequences:\n",
    "sample_df = index_to_sample_df(sample_df, index_df)\n",
    "# Read elementary info (replicate, barcode, species)\n",
    "# for each unique sample name into a dictionary:\n",
    "sample_dict = sample_df_to_dict(sample_df)\n",
    "# Get filenames from the sample information:\n",
    "inp_file_df = sample_df[['fastq_mate1_filename', 'fastq_mate2_filename', 'P5_index', 'P7_index', 'P5_index_seq', 'P7_index_seq']].copy().drop_duplicates().reset_index(drop=True)\n",
    "\n",
    "# Downsample:\n",
    "if True:\n",
    "    sample_df, inp_file_df, seq_dir = downsample_raw_input(sample_df, inp_file_df, NBdir, data_dir, seq_dir_noDS, downsample_absolute=1e4)\n",
    "\n",
    "# Make a dictionary with paths used for data processing:\n",
    "dir_dict = dict(NBdir = NBdir,\n",
    "                data_dir = data_dir,\n",
    "                seq_dir = seq_dir,\n",
    "                AdapterRemoval_dir = AdapterRemoval_dir,\n",
    "                BC_dir = BC_dir,\n",
    "                UMI_dir = UMI_dir,\n",
    "                align_dir = align_dir,\n",
    "                stats_dir = stats_dir,\n",
    "                TM_dir = TM_dir,\n",
    "                plotting_dir = plotting_dir)"
   ]
  },
  {
   "cell_type": "code",
   "execution_count": null,
   "metadata": {},
   "outputs": [],
   "source": []
  },
  {
   "cell_type": "code",
   "execution_count": 6,
   "metadata": {},
   "outputs": [],
   "source": [
    "# Run AdapterRemoval:\n",
    "AR_obj = AR_merge(dir_dict, inp_file_df, MIN_READ_LEN)\n",
    "AdapterRemoval_dir_abs = AR_obj.make_dir(overwrite=True)\n",
    "# inp_file_df = AR_obj.run_serial()\n",
    "inp_file_df = AR_obj.run_parallel(n_jobs=4, overwrite=True)"
   ]
  },
  {
   "cell_type": "code",
   "execution_count": 7,
   "metadata": {},
   "outputs": [],
   "source": [
    "# Split files based on barcodes:\n",
    "BCsplit_obj = BC_split(dir_dict, sample_df, inp_file_df)\n",
    "BC_dir_abs = BCsplit_obj.make_dir(overwrite=True)\n",
    "# sample_df, inp_file_df = BCsplit_obj.run_serial()\n",
    "sample_df, inp_file_df = BCsplit_obj.run_parallel(n_jobs=4, overwrite=True)"
   ]
  },
  {
   "cell_type": "code",
   "execution_count": 8,
   "metadata": {},
   "outputs": [],
   "source": [
    "### Perform Kmer analysis on unmapped reads ###\n",
    "if False: # barcode analysis is typically suficient \n",
    "    kmer_obj = Kmer_analysis(dir_dict, inp_file_df, index_df)\n",
    "    # Add a filter to avoid Kmers from the end of tRNA sequences:\n",
    "    kmer_obj.filter_3p_fasta(tRNA_database['human'])\n",
    "    # Add to this filter the constant region of the adapters:\n",
    "    kmer_obj.filter_window_BC(filter_window=(0, 11))\n",
    "    # Search for Kmers:\n",
    "    all_kmer = kmer_obj.search_unmapped(search_size=13)"
   ]
  },
  {
   "cell_type": "code",
   "execution_count": 9,
   "metadata": {},
   "outputs": [
    {
     "data": {
      "text/html": [
       "<div>\n",
       "<style scoped>\n",
       "    .dataframe tbody tr th:only-of-type {\n",
       "        vertical-align: middle;\n",
       "    }\n",
       "\n",
       "    .dataframe tbody tr th {\n",
       "        vertical-align: top;\n",
       "    }\n",
       "\n",
       "    .dataframe thead th {\n",
       "        text-align: right;\n",
       "    }\n",
       "</style>\n",
       "<table border=\"1\" class=\"dataframe\">\n",
       "  <thead>\n",
       "    <tr style=\"text-align: right;\">\n",
       "      <th></th>\n",
       "      <th>Name</th>\n",
       "      <th>Count</th>\n",
       "    </tr>\n",
       "  </thead>\n",
       "  <tbody>\n",
       "    <tr>\n",
       "      <th>0</th>\n",
       "      <td>l5Sp</td>\n",
       "      <td>163</td>\n",
       "    </tr>\n",
       "    <tr>\n",
       "      <th>1</th>\n",
       "      <td>l12Sp</td>\n",
       "      <td>106</td>\n",
       "    </tr>\n",
       "    <tr>\n",
       "      <th>2</th>\n",
       "      <td>l4Sp</td>\n",
       "      <td>65</td>\n",
       "    </tr>\n",
       "    <tr>\n",
       "      <th>3</th>\n",
       "      <td>l6Sp</td>\n",
       "      <td>52</td>\n",
       "    </tr>\n",
       "    <tr>\n",
       "      <th>4</th>\n",
       "      <td>l9Sp</td>\n",
       "      <td>48</td>\n",
       "    </tr>\n",
       "    <tr>\n",
       "      <th>5</th>\n",
       "      <td>l10Sp</td>\n",
       "      <td>47</td>\n",
       "    </tr>\n",
       "    <tr>\n",
       "      <th>6</th>\n",
       "      <td>l3Sp</td>\n",
       "      <td>42</td>\n",
       "    </tr>\n",
       "    <tr>\n",
       "      <th>7</th>\n",
       "      <td>l8Sp</td>\n",
       "      <td>40</td>\n",
       "    </tr>\n",
       "    <tr>\n",
       "      <th>8</th>\n",
       "      <td>l1Sp</td>\n",
       "      <td>38</td>\n",
       "    </tr>\n",
       "    <tr>\n",
       "      <th>9</th>\n",
       "      <td>l2Sp</td>\n",
       "      <td>29</td>\n",
       "    </tr>\n",
       "    <tr>\n",
       "      <th>10</th>\n",
       "      <td>l7Sp</td>\n",
       "      <td>21</td>\n",
       "    </tr>\n",
       "    <tr>\n",
       "      <th>11</th>\n",
       "      <td>l11Sp</td>\n",
       "      <td>3</td>\n",
       "    </tr>\n",
       "  </tbody>\n",
       "</table>\n",
       "</div>"
      ],
      "text/plain": [
       "     Name  Count\n",
       "0    l5Sp    163\n",
       "1   l12Sp    106\n",
       "2    l4Sp     65\n",
       "3    l6Sp     52\n",
       "4    l9Sp     48\n",
       "5   l10Sp     47\n",
       "6    l3Sp     42\n",
       "7    l8Sp     40\n",
       "8    l1Sp     38\n",
       "9    l2Sp     29\n",
       "10   l7Sp     21\n",
       "11  l11Sp      3"
      ]
     },
     "execution_count": 9,
     "metadata": {},
     "output_type": "execute_result"
    }
   ],
   "source": [
    "### Perform barcode analysis on unmapped reads ###\n",
    "# Recall that adapters look like this:\n",
    "# GGCTGCCATGC    GACTA\n",
    "# GGCTGCCATGCA   AGTGC\n",
    "# GGCTGCCATGCTG  TCACG\n",
    "# GGCTGCCATGCAAC CTGAT\n",
    "# With the barcode as the rightmost 5 nt.\n",
    "# Search these 5 nt. barcodes by specifying BC_size_3p=5\n",
    "bc_analysis_obj = BC_analysis(dir_dict, inp_file_df, index_df, BC_size_3p=5, overwrite=True)\n",
    "# Search for barcodes in the unmapped reads.\n",
    "# For the summary output, filter by a max distance\n",
    "# to any barcode of 1 (group_dist=1), then group by barcode name:\n",
    "bc_analysis_df = bc_analysis_obj.search_unmapped(group_dist=1, overwrite=True)\n",
    "bc_analysis_df"
   ]
  },
  {
   "cell_type": "code",
   "execution_count": 10,
   "metadata": {},
   "outputs": [
    {
     "data": {
      "text/html": [
       "<div>\n",
       "<style scoped>\n",
       "    .dataframe tbody tr th:only-of-type {\n",
       "        vertical-align: middle;\n",
       "    }\n",
       "\n",
       "    .dataframe tbody tr th {\n",
       "        vertical-align: top;\n",
       "    }\n",
       "\n",
       "    .dataframe thead th {\n",
       "        text-align: right;\n",
       "    }\n",
       "</style>\n",
       "<table border=\"1\" class=\"dataframe\">\n",
       "  <thead>\n",
       "    <tr style=\"text-align: right;\">\n",
       "      <th></th>\n",
       "      <th>sample_name_unique</th>\n",
       "      <th>sample_name</th>\n",
       "      <th>replicate</th>\n",
       "      <th>P5_index</th>\n",
       "      <th>P7_index</th>\n",
       "      <th>barcode</th>\n",
       "      <th>species</th>\n",
       "      <th>plot_group</th>\n",
       "      <th>hue_name</th>\n",
       "      <th>hue_value</th>\n",
       "      <th>hue_order</th>\n",
       "      <th>P5_index_seq</th>\n",
       "      <th>P7_index_seq</th>\n",
       "      <th>barcode_seq</th>\n",
       "      <th>fastq_mate1_filename</th>\n",
       "      <th>fastq_mate2_filename</th>\n",
       "      <th>N_total</th>\n",
       "      <th>N_CC</th>\n",
       "      <th>N_CCA</th>\n",
       "      <th>N_CCA+CC</th>\n",
       "      <th>CCA+CC_percent_total</th>\n",
       "      <th>percent_CCA</th>\n",
       "      <th>N_after_trim</th>\n",
       "      <th>N_UMI_observed</th>\n",
       "      <th>N_UMI_expected</th>\n",
       "      <th>percent_seqs_after_UMI_trim</th>\n",
       "      <th>percent_UMI_obs-vs-exp</th>\n",
       "    </tr>\n",
       "  </thead>\n",
       "  <tbody>\n",
       "    <tr>\n",
       "      <th>0</th>\n",
       "      <td>100p1</td>\n",
       "      <td>100p</td>\n",
       "      <td>1</td>\n",
       "      <td>D501</td>\n",
       "      <td>D701</td>\n",
       "      <td>l1Sp</td>\n",
       "      <td>human</td>\n",
       "      <td>Charge-titration</td>\n",
       "      <td>Percent charge</td>\n",
       "      <td>100p</td>\n",
       "      <td>1</td>\n",
       "      <td>AGGCTATA</td>\n",
       "      <td>ATTACTCG</td>\n",
       "      <td>GGCTGCCATGCGACTA</td>\n",
       "      <td>P1_R1_DSA-10k.fastq.bz2</td>\n",
       "      <td>P1_R2_DSA-10k.fastq.bz2</td>\n",
       "      <td>944</td>\n",
       "      <td>38</td>\n",
       "      <td>902</td>\n",
       "      <td>940</td>\n",
       "      <td>99.576271</td>\n",
       "      <td>95.957447</td>\n",
       "      <td>931</td>\n",
       "      <td>866</td>\n",
       "      <td>930.174768</td>\n",
       "      <td>98.622881</td>\n",
       "      <td>93.100784</td>\n",
       "    </tr>\n",
       "    <tr>\n",
       "      <th>1</th>\n",
       "      <td>100p2</td>\n",
       "      <td>100p</td>\n",
       "      <td>2</td>\n",
       "      <td>D501</td>\n",
       "      <td>D702</td>\n",
       "      <td>l2Sp</td>\n",
       "      <td>human</td>\n",
       "      <td>Charge-titration</td>\n",
       "      <td>Percent charge</td>\n",
       "      <td>100p</td>\n",
       "      <td>1</td>\n",
       "      <td>AGGCTATA</td>\n",
       "      <td>TCCGGAGA</td>\n",
       "      <td>GGCTGCCATGCAAGTGC</td>\n",
       "      <td>P2_R1_DSA-10k.fastq.bz2</td>\n",
       "      <td>P2_R2_DSA-10k.fastq.bz2</td>\n",
       "      <td>673</td>\n",
       "      <td>14</td>\n",
       "      <td>648</td>\n",
       "      <td>662</td>\n",
       "      <td>98.365527</td>\n",
       "      <td>97.885196</td>\n",
       "      <td>663</td>\n",
       "      <td>622</td>\n",
       "      <td>662.581602</td>\n",
       "      <td>98.514116</td>\n",
       "      <td>93.875230</td>\n",
       "    </tr>\n",
       "    <tr>\n",
       "      <th>2</th>\n",
       "      <td>100p3</td>\n",
       "      <td>100p</td>\n",
       "      <td>3</td>\n",
       "      <td>D501</td>\n",
       "      <td>D703</td>\n",
       "      <td>l3Sp</td>\n",
       "      <td>human</td>\n",
       "      <td>Charge-titration</td>\n",
       "      <td>Percent charge</td>\n",
       "      <td>100p</td>\n",
       "      <td>1</td>\n",
       "      <td>AGGCTATA</td>\n",
       "      <td>CGCTCATT</td>\n",
       "      <td>GGCTGCCATGCTGTCACG</td>\n",
       "      <td>P3_R1_DSA-10k.fastq.bz2</td>\n",
       "      <td>P3_R2_DSA-10k.fastq.bz2</td>\n",
       "      <td>709</td>\n",
       "      <td>35</td>\n",
       "      <td>666</td>\n",
       "      <td>701</td>\n",
       "      <td>98.871650</td>\n",
       "      <td>95.007133</td>\n",
       "      <td>692</td>\n",
       "      <td>633</td>\n",
       "      <td>691.544180</td>\n",
       "      <td>97.602257</td>\n",
       "      <td>91.534282</td>\n",
       "    </tr>\n",
       "  </tbody>\n",
       "</table>\n",
       "</div>"
      ],
      "text/plain": [
       "  sample_name_unique sample_name  replicate P5_index P7_index barcode species  \\\n",
       "0              100p1        100p          1     D501     D701    l1Sp   human   \n",
       "1              100p2        100p          2     D501     D702    l2Sp   human   \n",
       "2              100p3        100p          3     D501     D703    l3Sp   human   \n",
       "\n",
       "         plot_group        hue_name hue_value  hue_order P5_index_seq  \\\n",
       "0  Charge-titration  Percent charge      100p          1     AGGCTATA   \n",
       "1  Charge-titration  Percent charge      100p          1     AGGCTATA   \n",
       "2  Charge-titration  Percent charge      100p          1     AGGCTATA   \n",
       "\n",
       "  P7_index_seq         barcode_seq     fastq_mate1_filename  \\\n",
       "0     ATTACTCG    GGCTGCCATGCGACTA  P1_R1_DSA-10k.fastq.bz2   \n",
       "1     TCCGGAGA   GGCTGCCATGCAAGTGC  P2_R1_DSA-10k.fastq.bz2   \n",
       "2     CGCTCATT  GGCTGCCATGCTGTCACG  P3_R1_DSA-10k.fastq.bz2   \n",
       "\n",
       "      fastq_mate2_filename  N_total  N_CC  N_CCA  N_CCA+CC  \\\n",
       "0  P1_R2_DSA-10k.fastq.bz2      944    38    902       940   \n",
       "1  P2_R2_DSA-10k.fastq.bz2      673    14    648       662   \n",
       "2  P3_R2_DSA-10k.fastq.bz2      709    35    666       701   \n",
       "\n",
       "   CCA+CC_percent_total  percent_CCA  N_after_trim  N_UMI_observed  \\\n",
       "0             99.576271    95.957447           931             866   \n",
       "1             98.365527    97.885196           663             622   \n",
       "2             98.871650    95.007133           692             633   \n",
       "\n",
       "   N_UMI_expected  percent_seqs_after_UMI_trim  percent_UMI_obs-vs-exp  \n",
       "0      930.174768                    98.622881               93.100784  \n",
       "1      662.581602                    98.514116               93.875230  \n",
       "2      691.544180                    97.602257               91.534282  "
      ]
     },
     "execution_count": 10,
     "metadata": {},
     "output_type": "execute_result"
    }
   ],
   "source": [
    "### Generate UMI stats and write final trimmed tRNA sequences ###\n",
    "# Note, the cDNA input amount is so large that it is very unlikely to sequence\n",
    "# the same PCR amplified DNA twice. Therefore, this processing step does not\n",
    "# attempt to merge possible UMI duplicates.\n",
    "UMItrim_obj = UMI_trim(dir_dict, sample_df)\n",
    "UMI_dir_abs = UMItrim_obj.make_dir(overwrite=True)\n",
    "# sample_df = UMItrim_obj.run_serial()\n",
    "sample_df = UMItrim_obj.run_parallel(n_jobs=4, overwrite=True)\n",
    "sample_df.head(3)"
   ]
  },
  {
   "cell_type": "code",
   "execution_count": 13,
   "metadata": {},
   "outputs": [
    {
     "name": "stdout",
     "output_type": "stream",
     "text": [
      "Using common sequences to prevent duplicated alignment.\n",
      "Running Swipe on:  100p3  100p1  100p4  100p2  85p4  85p3  85p2  70p2  85p1  70p1  70p3  55p1  55p2  55p4  40p1  70p4  40p2  40p3  25p2  55p3  25p3  10p1  25p1  25p4  10p4  10p2  40p4  10p3  0p2  0p_90m1  0p1  0p3  0p4  0p_90m4  0p_90m3  0p_90m2  common-seqs\n",
      "Collecting alignment statistics, from sample:  100p1  100p3  100p2  100p4  85p4  85p3  85p2  85p1  70p2  70p3  70p1  70p4  55p3  55p1  55p2  55p4  40p1  40p2  40p3  40p4  25p1  25p3  25p2  25p4  10p2  10p3  10p4  10p1  0p1  0p2  0p4  0p3  0p_90m1  0p_90m2  0p_90m4  0p_90m3  common-seqs"
     ]
    },
    {
     "data": {
      "text/html": [
       "<div>\n",
       "<style scoped>\n",
       "    .dataframe tbody tr th:only-of-type {\n",
       "        vertical-align: middle;\n",
       "    }\n",
       "\n",
       "    .dataframe tbody tr th {\n",
       "        vertical-align: top;\n",
       "    }\n",
       "\n",
       "    .dataframe thead th {\n",
       "        text-align: right;\n",
       "    }\n",
       "</style>\n",
       "<table border=\"1\" class=\"dataframe\">\n",
       "  <thead>\n",
       "    <tr style=\"text-align: right;\">\n",
       "      <th></th>\n",
       "      <th>sample_name_unique</th>\n",
       "      <th>sample_name</th>\n",
       "      <th>replicate</th>\n",
       "      <th>P5_index</th>\n",
       "      <th>P7_index</th>\n",
       "      <th>barcode</th>\n",
       "      <th>species</th>\n",
       "      <th>plot_group</th>\n",
       "      <th>hue_name</th>\n",
       "      <th>hue_value</th>\n",
       "      <th>hue_order</th>\n",
       "      <th>P5_index_seq</th>\n",
       "      <th>P7_index_seq</th>\n",
       "      <th>barcode_seq</th>\n",
       "      <th>fastq_mate1_filename</th>\n",
       "      <th>fastq_mate2_filename</th>\n",
       "      <th>N_total</th>\n",
       "      <th>N_CC</th>\n",
       "      <th>N_CCA</th>\n",
       "      <th>N_CCA+CC</th>\n",
       "      <th>CCA+CC_percent_total</th>\n",
       "      <th>percent_CCA</th>\n",
       "      <th>N_after_trim</th>\n",
       "      <th>N_UMI_observed</th>\n",
       "      <th>N_UMI_expected</th>\n",
       "      <th>percent_seqs_after_UMI_trim</th>\n",
       "      <th>percent_UMI_obs-vs-exp</th>\n",
       "      <th>N_mapped</th>\n",
       "      <th>percent_single_annotation</th>\n",
       "      <th>percent_multiple_annotation</th>\n",
       "      <th>Mapping_percent</th>\n",
       "    </tr>\n",
       "  </thead>\n",
       "  <tbody>\n",
       "    <tr>\n",
       "      <th>0</th>\n",
       "      <td>100p1</td>\n",
       "      <td>100p</td>\n",
       "      <td>1</td>\n",
       "      <td>D501</td>\n",
       "      <td>D701</td>\n",
       "      <td>l1Sp</td>\n",
       "      <td>human</td>\n",
       "      <td>Charge-titration</td>\n",
       "      <td>Percent charge</td>\n",
       "      <td>100p</td>\n",
       "      <td>1</td>\n",
       "      <td>AGGCTATA</td>\n",
       "      <td>ATTACTCG</td>\n",
       "      <td>GGCTGCCATGCGACTA</td>\n",
       "      <td>P1_R1_DSA-10k.fastq.bz2</td>\n",
       "      <td>P1_R2_DSA-10k.fastq.bz2</td>\n",
       "      <td>944</td>\n",
       "      <td>38</td>\n",
       "      <td>902</td>\n",
       "      <td>940</td>\n",
       "      <td>99.576271</td>\n",
       "      <td>95.957447</td>\n",
       "      <td>931</td>\n",
       "      <td>866</td>\n",
       "      <td>930.174768</td>\n",
       "      <td>98.622881</td>\n",
       "      <td>93.100784</td>\n",
       "      <td>920.0</td>\n",
       "      <td>74.565217</td>\n",
       "      <td>25.434783</td>\n",
       "      <td>98.818475</td>\n",
       "    </tr>\n",
       "    <tr>\n",
       "      <th>1</th>\n",
       "      <td>100p2</td>\n",
       "      <td>100p</td>\n",
       "      <td>2</td>\n",
       "      <td>D501</td>\n",
       "      <td>D702</td>\n",
       "      <td>l2Sp</td>\n",
       "      <td>human</td>\n",
       "      <td>Charge-titration</td>\n",
       "      <td>Percent charge</td>\n",
       "      <td>100p</td>\n",
       "      <td>1</td>\n",
       "      <td>AGGCTATA</td>\n",
       "      <td>TCCGGAGA</td>\n",
       "      <td>GGCTGCCATGCAAGTGC</td>\n",
       "      <td>P2_R1_DSA-10k.fastq.bz2</td>\n",
       "      <td>P2_R2_DSA-10k.fastq.bz2</td>\n",
       "      <td>673</td>\n",
       "      <td>14</td>\n",
       "      <td>648</td>\n",
       "      <td>662</td>\n",
       "      <td>98.365527</td>\n",
       "      <td>97.885196</td>\n",
       "      <td>663</td>\n",
       "      <td>622</td>\n",
       "      <td>662.581602</td>\n",
       "      <td>98.514116</td>\n",
       "      <td>93.875230</td>\n",
       "      <td>652.0</td>\n",
       "      <td>74.079755</td>\n",
       "      <td>25.920245</td>\n",
       "      <td>98.340875</td>\n",
       "    </tr>\n",
       "    <tr>\n",
       "      <th>2</th>\n",
       "      <td>100p3</td>\n",
       "      <td>100p</td>\n",
       "      <td>3</td>\n",
       "      <td>D501</td>\n",
       "      <td>D703</td>\n",
       "      <td>l3Sp</td>\n",
       "      <td>human</td>\n",
       "      <td>Charge-titration</td>\n",
       "      <td>Percent charge</td>\n",
       "      <td>100p</td>\n",
       "      <td>1</td>\n",
       "      <td>AGGCTATA</td>\n",
       "      <td>CGCTCATT</td>\n",
       "      <td>GGCTGCCATGCTGTCACG</td>\n",
       "      <td>P3_R1_DSA-10k.fastq.bz2</td>\n",
       "      <td>P3_R2_DSA-10k.fastq.bz2</td>\n",
       "      <td>709</td>\n",
       "      <td>35</td>\n",
       "      <td>666</td>\n",
       "      <td>701</td>\n",
       "      <td>98.871650</td>\n",
       "      <td>95.007133</td>\n",
       "      <td>692</td>\n",
       "      <td>633</td>\n",
       "      <td>691.544180</td>\n",
       "      <td>97.602257</td>\n",
       "      <td>91.534282</td>\n",
       "      <td>673.0</td>\n",
       "      <td>72.956909</td>\n",
       "      <td>27.043091</td>\n",
       "      <td>97.254335</td>\n",
       "    </tr>\n",
       "  </tbody>\n",
       "</table>\n",
       "</div>"
      ],
      "text/plain": [
       "  sample_name_unique sample_name  replicate P5_index P7_index barcode species  \\\n",
       "0              100p1        100p          1     D501     D701    l1Sp   human   \n",
       "1              100p2        100p          2     D501     D702    l2Sp   human   \n",
       "2              100p3        100p          3     D501     D703    l3Sp   human   \n",
       "\n",
       "         plot_group        hue_name hue_value  hue_order P5_index_seq  \\\n",
       "0  Charge-titration  Percent charge      100p          1     AGGCTATA   \n",
       "1  Charge-titration  Percent charge      100p          1     AGGCTATA   \n",
       "2  Charge-titration  Percent charge      100p          1     AGGCTATA   \n",
       "\n",
       "  P7_index_seq         barcode_seq     fastq_mate1_filename  \\\n",
       "0     ATTACTCG    GGCTGCCATGCGACTA  P1_R1_DSA-10k.fastq.bz2   \n",
       "1     TCCGGAGA   GGCTGCCATGCAAGTGC  P2_R1_DSA-10k.fastq.bz2   \n",
       "2     CGCTCATT  GGCTGCCATGCTGTCACG  P3_R1_DSA-10k.fastq.bz2   \n",
       "\n",
       "      fastq_mate2_filename  N_total  N_CC  N_CCA  N_CCA+CC  \\\n",
       "0  P1_R2_DSA-10k.fastq.bz2      944    38    902       940   \n",
       "1  P2_R2_DSA-10k.fastq.bz2      673    14    648       662   \n",
       "2  P3_R2_DSA-10k.fastq.bz2      709    35    666       701   \n",
       "\n",
       "   CCA+CC_percent_total  percent_CCA  N_after_trim  N_UMI_observed  \\\n",
       "0             99.576271    95.957447           931             866   \n",
       "1             98.365527    97.885196           663             622   \n",
       "2             98.871650    95.007133           692             633   \n",
       "\n",
       "   N_UMI_expected  percent_seqs_after_UMI_trim  percent_UMI_obs-vs-exp  \\\n",
       "0      930.174768                    98.622881               93.100784   \n",
       "1      662.581602                    98.514116               93.875230   \n",
       "2      691.544180                    97.602257               91.534282   \n",
       "\n",
       "   N_mapped  percent_single_annotation  percent_multiple_annotation  \\\n",
       "0     920.0                  74.565217                    25.434783   \n",
       "1     652.0                  74.079755                    25.920245   \n",
       "2     673.0                  72.956909                    27.043091   \n",
       "\n",
       "   Mapping_percent  \n",
       "0        98.818475  \n",
       "1        98.340875  \n",
       "2        97.254335  "
      ]
     },
     "execution_count": 13,
     "metadata": {},
     "output_type": "execute_result"
    }
   ],
   "source": [
    "### Align reads to database of reference tRNAs ###\n",
    "align_obj = SWIPE_align(dir_dict, tRNA_database, sample_df, SWIPE_score_mat, gap_penalty=6, extension_penalty=1, min_score_align=20, common_seqs=common_seqs)\n",
    "align_dir_abs = align_obj.make_dir(overwrite=True)\n",
    "# sample_df = align_obj.run_serial(dry_run=False, verbose=False, overwrite=False)\n",
    "sample_df = align_obj.run_parallel(n_jobs=4)\n",
    "sample_df.head(3)"
   ]
  },
  {
   "cell_type": "code",
   "execution_count": null,
   "metadata": {},
   "outputs": [],
   "source": []
  },
  {
   "cell_type": "code",
   "execution_count": null,
   "metadata": {},
   "outputs": [],
   "source": []
  },
  {
   "cell_type": "code",
   "execution_count": null,
   "metadata": {},
   "outputs": [],
   "source": []
  },
  {
   "cell_type": "code",
   "execution_count": null,
   "metadata": {},
   "outputs": [],
   "source": []
  },
  {
   "cell_type": "code",
   "execution_count": null,
   "metadata": {},
   "outputs": [],
   "source": []
  },
  {
   "cell_type": "code",
   "execution_count": 30,
   "metadata": {},
   "outputs": [
    {
     "name": "stdout",
     "output_type": "stream",
     "text": [
      "Using common sequences to prevent duplicated alignment.\n",
      "Collecting stats from:  100p1  100p2  100p3  100p4  85p2  85p3  85p4  85p1  70p2  70p1  70p3  70p4  55p2  55p1  55p3  55p4  40p1  40p2  40p4  40p3  25p1  25p2  25p4  25p3  10p2  10p3  10p1  10p4  0p1  0p2  0p3  0p4  0p_90m3  0p_90m2  0p_90m1  0p_90m4"
     ]
    },
    {
     "data": {
      "text/html": [
       "<div>\n",
       "<style scoped>\n",
       "    .dataframe tbody tr th:only-of-type {\n",
       "        vertical-align: middle;\n",
       "    }\n",
       "\n",
       "    .dataframe tbody tr th {\n",
       "        vertical-align: top;\n",
       "    }\n",
       "\n",
       "    .dataframe thead th {\n",
       "        text-align: right;\n",
       "    }\n",
       "</style>\n",
       "<table border=\"1\" class=\"dataframe\">\n",
       "  <thead>\n",
       "    <tr style=\"text-align: right;\">\n",
       "      <th></th>\n",
       "      <th>sample_name_unique</th>\n",
       "      <th>sample_name</th>\n",
       "      <th>replicate</th>\n",
       "      <th>barcode</th>\n",
       "      <th>tRNA_annotation</th>\n",
       "      <th>tRNA_annotation_len</th>\n",
       "      <th>unique_annotation</th>\n",
       "      <th>align_3p_nt</th>\n",
       "      <th>codon</th>\n",
       "      <th>anticodon</th>\n",
       "      <th>amino_acid</th>\n",
       "      <th>count</th>\n",
       "    </tr>\n",
       "  </thead>\n",
       "  <tbody>\n",
       "    <tr>\n",
       "      <th>0</th>\n",
       "      <td>0p1</td>\n",
       "      <td>0p</td>\n",
       "      <td>1</td>\n",
       "      <td>l5Sp</td>\n",
       "      <td>Homo_sapiens_mito_tRNA-Arg-TCG</td>\n",
       "      <td>68</td>\n",
       "      <td>True</td>\n",
       "      <td>C</td>\n",
       "      <td>CGA</td>\n",
       "      <td>TCG</td>\n",
       "      <td>Arg</td>\n",
       "      <td>2</td>\n",
       "    </tr>\n",
       "    <tr>\n",
       "      <th>1</th>\n",
       "      <td>0p1</td>\n",
       "      <td>0p</td>\n",
       "      <td>1</td>\n",
       "      <td>l5Sp</td>\n",
       "      <td>Homo_sapiens_mito_tRNA-Asp-GTC</td>\n",
       "      <td>71</td>\n",
       "      <td>True</td>\n",
       "      <td>C</td>\n",
       "      <td>GAC</td>\n",
       "      <td>GTC</td>\n",
       "      <td>Asp</td>\n",
       "      <td>2</td>\n",
       "    </tr>\n",
       "    <tr>\n",
       "      <th>2</th>\n",
       "      <td>0p1</td>\n",
       "      <td>0p</td>\n",
       "      <td>1</td>\n",
       "      <td>l5Sp</td>\n",
       "      <td>Homo_sapiens_mito_tRNA-Cys-GCA</td>\n",
       "      <td>69</td>\n",
       "      <td>True</td>\n",
       "      <td>C</td>\n",
       "      <td>UGC</td>\n",
       "      <td>GCA</td>\n",
       "      <td>Cys</td>\n",
       "      <td>1</td>\n",
       "    </tr>\n",
       "  </tbody>\n",
       "</table>\n",
       "</div>"
      ],
      "text/plain": [
       "  sample_name_unique sample_name  replicate barcode  \\\n",
       "0                0p1          0p          1    l5Sp   \n",
       "1                0p1          0p          1    l5Sp   \n",
       "2                0p1          0p          1    l5Sp   \n",
       "\n",
       "                  tRNA_annotation  tRNA_annotation_len  unique_annotation  \\\n",
       "0  Homo_sapiens_mito_tRNA-Arg-TCG                   68               True   \n",
       "1  Homo_sapiens_mito_tRNA-Asp-GTC                   71               True   \n",
       "2  Homo_sapiens_mito_tRNA-Cys-GCA                   69               True   \n",
       "\n",
       "  align_3p_nt codon anticodon amino_acid  count  \n",
       "0           C   CGA       TCG        Arg      2  \n",
       "1           C   GAC       GTC        Asp      2  \n",
       "2           C   UGC       GCA        Cys      1  "
      ]
     },
     "execution_count": 30,
     "metadata": {},
     "output_type": "execute_result"
    }
   ],
   "source": [
    "### Collect alignment statistics ###\n",
    "stats_obj = STATS_collection(dir_dict, tRNA_data, sample_df, common_seqs=common_seqs)\n",
    "stats_dir_abs = stats_obj.make_dir(overwrite=True)\n",
    "# stats_df = stats_obj.run_serial()\n",
    "stats_df = stats_obj.run_parallel(n_jobs=4)\n",
    "# The dataframe returned is the \"ALL_stats_aggregate_filtered.csv\"\n",
    "# which is the aggregated data filtered to contain only the\n",
    "# most relevant columnns and requiring the 3' must be covered\n",
    "# and have no 3' non-template bases.\n",
    "# The CSV file output \"ALL_stats_aggregate.csv\" is the data\n",
    "# aggregated based on all values identical except\n",
    "# readID, 5p_UMI and 3p_BC. I.e. every information, except\n",
    "# the UMI seequence is maintained in the aggregated CSV.\n",
    "stats_df.head(3)"
   ]
  },
  {
   "cell_type": "code",
   "execution_count": null,
   "metadata": {},
   "outputs": [],
   "source": []
  },
  {
   "cell_type": "code",
   "execution_count": null,
   "metadata": {},
   "outputs": [],
   "source": []
  },
  {
   "cell_type": "code",
   "execution_count": null,
   "metadata": {},
   "outputs": [],
   "source": []
  },
  {
   "cell_type": "code",
   "execution_count": null,
   "metadata": {},
   "outputs": [],
   "source": []
  },
  {
   "cell_type": "code",
   "execution_count": null,
   "metadata": {},
   "outputs": [],
   "source": []
  },
  {
   "cell_type": "code",
   "execution_count": null,
   "metadata": {},
   "outputs": [],
   "source": []
  },
  {
   "cell_type": "code",
   "execution_count": null,
   "metadata": {},
   "outputs": [],
   "source": []
  },
  {
   "cell_type": "code",
   "execution_count": 46,
   "metadata": {},
   "outputs": [
    {
     "name": "stdout",
     "output_type": "stream",
     "text": [
      "Now plotting sample:  100p1  100p2  100p3  100p4"
     ]
    }
   ],
   "source": [
    "### Generate standard tRNAseq data plots ###\n",
    "plot_obj = TRNA_plot(dir_dict, sample_df, pull_default=True)\n",
    "plotting_dir_abs = plot_obj.make_dir(overwrite=True)\n",
    "\n",
    "# Plot UMI nucleotide content logo per sample:\n",
    "# plot_obj.plot_UMI_logo()\n",
    "\n",
    "# Plot the 5p non-template nucleotide logo per sample,\n",
    "# using only those at, or below, the legth determined as a percentile:\n",
    "plot_obj.plot_non_temp('5p', '_5p-non-template_logo', seq_len_percentile=99)\n",
    "\n",
    "# 3p non-template nucleotides are more rare, therefore 99.9 percentile:\n",
    "# plot_obj.plot_non_temp('3p', '_3p-non-template_logo', seq_len_percentile=99.9)\n",
    "\n",
    "# 3p non-template nucleotides, but require 3p coverage.\n",
    "# This is more likely to reflect either:\n",
    "# 1) Erronous CCA addition, or 2) additional bases in the adapter.\n",
    "# plot_obj.plot_non_temp('3p', '_3p-non-template_3p-cover_logo', seq_len_percentile=99.9, _3p_cover=True)\n",
    "\n",
    "# Plot the 5p to 3p coverage for each amino acid:\n",
    "# plot_obj.plot_coverage(compartment='cyto', plot_type='needle', aa_norm=False, plot_name='cov_plot_cyto_needle')\n",
    "# plot_obj.plot_coverage(compartment='mito', plot_type='needle', aa_norm=False, plot_name='cov_plot_mito_needle')\n",
    "# plot_obj.plot_coverage(compartment='cyto', plot_type='behrens', aa_norm=False, plot_name='cov_plot_cyto_behrens')\n",
    "# plot_obj.plot_coverage(compartment='mito', plot_type='behrens', aa_norm=False, plot_name='cov_plot_mito_behrens')\n",
    "plot_obj.plot_coverage(compartment='cyto', plot_type='needle', aa_norm=False, plot_name='cov_plot_mito_needle_100p', sample_list=['100p1', '100p2', '100p3', '100p4'])\n",
    "\n"
   ]
  },
  {
   "cell_type": "code",
   "execution_count": null,
   "metadata": {},
   "outputs": [],
   "source": []
  },
  {
   "cell_type": "code",
   "execution_count": null,
   "metadata": {},
   "outputs": [],
   "source": []
  },
  {
   "cell_type": "code",
   "execution_count": null,
   "metadata": {},
   "outputs": [],
   "source": []
  },
  {
   "cell_type": "code",
   "execution_count": null,
   "metadata": {},
   "outputs": [],
   "source": []
  },
  {
   "cell_type": "code",
   "execution_count": null,
   "metadata": {},
   "outputs": [],
   "source": []
  },
  {
   "cell_type": "code",
   "execution_count": 221,
   "metadata": {},
   "outputs": [
    {
     "data": {
      "text/html": [
       "<div>\n",
       "<style scoped>\n",
       "    .dataframe tbody tr th:only-of-type {\n",
       "        vertical-align: middle;\n",
       "    }\n",
       "\n",
       "    .dataframe tbody tr th {\n",
       "        vertical-align: top;\n",
       "    }\n",
       "\n",
       "    .dataframe thead th {\n",
       "        text-align: right;\n",
       "    }\n",
       "</style>\n",
       "<table border=\"1\" class=\"dataframe\">\n",
       "  <thead>\n",
       "    <tr style=\"text-align: right;\">\n",
       "      <th></th>\n",
       "      <th>sample_name_unique</th>\n",
       "      <th>sample_name</th>\n",
       "      <th>replicate</th>\n",
       "      <th>barcode</th>\n",
       "      <th>tRNA_annotation</th>\n",
       "      <th>align_score</th>\n",
       "      <th>unique_annotation</th>\n",
       "      <th>tRNA_annotation_len</th>\n",
       "      <th>align_5p_idx</th>\n",
       "      <th>align_3p_idx</th>\n",
       "      <th>align_5p_nt</th>\n",
       "      <th>align_3p_nt</th>\n",
       "      <th>5p_cover</th>\n",
       "      <th>3p_cover</th>\n",
       "      <th>5p_non-temp</th>\n",
       "      <th>3p_non-temp</th>\n",
       "      <th>codon</th>\n",
       "      <th>anticodon</th>\n",
       "      <th>amino_acid</th>\n",
       "      <th>count</th>\n",
       "      <th>single_codon</th>\n",
       "      <th>mito_codon</th>\n",
       "      <th>Ecoli_ctr</th>\n",
       "      <th>AA_letter</th>\n",
       "    </tr>\n",
       "  </thead>\n",
       "  <tbody>\n",
       "    <tr>\n",
       "      <th>0</th>\n",
       "      <td>100p1</td>\n",
       "      <td>100p</td>\n",
       "      <td>1</td>\n",
       "      <td>l1Sp</td>\n",
       "      <td>Homo_sapiens_mito_tRNA-Arg-TCG</td>\n",
       "      <td>64</td>\n",
       "      <td>True</td>\n",
       "      <td>68</td>\n",
       "      <td>2</td>\n",
       "      <td>68</td>\n",
       "      <td>G</td>\n",
       "      <td>A</td>\n",
       "      <td>False</td>\n",
       "      <td>True</td>\n",
       "      <td></td>\n",
       "      <td></td>\n",
       "      <td>CGA</td>\n",
       "      <td>TCG</td>\n",
       "      <td>Arg</td>\n",
       "      <td>1</td>\n",
       "      <td>True</td>\n",
       "      <td>True</td>\n",
       "      <td>False</td>\n",
       "      <td>R</td>\n",
       "    </tr>\n",
       "    <tr>\n",
       "      <th>1</th>\n",
       "      <td>100p1</td>\n",
       "      <td>100p</td>\n",
       "      <td>1</td>\n",
       "      <td>l1Sp</td>\n",
       "      <td>Homo_sapiens_mito_tRNA-Asn-GTT</td>\n",
       "      <td>70</td>\n",
       "      <td>True</td>\n",
       "      <td>76</td>\n",
       "      <td>1</td>\n",
       "      <td>76</td>\n",
       "      <td>T</td>\n",
       "      <td>A</td>\n",
       "      <td>True</td>\n",
       "      <td>True</td>\n",
       "      <td>TTT</td>\n",
       "      <td></td>\n",
       "      <td>AAC</td>\n",
       "      <td>GTT</td>\n",
       "      <td>Asn</td>\n",
       "      <td>1</td>\n",
       "      <td>True</td>\n",
       "      <td>True</td>\n",
       "      <td>False</td>\n",
       "      <td>N</td>\n",
       "    </tr>\n",
       "  </tbody>\n",
       "</table>\n",
       "</div>"
      ],
      "text/plain": [
       "  sample_name_unique sample_name  replicate barcode  \\\n",
       "0              100p1        100p          1    l1Sp   \n",
       "1              100p1        100p          1    l1Sp   \n",
       "\n",
       "                  tRNA_annotation  align_score  unique_annotation  \\\n",
       "0  Homo_sapiens_mito_tRNA-Arg-TCG           64               True   \n",
       "1  Homo_sapiens_mito_tRNA-Asn-GTT           70               True   \n",
       "\n",
       "   tRNA_annotation_len  align_5p_idx  align_3p_idx align_5p_nt align_3p_nt  \\\n",
       "0                   68             2            68           G           A   \n",
       "1                   76             1            76           T           A   \n",
       "\n",
       "   5p_cover  3p_cover 5p_non-temp 3p_non-temp codon anticodon amino_acid  \\\n",
       "0     False      True                           CGA       TCG        Arg   \n",
       "1      True      True         TTT               AAC       GTT        Asn   \n",
       "\n",
       "   count  single_codon  mito_codon  Ecoli_ctr AA_letter  \n",
       "0      1          True        True      False         R  \n",
       "1      1          True        True      False         N  "
      ]
     },
     "execution_count": 221,
     "metadata": {},
     "output_type": "execute_result"
    }
   ],
   "source": [
    "#agg_df = pd.read_csv('/Users/krdav/Google Drive/MCB/Sullivan_lab/tRNA-charge-seq/projects/tRNAseq_third-gen/data/stats_collection/ALL_stats_aggregate.csv', keep_default_na=False)\n",
    "agg_df = copy.deepcopy(plot_obj.all_stats)\n",
    "agg_df.head(2)"
   ]
  },
  {
   "cell_type": "code",
   "execution_count": null,
   "metadata": {},
   "outputs": [],
   "source": []
  },
  {
   "cell_type": "code",
   "execution_count": null,
   "metadata": {},
   "outputs": [],
   "source": []
  },
  {
   "cell_type": "code",
   "execution_count": null,
   "metadata": {},
   "outputs": [],
   "source": []
  },
  {
   "cell_type": "code",
   "execution_count": null,
   "metadata": {},
   "outputs": [],
   "source": []
  },
  {
   "cell_type": "code",
   "execution_count": null,
   "metadata": {},
   "outputs": [],
   "source": []
  },
  {
   "cell_type": "code",
   "execution_count": null,
   "metadata": {},
   "outputs": [],
   "source": []
  },
  {
   "cell_type": "code",
   "execution_count": null,
   "metadata": {},
   "outputs": [],
   "source": []
  },
  {
   "cell_type": "code",
   "execution_count": null,
   "metadata": {},
   "outputs": [],
   "source": [
    "# Use the TM_analysis to find the most mutated positions in the tRNA transcripts.\n",
    "# Then generate a new version of the tRNA transcripts database with these positions masked\n",
    "# Then, using the masked sequences, re-run the alignment, stats collected and plotting"
   ]
  },
  {
   "cell_type": "code",
   "execution_count": null,
   "metadata": {},
   "outputs": [],
   "source": []
  },
  {
   "cell_type": "code",
   "execution_count": 89,
   "metadata": {},
   "outputs": [],
   "source": [
    "class TM_analysis:\n",
    "    '''\n",
    "    This class is used generate statistics over the observed\n",
    "    transcript mutations i.e. the mismatches and gaps in the\n",
    "    alignment between a read and its tRNA transcript.\n",
    "    '''\n",
    "    def __init__(self, dir_dict, sample_df, tRNA_database, pull_default=False):\n",
    "        # Input:\n",
    "        self.sample_df, self.tRNA_database = sample_df, tRNA_database\n",
    "        self.dir_dict = dir_dict\n",
    "        self.char_str = 'ACGTUN-'\n",
    "        self.char_list = [c for c in self.char_str]\n",
    "\n",
    "        self.stats_dir_abs = '{}/{}/{}'.format(self.dir_dict['NBdir'], self.dir_dict['data_dir'], self.dir_dict['stats_dir'])\n",
    "        self.align_dir_abs = '{}/{}/{}'.format(self.dir_dict['NBdir'], self.dir_dict['data_dir'], self.dir_dict['align_dir'])\n",
    "        self.UMI_dir_abs = '{}/{}/{}'.format(self.dir_dict['NBdir'], self.dir_dict['data_dir'], self.dir_dict['UMI_dir'])\n",
    "        # Attempt to load sample_df from default path:\n",
    "        if pull_default:\n",
    "            sample_df_path = '{}/{}'.format(self.align_dir_abs, 'sample_stats.xlsx')\n",
    "            if os.path.isfile(sample_df_path):\n",
    "                self.sample_df = pd.read_excel(sample_df_path, index_col=0)\n",
    "            else:\n",
    "                raise Exception('Default \"sample_df\" could not be found: {}'.format(sample_df_path))\n",
    "\n",
    "        # Check files exists before starting:\n",
    "        for sp in tRNA_database:\n",
    "            assert(os.path.exists(tRNA_database[sp]))\n",
    "        for _, row in self.sample_df.iterrows():\n",
    "            stats_fnam = '{}/{}_stats.csv.bz2'.format(self.stats_dir_abs, row['sample_name_unique'])\n",
    "            assert(os.path.exists(stats_fnam))\n",
    "\n",
    "        # Dictionary to store mutation info for each transcript:\n",
    "        self.tr_muts = dict()\n",
    "        # Read the tRNA transcripts:\n",
    "        for species in tRNA_database:\n",
    "            self.tr_muts[species] = dict()\n",
    "            for record in SeqIO.parse(tRNA_database[species], \"fasta\"):\n",
    "                self.tr_muts[species][record.id] = dict()\n",
    "                self.tr_muts[species][record.id]['seq'] = str(record.seq)\n",
    "                self.tr_muts[species][record.id]['seq_len'] = len(record.seq)\n",
    "                # Position specific count matrix:\n",
    "                self.tr_muts[species][record.id]['PSCM'] = list()\n",
    "\n",
    "                \n",
    "                \n",
    "                \n",
    "                \n",
    "            \n",
    "    def make_dir(self, overwrite=True):\n",
    "        # Create folder for files:\n",
    "        self.TM_dir_abs = '{}/{}/{}'.format(self.dir_dict['NBdir'], self.dir_dict['data_dir'], self.dir_dict['TM_dir'])\n",
    "        try:\n",
    "            os.mkdir(self.TM_dir_abs)\n",
    "        except:\n",
    "            if overwrite:\n",
    "                shutil.rmtree(self.TM_dir_abs)\n",
    "                os.mkdir(self.TM_dir_abs)\n",
    "            else:\n",
    "                print('Folder exists and overwrite set to false... Doing nothing.')\n",
    "        return(self.TM_dir_abs)\n",
    "\n",
    "\n",
    "\n",
    "    def find_muts(self, match_score=1, mismatch_score=-1, open_gap_score=-2, extend_gap_score=-1, n_jobs=4, verbose=True):\n",
    "        self.verbose = verbose\n",
    "        if self.verbose:\n",
    "            print('Collecting stats from:', end='')\n",
    "\n",
    "        self.match_score, self.mismatch_score, self.open_gap_score, self.extend_gap_score = match_score, mismatch_score, open_gap_score, extend_gap_score\n",
    "        \n",
    "        # Find mutations in the transcripts for each file:\n",
    "        data = list(self.sample_df.iterrows())\n",
    "        with WorkerPool(n_jobs=n_jobs) as pool:\n",
    "            results = pool.map(self.__collect_transcript_muts, data)\n",
    "        self.__fill_tr_muts(results)\n",
    "\n",
    "    def __collect_transcript_muts(self, index, row):\n",
    "        if self.verbose:\n",
    "            print('  {}'.format(row['sample_name_unique']), end='')\n",
    "\n",
    "        species = row['species']\n",
    "        # Dictionary to store mutation info for each transcript:\n",
    "        tr_muts_sp = copy.deepcopy(self.tr_muts)\n",
    "        \n",
    "        # Initiate the aligner:\n",
    "        aligner = Align.PairwiseAligner()\n",
    "        aligner.mode = 'local'\n",
    "        aligner.match_score = self.match_score\n",
    "        aligner.mismatch_score = self.mismatch_score\n",
    "        aligner.open_gap_score = self.open_gap_score\n",
    "        aligner.extend_gap_score = self.extend_gap_score\n",
    "\n",
    "        # Deduplicate and count the input reads for alignment:\n",
    "        trimmed_fn = '{}/{}_UMI-trimmed.fastq.bz2'.format(self.UMI_dir_abs, row['sample_name_unique'])\n",
    "        dedup_seq_count = dict()\n",
    "        with bz2.open(trimmed_fn, 'rt') as fh_bz:\n",
    "            for UMIread in SeqIO.parse(fh_bz, \"fastq\"):\n",
    "                seq = str(UMIread.seq)\n",
    "                if seq in dedup_seq_count:\n",
    "                    dedup_seq_count[seq]['count'] += 1\n",
    "                else:\n",
    "                    dedup_seq_count[seq] = dict()\n",
    "                    dedup_seq_count[seq]['count'] = 1\n",
    "                    # One id is enough, the other will have the same alignment:\n",
    "                    dedup_seq_count[seq]['id'] = UMIread.id\n",
    "\n",
    "        # Read the stats file to get the old alignment annotations:\n",
    "        stats_fnam = '{}/{}_stats.csv.bz2'.format(self.stats_dir_abs, row['sample_name_unique'])\n",
    "        with bz2.open(stats_fnam, 'rt', encoding=\"utf-8\") as stats_fh:\n",
    "            sample_stats = pd.read_csv(stats_fh, keep_default_na=False)\n",
    "        ID2idx = {readID: i for i, readID in enumerate(sample_stats['readID'])}\n",
    "\n",
    "        # To keep each read having weight 1\n",
    "        weight_dict = {anno: [] for anno in tr_muts_sp[species]}\n",
    "        char_list = list() # \n",
    "        for seq in dedup_seq_count:\n",
    "            readID = dedup_seq_count[seq]['id']\n",
    "            count = dedup_seq_count[seq]['count']\n",
    "            if readID in ID2idx:\n",
    "                idx = ID2idx[readID]\n",
    "            else:\n",
    "                # Skip unaligned reads:\n",
    "                continue\n",
    "            stats_row = sample_stats.loc[idx, :]\n",
    "            if not stats_row['3p_cover']:\n",
    "                # Skip reads that do not have 3p coverage:\n",
    "                continue\n",
    "            anno_list = stats_row['tRNA_annotation'].split('@')\n",
    "            for anno in anno_list:\n",
    "                # Generate alignments:\n",
    "                target = tr_muts_sp[species][anno]['seq']\n",
    "                alignments = aligner.align(target, seq)\n",
    "                # If multiple alignments with the same score these should be weighted\n",
    "                # so one read contributes with one observation:\n",
    "                weight = 1.0 / len(alignments) * dedup_seq_count[seq]['count']\n",
    "                for alignment in alignments:\n",
    "                    weight_dict[anno].append(weight)\n",
    "                    # Initiate the character array:\n",
    "                    char_ar = np.empty(len(target), dtype='<U1')\n",
    "                    # Extract the alignment coordinates:\n",
    "                    t_cor, q_cor = alignment.aligned\n",
    "                    if (t_cor[-1, -1] + 1) < tr_muts_sp[species][anno]['seq_len']:\n",
    "                        raise Exception('Sequence should be 3p aligned but appears not to be...')\n",
    "\n",
    "                    # Find gaps:\n",
    "                    gap_idx = list()\n",
    "                    for i in range(1, len(t_cor)):\n",
    "                        for j in range(t_cor[i][0] - t_cor[i-1][1]):\n",
    "                            char_ar[t_cor[i-1][1] + j] = '-'\n",
    "\n",
    "                    # Find mismatches/mutations:\n",
    "                    mut_idx = list()\n",
    "                    for tran, qran in zip(t_cor, q_cor):\n",
    "                        for ti, qi in zip(range(*tran), range(*qran)):\n",
    "                            char_ar[ti] = seq[qi]\n",
    "                    tr_muts_sp[species][anno]['PSCM'].append(char_ar)\n",
    "\n",
    "        # Convert the character arrays to observations:\n",
    "        tr_muts_sp[species] = self.__count_char_matrix(tr_muts_sp[species], weight_dict)\n",
    "        return(tr_muts_sp)\n",
    "\n",
    "    def __count_char_matrix(self, tr_muts_sp, weight_dict):\n",
    "        for anno in tr_muts_sp:\n",
    "            # Skip if no observations:\n",
    "            if len(tr_muts_sp[anno]['PSCM']) == 0:\n",
    "                continue\n",
    "            char_matrix = np.array(tr_muts_sp[anno]['PSCM'])\n",
    "            # Count matrix (len tRNA, number char):\n",
    "            char_count = np.zeros((char_matrix.shape[1], len(self.char_list)))\n",
    "            # For each position in the transcript:\n",
    "            for pos in range(char_matrix.shape[1]):\n",
    "                # Sum the character observations:\n",
    "                for char_i, char in enumerate(self.char_list):\n",
    "                    char_count[pos, char_i] = sum((char_matrix[:, pos] == char)*weight_dict[anno])\n",
    "\n",
    "            # Turn to dataframe:\n",
    "            count_df = pd.DataFrame(char_count, columns=self.char_list)\n",
    "            # col_mask = count_df.sum() != 0\n",
    "            # count_df = count_df.loc[:, col_mask].copy()\n",
    "            tr_muts_sp[anno]['PSCM'] = count_df\n",
    "        return(tr_muts_sp)\n",
    "    \n",
    "    def __fill_tr_muts(self, results):\n",
    "        for res in results:\n",
    "            species = list(res.keys())[0]\n",
    "            for anno in res[species]:\n",
    "                # Skip if no observations:\n",
    "                if len(res[species][anno]['PSCM']) == 0:\n",
    "                    continue\n",
    "                # Fill the dictionary for all samples:\n",
    "                if len(self.tr_muts[species][anno]['PSCM']) == 0:\n",
    "                    self.tr_muts[species][anno]['PSCM'] = res[species][anno]['PSCM']\n",
    "                else:\n",
    "                    self.tr_muts[species][anno]['PSCM'] += res[species][anno]['PSCM']\n",
    "            \n",
    "            \n",
    "            \n",
    "        "
   ]
  },
  {
   "cell_type": "code",
   "execution_count": null,
   "metadata": {},
   "outputs": [],
   "source": []
  },
  {
   "cell_type": "code",
   "execution_count": 90,
   "metadata": {},
   "outputs": [
    {
     "data": {
      "text/plain": [
       "\"\\n                        print(anno)\\n                        print(alignment.aligned)\\n                        print(t_cor[-1, -1])\\n                        print(tr_muts[tr_id]['seq_len'])\\n                        print(alignment)\\n\""
      ]
     },
     "execution_count": 90,
     "metadata": {},
     "output_type": "execute_result"
    }
   ],
   "source": [
    "\"\"\"\n",
    "                        print(anno)\n",
    "                        print(alignment.aligned)\n",
    "                        print(t_cor[-1, -1])\n",
    "                        print(tr_muts[tr_id]['seq_len'])\n",
    "                        print(alignment)\n",
    "\"\"\""
   ]
  },
  {
   "cell_type": "code",
   "execution_count": 91,
   "metadata": {},
   "outputs": [
    {
     "name": "stdout",
     "output_type": "stream",
     "text": [
      "Collecting stats from:  100p1  100p3  100p4  100p2  85p4  85p3  85p2  85p1  70p2  70p1  70p3  70p4  55p2  55p1  55p3  55p4  40p1  40p2  40p3  40p4  25p1  25p2  10p2  25p3  10p4  25p4  0p2  10p3  10p1  0p1  0p3  0p4  0p_90m1  0p_90m3  0p_90m2  0p_90m4"
     ]
    }
   ],
   "source": [
    "### Perform transcript mutation analysis ###\n",
    "TM_obj = TM_analysis(dir_dict, sample_df, tRNA_database, pull_default=True)\n",
    "TM_dir_abs = TM_obj.make_dir(overwrite=True)\n",
    "\n",
    "TM_obj.find_muts(n_jobs=4)\n"
   ]
  },
  {
   "cell_type": "code",
   "execution_count": null,
   "metadata": {},
   "outputs": [],
   "source": []
  },
  {
   "cell_type": "code",
   "execution_count": null,
   "metadata": {},
   "outputs": [],
   "source": [
    "### Fix 3p problem arising from 3p cleavage"
   ]
  },
  {
   "cell_type": "code",
   "execution_count": 98,
   "metadata": {},
   "outputs": [
    {
     "data": {
      "text/html": [
       "<div>\n",
       "<style scoped>\n",
       "    .dataframe tbody tr th:only-of-type {\n",
       "        vertical-align: middle;\n",
       "    }\n",
       "\n",
       "    .dataframe tbody tr th {\n",
       "        vertical-align: top;\n",
       "    }\n",
       "\n",
       "    .dataframe thead th {\n",
       "        text-align: right;\n",
       "    }\n",
       "</style>\n",
       "<table border=\"1\" class=\"dataframe\">\n",
       "  <thead>\n",
       "    <tr style=\"text-align: right;\">\n",
       "      <th></th>\n",
       "      <th>A</th>\n",
       "      <th>C</th>\n",
       "      <th>G</th>\n",
       "      <th>T</th>\n",
       "      <th>U</th>\n",
       "      <th>N</th>\n",
       "      <th>-</th>\n",
       "    </tr>\n",
       "  </thead>\n",
       "  <tbody>\n",
       "    <tr>\n",
       "      <th>0</th>\n",
       "      <td>38.0</td>\n",
       "      <td>0.0</td>\n",
       "      <td>0.0</td>\n",
       "      <td>0.0</td>\n",
       "      <td>0.0</td>\n",
       "      <td>0.0</td>\n",
       "      <td>0.0</td>\n",
       "    </tr>\n",
       "    <tr>\n",
       "      <th>1</th>\n",
       "      <td>0.0</td>\n",
       "      <td>39.0</td>\n",
       "      <td>0.0</td>\n",
       "      <td>0.0</td>\n",
       "      <td>0.0</td>\n",
       "      <td>0.0</td>\n",
       "      <td>0.0</td>\n",
       "    </tr>\n",
       "    <tr>\n",
       "      <th>2</th>\n",
       "      <td>0.0</td>\n",
       "      <td>0.0</td>\n",
       "      <td>0.0</td>\n",
       "      <td>40.0</td>\n",
       "      <td>0.0</td>\n",
       "      <td>0.0</td>\n",
       "      <td>0.0</td>\n",
       "    </tr>\n",
       "    <tr>\n",
       "      <th>3</th>\n",
       "      <td>0.0</td>\n",
       "      <td>40.0</td>\n",
       "      <td>0.0</td>\n",
       "      <td>0.0</td>\n",
       "      <td>0.0</td>\n",
       "      <td>0.0</td>\n",
       "      <td>0.0</td>\n",
       "    </tr>\n",
       "    <tr>\n",
       "      <th>4</th>\n",
       "      <td>0.0</td>\n",
       "      <td>0.0</td>\n",
       "      <td>0.0</td>\n",
       "      <td>39.6</td>\n",
       "      <td>0.0</td>\n",
       "      <td>0.0</td>\n",
       "      <td>0.4</td>\n",
       "    </tr>\n",
       "    <tr>\n",
       "      <th>...</th>\n",
       "      <td>...</td>\n",
       "      <td>...</td>\n",
       "      <td>...</td>\n",
       "      <td>...</td>\n",
       "      <td>...</td>\n",
       "      <td>...</td>\n",
       "      <td>...</td>\n",
       "    </tr>\n",
       "    <tr>\n",
       "      <th>66</th>\n",
       "      <td>0.0</td>\n",
       "      <td>0.0</td>\n",
       "      <td>0.0</td>\n",
       "      <td>58.0</td>\n",
       "      <td>0.0</td>\n",
       "      <td>0.0</td>\n",
       "      <td>0.0</td>\n",
       "    </tr>\n",
       "    <tr>\n",
       "      <th>67</th>\n",
       "      <td>58.0</td>\n",
       "      <td>0.0</td>\n",
       "      <td>0.0</td>\n",
       "      <td>0.0</td>\n",
       "      <td>0.0</td>\n",
       "      <td>0.0</td>\n",
       "      <td>0.0</td>\n",
       "    </tr>\n",
       "    <tr>\n",
       "      <th>68</th>\n",
       "      <td>0.0</td>\n",
       "      <td>58.0</td>\n",
       "      <td>0.0</td>\n",
       "      <td>0.0</td>\n",
       "      <td>0.0</td>\n",
       "      <td>0.0</td>\n",
       "      <td>0.0</td>\n",
       "    </tr>\n",
       "    <tr>\n",
       "      <th>69</th>\n",
       "      <td>0.0</td>\n",
       "      <td>58.0</td>\n",
       "      <td>0.0</td>\n",
       "      <td>0.0</td>\n",
       "      <td>0.0</td>\n",
       "      <td>0.0</td>\n",
       "      <td>0.0</td>\n",
       "    </tr>\n",
       "    <tr>\n",
       "      <th>70</th>\n",
       "      <td>26.0</td>\n",
       "      <td>0.0</td>\n",
       "      <td>0.0</td>\n",
       "      <td>0.0</td>\n",
       "      <td>0.0</td>\n",
       "      <td>0.0</td>\n",
       "      <td>0.0</td>\n",
       "    </tr>\n",
       "  </tbody>\n",
       "</table>\n",
       "<p>71 rows × 7 columns</p>\n",
       "</div>"
      ],
      "text/plain": [
       "       A     C    G     T    U    N    -\n",
       "0   38.0   0.0  0.0   0.0  0.0  0.0  0.0\n",
       "1    0.0  39.0  0.0   0.0  0.0  0.0  0.0\n",
       "2    0.0   0.0  0.0  40.0  0.0  0.0  0.0\n",
       "3    0.0  40.0  0.0   0.0  0.0  0.0  0.0\n",
       "4    0.0   0.0  0.0  39.6  0.0  0.0  0.4\n",
       "..   ...   ...  ...   ...  ...  ...  ...\n",
       "66   0.0   0.0  0.0  58.0  0.0  0.0  0.0\n",
       "67  58.0   0.0  0.0   0.0  0.0  0.0  0.0\n",
       "68   0.0  58.0  0.0   0.0  0.0  0.0  0.0\n",
       "69   0.0  58.0  0.0   0.0  0.0  0.0  0.0\n",
       "70  26.0   0.0  0.0   0.0  0.0  0.0  0.0\n",
       "\n",
       "[71 rows x 7 columns]"
      ]
     },
     "execution_count": 98,
     "metadata": {},
     "output_type": "execute_result"
    }
   ],
   "source": [
    "TM_obj.tr_muts['human']['Homo_sapiens_mito_tRNA-Gly-TCC']['PSCM']"
   ]
  },
  {
   "cell_type": "code",
   "execution_count": null,
   "metadata": {},
   "outputs": [],
   "source": []
  },
  {
   "cell_type": "code",
   "execution_count": null,
   "metadata": {},
   "outputs": [],
   "source": []
  },
  {
   "cell_type": "code",
   "execution_count": null,
   "metadata": {},
   "outputs": [],
   "source": []
  },
  {
   "cell_type": "code",
   "execution_count": 71,
   "metadata": {},
   "outputs": [
    {
     "name": "stdout",
     "output_type": "stream",
     "text": [
      "target            0 TCCCATATGGTCTAGCGGTTAGGATTCCTGGTTTTCACCCAGGTGGCCCGGGTTCGACTC\n",
      "                  0 ||||||||||||||||||||||||||||||||||||||||||||||||||||||||.|||\n",
      "query             6 TCCCATATGGTCTAGCGGTTAGGATTCCTGGTTTTCACCCAGGTGGCCCGGGTTCGGCTC\n",
      "\n",
      "target           60 CCGGTATGGGAAC 73\n",
      "                 60 ||||||||||||| 73\n",
      "query            66 CCGGTATGGGAAC 79\n",
      "\n"
     ]
    }
   ],
   "source": [
    "\n",
    "aligner = Align.PairwiseAligner()\n",
    "aligner.mode = 'local'\n",
    "aligner.match_score = 1\n",
    "aligner.mismatch_score = -1\n",
    "aligner.open_gap_score = -2\n",
    "aligner.extend_gap_score = -1\n",
    "\n",
    "\n",
    "target = 'TCCCATATGGTCTAGCGGTTAGGATTCCTGGTTTTCACCCAGGTGGCCCGGGTTCGACTCCCGGTATGGGAACCA'\n",
    "read = 'AGCACTTCCCATATGGTCTAGCGGTTAGGATTCCTGGTTTTCACCCAGGTGGCCCGGGTTCGGCTCCCGGTATGGGAACGCTTCCT'\n",
    "\n",
    "alignments = aligner.align(target, read)\n",
    "for alignment in alignments:\n",
    "    print(alignment)"
   ]
  },
  {
   "cell_type": "code",
   "execution_count": null,
   "metadata": {},
   "outputs": [],
   "source": []
  },
  {
   "cell_type": "code",
   "execution_count": null,
   "metadata": {},
   "outputs": [],
   "source": []
  },
  {
   "cell_type": "code",
   "execution_count": null,
   "metadata": {},
   "outputs": [],
   "source": []
  },
  {
   "cell_type": "code",
   "execution_count": null,
   "metadata": {},
   "outputs": [],
   "source": []
  },
  {
   "cell_type": "code",
   "execution_count": null,
   "metadata": {},
   "outputs": [],
   "source": []
  },
  {
   "cell_type": "code",
   "execution_count": null,
   "metadata": {},
   "outputs": [],
   "source": []
  },
  {
   "cell_type": "code",
   "execution_count": null,
   "metadata": {},
   "outputs": [],
   "source": []
  },
  {
   "cell_type": "code",
   "execution_count": 46,
   "metadata": {},
   "outputs": [],
   "source": [
    "\n",
    "aligner = Align.PairwiseAligner()\n",
    "aligner.mode = 'local'\n",
    "aligner.match_score = 1\n",
    "aligner.mismatch_score = -1\n",
    "aligner.open_gap_score = -2\n",
    "aligner.extend_gap_score = -1\n",
    "\n",
    "\n",
    "\n",
    "\n",
    "tr_muts = dict()\n",
    "tr_id = 'Homo_sapiens_tRNA-Ala-AGC-1-1 (tRNAscan-SE ID: chr6.trna116) Ala (AGC) 72 bp mature sequence Sc: 84.9 chr6:28795964-28796035 (-)'\n",
    "tr_seq = 'GGGGGUAUAGCUCAGUGGUAGAGCGCGUGCUUAGCAUGCACGAGGUCCUGGGUUCGAUCCCCAGUACCUCCA'\n",
    "tr_muts[tr_id] = dict()\n",
    "tr_muts[tr_id]['seq'] = tr_seq\n",
    "tr_muts[tr_id]['seq_len'] = len(tr_seq)\n",
    "# Position specific count matrix:\n",
    "tr_muts[tr_id]['PSCM'] = np.zeros(len(tr_seq))\n",
    "tr_muts[tr_id]['Nobs'] = np.zeros(len(tr_seq))\n",
    "\n",
    "\n",
    "\n",
    "read1 = 'GGGGGUAUAGCUCAGUGGUAGAGCGCGUGCUGAGCAUGCACGAGGUCCUGGGUUCGAUCCCCAGUACCUCCA'\n",
    "read2 = 'GUGCUGAGCAUGCACGAGGUCCUGGGUUCGAUCCCGAGUACCUCCA'\n",
    "read3 = 'AGCCAGUGGUAGAGCGCGUGCUUAGCAUGCACGAGGUCCUGGGUUCGAUCCCGAGUACCUNCA'\n",
    "reads = [read1, read2, read3]\n",
    "\n",
    "target = tr_muts[tr_id]['seq']\n",
    "\n",
    "\n",
    "weight_list = list()\n",
    "char_list = list()\n",
    "for read in reads:\n",
    "    # Generate alignments:\n",
    "    alignments = aligner.align(target, read)\n",
    "    # If multiple alignments with the same score these should be weighted\n",
    "    # so one read contributes with one observation:\n",
    "    weight = 1 / len(alignments)\n",
    "    weight_list.append(weight)\n",
    "    for alignment in alignments:\n",
    "        char_ar = np.empty(len(target), dtype='<U1')\n",
    "        \n",
    "        # Extract the alignment coordinates:\n",
    "        t_cor, q_cor = alignment.aligned\n",
    "        if t_cor[-1, -1] != tr_muts[tr_id]['seq_len']:\n",
    "            print(alignment)\n",
    "            raise Exception('Sequence should be 3p aligned but appears not to be...')\n",
    "        # Add observation to the array:\n",
    "        tr_muts[tr_id]['Nobs'][t_cor[0][0]] += weight\n",
    "\n",
    "        # Find gaps:\n",
    "        gap_idx = list()\n",
    "        for i in range(1, len(t_cor)):\n",
    "            for j in range(t_cor[i][0] - t_cor[i-1][1]):\n",
    "                char_ar[t_cor[i-1][1] + j] = '-'\n",
    "\n",
    "        # Find mismatches/mutations:\n",
    "        mut_idx = list()\n",
    "        for tran, qran in zip(t_cor, q_cor):\n",
    "            for ti, qi in zip(range(*tran), range(*qran)):\n",
    "                char_ar[ti] = read[qi]\n",
    "        char_list.append(char_ar)\n",
    "char_matrix = np.array(char_list)\n",
    "tr_muts[tr_id]['PSCM'] = count_char_matrix(char_matrix, weight_list)\n",
    "\n",
    "# Coverage/observation summation, from left to right:\n",
    "for tr_id in tr_muts:\n",
    "    for i in range(1, len(tr_muts[tr_id]['Nobs'])):\n",
    "        tr_muts[tr_id]['Nobs'][i] += tr_muts[tr_id]['Nobs'][i-1]"
   ]
  },
  {
   "cell_type": "code",
   "execution_count": null,
   "metadata": {},
   "outputs": [],
   "source": []
  },
  {
   "cell_type": "code",
   "execution_count": 47,
   "metadata": {},
   "outputs": [
    {
     "data": {
      "text/plain": [
       "array([ True,  True,  True,  True,  True,  True,  True,  True,  True,\n",
       "        True,  True,  True,  True,  True,  True,  True,  True,  True,\n",
       "        True,  True,  True,  True,  True,  True,  True,  True,  True,\n",
       "        True,  True,  True,  True,  True,  True,  True,  True,  True,\n",
       "        True,  True,  True,  True,  True,  True,  True,  True,  True,\n",
       "        True,  True,  True,  True,  True,  True,  True,  True,  True,\n",
       "        True,  True,  True,  True,  True,  True,  True,  True,  True,\n",
       "        True,  True,  True,  True,  True,  True,  True,  True,  True])"
      ]
     },
     "execution_count": 47,
     "metadata": {},
     "output_type": "execute_result"
    }
   ],
   "source": [
    "tr_muts[tr_id]['PSCM'].sum(1).values == tr_muts[tr_id]['Nobs']"
   ]
  },
  {
   "cell_type": "code",
   "execution_count": 27,
   "metadata": {},
   "outputs": [
    {
     "data": {
      "text/plain": [
       "array([1., 1., 1., 1., 1., 1., 1., 1., 2., 2., 2., 2., 2., 2., 2., 2., 2.,\n",
       "       2., 2., 2., 2., 2., 2., 2., 2., 2., 3., 3., 3., 3., 3., 3., 3., 3.,\n",
       "       3., 3., 3., 3., 3., 3., 3., 3., 3., 3., 3., 3., 3., 3., 3., 3., 3.,\n",
       "       3., 3., 3., 3., 3., 3., 3., 3., 3., 3., 3., 3., 3., 3., 3., 3., 3.,\n",
       "       3., 3., 3., 3.])"
      ]
     },
     "execution_count": 27,
     "metadata": {},
     "output_type": "execute_result"
    }
   ],
   "source": [
    "tr_muts[tr_id]['Nobs']"
   ]
  },
  {
   "cell_type": "code",
   "execution_count": null,
   "metadata": {},
   "outputs": [],
   "source": []
  },
  {
   "cell_type": "code",
   "execution_count": 35,
   "metadata": {},
   "outputs": [],
   "source": [
    "ttt = tr_muts[tr_id]['PSCM']"
   ]
  },
  {
   "cell_type": "code",
   "execution_count": 36,
   "metadata": {},
   "outputs": [],
   "source": [
    "ttt += tr_muts[tr_id]['PSCM']"
   ]
  },
  {
   "cell_type": "code",
   "execution_count": 37,
   "metadata": {},
   "outputs": [
    {
     "data": {
      "text/html": [
       "<div>\n",
       "<style scoped>\n",
       "    .dataframe tbody tr th:only-of-type {\n",
       "        vertical-align: middle;\n",
       "    }\n",
       "\n",
       "    .dataframe tbody tr th {\n",
       "        vertical-align: top;\n",
       "    }\n",
       "\n",
       "    .dataframe thead th {\n",
       "        text-align: right;\n",
       "    }\n",
       "</style>\n",
       "<table border=\"1\" class=\"dataframe\">\n",
       "  <thead>\n",
       "    <tr style=\"text-align: right;\">\n",
       "      <th></th>\n",
       "      <th>A</th>\n",
       "      <th>C</th>\n",
       "      <th>G</th>\n",
       "      <th>T</th>\n",
       "      <th>U</th>\n",
       "      <th>N</th>\n",
       "      <th>-</th>\n",
       "    </tr>\n",
       "  </thead>\n",
       "  <tbody>\n",
       "    <tr>\n",
       "      <th>0</th>\n",
       "      <td>0.0</td>\n",
       "      <td>0.0</td>\n",
       "      <td>2.0</td>\n",
       "      <td>0.0</td>\n",
       "      <td>0.0</td>\n",
       "      <td>0.0</td>\n",
       "      <td>0.0</td>\n",
       "    </tr>\n",
       "    <tr>\n",
       "      <th>1</th>\n",
       "      <td>0.0</td>\n",
       "      <td>0.0</td>\n",
       "      <td>2.0</td>\n",
       "      <td>0.0</td>\n",
       "      <td>0.0</td>\n",
       "      <td>0.0</td>\n",
       "      <td>0.0</td>\n",
       "    </tr>\n",
       "    <tr>\n",
       "      <th>2</th>\n",
       "      <td>0.0</td>\n",
       "      <td>0.0</td>\n",
       "      <td>2.0</td>\n",
       "      <td>0.0</td>\n",
       "      <td>0.0</td>\n",
       "      <td>0.0</td>\n",
       "      <td>0.0</td>\n",
       "    </tr>\n",
       "    <tr>\n",
       "      <th>3</th>\n",
       "      <td>0.0</td>\n",
       "      <td>0.0</td>\n",
       "      <td>2.0</td>\n",
       "      <td>0.0</td>\n",
       "      <td>0.0</td>\n",
       "      <td>0.0</td>\n",
       "      <td>0.0</td>\n",
       "    </tr>\n",
       "    <tr>\n",
       "      <th>4</th>\n",
       "      <td>0.0</td>\n",
       "      <td>0.0</td>\n",
       "      <td>2.0</td>\n",
       "      <td>0.0</td>\n",
       "      <td>0.0</td>\n",
       "      <td>0.0</td>\n",
       "      <td>0.0</td>\n",
       "    </tr>\n",
       "    <tr>\n",
       "      <th>...</th>\n",
       "      <td>...</td>\n",
       "      <td>...</td>\n",
       "      <td>...</td>\n",
       "      <td>...</td>\n",
       "      <td>...</td>\n",
       "      <td>...</td>\n",
       "      <td>...</td>\n",
       "    </tr>\n",
       "    <tr>\n",
       "      <th>67</th>\n",
       "      <td>0.0</td>\n",
       "      <td>6.0</td>\n",
       "      <td>0.0</td>\n",
       "      <td>0.0</td>\n",
       "      <td>0.0</td>\n",
       "      <td>0.0</td>\n",
       "      <td>0.0</td>\n",
       "    </tr>\n",
       "    <tr>\n",
       "      <th>68</th>\n",
       "      <td>0.0</td>\n",
       "      <td>0.0</td>\n",
       "      <td>0.0</td>\n",
       "      <td>0.0</td>\n",
       "      <td>6.0</td>\n",
       "      <td>0.0</td>\n",
       "      <td>0.0</td>\n",
       "    </tr>\n",
       "    <tr>\n",
       "      <th>69</th>\n",
       "      <td>0.0</td>\n",
       "      <td>4.0</td>\n",
       "      <td>0.0</td>\n",
       "      <td>0.0</td>\n",
       "      <td>0.0</td>\n",
       "      <td>2.0</td>\n",
       "      <td>0.0</td>\n",
       "    </tr>\n",
       "    <tr>\n",
       "      <th>70</th>\n",
       "      <td>0.0</td>\n",
       "      <td>6.0</td>\n",
       "      <td>0.0</td>\n",
       "      <td>0.0</td>\n",
       "      <td>0.0</td>\n",
       "      <td>0.0</td>\n",
       "      <td>0.0</td>\n",
       "    </tr>\n",
       "    <tr>\n",
       "      <th>71</th>\n",
       "      <td>6.0</td>\n",
       "      <td>0.0</td>\n",
       "      <td>0.0</td>\n",
       "      <td>0.0</td>\n",
       "      <td>0.0</td>\n",
       "      <td>0.0</td>\n",
       "      <td>0.0</td>\n",
       "    </tr>\n",
       "  </tbody>\n",
       "</table>\n",
       "<p>72 rows × 7 columns</p>\n",
       "</div>"
      ],
      "text/plain": [
       "      A    C    G    T    U    N    -\n",
       "0   0.0  0.0  2.0  0.0  0.0  0.0  0.0\n",
       "1   0.0  0.0  2.0  0.0  0.0  0.0  0.0\n",
       "2   0.0  0.0  2.0  0.0  0.0  0.0  0.0\n",
       "3   0.0  0.0  2.0  0.0  0.0  0.0  0.0\n",
       "4   0.0  0.0  2.0  0.0  0.0  0.0  0.0\n",
       "..  ...  ...  ...  ...  ...  ...  ...\n",
       "67  0.0  6.0  0.0  0.0  0.0  0.0  0.0\n",
       "68  0.0  0.0  0.0  0.0  6.0  0.0  0.0\n",
       "69  0.0  4.0  0.0  0.0  0.0  2.0  0.0\n",
       "70  0.0  6.0  0.0  0.0  0.0  0.0  0.0\n",
       "71  6.0  0.0  0.0  0.0  0.0  0.0  0.0\n",
       "\n",
       "[72 rows x 7 columns]"
      ]
     },
     "execution_count": 37,
     "metadata": {},
     "output_type": "execute_result"
    }
   ],
   "source": [
    "ttt"
   ]
  },
  {
   "cell_type": "code",
   "execution_count": null,
   "metadata": {},
   "outputs": [],
   "source": []
  },
  {
   "cell_type": "code",
   "execution_count": 173,
   "metadata": {},
   "outputs": [
    {
     "data": {
      "text/plain": [
       "['A', 'C', 'G', 'T', 'U', '-']"
      ]
     },
     "execution_count": 173,
     "metadata": {},
     "output_type": "execute_result"
    }
   ],
   "source": [
    "char_list"
   ]
  },
  {
   "cell_type": "code",
   "execution_count": 172,
   "metadata": {},
   "outputs": [
    {
     "name": "stdout",
     "output_type": "stream",
     "text": [
      "target            8 AGCUCAGUGGUAGAGCGCGUGCUUAGCAUGCACGAGGUCCUGGGUUCGAUCCCCAGUACC\n",
      "                  0 |||-|||||||||||||||||||||||||||||||||||||||||||||||||.||||||\n",
      "query             0 AGC-CAGUGGUAGAGCGCGUGCUUAGCAUGCACGAGGUCCUGGGUUCGAUCCCGAGUACC\n",
      "\n",
      "target           68 UCCA 72\n",
      "                 60 |.|| 64\n",
      "query            59 UNCA 63\n",
      "\n"
     ]
    }
   ],
   "source": [
    "alignment."
   ]
  },
  {
   "cell_type": "code",
   "execution_count": null,
   "metadata": {},
   "outputs": [],
   "source": []
  },
  {
   "cell_type": "code",
   "execution_count": null,
   "metadata": {},
   "outputs": [],
   "source": []
  },
  {
   "cell_type": "code",
   "execution_count": null,
   "metadata": {},
   "outputs": [],
   "source": []
  },
  {
   "cell_type": "code",
   "execution_count": null,
   "metadata": {},
   "outputs": [],
   "source": []
  },
  {
   "cell_type": "code",
   "execution_count": null,
   "metadata": {},
   "outputs": [],
   "source": []
  },
  {
   "cell_type": "code",
   "execution_count": null,
   "metadata": {},
   "outputs": [],
   "source": []
  },
  {
   "cell_type": "code",
   "execution_count": null,
   "metadata": {},
   "outputs": [],
   "source": []
  },
  {
   "cell_type": "code",
   "execution_count": 21,
   "metadata": {},
   "outputs": [],
   "source": [
    "def count_char_matrix(char_matrix, weight_list):\n",
    "    char_str = 'ACGTUN-'\n",
    "    char_list = [c for c in char_str]\n",
    "\n",
    "    char_count = np.zeros((char_matrix.shape[1], len(char_list)))\n",
    "    for pos in range(char_matrix.shape[1]):\n",
    "        for char_i, char in enumerate(char_list):\n",
    "            char_count[pos, char_i] = sum((char_matrix[:, pos] == char)*weight_list)\n",
    "\n",
    "    count_df = pd.DataFrame(char_count, columns=char_list)\n",
    "    # col_mask = count_df.sum() != 0\n",
    "    # count_df = count_df.loc[:, col_mask].copy()\n",
    "    \n",
    "    return(count_df)"
   ]
  },
  {
   "cell_type": "code",
   "execution_count": null,
   "metadata": {},
   "outputs": [],
   "source": []
  },
  {
   "cell_type": "code",
   "execution_count": 196,
   "metadata": {},
   "outputs": [
    {
     "data": {
      "text/plain": [
       "0.0"
      ]
     },
     "execution_count": 196,
     "metadata": {},
     "output_type": "execute_result"
    }
   ],
   "source": [
    "sum((char_matrix[:, pos] == char)*1.1)"
   ]
  },
  {
   "cell_type": "code",
   "execution_count": null,
   "metadata": {},
   "outputs": [],
   "source": []
  },
  {
   "cell_type": "code",
   "execution_count": null,
   "metadata": {},
   "outputs": [],
   "source": []
  },
  {
   "cell_type": "code",
   "execution_count": null,
   "metadata": {},
   "outputs": [],
   "source": []
  },
  {
   "cell_type": "code",
   "execution_count": null,
   "metadata": {},
   "outputs": [],
   "source": []
  },
  {
   "cell_type": "code",
   "execution_count": 111,
   "metadata": {},
   "outputs": [],
   "source": [
    "for i in range(1,1):\n",
    "    print(i)"
   ]
  },
  {
   "cell_type": "code",
   "execution_count": 109,
   "metadata": {},
   "outputs": [
    {
     "data": {
      "text/plain": [
       "array([0., 0., 0., 0., 0., 0., 0., 0., 0., 0., 0., 0., 0., 0., 0., 0., 0.,\n",
       "       0., 0., 0., 0., 0., 0., 0., 0., 0., 0., 0., 0., 0., 0., 2., 0., 0.,\n",
       "       0., 0., 0., 0., 0., 0., 0., 0., 0., 0., 0., 0., 0., 0., 0., 0., 0.,\n",
       "       0., 0., 0., 0., 0., 0., 0., 0., 0., 0., 2., 0., 0., 0., 0., 0., 0.,\n",
       "       0., 1., 0., 0.])"
      ]
     },
     "execution_count": 109,
     "metadata": {},
     "output_type": "execute_result"
    }
   ],
   "source": [
    "tr_muts[tr_id]['Nmut']"
   ]
  },
  {
   "cell_type": "code",
   "execution_count": 107,
   "metadata": {},
   "outputs": [
    {
     "data": {
      "text/plain": [
       "array([0.        , 0.        , 0.        , 0.        , 0.        ,\n",
       "       0.        , 0.        , 0.        , 0.        , 0.        ,\n",
       "       0.        , 0.        , 0.        , 0.        , 0.        ,\n",
       "       0.        , 0.        , 0.        , 0.        , 0.        ,\n",
       "       0.        , 0.        , 0.        , 0.        , 0.        ,\n",
       "       0.        , 0.        , 0.        , 0.        , 0.        ,\n",
       "       0.        , 0.66666667, 0.        , 0.        , 0.        ,\n",
       "       0.        , 0.        , 0.        , 0.        , 0.        ,\n",
       "       0.        , 0.        , 0.        , 0.        , 0.        ,\n",
       "       0.        , 0.        , 0.        , 0.        , 0.        ,\n",
       "       0.        , 0.        , 0.        , 0.        , 0.        ,\n",
       "       0.        , 0.        , 0.        , 0.        , 0.        ,\n",
       "       0.        , 0.66666667, 0.        , 0.        , 0.        ,\n",
       "       0.        , 0.        , 0.        , 0.        , 0.        ,\n",
       "       0.        , 0.        ])"
      ]
     },
     "execution_count": 107,
     "metadata": {},
     "output_type": "execute_result"
    }
   ],
   "source": [
    "tr_muts[tr_id]['Nmut']/tr_muts[tr_id]['Nobs']"
   ]
  },
  {
   "cell_type": "code",
   "execution_count": null,
   "metadata": {},
   "outputs": [],
   "source": []
  },
  {
   "cell_type": "code",
   "execution_count": 100,
   "metadata": {},
   "outputs": [
    {
     "data": {
      "text/plain": [
       "1"
      ]
     },
     "execution_count": 100,
     "metadata": {},
     "output_type": "execute_result"
    }
   ],
   "source": []
  },
  {
   "cell_type": "code",
   "execution_count": null,
   "metadata": {},
   "outputs": [],
   "source": []
  },
  {
   "cell_type": "code",
   "execution_count": null,
   "metadata": {},
   "outputs": [],
   "source": []
  },
  {
   "cell_type": "code",
   "execution_count": null,
   "metadata": {},
   "outputs": [],
   "source": []
  },
  {
   "cell_type": "code",
   "execution_count": null,
   "metadata": {},
   "outputs": [],
   "source": []
  },
  {
   "cell_type": "code",
   "execution_count": null,
   "metadata": {},
   "outputs": [],
   "source": []
  },
  {
   "cell_type": "code",
   "execution_count": null,
   "metadata": {},
   "outputs": [],
   "source": []
  },
  {
   "cell_type": "code",
   "execution_count": null,
   "metadata": {},
   "outputs": [],
   "source": []
  },
  {
   "cell_type": "code",
   "execution_count": null,
   "metadata": {},
   "outputs": [],
   "source": []
  },
  {
   "cell_type": "code",
   "execution_count": null,
   "metadata": {},
   "outputs": [],
   "source": []
  },
  {
   "cell_type": "code",
   "execution_count": null,
   "metadata": {},
   "outputs": [],
   "source": []
  },
  {
   "cell_type": "code",
   "execution_count": null,
   "metadata": {},
   "outputs": [],
   "source": []
  },
  {
   "cell_type": "code",
   "execution_count": null,
   "metadata": {},
   "outputs": [],
   "source": []
  },
  {
   "cell_type": "code",
   "execution_count": null,
   "metadata": {},
   "outputs": [],
   "source": []
  },
  {
   "cell_type": "code",
   "execution_count": null,
   "metadata": {},
   "outputs": [],
   "source": []
  },
  {
   "cell_type": "code",
   "execution_count": null,
   "metadata": {},
   "outputs": [],
   "source": []
  },
  {
   "cell_type": "code",
   "execution_count": null,
   "metadata": {},
   "outputs": [],
   "source": []
  },
  {
   "cell_type": "code",
   "execution_count": null,
   "metadata": {},
   "outputs": [],
   "source": []
  },
  {
   "cell_type": "code",
   "execution_count": null,
   "metadata": {},
   "outputs": [],
   "source": []
  },
  {
   "cell_type": "code",
   "execution_count": null,
   "metadata": {},
   "outputs": [],
   "source": []
  },
  {
   "cell_type": "code",
   "execution_count": null,
   "metadata": {},
   "outputs": [],
   "source": []
  },
  {
   "cell_type": "code",
   "execution_count": null,
   "metadata": {},
   "outputs": [],
   "source": []
  },
  {
   "cell_type": "code",
   "execution_count": null,
   "metadata": {},
   "outputs": [],
   "source": []
  },
  {
   "cell_type": "code",
   "execution_count": null,
   "metadata": {},
   "outputs": [],
   "source": []
  },
  {
   "cell_type": "code",
   "execution_count": null,
   "metadata": {},
   "outputs": [],
   "source": []
  },
  {
   "cell_type": "code",
   "execution_count": null,
   "metadata": {},
   "outputs": [],
   "source": []
  },
  {
   "cell_type": "code",
   "execution_count": null,
   "metadata": {},
   "outputs": [],
   "source": []
  },
  {
   "cell_type": "code",
   "execution_count": null,
   "metadata": {},
   "outputs": [],
   "source": []
  },
  {
   "cell_type": "code",
   "execution_count": null,
   "metadata": {},
   "outputs": [],
   "source": []
  },
  {
   "cell_type": "code",
   "execution_count": null,
   "metadata": {},
   "outputs": [],
   "source": []
  },
  {
   "cell_type": "code",
   "execution_count": null,
   "metadata": {},
   "outputs": [],
   "source": []
  },
  {
   "cell_type": "code",
   "execution_count": null,
   "metadata": {},
   "outputs": [],
   "source": []
  },
  {
   "cell_type": "code",
   "execution_count": null,
   "metadata": {},
   "outputs": [],
   "source": []
  },
  {
   "cell_type": "code",
   "execution_count": 16,
   "metadata": {},
   "outputs": [],
   "source": []
  },
  {
   "cell_type": "code",
   "execution_count": null,
   "metadata": {},
   "outputs": [],
   "source": []
  },
  {
   "cell_type": "code",
   "execution_count": null,
   "metadata": {},
   "outputs": [],
   "source": []
  },
  {
   "cell_type": "code",
   "execution_count": null,
   "metadata": {},
   "outputs": [],
   "source": []
  },
  {
   "cell_type": "code",
   "execution_count": 432,
   "metadata": {},
   "outputs": [],
   "source": [
    "aa_cols = ['sample_name_unique', 'tRNA_annotation_len', 'align_5p_idx', 'align_3p_idx', 'AA_letter', 'count']\n",
    "type_mask = (agg_df['3p_cover'] == True) & (agg_df['single_codon']) & (~agg_df['mito_codon']) & (~agg_df['Ecoli_ctr']) & (agg_df['AA_letter'].apply(len) == 1)\n",
    "\n",
    "\n",
    "\n",
    "\n",
    "\n",
    "sample_mask = (agg_df['sample_name_unique'] == '0p1') & type_mask\n",
    "\n",
    "\n",
    "cov_df = agg_df.loc[sample_mask, aa_cols].copy()\n",
    "cov_df = cov_df.groupby(aa_cols, as_index=False).agg({\"count\": \"sum\"}).reset_index(drop=True)\n",
    "#cov_df.reset_index(drop=True)\n",
    "\n",
    "\n",
    "\n",
    "\n",
    "max_len = cov_df['tRNA_annotation_len'].max()\n",
    "min_len = cov_df['tRNA_annotation_len'].min()\n",
    "\n",
    "len_map_len = dict()\n",
    "for len_i in range(min_len, max_len+1):\n",
    "    len_map_len[len_i] = np.percentile(np.arange(max_len), np.linspace(0, 100, len_i), method='nearest')\n",
    "\n",
    "\n",
    "aa_set = set(cov_df['AA_letter'])\n",
    "aa_ordered_list = sorted(aa_set, reverse=True)\n",
    "aa_order = {aa: i for i, aa in enumerate(aa_ordered_list)}\n",
    "\n",
    "# len(aa_order) is going to be the number of bins:\n",
    "cov_count = np.zeros((len(aa_order), max_len))\n",
    "\n",
    "\n",
    "\n",
    "\n",
    "for _, row in cov_df.iterrows():\n",
    "    aa_idx = aa_order[row['AA_letter']]\n",
    "    _5p_idx = row['align_5p_idx'] - 1\n",
    "    anno_len = row['tRNA_annotation_len']\n",
    "    _5p_idx_trans = len_map_len[anno_len][_5p_idx]\n",
    "    count = row['count']\n",
    "    \n",
    "    cov_count[aa_idx, _5p_idx_trans] = count\n",
    "\n",
    "for i in range(cov_count.shape[0]):\n",
    "    for j in range(cov_count.shape[1]):\n",
    "        if j > 0:\n",
    "            cov_count[i, j] += cov_count[i, j-1]\n",
    "\n",
    "            \n",
    "cov_count_norm = cov_count.T / cov_count[:, -1]\n",
    "cov_count_norm = cov_count_norm.T * (100/cov_count.shape[0])\n",
    "\n",
    "cov_count_sum = copy.deepcopy(cov_count)\n",
    "for i in range(cov_count_sum.shape[0]):\n",
    "    if i > 0:\n",
    "        cov_count_sum[i] += cov_count_sum[i-1]\n",
    "cov_count_sum = np.vstack((np.zeros(cov_count_sum.shape[1]), cov_count_sum))"
   ]
  },
  {
   "cell_type": "code",
   "execution_count": null,
   "metadata": {},
   "outputs": [],
   "source": []
  },
  {
   "cell_type": "code",
   "execution_count": 433,
   "metadata": {},
   "outputs": [
    {
     "data": {
      "image/png": "[encoded data removed]",
      "text/plain": [
       "<Figure size 936x504 with 2 Axes>"
      ]
     },
     "metadata": {
      "needs_background": "light"
     },
     "output_type": "display_data"
    }
   ],
   "source": [
    "\n",
    "\n",
    "cmap = mpl.colormaps['tab20']\n",
    "\n",
    "\n",
    "\n",
    "\n",
    "fig, axes = plt.subplots(1, 2, figsize=(13, 7), sharey=False, gridspec_kw={'width_ratios': [1, 7]})\n",
    "\n",
    "\n",
    "for i in range(1, len(cov_count_sum)):\n",
    "    axes[0].stairs(cov_count_sum[i, 0:10], baseline=cov_count_sum[i-1, 0:10], fill=True, alpha=0.7, color=cmap(i-1))\n",
    "    # axes[1].stairs(cov_count_sum[i, 0:10], baseline=cov_count_sum[i-1, 0:10], fill=True, alpha=1, color=cmap(i-2))\n",
    "axes[0].stairs(cov_count_sum[i, 0:10], baseline=None, fill=False, edgecolor='black', alpha=1, linewidth=1)\n",
    "\n",
    "\n",
    "\n",
    "for i in range(1, len(cov_count_sum)):\n",
    "    axes[1].stairs(cov_count_sum[i], baseline=cov_count_sum[i-1], fill=True, alpha=0.7, label=aa_ordered_list[i-1], color=cmap(i-1))\n",
    "axes[1].stairs(cov_count_sum[i], baseline=None, fill=False, edgecolor='black', alpha=1, linewidth=1)\n",
    "\n",
    "handles, labels = axes[1].get_legend_handles_labels()\n",
    "axes[1].legend(handles[::-1], labels[::-1], title='Amino acid', bbox_to_anchor=(1.01,1), borderaxespad=0, ncol=2);\n",
    "\n",
    "\n",
    "axes[0].set_ylabel('Read count')\n",
    "axes[1].set_xlabel(\"5' to 3' index (mapped to longest tRNA)\");\n"
   ]
  },
  {
   "cell_type": "code",
   "execution_count": 114,
   "metadata": {},
   "outputs": [],
   "source": []
  },
  {
   "cell_type": "code",
   "execution_count": null,
   "metadata": {},
   "outputs": [],
   "source": []
  },
  {
   "cell_type": "code",
   "execution_count": 387,
   "metadata": {},
   "outputs": [
    {
     "data": {
      "image/png": "[encoded data removed]",
      "text/plain": [
       "<Figure size 720x504 with 1 Axes>"
      ]
     },
     "metadata": {
      "needs_background": "light"
     },
     "output_type": "display_data"
    }
   ],
   "source": [
    "last_col = cov_count_sum[:, -1]\n",
    "last_col_mid = np.zeros(last_col.shape[0]-1)\n",
    "for i in range(1, last_col.shape[0]):\n",
    "    delta = last_col[i] - last_col[i-1]\n",
    "    last_col_mid[i-1] = last_col[i-1] + delta/2\n",
    "\n",
    "cov_funnel_top = np.zeros(cov_count.shape)\n",
    "cov_funnel_bot = np.zeros(cov_count.shape)\n",
    "for i in range(0, cov_count.shape[1]):\n",
    "    delta = cov_count[:, i]\n",
    "    bottom = last_col_mid - delta/2\n",
    "    top = last_col_mid + delta/2\n",
    "    cov_funnel_top[:, i] = top\n",
    "    cov_funnel_bot[:, i] = bottom\n",
    "\n",
    "\n",
    "\n",
    "\n",
    "\n",
    "\n",
    "fig, ax = plt.subplots(1, 1, figsize=(10, 7))\n",
    "\n",
    "for i in range(0, len(cov_funnel_top)):  \n",
    "    ax.stairs(cov_funnel_top[i, :], baseline=cov_funnel_bot[i, :], fill=True, edgecolor='black', alpha=0.7, color=cmap(i))\n",
    "    \n",
    "    funnel_mask = cov_funnel_top[i] > cov_funnel_bot[i]\n",
    "    edges = np.where(funnel_mask)[0]\n",
    "    edges = np.hstack((edges, edges[-1]+1))\n",
    "    ax.stairs(cov_funnel_top[i, funnel_mask], edges, baseline=cov_funnel_bot[i, funnel_mask], edgecolor='black', alpha=1, linewidth=1)\n",
    "\n",
    "\n",
    "ax.set_ylabel('Read count')\n",
    "ax.set_xlabel(\"5' to 3' index (mapped to longest tRNA)\");"
   ]
  },
  {
   "cell_type": "code",
   "execution_count": null,
   "metadata": {},
   "outputs": [],
   "source": []
  },
  {
   "cell_type": "code",
   "execution_count": null,
   "metadata": {},
   "outputs": [],
   "source": []
  },
  {
   "cell_type": "code",
   "execution_count": null,
   "metadata": {},
   "outputs": [],
   "source": []
  },
  {
   "cell_type": "code",
   "execution_count": null,
   "metadata": {},
   "outputs": [],
   "source": []
  },
  {
   "cell_type": "code",
   "execution_count": null,
   "metadata": {},
   "outputs": [],
   "source": []
  },
  {
   "cell_type": "code",
   "execution_count": null,
   "metadata": {},
   "outputs": [],
   "source": []
  },
  {
   "cell_type": "code",
   "execution_count": null,
   "metadata": {},
   "outputs": [],
   "source": []
  },
  {
   "cell_type": "code",
   "execution_count": null,
   "metadata": {},
   "outputs": [],
   "source": []
  },
  {
   "cell_type": "code",
   "execution_count": null,
   "metadata": {},
   "outputs": [],
   "source": []
  },
  {
   "cell_type": "code",
   "execution_count": null,
   "metadata": {},
   "outputs": [],
   "source": []
  },
  {
   "cell_type": "code",
   "execution_count": null,
   "metadata": {},
   "outputs": [],
   "source": []
  },
  {
   "cell_type": "code",
   "execution_count": null,
   "metadata": {},
   "outputs": [],
   "source": []
  },
  {
   "cell_type": "code",
   "execution_count": null,
   "metadata": {},
   "outputs": [],
   "source": []
  },
  {
   "cell_type": "code",
   "execution_count": null,
   "metadata": {},
   "outputs": [],
   "source": []
  },
  {
   "cell_type": "code",
   "execution_count": null,
   "metadata": {},
   "outputs": [],
   "source": []
  },
  {
   "cell_type": "code",
   "execution_count": null,
   "metadata": {},
   "outputs": [],
   "source": []
  },
  {
   "cell_type": "code",
   "execution_count": null,
   "metadata": {},
   "outputs": [],
   "source": []
  },
  {
   "cell_type": "code",
   "execution_count": null,
   "metadata": {},
   "outputs": [],
   "source": []
  },
  {
   "cell_type": "code",
   "execution_count": null,
   "metadata": {},
   "outputs": [],
   "source": []
  },
  {
   "cell_type": "code",
   "execution_count": null,
   "metadata": {},
   "outputs": [],
   "source": []
  },
  {
   "cell_type": "code",
   "execution_count": null,
   "metadata": {},
   "outputs": [],
   "source": []
  },
  {
   "cell_type": "code",
   "execution_count": null,
   "metadata": {},
   "outputs": [],
   "source": []
  },
  {
   "cell_type": "code",
   "execution_count": null,
   "metadata": {},
   "outputs": [],
   "source": []
  },
  {
   "cell_type": "code",
   "execution_count": null,
   "metadata": {},
   "outputs": [],
   "source": []
  },
  {
   "cell_type": "code",
   "execution_count": null,
   "metadata": {},
   "outputs": [],
   "source": []
  },
  {
   "cell_type": "code",
   "execution_count": 84,
   "metadata": {},
   "outputs": [],
   "source": [
    "seq_len = np.percentile([len(s) for s in agg_df['3p_non-temp']], 99.9, method='nearest')\n",
    "#seq_list = ['-'*(seq_len - len(s)) + s for s in agg_df['5p_non-temp'].values if len(s) <= seq_len]\n",
    "#counts_mat = lm.alignment_to_matrix(seq_list)\n",
    "\n",
    "mask = [len(s) <= seq_len for s in agg_df['3p_non-temp'].values]\n",
    "seq_list = [s+'-'*(seq_len - len(s)) for s in agg_df.loc[mask, '3p_non-temp'].values if len(s) <= seq_len]\n",
    "counts_mat = lm.alignment_to_matrix(seq_list, agg_df.loc[mask, 'count'].values)\n"
   ]
  },
  {
   "cell_type": "code",
   "execution_count": null,
   "metadata": {},
   "outputs": [],
   "source": []
  },
  {
   "cell_type": "code",
   "execution_count": 85,
   "metadata": {},
   "outputs": [
    {
     "data": {
      "text/plain": [
       "<logomaker.src.Logo.Logo at 0x7fcea7ef1220>"
      ]
     },
     "execution_count": 85,
     "metadata": {},
     "output_type": "execute_result"
    },
    {
     "data": {
      "image/png": "[encoded data removed]",
      "text/plain": [
       "<Figure size 720x180 with 1 Axes>"
      ]
     },
     "metadata": {
      "needs_background": "light"
     },
     "output_type": "display_data"
    }
   ],
   "source": [
    "lm.Logo(counts_mat)"
   ]
  },
  {
   "cell_type": "code",
   "execution_count": null,
   "metadata": {},
   "outputs": [],
   "source": []
  },
  {
   "cell_type": "code",
   "execution_count": 69,
   "metadata": {},
   "outputs": [
    {
     "data": {
      "text/plain": [
       "<logomaker.src.Logo.Logo at 0x7fceab3d8ca0>"
      ]
     },
     "execution_count": 69,
     "metadata": {},
     "output_type": "execute_result"
    },
    {
     "data": {
      "image/png": "[encoded data removed]",
      "text/plain": [
       "<Figure size 720x180 with 1 Axes>"
      ]
     },
     "metadata": {
      "needs_background": "light"
     },
     "output_type": "display_data"
    }
   ],
   "source": [
    "lm.Logo(np.log10(counts_mat+1))"
   ]
  },
  {
   "cell_type": "code",
   "execution_count": null,
   "metadata": {},
   "outputs": [],
   "source": []
  },
  {
   "cell_type": "code",
   "execution_count": null,
   "metadata": {},
   "outputs": [],
   "source": []
  },
  {
   "cell_type": "code",
   "execution_count": null,
   "metadata": {},
   "outputs": [],
   "source": []
  },
  {
   "cell_type": "code",
   "execution_count": null,
   "metadata": {},
   "outputs": [],
   "source": [
    "np.percentile"
   ]
  },
  {
   "cell_type": "code",
   "execution_count": 86,
   "metadata": {},
   "outputs": [
    {
     "data": {
      "text/plain": [
       "'1.19.2'"
      ]
     },
     "execution_count": 86,
     "metadata": {},
     "output_type": "execute_result"
    }
   ],
   "source": [
    "np.version.version"
   ]
  },
  {
   "cell_type": "code",
   "execution_count": null,
   "metadata": {},
   "outputs": [],
   "source": []
  },
  {
   "cell_type": "code",
   "execution_count": 71,
   "metadata": {},
   "outputs": [
    {
     "data": {
      "text/html": [
       "<div>\n",
       "<style scoped>\n",
       "    .dataframe tbody tr th:only-of-type {\n",
       "        vertical-align: middle;\n",
       "    }\n",
       "\n",
       "    .dataframe tbody tr th {\n",
       "        vertical-align: top;\n",
       "    }\n",
       "\n",
       "    .dataframe thead th {\n",
       "        text-align: right;\n",
       "    }\n",
       "</style>\n",
       "<table border=\"1\" class=\"dataframe\">\n",
       "  <thead>\n",
       "    <tr style=\"text-align: right;\">\n",
       "      <th></th>\n",
       "      <th>A</th>\n",
       "      <th>C</th>\n",
       "    </tr>\n",
       "    <tr>\n",
       "      <th>pos</th>\n",
       "      <th></th>\n",
       "      <th></th>\n",
       "    </tr>\n",
       "  </thead>\n",
       "  <tbody>\n",
       "    <tr>\n",
       "      <th>0</th>\n",
       "      <td>1.0</td>\n",
       "      <td>1.0</td>\n",
       "    </tr>\n",
       "    <tr>\n",
       "      <th>1</th>\n",
       "      <td>1.0</td>\n",
       "      <td>1.0</td>\n",
       "    </tr>\n",
       "    <tr>\n",
       "      <th>2</th>\n",
       "      <td>1.0</td>\n",
       "      <td>0.0</td>\n",
       "    </tr>\n",
       "  </tbody>\n",
       "</table>\n",
       "</div>"
      ],
      "text/plain": [
       "       A    C\n",
       "pos          \n",
       "0    1.0  1.0\n",
       "1    1.0  1.0\n",
       "2    1.0  0.0"
      ]
     },
     "execution_count": 71,
     "metadata": {},
     "output_type": "execute_result"
    }
   ],
   "source": [
    "mat = lm.alignment_to_matrix(['AAA', 'CC-'], characters_to_ignore='-')\n",
    "mat"
   ]
  },
  {
   "cell_type": "code",
   "execution_count": 65,
   "metadata": {},
   "outputs": [
    {
     "data": {
      "text/plain": [
       "<logomaker.src.Logo.Logo at 0x7fcd104f30d0>"
      ]
     },
     "execution_count": 65,
     "metadata": {},
     "output_type": "execute_result"
    },
    {
     "data": {
      "image/png": "[encoded data removed]",
      "text/plain": [
       "<Figure size 720x180 with 1 Axes>"
      ]
     },
     "metadata": {
      "needs_background": "light"
     },
     "output_type": "display_data"
    }
   ],
   "source": [
    "lm.Logo(mat)"
   ]
  },
  {
   "cell_type": "code",
   "execution_count": 66,
   "metadata": {},
   "outputs": [
    {
     "data": {
      "text/html": [
       "<div>\n",
       "<style scoped>\n",
       "    .dataframe tbody tr th:only-of-type {\n",
       "        vertical-align: middle;\n",
       "    }\n",
       "\n",
       "    .dataframe tbody tr th {\n",
       "        vertical-align: top;\n",
       "    }\n",
       "\n",
       "    .dataframe thead th {\n",
       "        text-align: right;\n",
       "    }\n",
       "</style>\n",
       "<table border=\"1\" class=\"dataframe\">\n",
       "  <thead>\n",
       "    <tr style=\"text-align: right;\">\n",
       "      <th></th>\n",
       "      <th>L</th>\n",
       "      <th>O</th>\n",
       "      <th>G</th>\n",
       "      <th>m</th>\n",
       "      <th>a</th>\n",
       "      <th>k</th>\n",
       "      <th>e</th>\n",
       "      <th>r</th>\n",
       "    </tr>\n",
       "    <tr>\n",
       "      <th>pos</th>\n",
       "      <th></th>\n",
       "      <th></th>\n",
       "      <th></th>\n",
       "      <th></th>\n",
       "      <th></th>\n",
       "      <th></th>\n",
       "      <th></th>\n",
       "      <th></th>\n",
       "    </tr>\n",
       "  </thead>\n",
       "  <tbody>\n",
       "    <tr>\n",
       "      <th>0</th>\n",
       "      <td>0.8</td>\n",
       "      <td>0.0</td>\n",
       "      <td>0.0</td>\n",
       "      <td>-0.5</td>\n",
       "      <td>0.0</td>\n",
       "      <td>0.0</td>\n",
       "      <td>0.0</td>\n",
       "      <td>0.0</td>\n",
       "    </tr>\n",
       "    <tr>\n",
       "      <th>1</th>\n",
       "      <td>0.0</td>\n",
       "      <td>0.6</td>\n",
       "      <td>0.0</td>\n",
       "      <td>0.0</td>\n",
       "      <td>-0.5</td>\n",
       "      <td>0.0</td>\n",
       "      <td>0.0</td>\n",
       "      <td>0.0</td>\n",
       "    </tr>\n",
       "    <tr>\n",
       "      <th>2</th>\n",
       "      <td>0.0</td>\n",
       "      <td>0.0</td>\n",
       "      <td>0.6</td>\n",
       "      <td>0.0</td>\n",
       "      <td>0.0</td>\n",
       "      <td>-0.5</td>\n",
       "      <td>0.0</td>\n",
       "      <td>0.0</td>\n",
       "    </tr>\n",
       "    <tr>\n",
       "      <th>3</th>\n",
       "      <td>0.0</td>\n",
       "      <td>0.6</td>\n",
       "      <td>0.0</td>\n",
       "      <td>0.0</td>\n",
       "      <td>0.0</td>\n",
       "      <td>0.0</td>\n",
       "      <td>-0.5</td>\n",
       "      <td>0.0</td>\n",
       "    </tr>\n",
       "    <tr>\n",
       "      <th>4</th>\n",
       "      <td>0.0</td>\n",
       "      <td>0.0</td>\n",
       "      <td>0.0</td>\n",
       "      <td>0.0</td>\n",
       "      <td>0.0</td>\n",
       "      <td>0.0</td>\n",
       "      <td>0.0</td>\n",
       "      <td>-0.5</td>\n",
       "    </tr>\n",
       "  </tbody>\n",
       "</table>\n",
       "</div>"
      ],
      "text/plain": [
       "       L    O    G    m    a    k    e    r\n",
       "pos                                        \n",
       "0    0.8  0.0  0.0 -0.5  0.0  0.0  0.0  0.0\n",
       "1    0.0  0.6  0.0  0.0 -0.5  0.0  0.0  0.0\n",
       "2    0.0  0.0  0.6  0.0  0.0 -0.5  0.0  0.0\n",
       "3    0.0  0.6  0.0  0.0  0.0  0.0 -0.5  0.0\n",
       "4    0.0  0.0  0.0  0.0  0.0  0.0  0.0 -0.5"
      ]
     },
     "execution_count": 66,
     "metadata": {},
     "output_type": "execute_result"
    }
   ],
   "source": [
    "lm.get_example_matrix('logomaker_logo_matrix',\n",
    "                                       print_description=False)"
   ]
  },
  {
   "cell_type": "code",
   "execution_count": null,
   "metadata": {},
   "outputs": [],
   "source": []
  },
  {
   "cell_type": "code",
   "execution_count": null,
   "metadata": {},
   "outputs": [],
   "source": []
  },
  {
   "cell_type": "code",
   "execution_count": null,
   "metadata": {},
   "outputs": [],
   "source": []
  },
  {
   "cell_type": "code",
   "execution_count": null,
   "metadata": {},
   "outputs": [],
   "source": []
  },
  {
   "cell_type": "code",
   "execution_count": null,
   "metadata": {},
   "outputs": [],
   "source": []
  },
  {
   "cell_type": "code",
   "execution_count": null,
   "metadata": {},
   "outputs": [],
   "source": []
  },
  {
   "cell_type": "code",
   "execution_count": null,
   "metadata": {},
   "outputs": [],
   "source": []
  },
  {
   "cell_type": "code",
   "execution_count": null,
   "metadata": {},
   "outputs": [],
   "source": []
  },
  {
   "cell_type": "code",
   "execution_count": 13,
   "metadata": {},
   "outputs": [
    {
     "name": "stdout",
     "output_type": "stream",
     "text": [
      "/Users/krdav/Google Drive/MCB/Sullivan_lab/tRNA-charge-seq/projects/tRNAseq_third-gen\n"
     ]
    }
   ],
   "source": [
    "%%bash\n",
    "pwd"
   ]
  },
  {
   "cell_type": "code",
   "execution_count": 15,
   "metadata": {},
   "outputs": [
    {
     "name": "stdout",
     "output_type": "stream",
     "text": [
      "AdapterRemoval\n",
      "BC_split\n",
      "SWalign\n",
      "UMI_trimmed\n",
      "raw_fastq\n",
      "raw_fastq_DSA-10k\n",
      "stats_collection\n",
      "stats_filtered_CC-CCA-aggregate.csv\n",
      "stats_strict_filtered_CC-CCA-aggregate.csv\n"
     ]
    }
   ],
   "source": [
    "%%bash\n",
    "ls data"
   ]
  },
  {
   "cell_type": "code",
   "execution_count": null,
   "metadata": {},
   "outputs": [],
   "source": []
  },
  {
   "cell_type": "code",
   "execution_count": 16,
   "metadata": {},
   "outputs": [],
   "source": [
    "agg_df = pd.read_csv('/Users/krdav/Google Drive/MCB/Sullivan_lab/tRNA-charge-seq/projects/tRNAseq_third-gen/data/stats_filtered_CC-CCA-aggregate.csv')"
   ]
  },
  {
   "cell_type": "code",
   "execution_count": 17,
   "metadata": {},
   "outputs": [
    {
     "ename": "NameError",
     "evalue": "name 'df_reads' is not defined",
     "output_type": "error",
     "traceback": [
      "\u001b[0;31m---------------------------------------------------------------------------\u001b[0m",
      "\u001b[0;31mNameError\u001b[0m                                 Traceback (most recent call last)",
      "\u001b[0;32m<ipython-input-17-3c7738e25894>\u001b[0m in \u001b[0;36m<module>\u001b[0;34m\u001b[0m\n\u001b[1;32m     54\u001b[0m \u001b[0;34m\u001b[0m\u001b[0m\n\u001b[1;32m     55\u001b[0m \u001b[0;31m# Mb memory:\u001b[0m\u001b[0;34m\u001b[0m\u001b[0;34m\u001b[0m\u001b[0;34m\u001b[0m\u001b[0m\n\u001b[0;32m---> 56\u001b[0;31m \u001b[0mdf_reads\u001b[0m\u001b[0;34m.\u001b[0m\u001b[0mmemory_usage\u001b[0m\u001b[0;34m(\u001b[0m\u001b[0;34m)\u001b[0m\u001b[0;34m.\u001b[0m\u001b[0msum\u001b[0m\u001b[0;34m(\u001b[0m\u001b[0;34m)\u001b[0m\u001b[0;34m/\u001b[0m\u001b[0;36m1e6\u001b[0m\u001b[0;34m\u001b[0m\u001b[0;34m\u001b[0m\u001b[0m\n\u001b[0m",
      "\u001b[0;31mNameError\u001b[0m: name 'df_reads' is not defined"
     ]
    }
   ],
   "source": [
    "# Extract a dataframe for charge data:\n",
    "dfcol = agg_df.columns.values\n",
    "col_mask = (dfcol != 'align_3p_nt') & (dfcol != 'count')\n",
    "cols_sele = dfcol[col_mask]\n",
    "df_charge = pd.DataFrame(columns=cols_sele)\n",
    "df_charge['charge'] = []\n",
    "df_charge['Ncharge'] = []\n",
    "\n",
    "\n",
    "# Count A/C endings:\n",
    "df_dict = dict()\n",
    "for row in agg_df.iterrows():\n",
    "    key = tuple(row[1].loc[cols_sele])\n",
    "    if key in df_dict:\n",
    "        df_dict[key][row[1]['align_3p_nt']] = row[1]['count']\n",
    "    else:\n",
    "        df_dict[key] = dict()\n",
    "        df_dict[key][row[1]['align_3p_nt']] = row[1]['count']\n",
    "# Add 0 count if count is missing,\n",
    "# then calculate the charge percentage:\n",
    "for key in df_dict.keys():\n",
    "    if 'A' not in df_dict[key]:\n",
    "        df_dict[key]['A'] = 0\n",
    "    if 'C' not in df_dict[key]:\n",
    "        df_dict[key]['C'] = 0\n",
    "\n",
    "    df_dict[key]['charge'] = df_dict[key]['A'] / (df_dict[key]['A'] + df_dict[key]['C']) * 100\n",
    "    df_dict[key]['Ncharge'] = (df_dict[key]['A'] + df_dict[key]['C'])\n",
    "\n",
    "# Use a tmp file to write charge\n",
    "# and total counts for the row (Ncharge),\n",
    "# then load into dataframe:\n",
    "try:\n",
    "    os.remove('tmp_df.csv')\n",
    "except:\n",
    "    pass\n",
    "with open('tmp_df.csv', 'a') as fh_csv:\n",
    "    df_charge.to_csv(fh_csv, header=True, index=False)\n",
    "    for i, key in enumerate(df_dict.keys()):\n",
    "        row = list(key)\n",
    "        row.append(df_dict[key]['charge'])\n",
    "        row.append(df_dict[key]['Ncharge'])\n",
    "        # df_charge.loc[i] = row # Too slow\n",
    "        print(','.join(map(str, row)), file=fh_csv)\n",
    "df_charge = pd.read_csv('tmp_df.csv')\n",
    "os.remove('tmp_df.csv')\n",
    "\n",
    "# Add RPM:\n",
    "for nam in set(df_charge['sample_name'].values):\n",
    "    rowm = df_charge['sample_name'] == nam\n",
    "    df_charge.loc[rowm, 'RPM'] = df_charge.loc[rowm, 'Ncharge'].values / (df_charge.loc[rowm, 'Ncharge'].sum()/1e6)\n",
    "df_charge['logRPM'] = np.log10(df_charge['RPM'].values)\n",
    "\n",
    "# Melt:\n",
    "df_charge_melt = pd.melt(df_charge, id_vars=['sample_name'], value_vars=['charge', 'Ncharge', 'RPM', 'amino_acid', 'tRNA_annotation'])\n"
   ]
  },
  {
   "cell_type": "code",
   "execution_count": 19,
   "metadata": {},
   "outputs": [],
   "source": [
    "def plot_sample_vs_sample(SN1_ls, SN2_ls, df_charge, df_charge_melt, var='charge', amino_acid='all', transcript='all', min_obs=50, xyrange='percentile'):\n",
    "    '''\n",
    "    var = [charge, RPM]\n",
    "    charge = CCA/(CCA+CC)\n",
    "    RPM = reads per million i.e. how many reads of a given transcript annotation observed per million reads\n",
    "    '''\n",
    "\n",
    "    var1 = '{}_1'.format(var)\n",
    "    var2 = '{}_2'.format(var)\n",
    "    \n",
    "    fig, axes = plt.subplots(ncols=len(SN1_ls), figsize=(6.5*len(SN1_ls), 5))\n",
    "    try:\n",
    "        len(axes)\n",
    "    except:\n",
    "        axes = [axes]\n",
    "\n",
    "    ax_i = 0\n",
    "    for SN1, SN2 in zip(SN1_ls, SN2_ls):\n",
    "        mask1 = np.array([False]*len(df_charge))\n",
    "        for SN1_i in SN1.split('+'):\n",
    "            mask1 = mask1 | (df_charge['sample_name'] == SN1_i)\n",
    "        #mask1 = (df_charge['sample_name'] == SN1)\n",
    "\n",
    "        mask2 = np.array([False]*len(df_charge))\n",
    "        for SN2_i in SN2.split('+'):\n",
    "            mask2 = mask2 | (df_charge['sample_name'] == SN2_i)\n",
    "        #mask2 = (df_charge['sample_name'] == SN2)\n",
    "\n",
    "        m12 = pd.merge(\n",
    "            df_charge[mask1],\n",
    "            df_charge[mask2],\n",
    "            how=\"inner\",\n",
    "            on='tRNA_annotation',\n",
    "            left_index=False,\n",
    "            right_index=False,\n",
    "            sort=True,\n",
    "            suffixes=(\"_1\", \"_2\"),\n",
    "            copy=True,\n",
    "            indicator=False,\n",
    "            validate=None,\n",
    "        )\n",
    "\n",
    "\n",
    "        min_mask = (m12['Ncharge_1'] > min_obs) & (m12['Ncharge_2'] > min_obs)\n",
    "        x_vals = m12[min_mask][var1].values\n",
    "        y_vals = m12[min_mask][var2].values\n",
    "        xy_vals = np.array([x_vals, y_vals])\n",
    "        # xy_min = 0\n",
    "        # xy_max = max(xy_vals)\n",
    "        if xyrange == 'percentile':\n",
    "            xy_min = np.percentile(xy_vals, 3)\n",
    "            xy_max = np.percentile(xy_vals, 97)\n",
    "        else:\n",
    "            xy_min, xy_max = xyrange\n",
    "            \n",
    "        \n",
    "\n",
    "        g1 = sns.regplot(ax=axes[ax_i], data=m12[min_mask], x=var1, y=var2)\n",
    "        if var == 'charge':\n",
    "            g1.set_xlabel('% charge (sample={})'.format(SN1))\n",
    "            g1.set_ylabel('% charge (sample={})'.format(SN2))\n",
    "            g1.set_title('Charge vs. charge (min obs = {})'.format(min_obs))\n",
    "            axes[ax_i].set(ylim=[xy_min, xy_max])\n",
    "            axes[ax_i].set(xlim=[xy_min, xy_max])\n",
    "            axes[ax_i].plot([xy_min, xy_max], [xy_min, xy_max], c='r')\n",
    "        elif var == 'RPM':\n",
    "            g1.set_xlabel('RPM (sample={})'.format(SN1))\n",
    "            g1.set_ylabel('RPM (sample={})'.format(SN2))\n",
    "            g1.set_title('RPM vs. RPM (min obs = {})'.format(min_obs))\n",
    "            axes[ax_i].plot([xy_min, xy_max], [xy_min, xy_max], c='r')\n",
    "        elif var == 'logRPM':\n",
    "            g1.set_xlabel('log(RPM) (sample={})'.format(SN1))\n",
    "            g1.set_ylabel('log(RPM) (sample={})'.format(SN2))\n",
    "            g1.set_title('RPM vs. RPM (min obs = {})'.format(min_obs))\n",
    "            axes[ax_i].plot([xy_min, xy_max], [xy_min, xy_max], c='r')\n",
    "        ax_i += 1\n",
    "        \n"
   ]
  },
  {
   "cell_type": "code",
   "execution_count": null,
   "metadata": {},
   "outputs": [],
   "source": []
  },
  {
   "cell_type": "code",
   "execution_count": 22,
   "metadata": {},
   "outputs": [
    {
     "data": {
      "text/html": [
       "<div>\n",
       "<style scoped>\n",
       "    .dataframe tbody tr th:only-of-type {\n",
       "        vertical-align: middle;\n",
       "    }\n",
       "\n",
       "    .dataframe tbody tr th {\n",
       "        vertical-align: top;\n",
       "    }\n",
       "\n",
       "    .dataframe thead th {\n",
       "        text-align: right;\n",
       "    }\n",
       "</style>\n",
       "<table border=\"1\" class=\"dataframe\">\n",
       "  <thead>\n",
       "    <tr style=\"text-align: right;\">\n",
       "      <th></th>\n",
       "      <th>sample_name</th>\n",
       "      <th>replicate</th>\n",
       "      <th>barcode</th>\n",
       "      <th>tRNA_annotation</th>\n",
       "      <th>tRNA_annotation_len</th>\n",
       "      <th>unique_annotation</th>\n",
       "      <th>codon</th>\n",
       "      <th>anticodon</th>\n",
       "      <th>amino_acid</th>\n",
       "      <th>charge</th>\n",
       "      <th>Ncharge</th>\n",
       "      <th>RPM</th>\n",
       "      <th>logRPM</th>\n",
       "    </tr>\n",
       "  </thead>\n",
       "  <tbody>\n",
       "    <tr>\n",
       "      <th>0</th>\n",
       "      <td>0m</td>\n",
       "      <td>3</td>\n",
       "      <td>l3Sp</td>\n",
       "      <td>Escherichia_coli_str_K_12_substr_MG1655_tRNA-e...</td>\n",
       "      <td>76</td>\n",
       "      <td>True</td>\n",
       "      <td>AAA</td>\n",
       "      <td>TTT</td>\n",
       "      <td>eColiLys</td>\n",
       "      <td>0.601323</td>\n",
       "      <td>1663</td>\n",
       "      <td>119.456917</td>\n",
       "      <td>2.077211</td>\n",
       "    </tr>\n",
       "  </tbody>\n",
       "</table>\n",
       "</div>"
      ],
      "text/plain": [
       "  sample_name  replicate barcode  \\\n",
       "0          0m          3    l3Sp   \n",
       "\n",
       "                                     tRNA_annotation  tRNA_annotation_len  \\\n",
       "0  Escherichia_coli_str_K_12_substr_MG1655_tRNA-e...                   76   \n",
       "\n",
       "   unique_annotation codon anticodon amino_acid    charge  Ncharge  \\\n",
       "0               True   AAA       TTT   eColiLys  0.601323     1663   \n",
       "\n",
       "          RPM    logRPM  \n",
       "0  119.456917  2.077211  "
      ]
     },
     "execution_count": 22,
     "metadata": {},
     "output_type": "execute_result"
    }
   ],
   "source": [
    "df_charge.head(1)"
   ]
  },
  {
   "cell_type": "code",
   "execution_count": 21,
   "metadata": {},
   "outputs": [
    {
     "data": {
      "text/plain": [
       "{'0m',\n",
       " '0p',\n",
       " '0p_90m',\n",
       " '100p',\n",
       " '10p',\n",
       " '16h',\n",
       " '16m',\n",
       " '1h',\n",
       " '25p',\n",
       " '2h',\n",
       " '32m',\n",
       " '40h',\n",
       " '40h_NoOx',\n",
       " '40p',\n",
       " '4h',\n",
       " '4m',\n",
       " '55p',\n",
       " '70p',\n",
       " '85p',\n",
       " '8h',\n",
       " '8m',\n",
       " 'L1',\n",
       " 'L10',\n",
       " 'L11',\n",
       " 'L12',\n",
       " 'L2',\n",
       " 'L3',\n",
       " 'L4',\n",
       " 'L5',\n",
       " 'L6',\n",
       " 'L7',\n",
       " 'L8',\n",
       " 'L9',\n",
       " 'R1',\n",
       " 'R10',\n",
       " 'R11',\n",
       " 'R12',\n",
       " 'R2',\n",
       " 'R3',\n",
       " 'R4',\n",
       " 'R5',\n",
       " 'R6',\n",
       " 'R7',\n",
       " 'R8',\n",
       " 'R9'}"
      ]
     },
     "execution_count": 21,
     "metadata": {},
     "output_type": "execute_result"
    }
   ],
   "source": [
    "set(df_charge['sample_name'])"
   ]
  },
  {
   "cell_type": "code",
   "execution_count": null,
   "metadata": {},
   "outputs": [],
   "source": []
  },
  {
   "cell_type": "code",
   "execution_count": 30,
   "metadata": {},
   "outputs": [
    {
     "data": {
      "image/png": "[encoded data removed]",
      "text/plain": [
       "<Figure size 468x360 with 1 Axes>"
      ]
     },
     "metadata": {
      "needs_background": "light"
     },
     "output_type": "display_data"
    }
   ],
   "source": [
    "for i in [1000]:\n",
    "    plot_sample_vs_sample(['0p'], ['0p_90m'], df_charge, df_charge_melt, min_obs=i, xyrange=(-1, 12))"
   ]
  },
  {
   "cell_type": "code",
   "execution_count": null,
   "metadata": {},
   "outputs": [],
   "source": []
  },
  {
   "cell_type": "code",
   "execution_count": 34,
   "metadata": {},
   "outputs": [
    {
     "data": {
      "image/png": "[encoded data removed]",
      "text/plain": [
       "<Figure size 468x360 with 1 Axes>"
      ]
     },
     "metadata": {
      "needs_background": "light"
     },
     "output_type": "display_data"
    }
   ],
   "source": [
    "plot_sample_vs_sample(['0p'], ['0p_90m'], df_charge, df_charge_melt, min_obs=1000, var='logRPM')"
   ]
  },
  {
   "cell_type": "code",
   "execution_count": null,
   "metadata": {},
   "outputs": [],
   "source": []
  },
  {
   "cell_type": "code",
   "execution_count": null,
   "metadata": {},
   "outputs": [],
   "source": []
  },
  {
   "cell_type": "code",
   "execution_count": null,
   "metadata": {},
   "outputs": [],
   "source": []
  },
  {
   "cell_type": "code",
   "execution_count": null,
   "metadata": {},
   "outputs": [],
   "source": []
  },
  {
   "cell_type": "code",
   "execution_count": null,
   "metadata": {},
   "outputs": [],
   "source": []
  },
  {
   "cell_type": "code",
   "execution_count": null,
   "metadata": {},
   "outputs": [],
   "source": []
  },
  {
   "cell_type": "code",
   "execution_count": null,
   "metadata": {},
   "outputs": [],
   "source": []
  },
  {
   "cell_type": "code",
   "execution_count": null,
   "metadata": {},
   "outputs": [],
   "source": []
  },
  {
   "cell_type": "code",
   "execution_count": 40,
   "metadata": {},
   "outputs": [],
   "source": [
    "sample_list_fnam = 'sample_list.xlsx'\n",
    "sample_df = pd.read_excel('{}/{}'.format(NBdir, sample_list_fnam))\n",
    "# Add barcode sequences:\n",
    "sample_df = index_to_sample_df(sample_df, index_df)\n",
    "\n",
    "df_charge = df_charge.merge(sample_df.loc[:, ['sample_name', 'replicate', 'barcode', 'plot_group', 'hue_name', 'hue_value', 'hue_order']], on=['sample_name', 'replicate'])"
   ]
  },
  {
   "cell_type": "code",
   "execution_count": 48,
   "metadata": {},
   "outputs": [],
   "source": [
    "df_charge['mito_codon'] = ['mito_tRNA' in anno for anno in df_charge['tRNA_annotation'].values]\n",
    "df_charge['human_codon'] = ['Homo_sapiens' in anno for anno in df_charge['tRNA_annotation'].values]\n",
    "df_charge['AA_codon'] = [AA + '-' + codon for codon, AA in zip(df_charge['codon'].values, df_charge['amino_acid'].values)]\n",
    "\n",
    "# Create single codon filter, to filter out sequences that map to\n",
    "# tRNA sequences with different codon/anticodon:\n",
    "single_codon = list()\n",
    "for anno_str, anticodon in zip(df_charge['tRNA_annotation'].values, df_charge['anticodon'].values):\n",
    "    sc = True\n",
    "    anno_list = anno_str.split('@')\n",
    "    for anno in anno_list:\n",
    "        if not anno.split('-')[2] == anticodon:\n",
    "            sc = False\n",
    "    single_codon.append(sc)\n",
    "df_charge['single_codon'] = single_codon"
   ]
  },
  {
   "cell_type": "code",
   "execution_count": 49,
   "metadata": {},
   "outputs": [
    {
     "data": {
      "text/plain": [
       "{'Acylation-half-life', 'Charge-titration', 'NoArg', 'NoLeu'}"
      ]
     },
     "execution_count": 49,
     "metadata": {},
     "output_type": "execute_result"
    }
   ],
   "source": [
    "set(df_charge['plot_group'].values)"
   ]
  },
  {
   "cell_type": "code",
   "execution_count": null,
   "metadata": {},
   "outputs": [],
   "source": []
  },
  {
   "cell_type": "code",
   "execution_count": 55,
   "metadata": {},
   "outputs": [
    {
     "data": {
      "text/plain": [
       "<Figure size 8064x648 with 0 Axes>"
      ]
     },
     "metadata": {},
     "output_type": "display_data"
    },
    {
     "data": {
      "text/plain": [
       "<Figure size 8064x648 with 0 Axes>"
      ]
     },
     "metadata": {},
     "output_type": "display_data"
    },
    {
     "data": {
      "text/plain": [
       "<Figure size 8064x648 with 0 Axes>"
      ]
     },
     "metadata": {},
     "output_type": "display_data"
    },
    {
     "data": {
      "text/plain": [
       "<Figure size 6048x648 with 0 Axes>"
      ]
     },
     "metadata": {},
     "output_type": "display_data"
    }
   ],
   "source": [
    "# No normalization\n",
    "\n",
    "plot_groups = set(df_charge['plot_group'].values)\n",
    "for plot_group in plot_groups:\n",
    "    Ngrp = len(set(df_charge[(df_charge['plot_group'] == plot_group)]['hue_order'].values))\n",
    "\n",
    "    fig = plt.figure(figsize=(28/3*Ngrp, 9))\n",
    "    gs = fig.add_gridspec(2, 4)\n",
    "    ax1 = fig.add_subplot(gs[0, :])\n",
    "    ax2 = fig.add_subplot(gs[1, 1:3])\n",
    "\n",
    "    # Cyto tRNAs\n",
    "    #mask = (df_charge['plot_group'] == plot_group) & (df_charge['human_codon']) & (~df_charge['mito_codon']) & (df_charge['Ncharge'] > 100) & (df_charge['single_codon'])\n",
    "    mask = (df_charge['plot_group'] == plot_group) & (~df_charge['mito_codon']) & (df_charge['Ncharge'] > 500) & (df_charge['single_codon']) & (df_charge['unique_annotation'])\n",
    "    if sum(mask) == 0:\n",
    "        continue\n",
    "    hue_order = [t[0] for t in sorted(dict(zip(df_charge[mask]['hue_value'].values, df_charge[mask]['hue_order'].values)).items(), key=lambda x: x[1])]\n",
    "    \n",
    "    codon_list = sorted(set(df_charge['AA_codon'][mask].values), key=str.casefold)\n",
    "    g1 = sns.barplot(ax=ax1, x='AA_codon', y='charge', order=codon_list, hue='hue_value', hue_order=hue_order, data=df_charge[mask], capsize=.1, errwidth=2, edgecolor='black', linewidth=2, alpha=0.7)\n",
    "    g1.set_title('Cytoplasmic tRNA')\n",
    "    g1.grid(True, axis='y')\n",
    "    g1.set_ylabel('Charge (%)');\n",
    "    g1.set_xlabel('');\n",
    "    g1.set_xticklabels(g1.get_xticklabels(), rotation=90)\n",
    "    old_legend = g1.legend_\n",
    "    handles = old_legend.legendHandles\n",
    "    labels = hue_order\n",
    "    title = df_charge[mask]['hue_name'].values[0]\n",
    "    g1.legend(handles, labels, title=title, bbox_to_anchor=(1.01,1), borderaxespad=0)\n",
    " \n",
    "    # mito tRNAs\n",
    "    # mask = (df_charge['plot_group'] == plot_group) & (df_charge['human_codon']) & (df_charge['mito_codon']) & (df_charge['Ncharge'] > 50) & (df_charge['single_codon'])\n",
    "    mask = (df_charge['plot_group'] ==  plot_group) & (df_charge['mito_codon']) & (df_charge['Ncharge'] > 500) & (df_charge['single_codon']) & (df_charge['unique_annotation'])\n",
    "    if sum(mask) == 0:\n",
    "        continue\n",
    "    codon_list = sorted(set(df_charge['AA_codon'][mask].values), key=str.casefold)\n",
    "    g2 = sns.barplot(ax=ax2, x='AA_codon', y='charge', order=codon_list, hue='hue_value', hue_order=hue_order, data=df_charge[mask], capsize=.1, errwidth=2, edgecolor='black', linewidth=2, alpha=0.7)\n",
    "    g2.set_title('Mitochondrial tRNA')\n",
    "    g2.grid(True, axis='y')\n",
    "    g2.set_ylabel('Charge (%)');\n",
    "    g2.set_xlabel('');\n",
    "    g2.set_xticklabels(g2.get_xticklabels(), rotation=90)\n",
    "    g2.legend_.remove()\n",
    "\n",
    "    plt.tight_layout()\n",
    "    fig.savefig('{}.pdf'.format(plot_group))\n",
    "    fig.clear()\n",
    "    g1.clear()\n",
    "    g2.clear()\n"
   ]
  },
  {
   "cell_type": "code",
   "execution_count": null,
   "metadata": {},
   "outputs": [],
   "source": []
  },
  {
   "cell_type": "code",
   "execution_count": null,
   "metadata": {},
   "outputs": [],
   "source": []
  },
  {
   "cell_type": "code",
   "execution_count": null,
   "metadata": {},
   "outputs": [],
   "source": []
  },
  {
   "cell_type": "code",
   "execution_count": null,
   "metadata": {},
   "outputs": [],
   "source": []
  },
  {
   "cell_type": "code",
   "execution_count": null,
   "metadata": {},
   "outputs": [],
   "source": []
  },
  {
   "cell_type": "code",
   "execution_count": null,
   "metadata": {},
   "outputs": [],
   "source": []
  },
  {
   "cell_type": "code",
   "execution_count": null,
   "metadata": {},
   "outputs": [],
   "source": []
  }
 ],
 "metadata": {
  "kernelspec": {
   "display_name": "Python 3",
   "language": "python",
   "name": "python3"
  },
  "language_info": {
   "codemirror_mode": {
    "name": "ipython",
    "version": 3
   },
   "file_extension": ".py",
   "mimetype": "text/x-python",
   "name": "python",
   "nbconvert_exporter": "python",
   "pygments_lexer": "ipython3",
   "version": "3.8.5"
  }
 },
 "nbformat": 4,
 "nbformat_minor": 4
}
