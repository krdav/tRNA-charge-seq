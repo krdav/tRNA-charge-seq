{
 "cells": [
  {
   "cell_type": "code",
   "execution_count": 1,
   "metadata": {},
   "outputs": [],
   "source": [
    "%load_ext autoreload\n",
    "%autoreload 2"
   ]
  },
  {
   "cell_type": "code",
   "execution_count": 2,
   "metadata": {},
   "outputs": [],
   "source": [
    "import os, sys, shutil, bz2, random, resource, warnings, subprocess, copy, re, glob, json, collections, gc, contextlib\n",
    "from pathlib import Path\n",
    "import json_stream\n",
    "import xml.etree.ElementTree as ET\n",
    "from subprocess import Popen, PIPE, STDOUT\n",
    "import pandas as pd\n",
    "pd.set_option('display.max_columns', 50)\n",
    "import numpy as np\n",
    "from Bio import SeqIO, bgzf\n",
    "import Bio.Data.CodonTable\n",
    "from Bio.SeqIO.QualityIO import FastqGeneralIterator\n",
    "from Bio import Seq, SeqIO, SearchIO, SeqRecord\n",
    "from mpire import WorkerPool\n",
    "import jellyfish\n",
    "from Bio import Align\n",
    "from scipy.cluster.hierarchy import dendrogram, linkage\n",
    "from scipy.spatial.distance import pdist"
   ]
  },
  {
   "cell_type": "code",
   "execution_count": 3,
   "metadata": {},
   "outputs": [],
   "source": [
    "### Plotting imports ###\n",
    "import seaborn as sns\n",
    "import matplotlib.pyplot as plt\n",
    "from matplotlib.backends.backend_pdf import PdfPages\n",
    "import matplotlib.colors as mcolors\n",
    "import matplotlib as mpl\n",
    "from matplotlib.patches import StepPatch\n",
    "import matplotlib.ticker as ticker\n",
    "import matplotlib.gridspec as gridspec\n",
    "import logomaker as lm\n",
    "from cycler import cycler\n",
    "palette = list(mcolors.TABLEAU_COLORS.keys())\n",
    "sns.set_theme(style=\"ticks\", palette=\"muted\")\n",
    "sns.set_context(\"talk\")\n",
    "%matplotlib inline"
   ]
  },
  {
   "cell_type": "code",
   "execution_count": null,
   "metadata": {},
   "outputs": [],
   "source": []
  },
  {
   "cell_type": "code",
   "execution_count": null,
   "metadata": {},
   "outputs": [],
   "source": []
  },
  {
   "cell_type": "code",
   "execution_count": 4,
   "metadata": {},
   "outputs": [
    {
     "name": "stdout",
     "output_type": "stream",
     "text": [
      "Notebook is in: /Users/krdav/Google Drive/MCB/Sullivan_lab/tRNA-charge-seq/projects/tRNAseq_third-gen\n",
      "Repo is in: /Users/krdav/Google Drive/MCB/Sullivan_lab/tRNA-charge-seq\n",
      "Using minimum read length: 49 (after merge)\n",
      "Using minimum alignemnt score: 20\n"
     ]
    }
   ],
   "source": [
    "# Navigate back to NBdir in case of re-running a code block:\n",
    "if not 'NBdir' in globals():\n",
    "    NBdir = os.getcwd()\n",
    "print('Notebook is in: {}'.format(NBdir))\n",
    "os.chdir(NBdir)  # If you changed the current working dir, this will take you back to the notebook dir.\n",
    "\n",
    "# Define the path to the repo folder.\n",
    "# Change if necessary.\n",
    "homedir = '/'.join(NBdir.split('/')[0:-2])\n",
    "print('Repo is in: {}'.format(homedir))\n",
    "sys.path.insert(1, homedir)\n",
    "from utils.misc import index_to_sample_df, downsample_raw_input, read_tRNAdb_info, sample_df_to_dict\n",
    "from utils.read_processing import AR_merge, BC_split, Kmer_analysis, BC_analysis, UMI_trim\n",
    "from utils.alignment import SWIPE_align\n",
    "from utils.stats_collection import STATS_collection\n",
    "from utils.plotting import TRNA_plot\n",
    "from utils.transcript_mutations import TM_analysis\n",
    "\n",
    "# These are default folder names for data and raw fastq files\n",
    "# relative to the folder in which this notebook is in:\n",
    "data_dir = 'data'\n",
    "seq_dir = 'raw_fastq'\n",
    "seq_dir_noDS = seq_dir # Not downsampled\n",
    "\n",
    "# These folder names are used in subsequent processing steps\n",
    "# to dump data. Best to not change:\n",
    "AdapterRemoval_dir = 'AdapterRemoval'\n",
    "BC_dir = 'BC_split'\n",
    "UMI_dir = 'UMI_trimmed'\n",
    "align_dir = 'SWalign'\n",
    "stats_dir = 'stats_collection'\n",
    "TM_dir = 'transcript_mutations'\n",
    "plotting_dir = 'plotting'\n",
    "tRNA_database = dict()\n",
    "tRNA_database['human'] = '{}/utils/tRNA_database/human/hg38-tRNAs.fa'.format(homedir)\n",
    "tRNA_database['mouse'] = '{}/utils/tRNA_database/mouse/mm10-tRNAs.fa'.format(homedir)\n",
    "# Read information (length, codon etc) of tRNAs into dictionary:\n",
    "tRNA_data = read_tRNAdb_info(tRNA_database)\n",
    "SWIPE_score_mat = '{}/utils/nuc_score-matrix.txt'.format(homedir)\n",
    "SWIPE_score_mat2 = '{}/utils/nuc_score-matrix_2.txt'.format(homedir) # For masked reference sequences\n",
    "# tRNA sequencing yields many duplicated reads.\n",
    "# Adding these commonly seen sequences to a list prevents duplicated alignment:\n",
    "common_seqs = '{}/utils/common-seqs.fasta.bz2'.format(homedir)\n",
    "# ^^ That one is too big, take the top 1k instead:\n",
    "common_seqs = '{}/utils/common-seqs_1k.fasta.bz2'.format(homedir)\n",
    "\n",
    "# Define minimum read length based on minimum insert size:\n",
    "MIN_INSERT_LEN = 20\n",
    "UMI_LEN = 10\n",
    "BC_MAX_LEN = 19\n",
    "MIN_READ_LEN = MIN_INSERT_LEN + UMI_LEN + BC_MAX_LEN\n",
    "print('Using minimum read length: {} (after merge)'.format(MIN_READ_LEN))\n",
    "\n",
    "# The minimum alignment score.\n",
    "# The alignment score is calculated as 1 per match,\n",
    "# -2 per mismatch, -6 per gap opening and -1 per gap extension.\n",
    "# Better to set relatively low, since additional filtering can\n",
    "# be applied later.\n",
    "MIN_SCORE_ALIGN = 20\n",
    "print('Using minimum alignemnt score: {}'.format(MIN_SCORE_ALIGN))\n",
    "\n",
    "# Read index information:\n",
    "index_list_fnam = 'index_list.xlsx'\n",
    "index_df = pd.read_excel('{}/utils/{}'.format(homedir, index_list_fnam))"
   ]
  },
  {
   "cell_type": "code",
   "execution_count": null,
   "metadata": {},
   "outputs": [],
   "source": []
  },
  {
   "cell_type": "code",
   "execution_count": null,
   "metadata": {},
   "outputs": [],
   "source": []
  },
  {
   "cell_type": "markdown",
   "metadata": {},
   "source": [
    "### Settings"
   ]
  },
  {
   "cell_type": "code",
   "execution_count": 5,
   "metadata": {},
   "outputs": [],
   "source": [
    "sample_list_fnam = 'sample_list_P1-2-3.xlsx'\n",
    "sample_df = pd.read_excel('{}/{}'.format(NBdir, sample_list_fnam))\n",
    "# Add barcode sequences:\n",
    "sample_df = index_to_sample_df(sample_df, index_df)\n",
    "# Read elementary info (replicate, barcode, species)\n",
    "# for each unique sample name into a dictionary:\n",
    "sample_dict = sample_df_to_dict(sample_df)\n",
    "# Get filenames from the sample information:\n",
    "inp_file_df = sample_df[['fastq_mate1_filename', 'fastq_mate2_filename', 'P5_index', 'P7_index', 'P5_index_seq', 'P7_index_seq']].copy().drop_duplicates().reset_index(drop=True)\n",
    "\n",
    "# Downsample:\n",
    "if True:\n",
    "    sample_df, inp_file_df, seq_dir = downsample_raw_input(sample_df, inp_file_df, NBdir, data_dir, seq_dir_noDS, downsample_absolute=1e4)\n",
    "\n",
    "# Make a dictionary with paths used for data processing:\n",
    "dir_dict = dict(NBdir = NBdir,\n",
    "                data_dir = data_dir,\n",
    "                seq_dir = seq_dir,\n",
    "                AdapterRemoval_dir = AdapterRemoval_dir,\n",
    "                BC_dir = BC_dir,\n",
    "                UMI_dir = UMI_dir,\n",
    "                align_dir = align_dir,\n",
    "                stats_dir = stats_dir,\n",
    "                TM_dir = TM_dir,\n",
    "                plotting_dir = plotting_dir)"
   ]
  },
  {
   "cell_type": "code",
   "execution_count": null,
   "metadata": {},
   "outputs": [],
   "source": []
  },
  {
   "cell_type": "code",
   "execution_count": 6,
   "metadata": {},
   "outputs": [],
   "source": [
    "# Run AdapterRemoval:\n",
    "AR_obj = AR_merge(dir_dict, inp_file_df, MIN_READ_LEN)\n",
    "AdapterRemoval_dir_abs = AR_obj.make_dir(overwrite=True)\n",
    "# inp_file_df = AR_obj.run_serial()\n",
    "inp_file_df = AR_obj.run_parallel(n_jobs=4, overwrite=True)"
   ]
  },
  {
   "cell_type": "code",
   "execution_count": 7,
   "metadata": {},
   "outputs": [],
   "source": [
    "# Split files based on barcodes:\n",
    "BCsplit_obj = BC_split(dir_dict, sample_df, inp_file_df)\n",
    "BC_dir_abs = BCsplit_obj.make_dir(overwrite=True)\n",
    "# sample_df, inp_file_df = BCsplit_obj.run_serial()\n",
    "sample_df, inp_file_df = BCsplit_obj.run_parallel(n_jobs=4, overwrite=True)"
   ]
  },
  {
   "cell_type": "code",
   "execution_count": 8,
   "metadata": {},
   "outputs": [],
   "source": [
    "### Perform Kmer analysis on unmapped reads ###\n",
    "if False: # barcode analysis is typically suficient \n",
    "    kmer_obj = Kmer_analysis(dir_dict, inp_file_df, index_df)\n",
    "    # Add a filter to avoid Kmers from the end of tRNA sequences:\n",
    "    kmer_obj.filter_3p_fasta(tRNA_database['human'])\n",
    "    # Add to this filter the constant region of the adapters:\n",
    "    kmer_obj.filter_window_BC(filter_window=(0, 11))\n",
    "    # Search for Kmers:\n",
    "    all_kmer = kmer_obj.search_unmapped(search_size=13)"
   ]
  },
  {
   "cell_type": "code",
   "execution_count": 9,
   "metadata": {},
   "outputs": [
    {
     "data": {
      "text/html": [
       "<div>\n",
       "<style scoped>\n",
       "    .dataframe tbody tr th:only-of-type {\n",
       "        vertical-align: middle;\n",
       "    }\n",
       "\n",
       "    .dataframe tbody tr th {\n",
       "        vertical-align: top;\n",
       "    }\n",
       "\n",
       "    .dataframe thead th {\n",
       "        text-align: right;\n",
       "    }\n",
       "</style>\n",
       "<table border=\"1\" class=\"dataframe\">\n",
       "  <thead>\n",
       "    <tr style=\"text-align: right;\">\n",
       "      <th></th>\n",
       "      <th>Name</th>\n",
       "      <th>Count</th>\n",
       "    </tr>\n",
       "  </thead>\n",
       "  <tbody>\n",
       "    <tr>\n",
       "      <th>0</th>\n",
       "      <td>l5Sp</td>\n",
       "      <td>163</td>\n",
       "    </tr>\n",
       "    <tr>\n",
       "      <th>1</th>\n",
       "      <td>l12Sp</td>\n",
       "      <td>106</td>\n",
       "    </tr>\n",
       "    <tr>\n",
       "      <th>2</th>\n",
       "      <td>l4Sp</td>\n",
       "      <td>65</td>\n",
       "    </tr>\n",
       "    <tr>\n",
       "      <th>3</th>\n",
       "      <td>l6Sp</td>\n",
       "      <td>52</td>\n",
       "    </tr>\n",
       "    <tr>\n",
       "      <th>4</th>\n",
       "      <td>l9Sp</td>\n",
       "      <td>48</td>\n",
       "    </tr>\n",
       "    <tr>\n",
       "      <th>5</th>\n",
       "      <td>l10Sp</td>\n",
       "      <td>47</td>\n",
       "    </tr>\n",
       "    <tr>\n",
       "      <th>6</th>\n",
       "      <td>l3Sp</td>\n",
       "      <td>42</td>\n",
       "    </tr>\n",
       "    <tr>\n",
       "      <th>7</th>\n",
       "      <td>l8Sp</td>\n",
       "      <td>40</td>\n",
       "    </tr>\n",
       "    <tr>\n",
       "      <th>8</th>\n",
       "      <td>l1Sp</td>\n",
       "      <td>38</td>\n",
       "    </tr>\n",
       "    <tr>\n",
       "      <th>9</th>\n",
       "      <td>l2Sp</td>\n",
       "      <td>29</td>\n",
       "    </tr>\n",
       "    <tr>\n",
       "      <th>10</th>\n",
       "      <td>l7Sp</td>\n",
       "      <td>21</td>\n",
       "    </tr>\n",
       "    <tr>\n",
       "      <th>11</th>\n",
       "      <td>l11Sp</td>\n",
       "      <td>3</td>\n",
       "    </tr>\n",
       "  </tbody>\n",
       "</table>\n",
       "</div>"
      ],
      "text/plain": [
       "     Name  Count\n",
       "0    l5Sp    163\n",
       "1   l12Sp    106\n",
       "2    l4Sp     65\n",
       "3    l6Sp     52\n",
       "4    l9Sp     48\n",
       "5   l10Sp     47\n",
       "6    l3Sp     42\n",
       "7    l8Sp     40\n",
       "8    l1Sp     38\n",
       "9    l2Sp     29\n",
       "10   l7Sp     21\n",
       "11  l11Sp      3"
      ]
     },
     "execution_count": 9,
     "metadata": {},
     "output_type": "execute_result"
    }
   ],
   "source": [
    "### Perform barcode analysis on unmapped reads ###\n",
    "# Recall that adapters look like this:\n",
    "# GGCTGCCATGC    GACTA\n",
    "# GGCTGCCATGCA   AGTGC\n",
    "# GGCTGCCATGCTG  TCACG\n",
    "# GGCTGCCATGCAAC CTGAT\n",
    "# With the barcode as the rightmost 5 nt.\n",
    "# Search these 5 nt. barcodes by specifying BC_size_3p=5\n",
    "bc_analysis_obj = BC_analysis(dir_dict, inp_file_df, index_df, BC_size_3p=5, overwrite=True)\n",
    "# Search for barcodes in the unmapped reads.\n",
    "# For the summary output, filter by a max distance\n",
    "# to any barcode of 1 (group_dist=1), then group by barcode name:\n",
    "bc_analysis_df = bc_analysis_obj.search_unmapped(group_dist=1, overwrite=True)\n",
    "bc_analysis_df"
   ]
  },
  {
   "cell_type": "code",
   "execution_count": 10,
   "metadata": {},
   "outputs": [
    {
     "data": {
      "text/html": [
       "<div>\n",
       "<style scoped>\n",
       "    .dataframe tbody tr th:only-of-type {\n",
       "        vertical-align: middle;\n",
       "    }\n",
       "\n",
       "    .dataframe tbody tr th {\n",
       "        vertical-align: top;\n",
       "    }\n",
       "\n",
       "    .dataframe thead th {\n",
       "        text-align: right;\n",
       "    }\n",
       "</style>\n",
       "<table border=\"1\" class=\"dataframe\">\n",
       "  <thead>\n",
       "    <tr style=\"text-align: right;\">\n",
       "      <th></th>\n",
       "      <th>sample_name_unique</th>\n",
       "      <th>sample_name</th>\n",
       "      <th>replicate</th>\n",
       "      <th>P5_index</th>\n",
       "      <th>P7_index</th>\n",
       "      <th>barcode</th>\n",
       "      <th>species</th>\n",
       "      <th>plot_group</th>\n",
       "      <th>hue_name</th>\n",
       "      <th>hue_value</th>\n",
       "      <th>hue_order</th>\n",
       "      <th>P5_index_seq</th>\n",
       "      <th>P7_index_seq</th>\n",
       "      <th>barcode_seq</th>\n",
       "      <th>fastq_mate1_filename</th>\n",
       "      <th>fastq_mate2_filename</th>\n",
       "      <th>N_total</th>\n",
       "      <th>N_CC</th>\n",
       "      <th>N_CCA</th>\n",
       "      <th>N_CCA+CC</th>\n",
       "      <th>CCA+CC_percent_total</th>\n",
       "      <th>percent_CCA</th>\n",
       "      <th>N_after_trim</th>\n",
       "      <th>N_UMI_observed</th>\n",
       "      <th>N_UMI_expected</th>\n",
       "      <th>percent_seqs_after_UMI_trim</th>\n",
       "      <th>percent_UMI_obs-vs-exp</th>\n",
       "    </tr>\n",
       "  </thead>\n",
       "  <tbody>\n",
       "    <tr>\n",
       "      <th>0</th>\n",
       "      <td>100p1</td>\n",
       "      <td>100p</td>\n",
       "      <td>1</td>\n",
       "      <td>D501</td>\n",
       "      <td>D701</td>\n",
       "      <td>l1Sp</td>\n",
       "      <td>human</td>\n",
       "      <td>Charge-titration</td>\n",
       "      <td>Percent charge</td>\n",
       "      <td>100p</td>\n",
       "      <td>1</td>\n",
       "      <td>AGGCTATA</td>\n",
       "      <td>ATTACTCG</td>\n",
       "      <td>GGCTGCCATGCGACTA</td>\n",
       "      <td>P1_R1_DSA-10k.fastq.bz2</td>\n",
       "      <td>P1_R2_DSA-10k.fastq.bz2</td>\n",
       "      <td>944</td>\n",
       "      <td>38</td>\n",
       "      <td>902</td>\n",
       "      <td>940</td>\n",
       "      <td>99.576271</td>\n",
       "      <td>95.957447</td>\n",
       "      <td>931</td>\n",
       "      <td>866</td>\n",
       "      <td>930.174768</td>\n",
       "      <td>98.622881</td>\n",
       "      <td>93.100784</td>\n",
       "    </tr>\n",
       "    <tr>\n",
       "      <th>1</th>\n",
       "      <td>100p2</td>\n",
       "      <td>100p</td>\n",
       "      <td>2</td>\n",
       "      <td>D501</td>\n",
       "      <td>D702</td>\n",
       "      <td>l2Sp</td>\n",
       "      <td>human</td>\n",
       "      <td>Charge-titration</td>\n",
       "      <td>Percent charge</td>\n",
       "      <td>100p</td>\n",
       "      <td>1</td>\n",
       "      <td>AGGCTATA</td>\n",
       "      <td>TCCGGAGA</td>\n",
       "      <td>GGCTGCCATGCAAGTGC</td>\n",
       "      <td>P2_R1_DSA-10k.fastq.bz2</td>\n",
       "      <td>P2_R2_DSA-10k.fastq.bz2</td>\n",
       "      <td>673</td>\n",
       "      <td>14</td>\n",
       "      <td>648</td>\n",
       "      <td>662</td>\n",
       "      <td>98.365527</td>\n",
       "      <td>97.885196</td>\n",
       "      <td>663</td>\n",
       "      <td>622</td>\n",
       "      <td>662.581602</td>\n",
       "      <td>98.514116</td>\n",
       "      <td>93.875230</td>\n",
       "    </tr>\n",
       "    <tr>\n",
       "      <th>2</th>\n",
       "      <td>100p3</td>\n",
       "      <td>100p</td>\n",
       "      <td>3</td>\n",
       "      <td>D501</td>\n",
       "      <td>D703</td>\n",
       "      <td>l3Sp</td>\n",
       "      <td>human</td>\n",
       "      <td>Charge-titration</td>\n",
       "      <td>Percent charge</td>\n",
       "      <td>100p</td>\n",
       "      <td>1</td>\n",
       "      <td>AGGCTATA</td>\n",
       "      <td>CGCTCATT</td>\n",
       "      <td>GGCTGCCATGCTGTCACG</td>\n",
       "      <td>P3_R1_DSA-10k.fastq.bz2</td>\n",
       "      <td>P3_R2_DSA-10k.fastq.bz2</td>\n",
       "      <td>709</td>\n",
       "      <td>35</td>\n",
       "      <td>666</td>\n",
       "      <td>701</td>\n",
       "      <td>98.871650</td>\n",
       "      <td>95.007133</td>\n",
       "      <td>692</td>\n",
       "      <td>633</td>\n",
       "      <td>691.544180</td>\n",
       "      <td>97.602257</td>\n",
       "      <td>91.534282</td>\n",
       "    </tr>\n",
       "  </tbody>\n",
       "</table>\n",
       "</div>"
      ],
      "text/plain": [
       "  sample_name_unique sample_name  replicate P5_index P7_index barcode species  \\\n",
       "0              100p1        100p          1     D501     D701    l1Sp   human   \n",
       "1              100p2        100p          2     D501     D702    l2Sp   human   \n",
       "2              100p3        100p          3     D501     D703    l3Sp   human   \n",
       "\n",
       "         plot_group        hue_name hue_value  hue_order P5_index_seq  \\\n",
       "0  Charge-titration  Percent charge      100p          1     AGGCTATA   \n",
       "1  Charge-titration  Percent charge      100p          1     AGGCTATA   \n",
       "2  Charge-titration  Percent charge      100p          1     AGGCTATA   \n",
       "\n",
       "  P7_index_seq         barcode_seq     fastq_mate1_filename  \\\n",
       "0     ATTACTCG    GGCTGCCATGCGACTA  P1_R1_DSA-10k.fastq.bz2   \n",
       "1     TCCGGAGA   GGCTGCCATGCAAGTGC  P2_R1_DSA-10k.fastq.bz2   \n",
       "2     CGCTCATT  GGCTGCCATGCTGTCACG  P3_R1_DSA-10k.fastq.bz2   \n",
       "\n",
       "      fastq_mate2_filename  N_total  N_CC  N_CCA  N_CCA+CC  \\\n",
       "0  P1_R2_DSA-10k.fastq.bz2      944    38    902       940   \n",
       "1  P2_R2_DSA-10k.fastq.bz2      673    14    648       662   \n",
       "2  P3_R2_DSA-10k.fastq.bz2      709    35    666       701   \n",
       "\n",
       "   CCA+CC_percent_total  percent_CCA  N_after_trim  N_UMI_observed  \\\n",
       "0             99.576271    95.957447           931             866   \n",
       "1             98.365527    97.885196           663             622   \n",
       "2             98.871650    95.007133           692             633   \n",
       "\n",
       "   N_UMI_expected  percent_seqs_after_UMI_trim  percent_UMI_obs-vs-exp  \n",
       "0      930.174768                    98.622881               93.100784  \n",
       "1      662.581602                    98.514116               93.875230  \n",
       "2      691.544180                    97.602257               91.534282  "
      ]
     },
     "execution_count": 10,
     "metadata": {},
     "output_type": "execute_result"
    }
   ],
   "source": [
    "### Generate UMI stats and write final trimmed tRNA sequences ###\n",
    "# Note, the cDNA input amount is so large that it is very unlikely to sequence\n",
    "# the same PCR amplified DNA twice. Therefore, this processing step does not\n",
    "# attempt to merge possible UMI duplicates.\n",
    "UMItrim_obj = UMI_trim(dir_dict, sample_df)\n",
    "UMI_dir_abs = UMItrim_obj.make_dir(overwrite=True)\n",
    "# sample_df = UMItrim_obj.run_serial()\n",
    "sample_df = UMItrim_obj.run_parallel(n_jobs=4, overwrite=True)\n",
    "sample_df.head(3)"
   ]
  },
  {
   "cell_type": "code",
   "execution_count": 13,
   "metadata": {},
   "outputs": [
    {
     "name": "stdout",
     "output_type": "stream",
     "text": [
      "Using common sequences to prevent duplicated alignment.\n",
      "Running Swipe on:  100p3  100p1  100p4  100p2  85p4  85p3  85p2  70p2  85p1  70p1  70p3  55p1  55p2  55p4  40p1  70p4  40p2  40p3  25p2  55p3  25p3  10p1  25p1  25p4  10p4  10p2  40p4  10p3  0p2  0p_90m1  0p1  0p3  0p4  0p_90m4  0p_90m3  0p_90m2  common-seqs\n",
      "Collecting alignment statistics, from sample:  100p1  100p3  100p2  100p4  85p4  85p3  85p2  85p1  70p2  70p3  70p1  70p4  55p3  55p1  55p2  55p4  40p1  40p2  40p3  40p4  25p1  25p3  25p2  25p4  10p2  10p3  10p4  10p1  0p1  0p2  0p4  0p3  0p_90m1  0p_90m2  0p_90m4  0p_90m3  common-seqs"
     ]
    },
    {
     "data": {
      "text/html": [
       "<div>\n",
       "<style scoped>\n",
       "    .dataframe tbody tr th:only-of-type {\n",
       "        vertical-align: middle;\n",
       "    }\n",
       "\n",
       "    .dataframe tbody tr th {\n",
       "        vertical-align: top;\n",
       "    }\n",
       "\n",
       "    .dataframe thead th {\n",
       "        text-align: right;\n",
       "    }\n",
       "</style>\n",
       "<table border=\"1\" class=\"dataframe\">\n",
       "  <thead>\n",
       "    <tr style=\"text-align: right;\">\n",
       "      <th></th>\n",
       "      <th>sample_name_unique</th>\n",
       "      <th>sample_name</th>\n",
       "      <th>replicate</th>\n",
       "      <th>P5_index</th>\n",
       "      <th>P7_index</th>\n",
       "      <th>barcode</th>\n",
       "      <th>species</th>\n",
       "      <th>plot_group</th>\n",
       "      <th>hue_name</th>\n",
       "      <th>hue_value</th>\n",
       "      <th>hue_order</th>\n",
       "      <th>P5_index_seq</th>\n",
       "      <th>P7_index_seq</th>\n",
       "      <th>barcode_seq</th>\n",
       "      <th>fastq_mate1_filename</th>\n",
       "      <th>fastq_mate2_filename</th>\n",
       "      <th>N_total</th>\n",
       "      <th>N_CC</th>\n",
       "      <th>N_CCA</th>\n",
       "      <th>N_CCA+CC</th>\n",
       "      <th>CCA+CC_percent_total</th>\n",
       "      <th>percent_CCA</th>\n",
       "      <th>N_after_trim</th>\n",
       "      <th>N_UMI_observed</th>\n",
       "      <th>N_UMI_expected</th>\n",
       "      <th>percent_seqs_after_UMI_trim</th>\n",
       "      <th>percent_UMI_obs-vs-exp</th>\n",
       "      <th>N_mapped</th>\n",
       "      <th>percent_single_annotation</th>\n",
       "      <th>percent_multiple_annotation</th>\n",
       "      <th>Mapping_percent</th>\n",
       "    </tr>\n",
       "  </thead>\n",
       "  <tbody>\n",
       "    <tr>\n",
       "      <th>0</th>\n",
       "      <td>100p1</td>\n",
       "      <td>100p</td>\n",
       "      <td>1</td>\n",
       "      <td>D501</td>\n",
       "      <td>D701</td>\n",
       "      <td>l1Sp</td>\n",
       "      <td>human</td>\n",
       "      <td>Charge-titration</td>\n",
       "      <td>Percent charge</td>\n",
       "      <td>100p</td>\n",
       "      <td>1</td>\n",
       "      <td>AGGCTATA</td>\n",
       "      <td>ATTACTCG</td>\n",
       "      <td>GGCTGCCATGCGACTA</td>\n",
       "      <td>P1_R1_DSA-10k.fastq.bz2</td>\n",
       "      <td>P1_R2_DSA-10k.fastq.bz2</td>\n",
       "      <td>944</td>\n",
       "      <td>38</td>\n",
       "      <td>902</td>\n",
       "      <td>940</td>\n",
       "      <td>99.576271</td>\n",
       "      <td>95.957447</td>\n",
       "      <td>931</td>\n",
       "      <td>866</td>\n",
       "      <td>930.174768</td>\n",
       "      <td>98.622881</td>\n",
       "      <td>93.100784</td>\n",
       "      <td>920.0</td>\n",
       "      <td>74.565217</td>\n",
       "      <td>25.434783</td>\n",
       "      <td>98.818475</td>\n",
       "    </tr>\n",
       "    <tr>\n",
       "      <th>1</th>\n",
       "      <td>100p2</td>\n",
       "      <td>100p</td>\n",
       "      <td>2</td>\n",
       "      <td>D501</td>\n",
       "      <td>D702</td>\n",
       "      <td>l2Sp</td>\n",
       "      <td>human</td>\n",
       "      <td>Charge-titration</td>\n",
       "      <td>Percent charge</td>\n",
       "      <td>100p</td>\n",
       "      <td>1</td>\n",
       "      <td>AGGCTATA</td>\n",
       "      <td>TCCGGAGA</td>\n",
       "      <td>GGCTGCCATGCAAGTGC</td>\n",
       "      <td>P2_R1_DSA-10k.fastq.bz2</td>\n",
       "      <td>P2_R2_DSA-10k.fastq.bz2</td>\n",
       "      <td>673</td>\n",
       "      <td>14</td>\n",
       "      <td>648</td>\n",
       "      <td>662</td>\n",
       "      <td>98.365527</td>\n",
       "      <td>97.885196</td>\n",
       "      <td>663</td>\n",
       "      <td>622</td>\n",
       "      <td>662.581602</td>\n",
       "      <td>98.514116</td>\n",
       "      <td>93.875230</td>\n",
       "      <td>652.0</td>\n",
       "      <td>74.079755</td>\n",
       "      <td>25.920245</td>\n",
       "      <td>98.340875</td>\n",
       "    </tr>\n",
       "    <tr>\n",
       "      <th>2</th>\n",
       "      <td>100p3</td>\n",
       "      <td>100p</td>\n",
       "      <td>3</td>\n",
       "      <td>D501</td>\n",
       "      <td>D703</td>\n",
       "      <td>l3Sp</td>\n",
       "      <td>human</td>\n",
       "      <td>Charge-titration</td>\n",
       "      <td>Percent charge</td>\n",
       "      <td>100p</td>\n",
       "      <td>1</td>\n",
       "      <td>AGGCTATA</td>\n",
       "      <td>CGCTCATT</td>\n",
       "      <td>GGCTGCCATGCTGTCACG</td>\n",
       "      <td>P3_R1_DSA-10k.fastq.bz2</td>\n",
       "      <td>P3_R2_DSA-10k.fastq.bz2</td>\n",
       "      <td>709</td>\n",
       "      <td>35</td>\n",
       "      <td>666</td>\n",
       "      <td>701</td>\n",
       "      <td>98.871650</td>\n",
       "      <td>95.007133</td>\n",
       "      <td>692</td>\n",
       "      <td>633</td>\n",
       "      <td>691.544180</td>\n",
       "      <td>97.602257</td>\n",
       "      <td>91.534282</td>\n",
       "      <td>673.0</td>\n",
       "      <td>72.956909</td>\n",
       "      <td>27.043091</td>\n",
       "      <td>97.254335</td>\n",
       "    </tr>\n",
       "  </tbody>\n",
       "</table>\n",
       "</div>"
      ],
      "text/plain": [
       "  sample_name_unique sample_name  replicate P5_index P7_index barcode species  \\\n",
       "0              100p1        100p          1     D501     D701    l1Sp   human   \n",
       "1              100p2        100p          2     D501     D702    l2Sp   human   \n",
       "2              100p3        100p          3     D501     D703    l3Sp   human   \n",
       "\n",
       "         plot_group        hue_name hue_value  hue_order P5_index_seq  \\\n",
       "0  Charge-titration  Percent charge      100p          1     AGGCTATA   \n",
       "1  Charge-titration  Percent charge      100p          1     AGGCTATA   \n",
       "2  Charge-titration  Percent charge      100p          1     AGGCTATA   \n",
       "\n",
       "  P7_index_seq         barcode_seq     fastq_mate1_filename  \\\n",
       "0     ATTACTCG    GGCTGCCATGCGACTA  P1_R1_DSA-10k.fastq.bz2   \n",
       "1     TCCGGAGA   GGCTGCCATGCAAGTGC  P2_R1_DSA-10k.fastq.bz2   \n",
       "2     CGCTCATT  GGCTGCCATGCTGTCACG  P3_R1_DSA-10k.fastq.bz2   \n",
       "\n",
       "      fastq_mate2_filename  N_total  N_CC  N_CCA  N_CCA+CC  \\\n",
       "0  P1_R2_DSA-10k.fastq.bz2      944    38    902       940   \n",
       "1  P2_R2_DSA-10k.fastq.bz2      673    14    648       662   \n",
       "2  P3_R2_DSA-10k.fastq.bz2      709    35    666       701   \n",
       "\n",
       "   CCA+CC_percent_total  percent_CCA  N_after_trim  N_UMI_observed  \\\n",
       "0             99.576271    95.957447           931             866   \n",
       "1             98.365527    97.885196           663             622   \n",
       "2             98.871650    95.007133           692             633   \n",
       "\n",
       "   N_UMI_expected  percent_seqs_after_UMI_trim  percent_UMI_obs-vs-exp  \\\n",
       "0      930.174768                    98.622881               93.100784   \n",
       "1      662.581602                    98.514116               93.875230   \n",
       "2      691.544180                    97.602257               91.534282   \n",
       "\n",
       "   N_mapped  percent_single_annotation  percent_multiple_annotation  \\\n",
       "0     920.0                  74.565217                    25.434783   \n",
       "1     652.0                  74.079755                    25.920245   \n",
       "2     673.0                  72.956909                    27.043091   \n",
       "\n",
       "   Mapping_percent  \n",
       "0        98.818475  \n",
       "1        98.340875  \n",
       "2        97.254335  "
      ]
     },
     "execution_count": 13,
     "metadata": {},
     "output_type": "execute_result"
    }
   ],
   "source": [
    "### Align reads to database of reference tRNAs ###\n",
    "align_obj = SWIPE_align(dir_dict, tRNA_database, sample_df, SWIPE_score_mat, gap_penalty=6, extension_penalty=1, min_score_align=20, common_seqs=common_seqs)\n",
    "align_dir_abs = align_obj.make_dir(overwrite=True)\n",
    "# sample_df = align_obj.run_serial(dry_run=False, verbose=False, overwrite=False)\n",
    "sample_df = align_obj.run_parallel(n_jobs=4)\n",
    "sample_df.head(3)"
   ]
  },
  {
   "cell_type": "code",
   "execution_count": null,
   "metadata": {},
   "outputs": [],
   "source": []
  },
  {
   "cell_type": "code",
   "execution_count": null,
   "metadata": {},
   "outputs": [],
   "source": []
  },
  {
   "cell_type": "code",
   "execution_count": null,
   "metadata": {},
   "outputs": [],
   "source": []
  },
  {
   "cell_type": "code",
   "execution_count": null,
   "metadata": {},
   "outputs": [],
   "source": []
  },
  {
   "cell_type": "code",
   "execution_count": null,
   "metadata": {},
   "outputs": [],
   "source": []
  },
  {
   "cell_type": "code",
   "execution_count": 30,
   "metadata": {},
   "outputs": [
    {
     "name": "stdout",
     "output_type": "stream",
     "text": [
      "Using common sequences to prevent duplicated alignment.\n",
      "Collecting stats from:  100p1  100p2  100p3  100p4  85p2  85p3  85p4  85p1  70p2  70p1  70p3  70p4  55p2  55p1  55p3  55p4  40p1  40p2  40p4  40p3  25p1  25p2  25p4  25p3  10p2  10p3  10p1  10p4  0p1  0p2  0p3  0p4  0p_90m3  0p_90m2  0p_90m1  0p_90m4"
     ]
    },
    {
     "data": {
      "text/html": [
       "<div>\n",
       "<style scoped>\n",
       "    .dataframe tbody tr th:only-of-type {\n",
       "        vertical-align: middle;\n",
       "    }\n",
       "\n",
       "    .dataframe tbody tr th {\n",
       "        vertical-align: top;\n",
       "    }\n",
       "\n",
       "    .dataframe thead th {\n",
       "        text-align: right;\n",
       "    }\n",
       "</style>\n",
       "<table border=\"1\" class=\"dataframe\">\n",
       "  <thead>\n",
       "    <tr style=\"text-align: right;\">\n",
       "      <th></th>\n",
       "      <th>sample_name_unique</th>\n",
       "      <th>sample_name</th>\n",
       "      <th>replicate</th>\n",
       "      <th>barcode</th>\n",
       "      <th>tRNA_annotation</th>\n",
       "      <th>tRNA_annotation_len</th>\n",
       "      <th>unique_annotation</th>\n",
       "      <th>align_3p_nt</th>\n",
       "      <th>codon</th>\n",
       "      <th>anticodon</th>\n",
       "      <th>amino_acid</th>\n",
       "      <th>count</th>\n",
       "    </tr>\n",
       "  </thead>\n",
       "  <tbody>\n",
       "    <tr>\n",
       "      <th>0</th>\n",
       "      <td>0p1</td>\n",
       "      <td>0p</td>\n",
       "      <td>1</td>\n",
       "      <td>l5Sp</td>\n",
       "      <td>Homo_sapiens_mito_tRNA-Arg-TCG</td>\n",
       "      <td>68</td>\n",
       "      <td>True</td>\n",
       "      <td>C</td>\n",
       "      <td>CGA</td>\n",
       "      <td>TCG</td>\n",
       "      <td>Arg</td>\n",
       "      <td>2</td>\n",
       "    </tr>\n",
       "    <tr>\n",
       "      <th>1</th>\n",
       "      <td>0p1</td>\n",
       "      <td>0p</td>\n",
       "      <td>1</td>\n",
       "      <td>l5Sp</td>\n",
       "      <td>Homo_sapiens_mito_tRNA-Asp-GTC</td>\n",
       "      <td>71</td>\n",
       "      <td>True</td>\n",
       "      <td>C</td>\n",
       "      <td>GAC</td>\n",
       "      <td>GTC</td>\n",
       "      <td>Asp</td>\n",
       "      <td>2</td>\n",
       "    </tr>\n",
       "    <tr>\n",
       "      <th>2</th>\n",
       "      <td>0p1</td>\n",
       "      <td>0p</td>\n",
       "      <td>1</td>\n",
       "      <td>l5Sp</td>\n",
       "      <td>Homo_sapiens_mito_tRNA-Cys-GCA</td>\n",
       "      <td>69</td>\n",
       "      <td>True</td>\n",
       "      <td>C</td>\n",
       "      <td>UGC</td>\n",
       "      <td>GCA</td>\n",
       "      <td>Cys</td>\n",
       "      <td>1</td>\n",
       "    </tr>\n",
       "  </tbody>\n",
       "</table>\n",
       "</div>"
      ],
      "text/plain": [
       "  sample_name_unique sample_name  replicate barcode  \\\n",
       "0                0p1          0p          1    l5Sp   \n",
       "1                0p1          0p          1    l5Sp   \n",
       "2                0p1          0p          1    l5Sp   \n",
       "\n",
       "                  tRNA_annotation  tRNA_annotation_len  unique_annotation  \\\n",
       "0  Homo_sapiens_mito_tRNA-Arg-TCG                   68               True   \n",
       "1  Homo_sapiens_mito_tRNA-Asp-GTC                   71               True   \n",
       "2  Homo_sapiens_mito_tRNA-Cys-GCA                   69               True   \n",
       "\n",
       "  align_3p_nt codon anticodon amino_acid  count  \n",
       "0           C   CGA       TCG        Arg      2  \n",
       "1           C   GAC       GTC        Asp      2  \n",
       "2           C   UGC       GCA        Cys      1  "
      ]
     },
     "execution_count": 30,
     "metadata": {},
     "output_type": "execute_result"
    }
   ],
   "source": [
    "### Collect alignment statistics ###\n",
    "stats_obj = STATS_collection(dir_dict, tRNA_data, sample_df, common_seqs=common_seqs)\n",
    "stats_dir_abs = stats_obj.make_dir(overwrite=True)\n",
    "# stats_df = stats_obj.run_serial()\n",
    "stats_df = stats_obj.run_parallel(n_jobs=4)\n",
    "# The dataframe returned is the \"ALL_stats_aggregate_filtered.csv\"\n",
    "# which is the aggregated data filtered to contain only the\n",
    "# most relevant columnns and requiring the 3' must be covered\n",
    "# and have no 3' non-template bases.\n",
    "# The CSV file output \"ALL_stats_aggregate.csv\" is the data\n",
    "# aggregated based on all values identical except\n",
    "# readID, 5p_UMI and 3p_BC. I.e. every information, except\n",
    "# the UMI seequence is maintained in the aggregated CSV.\n",
    "stats_df.head(3)"
   ]
  },
  {
   "cell_type": "code",
   "execution_count": null,
   "metadata": {},
   "outputs": [],
   "source": []
  },
  {
   "cell_type": "code",
   "execution_count": null,
   "metadata": {},
   "outputs": [],
   "source": []
  },
  {
   "cell_type": "code",
   "execution_count": null,
   "metadata": {},
   "outputs": [],
   "source": []
  },
  {
   "cell_type": "code",
   "execution_count": null,
   "metadata": {},
   "outputs": [],
   "source": []
  },
  {
   "cell_type": "code",
   "execution_count": null,
   "metadata": {},
   "outputs": [],
   "source": []
  },
  {
   "cell_type": "code",
   "execution_count": null,
   "metadata": {},
   "outputs": [],
   "source": []
  },
  {
   "cell_type": "code",
   "execution_count": null,
   "metadata": {},
   "outputs": [],
   "source": []
  },
  {
   "cell_type": "code",
   "execution_count": 407,
   "metadata": {},
   "outputs": [
    {
     "name": "stdout",
     "output_type": "stream",
     "text": [
      "Folder exists and overwrite set to false... Doing nothing.\n",
      "\n",
      "Now plotting sample:  100p1  100p2  100p3  100p4  85p1  85p2  85p3  85p4  70p1  70p2  70p3  70p4  55p1  55p2  55p3  55p4  40p1  40p2  40p3  40p4  25p1  25p2  25p3  25p4  10p1  10p2  10p3  10p4  0p1  0p2  0p3  0p4  0p_90m1  0p_90m2  0p_90m3  0p_90m4"
     ]
    }
   ],
   "source": [
    "### Generate standard tRNAseq data plots ###\n",
    "plot_obj = TRNA_plot(dir_dict, sample_df, pull_default=True)\n",
    "plotting_dir_abs = plot_obj.make_dir(overwrite=False)\n",
    "\n",
    "# Plot UMI nucleotide content logo per sample:\n",
    "#plot_obj.plot_UMI_logo()\n",
    "\n",
    "# Plot the 5p non-template nucleotide logo per sample,\n",
    "# using only those at, or below, the legth determined as a percentile:\n",
    "#plot_obj.plot_non_temp('5p', '_5p-non-template_logo', seq_len_percentile=99)\n",
    "\n",
    "# 3p non-template nucleotides are more rare, therefore 99.9 percentile:\n",
    "#plot_obj.plot_non_temp('3p', '_3p-non-template_logo', seq_len_percentile=99.9)\n",
    "\n",
    "# 3p non-template nucleotides, but require 3p coverage.\n",
    "# This is more likely to reflect either:\n",
    "# 1) Erronous CCA addition, or 2) additional bases in the adapter.\n",
    "#plot_obj.plot_non_temp('3p', '_3p-non-template_3p-cover_logo', seq_len_percentile=99.9, _3p_cover=True)\n",
    "\n",
    "# Plot the 5p to 3p coverage for each amino acid:\n",
    "#plot_obj.plot_coverage(compartment='cyto', plot_type='needle', aa_norm=False, plot_name='cov_plot_cyto_needle')\n",
    "#plot_obj.plot_coverage(compartment='mito', plot_type='needle', aa_norm=False, plot_name='cov_plot_mito_needle')\n",
    "#plot_obj.plot_coverage(compartment='cyto', plot_type='behrens', aa_norm=False, plot_name='cov_plot_cyto_behrens')\n",
    "#plot_obj.plot_coverage(compartment='mito', plot_type='behrens', aa_norm=False, plot_name='cov_plot_mito_behrens')\n",
    "#plot_obj.plot_coverage(compartment='cyto', plot_type='needle', aa_norm=False, #plot_name='cov_plot_cyto_needle_100p', sample_list=['100p1', '100p2', '100p3', '100p4'])\n",
    "plot_obj.plot_coverage(compartment='cyto', plot_type='behrens', y_norm=True, plot_name='cov_plot_cyto_behrens_norm')\n",
    "\n"
   ]
  },
  {
   "cell_type": "code",
   "execution_count": null,
   "metadata": {},
   "outputs": [],
   "source": []
  },
  {
   "cell_type": "code",
   "execution_count": null,
   "metadata": {},
   "outputs": [],
   "source": []
  },
  {
   "cell_type": "code",
   "execution_count": null,
   "metadata": {},
   "outputs": [],
   "source": []
  },
  {
   "cell_type": "code",
   "execution_count": null,
   "metadata": {},
   "outputs": [],
   "source": []
  },
  {
   "cell_type": "code",
   "execution_count": null,
   "metadata": {},
   "outputs": [],
   "source": []
  },
  {
   "cell_type": "code",
   "execution_count": 221,
   "metadata": {},
   "outputs": [
    {
     "data": {
      "text/html": [
       "<div>\n",
       "<style scoped>\n",
       "    .dataframe tbody tr th:only-of-type {\n",
       "        vertical-align: middle;\n",
       "    }\n",
       "\n",
       "    .dataframe tbody tr th {\n",
       "        vertical-align: top;\n",
       "    }\n",
       "\n",
       "    .dataframe thead th {\n",
       "        text-align: right;\n",
       "    }\n",
       "</style>\n",
       "<table border=\"1\" class=\"dataframe\">\n",
       "  <thead>\n",
       "    <tr style=\"text-align: right;\">\n",
       "      <th></th>\n",
       "      <th>sample_name_unique</th>\n",
       "      <th>sample_name</th>\n",
       "      <th>replicate</th>\n",
       "      <th>barcode</th>\n",
       "      <th>tRNA_annotation</th>\n",
       "      <th>align_score</th>\n",
       "      <th>unique_annotation</th>\n",
       "      <th>tRNA_annotation_len</th>\n",
       "      <th>align_5p_idx</th>\n",
       "      <th>align_3p_idx</th>\n",
       "      <th>align_5p_nt</th>\n",
       "      <th>align_3p_nt</th>\n",
       "      <th>5p_cover</th>\n",
       "      <th>3p_cover</th>\n",
       "      <th>5p_non-temp</th>\n",
       "      <th>3p_non-temp</th>\n",
       "      <th>codon</th>\n",
       "      <th>anticodon</th>\n",
       "      <th>amino_acid</th>\n",
       "      <th>count</th>\n",
       "      <th>single_codon</th>\n",
       "      <th>mito_codon</th>\n",
       "      <th>Ecoli_ctr</th>\n",
       "      <th>AA_letter</th>\n",
       "    </tr>\n",
       "  </thead>\n",
       "  <tbody>\n",
       "    <tr>\n",
       "      <th>0</th>\n",
       "      <td>100p1</td>\n",
       "      <td>100p</td>\n",
       "      <td>1</td>\n",
       "      <td>l1Sp</td>\n",
       "      <td>Homo_sapiens_mito_tRNA-Arg-TCG</td>\n",
       "      <td>64</td>\n",
       "      <td>True</td>\n",
       "      <td>68</td>\n",
       "      <td>2</td>\n",
       "      <td>68</td>\n",
       "      <td>G</td>\n",
       "      <td>A</td>\n",
       "      <td>False</td>\n",
       "      <td>True</td>\n",
       "      <td></td>\n",
       "      <td></td>\n",
       "      <td>CGA</td>\n",
       "      <td>TCG</td>\n",
       "      <td>Arg</td>\n",
       "      <td>1</td>\n",
       "      <td>True</td>\n",
       "      <td>True</td>\n",
       "      <td>False</td>\n",
       "      <td>R</td>\n",
       "    </tr>\n",
       "    <tr>\n",
       "      <th>1</th>\n",
       "      <td>100p1</td>\n",
       "      <td>100p</td>\n",
       "      <td>1</td>\n",
       "      <td>l1Sp</td>\n",
       "      <td>Homo_sapiens_mito_tRNA-Asn-GTT</td>\n",
       "      <td>70</td>\n",
       "      <td>True</td>\n",
       "      <td>76</td>\n",
       "      <td>1</td>\n",
       "      <td>76</td>\n",
       "      <td>T</td>\n",
       "      <td>A</td>\n",
       "      <td>True</td>\n",
       "      <td>True</td>\n",
       "      <td>TTT</td>\n",
       "      <td></td>\n",
       "      <td>AAC</td>\n",
       "      <td>GTT</td>\n",
       "      <td>Asn</td>\n",
       "      <td>1</td>\n",
       "      <td>True</td>\n",
       "      <td>True</td>\n",
       "      <td>False</td>\n",
       "      <td>N</td>\n",
       "    </tr>\n",
       "  </tbody>\n",
       "</table>\n",
       "</div>"
      ],
      "text/plain": [
       "  sample_name_unique sample_name  replicate barcode  \\\n",
       "0              100p1        100p          1    l1Sp   \n",
       "1              100p1        100p          1    l1Sp   \n",
       "\n",
       "                  tRNA_annotation  align_score  unique_annotation  \\\n",
       "0  Homo_sapiens_mito_tRNA-Arg-TCG           64               True   \n",
       "1  Homo_sapiens_mito_tRNA-Asn-GTT           70               True   \n",
       "\n",
       "   tRNA_annotation_len  align_5p_idx  align_3p_idx align_5p_nt align_3p_nt  \\\n",
       "0                   68             2            68           G           A   \n",
       "1                   76             1            76           T           A   \n",
       "\n",
       "   5p_cover  3p_cover 5p_non-temp 3p_non-temp codon anticodon amino_acid  \\\n",
       "0     False      True                           CGA       TCG        Arg   \n",
       "1      True      True         TTT               AAC       GTT        Asn   \n",
       "\n",
       "   count  single_codon  mito_codon  Ecoli_ctr AA_letter  \n",
       "0      1          True        True      False         R  \n",
       "1      1          True        True      False         N  "
      ]
     },
     "execution_count": 221,
     "metadata": {},
     "output_type": "execute_result"
    }
   ],
   "source": [
    "#agg_df = pd.read_csv('/Users/krdav/Google Drive/MCB/Sullivan_lab/tRNA-charge-seq/projects/tRNAseq_third-gen/data/stats_collection/ALL_stats_aggregate.csv', keep_default_na=False)\n",
    "agg_df = copy.deepcopy(plot_obj.all_stats)\n",
    "agg_df.head(2)"
   ]
  },
  {
   "cell_type": "code",
   "execution_count": null,
   "metadata": {},
   "outputs": [],
   "source": []
  },
  {
   "cell_type": "code",
   "execution_count": null,
   "metadata": {},
   "outputs": [],
   "source": []
  },
  {
   "cell_type": "code",
   "execution_count": null,
   "metadata": {},
   "outputs": [],
   "source": []
  },
  {
   "cell_type": "code",
   "execution_count": null,
   "metadata": {},
   "outputs": [],
   "source": []
  },
  {
   "cell_type": "code",
   "execution_count": null,
   "metadata": {},
   "outputs": [],
   "source": []
  },
  {
   "cell_type": "code",
   "execution_count": null,
   "metadata": {},
   "outputs": [],
   "source": []
  },
  {
   "cell_type": "code",
   "execution_count": null,
   "metadata": {},
   "outputs": [],
   "source": []
  },
  {
   "cell_type": "code",
   "execution_count": null,
   "metadata": {},
   "outputs": [],
   "source": [
    "# Use the TM_analysis to find the most mutated positions in the tRNA transcripts.\n",
    "# Then generate a new version of the tRNA transcripts database with these positions masked\n",
    "# Then, using the masked sequences, re-run the alignment, stats collected and plotting\n",
    "\n",
    "# Re-run using gap_open = -3 and gap_extension = -2 to reflect how gaps are more tolerated\n",
    "\n",
    "### The masked tRNA database will only be used for alignment\n",
    "# All other steps will use the old unmasked database"
   ]
  },
  {
   "cell_type": "code",
   "execution_count": null,
   "metadata": {},
   "outputs": [],
   "source": []
  },
  {
   "cell_type": "code",
   "execution_count": 623,
   "metadata": {},
   "outputs": [
    {
     "name": "stdout",
     "output_type": "stream",
     "text": [
      "Using common sequences...\n",
      "Collecting stats from:  100p1  100p2  100p4  100p3  85p4  85p2  85p3  85p1  70p3  70p1  70p2  70p4  55p2  55p1  55p3  55p4  40p1  40p2  40p3  25p1  40p4  25p2  10p2  25p3  10p4  25p4  0p2  10p3  10p1  0p1  0p3  0p4  0p_90m1  0p_90m3  0p_90m2  0p_90m4"
     ]
    }
   ],
   "source": [
    "### Perform transcript mutation analysis ###\n",
    "TM_obj = TM_analysis(dir_dict, sample_df, tRNA_database, pull_default=True, common_seqs=common_seqs, ignore_common_count=True)\n",
    "TM_dir_abs = TM_obj.make_dir(overwrite=True)\n",
    "\n",
    "#TM_obj.find_muts(n_jobs=4, sample_list=['70p1', '70p2', '70p3', '70p4'])\n",
    "TM_obj.find_muts(n_jobs=4, unique_anno=True)\n",
    "#TM_obj.find_muts(n_jobs=4)\n",
    "TM_obj.fix_end()\n",
    "\n",
    "#TM_obj.plot_transcript_logo()\n",
    "\n",
    "\n",
    "\n",
    "# tr_mut_out = TM_obj.plot_transcript_mut(topN=30, no_plot_return=False, mito=False, gap_only=False, plot_name='test_heat', min_count_show=10)\n",
    "#tr_mut_out = TM_obj.plot_transcript_mut(topN=30, no_plot_return=False, mito=False, gap_only=False, plot_name='test_heat2')\n",
    "\n",
    "\n",
    "#tr_cov_out = TM_obj.plot_transcript_cov(topN=40, no_plot_return=False, mito=False, plot_name='test_heat_cov', sort_rows=True)\n",
    "#tr_mut_out = TM_obj.plot_transcript_mut(topN=40, no_plot_return=False, mito=False, gap_only=False, plot_name='test_heat2', sort_rows=tr_cov_out[2])\n",
    "\n",
    "\n",
    "TM_obj.mask_tRNA_database(min_mut_freq=0.5, min_pos_count=50, min_tr_count=100, frac_max_score=0.90)\n",
    "\n",
    "tRNA_database_masked = TM_obj.write_masked_tRNA_database(out_dir='tRNA_database_masked')"
   ]
  },
  {
   "cell_type": "code",
   "execution_count": null,
   "metadata": {},
   "outputs": [],
   "source": []
  },
  {
   "cell_type": "code",
   "execution_count": null,
   "metadata": {},
   "outputs": [],
   "source": []
  },
  {
   "cell_type": "code",
   "execution_count": 615,
   "metadata": {},
   "outputs": [
    {
     "data": {
      "image/png": "[encoded data removed]",
      "text/plain": [
       "<Figure size 432x288 with 1 Axes>"
      ]
     },
     "metadata": {},
     "output_type": "display_data"
    }
   ],
   "source": [
    "plt.hist(TM_obj.mask_stats['human']['mask_count'], bins=15);"
   ]
  },
  {
   "cell_type": "code",
   "execution_count": 616,
   "metadata": {},
   "outputs": [
    {
     "data": {
      "text/plain": [
       "{'mask_count': array([0, 0, 0, 0, 0, 0, 0, 0, 0, 0, 0, 0, 0, 0, 0, 0, 0, 0, 0, 0, 0, 0,\n",
       "        1, 0, 0, 5, 0, 0, 0, 5, 0, 3, 0, 3, 2, 3, 0, 5, 0, 3, 3, 2, 0, 3,\n",
       "        3, 3, 3, 2, 0, 2, 5, 5, 4, 2, 2, 2, 2, 2, 2, 0, 2, 4, 2, 4, 0, 1,\n",
       "        0, 0, 0, 0, 2, 0, 0, 0, 2, 2, 0, 0, 0, 2, 2, 2, 2, 0, 0, 2, 0, 1,\n",
       "        1, 1, 2, 0, 2, 0, 2, 2, 0, 0, 2, 0, 0, 2, 0, 2, 0, 0, 0, 2, 2, 2,\n",
       "        2, 2, 2, 2, 2, 2, 2, 2, 0, 0, 0, 0, 0, 0, 0, 0, 2, 0, 2, 0, 0, 1,\n",
       "        1, 0, 1, 1, 1, 0, 0, 1, 1, 1, 1, 1, 3, 0, 3, 3, 3, 3, 3, 3, 3, 0,\n",
       "        0, 1, 1, 1, 3, 3, 3, 3, 3, 3, 3, 3, 0, 0, 4, 4, 1, 0, 0, 0, 0, 0,\n",
       "        0, 1, 0, 0, 1, 1, 1, 1, 0, 0, 0, 0, 0, 1, 1, 1, 1, 0, 0, 0, 3, 3,\n",
       "        3, 3, 0, 0, 3, 3, 3, 3, 0, 0, 0, 3, 3, 3, 3, 3, 0, 0, 0, 0, 0, 0,\n",
       "        0, 0, 0, 3, 3, 3, 3, 3, 0, 0, 0, 0, 0, 5, 5, 0, 0, 5, 0, 0, 0, 0,\n",
       "        0, 0, 0, 0, 0, 0, 0, 0, 0, 1, 1, 0, 1, 0, 0, 0, 0, 0, 0, 0, 0, 0,\n",
       "        0, 0, 0, 0, 0, 0, 0, 1, 0, 0, 0, 1, 1, 0, 0, 0, 0, 2, 2]),\n",
       " 'mask_sum': 307,\n",
       " 'mask_mean': 1.0848056537102473,\n",
       " 'mask_frac': 0.4664310954063604}"
      ]
     },
     "execution_count": 616,
     "metadata": {},
     "output_type": "execute_result"
    }
   ],
   "source": [
    "TM_obj.mask_stats['human']"
   ]
  },
  {
   "cell_type": "code",
   "execution_count": null,
   "metadata": {},
   "outputs": [],
   "source": []
  },
  {
   "cell_type": "code",
   "execution_count": 617,
   "metadata": {},
   "outputs": [
    {
     "data": {
      "image/png": "[encoded data removed]",
      "text/plain": [
       "<Figure size 432x288 with 1 Axes>"
      ]
     },
     "metadata": {},
     "output_type": "display_data"
    }
   ],
   "source": [
    "plt.hist(TM_obj.mask_stats['human']['mask_count'], bins=15);"
   ]
  },
  {
   "cell_type": "code",
   "execution_count": 576,
   "metadata": {},
   "outputs": [
    {
     "data": {
      "text/plain": [
       "{'mask_count': array([ 0,  0,  0,  0,  0,  0,  0,  0,  0,  0,  0,  0,  0,  0,  0,  0,  0,\n",
       "         0,  0,  0,  0,  0,  1,  0,  0,  5,  0,  0,  0,  5,  0,  4,  0,  4,\n",
       "         0,  4,  0,  5,  0,  4,  4,  0,  0,  5,  5,  5,  5,  3,  0,  3,  5,\n",
       "         5,  4,  2,  0,  0,  0,  0,  0,  0,  0,  4,  0,  4,  0,  0,  0,  0,\n",
       "         0,  0,  5,  0,  0,  0,  5,  5,  0,  0,  0,  5,  5,  5,  5,  4,  0,\n",
       "         5,  4,  2,  2,  2,  2,  3,  3,  2,  3,  3,  3,  2,  3,  3,  2,  3,\n",
       "         3,  3,  0,  0,  3,  3,  3,  2,  3,  3,  3,  2,  2,  2,  2,  2,  0,\n",
       "         0,  3,  3,  3,  0,  1,  1,  3,  5,  3,  5,  5,  1,  1,  0,  1,  1,\n",
       "         1,  0,  0,  1,  1,  1,  1,  2,  4,  0,  4,  4,  4,  4,  4,  4,  3,\n",
       "         0,  0,  3,  3,  3,  4,  4,  4,  4,  3,  3,  3,  3,  0,  0,  5,  5,\n",
       "         2,  0,  0,  0,  4,  4,  0,  1,  0,  0,  1,  1,  1,  1,  0,  0,  0,\n",
       "         1,  0,  4,  4,  4,  4,  1,  1,  0,  3,  0,  3,  3,  0,  0, 13, 13,\n",
       "        13, 13,  0,  4,  4,  4,  4,  4,  4,  4,  0,  0,  0,  0,  0,  0,  0,\n",
       "         0,  0,  5,  5,  5,  5,  5,  3,  0,  5,  5,  5,  8,  8,  6,  6,  8,\n",
       "         6,  0,  0,  3,  0,  0,  0,  0,  3,  3,  3,  3,  2,  2,  2,  2,  2,\n",
       "         0,  3,  3,  3,  3,  3,  3,  3,  3,  0,  3,  3,  0,  3,  3,  0,  2,\n",
       "         0,  0,  0,  2,  2,  1,  1,  1,  0,  4,  4]),\n",
       " 'mask_sum': 615,\n",
       " 'mask_frac': 0.6183745583038869}"
      ]
     },
     "execution_count": 576,
     "metadata": {},
     "output_type": "execute_result"
    }
   ],
   "source": [
    "TM_obj.mask_stats['human']"
   ]
  },
  {
   "cell_type": "code",
   "execution_count": null,
   "metadata": {},
   "outputs": [],
   "source": []
  },
  {
   "cell_type": "code",
   "execution_count": null,
   "metadata": {},
   "outputs": [],
   "source": []
  },
  {
   "cell_type": "code",
   "execution_count": null,
   "metadata": {},
   "outputs": [],
   "source": []
  },
  {
   "cell_type": "code",
   "execution_count": null,
   "metadata": {},
   "outputs": [],
   "source": []
  },
  {
   "cell_type": "code",
   "execution_count": 599,
   "metadata": {},
   "outputs": [
    {
     "name": "stdout",
     "output_type": "stream",
     "text": [
      "Using common sequences to prevent duplicated alignment.\n",
      "Running Swipe on:  100p2  100p1  100p3  100p4  85p4  85p2  85p3  85p1  70p3  70p2  70p1  55p1  55p3  55p4  70p4  40p1  40p2  55p2  25p1  40p4  25p2  10p1  25p4  10p3  10p2  25p3  0p2  40p3  0p4  0p1  10p4  0p3  0p_90m4  0p_90m1  0p_90m2  0p_90m3  common-seqs\n",
      "Collecting alignment statistics, from sample:  100p1  100p2  100p3  100p4  85p2  85p1  85p3  85p4  70p3  70p1  70p2  70p4  55p2  55p1  55p3  55p4  40p1  40p2  40p4  40p3  25p1  25p4  25p2  25p3  10p2  10p1  10p3  10p4  0p1  0p2  0p3  0p4  0p_90m3  0p_90m1  0p_90m2  0p_90m4  common-seqs"
     ]
    },
    {
     "data": {
      "text/html": [
       "<div>\n",
       "<style scoped>\n",
       "    .dataframe tbody tr th:only-of-type {\n",
       "        vertical-align: middle;\n",
       "    }\n",
       "\n",
       "    .dataframe tbody tr th {\n",
       "        vertical-align: top;\n",
       "    }\n",
       "\n",
       "    .dataframe thead th {\n",
       "        text-align: right;\n",
       "    }\n",
       "</style>\n",
       "<table border=\"1\" class=\"dataframe\">\n",
       "  <thead>\n",
       "    <tr style=\"text-align: right;\">\n",
       "      <th></th>\n",
       "      <th>sample_name_unique</th>\n",
       "      <th>sample_name</th>\n",
       "      <th>replicate</th>\n",
       "      <th>P5_index</th>\n",
       "      <th>P7_index</th>\n",
       "      <th>barcode</th>\n",
       "      <th>species</th>\n",
       "      <th>plot_group</th>\n",
       "      <th>hue_name</th>\n",
       "      <th>hue_value</th>\n",
       "      <th>hue_order</th>\n",
       "      <th>P5_index_seq</th>\n",
       "      <th>P7_index_seq</th>\n",
       "      <th>barcode_seq</th>\n",
       "      <th>fastq_mate1_filename</th>\n",
       "      <th>fastq_mate2_filename</th>\n",
       "      <th>N_total</th>\n",
       "      <th>N_CC</th>\n",
       "      <th>N_CCA</th>\n",
       "      <th>N_CCA+CC</th>\n",
       "      <th>CCA+CC_percent_total</th>\n",
       "      <th>percent_CCA</th>\n",
       "      <th>N_after_trim</th>\n",
       "      <th>N_UMI_observed</th>\n",
       "      <th>N_UMI_expected</th>\n",
       "      <th>percent_seqs_after_UMI_trim</th>\n",
       "      <th>percent_UMI_obs-vs-exp</th>\n",
       "      <th>N_mapped</th>\n",
       "      <th>percent_single_annotation</th>\n",
       "      <th>percent_multiple_annotation</th>\n",
       "      <th>Mapping_percent</th>\n",
       "    </tr>\n",
       "  </thead>\n",
       "  <tbody>\n",
       "    <tr>\n",
       "      <th>0</th>\n",
       "      <td>100p1</td>\n",
       "      <td>100p</td>\n",
       "      <td>1</td>\n",
       "      <td>D501</td>\n",
       "      <td>D701</td>\n",
       "      <td>l1Sp</td>\n",
       "      <td>human</td>\n",
       "      <td>Charge-titration</td>\n",
       "      <td>Percent charge</td>\n",
       "      <td>100p</td>\n",
       "      <td>1</td>\n",
       "      <td>AGGCTATA</td>\n",
       "      <td>ATTACTCG</td>\n",
       "      <td>GGCTGCCATGCGACTA</td>\n",
       "      <td>P1_R1_DSA-10k.fastq.bz2</td>\n",
       "      <td>P1_R2_DSA-10k.fastq.bz2</td>\n",
       "      <td>944</td>\n",
       "      <td>38</td>\n",
       "      <td>902</td>\n",
       "      <td>940</td>\n",
       "      <td>99.576271</td>\n",
       "      <td>95.957447</td>\n",
       "      <td>931</td>\n",
       "      <td>866</td>\n",
       "      <td>930.174768</td>\n",
       "      <td>98.622881</td>\n",
       "      <td>93.100784</td>\n",
       "      <td>922.0</td>\n",
       "      <td>74.511931</td>\n",
       "      <td>25.488069</td>\n",
       "      <td>99.033298</td>\n",
       "    </tr>\n",
       "    <tr>\n",
       "      <th>1</th>\n",
       "      <td>100p2</td>\n",
       "      <td>100p</td>\n",
       "      <td>2</td>\n",
       "      <td>D501</td>\n",
       "      <td>D702</td>\n",
       "      <td>l2Sp</td>\n",
       "      <td>human</td>\n",
       "      <td>Charge-titration</td>\n",
       "      <td>Percent charge</td>\n",
       "      <td>100p</td>\n",
       "      <td>1</td>\n",
       "      <td>AGGCTATA</td>\n",
       "      <td>TCCGGAGA</td>\n",
       "      <td>GGCTGCCATGCAAGTGC</td>\n",
       "      <td>P2_R1_DSA-10k.fastq.bz2</td>\n",
       "      <td>P2_R2_DSA-10k.fastq.bz2</td>\n",
       "      <td>673</td>\n",
       "      <td>14</td>\n",
       "      <td>648</td>\n",
       "      <td>662</td>\n",
       "      <td>98.365527</td>\n",
       "      <td>97.885196</td>\n",
       "      <td>663</td>\n",
       "      <td>622</td>\n",
       "      <td>662.581602</td>\n",
       "      <td>98.514116</td>\n",
       "      <td>93.875230</td>\n",
       "      <td>653.0</td>\n",
       "      <td>73.813170</td>\n",
       "      <td>26.186830</td>\n",
       "      <td>98.491704</td>\n",
       "    </tr>\n",
       "    <tr>\n",
       "      <th>2</th>\n",
       "      <td>100p3</td>\n",
       "      <td>100p</td>\n",
       "      <td>3</td>\n",
       "      <td>D501</td>\n",
       "      <td>D703</td>\n",
       "      <td>l3Sp</td>\n",
       "      <td>human</td>\n",
       "      <td>Charge-titration</td>\n",
       "      <td>Percent charge</td>\n",
       "      <td>100p</td>\n",
       "      <td>1</td>\n",
       "      <td>AGGCTATA</td>\n",
       "      <td>CGCTCATT</td>\n",
       "      <td>GGCTGCCATGCTGTCACG</td>\n",
       "      <td>P3_R1_DSA-10k.fastq.bz2</td>\n",
       "      <td>P3_R2_DSA-10k.fastq.bz2</td>\n",
       "      <td>709</td>\n",
       "      <td>35</td>\n",
       "      <td>666</td>\n",
       "      <td>701</td>\n",
       "      <td>98.871650</td>\n",
       "      <td>95.007133</td>\n",
       "      <td>692</td>\n",
       "      <td>633</td>\n",
       "      <td>691.544180</td>\n",
       "      <td>97.602257</td>\n",
       "      <td>91.534282</td>\n",
       "      <td>674.0</td>\n",
       "      <td>72.848665</td>\n",
       "      <td>27.151335</td>\n",
       "      <td>97.398844</td>\n",
       "    </tr>\n",
       "  </tbody>\n",
       "</table>\n",
       "</div>"
      ],
      "text/plain": [
       "  sample_name_unique sample_name  replicate P5_index P7_index barcode species  \\\n",
       "0              100p1        100p          1     D501     D701    l1Sp   human   \n",
       "1              100p2        100p          2     D501     D702    l2Sp   human   \n",
       "2              100p3        100p          3     D501     D703    l3Sp   human   \n",
       "\n",
       "         plot_group        hue_name hue_value  hue_order P5_index_seq  \\\n",
       "0  Charge-titration  Percent charge      100p          1     AGGCTATA   \n",
       "1  Charge-titration  Percent charge      100p          1     AGGCTATA   \n",
       "2  Charge-titration  Percent charge      100p          1     AGGCTATA   \n",
       "\n",
       "  P7_index_seq         barcode_seq     fastq_mate1_filename  \\\n",
       "0     ATTACTCG    GGCTGCCATGCGACTA  P1_R1_DSA-10k.fastq.bz2   \n",
       "1     TCCGGAGA   GGCTGCCATGCAAGTGC  P2_R1_DSA-10k.fastq.bz2   \n",
       "2     CGCTCATT  GGCTGCCATGCTGTCACG  P3_R1_DSA-10k.fastq.bz2   \n",
       "\n",
       "      fastq_mate2_filename  N_total  N_CC  N_CCA  N_CCA+CC  \\\n",
       "0  P1_R2_DSA-10k.fastq.bz2      944    38    902       940   \n",
       "1  P2_R2_DSA-10k.fastq.bz2      673    14    648       662   \n",
       "2  P3_R2_DSA-10k.fastq.bz2      709    35    666       701   \n",
       "\n",
       "   CCA+CC_percent_total  percent_CCA  N_after_trim  N_UMI_observed  \\\n",
       "0             99.576271    95.957447           931             866   \n",
       "1             98.365527    97.885196           663             622   \n",
       "2             98.871650    95.007133           692             633   \n",
       "\n",
       "   N_UMI_expected  percent_seqs_after_UMI_trim  percent_UMI_obs-vs-exp  \\\n",
       "0      930.174768                    98.622881               93.100784   \n",
       "1      662.581602                    98.514116               93.875230   \n",
       "2      691.544180                    97.602257               91.534282   \n",
       "\n",
       "   N_mapped  percent_single_annotation  percent_multiple_annotation  \\\n",
       "0     922.0                  74.511931                    25.488069   \n",
       "1     653.0                  73.813170                    26.186830   \n",
       "2     674.0                  72.848665                    27.151335   \n",
       "\n",
       "   Mapping_percent  \n",
       "0        99.033298  \n",
       "1        98.491704  \n",
       "2        97.398844  "
      ]
     },
     "execution_count": 599,
     "metadata": {},
     "output_type": "execute_result"
    }
   ],
   "source": [
    "### Align reads to database of reference tRNAs ###\n",
    "align_obj = SWIPE_align(dir_dict, tRNA_database, sample_df, SWIPE_score_mat2, gap_penalty=3, extension_penalty=2, min_score_align=20, common_seqs=common_seqs)\n",
    "align_dir_abs = align_obj.make_dir(overwrite=True)\n",
    "# sample_df = align_obj.run_serial(dry_run=False, verbose=False, overwrite=False)\n",
    "sample_df = align_obj.run_parallel(n_jobs=4)\n",
    "sample_df.head(3)"
   ]
  },
  {
   "cell_type": "code",
   "execution_count": null,
   "metadata": {},
   "outputs": [],
   "source": []
  },
  {
   "cell_type": "code",
   "execution_count": 618,
   "metadata": {},
   "outputs": [
    {
     "name": "stdout",
     "output_type": "stream",
     "text": [
      "Using common sequences to prevent duplicated alignment.\n",
      "Running Swipe on:  100p1  100p3  100p2  100p4  85p4  85p2  85p3  70p3  85p1  70p1  70p2  55p1  55p2  55p4  40p1  70p4  40p2  55p3  40p3  25p3  25p4  10p1  25p1  25p2  10p4  10p2  10p3  40p4  0p2  0p1  0p3  0p4  0p_90m1  0p_90m3  0p_90m2  0p_90m4  common-seqs\n",
      "Collecting alignment statistics, from sample:  100p2  100p3  100p1  100p4  85p2  85p3  85p4  85p1  70p2  70p1  70p3  70p4  55p2  55p1  55p4  55p3  40p1  40p2  40p3  40p4  25p1  25p2  25p3  25p4  10p2  10p3  10p1  10p4  0p1  0p2  0p3  0p4  0p_90m1  0p_90m3  0p_90m2  0p_90m4  common-seqs"
     ]
    },
    {
     "data": {
      "text/html": [
       "<div>\n",
       "<style scoped>\n",
       "    .dataframe tbody tr th:only-of-type {\n",
       "        vertical-align: middle;\n",
       "    }\n",
       "\n",
       "    .dataframe tbody tr th {\n",
       "        vertical-align: top;\n",
       "    }\n",
       "\n",
       "    .dataframe thead th {\n",
       "        text-align: right;\n",
       "    }\n",
       "</style>\n",
       "<table border=\"1\" class=\"dataframe\">\n",
       "  <thead>\n",
       "    <tr style=\"text-align: right;\">\n",
       "      <th></th>\n",
       "      <th>sample_name_unique</th>\n",
       "      <th>sample_name</th>\n",
       "      <th>replicate</th>\n",
       "      <th>P5_index</th>\n",
       "      <th>P7_index</th>\n",
       "      <th>barcode</th>\n",
       "      <th>species</th>\n",
       "      <th>plot_group</th>\n",
       "      <th>hue_name</th>\n",
       "      <th>hue_value</th>\n",
       "      <th>hue_order</th>\n",
       "      <th>P5_index_seq</th>\n",
       "      <th>P7_index_seq</th>\n",
       "      <th>barcode_seq</th>\n",
       "      <th>fastq_mate1_filename</th>\n",
       "      <th>fastq_mate2_filename</th>\n",
       "      <th>N_total</th>\n",
       "      <th>N_CC</th>\n",
       "      <th>N_CCA</th>\n",
       "      <th>N_CCA+CC</th>\n",
       "      <th>CCA+CC_percent_total</th>\n",
       "      <th>percent_CCA</th>\n",
       "      <th>N_after_trim</th>\n",
       "      <th>N_UMI_observed</th>\n",
       "      <th>N_UMI_expected</th>\n",
       "      <th>percent_seqs_after_UMI_trim</th>\n",
       "      <th>percent_UMI_obs-vs-exp</th>\n",
       "      <th>N_mapped</th>\n",
       "      <th>percent_single_annotation</th>\n",
       "      <th>percent_multiple_annotation</th>\n",
       "      <th>Mapping_percent</th>\n",
       "    </tr>\n",
       "  </thead>\n",
       "  <tbody>\n",
       "    <tr>\n",
       "      <th>0</th>\n",
       "      <td>100p1</td>\n",
       "      <td>100p</td>\n",
       "      <td>1</td>\n",
       "      <td>D501</td>\n",
       "      <td>D701</td>\n",
       "      <td>l1Sp</td>\n",
       "      <td>human</td>\n",
       "      <td>Charge-titration</td>\n",
       "      <td>Percent charge</td>\n",
       "      <td>100p</td>\n",
       "      <td>1</td>\n",
       "      <td>AGGCTATA</td>\n",
       "      <td>ATTACTCG</td>\n",
       "      <td>GGCTGCCATGCGACTA</td>\n",
       "      <td>P1_R1_DSA-10k.fastq.bz2</td>\n",
       "      <td>P1_R2_DSA-10k.fastq.bz2</td>\n",
       "      <td>944</td>\n",
       "      <td>38</td>\n",
       "      <td>902</td>\n",
       "      <td>940</td>\n",
       "      <td>99.576271</td>\n",
       "      <td>95.957447</td>\n",
       "      <td>931</td>\n",
       "      <td>866</td>\n",
       "      <td>930.174768</td>\n",
       "      <td>98.622881</td>\n",
       "      <td>93.100784</td>\n",
       "      <td>927.0</td>\n",
       "      <td>75.512406</td>\n",
       "      <td>24.487594</td>\n",
       "      <td>99.570354</td>\n",
       "    </tr>\n",
       "    <tr>\n",
       "      <th>1</th>\n",
       "      <td>100p2</td>\n",
       "      <td>100p</td>\n",
       "      <td>2</td>\n",
       "      <td>D501</td>\n",
       "      <td>D702</td>\n",
       "      <td>l2Sp</td>\n",
       "      <td>human</td>\n",
       "      <td>Charge-titration</td>\n",
       "      <td>Percent charge</td>\n",
       "      <td>100p</td>\n",
       "      <td>1</td>\n",
       "      <td>AGGCTATA</td>\n",
       "      <td>TCCGGAGA</td>\n",
       "      <td>GGCTGCCATGCAAGTGC</td>\n",
       "      <td>P2_R1_DSA-10k.fastq.bz2</td>\n",
       "      <td>P2_R2_DSA-10k.fastq.bz2</td>\n",
       "      <td>673</td>\n",
       "      <td>14</td>\n",
       "      <td>648</td>\n",
       "      <td>662</td>\n",
       "      <td>98.365527</td>\n",
       "      <td>97.885196</td>\n",
       "      <td>663</td>\n",
       "      <td>622</td>\n",
       "      <td>662.581602</td>\n",
       "      <td>98.514116</td>\n",
       "      <td>93.875230</td>\n",
       "      <td>656.0</td>\n",
       "      <td>72.713415</td>\n",
       "      <td>27.286585</td>\n",
       "      <td>98.944193</td>\n",
       "    </tr>\n",
       "    <tr>\n",
       "      <th>2</th>\n",
       "      <td>100p3</td>\n",
       "      <td>100p</td>\n",
       "      <td>3</td>\n",
       "      <td>D501</td>\n",
       "      <td>D703</td>\n",
       "      <td>l3Sp</td>\n",
       "      <td>human</td>\n",
       "      <td>Charge-titration</td>\n",
       "      <td>Percent charge</td>\n",
       "      <td>100p</td>\n",
       "      <td>1</td>\n",
       "      <td>AGGCTATA</td>\n",
       "      <td>CGCTCATT</td>\n",
       "      <td>GGCTGCCATGCTGTCACG</td>\n",
       "      <td>P3_R1_DSA-10k.fastq.bz2</td>\n",
       "      <td>P3_R2_DSA-10k.fastq.bz2</td>\n",
       "      <td>709</td>\n",
       "      <td>35</td>\n",
       "      <td>666</td>\n",
       "      <td>701</td>\n",
       "      <td>98.871650</td>\n",
       "      <td>95.007133</td>\n",
       "      <td>692</td>\n",
       "      <td>633</td>\n",
       "      <td>691.544180</td>\n",
       "      <td>97.602257</td>\n",
       "      <td>91.534282</td>\n",
       "      <td>677.0</td>\n",
       "      <td>73.264402</td>\n",
       "      <td>26.735598</td>\n",
       "      <td>97.832370</td>\n",
       "    </tr>\n",
       "  </tbody>\n",
       "</table>\n",
       "</div>"
      ],
      "text/plain": [
       "  sample_name_unique sample_name  replicate P5_index P7_index barcode species  \\\n",
       "0              100p1        100p          1     D501     D701    l1Sp   human   \n",
       "1              100p2        100p          2     D501     D702    l2Sp   human   \n",
       "2              100p3        100p          3     D501     D703    l3Sp   human   \n",
       "\n",
       "         plot_group        hue_name hue_value  hue_order P5_index_seq  \\\n",
       "0  Charge-titration  Percent charge      100p          1     AGGCTATA   \n",
       "1  Charge-titration  Percent charge      100p          1     AGGCTATA   \n",
       "2  Charge-titration  Percent charge      100p          1     AGGCTATA   \n",
       "\n",
       "  P7_index_seq         barcode_seq     fastq_mate1_filename  \\\n",
       "0     ATTACTCG    GGCTGCCATGCGACTA  P1_R1_DSA-10k.fastq.bz2   \n",
       "1     TCCGGAGA   GGCTGCCATGCAAGTGC  P2_R1_DSA-10k.fastq.bz2   \n",
       "2     CGCTCATT  GGCTGCCATGCTGTCACG  P3_R1_DSA-10k.fastq.bz2   \n",
       "\n",
       "      fastq_mate2_filename  N_total  N_CC  N_CCA  N_CCA+CC  \\\n",
       "0  P1_R2_DSA-10k.fastq.bz2      944    38    902       940   \n",
       "1  P2_R2_DSA-10k.fastq.bz2      673    14    648       662   \n",
       "2  P3_R2_DSA-10k.fastq.bz2      709    35    666       701   \n",
       "\n",
       "   CCA+CC_percent_total  percent_CCA  N_after_trim  N_UMI_observed  \\\n",
       "0             99.576271    95.957447           931             866   \n",
       "1             98.365527    97.885196           663             622   \n",
       "2             98.871650    95.007133           692             633   \n",
       "\n",
       "   N_UMI_expected  percent_seqs_after_UMI_trim  percent_UMI_obs-vs-exp  \\\n",
       "0      930.174768                    98.622881               93.100784   \n",
       "1      662.581602                    98.514116               93.875230   \n",
       "2      691.544180                    97.602257               91.534282   \n",
       "\n",
       "   N_mapped  percent_single_annotation  percent_multiple_annotation  \\\n",
       "0     927.0                  75.512406                    24.487594   \n",
       "1     656.0                  72.713415                    27.286585   \n",
       "2     677.0                  73.264402                    26.735598   \n",
       "\n",
       "   Mapping_percent  \n",
       "0        99.570354  \n",
       "1        98.944193  \n",
       "2        97.832370  "
      ]
     },
     "execution_count": 618,
     "metadata": {},
     "output_type": "execute_result"
    }
   ],
   "source": [
    "### Align reads to database of reference tRNAs ###\n",
    "align_obj = SWIPE_align(dir_dict, tRNA_database_masked, sample_df, SWIPE_score_mat2, gap_penalty=3, extension_penalty=2, min_score_align=20, common_seqs=common_seqs)\n",
    "align_dir_abs = align_obj.make_dir(overwrite=True)\n",
    "# sample_df = align_obj.run_serial(dry_run=False, verbose=False, overwrite=False)\n",
    "sample_df = align_obj.run_parallel(n_jobs=4)\n",
    "sample_df.head(3)"
   ]
  },
  {
   "cell_type": "code",
   "execution_count": null,
   "metadata": {},
   "outputs": [],
   "source": []
  },
  {
   "cell_type": "code",
   "execution_count": null,
   "metadata": {},
   "outputs": [],
   "source": []
  },
  {
   "cell_type": "code",
   "execution_count": null,
   "metadata": {},
   "outputs": [],
   "source": []
  },
  {
   "cell_type": "code",
   "execution_count": null,
   "metadata": {},
   "outputs": [],
   "source": []
  },
  {
   "cell_type": "code",
   "execution_count": null,
   "metadata": {},
   "outputs": [],
   "source": []
  },
  {
   "cell_type": "code",
   "execution_count": null,
   "metadata": {},
   "outputs": [],
   "source": []
  },
  {
   "cell_type": "code",
   "execution_count": 548,
   "metadata": {},
   "outputs": [],
   "source": [
    "sm = TM_obj.tr_muts['human']['Homo_sapiens_mito_tRNA-Val-TAC']['seq_masked']"
   ]
  },
  {
   "cell_type": "code",
   "execution_count": 549,
   "metadata": {},
   "outputs": [
    {
     "data": {
      "text/plain": [
       "1"
      ]
     },
     "execution_count": 549,
     "metadata": {},
     "output_type": "execute_result"
    }
   ],
   "source": [
    "sm.count('N')"
   ]
  },
  {
   "cell_type": "code",
   "execution_count": 561,
   "metadata": {},
   "outputs": [
    {
     "data": {
      "text/plain": [
       "615"
      ]
     },
     "execution_count": 561,
     "metadata": {},
     "output_type": "execute_result"
    }
   ],
   "source": [
    "sum([TM_obj.tr_muts['human'][anno]['seq_masked_exp'].count('N') for anno in TM_obj.tr_muts['human'] if 'seq_masked_exp' in TM_obj.tr_muts['human'][anno]])"
   ]
  },
  {
   "cell_type": "code",
   "execution_count": 562,
   "metadata": {},
   "outputs": [
    {
     "data": {
      "text/plain": [
       "276"
      ]
     },
     "execution_count": 562,
     "metadata": {},
     "output_type": "execute_result"
    }
   ],
   "source": [
    "sum([TM_obj.tr_muts['human'][anno]['seq_masked'].count('N') for anno in TM_obj.tr_muts['human'] if 'seq_masked' in TM_obj.tr_muts['human'][anno]])"
   ]
  },
  {
   "cell_type": "code",
   "execution_count": null,
   "metadata": {},
   "outputs": [],
   "source": []
  },
  {
   "cell_type": "code",
   "execution_count": 563,
   "metadata": {},
   "outputs": [
    {
     "data": {
      "text/plain": [
       "175"
      ]
     },
     "execution_count": 563,
     "metadata": {},
     "output_type": "execute_result"
    }
   ],
   "source": [
    "len([1 for anno in TM_obj.tr_muts['human'] if 'N' in TM_obj.tr_muts['human'][anno]['seq_masked_exp']])"
   ]
  },
  {
   "cell_type": "code",
   "execution_count": 564,
   "metadata": {},
   "outputs": [
    {
     "data": {
      "text/plain": [
       "283"
      ]
     },
     "execution_count": 564,
     "metadata": {},
     "output_type": "execute_result"
    }
   ],
   "source": [
    "len([1 for sp in TM_obj.tr_muts['human']])"
   ]
  },
  {
   "cell_type": "code",
   "execution_count": null,
   "metadata": {},
   "outputs": [],
   "source": []
  },
  {
   "cell_type": "code",
   "execution_count": null,
   "metadata": {},
   "outputs": [],
   "source": []
  },
  {
   "cell_type": "code",
   "execution_count": null,
   "metadata": {},
   "outputs": [],
   "source": []
  },
  {
   "cell_type": "code",
   "execution_count": null,
   "metadata": {},
   "outputs": [],
   "source": []
  },
  {
   "cell_type": "code",
   "execution_count": null,
   "metadata": {},
   "outputs": [],
   "source": []
  },
  {
   "cell_type": "code",
   "execution_count": null,
   "metadata": {},
   "outputs": [],
   "source": []
  },
  {
   "cell_type": "code",
   "execution_count": null,
   "metadata": {},
   "outputs": [],
   "source": []
  },
  {
   "cell_type": "code",
   "execution_count": null,
   "metadata": {},
   "outputs": [],
   "source": []
  },
  {
   "cell_type": "code",
   "execution_count": null,
   "metadata": {},
   "outputs": [],
   "source": []
  },
  {
   "cell_type": "code",
   "execution_count": null,
   "metadata": {},
   "outputs": [],
   "source": []
  },
  {
   "cell_type": "code",
   "execution_count": null,
   "metadata": {},
   "outputs": [],
   "source": [
    "                for alignment in alignments:\n",
    "                    weight_dict[anno].append(weight)\n",
    "                    # Initiate the character array:\n",
    "                    char_ar = np.empty(len(target), dtype='<U1')\n",
    "                    # Extract the alignment coordinates:\n",
    "                    t_cor, q_cor = alignment.aligned\n",
    "                    if (t_cor[-1, -1] + 1) < tr_muts_sp[species][anno]['seq_len']:\n",
    "                        raise Exception('Sequence should be 3p aligned but appears not to be...')\n",
    "\n",
    "                    # Find gaps:\n",
    "                    gap_idx = list()\n",
    "                    for i in range(1, len(t_cor)):\n",
    "                        for j in range(t_cor[i][0] - t_cor[i-1][1]):\n",
    "                            char_ar[t_cor[i-1][1] + j] = '-'\n",
    "\n",
    "                    # Find mismatches/mutations:\n",
    "                    mut_idx = list()\n",
    "                    for tran, qran in zip(t_cor, q_cor):\n",
    "                        for ti, qi in zip(range(*tran), range(*qran)):\n",
    "                            char_ar[ti] = seq[qi]\n",
    "                    tr_muts_sp[species][anno]['PSCM'].append(char_ar)"
   ]
  },
  {
   "cell_type": "code",
   "execution_count": null,
   "metadata": {},
   "outputs": [],
   "source": []
  },
  {
   "cell_type": "code",
   "execution_count": 554,
   "metadata": {},
   "outputs": [
    {
     "name": "stdout",
     "output_type": "stream",
     "text": [
      "CAGAGTGTNGCTTAACACAAAGCACCCAACTTACACTTAGGAGATTTCAACTTAACTTGACCGCTCTGACCA Homo_sapiens_mito_tRNA-Val-TAC\n",
      "GGGGAATTAGCTCAAATGGTAGAGCNCTCGCTTNGCNTGNGAGAGGTAGCGGGATCGNTGCCCGCATTCTCCACCA Homo_sapiens_tRNA-Ala-AGC-11-1\n",
      "GGGGAATTAGCTCAAGTGGTAGAGCNCTCGCTTNGCNTGNGAGAGGTAGTGGGATCGNTGCCCGCATTCTCCACCA Homo_sapiens_tRNA-Ala-AGC-15-1\n",
      "GGGGGTGTAGCTCAGTGGTAGAGCNCGTGCTTNGCNTGCACGAGGCCCCGGGTTCANTCCCCGGCACCTCCACCA Homo_sapiens_tRNA-Ala-AGC-2-1\n",
      "GGGGGTGTAGCTCAGTGGTAGAGCNCGTGCTTNGCNTGTACGAGGTCCCGGGTTCANTCCCCGGCACCTCCACCA Homo_sapiens_tRNA-Ala-AGC-3-1\n",
      "GGGGGTGTAGCTCAGTGGTAGAGCNCGTGCTTNGCNTGCACGAGGCCCTGGGTTCANTCCCCAGCACCTCCACCA Homo_sapiens_tRNA-Ala-AGC-5-1\n",
      "GGGGGATTAGCTCAAATGGTAGAGCNCTCGCTTNGCNTGNGAGAGGTAGCGGGATCGNTGCCCGCATCCTCCACCA Homo_sapiens_tRNA-Ala-AGC-8-1\n",
      "GGGGATGTAGCTCAGTGGNAGAGCNCATGCTTCGCNTGTATGAGGTCCCGGGTTCGNTCCCCGGCATCTCCACCA Homo_sapiens_tRNA-Ala-CGC-1-1\n",
      "GGGGATGTAGCTCAGTGGNAGAGCNCATGCTTCGCNTGTATGAGGCCCCGGGTTCGNTCCCCGGCATCTCCACCA Homo_sapiens_tRNA-Ala-CGC-2-1\n",
      "GGGGGTGTAGCTCAGTGGNAGNGCNCATGCTTTGCNTGTATGAGGTCCCGGGTTCGNTCCCCGGCACCTCCACCA Homo_sapiens_tRNA-Ala-TGC-1-1\n",
      "GGGGATGTAGCTCAGTGGNAGNGCNCATGCTTTGCNTGTATGAGGTCCCGGGTTCGNTCCCCGGCATCTCCACCA Homo_sapiens_tRNA-Ala-TGC-2-1\n",
      "GGGGATGTAGCTCAGTGGNAGNGCNCATGCTTTGCNTGTATGAGGCCCCGGGTTCGNTCCCCGGCATCTCCACCA Homo_sapiens_tRNA-Ala-TGC-3-1\n",
      "GGGGATGTAGCTCAGTGGNAGNGCNCATGCTTTGCNCGTATGAGGCCCCGGGTTCANTCCCCGGCATCTCCACCA Homo_sapiens_tRNA-Ala-TGC-4-1\n",
      "GGGGGTGTAGCTCAGTGGTAGAGCNCATGCTTTGCNTGTATGAGGCCTCGGGTTCGNTCCCCGACACCTCCACCA Homo_sapiens_tRNA-Ala-TGC-5-1\n",
      "GGGGGTGTAGCTCAGTGGTAGAGCNCATGCTTTGCNTGTATGAGGCCTCGGTTCGNTCCCCGACACCTCCACCA Homo_sapiens_tRNA-Ala-TGC-7-1\n",
      "GGGCCAGTNGCGCAATGGATAACGCNTCTGACTNCGNATCAGAAGATTCCAGGTTCGNCTCCTGGCTGGCTCGCCA Homo_sapiens_tRNA-Arg-ACG-1-1\n",
      "GGGCCAGTNGCGCAATGGATAACGCNTCTGACTNCGNATCAGAAGATTCTAGGTTCGNCTCCTGGCTGGCTCGCCA Homo_sapiens_tRNA-Arg-ACG-2-1\n",
      "GGCCGCGTNGCCTAATGGATAAGGCNTCTGATTCCGNATCAGAAGATTGAGGGTTCGNGTCCCTTCGTGGTCGCCA Homo_sapiens_tRNA-Arg-CCG-1-1\n",
      "GACCCAGTGGCCTAATGGATAAGGCATCAGCCTCCGNAGCTGGGGATTGTGGGTTCGNGTCCCATCTGGGTCGCCA Homo_sapiens_tRNA-Arg-CCG-2-1\n",
      "GACCGCGTNGCCTAATGGATAAGGCNTCTGACTTCGNATCAGAAGATTGAGGGTTCGNGTCCCTTCGTGGTCGCCA Homo_sapiens_tRNA-Arg-TCG-3-1\n",
      "GACCACGTNGCCTAATGGATAAGGCNTCTGACTTCGNATCAGAAGATTGAGGGTTCGNATCCCTTCGTGGTTGCCA Homo_sapiens_tRNA-Arg-TCG-5-1\n",
      "GTCTCTNTNGCGCAATCGGTNAGCGCNTTCGGCTGTTAACCGAAAGGTTGGTGGTTCGNTCCCACCCAGGGACGCCA Homo_sapiens_tRNA-Asn-GTT-1-1\n",
      "GTCTCTNTNGCGCAATCGGTNAGCGCNTTCGGCTGTTAACCGAAAGGTTGGTGGTTCGNGCCCACCCAGGGACGCCA Homo_sapiens_tRNA-Asn-GTT-2-1\n",
      "GTCTCTNTNGCGCAATCGGTNAGCGCNTTCGGCTGTTAACCGCAAGGTTGGTGGTTCCNGCCCACCCAGGGACGCCA Homo_sapiens_tRNA-Asn-GTT-24-1\n",
      "GTCTCTNTNGCGCAATCGGTNAGCGCNTTCGGCTGTTAACCGAAAGGTTGGTGGTTCGNGCCCACCCAGGGACGCCA Homo_sapiens_tRNA-Asn-GTT-3-1\n",
      "GTCTCTNTNGCGCAATCGGTNAGCGCNTTCGGCTGTTAACCGAAAGATTGGTGGTTCGNGCCCACCCAGGGACGCCA Homo_sapiens_tRNA-Asn-GTT-4-1\n",
      "GTCTCTNTNGCGCAATCGGTNAGCGCNTTCGGCTGTTAACTGAAAGGTTGGTGGTTCGNGCCCACCCAGGGACGCCA Homo_sapiens_tRNA-Asn-GTT-5-1\n",
      "GTCTCTNTNGCGCAATGGGTNAGCGCNTTCGGCTGTTAACCGAAAGGTTGGTGGTTCGNGCCCATCCAGGGACGCCA Homo_sapiens_tRNA-Asn-GTT-6-1\n",
      "GTCTCTGTNGCGTAGTCGGTNAGCGCNTTCGGCTGTTAACCGAAAGGTTGGTGGTTCGNGCCCACCCAGGAACGCCA Homo_sapiens_tRNA-Asn-GTT-7-1\n",
      "GTCTCTNTNGCGCAATCGGTNAGCGCNTTCGGCTGTTAACTGAAAGGTTGGTGGTTCGNGCCCACCCGGGGACGCCA Homo_sapiens_tRNA-Asn-GTT-9-1\n",
      "GTCTCTGTNGCGCAATCGGTNAGCGCNTTCGGCTGTTAACTGAAAGGTTAGTGGTTCGNGCCCACCCGGGGACGCCA Homo_sapiens_tRNA-Asn-GTT-9-2\n",
      "TCCTCGTTNGTATAGTGGTTAGTATCCCCGCCTGTCACGCGGGAGACCGGGGTTCANTTCCCCGACGGGGAGCCA Homo_sapiens_tRNA-Asp-GTC-1-1\n",
      "TCCTCGTTNGTATAGTGGTGAGTATCCCCGCCTGTCACGCGGGAGACCGGGGTTCGNTTCCCCGACGGGGAGCCA Homo_sapiens_tRNA-Asp-GTC-2-1\n",
      "TCCTCGTTNGTATAGTGGTGAGTGTCCCCGTCTGTCACGCGGGAGACCGGGGTTCGNTTCCCCGACGGGGAGCCA Homo_sapiens_tRNA-Asp-GTC-3-1\n",
      "GGGGGCATAGCTCAGTGGTAGAGCATTTGACTGCANATCAAGAGGTCCCTGGTTCANATCCAGGTGCCCCCTCCA Homo_sapiens_tRNA-Cys-GCA-1-1\n",
      "GGGGGTATAGCTCAGGGGTAGAGCATTTGANTGCANATCAAGAGGTCCCTGGTTCANATCCAGGTGCCCCCCCCA Homo_sapiens_tRNA-Cys-GCA-10-1\n",
      "GGGGGTATAGCTTAGCGGTAGAGCATTTGANTGCANATCAAGAGGTCCCCGGTTCANATCCGGGTGCCCCCTCCA Homo_sapiens_tRNA-Cys-GCA-11-1\n",
      "GGGGGTATAGCTTAGGGGTAGAGCATTTGACTGCANATCAAAAGGTCCCTGGTTCANATCCAGGTGCCCCTTCCA Homo_sapiens_tRNA-Cys-GCA-12-1\n",
      "GGGGGTATAGCTCAGGGGTAGAGCATTTGANTGCANATCAAGAGGTCCCCAGTTCANATCTGGGTGCCCCCTCCA Homo_sapiens_tRNA-Cys-GCA-13-1\n",
      "GGGGGTATAGCTCAGGGGTAGAGCATTTGANTGCANATCAAGAAGTCCCCGGTTCANATCCGGGTGCCCCCTCCA Homo_sapiens_tRNA-Cys-GCA-14-1\n",
      "GGGGGTATAGCTCAGGGGTAGAGCATTTGANTGCANATCAAGAGGTCTCTGGTTCANATCCAGGTGCCCCCTCCA Homo_sapiens_tRNA-Cys-GCA-15-1\n",
      "GGGGGTATAGCTCAGGGGTAGAGCACTTGACTGCANATCAAGAAGTCCTTGGTTCANATCCAGGTGCCCCCTCCA Homo_sapiens_tRNA-Cys-GCA-16-1\n",
      "GGGGATATAGCTCAGGGGTAGAGCATTTGANTGCANATCAAGAGGTCCCCGGTTCANATCCGGGTGCCCCCCCCA Homo_sapiens_tRNA-Cys-GCA-17-1\n",
      "GGGGGTATAGTTCAGGGGTAGAGCATTTGANTGCANATCAAGAGGTCCCTGGTTCANATCCAGGTGCCCCCTCCA Homo_sapiens_tRNA-Cys-GCA-18-1\n",
      "GGGGGTATAGCTCAGGGGTAGAGCATTTGACTGCANATCAAGAGGTCCCTGATTCANATCCAGGTGCCCCCTCCA Homo_sapiens_tRNA-Cys-GCA-19-1\n",
      "GGGGGTATAGCTCAGTGGTAGAGCATTTGANTGCANATCAAGAGGTCCCCGGTTCANATCCGGGTGCCCCCTCCA Homo_sapiens_tRNA-Cys-GCA-2-1\n",
      "GGGCGTATAGCTCAGGGGTAGAGCATTTGANTGCANATCAAGAGGTCCCCAGTTCANATCTGGGTGCCCCCTCCA Homo_sapiens_tRNA-Cys-GCA-20-1\n",
      "GGGGGTATAGCTCACAGGTAGAGCATTTGANTGCANATCAAGAGGTCCCCGGTTCANATCTGGGTGCCCCCTCCA Homo_sapiens_tRNA-Cys-GCA-21-1\n",
      "GGGGGTATAGCTCAGGGGTAGAGCACTTGANTGCANATCAAGAGGTCCCTGGTTCANATCCAGGTGCCCCCTCCA Homo_sapiens_tRNA-Cys-GCA-3-1\n",
      "GGGGGTATAGCTCAGTGGTAGAGCATTTGANTGCANATCAAGAGGTCCCTGGTTCANATCCGGGTGCCCCCTCCA Homo_sapiens_tRNA-Cys-GCA-4-1\n",
      "GGGGGTATAGCTCAGTGGGTAGAGCATTTGANTGCANATCAAGAGGTCCCCGGTTCANATCCGGGTGCCCCCTCCA Homo_sapiens_tRNA-Cys-GCA-5-1\n",
      "GGGGGTGTAGCTCAGTGGTAGAGCATTTGACTGCANATCAAGAGGTCCCTGGTTCANATCCAGGTGCCCCCTCCA Homo_sapiens_tRNA-Cys-GCA-6-1\n",
      "GGGGGTATAGCTCAGGTGGTAGAGCATTTGANTGCANATCAAGAGGTCCCCGGTTCANATCCGGGTGCCCCCTCCA Homo_sapiens_tRNA-Cys-GCA-7-1\n",
      "GGGGGTATAGCTCAGGGGTAGAGCATTTGANTGCANATCAAGAGGTCCCCGGTTCANATCCGGGTGCCCCCTCCA Homo_sapiens_tRNA-Cys-GCA-8-1\n",
      "GGGGGTATAGCTCAGGGGTAGAGCATTTGANTGCANATCAAGAGGTCCCTGGTTCANATCCAGGTGCCCCCTCCA Homo_sapiens_tRNA-Cys-GCA-9-1\n",
      "GGTTCCATNGTGTAATGGTTAGCACTCTGGACTCTGAATCCAGCGATCCGAGTTCANATCTCGGTGGAACCTCCA Homo_sapiens_tRNA-Gln-CTG-1-1\n",
      "GGTTCCATNGTGTAATGGTTAGCACTCTGGACTCTGAATCCAGCGATCCGAGTTCANGTCTCGGTGGAACCTCCA Homo_sapiens_tRNA-Gln-CTG-2-1\n",
      "GGTTCCATNGTGTAATGGTGAGCACTCTGGACTCTGAATCCAGCGATCCGAGTTCGNGTCTCGGTGGAACCTCCA Homo_sapiens_tRNA-Gln-CTG-3-1\n",
      "GGTTCCATNGTGTAATGGTAAGCACTCTGGACTCTGAATCCAGCGATCCGAGTTCGNGTCTCGGTGGAACCTCCA Homo_sapiens_tRNA-Gln-CTG-4-1\n",
      "GGTTCCATNGTGTAATGGTTAGCACTCTGGACTCTGAATCCGGTAATCCGAGTTCANATCTCGGTGGAACCTCCA Homo_sapiens_tRNA-Gln-CTG-5-1\n",
      "GGTCCCATNGTGTAATGGTTAGCACTCTGGACTNTGAATCCAGCGATCCGAGTTCANATCTCGGTGGGACCTCCA Homo_sapiens_tRNA-Gln-TTG-1-1\n",
      "GGTCCCATNGTGTAATGGTTAGCACTCTGGACTNTGAATCCAGCAATCCGAGTTCGNATCTCGGTGGGACCTCCA Homo_sapiens_tRNA-Gln-TTG-2-1\n",
      "GGCCCCATNGTGTAATGGTTAGCACTCTGGACTNTGAATCCAGCGATCCGAGTTCANATCTCGGTGGGACCTCCA Homo_sapiens_tRNA-Gln-TTG-3-1\n",
      "TCCCTGGTGGTCTAGTGGTTAGGATTCGGCGCTCTCACCGCCGCGGCCCGGGTTCGNTTCCCGGTCAGGGAACCA Homo_sapiens_tRNA-Glu-CTC-1-1\n",
      "TCCCTGGTGGTCTAGTGGTTAGGATTCGGCGCTCTCACCGCCGCGGCCCGGGTTCGNTTCCCGGTCAGGAAACCA Homo_sapiens_tRNA-Glu-CTC-2-1\n",
      "TCCCATATNGTCTAGCGGTTAGGATTCCTGGTTNTCACCCAGGTGGCCCGGGTTCGNCTCCCGGTATGGGAACCA Homo_sapiens_tRNA-Glu-TTC-1-1\n",
      "TCCCTGGTNGTCTAGTGGCTAGGATTCGGCGCTNTNACCNCTGCGGCCCGGGTTCGNTTCCCGGTCAGGGAACCA Homo_sapiens_tRNA-Glu-TTC-14-1\n",
      "TCCCACATNGTCTAGCGGTTAGGATTCCTGGTTNTCACCCAGGCGGCCCGGGTTCGNCTCCCGGTGTGGGAACCA Homo_sapiens_tRNA-Glu-TTC-2-1\n",
      "TCCCTGGTNGTCTAGTGGCTAGGATTCGGCGCTNTNACCNCCGCGGCCCGGGTTCGNTTCCCGGCCAGGGAACCA Homo_sapiens_tRNA-Glu-TTC-3-1\n",
      "TCCCTGGTNGTCTAGTGGCTAGGATTCGGCGCTNTNACCNCCGCGGCCCGGGTTCGNTTCCCGGTCAGGGAACCA Homo_sapiens_tRNA-Glu-TTC-4-1\n",
      "GCATTGGTGGTTCAGTGGTAGAATTCTCGCCTCCCACGCGGGAGACCCGGGTTCANTTCCCGGCCAATGCACCA Homo_sapiens_tRNA-Gly-CCC-1-1\n",
      "GCGCCGCTGGTGTAGTGGTATCATGCAAGATTCCCATTCTTGCGACCCGGGTTCGNTTCCCGGGCGGCGCACCA Homo_sapiens_tRNA-Gly-CCC-2-1\n",
      "GCATGGGTGGTTCAGTGGTAGAATTCTCGCCTGCCACGCGGGAGGCCCGGGTTCGNTTCCCGGCCCATGCACCA Homo_sapiens_tRNA-Gly-GCC-1-1\n",
      "GCATTGGTGGTTCAGTGGTAGAATTCTCGCCTGCCACGCGGGAGGCCCGGGTTCGNTTCCCGGCCAATGCACCA Homo_sapiens_tRNA-Gly-GCC-2-1\n",
      "GCATTGGTGGTTCAGTGGTAGAATTCTCGCCTGCCACGCGGGAGGCCCGGGTTTGNTTCCCGGCCAGTGCACCA Homo_sapiens_tRNA-Gly-GCC-3-1\n",
      "GCGTTGGTGGTATAGTGGTTAGCATAGCTGCCTTCCAAGCAGTTGACCCGGGTTCGNTTCCCGGCCAACGCACCA Homo_sapiens_tRNA-Gly-TCC-1-1\n",
      "GCGTTGGTGGTATAGTGGTGAGCATAGCTGCCTTCCAAGCAGTTGACCCGGGTTCGNTTCCCGGCCAACGCACCA Homo_sapiens_tRNA-Gly-TCC-2-1\n",
      "GCGTTGGTGGTATAGTGGTAAGCATAGCTGCCTTCCAAGCAGTTGACCCGGGTTCGNTTCCCGGCCAACGCACCA Homo_sapiens_tRNA-Gly-TCC-3-1\n",
      "GCGTTGGTGGTATAGTGGTGAGCATAGTTGCCTTCCAAGCAGTTGACCCGGGCTCGNTTCCCGCCCAACGCACCA Homo_sapiens_tRNA-Gly-TCC-4-1\n",
      "GCCGTGATCGTATAGTGGTTAGTACTCTGCGTTGTGNCCGCAGCAACCTCGGTTCGNATCCGAGTCACGGCACCA Homo_sapiens_tRNA-His-GTG-1-1\n",
      "GGCCGGTTAGCTCAGTTGGTTAGAGCNTGGCGCTNATAACGCCAAGGTCGCGGGTTCGNTCCCCGTACGNGCCACCA Homo_sapiens_tRNA-Ile-AAT-1-1\n",
      "GGCCGGTTAGCTCAGTTGGTTAGAGCNTGGTGCTNATAACGCCAAGGTCGCGGGTTCGNTCCCCGTACTNGCCACCA Homo_sapiens_tRNA-Ile-AAT-2-1\n",
      "GGCTGGTTAGCTCAGTTGGTTAGAGCNTGGTGCTNATAACGCCAAGGTCGCGGGTTCGNTCCCCGTACTNGCCACCA Homo_sapiens_tRNA-Ile-AAT-3-1\n",
      "GGCCGGTTAGCTCAGTTGGTTAGAGCNTGGTGCTNATAACGCCAAGGTCGCGGGTTCGNACCCCGTACGNGCCACCA Homo_sapiens_tRNA-Ile-AAT-4-1\n",
      "GGCCGGTTAGCTCAGTTGGTTAGAGCNTGGTGCTNATAACGCCAAGGTCGCGGGTTCGNTCCCCGTACGNGCCACCA Homo_sapiens_tRNA-Ile-AAT-5-1\n",
      "GGCCGGTTAGCTCAGTTGGTTAGAGCNTGGTGCTNATAACGCTAAGGTCGCGGGTTCGNTCCCCGTACTNGCCACCA Homo_sapiens_tRNA-Ile-AAT-6-1\n",
      "GGCCGGTTAGCTCAGTTGGTCAGAGCNTGGTGCTNATAACGCCAAGGTCGCGGGTTCGNTCCCCGTACGNGCCACCA Homo_sapiens_tRNA-Ile-AAT-7-1\n",
      "GGCCGGTTAGCTCAGTCGGCTAGAGCNTGGTGCTNATAACGCCAAGGTCGCGGGTTCGNTCCCCGTACGGGCCACCA Homo_sapiens_tRNA-Ile-AAT-8-1\n",
      "GCTCCAGTGGCGCAATCGGTTAGCGCGNGNTACTTATAATGCCGAGGTTGTGAGTTCGNTCCTCACCTGGAGCACCA Homo_sapiens_tRNA-Ile-TAT-1-1\n",
      "GCTCCAGTGGCGCAATCGGTTAGCGCGNGNTACTTATAATGCCGAGGTTGTGAGTTCGNGCCTCACCTGGAGCACCA Homo_sapiens_tRNA-Ile-TAT-2-1\n",
      "GCTCCAGTGGCGCAATCGGTTAGCGCGNGNTACTTATAATGCCGAGGTTGTGAGTTCANGCCTCACCTGGAGCACCA Homo_sapiens_tRNA-Ile-TAT-3-1\n",
      "GGTAGCGTGGCCGAGCGGTCTAAGGCNCTGGATTNAGNCTCCAGTCTCTTCGGAGGCGTGGGTTCGNATCCCACCGCTGCCACCA Homo_sapiens_tRNA-Leu-AAG-1-1\n",
      "GGTAGCGTGGCCGAGCGGTCTAAGGCNCTGGATTNAGNCTCCAGTCTCTTCGGGGGCGTGGGTTCGNATCCCACCGCTGCCACCA Homo_sapiens_tRNA-Leu-AAG-2-1\n",
      "GGTAGCGTGGCCGAGCGGTCTAAGGCNCTGGATTNAGNCTCCAGTCTCTTCGGGGGCGTGGGTTCANATCCCACCGCTGCCACCA Homo_sapiens_tRNA-Leu-AAG-3-1\n",
      "GGTAGCGTGGCCGAGTGGTCTAAGACNCTGGATTNAGNCTCCAGTCTCTTCGGGGGCGTGGGTTTGNATCCCACCGCTGCCACCA Homo_sapiens_tRNA-Leu-AAG-4-1\n",
      "GTCAGGATGGCCGAGTGGTCTAAGGCNCCAGACTCAANTTCTGGTCTCCAATGGAGGCGTGGGTTCGNATCCCACTTCTGACACCA Homo_sapiens_tRNA-Leu-CAA-1-1\n",
      "GTCAGGATGGCCGAGTGGTCTAAGGCNCCAGACTCAANTTCTGGTCTCCGTATGGAGGCGTGGGTTCGNATCCCACTTCTGACACCA Homo_sapiens_tRNA-Leu-CAA-2-1\n",
      "GTCAGGATGGCCGAGTGGTCTAAGGCNCCAGACTCAANTTCTGGTCTCCGCATGGAGGCGTGGGTTCGNATCCCACTTCTGACACCA Homo_sapiens_tRNA-Leu-CAA-3-1\n",
      "GTCAGGATGGCCGAGTGGTCTAAGGCNCCAGACTCAANTTCTGGTCTCCGGATGGAGGCGTGGGTTCGNATCCCACTTCTGACACCA Homo_sapiens_tRNA-Leu-CAA-4-1\n",
      "GTCAGGATGGCCGAGCGGTCTAAGGCNCTGCNTTCAGNTCGCAGTCTCCCNTGGAGGCGTGGGTTCGNATCCCACTCCTGACACCA Homo_sapiens_tRNA-Leu-CAG-1-1\n",
      "GTCAGGATGGCCGAGCGGTCTAAGGCNCTGCNTTCAGNTCGCAGTCTCCCNTGGAGGCGTGGGTTCGNATCCCACTTCTGACACCA Homo_sapiens_tRNA-Leu-CAG-2-1\n",
      "ACCAGGATGGCCGAGTGGTTAAGGCGTTGGACTTAANATCCAATGGACATATGTCCGCGTGGGTTCGNACCCCACTCCTGGTACCA Homo_sapiens_tRNA-Leu-TAA-1-1\n",
      "GGTAGCGTGGCCGAGCGGTCTAAGGCNCTGGATTNAGNCTCCAGTCTCTTCGGAGGCGTGGGTTCGNATCCCACCGCTGCCACCA Homo_sapiens_tRNA-Leu-TAG-1-1\n",
      "GGTAGTGTGGCCGAGCGGTCTAAGGCNCTGGATTNAGNCTCCAGTCTCTTCGGGGGCGTGGGTTCGNATCCCACCACTGCCACCA Homo_sapiens_tRNA-Leu-TAG-2-1\n",
      "GCCCGGCTAGCTCAGTCGGTAGAGCATGGGACTCTTAATCCCAGGGTCGTGGGTTCGNGCCCCACGTTGGGCGCCA Homo_sapiens_tRNA-Lys-CTT-1-1\n",
      "GCCCGGCTAGCTCAGTCGGTAGAGCATGAGACTCTTAATCTCAGGGTCGTGGGTTCGNGCCCCACGTTGGGCGCCA Homo_sapiens_tRNA-Lys-CTT-2-1\n",
      "GCCCGGCTAGCTCAGTCGGTAGAGCATGAGACCCTTAATCTCAGGGTCGTGGGTTCGNGCCCCACGTTGGGCGCCA Homo_sapiens_tRNA-Lys-CTT-3-1\n",
      "GCCCGGCTAGCTCAGTCGGTAGAGCATGGGACTCTTAATCTCAGGGTCGTGGGTTCGNGCCCCACGTTGGGCGCCA Homo_sapiens_tRNA-Lys-CTT-4-1\n",
      "GCCCGGCTAGCTCAGTCGATAGAGCATGAGACTCTTAATCTCAGGGTCGTGGGTTCGNGCCGCACGTTGGGCGCCA Homo_sapiens_tRNA-Lys-CTT-5-1\n",
      "GCCTGGATAGCTCAGTTGGTAGAGCATCAGACTTTTAATCTGAGGGTCCAGGGTTCANGTCCCTGTTCAGGCACCA Homo_sapiens_tRNA-Lys-TTT-1-1\n",
      "GCCTGNATAGCTCAGTTGGTAGAGCATCAGACNNTTAATCTGAGGGTCCAGGGTTCANGTCCCTGTTCAGGCGCCA Homo_sapiens_tRNA-Lys-TTT-2-1\n",
      "GCCCGNATAGCTCAGTCGGTAGAGCATCAGACNNTTAATCTGAGGGTCCAGGGTTCANGTCCCTGTTCGGGCGCCA Homo_sapiens_tRNA-Lys-TTT-3-1\n",
      "GCCTGNATAGCTCAGTCGGTAGAGCATCAGACNNTTAATCTGAGGGTCCAGGGTTCANGTCCCTGTTCAGGCGCCA Homo_sapiens_tRNA-Lys-TTT-4-1\n",
      "GCCCGNATAGCTCAGTCGGTAGAGCATCAGACNNTTAATCTGAGGGTCCGGGGTTCANGTCCCTGTTCGGGCGCCA Homo_sapiens_tRNA-Lys-TTT-5-1\n",
      "GCCTGGGTAGCTCAGTCGGTAGAGCATCAGACTTTTAATCTGAGGGTCCAGGGTTCANGTCCCTGTCCAGGCGCCA Homo_sapiens_tRNA-Lys-TTT-6-1\n",
      "GCCTGGATAGCTCAGTTGGTAGAACATCAGACTTTTAATCTGACGGTGCAGGGTTCANGTCCCTGTTCAGGCGCCA Homo_sapiens_tRNA-Lys-TTT-7-1\n",
      "GCCCTCTTAGCGCAGTGGGNAGCGCNTCAGTCTCATAATCTGAAGGTCCTGAGTTCGNGCCTCAGAGAGGGCACCA Homo_sapiens_tRNA-Met-CAT-2-1\n",
      "GCCCTCTTAGCGCAGCGGGNAGCGCNTCAGTCTCATAATCTGAAGGTCCTGAGTTCGNGCCTCAGAGAGGGCACCA Homo_sapiens_tRNA-Met-CAT-4-1\n",
      "GCCCTCTTAGCGCAGCTGGNAGCGCNTCAGTCTCATAATCTGAAGGTCCTGAGTTCANGCCTCAGAGAGGGCACCA Homo_sapiens_tRNA-Met-CAT-5-1\n",
      "GCCGAAATAGCTCNGTTGGGAGANNNNNNNACNNAANATCTAAAGNTCCCTGGTTCGNTCCCGGGTTTCGGCACCA Homo_sapiens_tRNA-Phe-GAA-1-1\n",
      "GCCGAAATAGCTCNGTTGGGAGANNNNNNNACNNAANATCTAAAGNTCCCTGGTTCANTCCCGGGTTTCGGCACCA Homo_sapiens_tRNA-Phe-GAA-2-1\n",
      "GCCGAGATAGCTCNGTTGGGAGANNNNNNNACNNAANATCTAAAGNTCCCTGGTTCANTCCCGGGTTTCGGCACCA Homo_sapiens_tRNA-Phe-GAA-3-1\n",
      "GCCGAAATAGCTCNGTTGGGAGANNNNNNNACNNAANATCTTAAAGNTCCCTGGTTCANTCCCGGGTTTCGGCACCA Homo_sapiens_tRNA-Phe-GAA-4-1\n",
      "GGCTCGTTNGTCTAGGGGTATGATTCTCGCTTNGGNTGCGAGAGGTCCCGGGTTCANATCCCGGACGAGCCCCCA Homo_sapiens_tRNA-Pro-AGG-1-1\n",
      "GGCTCGTTNGTCTAGGGGTATGATTCTCGCTTNGGNTGCGAGAGGTCCCGGGTTCANATCCCGGACGAGCCCCCA Homo_sapiens_tRNA-Pro-AGG-2-1\n",
      "GGCTCGTTNGTCTAGGGGTATGATTCTCGCTTNGGNTGCGAGAGGTCCCGGGTTCANATCCCGGACGAGCCCCCA Homo_sapiens_tRNA-Pro-CGG-1-1\n",
      "GGCTCGTTNGTCTAGGGGTATGATTCTCGCTTNGGNTGTGAGAGGTCCCGGGTTCANATCCCGGACGAGCCCCCA Homo_sapiens_tRNA-Pro-CGG-2-1\n",
      "GGCTCGTTNGTCTAGTGGTATGATTCTCGCTTNGGNTGCGAGAGGTCCCGGGTTCANATCCCGGACGAGCCCCCA Homo_sapiens_tRNA-Pro-TGG-1-1\n",
      "GGCTCGTTNGTCTAGGGGTATGATTCTCGGTTNGGNTCCGAGAGGTCCCGGGTTCANATCCCGGACGAGCCCCCA Homo_sapiens_tRNA-Pro-TGG-2-1\n",
      "GGCTCGTTNGTCTAGGGGTATGATTCTCGCTTNGGNTGCGAGAGGTCCCGGGTTCANATCCCGGACGAGCCCCCA Homo_sapiens_tRNA-Pro-TGG-3-1\n",
      "GACGAGGTGGCCGAGTGGTTAAGGCNATGGANTGCTAATCCATTNTGCTNTGCACGCGTGGGTTCGNATCCCACCCTCGTCGCCA Homo_sapiens_tRNA-Ser-GCT-1-1\n",
      "GACGAGGTGGCCGAGTGGTTAAGGCNATGGANTGCTAATCCATTNTGCTNTGCACGCGTGGGTTCGNATCCCACCTTCGTCGCCA Homo_sapiens_tRNA-Ser-GCT-2-1\n",
      "GACGAGGTGGCCGAGTGGTTAAGGCNATGGANTGCTAATCCATTNTGCTNTGCACGCGTGGGTTCGNATCCCATCCTCGTCGCCA Homo_sapiens_tRNA-Ser-GCT-3-1\n",
      "GACGAGGTGGCCGAGTGGTTAAGGCNATGGANTGCTAATCCATTNTGCTNTGCACGCGTGGGTTCGNATCCCATCCTCGTCGCCA Homo_sapiens_tRNA-Ser-GCT-4-1\n",
      "GACGAGGTGGCCGAGTGGTTAAGGCNATGGANTGCTAATCCATTNTGCTNTGCACACGTGGGTTCGNATCCCATCCTCGTCGCCA Homo_sapiens_tRNA-Ser-GCT-5-1\n",
      "GGAGAGGCCTGGCCGAGTGGTTAAGGCGATGGACTGCTAATCCATTNTGCTNTGCACGCGTGGGTTCGNATCCCATCCTCGTCGCCA Homo_sapiens_tRNA-Ser-GCT-6-1\n",
      "GTAGTCGTGGCCGAGTGGTTAAGGCNATGGANTNGAAATCCATTGGGGTNTCCCCGCGCAGGTTCGNATCCTGCCGACTACGCCA Homo_sapiens_tRNA-Ser-TGA-2-1\n",
      "GTAGTCGTGGCCGAGTGGTTAAGGCNATGGANTNGAAATCCATTGGGGTNTCCCCGCGCAGGTTCGNATCCTGCCGACTACGCCA Homo_sapiens_tRNA-Ser-TGA-3-1\n",
      "GTAGTCGTGGCCGAGTGGTTAAGGCNATGGANTNGAAATCCATTGGGGTNTCCCCGCGCAGGTTCGNATCCTGTCGGCTACGCCA Homo_sapiens_tRNA-Ser-TGA-4-1\n",
      "GGCGCCNTNGCTTAGTTGGTNAAANCNCCTGTNTNGTAAACAGGAGATCCTGGGTTCGNATCCCAGCGGTGCCTCCA Homo_sapiens_tRNA-Thr-AGT-1-1\n",
      "GGCTCCNTNGCTTAGCTGGTNAAANCNCCTGTNTNGTAAACAGGAGATCCTGGGTTCGNATCCCAGCGGGGCCTCCA Homo_sapiens_tRNA-Thr-AGT-2-1\n",
      "GGCTCCGTNGCTTAGTTGGTTAAANCNCCTGTNTNGTAAACAGGAGATCCTGGGTTCGNCTCCCAGCGGGGCCTCCA Homo_sapiens_tRNA-Thr-AGT-3-1\n",
      "GGCTTCGTNGCTTAGCTGGTTAAANCNCCTGTNTNGTAAACAGGAGATCCTGGGTTCGNATCCCAGCGAGGCCTCCA Homo_sapiens_tRNA-Thr-AGT-4-1\n",
      "GGCGCCNTNGCTTAGCTGGTNAAANCNCCTGTNTNGTAAACAGGAGATCCTGGGTTCGNATCCCAGCGGTGCCTCCA Homo_sapiens_tRNA-Thr-AGT-5-1\n",
      "GGCCCTGTNGCTTAGCTGGTCAAANCNCCTGTNTNGTAAACAGGAGATCCTGGGTTCGNATCCCAGCGGGGCCTCCA Homo_sapiens_tRNA-Thr-AGT-6-1\n",
      "GGCTCTGTGGCTTAGTTGGCTAAAGCGCCTGTNTNGTAAACAGGAGATCCTGGGTTCGNATCCCAGCGGGGCCTCCA Homo_sapiens_tRNA-Thr-CGT-3-1\n",
      "GGCTCCATAGCTCAGGGGTTAGAGCGCTGGTNTTGTAAACCAGGGGTCGCGAGTTCANNTCTCGCTGGGGCCTCCA Homo_sapiens_tRNA-Thr-TGT-3-1\n",
      "GGCTCCATAGCTCAGGGGTTAGAGCACTGGTNTTGTAAACCAGGGGTCGCGAGTTCANNTCTCGCTGGGGCCTCCA Homo_sapiens_tRNA-Thr-TGT-4-1\n",
      "GGCCCTATAGCTCAGGGGTTAGAGCACTGGTNTTGTAAACCAGGGGTCGCGAGTTCANNTCTCGCTGGGGCCTCCA Homo_sapiens_tRNA-Thr-TGT-5-1\n",
      "GGCTCCATAGCTCAGGGGTTAGAGCACTGGTNTTGTAAACCAGGGTCGCGAGTTCANNTCTCGCTGGGGCCTCCA Homo_sapiens_tRNA-Thr-TGT-6-1\n",
      "GGCCTCGTGGCGCAACGGTAGCGCGTCTGACTCCANATCAGAAGGTTGCGTGTTCANATCACGTCGGGGTCACCA Homo_sapiens_tRNA-Trp-CCA-1-1\n",
      "GACCTCGTGGCGCAATGGTAGCGCGTCTGACTCCANATCAGAAGGTTGCGTGTTCANGTCACGTCGGGGTCACCA Homo_sapiens_tRNA-Trp-CCA-2-1\n",
      "GACCTCGTGGCGCAACGGTAGCGCGTCTGACTCCANATCAGAAGGTTGCGTGTTCANATCACGTCGGGGTCACCA Homo_sapiens_tRNA-Trp-CCA-3-1\n",
      "GACCTCGTGGCGCAACGGTAGCGCGTCTGACTCCANATCAGAAGGCTGCGTGTTCGNATCACGTCGGGGTCACCA Homo_sapiens_tRNA-Trp-CCA-4-1\n",
      "GACCTCGTGGCGCAACGGCAGCGCGTCTGACTCCANATCAGAAGGTTGCGTGTTCANATCACGTCGGGGTCACCA Homo_sapiens_tRNA-Trp-CCA-5-1\n",
      "CCTTCGATAGCTCAGTTGGTAGAGCGGAGGACTGTNNATCCTTAGGTCGCTGGTTCGNATCCGGCTCGAAGGACCA Homo_sapiens_tRNA-Tyr-GTA-1-1\n",
      "CCTTCGATAGCTCAGTTGGTAGAGCGGAGGACTGTNNATCCTTAGGTCGCTGGTTCGNTTCCGGCTCGAAGGACCA Homo_sapiens_tRNA-Tyr-GTA-2-1\n",
      "CCTTCGATAGCTCAGTTGGTAGAGCGGAGGACTGTNNATCCTTAGGTCGCTGGTTCGNATCCGGCTCGGAGGACCA Homo_sapiens_tRNA-Tyr-GTA-3-1\n",
      "CCTTCGATAGCTCAGCTGGTAGAGCGGAGGACTGTNNATCCTTAGGTCGCTGGTTCGNTTCCAGCTCGAAGGACCA Homo_sapiens_tRNA-Tyr-GTA-4-1\n",
      "CCTTCGATAGCTCAGCTGGTAGAGCGGAGGACTGTNNATCCTTAGGTCGCTGGTTCGNTTCCGGCTCGAAGGACCA Homo_sapiens_tRNA-Tyr-GTA-5-1\n",
      "CCTTCGATAGCTCAGCTGGTAGAGCGGAGGACTGTNNATCCTTAGGTCGCTGGTTCGNATCCGGCTCGGAGGACCA Homo_sapiens_tRNA-Tyr-GTA-6-1\n",
      "CCTTCGATAGCTCAGCTGGTAGAGCGGAGGACTGTNNATCCTTAGGTCGCTGGTTCANTTCCGGCTCGAAGGACCA Homo_sapiens_tRNA-Tyr-GTA-7-1\n",
      "CTTTCGATAGCTCAGTTGGTAGAGCGGAGGACTGTNNATCCTTAGGTCGCTGGTTCGNATCCGGCTCGAAGGACCA Homo_sapiens_tRNA-Tyr-GTA-8-1\n",
      "GTTTCCGTAGTGTAGTGGTTATCACGTTCGCCTNACACNCGAAAGGTCCCCGGTTCGNAACCGGGCGGAAACACCA Homo_sapiens_tRNA-Val-AAC-1-1\n",
      "GTTTCCGTAGTGTAGTGGTCATCACGTTCGCCTNACACNCGAAAGGTCCCCGGTTCGNAACCGGGCGGAAACACCA Homo_sapiens_tRNA-Val-AAC-2-1\n",
      "GTTTCCGTAGTGTAGTGGTTATCACGTTCGCCTNACACNCGAAAGGTCCGCGGTTCGNAACCGGGCGGAAACACCA Homo_sapiens_tRNA-Val-AAC-4-1\n",
      "GTTTCCGTAGTGTAGTGGTTATCACGTTTGCCTNACACNCGAAAGGTCCCCGGTTCGNAACCGGGCAGAAACACCA Homo_sapiens_tRNA-Val-AAC-5-1\n",
      "GTTTCCGTAGTGTAGTGGTTATCACGTTCGCCTNACACGCGAAAGGTCCCCGGTTCGNAACCGGGCGGAAACACCA Homo_sapiens_tRNA-Val-CAC-1-1\n",
      "GTTTCCGTAGTGTAGTGGTTATCACGTTCGCCTNACACGCGAAAGGTCCCCGGTTCGNAACTGGGCGGAAACACCA Homo_sapiens_tRNA-Val-CAC-4-1\n",
      "GTTTCCGTAGTGGAGTGGTTATCACGTTCGCCTNACACGCGAAAGGTCCCCGGTTTGNAACCAGGCGGAAACACCA Homo_sapiens_tRNA-Val-CAC-6-1\n",
      "GGTTCCATAGTGTAGTGGTTATCACGTCTGCTTTACACGCAGAAGGTCCTGGGTTCGNGCCCCAGTGGAACCACCA Homo_sapiens_tRNA-Val-TAC-1-1\n",
      "GGTTCCATAGTGTAGCGGTTATCACGTCTGCTTTACACGCAGAAGGTCCTGGGTTCGNGCCCCAGTGGAACCACCA Homo_sapiens_tRNA-Val-TAC-2-1\n",
      "GGTTCCATAGTGTAGTGGTTATCACATCTGCTTTACACGCAGAAGGTCCTGGGTTCANGCCCCAGTGGAACCACCA Homo_sapiens_tRNA-Val-TAC-3-1\n",
      "AGCAGAGTNGCGCAGCGGAAGCGTGCTGGGCCCATAACCCAGAGGTCGATGGATCGNNNCCATCCTCTGCTACCA Homo_sapiens_tRNA-iMet-CAT-1-1\n",
      "AGCAGAGTNGCGCAGCGGAAGCGTGCTGGGCCCATAACCCAGAGGTCGATGGATCTNNNCCATCCTCTGCTACCA Homo_sapiens_tRNA-iMet-CAT-2-1\n"
     ]
    }
   ],
   "source": [
    "# Initiate the aligner:\n",
    "frac_max_score = 0.90\n",
    "\n",
    "match_score=1\n",
    "mismatch_score=-1\n",
    "open_gap_score=-2\n",
    "extend_gap_score=-2\n",
    "\n",
    "aligner = Align.PairwiseAligner()\n",
    "aligner.mode = 'local'\n",
    "aligner.match_score = match_score\n",
    "aligner.mismatch_score = mismatch_score\n",
    "aligner.open_gap_score = open_gap_score\n",
    "aligner.extend_gap_score = extend_gap_score\n",
    "\n",
    "\n",
    "#for species in TM_obj.tr_muts:\n",
    "for species in ['human']:\n",
    "    for anno1 in TM_obj.tr_muts[species]:\n",
    "    # for anno1 in ['Homo_sapiens_tRNA-Phe-GAA-4-1']:\n",
    "        target = TM_obj.tr_muts[species][anno1]['seq']\n",
    "        ac1 = anno1.split('-')[2] # anticodon\n",
    "        TM_obj.tr_muts[species][anno1]['seq_masked_exp'] = ''\n",
    "        \n",
    "        \n",
    "        # Add masked characters from highly similar sequences:\n",
    "        for anno2 in TM_obj.tr_muts[species]:\n",
    "            # Skip sequences with different anticodon:\n",
    "            if ac1 != anno2.split('-')[2]:\n",
    "                continue\n",
    "            # Skip sequences with no masked characters to contribute:\n",
    "            elif not 'seq_masked' in TM_obj.tr_muts[species][anno2]:\n",
    "                continue\n",
    "            \n",
    "            query = TM_obj.tr_muts[species][anno2]['seq']\n",
    "            max_score = match_score * max([len(target), len(query)])\n",
    "            min_score = max_score * frac_max_score\n",
    "            \n",
    "            alignments = aligner.align(target, query)\n",
    "            # Take out one alignment:\n",
    "            alignment = alignments[0]\n",
    "            t_cor, q_cor = alignment.aligned\n",
    "\n",
    "            # Following enforces end-to-end coverage of the alignment\n",
    "            # on both target and query:\n",
    "            if t_cor[0][0] != 0 or q_cor[0][0] != 0 or t_cor[-1][1] != len(target) or q_cor[-1][1] != len(query):\n",
    "                continue\n",
    "            # Also enforce minimum alignment score:\n",
    "            elif alignment.score < min_score:\n",
    "                continue\n",
    "            \n",
    "            \n",
    "\n",
    "            \n",
    "            q_masked = TM_obj.tr_muts[species][anno2]['seq_masked']\n",
    "            # Concatenate the masked query that aligns to the target:\n",
    "            q_masked_trans = list()\n",
    "            for i in range(0, len(q_cor)):\n",
    "                q_chunk = q_masked[q_cor[i][0]:q_cor[i][1]]\n",
    "                q_masked_trans.append(q_chunk)\n",
    "                # Insert gaps when these appear in the query\n",
    "                # i.e. characters in the target is unaligned:\n",
    "                if i < (len(q_cor)-1):\n",
    "                    for j in range(t_cor[i+1][0] - t_cor[i][1]):\n",
    "                        q_masked_trans.append('-')\n",
    "            q_masked_trans = ''.join(q_masked_trans)\n",
    "            assert(len(q_masked_trans) == len(target))\n",
    "            \n",
    "            \n",
    "            if TM_obj.tr_muts[species][anno1]['seq_masked_exp'] == '':\n",
    "                # If \"N\" is found in the masked query then pick it out\n",
    "                # otherwise stick to the target sequence:\n",
    "                seq_masked_exp = ''.join([qc if qc == 'N' else tc for tc, qc in zip(target, q_masked_trans)])\n",
    "                TM_obj.tr_muts[species][anno1]['seq_masked_exp'] = seq_masked_exp\n",
    "            else:\n",
    "                # Expand the masked character:\n",
    "                t_masked = TM_obj.tr_muts[species][anno1]['seq_masked_exp']\n",
    "                seq_masked_exp = ''.join([qc if qc == 'N' else tc for tc, qc in zip(t_masked, q_masked_trans)])\n",
    "                TM_obj.tr_muts[species][anno1]['seq_masked_exp'] = seq_masked_exp\n",
    "            \n",
    "\n",
    "            "
   ]
  },
  {
   "cell_type": "code",
   "execution_count": null,
   "metadata": {},
   "outputs": [],
   "source": []
  },
  {
   "cell_type": "code",
   "execution_count": null,
   "metadata": {},
   "outputs": [],
   "source": []
  },
  {
   "cell_type": "code",
   "execution_count": 542,
   "metadata": {},
   "outputs": [
    {
     "name": "stdout",
     "output_type": "stream",
     "text": [
      "target            0 GCCGAAATAGCTCAGTTGGGAGAGCGTTAGACCGAAGATCTTAAAGGTCCCTGGTTCAAT\n",
      "                  0 |||||.||||||||||||||||||||||||||.||||||||-||||||||||||||||||\n",
      "query             0 GCCGAGATAGCTCAGTTGGGAGAGCGTTAGACTGAAGATCT-AAAGGTCCCTGGTTCAAT\n",
      "\n",
      "target           60 CCCGGGTTTCGGCACCA 77\n",
      "                 60 ||||||||||||||||| 77\n",
      "query            59 CCCGGGTTTCGGCACCA 76\n",
      "\n"
     ]
    }
   ],
   "source": [
    "print(alignment)"
   ]
  },
  {
   "cell_type": "code",
   "execution_count": null,
   "metadata": {},
   "outputs": [],
   "source": []
  },
  {
   "cell_type": "code",
   "execution_count": null,
   "metadata": {},
   "outputs": [],
   "source": []
  },
  {
   "cell_type": "code",
   "execution_count": null,
   "metadata": {},
   "outputs": [],
   "source": []
  },
  {
   "cell_type": "code",
   "execution_count": null,
   "metadata": {},
   "outputs": [],
   "source": []
  },
  {
   "cell_type": "code",
   "execution_count": 496,
   "metadata": {},
   "outputs": [],
   "source": [
    "t_cor, q_cor = alignment.aligned"
   ]
  },
  {
   "cell_type": "code",
   "execution_count": 512,
   "metadata": {},
   "outputs": [
    {
     "data": {
      "text/plain": [
       "0"
      ]
     },
     "execution_count": 512,
     "metadata": {},
     "output_type": "execute_result"
    }
   ],
   "source": [
    "t_cor[0][0]"
   ]
  },
  {
   "cell_type": "code",
   "execution_count": 509,
   "metadata": {},
   "outputs": [],
   "source": [
    "ss = 'ASDFGDFSDASFDGFHFGDSDASDGFHGFSAWSDGFBHGFRAESGHGFAEGDFHFRDEAWSDGDFSDAEFGEWARWFGFDWEAFDGEGFWDW'"
   ]
  },
  {
   "cell_type": "code",
   "execution_count": 513,
   "metadata": {},
   "outputs": [
    {
     "data": {
      "text/plain": [
       "'ASDFGDFSDASFDGFHFGDSDASDGFHGFSAWSDGFBHGFRAESGHGFAEGDFHFRDEAWSDGDFSDAEFGEWAR'"
      ]
     },
     "execution_count": 513,
     "metadata": {},
     "output_type": "execute_result"
    }
   ],
   "source": [
    "ss[t_cor[0][0]:t_cor[0][1]]"
   ]
  },
  {
   "cell_type": "code",
   "execution_count": null,
   "metadata": {},
   "outputs": [],
   "source": []
  },
  {
   "cell_type": "code",
   "execution_count": 483,
   "metadata": {},
   "outputs": [
    {
     "data": {
      "text/plain": [
       "7.599999999999994"
      ]
     },
     "execution_count": 483,
     "metadata": {},
     "output_type": "execute_result"
    }
   ],
   "source": [
    "76 - 76*0.90"
   ]
  },
  {
   "cell_type": "code",
   "execution_count": 484,
   "metadata": {},
   "outputs": [
    {
     "data": {
      "text/plain": [
       "44"
      ]
     },
     "execution_count": 484,
     "metadata": {},
     "output_type": "execute_result"
    }
   ],
   "source": [
    "max([11, 44])"
   ]
  },
  {
   "cell_type": "code",
   "execution_count": null,
   "metadata": {},
   "outputs": [],
   "source": []
  },
  {
   "cell_type": "code",
   "execution_count": null,
   "metadata": {},
   "outputs": [],
   "source": []
  },
  {
   "cell_type": "code",
   "execution_count": null,
   "metadata": {},
   "outputs": [],
   "source": []
  },
  {
   "cell_type": "code",
   "execution_count": null,
   "metadata": {},
   "outputs": [],
   "source": []
  },
  {
   "cell_type": "code",
   "execution_count": null,
   "metadata": {},
   "outputs": [],
   "source": []
  },
  {
   "cell_type": "code",
   "execution_count": null,
   "metadata": {},
   "outputs": [],
   "source": []
  },
  {
   "cell_type": "code",
   "execution_count": 463,
   "metadata": {},
   "outputs": [
    {
     "data": {
      "text/plain": [
       "array([ 9.,  9.,  9.,  9.,  9.,  9.,  9.,  9.,  9., 10., 11., 11., 11.,\n",
       "       11., 11., 11., 11., 11., 11., 11., 11., 11., 11., 11., 11., 11.,\n",
       "       11., 12., 12., 12., 12., 12., 12., 12., 12., 12., 12., 12., 12.,\n",
       "       12., 12., 12., 12., 12., 12., 13., 13., 14., 14., 14., 14., 14.,\n",
       "       14., 14., 14., 14., 14., 14., 14., 14., 14., 14., 14., 14., 14.,\n",
       "       14., 14., 14.])"
      ]
     },
     "execution_count": 463,
     "metadata": {},
     "output_type": "execute_result"
    }
   ],
   "source": [
    "TM_obj.tr_muts['human']['Homo_sapiens_mito_tRNA-Arg-TCG']['PSCM'].sum(1).values"
   ]
  },
  {
   "cell_type": "code",
   "execution_count": null,
   "metadata": {},
   "outputs": [],
   "source": []
  },
  {
   "cell_type": "code",
   "execution_count": null,
   "metadata": {},
   "outputs": [],
   "source": []
  },
  {
   "cell_type": "code",
   "execution_count": null,
   "metadata": {},
   "outputs": [],
   "source": []
  },
  {
   "cell_type": "code",
   "execution_count": null,
   "metadata": {},
   "outputs": [],
   "source": []
  },
  {
   "cell_type": "code",
   "execution_count": null,
   "metadata": {},
   "outputs": [],
   "source": []
  },
  {
   "cell_type": "code",
   "execution_count": null,
   "metadata": {},
   "outputs": [],
   "source": []
  },
  {
   "cell_type": "code",
   "execution_count": null,
   "metadata": {},
   "outputs": [],
   "source": []
  },
  {
   "cell_type": "code",
   "execution_count": null,
   "metadata": {},
   "outputs": [],
   "source": []
  },
  {
   "cell_type": "code",
   "execution_count": null,
   "metadata": {},
   "outputs": [],
   "source": []
  },
  {
   "cell_type": "code",
   "execution_count": null,
   "metadata": {},
   "outputs": [],
   "source": []
  },
  {
   "cell_type": "code",
   "execution_count": null,
   "metadata": {},
   "outputs": [],
   "source": []
  },
  {
   "cell_type": "code",
   "execution_count": null,
   "metadata": {},
   "outputs": [],
   "source": []
  },
  {
   "cell_type": "code",
   "execution_count": null,
   "metadata": {},
   "outputs": [],
   "source": []
  },
  {
   "cell_type": "code",
   "execution_count": null,
   "metadata": {},
   "outputs": [],
   "source": []
  },
  {
   "cell_type": "code",
   "execution_count": null,
   "metadata": {},
   "outputs": [],
   "source": []
  },
  {
   "cell_type": "code",
   "execution_count": null,
   "metadata": {},
   "outputs": [],
   "source": []
  },
  {
   "cell_type": "code",
   "execution_count": null,
   "metadata": {},
   "outputs": [],
   "source": []
  },
  {
   "cell_type": "code",
   "execution_count": null,
   "metadata": {},
   "outputs": [],
   "source": []
  },
  {
   "cell_type": "code",
   "execution_count": null,
   "metadata": {},
   "outputs": [],
   "source": []
  },
  {
   "cell_type": "code",
   "execution_count": null,
   "metadata": {},
   "outputs": [],
   "source": []
  },
  {
   "cell_type": "code",
   "execution_count": null,
   "metadata": {},
   "outputs": [],
   "source": []
  },
  {
   "cell_type": "code",
   "execution_count": null,
   "metadata": {},
   "outputs": [],
   "source": []
  },
  {
   "cell_type": "code",
   "execution_count": null,
   "metadata": {},
   "outputs": [],
   "source": []
  },
  {
   "cell_type": "code",
   "execution_count": null,
   "metadata": {},
   "outputs": [],
   "source": []
  },
  {
   "cell_type": "code",
   "execution_count": null,
   "metadata": {},
   "outputs": [],
   "source": []
  },
  {
   "cell_type": "code",
   "execution_count": null,
   "metadata": {},
   "outputs": [],
   "source": []
  },
  {
   "cell_type": "code",
   "execution_count": null,
   "metadata": {},
   "outputs": [],
   "source": []
  },
  {
   "cell_type": "code",
   "execution_count": null,
   "metadata": {},
   "outputs": [],
   "source": []
  },
  {
   "cell_type": "code",
   "execution_count": 16,
   "metadata": {},
   "outputs": [],
   "source": []
  },
  {
   "cell_type": "code",
   "execution_count": null,
   "metadata": {},
   "outputs": [],
   "source": []
  },
  {
   "cell_type": "code",
   "execution_count": null,
   "metadata": {},
   "outputs": [],
   "source": []
  },
  {
   "cell_type": "code",
   "execution_count": null,
   "metadata": {},
   "outputs": [],
   "source": []
  },
  {
   "cell_type": "code",
   "execution_count": 114,
   "metadata": {},
   "outputs": [],
   "source": []
  },
  {
   "cell_type": "code",
   "execution_count": null,
   "metadata": {},
   "outputs": [],
   "source": []
  },
  {
   "cell_type": "code",
   "execution_count": null,
   "metadata": {},
   "outputs": [],
   "source": []
  },
  {
   "cell_type": "code",
   "execution_count": null,
   "metadata": {},
   "outputs": [],
   "source": []
  },
  {
   "cell_type": "code",
   "execution_count": null,
   "metadata": {},
   "outputs": [],
   "source": []
  },
  {
   "cell_type": "code",
   "execution_count": null,
   "metadata": {},
   "outputs": [],
   "source": []
  },
  {
   "cell_type": "code",
   "execution_count": null,
   "metadata": {},
   "outputs": [],
   "source": []
  },
  {
   "cell_type": "code",
   "execution_count": null,
   "metadata": {},
   "outputs": [],
   "source": []
  },
  {
   "cell_type": "code",
   "execution_count": null,
   "metadata": {},
   "outputs": [],
   "source": []
  },
  {
   "cell_type": "code",
   "execution_count": null,
   "metadata": {},
   "outputs": [],
   "source": []
  },
  {
   "cell_type": "code",
   "execution_count": null,
   "metadata": {},
   "outputs": [],
   "source": []
  },
  {
   "cell_type": "code",
   "execution_count": null,
   "metadata": {},
   "outputs": [],
   "source": []
  },
  {
   "cell_type": "code",
   "execution_count": null,
   "metadata": {},
   "outputs": [],
   "source": []
  },
  {
   "cell_type": "code",
   "execution_count": null,
   "metadata": {},
   "outputs": [],
   "source": []
  },
  {
   "cell_type": "code",
   "execution_count": null,
   "metadata": {},
   "outputs": [],
   "source": []
  },
  {
   "cell_type": "code",
   "execution_count": null,
   "metadata": {},
   "outputs": [],
   "source": []
  },
  {
   "cell_type": "code",
   "execution_count": null,
   "metadata": {},
   "outputs": [],
   "source": []
  },
  {
   "cell_type": "code",
   "execution_count": null,
   "metadata": {},
   "outputs": [],
   "source": []
  },
  {
   "cell_type": "code",
   "execution_count": null,
   "metadata": {},
   "outputs": [],
   "source": []
  },
  {
   "cell_type": "code",
   "execution_count": null,
   "metadata": {},
   "outputs": [],
   "source": []
  },
  {
   "cell_type": "code",
   "execution_count": null,
   "metadata": {},
   "outputs": [],
   "source": []
  },
  {
   "cell_type": "code",
   "execution_count": null,
   "metadata": {},
   "outputs": [],
   "source": []
  },
  {
   "cell_type": "code",
   "execution_count": null,
   "metadata": {},
   "outputs": [],
   "source": []
  },
  {
   "cell_type": "code",
   "execution_count": null,
   "metadata": {},
   "outputs": [],
   "source": []
  },
  {
   "cell_type": "code",
   "execution_count": null,
   "metadata": {},
   "outputs": [],
   "source": []
  },
  {
   "cell_type": "code",
   "execution_count": null,
   "metadata": {},
   "outputs": [],
   "source": []
  },
  {
   "cell_type": "code",
   "execution_count": null,
   "metadata": {},
   "outputs": [],
   "source": []
  },
  {
   "cell_type": "code",
   "execution_count": null,
   "metadata": {},
   "outputs": [],
   "source": []
  },
  {
   "cell_type": "code",
   "execution_count": null,
   "metadata": {},
   "outputs": [],
   "source": []
  },
  {
   "cell_type": "code",
   "execution_count": 13,
   "metadata": {},
   "outputs": [
    {
     "name": "stdout",
     "output_type": "stream",
     "text": [
      "/Users/krdav/Google Drive/MCB/Sullivan_lab/tRNA-charge-seq/projects/tRNAseq_third-gen\n"
     ]
    }
   ],
   "source": [
    "%%bash\n",
    "pwd"
   ]
  },
  {
   "cell_type": "code",
   "execution_count": 15,
   "metadata": {},
   "outputs": [
    {
     "name": "stdout",
     "output_type": "stream",
     "text": [
      "AdapterRemoval\n",
      "BC_split\n",
      "SWalign\n",
      "UMI_trimmed\n",
      "raw_fastq\n",
      "raw_fastq_DSA-10k\n",
      "stats_collection\n",
      "stats_filtered_CC-CCA-aggregate.csv\n",
      "stats_strict_filtered_CC-CCA-aggregate.csv\n"
     ]
    }
   ],
   "source": [
    "%%bash\n",
    "ls data"
   ]
  },
  {
   "cell_type": "code",
   "execution_count": null,
   "metadata": {},
   "outputs": [],
   "source": []
  },
  {
   "cell_type": "code",
   "execution_count": 16,
   "metadata": {},
   "outputs": [],
   "source": [
    "agg_df = pd.read_csv('/Users/krdav/Google Drive/MCB/Sullivan_lab/tRNA-charge-seq/projects/tRNAseq_third-gen/data/stats_filtered_CC-CCA-aggregate.csv')"
   ]
  },
  {
   "cell_type": "code",
   "execution_count": 17,
   "metadata": {},
   "outputs": [
    {
     "ename": "NameError",
     "evalue": "name 'df_reads' is not defined",
     "output_type": "error",
     "traceback": [
      "\u001b[0;31m---------------------------------------------------------------------------\u001b[0m",
      "\u001b[0;31mNameError\u001b[0m                                 Traceback (most recent call last)",
      "\u001b[0;32m<ipython-input-17-3c7738e25894>\u001b[0m in \u001b[0;36m<module>\u001b[0;34m\u001b[0m\n\u001b[1;32m     54\u001b[0m \u001b[0;34m\u001b[0m\u001b[0m\n\u001b[1;32m     55\u001b[0m \u001b[0;31m# Mb memory:\u001b[0m\u001b[0;34m\u001b[0m\u001b[0;34m\u001b[0m\u001b[0;34m\u001b[0m\u001b[0m\n\u001b[0;32m---> 56\u001b[0;31m \u001b[0mdf_reads\u001b[0m\u001b[0;34m.\u001b[0m\u001b[0mmemory_usage\u001b[0m\u001b[0;34m(\u001b[0m\u001b[0;34m)\u001b[0m\u001b[0;34m.\u001b[0m\u001b[0msum\u001b[0m\u001b[0;34m(\u001b[0m\u001b[0;34m)\u001b[0m\u001b[0;34m/\u001b[0m\u001b[0;36m1e6\u001b[0m\u001b[0;34m\u001b[0m\u001b[0;34m\u001b[0m\u001b[0m\n\u001b[0m",
      "\u001b[0;31mNameError\u001b[0m: name 'df_reads' is not defined"
     ]
    }
   ],
   "source": [
    "# Extract a dataframe for charge data:\n",
    "dfcol = agg_df.columns.values\n",
    "col_mask = (dfcol != 'align_3p_nt') & (dfcol != 'count')\n",
    "cols_sele = dfcol[col_mask]\n",
    "df_charge = pd.DataFrame(columns=cols_sele)\n",
    "df_charge['charge'] = []\n",
    "df_charge['Ncharge'] = []\n",
    "\n",
    "\n",
    "# Count A/C endings:\n",
    "df_dict = dict()\n",
    "for row in agg_df.iterrows():\n",
    "    key = tuple(row[1].loc[cols_sele])\n",
    "    if key in df_dict:\n",
    "        df_dict[key][row[1]['align_3p_nt']] = row[1]['count']\n",
    "    else:\n",
    "        df_dict[key] = dict()\n",
    "        df_dict[key][row[1]['align_3p_nt']] = row[1]['count']\n",
    "# Add 0 count if count is missing,\n",
    "# then calculate the charge percentage:\n",
    "for key in df_dict.keys():\n",
    "    if 'A' not in df_dict[key]:\n",
    "        df_dict[key]['A'] = 0\n",
    "    if 'C' not in df_dict[key]:\n",
    "        df_dict[key]['C'] = 0\n",
    "\n",
    "    df_dict[key]['charge'] = df_dict[key]['A'] / (df_dict[key]['A'] + df_dict[key]['C']) * 100\n",
    "    df_dict[key]['Ncharge'] = (df_dict[key]['A'] + df_dict[key]['C'])\n",
    "\n",
    "# Use a tmp file to write charge\n",
    "# and total counts for the row (Ncharge),\n",
    "# then load into dataframe:\n",
    "try:\n",
    "    os.remove('tmp_df.csv')\n",
    "except:\n",
    "    pass\n",
    "with open('tmp_df.csv', 'a') as fh_csv:\n",
    "    df_charge.to_csv(fh_csv, header=True, index=False)\n",
    "    for i, key in enumerate(df_dict.keys()):\n",
    "        row = list(key)\n",
    "        row.append(df_dict[key]['charge'])\n",
    "        row.append(df_dict[key]['Ncharge'])\n",
    "        # df_charge.loc[i] = row # Too slow\n",
    "        print(','.join(map(str, row)), file=fh_csv)\n",
    "df_charge = pd.read_csv('tmp_df.csv')\n",
    "os.remove('tmp_df.csv')\n",
    "\n",
    "# Add RPM:\n",
    "for nam in set(df_charge['sample_name'].values):\n",
    "    rowm = df_charge['sample_name'] == nam\n",
    "    df_charge.loc[rowm, 'RPM'] = df_charge.loc[rowm, 'Ncharge'].values / (df_charge.loc[rowm, 'Ncharge'].sum()/1e6)\n",
    "df_charge['logRPM'] = np.log10(df_charge['RPM'].values)\n",
    "\n",
    "# Melt:\n",
    "df_charge_melt = pd.melt(df_charge, id_vars=['sample_name'], value_vars=['charge', 'Ncharge', 'RPM', 'amino_acid', 'tRNA_annotation'])\n"
   ]
  },
  {
   "cell_type": "code",
   "execution_count": 19,
   "metadata": {},
   "outputs": [],
   "source": [
    "def plot_sample_vs_sample(SN1_ls, SN2_ls, df_charge, df_charge_melt, var='charge', amino_acid='all', transcript='all', min_obs=50, xyrange='percentile'):\n",
    "    '''\n",
    "    var = [charge, RPM]\n",
    "    charge = CCA/(CCA+CC)\n",
    "    RPM = reads per million i.e. how many reads of a given transcript annotation observed per million reads\n",
    "    '''\n",
    "\n",
    "    var1 = '{}_1'.format(var)\n",
    "    var2 = '{}_2'.format(var)\n",
    "    \n",
    "    fig, axes = plt.subplots(ncols=len(SN1_ls), figsize=(6.5*len(SN1_ls), 5))\n",
    "    try:\n",
    "        len(axes)\n",
    "    except:\n",
    "        axes = [axes]\n",
    "\n",
    "    ax_i = 0\n",
    "    for SN1, SN2 in zip(SN1_ls, SN2_ls):\n",
    "        mask1 = np.array([False]*len(df_charge))\n",
    "        for SN1_i in SN1.split('+'):\n",
    "            mask1 = mask1 | (df_charge['sample_name'] == SN1_i)\n",
    "        #mask1 = (df_charge['sample_name'] == SN1)\n",
    "\n",
    "        mask2 = np.array([False]*len(df_charge))\n",
    "        for SN2_i in SN2.split('+'):\n",
    "            mask2 = mask2 | (df_charge['sample_name'] == SN2_i)\n",
    "        #mask2 = (df_charge['sample_name'] == SN2)\n",
    "\n",
    "        m12 = pd.merge(\n",
    "            df_charge[mask1],\n",
    "            df_charge[mask2],\n",
    "            how=\"inner\",\n",
    "            on='tRNA_annotation',\n",
    "            left_index=False,\n",
    "            right_index=False,\n",
    "            sort=True,\n",
    "            suffixes=(\"_1\", \"_2\"),\n",
    "            copy=True,\n",
    "            indicator=False,\n",
    "            validate=None,\n",
    "        )\n",
    "\n",
    "\n",
    "        min_mask = (m12['Ncharge_1'] > min_obs) & (m12['Ncharge_2'] > min_obs)\n",
    "        x_vals = m12[min_mask][var1].values\n",
    "        y_vals = m12[min_mask][var2].values\n",
    "        xy_vals = np.array([x_vals, y_vals])\n",
    "        # xy_min = 0\n",
    "        # xy_max = max(xy_vals)\n",
    "        if xyrange == 'percentile':\n",
    "            xy_min = np.percentile(xy_vals, 3)\n",
    "            xy_max = np.percentile(xy_vals, 97)\n",
    "        else:\n",
    "            xy_min, xy_max = xyrange\n",
    "            \n",
    "        \n",
    "\n",
    "        g1 = sns.regplot(ax=axes[ax_i], data=m12[min_mask], x=var1, y=var2)\n",
    "        if var == 'charge':\n",
    "            g1.set_xlabel('% charge (sample={})'.format(SN1))\n",
    "            g1.set_ylabel('% charge (sample={})'.format(SN2))\n",
    "            g1.set_title('Charge vs. charge (min obs = {})'.format(min_obs))\n",
    "            axes[ax_i].set(ylim=[xy_min, xy_max])\n",
    "            axes[ax_i].set(xlim=[xy_min, xy_max])\n",
    "            axes[ax_i].plot([xy_min, xy_max], [xy_min, xy_max], c='r')\n",
    "        elif var == 'RPM':\n",
    "            g1.set_xlabel('RPM (sample={})'.format(SN1))\n",
    "            g1.set_ylabel('RPM (sample={})'.format(SN2))\n",
    "            g1.set_title('RPM vs. RPM (min obs = {})'.format(min_obs))\n",
    "            axes[ax_i].plot([xy_min, xy_max], [xy_min, xy_max], c='r')\n",
    "        elif var == 'logRPM':\n",
    "            g1.set_xlabel('log(RPM) (sample={})'.format(SN1))\n",
    "            g1.set_ylabel('log(RPM) (sample={})'.format(SN2))\n",
    "            g1.set_title('RPM vs. RPM (min obs = {})'.format(min_obs))\n",
    "            axes[ax_i].plot([xy_min, xy_max], [xy_min, xy_max], c='r')\n",
    "        ax_i += 1\n",
    "        \n"
   ]
  },
  {
   "cell_type": "code",
   "execution_count": null,
   "metadata": {},
   "outputs": [],
   "source": []
  },
  {
   "cell_type": "code",
   "execution_count": 22,
   "metadata": {},
   "outputs": [
    {
     "data": {
      "text/html": [
       "<div>\n",
       "<style scoped>\n",
       "    .dataframe tbody tr th:only-of-type {\n",
       "        vertical-align: middle;\n",
       "    }\n",
       "\n",
       "    .dataframe tbody tr th {\n",
       "        vertical-align: top;\n",
       "    }\n",
       "\n",
       "    .dataframe thead th {\n",
       "        text-align: right;\n",
       "    }\n",
       "</style>\n",
       "<table border=\"1\" class=\"dataframe\">\n",
       "  <thead>\n",
       "    <tr style=\"text-align: right;\">\n",
       "      <th></th>\n",
       "      <th>sample_name</th>\n",
       "      <th>replicate</th>\n",
       "      <th>barcode</th>\n",
       "      <th>tRNA_annotation</th>\n",
       "      <th>tRNA_annotation_len</th>\n",
       "      <th>unique_annotation</th>\n",
       "      <th>codon</th>\n",
       "      <th>anticodon</th>\n",
       "      <th>amino_acid</th>\n",
       "      <th>charge</th>\n",
       "      <th>Ncharge</th>\n",
       "      <th>RPM</th>\n",
       "      <th>logRPM</th>\n",
       "    </tr>\n",
       "  </thead>\n",
       "  <tbody>\n",
       "    <tr>\n",
       "      <th>0</th>\n",
       "      <td>0m</td>\n",
       "      <td>3</td>\n",
       "      <td>l3Sp</td>\n",
       "      <td>Escherichia_coli_str_K_12_substr_MG1655_tRNA-e...</td>\n",
       "      <td>76</td>\n",
       "      <td>True</td>\n",
       "      <td>AAA</td>\n",
       "      <td>TTT</td>\n",
       "      <td>eColiLys</td>\n",
       "      <td>0.601323</td>\n",
       "      <td>1663</td>\n",
       "      <td>119.456917</td>\n",
       "      <td>2.077211</td>\n",
       "    </tr>\n",
       "  </tbody>\n",
       "</table>\n",
       "</div>"
      ],
      "text/plain": [
       "  sample_name  replicate barcode  \\\n",
       "0          0m          3    l3Sp   \n",
       "\n",
       "                                     tRNA_annotation  tRNA_annotation_len  \\\n",
       "0  Escherichia_coli_str_K_12_substr_MG1655_tRNA-e...                   76   \n",
       "\n",
       "   unique_annotation codon anticodon amino_acid    charge  Ncharge  \\\n",
       "0               True   AAA       TTT   eColiLys  0.601323     1663   \n",
       "\n",
       "          RPM    logRPM  \n",
       "0  119.456917  2.077211  "
      ]
     },
     "execution_count": 22,
     "metadata": {},
     "output_type": "execute_result"
    }
   ],
   "source": [
    "df_charge.head(1)"
   ]
  },
  {
   "cell_type": "code",
   "execution_count": 21,
   "metadata": {},
   "outputs": [
    {
     "data": {
      "text/plain": [
       "{'0m',\n",
       " '0p',\n",
       " '0p_90m',\n",
       " '100p',\n",
       " '10p',\n",
       " '16h',\n",
       " '16m',\n",
       " '1h',\n",
       " '25p',\n",
       " '2h',\n",
       " '32m',\n",
       " '40h',\n",
       " '40h_NoOx',\n",
       " '40p',\n",
       " '4h',\n",
       " '4m',\n",
       " '55p',\n",
       " '70p',\n",
       " '85p',\n",
       " '8h',\n",
       " '8m',\n",
       " 'L1',\n",
       " 'L10',\n",
       " 'L11',\n",
       " 'L12',\n",
       " 'L2',\n",
       " 'L3',\n",
       " 'L4',\n",
       " 'L5',\n",
       " 'L6',\n",
       " 'L7',\n",
       " 'L8',\n",
       " 'L9',\n",
       " 'R1',\n",
       " 'R10',\n",
       " 'R11',\n",
       " 'R12',\n",
       " 'R2',\n",
       " 'R3',\n",
       " 'R4',\n",
       " 'R5',\n",
       " 'R6',\n",
       " 'R7',\n",
       " 'R8',\n",
       " 'R9'}"
      ]
     },
     "execution_count": 21,
     "metadata": {},
     "output_type": "execute_result"
    }
   ],
   "source": [
    "set(df_charge['sample_name'])"
   ]
  },
  {
   "cell_type": "code",
   "execution_count": null,
   "metadata": {},
   "outputs": [],
   "source": []
  },
  {
   "cell_type": "code",
   "execution_count": 30,
   "metadata": {},
   "outputs": [
    {
     "data": {
      "image/png": "[encoded data removed]",
      "text/plain": [
       "<Figure size 468x360 with 1 Axes>"
      ]
     },
     "metadata": {
      "needs_background": "light"
     },
     "output_type": "display_data"
    }
   ],
   "source": [
    "for i in [1000]:\n",
    "    plot_sample_vs_sample(['0p'], ['0p_90m'], df_charge, df_charge_melt, min_obs=i, xyrange=(-1, 12))"
   ]
  },
  {
   "cell_type": "code",
   "execution_count": null,
   "metadata": {},
   "outputs": [],
   "source": []
  },
  {
   "cell_type": "code",
   "execution_count": 34,
   "metadata": {},
   "outputs": [
    {
     "data": {
      "image/png": "[encoded data removed]",
      "text/plain": [
       "<Figure size 468x360 with 1 Axes>"
      ]
     },
     "metadata": {
      "needs_background": "light"
     },
     "output_type": "display_data"
    }
   ],
   "source": [
    "plot_sample_vs_sample(['0p'], ['0p_90m'], df_charge, df_charge_melt, min_obs=1000, var='logRPM')"
   ]
  },
  {
   "cell_type": "code",
   "execution_count": null,
   "metadata": {},
   "outputs": [],
   "source": []
  },
  {
   "cell_type": "code",
   "execution_count": null,
   "metadata": {},
   "outputs": [],
   "source": []
  },
  {
   "cell_type": "code",
   "execution_count": null,
   "metadata": {},
   "outputs": [],
   "source": []
  },
  {
   "cell_type": "code",
   "execution_count": null,
   "metadata": {},
   "outputs": [],
   "source": []
  },
  {
   "cell_type": "code",
   "execution_count": null,
   "metadata": {},
   "outputs": [],
   "source": []
  },
  {
   "cell_type": "code",
   "execution_count": null,
   "metadata": {},
   "outputs": [],
   "source": []
  },
  {
   "cell_type": "code",
   "execution_count": null,
   "metadata": {},
   "outputs": [],
   "source": []
  },
  {
   "cell_type": "code",
   "execution_count": null,
   "metadata": {},
   "outputs": [],
   "source": []
  },
  {
   "cell_type": "code",
   "execution_count": 40,
   "metadata": {},
   "outputs": [],
   "source": [
    "sample_list_fnam = 'sample_list.xlsx'\n",
    "sample_df = pd.read_excel('{}/{}'.format(NBdir, sample_list_fnam))\n",
    "# Add barcode sequences:\n",
    "sample_df = index_to_sample_df(sample_df, index_df)\n",
    "\n",
    "df_charge = df_charge.merge(sample_df.loc[:, ['sample_name', 'replicate', 'barcode', 'plot_group', 'hue_name', 'hue_value', 'hue_order']], on=['sample_name', 'replicate'])"
   ]
  },
  {
   "cell_type": "code",
   "execution_count": 48,
   "metadata": {},
   "outputs": [],
   "source": [
    "df_charge['mito_codon'] = ['mito_tRNA' in anno for anno in df_charge['tRNA_annotation'].values]\n",
    "df_charge['human_codon'] = ['Homo_sapiens' in anno for anno in df_charge['tRNA_annotation'].values]\n",
    "df_charge['AA_codon'] = [AA + '-' + codon for codon, AA in zip(df_charge['codon'].values, df_charge['amino_acid'].values)]\n",
    "\n",
    "# Create single codon filter, to filter out sequences that map to\n",
    "# tRNA sequences with different codon/anticodon:\n",
    "single_codon = list()\n",
    "for anno_str, anticodon in zip(df_charge['tRNA_annotation'].values, df_charge['anticodon'].values):\n",
    "    sc = True\n",
    "    anno_list = anno_str.split('@')\n",
    "    for anno in anno_list:\n",
    "        if not anno.split('-')[2] == anticodon:\n",
    "            sc = False\n",
    "    single_codon.append(sc)\n",
    "df_charge['single_codon'] = single_codon"
   ]
  },
  {
   "cell_type": "code",
   "execution_count": 49,
   "metadata": {},
   "outputs": [
    {
     "data": {
      "text/plain": [
       "{'Acylation-half-life', 'Charge-titration', 'NoArg', 'NoLeu'}"
      ]
     },
     "execution_count": 49,
     "metadata": {},
     "output_type": "execute_result"
    }
   ],
   "source": [
    "set(df_charge['plot_group'].values)"
   ]
  },
  {
   "cell_type": "code",
   "execution_count": null,
   "metadata": {},
   "outputs": [],
   "source": []
  },
  {
   "cell_type": "code",
   "execution_count": 55,
   "metadata": {},
   "outputs": [
    {
     "data": {
      "text/plain": [
       "<Figure size 8064x648 with 0 Axes>"
      ]
     },
     "metadata": {},
     "output_type": "display_data"
    },
    {
     "data": {
      "text/plain": [
       "<Figure size 8064x648 with 0 Axes>"
      ]
     },
     "metadata": {},
     "output_type": "display_data"
    },
    {
     "data": {
      "text/plain": [
       "<Figure size 8064x648 with 0 Axes>"
      ]
     },
     "metadata": {},
     "output_type": "display_data"
    },
    {
     "data": {
      "text/plain": [
       "<Figure size 6048x648 with 0 Axes>"
      ]
     },
     "metadata": {},
     "output_type": "display_data"
    }
   ],
   "source": [
    "# No normalization\n",
    "\n",
    "plot_groups = set(df_charge['plot_group'].values)\n",
    "for plot_group in plot_groups:\n",
    "    Ngrp = len(set(df_charge[(df_charge['plot_group'] == plot_group)]['hue_order'].values))\n",
    "\n",
    "    fig = plt.figure(figsize=(28/3*Ngrp, 9))\n",
    "    gs = fig.add_gridspec(2, 4)\n",
    "    ax1 = fig.add_subplot(gs[0, :])\n",
    "    ax2 = fig.add_subplot(gs[1, 1:3])\n",
    "\n",
    "    # Cyto tRNAs\n",
    "    #mask = (df_charge['plot_group'] == plot_group) & (df_charge['human_codon']) & (~df_charge['mito_codon']) & (df_charge['Ncharge'] > 100) & (df_charge['single_codon'])\n",
    "    mask = (df_charge['plot_group'] == plot_group) & (~df_charge['mito_codon']) & (df_charge['Ncharge'] > 500) & (df_charge['single_codon']) & (df_charge['unique_annotation'])\n",
    "    if sum(mask) == 0:\n",
    "        continue\n",
    "    hue_order = [t[0] for t in sorted(dict(zip(df_charge[mask]['hue_value'].values, df_charge[mask]['hue_order'].values)).items(), key=lambda x: x[1])]\n",
    "    \n",
    "    codon_list = sorted(set(df_charge['AA_codon'][mask].values), key=str.casefold)\n",
    "    g1 = sns.barplot(ax=ax1, x='AA_codon', y='charge', order=codon_list, hue='hue_value', hue_order=hue_order, data=df_charge[mask], capsize=.1, errwidth=2, edgecolor='black', linewidth=2, alpha=0.7)\n",
    "    g1.set_title('Cytoplasmic tRNA')\n",
    "    g1.grid(True, axis='y')\n",
    "    g1.set_ylabel('Charge (%)');\n",
    "    g1.set_xlabel('');\n",
    "    g1.set_xticklabels(g1.get_xticklabels(), rotation=90)\n",
    "    old_legend = g1.legend_\n",
    "    handles = old_legend.legendHandles\n",
    "    labels = hue_order\n",
    "    title = df_charge[mask]['hue_name'].values[0]\n",
    "    g1.legend(handles, labels, title=title, bbox_to_anchor=(1.01,1), borderaxespad=0)\n",
    " \n",
    "    # mito tRNAs\n",
    "    # mask = (df_charge['plot_group'] == plot_group) & (df_charge['human_codon']) & (df_charge['mito_codon']) & (df_charge['Ncharge'] > 50) & (df_charge['single_codon'])\n",
    "    mask = (df_charge['plot_group'] ==  plot_group) & (df_charge['mito_codon']) & (df_charge['Ncharge'] > 500) & (df_charge['single_codon']) & (df_charge['unique_annotation'])\n",
    "    if sum(mask) == 0:\n",
    "        continue\n",
    "    codon_list = sorted(set(df_charge['AA_codon'][mask].values), key=str.casefold)\n",
    "    g2 = sns.barplot(ax=ax2, x='AA_codon', y='charge', order=codon_list, hue='hue_value', hue_order=hue_order, data=df_charge[mask], capsize=.1, errwidth=2, edgecolor='black', linewidth=2, alpha=0.7)\n",
    "    g2.set_title('Mitochondrial tRNA')\n",
    "    g2.grid(True, axis='y')\n",
    "    g2.set_ylabel('Charge (%)');\n",
    "    g2.set_xlabel('');\n",
    "    g2.set_xticklabels(g2.get_xticklabels(), rotation=90)\n",
    "    g2.legend_.remove()\n",
    "\n",
    "    plt.tight_layout()\n",
    "    fig.savefig('{}.pdf'.format(plot_group))\n",
    "    fig.clear()\n",
    "    g1.clear()\n",
    "    g2.clear()\n"
   ]
  },
  {
   "cell_type": "code",
   "execution_count": null,
   "metadata": {},
   "outputs": [],
   "source": []
  },
  {
   "cell_type": "code",
   "execution_count": null,
   "metadata": {},
   "outputs": [],
   "source": []
  },
  {
   "cell_type": "code",
   "execution_count": null,
   "metadata": {},
   "outputs": [],
   "source": []
  },
  {
   "cell_type": "code",
   "execution_count": null,
   "metadata": {},
   "outputs": [],
   "source": []
  },
  {
   "cell_type": "code",
   "execution_count": null,
   "metadata": {},
   "outputs": [],
   "source": []
  },
  {
   "cell_type": "code",
   "execution_count": null,
   "metadata": {},
   "outputs": [],
   "source": []
  },
  {
   "cell_type": "code",
   "execution_count": null,
   "metadata": {},
   "outputs": [],
   "source": []
  }
 ],
 "metadata": {
  "kernelspec": {
   "display_name": "Python 3",
   "language": "python",
   "name": "python3"
  },
  "language_info": {
   "codemirror_mode": {
    "name": "ipython",
    "version": 3
   },
   "file_extension": ".py",
   "mimetype": "text/x-python",
   "name": "python",
   "nbconvert_exporter": "python",
   "pygments_lexer": "ipython3",
   "version": "3.8.5"
  }
 },
 "nbformat": 4,
 "nbformat_minor": 4
}
