{
 "cells": [
  {
   "cell_type": "code",
   "execution_count": 10,
   "metadata": {},
   "outputs": [
    {
     "name": "stdout",
     "output_type": "stream",
     "text": [
      "workbookDir: /Users/krdav/Google Drive/MCB/Sullivan_lab/tRNA-charge-seq/projects/tRNAseq_lib1/plots/manual_plots\n"
     ]
    }
   ],
   "source": [
    "import pandas as pd\n",
    "import sys, os, subprocess, shutil, glob, bz2, csv\n",
    "from Bio import SeqIO\n",
    "import numpy as np\n",
    "import json\n",
    "\n",
    "import logomaker\n",
    "import numpy as np\n",
    "import seaborn as sns\n",
    "import matplotlib.pyplot as plt\n",
    "import matplotlib.backends.backend_pdf\n",
    "import matplotlib.colors as mcolors\n",
    "import matplotlib.ticker as ticker\n",
    "import matplotlib.gridspec as gridspec\n",
    "palette = list(mcolors.TABLEAU_COLORS.keys())\n",
    "%matplotlib inline\n",
    "#sns.set_theme(style=\"ticks\", palette=\"pastel\")\n",
    "sns.set_theme(style=\"ticks\", palette=\"muted\")\n",
    "sns.set_context(\"talk\")\n",
    "\n",
    "# Navigate back to workbookDir in case of re-running a code block:\n",
    "if not 'workbookDir' in globals():\n",
    "    workbookDir = os.getcwd()\n",
    "print('workbookDir: ' + workbookDir)\n",
    "os.chdir(workbookDir)  # If you changed the current working dir, this will take you back to the workbook dir."
   ]
  },
  {
   "cell_type": "markdown",
   "metadata": {},
   "source": [
    "### Requirements\n",
    "1. gfsa\n",
    "2. hgrewsa"
   ]
  },
  {
   "cell_type": "code",
   "execution_count": 11,
   "metadata": {},
   "outputs": [],
   "source": [
    "def freq2ratio(freq):\n",
    "    return(freq / (1 - freq))\n",
    "\n",
    "def ratio2freq(ratio):\n",
    "    return(ratio / (ratio + 1))"
   ]
  },
  {
   "cell_type": "code",
   "execution_count": null,
   "metadata": {},
   "outputs": [],
   "source": []
  },
  {
   "cell_type": "code",
   "execution_count": null,
   "metadata": {},
   "outputs": [],
   "source": []
  },
  {
   "cell_type": "code",
   "execution_count": 12,
   "metadata": {},
   "outputs": [],
   "source": [
    "# Folders/files:\n",
    "data_folder = '../../../../data/tRNAseq_lib1'\n",
    "project_folder = '../../../../projects/tRNAseq_lib1'\n",
    "\n",
    "plots_data_dir = 'plotting'\n",
    "data_dir = 'stats_collection'\n",
    "SWalign_dir = 'SWalign'\n",
    "sample_list = 'sample_list.xlsx'\n",
    "alignment_stats = 'alignment_stats.xlsx'\n",
    "agg_csv_fnam = 'stats_filtered_CC-CCA-aggregate.csv'"
   ]
  },
  {
   "cell_type": "code",
   "execution_count": 13,
   "metadata": {},
   "outputs": [],
   "source": [
    "### Read sample information ###\n",
    "sample_df = pd.read_excel(sample_list)"
   ]
  },
  {
   "cell_type": "code",
   "execution_count": 14,
   "metadata": {},
   "outputs": [],
   "source": [
    "### Read alignment stats ###\n",
    "align_stat_df = pd.read_excel(data_folder + '/' + SWalign_dir + '/' + alignment_stats)"
   ]
  },
  {
   "cell_type": "code",
   "execution_count": null,
   "metadata": {},
   "outputs": [],
   "source": []
  },
  {
   "cell_type": "code",
   "execution_count": null,
   "metadata": {},
   "outputs": [],
   "source": []
  },
  {
   "cell_type": "code",
   "execution_count": null,
   "metadata": {},
   "outputs": [],
   "source": []
  },
  {
   "cell_type": "code",
   "execution_count": null,
   "metadata": {},
   "outputs": [],
   "source": []
  },
  {
   "cell_type": "code",
   "execution_count": 15,
   "metadata": {},
   "outputs": [],
   "source": [
    "### Prepare charge dataframe ###\n",
    "\n",
    "# Skip header lines, if restarted:\n",
    "with open(data_folder + '/' + data_dir + '/' + agg_csv_fnam, 'r') as fh:\n",
    "    skip_list = list()\n",
    "    for idx, l in enumerate(fh):\n",
    "        if 'sample_name,replicate,barcode,tRNA_annotation' in l:\n",
    "            skip_list.append(idx)\n",
    "skip_list.pop(0)\n",
    "# Load from csv:\n",
    "df = pd.read_csv(data_folder + '/' + data_dir + '/' + agg_csv_fnam, skiprows=skip_list)\n",
    "header_mask = (df['count'] != 'count')\n",
    "df = df[header_mask]\n",
    "#df['count'] = [int(v) for v in df['count'].values]\n",
    "df['mito_codon'] = ['mito_tRNA' in anno for anno in df['tRNA_annotation'].values]\n",
    "df['human_codon'] = ['Homo_sapiens' in anno for anno in df['tRNA_annotation'].values]\n",
    "df['AA_codon'] = [AA + '-' + codon for codon, AA in zip(df['codon'].values, df['amino_acid'].values)]\n",
    "# Add sample sheet information:\n",
    "df = df.merge(sample_df.loc[:, ['sample_name', 'barcode', 'sample_name_unique', 'plot_group', 'hue_name', 'hue_value', 'hue_order']], on=['sample_name', 'barcode'])\n",
    "# Create single codon filter, to filter out sequences that map to\n",
    "# tRNA sequences with different codon/anticodon:\n",
    "single_codon = list()\n",
    "for anno_str, anticodon in zip(df['tRNA_annotation'].values, df['anticodon'].values):\n",
    "    sc = True\n",
    "    anno_list = anno_str.split('@')\n",
    "    for anno in anno_list:\n",
    "        if not anno.split('-')[2] == anticodon:\n",
    "            sc = False\n",
    "    single_codon.append(sc)\n",
    "df['single_codon'] = single_codon\n",
    "\n",
    "# Extract a dataframe for charge data:\n",
    "dfcol = df.columns.values\n",
    "col_mask = (dfcol != 'align_3p_nt') & (dfcol != 'count')\n",
    "cols_sele = dfcol[col_mask]\n",
    "df_charge = pd.DataFrame(columns=cols_sele)\n",
    "df_charge['charge'] = []\n",
    "df_charge['Ncharge'] = []\n",
    "# Count A/C endings:\n",
    "df_dict = dict()\n",
    "for row in df.iterrows():\n",
    "    key = tuple(row[1].loc[cols_sele])\n",
    "    if key in df_dict:\n",
    "        df_dict[key][row[1]['align_3p_nt']] = row[1]['count']\n",
    "    else:\n",
    "        df_dict[key] = dict()\n",
    "        df_dict[key][row[1]['align_3p_nt']] = row[1]['count']\n",
    "# Add 0 count if count is missing,\n",
    "# then calculate the charge percentage:\n",
    "for key in df_dict.keys():\n",
    "    if 'A' not in df_dict[key]:\n",
    "        df_dict[key]['A'] = 0\n",
    "    if 'C' not in df_dict[key]:\n",
    "        df_dict[key]['C'] = 0\n",
    "    \n",
    "    df_dict[key]['charge'] = df_dict[key]['A'] / (df_dict[key]['A'] + df_dict[key]['C']) * 100\n",
    "    df_dict[key]['Ncharge'] = (df_dict[key]['A'] + df_dict[key]['C'])\n",
    "\n",
    "# Use a tmp file to write charge\n",
    "# and total counts for the row (Ncharge),\n",
    "# then load into dataframe:\n",
    "try:\n",
    "    os.remove('tmp_df.csv')\n",
    "except:\n",
    "    pass\n",
    "with open('tmp_df.csv', 'a') as fh_csv:\n",
    "    df_charge.to_csv(fh_csv, header=True, index=False)\n",
    "    for i, key in enumerate(df_dict.keys()):\n",
    "        row = list(key)\n",
    "        row.append(df_dict[key]['charge'])\n",
    "        row.append(df_dict[key]['Ncharge'])\n",
    "        # df_charge.loc[i] = row # Too slow\n",
    "        print(','.join(map(str, row)), file=fh_csv)\n",
    "df_charge = pd.read_csv('tmp_df.csv')\n",
    "os.remove('tmp_df.csv')\n",
    "\n",
    "# Generate a normalized charge by using the\n",
    "# E.coli Lys tRNA spike-in.\n",
    "# This is supposed to correct some of the barcode ligation bias\n",
    "# leading to more or less CC vs. CCA:\n",
    "barcodes = set(df_charge['barcode'].values)\n",
    "charge_norm = dict()\n",
    "for barcode in barcodes:\n",
    "    bar_mask = (df_charge['barcode'] == barcode)\n",
    "    eColi_mask = (df_charge['amino_acid'] == 'eColiLys')\n",
    "    eColi_charge = df_charge[bar_mask&eColi_mask]['charge'].values.mean()\n",
    "    charge_norm[barcode] = eColi_charge\n",
    "max_charge = max(charge_norm.values())\n",
    "for barcode in barcodes:\n",
    "    # Convert to a normalizer for ratio:\n",
    "    charge_norm[barcode] = freq2ratio(max_charge / 100) / freq2ratio(charge_norm[barcode] / 100)\n",
    "    # charge_norm[barcode] = (100 - max_charge) / (100 - charge_norm[barcode])\n",
    "df_charge['charge_norm'] = [0] * len(df_charge)\n",
    "for barcode in barcodes:\n",
    "    bar_mask = (df_charge['barcode'] == barcode)\n",
    "    ratio_sele = freq2ratio(df_charge.loc[bar_mask, 'charge'] / 100)\n",
    "    df_charge.loc[bar_mask, 'charge_norm'] = ratio2freq(ratio_sele * charge_norm[barcode]) * 100\n",
    "    # df_charge.loc[bar_mask, 'charge_norm'] = 100 - ((100 - df_charge.loc[bar_mask, 'charge']) * charge_norm[barcode])"
   ]
  },
  {
   "cell_type": "code",
   "execution_count": null,
   "metadata": {},
   "outputs": [],
   "source": []
  },
  {
   "cell_type": "code",
   "execution_count": null,
   "metadata": {},
   "outputs": [],
   "source": []
  },
  {
   "cell_type": "code",
   "execution_count": null,
   "metadata": {},
   "outputs": [],
   "source": []
  },
  {
   "cell_type": "code",
   "execution_count": null,
   "metadata": {},
   "outputs": [],
   "source": []
  },
  {
   "cell_type": "code",
   "execution_count": 16,
   "metadata": {},
   "outputs": [],
   "source": [
    "align_stat_df['sample_name_unique'] = [v[:-29] for v in align_stat_df['Filename'].values]"
   ]
  },
  {
   "cell_type": "code",
   "execution_count": 17,
   "metadata": {},
   "outputs": [],
   "source": [
    "df_charge = df_charge.merge(align_stat_df.loc[:, ['sample_name_unique', 'Mapping_percent']], on=['sample_name_unique'])"
   ]
  },
  {
   "cell_type": "code",
   "execution_count": null,
   "metadata": {},
   "outputs": [],
   "source": []
  },
  {
   "cell_type": "code",
   "execution_count": null,
   "metadata": {},
   "outputs": [],
   "source": []
  },
  {
   "cell_type": "code",
   "execution_count": null,
   "metadata": {},
   "outputs": [],
   "source": []
  },
  {
   "cell_type": "code",
   "execution_count": null,
   "metadata": {},
   "outputs": [],
   "source": []
  },
  {
   "cell_type": "code",
   "execution_count": null,
   "metadata": {},
   "outputs": [],
   "source": []
  },
  {
   "cell_type": "code",
   "execution_count": null,
   "metadata": {},
   "outputs": [],
   "source": []
  },
  {
   "cell_type": "code",
   "execution_count": null,
   "metadata": {},
   "outputs": [],
   "source": []
  },
  {
   "cell_type": "code",
   "execution_count": null,
   "metadata": {},
   "outputs": [],
   "source": []
  },
  {
   "cell_type": "code",
   "execution_count": null,
   "metadata": {},
   "outputs": [],
   "source": []
  },
  {
   "cell_type": "code",
   "execution_count": null,
   "metadata": {},
   "outputs": [],
   "source": []
  },
  {
   "cell_type": "code",
   "execution_count": null,
   "metadata": {},
   "outputs": [],
   "source": []
  },
  {
   "cell_type": "code",
   "execution_count": null,
   "metadata": {},
   "outputs": [],
   "source": []
  },
  {
   "cell_type": "code",
   "execution_count": null,
   "metadata": {},
   "outputs": [],
   "source": []
  },
  {
   "cell_type": "code",
   "execution_count": null,
   "metadata": {},
   "outputs": [],
   "source": []
  },
  {
   "cell_type": "code",
   "execution_count": null,
   "metadata": {},
   "outputs": [],
   "source": []
  },
  {
   "cell_type": "code",
   "execution_count": null,
   "metadata": {},
   "outputs": [],
   "source": []
  },
  {
   "cell_type": "code",
   "execution_count": 10,
   "metadata": {},
   "outputs": [
    {
     "data": {
      "image/png": "[encoded data removed]",
      "text/plain": [
       "<Figure size 756x324 with 2 Axes>"
      ]
     },
     "metadata": {},
     "output_type": "display_data"
    }
   ],
   "source": [
    "mask = (df_charge['sample_name'] == 'HAV') | (df_charge['sample_name'] == 'HVV') | (df_charge['sample_name'] == 'HR80V')\n",
    "df_masked = df_charge[mask]\n",
    "df_masked = df_masked.sort_values('Ncharge').drop_duplicates(['sample_name_unique', 'amino_acid', 'codon', 'mito_codon', 'replicate'], keep='last')\n",
    "\n",
    "\n",
    "Ngrp = 3\n",
    "y_axis = 'charge_norm'\n",
    "legend_labels = ['Vehicle', 'Antimycin', 'Rotenone']\n",
    "legend_title = 'Mito inhib.'\n",
    "alpha = 0.7\n",
    "\n",
    "\n",
    "fig = plt.figure(figsize=(3.5*Ngrp, 4.5))\n",
    "gs = gridspec.GridSpec(1,2)\n",
    "ax1 = fig.add_subplot(gs[0])\n",
    "ax2 = fig.add_subplot(gs[1], sharey=ax1)\n",
    "plt.setp(ax2.get_yticklabels(), visible=False)\n",
    "\n",
    "mask = (df_masked['Ncharge'] > 50) & (~df_masked['mito_codon']) & (df_masked['human_codon']) & ((df_masked['amino_acid'] == 'Asp') | (df_masked['amino_acid'] == 'Asn'))# & (df_masked['Mapping_percent'] > 80) \n",
    "hue_order = [t[0] for t in sorted(dict(zip(df_masked[mask]['hue_value'].values, df_masked[mask]['hue_order'].values)).items(), key=lambda x: x[1])]\n",
    "codon_list = sorted(set(df_masked['AA_codon'][mask].values), key=str.casefold)\n",
    "g1 = sns.barplot(ax=ax1, x='AA_codon', y=y_axis, order=codon_list, hue='hue_value', hue_order=hue_order, data=df_masked[mask], capsize=.1, errwidth=2, edgecolor='black', linewidth=2, alpha=alpha, ci=None)\n",
    "g1_ = sns.swarmplot(ax=ax1,x='AA_codon', y=y_axis, order=codon_list, hue='hue_value', hue_order=hue_order, data=df_masked[mask], dodge=True, edgecolor='black', linewidth=1)\n",
    "g1.set_title('Cytoplasmic tRNA')\n",
    "g1.grid(True, axis='y')\n",
    "g1.set_ylabel('Charge (%)');\n",
    "g1.set_xlabel('');\n",
    "g1.set_ylim(bottom=0, top=100);\n",
    "g1.set_xticklabels(g1.get_xticklabels(), rotation=0)\n",
    "g1.legend_.remove()\n",
    "\n",
    "# mito tRNAs\n",
    "mask = (df_masked['Ncharge'] > 50)  & (df_masked['mito_codon']) & (df_masked['human_codon']) & ((df_masked['amino_acid'] == 'Asp') | (df_masked['amino_acid'] == 'Asn'))# & (df_masked['Mapping_percent'] > 70) \n",
    "codon_list = sorted(set(df_masked['AA_codon'][mask].values), key=str.casefold)\n",
    "g2 = sns.barplot(ax=ax2, x='AA_codon', y=y_axis, order=codon_list, hue='hue_value', hue_order=hue_order, data=df_masked[mask], capsize=.1, errwidth=2, edgecolor='black', linewidth=2, alpha=alpha, ci=None)\n",
    "g2 = sns.swarmplot(ax=ax2, x='AA_codon', y=y_axis, order=codon_list, hue='hue_value', hue_order=hue_order, data=df_masked[mask], dodge=True, edgecolor='black', linewidth=1)\n",
    "g2.set_title('Mitochondrial tRNA')\n",
    "g2.grid(True, axis='y')\n",
    "g2.set_ylabel('');\n",
    "g2.set_xlabel('');\n",
    "g2.set_ylim(bottom=0, top=100);\n",
    "g2.set_xticklabels(g2.get_xticklabels(), rotation=0)\n",
    "old_legend = g2.legend_\n",
    "handles = old_legend.legendHandles\n",
    "#labels = hue_order\n",
    "#title = df_masked[mask]['hue_name'].values[0]\n",
    "for lh in handles:\n",
    "    lh.set_alpha(alpha)\n",
    "g2.legend(handles, legend_labels, title=legend_title, bbox_to_anchor=(1.01,1), borderaxespad=0)\n",
    "\n",
    "\n",
    "sns.despine()\n",
    "plt.tight_layout()\n",
    "fig.savefig('H1299_mito-inhib_Asp-Asn.pdf')\n",
    "#fig.clear()\n",
    "#g1.clear()\n",
    "#g2.clear()"
   ]
  },
  {
   "cell_type": "code",
   "execution_count": null,
   "metadata": {},
   "outputs": [],
   "source": []
  },
  {
   "cell_type": "code",
   "execution_count": null,
   "metadata": {},
   "outputs": [],
   "source": []
  },
  {
   "cell_type": "code",
   "execution_count": null,
   "metadata": {},
   "outputs": [],
   "source": []
  },
  {
   "cell_type": "code",
   "execution_count": null,
   "metadata": {},
   "outputs": [],
   "source": []
  },
  {
   "cell_type": "code",
   "execution_count": 22,
   "metadata": {},
   "outputs": [
    {
     "data": {
      "image/png": "[encoded data removed]",
      "text/plain": [
       "<Figure size 892.8x324 with 2 Axes>"
      ]
     },
     "metadata": {},
     "output_type": "display_data"
    }
   ],
   "source": [
    "mask = (df_charge['sample_name'] == 'HVV') | (df_charge['sample_name'] == 'HR20V') | (df_charge['sample_name'] == 'HR40V') | (df_charge['sample_name'] == 'HR80V')\n",
    "df_masked = df_charge[mask]\n",
    "df_masked = df_masked.sort_values('Ncharge').drop_duplicates(['sample_name_unique', 'amino_acid', 'codon', 'mito_codon', 'replicate'], keep='last')\n",
    "\n",
    "\n",
    "green_palette = sns.light_palette(sns.color_palette()[2])\n",
    "green_palette = [green_palette[1], green_palette[3], green_palette[4], green_palette[-1]]\n",
    "\n",
    "Ngrp = 4\n",
    "y_axis = 'charge_norm'\n",
    "alpha = 0.8\n",
    "legend_labels = ['0 nM', '20 nM', '40 nM', '80 nM']\n",
    "legend_title = 'Rotenone'\n",
    "\n",
    "fig = plt.figure(figsize=(3.1*Ngrp, 4.5))\n",
    "gs = gridspec.GridSpec(1,2)\n",
    "ax1 = fig.add_subplot(gs[0])\n",
    "ax2 = fig.add_subplot(gs[1], sharey=ax1)\n",
    "plt.setp(ax2.get_yticklabels(), visible=False)\n",
    "\n",
    "\n",
    "mask = (df_masked['Ncharge'] > 50) & (~df_masked['mito_codon']) & (df_masked['human_codon']) & ((df_masked['amino_acid'] == 'Asp') | (df_masked['amino_acid'] == 'Asn'))# & (df_masked['Mapping_percent'] > 80) \n",
    "hue_order = [t[0] for t in sorted(dict(zip(df_masked[mask]['hue_value'].values, df_masked[mask]['hue_order'].values)).items(), key=lambda x: x[1])]\n",
    "codon_list = sorted(set(df_masked['AA_codon'][mask].values), key=str.casefold)\n",
    "g1 = sns.barplot(ax=ax1, x='AA_codon', y=y_axis, order=codon_list, hue='hue_value', hue_order=hue_order, data=df_masked[mask], capsize=.1, errwidth=2, edgecolor='black', linewidth=2, alpha=alpha, ci=None, palette=green_palette)\n",
    "g1_ = sns.swarmplot(ax=ax1,x='AA_codon', y=y_axis, order=codon_list, hue='hue_value', hue_order=hue_order, data=df_masked[mask], dodge=True, edgecolor='black', linewidth=1, palette=green_palette)\n",
    "g1.set_title('Cytoplasmic tRNA')\n",
    "g1.grid(True, axis='y')\n",
    "g1.set_ylabel('Charge (%)');\n",
    "g1.set_xlabel('');\n",
    "g1.set_ylim(bottom=0, top=100);\n",
    "g1.set_xticklabels(g1.get_xticklabels(), rotation=0)\n",
    "g1.legend_.remove()\n",
    "\n",
    "# mito tRNAs\n",
    "mask = (df_masked['Ncharge'] > 50)  & (df_masked['mito_codon']) & (df_masked['human_codon']) & ((df_masked['amino_acid'] == 'Asp') | (df_masked['amino_acid'] == 'Asn'))# & (df_masked['Mapping_percent'] > 70) \n",
    "codon_list = sorted(set(df_masked['AA_codon'][mask].values), key=str.casefold)\n",
    "g2 = sns.barplot(ax=ax2, x='AA_codon', y=y_axis, order=codon_list, hue='hue_value', hue_order=hue_order, data=df_masked[mask], capsize=.1, errwidth=2, edgecolor='black', linewidth=2, alpha=alpha, ci=None, palette=green_palette)\n",
    "g2 = sns.swarmplot(ax=ax2, x='AA_codon', y=y_axis, order=codon_list, hue='hue_value', hue_order=hue_order, data=df_masked[mask], dodge=True, edgecolor='black', linewidth=1, palette=green_palette)\n",
    "g2.set_title('Mitochondrial tRNA')\n",
    "g2.grid(True, axis='y')\n",
    "g2.set_ylabel('');\n",
    "g2.set_xlabel('');\n",
    "g2.set_ylim(bottom=0, top=100);\n",
    "g2.set_xticklabels(g2.get_xticklabels(), rotation=0)\n",
    "old_legend = g2.legend_\n",
    "handles = old_legend.legendHandles\n",
    "labels = hue_order\n",
    "#title = df_masked[mask]['hue_name'].values[0]\n",
    "for lh in handles:\n",
    "    lh.set_alpha(alpha)\n",
    "g2.legend(handles, legend_labels, title=legend_title, bbox_to_anchor=(1.01,1), borderaxespad=0)\n",
    "\n",
    "\n",
    "sns.despine()\n",
    "plt.tight_layout()\n",
    "fig.savefig('H1299_rot-tit_Asp-Asn.pdf')\n",
    "#fig.clear()\n",
    "#g1.clear()\n",
    "#g2.clear()"
   ]
  },
  {
   "cell_type": "code",
   "execution_count": null,
   "metadata": {},
   "outputs": [],
   "source": []
  },
  {
   "cell_type": "code",
   "execution_count": null,
   "metadata": {},
   "outputs": [],
   "source": []
  },
  {
   "cell_type": "code",
   "execution_count": null,
   "metadata": {},
   "outputs": [],
   "source": []
  },
  {
   "cell_type": "code",
   "execution_count": null,
   "metadata": {},
   "outputs": [],
   "source": []
  },
  {
   "cell_type": "code",
   "execution_count": null,
   "metadata": {},
   "outputs": [],
   "source": []
  },
  {
   "cell_type": "code",
   "execution_count": 12,
   "metadata": {},
   "outputs": [
    {
     "data": {
      "image/png": "[encoded data removed]",
      "text/plain": [
       "<Figure size 806.4x324 with 2 Axes>"
      ]
     },
     "metadata": {},
     "output_type": "display_data"
    }
   ],
   "source": [
    "mask = (df_charge['sample_name'] == '0U') | (df_charge['sample_name'] == '2U') | (df_charge['sample_name'] == '4U') | (df_charge['sample_name'] == 'U') | (df_charge['sample_name'] == '8U')\n",
    "df_masked = df_charge[mask]\n",
    "df_masked = df_masked.sort_values('Ncharge').drop_duplicates(['sample_name_unique', 'amino_acid', 'codon', 'mito_codon', 'replicate'], keep='last')\n",
    "\n",
    "\n",
    "green_palette = sns.color_palette(\"light:b\")\n",
    "green_palette = [green_palette[1], green_palette[2], green_palette[3],  green_palette[4], green_palette[-1]]\n",
    "\n",
    "Ngrp = 4\n",
    "y_axis = 'charge'\n",
    "alpha = 0.8\n",
    "legend_labels = ['0 μM', '2 μM', '4 μM', '5 μM', '8 μM']\n",
    "legend_title = 'UCPH'\n",
    "\n",
    "fig = plt.figure(figsize=(2.8*Ngrp, 4.5))\n",
    "gs = gridspec.GridSpec(1,2)\n",
    "ax1 = fig.add_subplot(gs[0])\n",
    "ax2 = fig.add_subplot(gs[1], sharey=ax1)\n",
    "plt.setp(ax2.get_yticklabels(), visible=False)\n",
    "\n",
    "\n",
    "mask = (df_masked['Ncharge'] > 50) & (~df_masked['mito_codon']) & (df_masked['human_codon']) & ((df_masked['amino_acid'] == 'Asp') | (df_masked['amino_acid'] == 'Asn'))# & (df_masked['Mapping_percent'] > 80) \n",
    "hue_order = [t[0] for t in sorted(dict(zip(df_masked[mask]['hue_value'].values, df_masked[mask]['hue_order'].values)).items(), key=lambda x: x[1])]\n",
    "codon_list = sorted(set(df_masked['AA_codon'][mask].values), key=str.casefold)\n",
    "g1 = sns.barplot(ax=ax1, x='AA_codon', y=y_axis, order=codon_list, hue='hue_value', hue_order=hue_order, data=df_masked[mask], capsize=.1, errwidth=2, edgecolor='black', linewidth=2, alpha=alpha, ci=None, palette=green_palette)\n",
    "g1_ = sns.swarmplot(ax=ax1,x='AA_codon', y=y_axis, order=codon_list, hue='hue_value', hue_order=hue_order, data=df_masked[mask], dodge=True, edgecolor='black', linewidth=1, palette=green_palette)\n",
    "g1.set_title('Cytoplasmic tRNA')\n",
    "g1.grid(True, axis='y')\n",
    "g1.set_ylabel('Charge (%)');\n",
    "g1.set_xlabel('');\n",
    "g1.set_ylim(bottom=0, top=100);\n",
    "g1.set_xticklabels(g1.get_xticklabels(), rotation=0)\n",
    "g1.legend_.remove()\n",
    "\n",
    "# mito tRNAs\n",
    "mask = (df_masked['Ncharge'] > 50)  & (df_masked['mito_codon']) & (df_masked['human_codon']) & ((df_masked['amino_acid'] == 'Asp') | (df_masked['amino_acid'] == 'Asn'))# & (df_masked['Mapping_percent'] > 70) \n",
    "codon_list = sorted(set(df_masked['AA_codon'][mask].values), key=str.casefold)\n",
    "g2 = sns.barplot(ax=ax2, x='AA_codon', y=y_axis, order=codon_list, hue='hue_value', hue_order=hue_order, data=df_masked[mask], capsize=.1, errwidth=2, edgecolor='black', linewidth=2, alpha=alpha, ci=None, palette=green_palette)\n",
    "g2 = sns.swarmplot(ax=ax2, x='AA_codon', y=y_axis, order=codon_list, hue='hue_value', hue_order=hue_order, data=df_masked[mask], dodge=True, edgecolor='black', linewidth=1, palette=green_palette)\n",
    "g2.set_title('Mitochondrial tRNA')\n",
    "g2.grid(True, axis='y')\n",
    "g2.set_ylabel('');\n",
    "g2.set_xlabel('');\n",
    "g2.set_ylim(bottom=0, top=100);\n",
    "g2.set_xticklabels(g2.get_xticklabels(), rotation=0)\n",
    "old_legend = g2.legend_\n",
    "handles = old_legend.legendHandles\n",
    "#labels = hue_order\n",
    "#title = df_masked[mask]['hue_name'].values[0]\n",
    "for lh in handles:\n",
    "    lh.set_alpha(alpha)\n",
    "g2.legend(handles, legend_labels, title=legend_title, bbox_to_anchor=(1.01,1), borderaxespad=0)\n",
    "\n",
    "\n",
    "sns.despine()\n",
    "plt.tight_layout()\n",
    "fig.savefig('GOT-DKO_UCPH-tit_Asp-Asn.pdf')\n",
    "#fig.clear()\n",
    "#g1.clear()\n",
    "#g2.clear()"
   ]
  },
  {
   "cell_type": "code",
   "execution_count": null,
   "metadata": {},
   "outputs": [],
   "source": []
  },
  {
   "cell_type": "code",
   "execution_count": null,
   "metadata": {},
   "outputs": [],
   "source": []
  },
  {
   "cell_type": "code",
   "execution_count": null,
   "metadata": {},
   "outputs": [],
   "source": []
  },
  {
   "cell_type": "code",
   "execution_count": null,
   "metadata": {},
   "outputs": [],
   "source": []
  },
  {
   "cell_type": "code",
   "execution_count": null,
   "metadata": {},
   "outputs": [],
   "source": []
  },
  {
   "cell_type": "code",
   "execution_count": null,
   "metadata": {},
   "outputs": [],
   "source": []
  },
  {
   "cell_type": "code",
   "execution_count": null,
   "metadata": {},
   "outputs": [],
   "source": []
  },
  {
   "cell_type": "code",
   "execution_count": 13,
   "metadata": {},
   "outputs": [
    {
     "data": {
      "image/png": "[encoded data removed]",
      "text/plain": [
       "<Figure size 1382.4x324 with 2 Axes>"
      ]
     },
     "metadata": {},
     "output_type": "display_data"
    }
   ],
   "source": [
    "mask = (df_charge['plot_group'] == 'Pilot-exp')\n",
    "df_masked = df_charge[mask]\n",
    "df_masked = df_masked.sort_values('Ncharge').drop_duplicates(['sample_name_unique', 'amino_acid', 'codon', 'mito_codon', 'replicate'], keep='last')\n",
    "\n",
    "\n",
    "Ngrp = 4\n",
    "y_axis = 'charge_norm'\n",
    "legend_title = 'Media'\n",
    "alpha = 0.7\n",
    "\n",
    "\n",
    "fig = plt.figure(figsize=(4.8*Ngrp, 4.5))\n",
    "gs = gridspec.GridSpec(1, 2, width_ratios=[3, 1])\n",
    "ax1 = fig.add_subplot(gs[0])\n",
    "ax2 = fig.add_subplot(gs[1], sharey=ax1)\n",
    "plt.setp(ax2.get_yticklabels(), visible=False)\n",
    "\n",
    "mask = (df_masked['Ncharge'] > 50) & (~df_masked['mito_codon']) & (df_masked['human_codon']) & ((df_masked['amino_acid'] == 'Arg') | (df_masked['amino_acid'] == 'Leu') | (df_masked['amino_acid'] == 'Leu1') | (df_masked['amino_acid'] == 'Leu2') | (df_masked['amino_acid'] == 'Gln'))# & (df_masked['Mapping_percent'] > 80) \n",
    "hue_order = [t[0] for t in sorted(dict(zip(df_masked[mask]['hue_value'].values, df_masked[mask]['hue_order'].values)).items(), key=lambda x: x[1])]\n",
    "codon_list = sorted(set(df_masked['AA_codon'][mask].values), key=str.casefold)\n",
    "g1 = sns.barplot(ax=ax1, x='AA_codon', y=y_axis, order=codon_list, hue='hue_value', hue_order=hue_order, data=df_masked[mask], capsize=.1, errwidth=2, edgecolor='black', linewidth=2, alpha=alpha, ci=None)\n",
    "g1_ = sns.swarmplot(ax=ax1,x='AA_codon', y=y_axis, order=codon_list, hue='hue_value', hue_order=hue_order, data=df_masked[mask], dodge=True, edgecolor='black', linewidth=1)\n",
    "g1.set_title('Cyto tRNA')\n",
    "g1.grid(True, axis='y')\n",
    "g1.set_ylabel('Charge (%)');\n",
    "g1.set_xlabel('');\n",
    "g1.set_ylim(bottom=0, top=100);\n",
    "g1.set_xticklabels(g1.get_xticklabels(), rotation=45)\n",
    "g1.legend_.remove()\n",
    "\n",
    "# mito tRNAs\n",
    "mask = (df_masked['Ncharge'] > 50)  & (df_masked['mito_codon']) & (df_masked['human_codon']) & ((df_masked['amino_acid'] == 'Arg') | (df_masked['amino_acid'] == 'Leu') | (df_masked['amino_acid'] == 'Leu1') | (df_masked['amino_acid'] == 'Leu2') | (df_masked['amino_acid'] == 'Gln'))# & (df_masked['Mapping_percent'] > 70) \n",
    "codon_list = sorted(set(df_masked['AA_codon'][mask].values), key=str.casefold)\n",
    "g2 = sns.barplot(ax=ax2, x='AA_codon', y=y_axis, order=codon_list, hue='hue_value', hue_order=hue_order, data=df_masked[mask], capsize=.1, errwidth=2, edgecolor='black', linewidth=2, alpha=alpha, ci=None)\n",
    "g2 = sns.swarmplot(ax=ax2, x='AA_codon', y=y_axis, order=codon_list, hue='hue_value', hue_order=hue_order, data=df_masked[mask], dodge=True, edgecolor='black', linewidth=1)\n",
    "g2.set_title('Mito tRNA')\n",
    "g2.grid(True, axis='y')\n",
    "g2.set_ylabel('');\n",
    "g2.set_xlabel('');\n",
    "g2.set_ylim(bottom=0, top=100);\n",
    "g2.set_xticklabels(g2.get_xticklabels(), rotation=45)\n",
    "old_legend = g2.legend_\n",
    "handles = old_legend.legendHandles\n",
    "labels = hue_order\n",
    "#title = df_masked[mask]['hue_name'].values[0]\n",
    "for lh in handles:\n",
    "    lh.set_alpha(alpha)\n",
    "g2.legend(handles, labels, title=legend_title, bbox_to_anchor=(1.08, 1), borderaxespad=0)\n",
    "\n",
    "\n",
    "sns.despine()\n",
    "plt.tight_layout()\n",
    "fig.savefig('pilot-test_Arg-Leu-Gln.pdf')\n",
    "#fig.clear()\n",
    "#g1.clear()\n",
    "#g2.clear()"
   ]
  },
  {
   "cell_type": "code",
   "execution_count": null,
   "metadata": {},
   "outputs": [],
   "source": []
  },
  {
   "cell_type": "code",
   "execution_count": 14,
   "metadata": {},
   "outputs": [
    {
     "data": {
      "image/png": "[encoded data removed]",
      "text/plain": [
       "<Figure size 2016x648 with 2 Axes>"
      ]
     },
     "metadata": {},
     "output_type": "display_data"
    }
   ],
   "source": [
    "mask = (df_charge['plot_group'] == 'Pilot-exp')\n",
    "df_masked = df_charge[mask]\n",
    "df_masked = df_masked.sort_values('Ncharge').drop_duplicates(['sample_name_unique', 'amino_acid', 'codon', 'mito_codon', 'replicate'], keep='last')\n",
    "\n",
    "Ngrp = 3\n",
    "y_axis = 'charge_norm'\n",
    "legend_title = 'Media'\n",
    "\n",
    "fig = plt.figure(figsize=(28/3*Ngrp, 9))\n",
    "gs = fig.add_gridspec(2, 4)\n",
    "ax1 = fig.add_subplot(gs[0, :])\n",
    "ax2 = fig.add_subplot(gs[1, 1:3])\n",
    "\n",
    "# Cyto tRNAs\n",
    "mask = (df_masked['Ncharge'] > 50) & (~df_masked['mito_codon']) & (df_masked['human_codon'])\n",
    "hue_order = [t[0] for t in sorted(dict(zip(df_masked[mask]['hue_value'].values, df_masked[mask]['hue_order'].values)).items(), key=lambda x: x[1])]\n",
    "\n",
    "codon_list = sorted(set(df_masked['AA_codon'][mask].values), key=str.casefold)\n",
    "g1 = sns.barplot(ax=ax1, x='AA_codon', y='charge_norm', order=codon_list, hue='hue_value', hue_order=hue_order, data=df_masked[mask], capsize=.1, errwidth=2, edgecolor='black', linewidth=2, alpha=0.7)\n",
    "g1.set_title('Cytoplasmic tRNA')\n",
    "g1.grid(True, axis='y')\n",
    "g1.set_ylabel('Charge (%)');\n",
    "g1.set_xlabel('');\n",
    "g1.set_xticklabels(g1.get_xticklabels(), rotation=90)\n",
    "old_legend = g1.legend_\n",
    "handles = old_legend.legendHandles\n",
    "labels = hue_order\n",
    "title = df_masked[mask]['hue_name'].values[0]\n",
    "g1.legend(handles, labels, title=legend_title, bbox_to_anchor=(1.01, 1), borderaxespad=0)\n",
    "\n",
    "# mito tRNAs\n",
    "mask = (df_masked['Ncharge'] > 50)  & (df_masked['mito_codon']) & (df_masked['human_codon'])\n",
    "codon_list = sorted(set(df_masked['AA_codon'][mask].values), key=str.casefold)\n",
    "g2 = sns.barplot(ax=ax2, x='AA_codon', y='charge_norm', order=codon_list, hue='hue_value', hue_order=hue_order, data=df_masked[mask], capsize=.1, errwidth=2, edgecolor='black', linewidth=2, alpha=0.7)\n",
    "g2.set_title('Mitochondrial tRNA')\n",
    "g2.grid(True, axis='y')\n",
    "g2.set_ylabel('Charge (%)');\n",
    "g2.set_xlabel('');\n",
    "g2.set_xticklabels(g2.get_xticklabels(), rotation=90)\n",
    "g2.legend_.remove()\n",
    "\n",
    "plt.tight_layout()\n",
    "fig.savefig('pilot-test_all.pdf')\n",
    "#fig.clear()\n",
    "#g1.clear()\n",
    "#g2.clear()\n"
   ]
  },
  {
   "cell_type": "code",
   "execution_count": null,
   "metadata": {},
   "outputs": [],
   "source": []
  },
  {
   "cell_type": "code",
   "execution_count": null,
   "metadata": {},
   "outputs": [],
   "source": []
  },
  {
   "cell_type": "code",
   "execution_count": null,
   "metadata": {},
   "outputs": [],
   "source": []
  },
  {
   "cell_type": "code",
   "execution_count": null,
   "metadata": {},
   "outputs": [],
   "source": []
  },
  {
   "cell_type": "code",
   "execution_count": null,
   "metadata": {},
   "outputs": [],
   "source": []
  },
  {
   "cell_type": "code",
   "execution_count": null,
   "metadata": {},
   "outputs": [],
   "source": []
  },
  {
   "cell_type": "code",
   "execution_count": null,
   "metadata": {},
   "outputs": [],
   "source": []
  },
  {
   "cell_type": "code",
   "execution_count": null,
   "metadata": {},
   "outputs": [],
   "source": []
  },
  {
   "cell_type": "code",
   "execution_count": null,
   "metadata": {},
   "outputs": [],
   "source": []
  },
  {
   "cell_type": "code",
   "execution_count": null,
   "metadata": {},
   "outputs": [],
   "source": []
  },
  {
   "cell_type": "code",
   "execution_count": null,
   "metadata": {},
   "outputs": [],
   "source": []
  },
  {
   "cell_type": "code",
   "execution_count": null,
   "metadata": {},
   "outputs": [],
   "source": []
  },
  {
   "cell_type": "code",
   "execution_count": 15,
   "metadata": {},
   "outputs": [
    {
     "data": {
      "image/png": "[encoded data removed]",
      "text/plain": [
       "<Figure size 1584x324 with 2 Axes>"
      ]
     },
     "metadata": {},
     "output_type": "display_data"
    }
   ],
   "source": [
    "mask = (df_charge['plot_group'] == 'Liver-tissue')\n",
    "df_masked = df_charge[mask]\n",
    "df_masked = df_masked.sort_values('Ncharge').drop_duplicates(['sample_name_unique', 'amino_acid', 'codon', 'mito_codon', 'replicate'], keep='last')\n",
    "\n",
    "\n",
    "Ngrp = 4\n",
    "y_axis = 'charge_norm'\n",
    "legend_title = 'Metformin gavage'\n",
    "legend_labels = ['Continuous', 'Evening+morning', 'Morning', 'Water']\n",
    "alpha = 0.7\n",
    "\n",
    "\n",
    "fig = plt.figure(figsize=(5.5*Ngrp, 4.5))\n",
    "gs = gridspec.GridSpec(1, 2, width_ratios=[2.5, 1])\n",
    "ax1 = fig.add_subplot(gs[0])\n",
    "ax2 = fig.add_subplot(gs[1], sharey=ax1)\n",
    "plt.setp(ax2.get_yticklabels(), visible=False)\n",
    "\n",
    "mask = (df_masked['Ncharge'] > 50) & (~df_masked['mito_codon']) & ((df_masked['amino_acid'] == 'Arg') | (df_masked['amino_acid'] == 'Leu') | (df_masked['amino_acid'] == 'Leu1') | (df_masked['amino_acid'] == 'Leu2') | (df_masked['amino_acid'] == 'Asp') | (df_masked['amino_acid'] == 'Asn'))# & (df_masked['Mapping_percent'] > 80)\n",
    "hue_order = [t[0] for t in sorted(dict(zip(df_masked[mask]['hue_value'].values, df_masked[mask]['hue_order'].values)).items(), key=lambda x: x[1])]\n",
    "codon_list = sorted(set(df_masked['AA_codon'][mask].values), key=str.casefold)\n",
    "g1 = sns.barplot(ax=ax1, x='AA_codon', y=y_axis, order=codon_list, hue='hue_value', hue_order=hue_order, data=df_masked[mask], capsize=.1, errwidth=2, edgecolor='black', linewidth=2, alpha=alpha, ci=None)\n",
    "g1_ = sns.swarmplot(ax=ax1,x='AA_codon', y=y_axis, order=codon_list, hue='hue_value', hue_order=hue_order, data=df_masked[mask], dodge=True, edgecolor='black', linewidth=1)\n",
    "g1.set_title('Cyto tRNA')\n",
    "g1.grid(True, axis='y')\n",
    "g1.set_ylabel('Charge (%)');\n",
    "g1.set_xlabel('');\n",
    "g1.set_ylim(bottom=0, top=100);\n",
    "g1.set_xticklabels(g1.get_xticklabels(), rotation=45)\n",
    "g1.legend_.remove()\n",
    "\n",
    "# mito tRNAs\n",
    "mask = (df_masked['Ncharge'] > 50)  & (df_masked['mito_codon']) & ((df_masked['amino_acid'] == 'Arg') | (df_masked['amino_acid'] == 'Leu') | (df_masked['amino_acid'] == 'Leu1') | (df_masked['amino_acid'] == 'Leu2') | (df_masked['amino_acid'] == 'Asp') | (df_masked['amino_acid'] == 'Asn'))# & (df_masked['Mapping_percent'] > 70) \n",
    "codon_list = sorted(set(df_masked['AA_codon'][mask].values), key=str.casefold)\n",
    "g2 = sns.barplot(ax=ax2, x='AA_codon', y=y_axis, order=codon_list, hue='hue_value', hue_order=hue_order, data=df_masked[mask], capsize=.1, errwidth=2, edgecolor='black', linewidth=2, alpha=alpha, ci=None)\n",
    "g2 = sns.swarmplot(ax=ax2, x='AA_codon', y=y_axis, order=codon_list, hue='hue_value', hue_order=hue_order, data=df_masked[mask], dodge=True, edgecolor='black', linewidth=1)\n",
    "g2.set_title('Mito tRNA')\n",
    "g2.grid(True, axis='y')\n",
    "g2.set_ylabel('');\n",
    "g2.set_xlabel('');\n",
    "g2.set_ylim(bottom=0, top=100);\n",
    "g2.set_xticklabels(g2.get_xticklabels(), rotation=45)\n",
    "old_legend = g2.legend_\n",
    "handles = old_legend.legendHandles\n",
    "labels = hue_order\n",
    "#title = df_masked[mask]['hue_name'].values[0]\n",
    "for lh in handles:\n",
    "    lh.set_alpha(alpha)\n",
    "g2.legend(handles, legend_labels, title=legend_title, bbox_to_anchor=(1.08, 1), borderaxespad=0)\n",
    "\n",
    "\n",
    "sns.despine()\n",
    "plt.tight_layout()\n",
    "fig.savefig('mouse-metformin_liver-Arg-Leu-Gln.pdf')\n",
    "#fig.clear()\n",
    "#g1.clear()\n",
    "#g2.clear()"
   ]
  },
  {
   "cell_type": "code",
   "execution_count": null,
   "metadata": {},
   "outputs": [],
   "source": []
  },
  {
   "cell_type": "code",
   "execution_count": null,
   "metadata": {},
   "outputs": [],
   "source": []
  },
  {
   "cell_type": "code",
   "execution_count": null,
   "metadata": {},
   "outputs": [],
   "source": []
  },
  {
   "cell_type": "code",
   "execution_count": null,
   "metadata": {},
   "outputs": [],
   "source": []
  },
  {
   "cell_type": "code",
   "execution_count": null,
   "metadata": {},
   "outputs": [],
   "source": []
  },
  {
   "cell_type": "code",
   "execution_count": null,
   "metadata": {},
   "outputs": [],
   "source": []
  },
  {
   "cell_type": "code",
   "execution_count": 16,
   "metadata": {},
   "outputs": [
    {
     "data": {
      "image/png": "[encoded data removed]",
      "text/plain": [
       "<Figure size 1008x324 with 2 Axes>"
      ]
     },
     "metadata": {},
     "output_type": "display_data"
    }
   ],
   "source": [
    "mask = (df_charge['plot_group'] == 'Atpenin-rescue')\n",
    "df_masked = df_charge[mask]\n",
    "df_masked = df_masked.sort_values('Ncharge').drop_duplicates(['sample_name_unique', 'amino_acid', 'codon', 'mito_codon', 'replicate'], keep='last')\n",
    "\n",
    "\n",
    "Ngrp = 4\n",
    "y_axis = 'charge_norm'\n",
    "legend_labels = ['Vec/Vec', 'Atp/Vec', 'Vec/Rot', 'Atp/Rot']\n",
    "legend_title = 'Mito inhib.'\n",
    "alpha = 0.7\n",
    "\n",
    "\n",
    "fig = plt.figure(figsize=(3.5*Ngrp, 4.5))\n",
    "gs = gridspec.GridSpec(1,2)\n",
    "ax1 = fig.add_subplot(gs[0])\n",
    "ax2 = fig.add_subplot(gs[1], sharey=ax1)\n",
    "plt.setp(ax2.get_yticklabels(), visible=False)\n",
    "\n",
    "mask = (df_masked['Ncharge'] > 50) & (~df_masked['mito_codon']) & (df_masked['human_codon']) & ((df_masked['amino_acid'] == 'Asp') | (df_masked['amino_acid'] == 'Asn'))# & (df_masked['Mapping_percent'] > 80) \n",
    "hue_order = [t[0] for t in sorted(dict(zip(df_masked[mask]['hue_value'].values, df_masked[mask]['hue_order'].values)).items(), key=lambda x: x[1])]\n",
    "codon_list = sorted(set(df_masked['AA_codon'][mask].values), key=str.casefold)\n",
    "g1 = sns.barplot(ax=ax1, x='AA_codon', y=y_axis, order=codon_list, hue='hue_value', hue_order=hue_order, data=df_masked[mask], capsize=.1, errwidth=2, edgecolor='black', linewidth=2, alpha=alpha, ci=None)\n",
    "g1_ = sns.swarmplot(ax=ax1,x='AA_codon', y=y_axis, order=codon_list, hue='hue_value', hue_order=hue_order, data=df_masked[mask], dodge=True, edgecolor='black', linewidth=1)\n",
    "g1.set_title('Cytoplasmic tRNA')\n",
    "g1.grid(True, axis='y')\n",
    "g1.set_ylabel('Charge (%)');\n",
    "g1.set_xlabel('');\n",
    "g1.set_ylim(bottom=0, top=100);\n",
    "g1.set_xticklabels(g1.get_xticklabels(), rotation=0)\n",
    "g1.legend_.remove()\n",
    "\n",
    "# mito tRNAs\n",
    "mask = (df_masked['Ncharge'] > 50)  & (df_masked['mito_codon']) & (df_masked['human_codon']) & ((df_masked['amino_acid'] == 'Asp') | (df_masked['amino_acid'] == 'Asn'))# & (df_masked['Mapping_percent'] > 70) \n",
    "codon_list = sorted(set(df_masked['AA_codon'][mask].values), key=str.casefold)\n",
    "g2 = sns.barplot(ax=ax2, x='AA_codon', y=y_axis, order=codon_list, hue='hue_value', hue_order=hue_order, data=df_masked[mask], capsize=.1, errwidth=2, edgecolor='black', linewidth=2, alpha=alpha, ci=None)\n",
    "g2 = sns.swarmplot(ax=ax2, x='AA_codon', y=y_axis, order=codon_list, hue='hue_value', hue_order=hue_order, data=df_masked[mask], dodge=True, edgecolor='black', linewidth=1)\n",
    "g2.set_title('Mitochondrial tRNA')\n",
    "g2.grid(True, axis='y')\n",
    "g2.set_ylabel('');\n",
    "g2.set_xlabel('');\n",
    "g2.set_ylim(bottom=0, top=100);\n",
    "g2.set_xticklabels(g2.get_xticklabels(), rotation=0)\n",
    "old_legend = g2.legend_\n",
    "handles = old_legend.legendHandles\n",
    "#labels = hue_order\n",
    "#title = df_masked[mask]['hue_name'].values[0]\n",
    "for lh in handles:\n",
    "    lh.set_alpha(alpha)\n",
    "g2.legend(handles, legend_labels, title=legend_title, bbox_to_anchor=(1.01,1), borderaxespad=0)\n",
    "\n",
    "\n",
    "sns.despine()\n",
    "plt.tight_layout()\n",
    "fig.savefig('143B-atpenin-rescue_Asp-Asn.pdf')\n",
    "#fig.clear()\n",
    "#g1.clear()\n",
    "#g2.clear()"
   ]
  },
  {
   "cell_type": "code",
   "execution_count": null,
   "metadata": {},
   "outputs": [],
   "source": []
  },
  {
   "cell_type": "code",
   "execution_count": null,
   "metadata": {},
   "outputs": [],
   "source": []
  },
  {
   "cell_type": "code",
   "execution_count": null,
   "metadata": {},
   "outputs": [],
   "source": []
  },
  {
   "cell_type": "code",
   "execution_count": null,
   "metadata": {},
   "outputs": [],
   "source": []
  },
  {
   "cell_type": "code",
   "execution_count": null,
   "metadata": {},
   "outputs": [],
   "source": []
  },
  {
   "cell_type": "code",
   "execution_count": null,
   "metadata": {},
   "outputs": [],
   "source": []
  },
  {
   "cell_type": "code",
   "execution_count": null,
   "metadata": {},
   "outputs": [],
   "source": []
  },
  {
   "cell_type": "code",
   "execution_count": null,
   "metadata": {},
   "outputs": [],
   "source": []
  },
  {
   "cell_type": "code",
   "execution_count": null,
   "metadata": {},
   "outputs": [],
   "source": []
  },
  {
   "cell_type": "code",
   "execution_count": null,
   "metadata": {},
   "outputs": [],
   "source": []
  },
  {
   "cell_type": "code",
   "execution_count": null,
   "metadata": {},
   "outputs": [],
   "source": []
  },
  {
   "cell_type": "code",
   "execution_count": null,
   "metadata": {},
   "outputs": [],
   "source": []
  },
  {
   "cell_type": "code",
   "execution_count": null,
   "metadata": {},
   "outputs": [],
   "source": []
  },
  {
   "cell_type": "code",
   "execution_count": null,
   "metadata": {},
   "outputs": [],
   "source": []
  },
  {
   "cell_type": "code",
   "execution_count": null,
   "metadata": {},
   "outputs": [],
   "source": []
  },
  {
   "cell_type": "code",
   "execution_count": null,
   "metadata": {},
   "outputs": [],
   "source": []
  },
  {
   "cell_type": "code",
   "execution_count": null,
   "metadata": {},
   "outputs": [],
   "source": []
  },
  {
   "cell_type": "code",
   "execution_count": null,
   "metadata": {},
   "outputs": [],
   "source": []
  },
  {
   "cell_type": "code",
   "execution_count": null,
   "metadata": {},
   "outputs": [],
   "source": []
  },
  {
   "cell_type": "code",
   "execution_count": null,
   "metadata": {},
   "outputs": [],
   "source": []
  },
  {
   "cell_type": "code",
   "execution_count": null,
   "metadata": {},
   "outputs": [],
   "source": []
  },
  {
   "cell_type": "code",
   "execution_count": null,
   "metadata": {},
   "outputs": [],
   "source": []
  },
  {
   "cell_type": "code",
   "execution_count": null,
   "metadata": {},
   "outputs": [],
   "source": []
  },
  {
   "cell_type": "code",
   "execution_count": null,
   "metadata": {},
   "outputs": [],
   "source": []
  },
  {
   "cell_type": "code",
   "execution_count": 10,
   "metadata": {},
   "outputs": [
    {
     "name": "stderr",
     "output_type": "stream",
     "text": [
      "/tmp/ipykernel_2740533/1264222201.py:14: RuntimeWarning: More than 20 figures have been opened. Figures created through the pyplot interface (`matplotlib.pyplot.figure`) are retained until explicitly closed and may consume too much memory. (To control this warning, see the rcParam `figure.max_open_warning`).\n",
      "  fig = plt.figure(figsize=(20, 9))\n"
     ]
    },
    {
     "data": {
      "text/plain": [
       "<Figure size 1440x648 with 0 Axes>"
      ]
     },
     "metadata": {},
     "output_type": "display_data"
    },
    {
     "data": {
      "text/plain": [
       "<Figure size 2880x720 with 0 Axes>"
      ]
     },
     "metadata": {},
     "output_type": "display_data"
    },
    {
     "data": {
      "text/plain": [
       "<Figure size 1440x648 with 0 Axes>"
      ]
     },
     "metadata": {},
     "output_type": "display_data"
    },
    {
     "data": {
      "text/plain": [
       "<Figure size 2880x720 with 0 Axes>"
      ]
     },
     "metadata": {},
     "output_type": "display_data"
    },
    {
     "data": {
      "text/plain": [
       "<Figure size 1440x648 with 0 Axes>"
      ]
     },
     "metadata": {},
     "output_type": "display_data"
    },
    {
     "data": {
      "text/plain": [
       "<Figure size 2880x720 with 0 Axes>"
      ]
     },
     "metadata": {},
     "output_type": "display_data"
    },
    {
     "data": {
      "text/plain": [
       "<Figure size 1440x648 with 0 Axes>"
      ]
     },
     "metadata": {},
     "output_type": "display_data"
    },
    {
     "data": {
      "text/plain": [
       "<Figure size 2880x720 with 0 Axes>"
      ]
     },
     "metadata": {},
     "output_type": "display_data"
    },
    {
     "data": {
      "text/plain": [
       "<Figure size 1440x648 with 0 Axes>"
      ]
     },
     "metadata": {},
     "output_type": "display_data"
    },
    {
     "data": {
      "text/plain": [
       "<Figure size 2880x720 with 0 Axes>"
      ]
     },
     "metadata": {},
     "output_type": "display_data"
    },
    {
     "data": {
      "text/plain": [
       "<Figure size 1440x648 with 0 Axes>"
      ]
     },
     "metadata": {},
     "output_type": "display_data"
    },
    {
     "data": {
      "text/plain": [
       "<Figure size 2880x720 with 0 Axes>"
      ]
     },
     "metadata": {},
     "output_type": "display_data"
    },
    {
     "data": {
      "text/plain": [
       "<Figure size 1440x648 with 0 Axes>"
      ]
     },
     "metadata": {},
     "output_type": "display_data"
    },
    {
     "data": {
      "text/plain": [
       "<Figure size 2880x720 with 0 Axes>"
      ]
     },
     "metadata": {},
     "output_type": "display_data"
    },
    {
     "data": {
      "text/plain": [
       "<Figure size 1440x648 with 0 Axes>"
      ]
     },
     "metadata": {},
     "output_type": "display_data"
    },
    {
     "data": {
      "text/plain": [
       "<Figure size 2880x720 with 0 Axes>"
      ]
     },
     "metadata": {},
     "output_type": "display_data"
    },
    {
     "data": {
      "text/plain": [
       "<Figure size 1440x648 with 0 Axes>"
      ]
     },
     "metadata": {},
     "output_type": "display_data"
    },
    {
     "data": {
      "text/plain": [
       "<Figure size 2880x720 with 0 Axes>"
      ]
     },
     "metadata": {},
     "output_type": "display_data"
    },
    {
     "data": {
      "text/plain": [
       "<Figure size 1440x648 with 0 Axes>"
      ]
     },
     "metadata": {},
     "output_type": "display_data"
    },
    {
     "data": {
      "text/plain": [
       "<Figure size 2880x720 with 0 Axes>"
      ]
     },
     "metadata": {},
     "output_type": "display_data"
    },
    {
     "data": {
      "text/plain": [
       "<Figure size 1440x648 with 0 Axes>"
      ]
     },
     "metadata": {},
     "output_type": "display_data"
    },
    {
     "data": {
      "text/plain": [
       "<Figure size 2880x720 with 0 Axes>"
      ]
     },
     "metadata": {},
     "output_type": "display_data"
    },
    {
     "data": {
      "text/plain": [
       "<Figure size 1440x648 with 0 Axes>"
      ]
     },
     "metadata": {},
     "output_type": "display_data"
    },
    {
     "data": {
      "text/plain": [
       "<Figure size 2880x720 with 0 Axes>"
      ]
     },
     "metadata": {},
     "output_type": "display_data"
    },
    {
     "data": {
      "text/plain": [
       "<Figure size 1440x648 with 0 Axes>"
      ]
     },
     "metadata": {},
     "output_type": "display_data"
    },
    {
     "data": {
      "text/plain": [
       "<Figure size 2880x720 with 0 Axes>"
      ]
     },
     "metadata": {},
     "output_type": "display_data"
    },
    {
     "data": {
      "text/plain": [
       "<Figure size 1440x648 with 0 Axes>"
      ]
     },
     "metadata": {},
     "output_type": "display_data"
    },
    {
     "data": {
      "text/plain": [
       "<Figure size 2880x720 with 0 Axes>"
      ]
     },
     "metadata": {},
     "output_type": "display_data"
    },
    {
     "data": {
      "text/plain": [
       "<Figure size 1440x648 with 0 Axes>"
      ]
     },
     "metadata": {},
     "output_type": "display_data"
    },
    {
     "data": {
      "text/plain": [
       "<Figure size 2880x720 with 0 Axes>"
      ]
     },
     "metadata": {},
     "output_type": "display_data"
    },
    {
     "data": {
      "text/plain": [
       "<Figure size 1440x648 with 0 Axes>"
      ]
     },
     "metadata": {},
     "output_type": "display_data"
    },
    {
     "data": {
      "text/plain": [
       "<Figure size 2880x720 with 0 Axes>"
      ]
     },
     "metadata": {},
     "output_type": "display_data"
    },
    {
     "data": {
      "text/plain": [
       "<Figure size 1440x648 with 0 Axes>"
      ]
     },
     "metadata": {},
     "output_type": "display_data"
    },
    {
     "data": {
      "text/plain": [
       "<Figure size 2880x720 with 0 Axes>"
      ]
     },
     "metadata": {},
     "output_type": "display_data"
    },
    {
     "data": {
      "text/plain": [
       "<Figure size 1440x648 with 0 Axes>"
      ]
     },
     "metadata": {},
     "output_type": "display_data"
    },
    {
     "data": {
      "text/plain": [
       "<Figure size 2880x720 with 0 Axes>"
      ]
     },
     "metadata": {},
     "output_type": "display_data"
    },
    {
     "data": {
      "text/plain": [
       "<Figure size 1440x648 with 0 Axes>"
      ]
     },
     "metadata": {},
     "output_type": "display_data"
    },
    {
     "data": {
      "text/plain": [
       "<Figure size 2880x720 with 0 Axes>"
      ]
     },
     "metadata": {},
     "output_type": "display_data"
    },
    {
     "data": {
      "text/plain": [
       "<Figure size 1440x648 with 0 Axes>"
      ]
     },
     "metadata": {},
     "output_type": "display_data"
    },
    {
     "data": {
      "text/plain": [
       "<Figure size 2880x720 with 0 Axes>"
      ]
     },
     "metadata": {},
     "output_type": "display_data"
    },
    {
     "data": {
      "text/plain": [
       "<Figure size 1440x648 with 0 Axes>"
      ]
     },
     "metadata": {},
     "output_type": "display_data"
    },
    {
     "data": {
      "text/plain": [
       "<Figure size 2880x720 with 0 Axes>"
      ]
     },
     "metadata": {},
     "output_type": "display_data"
    },
    {
     "data": {
      "text/plain": [
       "<Figure size 1440x648 with 0 Axes>"
      ]
     },
     "metadata": {},
     "output_type": "display_data"
    },
    {
     "data": {
      "text/plain": [
       "<Figure size 2880x720 with 0 Axes>"
      ]
     },
     "metadata": {},
     "output_type": "display_data"
    },
    {
     "data": {
      "text/plain": [
       "<Figure size 1440x648 with 0 Axes>"
      ]
     },
     "metadata": {},
     "output_type": "display_data"
    },
    {
     "data": {
      "text/plain": [
       "<Figure size 2880x720 with 0 Axes>"
      ]
     },
     "metadata": {},
     "output_type": "display_data"
    },
    {
     "data": {
      "text/plain": [
       "<Figure size 1440x648 with 0 Axes>"
      ]
     },
     "metadata": {},
     "output_type": "display_data"
    },
    {
     "data": {
      "text/plain": [
       "<Figure size 2880x720 with 0 Axes>"
      ]
     },
     "metadata": {},
     "output_type": "display_data"
    },
    {
     "data": {
      "text/plain": [
       "<Figure size 1440x648 with 0 Axes>"
      ]
     },
     "metadata": {},
     "output_type": "display_data"
    },
    {
     "data": {
      "text/plain": [
       "<Figure size 2880x720 with 0 Axes>"
      ]
     },
     "metadata": {},
     "output_type": "display_data"
    },
    {
     "data": {
      "text/plain": [
       "<Figure size 1440x648 with 0 Axes>"
      ]
     },
     "metadata": {},
     "output_type": "display_data"
    },
    {
     "data": {
      "text/plain": [
       "<Figure size 2880x720 with 0 Axes>"
      ]
     },
     "metadata": {},
     "output_type": "display_data"
    },
    {
     "data": {
      "text/plain": [
       "<Figure size 1440x648 with 0 Axes>"
      ]
     },
     "metadata": {},
     "output_type": "display_data"
    },
    {
     "data": {
      "text/plain": [
       "<Figure size 2880x720 with 0 Axes>"
      ]
     },
     "metadata": {},
     "output_type": "display_data"
    },
    {
     "data": {
      "text/plain": [
       "<Figure size 1440x648 with 0 Axes>"
      ]
     },
     "metadata": {},
     "output_type": "display_data"
    },
    {
     "data": {
      "text/plain": [
       "<Figure size 2880x720 with 0 Axes>"
      ]
     },
     "metadata": {},
     "output_type": "display_data"
    },
    {
     "data": {
      "text/plain": [
       "<Figure size 1440x648 with 0 Axes>"
      ]
     },
     "metadata": {},
     "output_type": "display_data"
    },
    {
     "data": {
      "text/plain": [
       "<Figure size 2880x720 with 0 Axes>"
      ]
     },
     "metadata": {},
     "output_type": "display_data"
    },
    {
     "data": {
      "text/plain": [
       "<Figure size 1440x648 with 0 Axes>"
      ]
     },
     "metadata": {},
     "output_type": "display_data"
    },
    {
     "data": {
      "text/plain": [
       "<Figure size 2880x720 with 0 Axes>"
      ]
     },
     "metadata": {},
     "output_type": "display_data"
    },
    {
     "data": {
      "text/plain": [
       "<Figure size 1440x648 with 0 Axes>"
      ]
     },
     "metadata": {},
     "output_type": "display_data"
    },
    {
     "data": {
      "text/plain": [
       "<Figure size 2880x720 with 0 Axes>"
      ]
     },
     "metadata": {},
     "output_type": "display_data"
    },
    {
     "data": {
      "text/plain": [
       "<Figure size 1440x648 with 0 Axes>"
      ]
     },
     "metadata": {},
     "output_type": "display_data"
    },
    {
     "data": {
      "text/plain": [
       "<Figure size 2880x720 with 0 Axes>"
      ]
     },
     "metadata": {},
     "output_type": "display_data"
    },
    {
     "data": {
      "text/plain": [
       "<Figure size 1440x648 with 0 Axes>"
      ]
     },
     "metadata": {},
     "output_type": "display_data"
    },
    {
     "data": {
      "text/plain": [
       "<Figure size 2880x720 with 0 Axes>"
      ]
     },
     "metadata": {},
     "output_type": "display_data"
    },
    {
     "data": {
      "text/plain": [
       "<Figure size 1440x648 with 0 Axes>"
      ]
     },
     "metadata": {},
     "output_type": "display_data"
    },
    {
     "data": {
      "text/plain": [
       "<Figure size 2880x720 with 0 Axes>"
      ]
     },
     "metadata": {},
     "output_type": "display_data"
    },
    {
     "data": {
      "text/plain": [
       "<Figure size 1440x648 with 0 Axes>"
      ]
     },
     "metadata": {},
     "output_type": "display_data"
    },
    {
     "data": {
      "text/plain": [
       "<Figure size 2880x720 with 0 Axes>"
      ]
     },
     "metadata": {},
     "output_type": "display_data"
    },
    {
     "data": {
      "text/plain": [
       "<Figure size 1440x648 with 0 Axes>"
      ]
     },
     "metadata": {},
     "output_type": "display_data"
    },
    {
     "data": {
      "text/plain": [
       "<Figure size 2880x720 with 0 Axes>"
      ]
     },
     "metadata": {},
     "output_type": "display_data"
    },
    {
     "data": {
      "text/plain": [
       "<Figure size 1440x648 with 0 Axes>"
      ]
     },
     "metadata": {},
     "output_type": "display_data"
    },
    {
     "data": {
      "text/plain": [
       "<Figure size 2880x720 with 0 Axes>"
      ]
     },
     "metadata": {},
     "output_type": "display_data"
    },
    {
     "data": {
      "text/plain": [
       "<Figure size 1440x648 with 0 Axes>"
      ]
     },
     "metadata": {},
     "output_type": "display_data"
    },
    {
     "data": {
      "text/plain": [
       "<Figure size 2880x720 with 0 Axes>"
      ]
     },
     "metadata": {},
     "output_type": "display_data"
    },
    {
     "data": {
      "text/plain": [
       "<Figure size 1440x648 with 0 Axes>"
      ]
     },
     "metadata": {},
     "output_type": "display_data"
    },
    {
     "data": {
      "text/plain": [
       "<Figure size 2880x720 with 0 Axes>"
      ]
     },
     "metadata": {},
     "output_type": "display_data"
    },
    {
     "data": {
      "text/plain": [
       "<Figure size 1440x648 with 0 Axes>"
      ]
     },
     "metadata": {},
     "output_type": "display_data"
    },
    {
     "data": {
      "text/plain": [
       "<Figure size 2880x720 with 0 Axes>"
      ]
     },
     "metadata": {},
     "output_type": "display_data"
    },
    {
     "data": {
      "text/plain": [
       "<Figure size 1440x648 with 0 Axes>"
      ]
     },
     "metadata": {},
     "output_type": "display_data"
    },
    {
     "data": {
      "text/plain": [
       "<Figure size 2880x720 with 0 Axes>"
      ]
     },
     "metadata": {},
     "output_type": "display_data"
    },
    {
     "data": {
      "text/plain": [
       "<Figure size 1440x648 with 0 Axes>"
      ]
     },
     "metadata": {},
     "output_type": "display_data"
    },
    {
     "data": {
      "text/plain": [
       "<Figure size 2880x720 with 0 Axes>"
      ]
     },
     "metadata": {},
     "output_type": "display_data"
    },
    {
     "data": {
      "text/plain": [
       "<Figure size 1440x648 with 0 Axes>"
      ]
     },
     "metadata": {},
     "output_type": "display_data"
    },
    {
     "data": {
      "text/plain": [
       "<Figure size 2880x720 with 0 Axes>"
      ]
     },
     "metadata": {},
     "output_type": "display_data"
    },
    {
     "data": {
      "text/plain": [
       "<Figure size 1440x648 with 0 Axes>"
      ]
     },
     "metadata": {},
     "output_type": "display_data"
    },
    {
     "data": {
      "text/plain": [
       "<Figure size 2880x720 with 0 Axes>"
      ]
     },
     "metadata": {},
     "output_type": "display_data"
    },
    {
     "data": {
      "text/plain": [
       "<Figure size 1440x648 with 0 Axes>"
      ]
     },
     "metadata": {},
     "output_type": "display_data"
    },
    {
     "data": {
      "text/plain": [
       "<Figure size 2880x720 with 0 Axes>"
      ]
     },
     "metadata": {},
     "output_type": "display_data"
    },
    {
     "data": {
      "text/plain": [
       "<Figure size 1440x648 with 0 Axes>"
      ]
     },
     "metadata": {},
     "output_type": "display_data"
    },
    {
     "data": {
      "text/plain": [
       "<Figure size 2880x720 with 0 Axes>"
      ]
     },
     "metadata": {},
     "output_type": "display_data"
    },
    {
     "data": {
      "text/plain": [
       "<Figure size 1440x648 with 0 Axes>"
      ]
     },
     "metadata": {},
     "output_type": "display_data"
    },
    {
     "data": {
      "text/plain": [
       "<Figure size 2880x720 with 0 Axes>"
      ]
     },
     "metadata": {},
     "output_type": "display_data"
    },
    {
     "data": {
      "text/plain": [
       "<Figure size 1440x648 with 0 Axes>"
      ]
     },
     "metadata": {},
     "output_type": "display_data"
    },
    {
     "data": {
      "text/plain": [
       "<Figure size 2880x720 with 0 Axes>"
      ]
     },
     "metadata": {},
     "output_type": "display_data"
    },
    {
     "data": {
      "text/plain": [
       "<Figure size 1440x648 with 0 Axes>"
      ]
     },
     "metadata": {},
     "output_type": "display_data"
    },
    {
     "data": {
      "text/plain": [
       "<Figure size 2880x720 with 0 Axes>"
      ]
     },
     "metadata": {},
     "output_type": "display_data"
    },
    {
     "data": {
      "text/plain": [
       "<Figure size 1440x648 with 0 Axes>"
      ]
     },
     "metadata": {},
     "output_type": "display_data"
    },
    {
     "data": {
      "text/plain": [
       "<Figure size 2880x720 with 0 Axes>"
      ]
     },
     "metadata": {},
     "output_type": "display_data"
    },
    {
     "data": {
      "text/plain": [
       "<Figure size 1440x648 with 0 Axes>"
      ]
     },
     "metadata": {},
     "output_type": "display_data"
    },
    {
     "data": {
      "text/plain": [
       "<Figure size 2880x720 with 0 Axes>"
      ]
     },
     "metadata": {},
     "output_type": "display_data"
    },
    {
     "data": {
      "text/plain": [
       "<Figure size 1440x648 with 0 Axes>"
      ]
     },
     "metadata": {},
     "output_type": "display_data"
    },
    {
     "data": {
      "text/plain": [
       "<Figure size 2880x720 with 0 Axes>"
      ]
     },
     "metadata": {},
     "output_type": "display_data"
    },
    {
     "data": {
      "text/plain": [
       "<Figure size 1440x648 with 0 Axes>"
      ]
     },
     "metadata": {},
     "output_type": "display_data"
    },
    {
     "data": {
      "text/plain": [
       "<Figure size 2880x720 with 0 Axes>"
      ]
     },
     "metadata": {},
     "output_type": "display_data"
    },
    {
     "data": {
      "text/plain": [
       "<Figure size 1440x648 with 0 Axes>"
      ]
     },
     "metadata": {},
     "output_type": "display_data"
    },
    {
     "data": {
      "text/plain": [
       "<Figure size 2880x720 with 0 Axes>"
      ]
     },
     "metadata": {},
     "output_type": "display_data"
    },
    {
     "data": {
      "text/plain": [
       "<Figure size 1440x648 with 0 Axes>"
      ]
     },
     "metadata": {},
     "output_type": "display_data"
    },
    {
     "data": {
      "text/plain": [
       "<Figure size 2880x720 with 0 Axes>"
      ]
     },
     "metadata": {},
     "output_type": "display_data"
    },
    {
     "data": {
      "text/plain": [
       "<Figure size 2880x648 with 0 Axes>"
      ]
     },
     "metadata": {},
     "output_type": "display_data"
    },
    {
     "data": {
      "text/plain": [
       "<Figure size 504x360 with 0 Axes>"
      ]
     },
     "metadata": {},
     "output_type": "display_data"
    },
    {
     "data": {
      "text/plain": [
       "<Figure size 1440x648 with 0 Axes>"
      ]
     },
     "metadata": {},
     "output_type": "display_data"
    },
    {
     "data": {
      "text/plain": [
       "<Figure size 2880x720 with 0 Axes>"
      ]
     },
     "metadata": {},
     "output_type": "display_data"
    },
    {
     "data": {
      "text/plain": [
       "<Figure size 1440x648 with 0 Axes>"
      ]
     },
     "metadata": {},
     "output_type": "display_data"
    },
    {
     "data": {
      "text/plain": [
       "<Figure size 2880x720 with 0 Axes>"
      ]
     },
     "metadata": {},
     "output_type": "display_data"
    },
    {
     "data": {
      "text/plain": [
       "<Figure size 1440x648 with 0 Axes>"
      ]
     },
     "metadata": {},
     "output_type": "display_data"
    },
    {
     "data": {
      "text/plain": [
       "<Figure size 2880x720 with 0 Axes>"
      ]
     },
     "metadata": {},
     "output_type": "display_data"
    },
    {
     "data": {
      "text/plain": [
       "<Figure size 1440x648 with 0 Axes>"
      ]
     },
     "metadata": {},
     "output_type": "display_data"
    },
    {
     "data": {
      "text/plain": [
       "<Figure size 2880x720 with 0 Axes>"
      ]
     },
     "metadata": {},
     "output_type": "display_data"
    },
    {
     "data": {
      "text/plain": [
       "<Figure size 1440x648 with 0 Axes>"
      ]
     },
     "metadata": {},
     "output_type": "display_data"
    },
    {
     "data": {
      "text/plain": [
       "<Figure size 2880x720 with 0 Axes>"
      ]
     },
     "metadata": {},
     "output_type": "display_data"
    },
    {
     "data": {
      "text/plain": [
       "<Figure size 1440x648 with 0 Axes>"
      ]
     },
     "metadata": {},
     "output_type": "display_data"
    },
    {
     "data": {
      "text/plain": [
       "<Figure size 2880x720 with 0 Axes>"
      ]
     },
     "metadata": {},
     "output_type": "display_data"
    },
    {
     "data": {
      "text/plain": [
       "<Figure size 1440x648 with 0 Axes>"
      ]
     },
     "metadata": {},
     "output_type": "display_data"
    },
    {
     "data": {
      "text/plain": [
       "<Figure size 2880x720 with 0 Axes>"
      ]
     },
     "metadata": {},
     "output_type": "display_data"
    },
    {
     "data": {
      "text/plain": [
       "<Figure size 1440x648 with 0 Axes>"
      ]
     },
     "metadata": {},
     "output_type": "display_data"
    },
    {
     "data": {
      "text/plain": [
       "<Figure size 2880x720 with 0 Axes>"
      ]
     },
     "metadata": {},
     "output_type": "display_data"
    },
    {
     "data": {
      "text/plain": [
       "<Figure size 1440x648 with 0 Axes>"
      ]
     },
     "metadata": {},
     "output_type": "display_data"
    },
    {
     "data": {
      "text/plain": [
       "<Figure size 2880x720 with 0 Axes>"
      ]
     },
     "metadata": {},
     "output_type": "display_data"
    },
    {
     "data": {
      "text/plain": [
       "<Figure size 1440x648 with 0 Axes>"
      ]
     },
     "metadata": {},
     "output_type": "display_data"
    },
    {
     "data": {
      "text/plain": [
       "<Figure size 2880x720 with 0 Axes>"
      ]
     },
     "metadata": {},
     "output_type": "display_data"
    },
    {
     "data": {
      "text/plain": [
       "<Figure size 1440x648 with 0 Axes>"
      ]
     },
     "metadata": {},
     "output_type": "display_data"
    },
    {
     "data": {
      "text/plain": [
       "<Figure size 2880x720 with 0 Axes>"
      ]
     },
     "metadata": {},
     "output_type": "display_data"
    },
    {
     "data": {
      "text/plain": [
       "<Figure size 1440x648 with 0 Axes>"
      ]
     },
     "metadata": {},
     "output_type": "display_data"
    },
    {
     "data": {
      "text/plain": [
       "<Figure size 2880x720 with 0 Axes>"
      ]
     },
     "metadata": {},
     "output_type": "display_data"
    },
    {
     "data": {
      "text/plain": [
       "<Figure size 1440x648 with 0 Axes>"
      ]
     },
     "metadata": {},
     "output_type": "display_data"
    },
    {
     "data": {
      "text/plain": [
       "<Figure size 2880x720 with 0 Axes>"
      ]
     },
     "metadata": {},
     "output_type": "display_data"
    },
    {
     "data": {
      "text/plain": [
       "<Figure size 1440x648 with 0 Axes>"
      ]
     },
     "metadata": {},
     "output_type": "display_data"
    },
    {
     "data": {
      "text/plain": [
       "<Figure size 2880x720 with 0 Axes>"
      ]
     },
     "metadata": {},
     "output_type": "display_data"
    },
    {
     "data": {
      "text/plain": [
       "<Figure size 1440x648 with 0 Axes>"
      ]
     },
     "metadata": {},
     "output_type": "display_data"
    },
    {
     "data": {
      "text/plain": [
       "<Figure size 2880x720 with 0 Axes>"
      ]
     },
     "metadata": {},
     "output_type": "display_data"
    },
    {
     "data": {
      "text/plain": [
       "<Figure size 1440x648 with 0 Axes>"
      ]
     },
     "metadata": {},
     "output_type": "display_data"
    },
    {
     "data": {
      "text/plain": [
       "<Figure size 2880x720 with 0 Axes>"
      ]
     },
     "metadata": {},
     "output_type": "display_data"
    },
    {
     "data": {
      "text/plain": [
       "<Figure size 1440x648 with 0 Axes>"
      ]
     },
     "metadata": {},
     "output_type": "display_data"
    },
    {
     "data": {
      "text/plain": [
       "<Figure size 2880x720 with 0 Axes>"
      ]
     },
     "metadata": {},
     "output_type": "display_data"
    },
    {
     "data": {
      "text/plain": [
       "<Figure size 1440x648 with 0 Axes>"
      ]
     },
     "metadata": {},
     "output_type": "display_data"
    },
    {
     "data": {
      "text/plain": [
       "<Figure size 2880x720 with 0 Axes>"
      ]
     },
     "metadata": {},
     "output_type": "display_data"
    },
    {
     "data": {
      "text/plain": [
       "<Figure size 1440x648 with 0 Axes>"
      ]
     },
     "metadata": {},
     "output_type": "display_data"
    },
    {
     "data": {
      "text/plain": [
       "<Figure size 2880x720 with 0 Axes>"
      ]
     },
     "metadata": {},
     "output_type": "display_data"
    },
    {
     "data": {
      "text/plain": [
       "<Figure size 1440x648 with 0 Axes>"
      ]
     },
     "metadata": {},
     "output_type": "display_data"
    },
    {
     "data": {
      "text/plain": [
       "<Figure size 2880x720 with 0 Axes>"
      ]
     },
     "metadata": {},
     "output_type": "display_data"
    },
    {
     "data": {
      "text/plain": [
       "<Figure size 1440x648 with 0 Axes>"
      ]
     },
     "metadata": {},
     "output_type": "display_data"
    },
    {
     "data": {
      "text/plain": [
       "<Figure size 2880x720 with 0 Axes>"
      ]
     },
     "metadata": {},
     "output_type": "display_data"
    },
    {
     "data": {
      "text/plain": [
       "<Figure size 1440x648 with 0 Axes>"
      ]
     },
     "metadata": {},
     "output_type": "display_data"
    },
    {
     "data": {
      "text/plain": [
       "<Figure size 2880x720 with 0 Axes>"
      ]
     },
     "metadata": {},
     "output_type": "display_data"
    },
    {
     "data": {
      "text/plain": [
       "<Figure size 1440x648 with 0 Axes>"
      ]
     },
     "metadata": {},
     "output_type": "display_data"
    },
    {
     "data": {
      "text/plain": [
       "<Figure size 2880x720 with 0 Axes>"
      ]
     },
     "metadata": {},
     "output_type": "display_data"
    },
    {
     "data": {
      "text/plain": [
       "<Figure size 1440x648 with 0 Axes>"
      ]
     },
     "metadata": {},
     "output_type": "display_data"
    },
    {
     "data": {
      "text/plain": [
       "<Figure size 2880x720 with 0 Axes>"
      ]
     },
     "metadata": {},
     "output_type": "display_data"
    },
    {
     "data": {
      "text/plain": [
       "<Figure size 1440x648 with 0 Axes>"
      ]
     },
     "metadata": {},
     "output_type": "display_data"
    },
    {
     "data": {
      "text/plain": [
       "<Figure size 2880x720 with 0 Axes>"
      ]
     },
     "metadata": {},
     "output_type": "display_data"
    },
    {
     "data": {
      "text/plain": [
       "<Figure size 1440x648 with 0 Axes>"
      ]
     },
     "metadata": {},
     "output_type": "display_data"
    },
    {
     "data": {
      "text/plain": [
       "<Figure size 2880x720 with 0 Axes>"
      ]
     },
     "metadata": {},
     "output_type": "display_data"
    },
    {
     "data": {
      "text/plain": [
       "<Figure size 1440x648 with 0 Axes>"
      ]
     },
     "metadata": {},
     "output_type": "display_data"
    },
    {
     "data": {
      "text/plain": [
       "<Figure size 2880x720 with 0 Axes>"
      ]
     },
     "metadata": {},
     "output_type": "display_data"
    },
    {
     "data": {
      "text/plain": [
       "<Figure size 1440x648 with 0 Axes>"
      ]
     },
     "metadata": {},
     "output_type": "display_data"
    },
    {
     "data": {
      "text/plain": [
       "<Figure size 2880x720 with 0 Axes>"
      ]
     },
     "metadata": {},
     "output_type": "display_data"
    },
    {
     "data": {
      "text/plain": [
       "<Figure size 1440x648 with 0 Axes>"
      ]
     },
     "metadata": {},
     "output_type": "display_data"
    },
    {
     "data": {
      "text/plain": [
       "<Figure size 2880x720 with 0 Axes>"
      ]
     },
     "metadata": {},
     "output_type": "display_data"
    },
    {
     "data": {
      "text/plain": [
       "<Figure size 1440x648 with 0 Axes>"
      ]
     },
     "metadata": {},
     "output_type": "display_data"
    },
    {
     "data": {
      "text/plain": [
       "<Figure size 2880x720 with 0 Axes>"
      ]
     },
     "metadata": {},
     "output_type": "display_data"
    },
    {
     "data": {
      "text/plain": [
       "<Figure size 1440x648 with 0 Axes>"
      ]
     },
     "metadata": {},
     "output_type": "display_data"
    },
    {
     "data": {
      "text/plain": [
       "<Figure size 2880x720 with 0 Axes>"
      ]
     },
     "metadata": {},
     "output_type": "display_data"
    },
    {
     "data": {
      "text/plain": [
       "<Figure size 1440x648 with 0 Axes>"
      ]
     },
     "metadata": {},
     "output_type": "display_data"
    },
    {
     "data": {
      "text/plain": [
       "<Figure size 2880x720 with 0 Axes>"
      ]
     },
     "metadata": {},
     "output_type": "display_data"
    },
    {
     "data": {
      "text/plain": [
       "<Figure size 1440x648 with 0 Axes>"
      ]
     },
     "metadata": {},
     "output_type": "display_data"
    },
    {
     "data": {
      "text/plain": [
       "<Figure size 2880x720 with 0 Axes>"
      ]
     },
     "metadata": {},
     "output_type": "display_data"
    },
    {
     "data": {
      "text/plain": [
       "<Figure size 1440x648 with 0 Axes>"
      ]
     },
     "metadata": {},
     "output_type": "display_data"
    },
    {
     "data": {
      "text/plain": [
       "<Figure size 2880x720 with 0 Axes>"
      ]
     },
     "metadata": {},
     "output_type": "display_data"
    },
    {
     "data": {
      "text/plain": [
       "<Figure size 1440x648 with 0 Axes>"
      ]
     },
     "metadata": {},
     "output_type": "display_data"
    },
    {
     "data": {
      "text/plain": [
       "<Figure size 2880x720 with 0 Axes>"
      ]
     },
     "metadata": {},
     "output_type": "display_data"
    },
    {
     "data": {
      "text/plain": [
       "<Figure size 1440x648 with 0 Axes>"
      ]
     },
     "metadata": {},
     "output_type": "display_data"
    },
    {
     "data": {
      "text/plain": [
       "<Figure size 2880x720 with 0 Axes>"
      ]
     },
     "metadata": {},
     "output_type": "display_data"
    },
    {
     "data": {
      "text/plain": [
       "<Figure size 1440x648 with 0 Axes>"
      ]
     },
     "metadata": {},
     "output_type": "display_data"
    },
    {
     "data": {
      "text/plain": [
       "<Figure size 2880x720 with 0 Axes>"
      ]
     },
     "metadata": {},
     "output_type": "display_data"
    },
    {
     "data": {
      "text/plain": [
       "<Figure size 1440x648 with 0 Axes>"
      ]
     },
     "metadata": {},
     "output_type": "display_data"
    },
    {
     "data": {
      "text/plain": [
       "<Figure size 2880x720 with 0 Axes>"
      ]
     },
     "metadata": {},
     "output_type": "display_data"
    },
    {
     "data": {
      "text/plain": [
       "<Figure size 1440x648 with 0 Axes>"
      ]
     },
     "metadata": {},
     "output_type": "display_data"
    },
    {
     "data": {
      "text/plain": [
       "<Figure size 2880x720 with 0 Axes>"
      ]
     },
     "metadata": {},
     "output_type": "display_data"
    },
    {
     "data": {
      "text/plain": [
       "<Figure size 1440x648 with 0 Axes>"
      ]
     },
     "metadata": {},
     "output_type": "display_data"
    },
    {
     "data": {
      "text/plain": [
       "<Figure size 2880x720 with 0 Axes>"
      ]
     },
     "metadata": {},
     "output_type": "display_data"
    },
    {
     "data": {
      "text/plain": [
       "<Figure size 1440x648 with 0 Axes>"
      ]
     },
     "metadata": {},
     "output_type": "display_data"
    },
    {
     "data": {
      "text/plain": [
       "<Figure size 2880x720 with 0 Axes>"
      ]
     },
     "metadata": {},
     "output_type": "display_data"
    },
    {
     "data": {
      "text/plain": [
       "<Figure size 1440x648 with 0 Axes>"
      ]
     },
     "metadata": {},
     "output_type": "display_data"
    },
    {
     "data": {
      "text/plain": [
       "<Figure size 2880x720 with 0 Axes>"
      ]
     },
     "metadata": {},
     "output_type": "display_data"
    },
    {
     "data": {
      "text/plain": [
       "<Figure size 1440x648 with 0 Axes>"
      ]
     },
     "metadata": {},
     "output_type": "display_data"
    },
    {
     "data": {
      "text/plain": [
       "<Figure size 2880x720 with 0 Axes>"
      ]
     },
     "metadata": {},
     "output_type": "display_data"
    },
    {
     "data": {
      "text/plain": [
       "<Figure size 1440x648 with 0 Axes>"
      ]
     },
     "metadata": {},
     "output_type": "display_data"
    },
    {
     "data": {
      "text/plain": [
       "<Figure size 2880x720 with 0 Axes>"
      ]
     },
     "metadata": {},
     "output_type": "display_data"
    },
    {
     "data": {
      "text/plain": [
       "<Figure size 1440x648 with 0 Axes>"
      ]
     },
     "metadata": {},
     "output_type": "display_data"
    },
    {
     "data": {
      "text/plain": [
       "<Figure size 2880x720 with 0 Axes>"
      ]
     },
     "metadata": {},
     "output_type": "display_data"
    },
    {
     "data": {
      "text/plain": [
       "<Figure size 1440x648 with 0 Axes>"
      ]
     },
     "metadata": {},
     "output_type": "display_data"
    },
    {
     "data": {
      "text/plain": [
       "<Figure size 2880x720 with 0 Axes>"
      ]
     },
     "metadata": {},
     "output_type": "display_data"
    },
    {
     "data": {
      "text/plain": [
       "<Figure size 1440x648 with 0 Axes>"
      ]
     },
     "metadata": {},
     "output_type": "display_data"
    },
    {
     "data": {
      "text/plain": [
       "<Figure size 2880x720 with 0 Axes>"
      ]
     },
     "metadata": {},
     "output_type": "display_data"
    },
    {
     "data": {
      "text/plain": [
       "<Figure size 1440x648 with 0 Axes>"
      ]
     },
     "metadata": {},
     "output_type": "display_data"
    },
    {
     "data": {
      "text/plain": [
       "<Figure size 2880x720 with 0 Axes>"
      ]
     },
     "metadata": {},
     "output_type": "display_data"
    },
    {
     "data": {
      "text/plain": [
       "<Figure size 1440x648 with 0 Axes>"
      ]
     },
     "metadata": {},
     "output_type": "display_data"
    },
    {
     "data": {
      "text/plain": [
       "<Figure size 2880x720 with 0 Axes>"
      ]
     },
     "metadata": {},
     "output_type": "display_data"
    },
    {
     "data": {
      "text/plain": [
       "<Figure size 1440x648 with 0 Axes>"
      ]
     },
     "metadata": {},
     "output_type": "display_data"
    },
    {
     "data": {
      "text/plain": [
       "<Figure size 2880x720 with 0 Axes>"
      ]
     },
     "metadata": {},
     "output_type": "display_data"
    },
    {
     "data": {
      "text/plain": [
       "<Figure size 1440x648 with 0 Axes>"
      ]
     },
     "metadata": {},
     "output_type": "display_data"
    },
    {
     "data": {
      "text/plain": [
       "<Figure size 2880x720 with 0 Axes>"
      ]
     },
     "metadata": {},
     "output_type": "display_data"
    },
    {
     "data": {
      "text/plain": [
       "<Figure size 1440x648 with 0 Axes>"
      ]
     },
     "metadata": {},
     "output_type": "display_data"
    },
    {
     "data": {
      "text/plain": [
       "<Figure size 2880x720 with 0 Axes>"
      ]
     },
     "metadata": {},
     "output_type": "display_data"
    },
    {
     "data": {
      "text/plain": [
       "<Figure size 1440x648 with 0 Axes>"
      ]
     },
     "metadata": {},
     "output_type": "display_data"
    },
    {
     "data": {
      "text/plain": [
       "<Figure size 2880x720 with 0 Axes>"
      ]
     },
     "metadata": {},
     "output_type": "display_data"
    },
    {
     "data": {
      "text/plain": [
       "<Figure size 1440x648 with 0 Axes>"
      ]
     },
     "metadata": {},
     "output_type": "display_data"
    },
    {
     "data": {
      "text/plain": [
       "<Figure size 2880x720 with 0 Axes>"
      ]
     },
     "metadata": {},
     "output_type": "display_data"
    },
    {
     "data": {
      "text/plain": [
       "<Figure size 1440x648 with 0 Axes>"
      ]
     },
     "metadata": {},
     "output_type": "display_data"
    },
    {
     "data": {
      "text/plain": [
       "<Figure size 2880x720 with 0 Axes>"
      ]
     },
     "metadata": {},
     "output_type": "display_data"
    },
    {
     "data": {
      "text/plain": [
       "<Figure size 2880x648 with 0 Axes>"
      ]
     },
     "metadata": {},
     "output_type": "display_data"
    }
   ],
   "source": [
    "### Per sample charge plots ###\n",
    "\n",
    "# No normalization\n",
    "per_sample_plots_dir = 'per_sample_charge'\n",
    "try:\n",
    "    os.mkdir(per_sample_plots_dir)\n",
    "except:\n",
    "    if CLEAN_DIR:\n",
    "        shutil.rmtree(per_sample_plots_dir)\n",
    "        os.mkdir(per_sample_plots_dir)\n",
    "    else:\n",
    "        pass\n",
    "\n",
    "sample_names = set(df_charge['sample_name'].values)\n",
    "for sample_name in sample_names:\n",
    "\n",
    "    fig = plt.figure(figsize=(20, 9))\n",
    "    gs = fig.add_gridspec(2, 4)\n",
    "    ax1 = fig.add_subplot(gs[0, :])\n",
    "    ax2 = fig.add_subplot(gs[1, 1:3])\n",
    "\n",
    "    # Cyto tRNAs\n",
    "    mask = (df_charge['sample_name'] == sample_name) & (df_charge['human_codon']) & (~df_charge['mito_codon']) & (df_charge['Ncharge'] > 50) & (df_charge['single_codon'])\n",
    "    codon_list = sorted(set(df_charge['AA_codon'][mask].values), key=str.casefold)\n",
    "    g1 = sns.barplot(ax=ax1, x='AA_codon', y='charge', order=codon_list, data=df_charge[mask], capsize=.1, errwidth=2, edgecolor='black', linewidth=2, alpha=0.7)\n",
    "    g1.set_title('Cytoplasmic tRNA')\n",
    "    g1.grid(True, axis='y')\n",
    "    g1.set_ylabel('Charge (%)');\n",
    "    g1.set_xlabel('');\n",
    "    g1.set_xticklabels(g1.get_xticklabels(), rotation=90)\n",
    "\n",
    "    # mito tRNAs\n",
    "    mask = (df_charge['sample_name'] == sample_name) & (df_charge['human_codon']) & (df_charge['mito_codon']) & (df_charge['Ncharge'] > 50) & (df_charge['single_codon'])\n",
    "    codon_list = sorted(set(df_charge['AA_codon'][mask].values), key=str.casefold)\n",
    "    g2 = sns.barplot(ax=ax2, x='AA_codon', y='charge', order=codon_list, data=df_charge[mask], capsize=.1, errwidth=2, edgecolor='black', linewidth=2, alpha=0.7)\n",
    "    g2.set_title('Mitochondrial tRNA')\n",
    "    g2.grid(True, axis='y')\n",
    "    g2.set_ylabel('Charge (%)');\n",
    "    g2.set_xlabel('');\n",
    "    g2.set_xticklabels(g2.get_xticklabels(), rotation=90)\n",
    "\n",
    "    plt.tight_layout()\n",
    "    fig.savefig('{}/{}.pdf'.format(per_sample_plots_dir, sample_name))\n",
    "    fig.clear()\n",
    "    g1.clear()\n",
    "    g2.clear()\n",
    "\n",
    "    # Per transcript charge\n",
    "    fig, ax1 = plt.subplots(1, 1, figsize=(40, 10))\n",
    "    mask = (df_charge['sample_name'] == sample_name) & (df_charge['human_codon']) & (df_charge['Ncharge'] > 50) & (df_charge['unique_annotation'])\n",
    "    anno_list = sorted(set(df_charge['tRNA_annotation'][mask].values), key=str.casefold)\n",
    "    # Make color cycle for same codons:\n",
    "    anno2codon = {a: c for a, c in zip(df_charge['tRNA_annotation'][mask].values, df_charge['AA_codon'][mask].values)}\n",
    "    cmap = sns.color_palette(None, len(anno_list))\n",
    "    codons = sorted(set(df_charge[mask]['AA_codon'].values), key=str.casefold)\n",
    "    codon2color = {nam: cmap[i] for i, nam in enumerate(codons)}\n",
    "    palette = {a: codon2color[anno2codon[a]] for a in df_charge['tRNA_annotation'][mask].values}\n",
    "    g1 = sns.barplot(ax=ax1, x='tRNA_annotation', y='charge', palette=palette, order=anno_list, data=df_charge[mask], capsize=.1, errwidth=2, edgecolor='black', linewidth=2, alpha=0.7)\n",
    "    g1.grid(True, axis='y')\n",
    "    g1.set_ylabel('Charge (%)');\n",
    "    g1.set_xlabel('');\n",
    "    g1.set_xticklabels(g1.get_xticklabels(), rotation=90)\n",
    "    plt.tight_layout()\n",
    "    fig.savefig('{}/transcripts_{}.pdf'.format(per_sample_plots_dir, sample_name))\n",
    "    fig.clear()\n",
    "    g1.clear()\n",
    "    \n",
    "#### Barcode bias ####\n",
    "fig = plt.figure(figsize=(40, 9))\n",
    "gs = fig.add_gridspec(2, 4)\n",
    "ax1 = fig.add_subplot(gs[0, :])\n",
    "ax2 = fig.add_subplot(gs[1, 1:3])\n",
    "\n",
    "# Cyto tRNAs\n",
    "mask = (~df_charge['mito_codon']) & (df_charge['Ncharge'] > 50) & (df_charge['single_codon'])\n",
    "codon_list = sorted(set(df_charge['AA_codon'][mask].values), key=str.casefold)\n",
    "codon_list.pop(codon_list.index('eColiLys-AAA'))\n",
    "codon_list = ['eColiLys-AAA'] + codon_list\n",
    "g1 = sns.barplot(ax=ax1, x='AA_codon', y='charge', order=codon_list, hue_order=['l1', 'l2', 'l3', 'l4'], hue='barcode', data=df_charge[mask], capsize=.1, errwidth=2, edgecolor='black', linewidth=2, alpha=0.7)\n",
    "g1.set_title('Cytoplasmic tRNA')\n",
    "g1.grid(True, axis='y')\n",
    "g1.set_ylabel('Charge (%)');\n",
    "g1.set_xlabel('');\n",
    "g1.set_xticklabels(g1.get_xticklabels(), rotation=90)\n",
    "\n",
    "old_legend = g1.legend_\n",
    "handles = old_legend.legendHandles\n",
    "labels = ['l1', 'l2', 'l3', 'l4']\n",
    "title = 'Barcode'\n",
    "g1.legend(handles, labels, title=title, bbox_to_anchor=(1.04,1), borderaxespad=0)\n",
    "\n",
    "# mito tRNAs\n",
    "mask = (df_charge['mito_codon']) & (df_charge['Ncharge'] > 50) & (df_charge['single_codon'])\n",
    "codon_list = sorted(set(df_charge['AA_codon'][mask].values), key=str.casefold)\n",
    "g2 = sns.barplot(ax=ax2, x='AA_codon', y='charge', order=codon_list, hue_order=['l1', 'l2', 'l3', 'l4'], hue='barcode', data=df_charge[mask], capsize=.1, errwidth=2, edgecolor='black', linewidth=2, alpha=0.7)\n",
    "g2.set_title('Mitochondrial tRNA')\n",
    "g2.grid(True, axis='y')\n",
    "g2.set_ylabel('Charge (%)');\n",
    "g2.set_xlabel('');\n",
    "g2.set_xticklabels(g2.get_xticklabels(), rotation=90)\n",
    "\n",
    "old_legend = g2.legend_\n",
    "handles = old_legend.legendHandles\n",
    "labels = ['l1', 'l2', 'l3', 'l4']\n",
    "title = 'Barcode'\n",
    "g2.legend(handles, labels, title=title, bbox_to_anchor=(1.04,1), borderaxespad=0)\n",
    "\n",
    "plt.tight_layout()\n",
    "fig.savefig('{}/barcode-bias_codon-breakdown.pdf'.format(per_sample_plots_dir))\n",
    "fig.clear()\n",
    "g1.clear()\n",
    "g2.clear()\n",
    "\n",
    "# All tRNAs\n",
    "fig, ax1 = plt.subplots(1, 1, figsize=(7, 5))\n",
    "g1 = sns.barplot(ax=ax1, x='barcode', y='charge', order=['l1', 'l2', 'l3', 'l4'], data=df_charge, capsize=.1, errwidth=2, edgecolor='black', linewidth=2, alpha=0.7)\n",
    "g1.set_title('All tRNA')\n",
    "g1.grid(True, axis='y')\n",
    "g1.set_ylabel('Charge (%)');\n",
    "g1.set_xlabel('');\n",
    "plt.tight_layout()\n",
    "fig.savefig('{}/barcode-bias_all-tRNAs.pdf'.format(per_sample_plots_dir))\n",
    "fig.clear()\n",
    "g1.clear()\n",
    "\n",
    "\n",
    "\n",
    "\n",
    "\n",
    "# Normalized by E.coli Lys spike-in\n",
    "per_sample_plots_dir = 'per_sample_charge_norm'\n",
    "try:\n",
    "    os.mkdir(per_sample_plots_dir)\n",
    "except:\n",
    "    if CLEAN_DIR:\n",
    "        shutil.rmtree(per_sample_plots_dir)\n",
    "        os.mkdir(per_sample_plots_dir)\n",
    "    else:\n",
    "        pass\n",
    "\n",
    "sample_names = set(df_charge['sample_name'].values)\n",
    "for sample_name in sample_names:\n",
    "\n",
    "    fig = plt.figure(figsize=(20, 9))\n",
    "    gs = fig.add_gridspec(2, 4)\n",
    "    ax1 = fig.add_subplot(gs[0, :])\n",
    "    ax2 = fig.add_subplot(gs[1, 1:3])\n",
    "\n",
    "    # Cyto tRNAs\n",
    "    mask = (df_charge['sample_name'] == sample_name) & (df_charge['human_codon']) & (~df_charge['mito_codon']) & (df_charge['Ncharge'] > 50) & (df_charge['single_codon'])\n",
    "    codon_list = sorted(set(df_charge['AA_codon'][mask].values), key=str.casefold)\n",
    "    g1 = sns.barplot(ax=ax1, x='AA_codon', y='charge_norm', order=codon_list, data=df_charge[mask], capsize=.1, errwidth=2, edgecolor='black', linewidth=2, alpha=0.7)\n",
    "    g1.set_title('Cytoplasmic tRNA')\n",
    "    g1.grid(True, axis='y')\n",
    "    g1.set_ylabel('Charge (%)');\n",
    "    g1.set_xlabel('');\n",
    "    g1.set_xticklabels(g1.get_xticklabels(), rotation=90)\n",
    "\n",
    "    # mito tRNAs\n",
    "    mask = (df_charge['sample_name'] == sample_name) & (df_charge['human_codon']) & (df_charge['mito_codon']) & (df_charge['Ncharge'] > 50) & (df_charge['single_codon'])\n",
    "    codon_list = sorted(set(df_charge['AA_codon'][mask].values), key=str.casefold)\n",
    "    g2 = sns.barplot(ax=ax2, x='AA_codon', y='charge_norm', order=codon_list, data=df_charge[mask], capsize=.1, errwidth=2, edgecolor='black', linewidth=2, alpha=0.7)\n",
    "    g2.set_title('Mitochondrial tRNA')\n",
    "    g2.grid(True, axis='y')\n",
    "    g2.set_ylabel('Charge (%)');\n",
    "    g2.set_xlabel('');\n",
    "    g2.set_xticklabels(g2.get_xticklabels(), rotation=90)\n",
    "\n",
    "    plt.tight_layout()\n",
    "    fig.savefig('{}/{}.pdf'.format(per_sample_plots_dir, sample_name))\n",
    "    fig.clear()\n",
    "    g1.clear()\n",
    "    g2.clear()\n",
    "\n",
    "    # Per transcript charge\n",
    "    fig, ax1 = plt.subplots(1, 1, figsize=(40, 10))\n",
    "    mask = (df_charge['sample_name'] == sample_name) & (df_charge['human_codon']) & (df_charge['Ncharge'] > 50) & (df_charge['unique_annotation'])\n",
    "    anno_list = sorted(set(df_charge['tRNA_annotation'][mask].values), key=str.casefold)\n",
    "    # Make color cycle for same codons:\n",
    "    anno2codon = {a: c for a, c in zip(df_charge['tRNA_annotation'][mask].values, df_charge['AA_codon'][mask].values)}\n",
    "    cmap = sns.color_palette(None, len(anno_list))\n",
    "    codons = sorted(set(df_charge[mask]['AA_codon'].values), key=str.casefold)\n",
    "    codon2color = {nam: cmap[i] for i, nam in enumerate(codons)}\n",
    "    palette = {a: codon2color[anno2codon[a]] for a in df_charge['tRNA_annotation'][mask].values}\n",
    "    g1 = sns.barplot(ax=ax1, x='tRNA_annotation', y='charge_norm', palette=palette, order=anno_list, data=df_charge[mask], capsize=.1, errwidth=2, edgecolor='black', linewidth=2, alpha=0.7)\n",
    "    g1.grid(True, axis='y')\n",
    "    g1.set_ylabel('Charge (%)');\n",
    "    g1.set_xlabel('');\n",
    "    g1.set_xticklabels(g1.get_xticklabels(), rotation=90)\n",
    "    plt.tight_layout()\n",
    "    fig.savefig('{}/transcripts_{}.pdf'.format(per_sample_plots_dir, sample_name))\n",
    "    fig.clear()\n",
    "    g1.clear()\n",
    "    \n",
    "\n",
    "#### Barcode bias ####\n",
    "fig = plt.figure(figsize=(40, 9))\n",
    "gs = fig.add_gridspec(2, 4)\n",
    "ax1 = fig.add_subplot(gs[0, :])\n",
    "ax2 = fig.add_subplot(gs[1, 1:3])\n",
    "\n",
    "# Cyto tRNAs\n",
    "mask = (~df_charge['mito_codon']) & (df_charge['Ncharge'] > 50) & (df_charge['single_codon'])\n",
    "codon_list = sorted(set(df_charge['AA_codon'][mask].values), key=str.casefold)\n",
    "codon_list.pop(codon_list.index('eColiLys-AAA'))\n",
    "codon_list = ['eColiLys-AAA'] + codon_list\n",
    "g1 = sns.barplot(ax=ax1, x='AA_codon', y='charge_norm', order=codon_list, hue_order=['l1', 'l2', 'l3', 'l4'], hue='barcode', data=df_charge[mask], capsize=.1, errwidth=2, edgecolor='black', linewidth=2, alpha=0.7)\n",
    "g1.set_title('Cytoplasmic tRNA')\n",
    "g1.grid(True, axis='y')\n",
    "g1.set_ylabel('Charge (%)');\n",
    "g1.set_xlabel('');\n",
    "g1.set_xticklabels(g1.get_xticklabels(), rotation=90)\n",
    "\n",
    "old_legend = g1.legend_\n",
    "handles = old_legend.legendHandles\n",
    "labels = ['l1', 'l2', 'l3', 'l4']\n",
    "title = 'Barcode'\n",
    "g1.legend(handles, labels, title=title, bbox_to_anchor=(1.04,1), borderaxespad=0)\n",
    "\n",
    "# mito tRNAs\n",
    "mask = (df_charge['mito_codon']) & (df_charge['Ncharge'] > 50) & (df_charge['single_codon'])\n",
    "codon_list = sorted(set(df_charge['AA_codon'][mask].values), key=str.casefold)\n",
    "g2 = sns.barplot(ax=ax2, x='AA_codon', y='charge_norm', order=codon_list, hue_order=['l1', 'l2', 'l3', 'l4'], hue='barcode', data=df_charge[mask], capsize=.1, errwidth=2, edgecolor='black', linewidth=2, alpha=0.7)\n",
    "g2.set_title('Mitochondrial tRNA')\n",
    "g2.grid(True, axis='y')\n",
    "g2.set_ylabel('Charge (%)');\n",
    "g2.set_xlabel('');\n",
    "g2.set_xticklabels(g2.get_xticklabels(), rotation=90)\n",
    "\n",
    "old_legend = g2.legend_\n",
    "handles = old_legend.legendHandles\n",
    "labels = ['l1', 'l2', 'l3', 'l4']\n",
    "title = 'Barcode'\n",
    "g2.legend(handles, labels, title=title, bbox_to_anchor=(1.04,1), borderaxespad=0)\n",
    "\n",
    "plt.tight_layout()\n",
    "fig.savefig('{}/barcode-bias_codon-breakdown.pdf'.format(per_sample_plots_dir))\n",
    "fig.clear()\n",
    "g1.clear()\n",
    "g2.clear()\n",
    "\n",
    "# All tRNAs\n",
    "fig, ax1 = plt.subplots(1, 1, figsize=(7, 5))\n",
    "g1 = sns.barplot(ax=ax1, x='barcode', y='charge_norm', order=['l1', 'l2', 'l3', 'l4'], data=df_charge, capsize=.1, errwidth=2, edgecolor='black', linewidth=2, alpha=0.7)\n",
    "g1.set_title('All tRNA')\n",
    "g1.grid(True, axis='y')\n",
    "g1.set_ylabel('Charge (%)');\n",
    "g1.set_xlabel('');\n",
    "plt.tight_layout()\n",
    "fig.savefig('{}/barcode-bias_all-tRNAs.pdf'.format(per_sample_plots_dir))\n",
    "fig.clear()\n",
    "g1.clear()\n",
    "plt.close(fig)"
   ]
  },
  {
   "cell_type": "code",
   "execution_count": null,
   "metadata": {},
   "outputs": [],
   "source": []
  },
  {
   "cell_type": "code",
   "execution_count": 9,
   "metadata": {},
   "outputs": [
    {
     "data": {
      "text/html": [
       "<div>\n",
       "<style scoped>\n",
       "    .dataframe tbody tr th:only-of-type {\n",
       "        vertical-align: middle;\n",
       "    }\n",
       "\n",
       "    .dataframe tbody tr th {\n",
       "        vertical-align: top;\n",
       "    }\n",
       "\n",
       "    .dataframe thead th {\n",
       "        text-align: right;\n",
       "    }\n",
       "</style>\n",
       "<table border=\"1\" class=\"dataframe\">\n",
       "  <thead>\n",
       "    <tr style=\"text-align: right;\">\n",
       "      <th></th>\n",
       "      <th>sample_name</th>\n",
       "      <th>replicate</th>\n",
       "      <th>barcode</th>\n",
       "      <th>tRNA_annotation</th>\n",
       "      <th>tRNA_annotation_len</th>\n",
       "      <th>unique_annotation</th>\n",
       "      <th>codon</th>\n",
       "      <th>anticodon</th>\n",
       "      <th>amino_acid</th>\n",
       "      <th>mito_codon</th>\n",
       "      <th>human_codon</th>\n",
       "      <th>AA_codon</th>\n",
       "      <th>plot_group</th>\n",
       "      <th>hue_name</th>\n",
       "      <th>hue_value</th>\n",
       "      <th>hue_order</th>\n",
       "      <th>single_codon</th>\n",
       "      <th>charge</th>\n",
       "      <th>Ncharge</th>\n",
       "      <th>charge_norm</th>\n",
       "    </tr>\n",
       "  </thead>\n",
       "  <tbody>\n",
       "    <tr>\n",
       "      <th>0</th>\n",
       "      <td>Li1</td>\n",
       "      <td>1</td>\n",
       "      <td>l1</td>\n",
       "      <td>Escherichia_coli_str_K_12_substr_MG1655_tRNA-e...</td>\n",
       "      <td>76</td>\n",
       "      <td>True</td>\n",
       "      <td>AAA</td>\n",
       "      <td>TTT</td>\n",
       "      <td>eColiLys</td>\n",
       "      <td>False</td>\n",
       "      <td>False</td>\n",
       "      <td>eColiLys-AAA</td>\n",
       "      <td>Liver-tissue</td>\n",
       "      <td>Treatment</td>\n",
       "      <td>Li1</td>\n",
       "      <td>5</td>\n",
       "      <td>True</td>\n",
       "      <td>51.421584</td>\n",
       "      <td>3271</td>\n",
       "      <td>76.195671</td>\n",
       "    </tr>\n",
       "    <tr>\n",
       "      <th>1</th>\n",
       "      <td>Li1</td>\n",
       "      <td>1</td>\n",
       "      <td>l1</td>\n",
       "      <td>Mus_musculus_mito_tRNA-Ala-TGC</td>\n",
       "      <td>72</td>\n",
       "      <td>True</td>\n",
       "      <td>GCA</td>\n",
       "      <td>TGC</td>\n",
       "      <td>Ala</td>\n",
       "      <td>True</td>\n",
       "      <td>False</td>\n",
       "      <td>Ala-GCA</td>\n",
       "      <td>Liver-tissue</td>\n",
       "      <td>Treatment</td>\n",
       "      <td>Li1</td>\n",
       "      <td>5</td>\n",
       "      <td>True</td>\n",
       "      <td>73.258427</td>\n",
       "      <td>2670</td>\n",
       "      <td>89.228843</td>\n",
       "    </tr>\n",
       "    <tr>\n",
       "      <th>2</th>\n",
       "      <td>Li1</td>\n",
       "      <td>1</td>\n",
       "      <td>l1</td>\n",
       "      <td>Mus_musculus_mito_tRNA-Arg-TCG</td>\n",
       "      <td>71</td>\n",
       "      <td>True</td>\n",
       "      <td>CGA</td>\n",
       "      <td>TCG</td>\n",
       "      <td>Arg</td>\n",
       "      <td>True</td>\n",
       "      <td>False</td>\n",
       "      <td>Arg-CGA</td>\n",
       "      <td>Liver-tissue</td>\n",
       "      <td>Treatment</td>\n",
       "      <td>Li1</td>\n",
       "      <td>5</td>\n",
       "      <td>True</td>\n",
       "      <td>17.499494</td>\n",
       "      <td>4943</td>\n",
       "      <td>39.077067</td>\n",
       "    </tr>\n",
       "    <tr>\n",
       "      <th>3</th>\n",
       "      <td>Li1</td>\n",
       "      <td>1</td>\n",
       "      <td>l1</td>\n",
       "      <td>Mus_musculus_mito_tRNA-Asn-GTT</td>\n",
       "      <td>74</td>\n",
       "      <td>True</td>\n",
       "      <td>AAC</td>\n",
       "      <td>GTT</td>\n",
       "      <td>Asn</td>\n",
       "      <td>True</td>\n",
       "      <td>False</td>\n",
       "      <td>Asn-AAC</td>\n",
       "      <td>Liver-tissue</td>\n",
       "      <td>Treatment</td>\n",
       "      <td>Li1</td>\n",
       "      <td>5</td>\n",
       "      <td>True</td>\n",
       "      <td>42.408145</td>\n",
       "      <td>4518</td>\n",
       "      <td>69.008524</td>\n",
       "    </tr>\n",
       "    <tr>\n",
       "      <th>4</th>\n",
       "      <td>Li1</td>\n",
       "      <td>1</td>\n",
       "      <td>l1</td>\n",
       "      <td>Mus_musculus_mito_tRNA-Asp-GTC</td>\n",
       "      <td>73</td>\n",
       "      <td>True</td>\n",
       "      <td>GAC</td>\n",
       "      <td>GTC</td>\n",
       "      <td>Asp</td>\n",
       "      <td>True</td>\n",
       "      <td>False</td>\n",
       "      <td>Asp-GAC</td>\n",
       "      <td>Liver-tissue</td>\n",
       "      <td>Treatment</td>\n",
       "      <td>Li1</td>\n",
       "      <td>5</td>\n",
       "      <td>True</td>\n",
       "      <td>50.105605</td>\n",
       "      <td>6155</td>\n",
       "      <td>75.227501</td>\n",
       "    </tr>\n",
       "    <tr>\n",
       "      <th>...</th>\n",
       "      <td>...</td>\n",
       "      <td>...</td>\n",
       "      <td>...</td>\n",
       "      <td>...</td>\n",
       "      <td>...</td>\n",
       "      <td>...</td>\n",
       "      <td>...</td>\n",
       "      <td>...</td>\n",
       "      <td>...</td>\n",
       "      <td>...</td>\n",
       "      <td>...</td>\n",
       "      <td>...</td>\n",
       "      <td>...</td>\n",
       "      <td>...</td>\n",
       "      <td>...</td>\n",
       "      <td>...</td>\n",
       "      <td>...</td>\n",
       "      <td>...</td>\n",
       "      <td>...</td>\n",
       "      <td>...</td>\n",
       "    </tr>\n",
       "    <tr>\n",
       "      <th>3964</th>\n",
       "      <td>Mu1</td>\n",
       "      <td>1</td>\n",
       "      <td>l1</td>\n",
       "      <td>Mus_musculus_tRNA-iMet-CAT-1-1</td>\n",
       "      <td>75</td>\n",
       "      <td>True</td>\n",
       "      <td>AUG</td>\n",
       "      <td>CAT</td>\n",
       "      <td>iMet</td>\n",
       "      <td>False</td>\n",
       "      <td>False</td>\n",
       "      <td>iMet-AUG</td>\n",
       "      <td>Muscle-tissue</td>\n",
       "      <td>Treatment</td>\n",
       "      <td>Mu1</td>\n",
       "      <td>9</td>\n",
       "      <td>True</td>\n",
       "      <td>73.716228</td>\n",
       "      <td>16767</td>\n",
       "      <td>89.452603</td>\n",
       "    </tr>\n",
       "    <tr>\n",
       "      <th>3965</th>\n",
       "      <td>Mu1</td>\n",
       "      <td>1</td>\n",
       "      <td>l1</td>\n",
       "      <td>Mus_musculus_tRNA-iMet-CAT-1-1@Mus_musculus_tR...</td>\n",
       "      <td>75</td>\n",
       "      <td>False</td>\n",
       "      <td>AUG</td>\n",
       "      <td>CAT</td>\n",
       "      <td>iMet</td>\n",
       "      <td>False</td>\n",
       "      <td>False</td>\n",
       "      <td>iMet-AUG</td>\n",
       "      <td>Muscle-tissue</td>\n",
       "      <td>Treatment</td>\n",
       "      <td>Mu1</td>\n",
       "      <td>9</td>\n",
       "      <td>True</td>\n",
       "      <td>72.248062</td>\n",
       "      <td>645</td>\n",
       "      <td>88.729046</td>\n",
       "    </tr>\n",
       "    <tr>\n",
       "      <th>3966</th>\n",
       "      <td>Mu1</td>\n",
       "      <td>1</td>\n",
       "      <td>l1</td>\n",
       "      <td>Mus_musculus_tRNA-iMet-CAT-1-1@Mus_musculus_tR...</td>\n",
       "      <td>75</td>\n",
       "      <td>False</td>\n",
       "      <td>AUG</td>\n",
       "      <td>CAT</td>\n",
       "      <td>iMet</td>\n",
       "      <td>False</td>\n",
       "      <td>False</td>\n",
       "      <td>iMet-AUG</td>\n",
       "      <td>Muscle-tissue</td>\n",
       "      <td>Treatment</td>\n",
       "      <td>Mu1</td>\n",
       "      <td>9</td>\n",
       "      <td>True</td>\n",
       "      <td>90.909091</td>\n",
       "      <td>11</td>\n",
       "      <td>96.798908</td>\n",
       "    </tr>\n",
       "    <tr>\n",
       "      <th>3967</th>\n",
       "      <td>Mu1</td>\n",
       "      <td>1</td>\n",
       "      <td>l1</td>\n",
       "      <td>Mus_musculus_tRNA-iMet-CAT-2-1</td>\n",
       "      <td>75</td>\n",
       "      <td>True</td>\n",
       "      <td>AUG</td>\n",
       "      <td>CAT</td>\n",
       "      <td>iMet</td>\n",
       "      <td>False</td>\n",
       "      <td>False</td>\n",
       "      <td>iMet-AUG</td>\n",
       "      <td>Muscle-tissue</td>\n",
       "      <td>Treatment</td>\n",
       "      <td>Mu1</td>\n",
       "      <td>9</td>\n",
       "      <td>True</td>\n",
       "      <td>88.888889</td>\n",
       "      <td>9</td>\n",
       "      <td>96.030402</td>\n",
       "    </tr>\n",
       "    <tr>\n",
       "      <th>3968</th>\n",
       "      <td>Mu1</td>\n",
       "      <td>1</td>\n",
       "      <td>l1</td>\n",
       "      <td>Mus_musculus_tRNA-iMet-CAT-3-1</td>\n",
       "      <td>75</td>\n",
       "      <td>True</td>\n",
       "      <td>AUG</td>\n",
       "      <td>CAT</td>\n",
       "      <td>iMet</td>\n",
       "      <td>False</td>\n",
       "      <td>False</td>\n",
       "      <td>iMet-AUG</td>\n",
       "      <td>Muscle-tissue</td>\n",
       "      <td>Treatment</td>\n",
       "      <td>Mu1</td>\n",
       "      <td>9</td>\n",
       "      <td>True</td>\n",
       "      <td>50.000000</td>\n",
       "      <td>10</td>\n",
       "      <td>75.148696</td>\n",
       "    </tr>\n",
       "  </tbody>\n",
       "</table>\n",
       "<p>3969 rows × 20 columns</p>\n",
       "</div>"
      ],
      "text/plain": [
       "     sample_name  replicate barcode  \\\n",
       "0            Li1          1      l1   \n",
       "1            Li1          1      l1   \n",
       "2            Li1          1      l1   \n",
       "3            Li1          1      l1   \n",
       "4            Li1          1      l1   \n",
       "...          ...        ...     ...   \n",
       "3964         Mu1          1      l1   \n",
       "3965         Mu1          1      l1   \n",
       "3966         Mu1          1      l1   \n",
       "3967         Mu1          1      l1   \n",
       "3968         Mu1          1      l1   \n",
       "\n",
       "                                        tRNA_annotation  tRNA_annotation_len  \\\n",
       "0     Escherichia_coli_str_K_12_substr_MG1655_tRNA-e...                   76   \n",
       "1                        Mus_musculus_mito_tRNA-Ala-TGC                   72   \n",
       "2                        Mus_musculus_mito_tRNA-Arg-TCG                   71   \n",
       "3                        Mus_musculus_mito_tRNA-Asn-GTT                   74   \n",
       "4                        Mus_musculus_mito_tRNA-Asp-GTC                   73   \n",
       "...                                                 ...                  ...   \n",
       "3964                     Mus_musculus_tRNA-iMet-CAT-1-1                   75   \n",
       "3965  Mus_musculus_tRNA-iMet-CAT-1-1@Mus_musculus_tR...                   75   \n",
       "3966  Mus_musculus_tRNA-iMet-CAT-1-1@Mus_musculus_tR...                   75   \n",
       "3967                     Mus_musculus_tRNA-iMet-CAT-2-1                   75   \n",
       "3968                     Mus_musculus_tRNA-iMet-CAT-3-1                   75   \n",
       "\n",
       "      unique_annotation codon anticodon amino_acid  mito_codon  human_codon  \\\n",
       "0                  True   AAA       TTT   eColiLys       False        False   \n",
       "1                  True   GCA       TGC        Ala        True        False   \n",
       "2                  True   CGA       TCG        Arg        True        False   \n",
       "3                  True   AAC       GTT        Asn        True        False   \n",
       "4                  True   GAC       GTC        Asp        True        False   \n",
       "...                 ...   ...       ...        ...         ...          ...   \n",
       "3964               True   AUG       CAT       iMet       False        False   \n",
       "3965              False   AUG       CAT       iMet       False        False   \n",
       "3966              False   AUG       CAT       iMet       False        False   \n",
       "3967               True   AUG       CAT       iMet       False        False   \n",
       "3968               True   AUG       CAT       iMet       False        False   \n",
       "\n",
       "          AA_codon     plot_group   hue_name hue_value  hue_order  \\\n",
       "0     eColiLys-AAA   Liver-tissue  Treatment       Li1          5   \n",
       "1          Ala-GCA   Liver-tissue  Treatment       Li1          5   \n",
       "2          Arg-CGA   Liver-tissue  Treatment       Li1          5   \n",
       "3          Asn-AAC   Liver-tissue  Treatment       Li1          5   \n",
       "4          Asp-GAC   Liver-tissue  Treatment       Li1          5   \n",
       "...            ...            ...        ...       ...        ...   \n",
       "3964      iMet-AUG  Muscle-tissue  Treatment       Mu1          9   \n",
       "3965      iMet-AUG  Muscle-tissue  Treatment       Mu1          9   \n",
       "3966      iMet-AUG  Muscle-tissue  Treatment       Mu1          9   \n",
       "3967      iMet-AUG  Muscle-tissue  Treatment       Mu1          9   \n",
       "3968      iMet-AUG  Muscle-tissue  Treatment       Mu1          9   \n",
       "\n",
       "      single_codon     charge  Ncharge  charge_norm  \n",
       "0             True  51.421584     3271    76.195671  \n",
       "1             True  73.258427     2670    89.228843  \n",
       "2             True  17.499494     4943    39.077067  \n",
       "3             True  42.408145     4518    69.008524  \n",
       "4             True  50.105605     6155    75.227501  \n",
       "...            ...        ...      ...          ...  \n",
       "3964          True  73.716228    16767    89.452603  \n",
       "3965          True  72.248062      645    88.729046  \n",
       "3966          True  90.909091       11    96.798908  \n",
       "3967          True  88.888889        9    96.030402  \n",
       "3968          True  50.000000       10    75.148696  \n",
       "\n",
       "[3969 rows x 20 columns]"
      ]
     },
     "execution_count": 9,
     "metadata": {},
     "output_type": "execute_result"
    }
   ],
   "source": [
    "df_charge"
   ]
  },
  {
   "cell_type": "code",
   "execution_count": null,
   "metadata": {},
   "outputs": [],
   "source": []
  },
  {
   "cell_type": "code",
   "execution_count": 10,
   "metadata": {},
   "outputs": [
    {
     "data": {
      "text/plain": [
       "<Figure size 2688x648 with 0 Axes>"
      ]
     },
     "metadata": {},
     "output_type": "display_data"
    },
    {
     "data": {
      "text/plain": [
       "<Figure size 2688x648 with 0 Axes>"
      ]
     },
     "metadata": {},
     "output_type": "display_data"
    },
    {
     "data": {
      "text/plain": [
       "<Figure size 2688x648 with 0 Axes>"
      ]
     },
     "metadata": {},
     "output_type": "display_data"
    },
    {
     "data": {
      "text/plain": [
       "<Figure size 2688x648 with 0 Axes>"
      ]
     },
     "metadata": {},
     "output_type": "display_data"
    }
   ],
   "source": [
    "### Per group charge plots ###\n",
    "\n",
    "# No normalization\n",
    "per_group_plots_dir = 'per_group_charge'\n",
    "try:\n",
    "    os.mkdir(per_group_plots_dir)\n",
    "except:\n",
    "    if CLEAN_DIR:\n",
    "        shutil.rmtree(per_group_plots_dir)\n",
    "        os.mkdir(per_group_plots_dir)\n",
    "    else:\n",
    "        pass\n",
    "\n",
    "plot_groups = set(df_charge['plot_group'].values)\n",
    "for plot_group in plot_groups:\n",
    "    Ngrp = len(set(df_charge[(df_charge['plot_group'] == plot_group)]['hue_order'].values))\n",
    "\n",
    "    fig = plt.figure(figsize=(28/3*Ngrp, 9))\n",
    "    gs = fig.add_gridspec(2, 4)\n",
    "    ax1 = fig.add_subplot(gs[0, :])\n",
    "    ax2 = fig.add_subplot(gs[1, 1:3])\n",
    "\n",
    "    # Cyto tRNAs\n",
    "    # mask = (df_charge['plot_group'] == plot_group) & (df_charge['human_codon']) & (~df_charge['mito_codon']) & (df_charge['Ncharge'] > 50) & (df_charge['single_codon'])\n",
    "    mask = (df_charge['plot_group'] == plot_group) & (~df_charge['mito_codon']) & (df_charge['Ncharge'] > 50) & (df_charge['single_codon'])\n",
    "    if sum(mask) == 0:\n",
    "        continue\n",
    "    hue_order = [t[0] for t in sorted(dict(zip(df_charge[mask]['hue_value'].values, df_charge[mask]['hue_order'].values)).items(), key=lambda x: x[1])]\n",
    "    \n",
    "    codon_list = sorted(set(df_charge['AA_codon'][mask].values), key=str.casefold)\n",
    "    g1 = sns.barplot(ax=ax1, x='AA_codon', y='charge', order=codon_list, hue='hue_value', hue_order=hue_order, data=df_charge[mask], capsize=.1, errwidth=2, edgecolor='black', linewidth=2, alpha=0.7)\n",
    "    g1.set_title('Cytoplasmic tRNA')\n",
    "    g1.grid(True, axis='y')\n",
    "    g1.set_ylabel('Charge (%)');\n",
    "    g1.set_xlabel('');\n",
    "    g1.set_xticklabels(g1.get_xticklabels(), rotation=90)\n",
    "    old_legend = g1.legend_\n",
    "    handles = old_legend.legendHandles\n",
    "    labels = hue_order\n",
    "    title = df_charge[mask]['hue_name'].values[0]\n",
    "    g1.legend(handles, labels, title=title, bbox_to_anchor=(1.01,1), borderaxespad=0)\n",
    " \n",
    "    # mito tRNAs\n",
    "    # mask = (df_charge['plot_group'] == plot_group) & (df_charge['human_codon']) & (df_charge['mito_codon']) & (df_charge['Ncharge'] > 50) & (df_charge['single_codon'])\n",
    "    mask = (df_charge['plot_group'] == plot_group) & (df_charge['mito_codon']) & (df_charge['Ncharge'] > 50) & (df_charge['single_codon'])\n",
    "    if sum(mask) == 0:\n",
    "        continue\n",
    "    codon_list = sorted(set(df_charge['AA_codon'][mask].values), key=str.casefold)\n",
    "    g2 = sns.barplot(ax=ax2, x='AA_codon', y='charge', order=codon_list, hue='hue_value', hue_order=hue_order, data=df_charge[mask], capsize=.1, errwidth=2, edgecolor='black', linewidth=2, alpha=0.7)\n",
    "    g2.set_title('Mitochondrial tRNA')\n",
    "    g2.grid(True, axis='y')\n",
    "    g2.set_ylabel('Charge (%)');\n",
    "    g2.set_xlabel('');\n",
    "    g2.set_xticklabels(g2.get_xticklabels(), rotation=90)\n",
    "    g2.legend_.remove()\n",
    "\n",
    "    plt.tight_layout()\n",
    "    fig.savefig('{}/{}.pdf'.format(per_group_plots_dir, plot_group))\n",
    "    fig.clear()\n",
    "    g1.clear()\n",
    "    g2.clear()\n",
    "\n",
    "\n",
    "\n",
    "\n",
    "\n",
    "    \n",
    "# Normalized by E.coli Lys spike-in\n",
    "per_group_plots_dir = 'per_group_charge_norm'\n",
    "try:\n",
    "    os.mkdir(per_group_plots_dir)\n",
    "except:\n",
    "    if CLEAN_DIR:\n",
    "        shutil.rmtree(per_group_plots_dir)\n",
    "        os.mkdir(per_group_plots_dir)\n",
    "    else:\n",
    "        pass\n",
    "\n",
    "plot_groups = set(df_charge['plot_group'].values)\n",
    "for plot_group in plot_groups:\n",
    "    Ngrp = len(set(df_charge[(df_charge['plot_group'] == plot_group)]['hue_order'].values))\n",
    "\n",
    "    fig = plt.figure(figsize=(28/3*Ngrp, 9))\n",
    "    gs = fig.add_gridspec(2, 4)\n",
    "    ax1 = fig.add_subplot(gs[0, :])\n",
    "    ax2 = fig.add_subplot(gs[1, 1:3])\n",
    "\n",
    "    # Cyto tRNAs\n",
    "    #mask = (df_charge['plot_group'] == plot_group) & (df_charge['human_codon']) & (~df_charge['mito_codon']) & (df_charge['Ncharge'] > 50) & (df_charge['single_codon'])\n",
    "    mask = (df_charge['plot_group'] == plot_group) & (~df_charge['mito_codon']) & (df_charge['Ncharge'] > 50) & (df_charge['single_codon'])\n",
    "    if sum(mask) == 0:\n",
    "        continue\n",
    "    hue_order = [t[0] for t in sorted(dict(zip(df_charge[mask]['hue_value'].values, df_charge[mask]['hue_order'].values)).items(), key=lambda x: x[1])]\n",
    "    \n",
    "    codon_list = sorted(set(df_charge['AA_codon'][mask].values), key=str.casefold)\n",
    "    g1 = sns.barplot(ax=ax1, x='AA_codon', y='charge_norm', order=codon_list, hue='hue_value', hue_order=hue_order, data=df_charge[mask], capsize=.1, errwidth=2, edgecolor='black', linewidth=2, alpha=0.7)\n",
    "    g1.set_title('Cytoplasmic tRNA')\n",
    "    g1.grid(True, axis='y')\n",
    "    g1.set_ylabel('Charge (%)');\n",
    "    g1.set_xlabel('');\n",
    "    g1.set_xticklabels(g1.get_xticklabels(), rotation=90)\n",
    "    old_legend = g1.legend_\n",
    "    handles = old_legend.legendHandles\n",
    "    labels = hue_order\n",
    "    title = df_charge[mask]['hue_name'].values[0]\n",
    "    g1.legend(handles, labels, title=title, bbox_to_anchor=(1.01,1), borderaxespad=0)\n",
    " \n",
    "    # mito tRNAs\n",
    "    #mask = (df_charge['plot_group'] == plot_group) & (df_charge['human_codon']) & (df_charge['mito_codon']) & (df_charge['Ncharge'] > 50) & (df_charge['single_codon'])\n",
    "    mask = (df_charge['plot_group'] == plot_group) & (df_charge['mito_codon']) & (df_charge['Ncharge'] > 50) & (df_charge['single_codon'])\n",
    "    if sum(mask) == 0:\n",
    "        continue\n",
    "    codon_list = sorted(set(df_charge['AA_codon'][mask].values), key=str.casefold)\n",
    "    g2 = sns.barplot(ax=ax2, x='AA_codon', y='charge_norm', order=codon_list, hue='hue_value', hue_order=hue_order, data=df_charge[mask], capsize=.1, errwidth=2, edgecolor='black', linewidth=2, alpha=0.7)\n",
    "    g2.set_title('Mitochondrial tRNA')\n",
    "    g2.grid(True, axis='y')\n",
    "    g2.set_ylabel('Charge (%)');\n",
    "    g2.set_xlabel('');\n",
    "    g2.set_xticklabels(g2.get_xticklabels(), rotation=90)\n",
    "    g2.legend_.remove()\n",
    "\n",
    "    plt.tight_layout()\n",
    "    fig.savefig('{}/{}.pdf'.format(per_group_plots_dir, plot_group))\n",
    "    fig.clear()\n",
    "    g1.clear()\n",
    "    g2.clear()\n"
   ]
  },
  {
   "cell_type": "code",
   "execution_count": null,
   "metadata": {},
   "outputs": [],
   "source": []
  },
  {
   "cell_type": "code",
   "execution_count": null,
   "metadata": {},
   "outputs": [],
   "source": []
  },
  {
   "cell_type": "code",
   "execution_count": null,
   "metadata": {},
   "outputs": [],
   "source": []
  },
  {
   "cell_type": "code",
   "execution_count": null,
   "metadata": {},
   "outputs": [],
   "source": []
  },
  {
   "cell_type": "code",
   "execution_count": null,
   "metadata": {},
   "outputs": [],
   "source": []
  },
  {
   "cell_type": "code",
   "execution_count": null,
   "metadata": {},
   "outputs": [],
   "source": []
  },
  {
   "cell_type": "code",
   "execution_count": null,
   "metadata": {},
   "outputs": [],
   "source": []
  },
  {
   "cell_type": "code",
   "execution_count": 9,
   "metadata": {},
   "outputs": [],
   "source": []
  },
  {
   "cell_type": "code",
   "execution_count": null,
   "metadata": {},
   "outputs": [],
   "source": []
  },
  {
   "cell_type": "code",
   "execution_count": null,
   "metadata": {},
   "outputs": [],
   "source": []
  },
  {
   "cell_type": "code",
   "execution_count": 58,
   "metadata": {},
   "outputs": [
    {
     "data": {
      "image/png": "[encoded data removed]",
      "text/plain": [
       "<Figure size 1440x316.8 with 1 Axes>"
      ]
     },
     "metadata": {},
     "output_type": "display_data"
    }
   ],
   "source": [
    "mask = (df_charge['human_codon']) & (~df_charge['mito_codon']) & (df_charge['barcode'] != 'l4')\n",
    "codon_list = sorted(set(df_charge['AA_codon'][mask].values), key=str.casefold)\n",
    "\n",
    "fig, ax1 = plt.subplots(1, 1, figsize=(20, 4.4))\n",
    "\n",
    "g1 = sns.barplot(ax=ax1, x='AA_codon', y='charge_norm', hue='sample_name', order=codon_list, hue_order=['Rich', 'L', 'A', 'U'], data=df_charge[mask], capsize=.1, errwidth=2, edgecolor='black', linewidth=2, alpha=0.7)\n",
    "g1.grid(True, axis='y')\n",
    "g1.set_ylabel('Charge (%)');\n",
    "g1.set_xlabel('');\n",
    "g1.set_xticklabels(g1.get_xticklabels(), rotation=90)\n",
    "\n",
    "old_legend = g1.legend_\n",
    "handles = old_legend.legendHandles\n",
    "labels = ['Rich', 'No Leu', 'No Arg', '5 μM UCPH']\n",
    "title = 'Treatment'\n",
    "g1.legend(handles, labels, title=title, bbox_to_anchor=(1.04,1), borderaxespad=0)\n",
    "\n",
    "\n",
    "plt.tight_layout()\n",
    "fig.savefig('mito.pdf')"
   ]
  },
  {
   "cell_type": "code",
   "execution_count": null,
   "metadata": {},
   "outputs": [],
   "source": []
  },
  {
   "cell_type": "code",
   "execution_count": null,
   "metadata": {},
   "outputs": [],
   "source": []
  },
  {
   "cell_type": "code",
   "execution_count": null,
   "metadata": {},
   "outputs": [],
   "source": []
  },
  {
   "cell_type": "code",
   "execution_count": 139,
   "metadata": {},
   "outputs": [],
   "source": []
  },
  {
   "cell_type": "code",
   "execution_count": null,
   "metadata": {},
   "outputs": [],
   "source": []
  },
  {
   "cell_type": "code",
   "execution_count": null,
   "metadata": {},
   "outputs": [],
   "source": []
  },
  {
   "cell_type": "code",
   "execution_count": null,
   "metadata": {},
   "outputs": [],
   "source": []
  },
  {
   "cell_type": "code",
   "execution_count": null,
   "metadata": {},
   "outputs": [],
   "source": []
  },
  {
   "cell_type": "code",
   "execution_count": null,
   "metadata": {},
   "outputs": [],
   "source": []
  },
  {
   "cell_type": "code",
   "execution_count": null,
   "metadata": {},
   "outputs": [],
   "source": []
  },
  {
   "cell_type": "code",
   "execution_count": null,
   "metadata": {},
   "outputs": [],
   "source": []
  },
  {
   "cell_type": "code",
   "execution_count": null,
   "metadata": {},
   "outputs": [],
   "source": []
  },
  {
   "cell_type": "code",
   "execution_count": 144,
   "metadata": {},
   "outputs": [],
   "source": []
  },
  {
   "cell_type": "code",
   "execution_count": null,
   "metadata": {},
   "outputs": [],
   "source": []
  },
  {
   "cell_type": "code",
   "execution_count": null,
   "metadata": {},
   "outputs": [],
   "source": []
  },
  {
   "cell_type": "code",
   "execution_count": null,
   "metadata": {},
   "outputs": [],
   "source": []
  },
  {
   "cell_type": "code",
   "execution_count": null,
   "metadata": {},
   "outputs": [],
   "source": []
  },
  {
   "cell_type": "code",
   "execution_count": null,
   "metadata": {},
   "outputs": [],
   "source": []
  },
  {
   "cell_type": "code",
   "execution_count": null,
   "metadata": {},
   "outputs": [],
   "source": []
  }
 ],
 "metadata": {
  "kernelspec": {
   "display_name": "Python 3",
   "language": "python",
   "name": "python3"
  },
  "language_info": {
   "codemirror_mode": {
    "name": "ipython",
    "version": 3
   },
   "file_extension": ".py",
   "mimetype": "text/x-python",
   "name": "python",
   "nbconvert_exporter": "python",
   "pygments_lexer": "ipython3",
   "version": "3.8.5"
  }
 },
 "nbformat": 4,
 "nbformat_minor": 4
}
