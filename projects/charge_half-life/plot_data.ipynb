{
 "cells": [
  {
   "cell_type": "code",
   "execution_count": null,
   "metadata": {},
   "outputs": [],
   "source": []
  },
  {
   "cell_type": "code",
   "execution_count": 1,
   "metadata": {},
   "outputs": [],
   "source": [
    "%load_ext autoreload\n",
    "%autoreload 2\n",
    "\n",
    "import os, sys, shutil, bz2\n",
    "from pathlib import Path\n",
    "import pandas as pd\n",
    "pd.set_option('display.max_columns', 50)\n",
    "import numpy as np\n",
    "from numpy.random import Generator, PCG64\n",
    "rng_pg = Generator(PCG64())\n",
    "from scipy.optimize import newton, minimize, fsolve\n",
    "from scipy.optimize import nnls\n",
    "\n",
    "### Plotting imports ###\n",
    "import seaborn as sns\n",
    "import matplotlib.pyplot as plt\n",
    "import matplotlib.colors as mcolors\n",
    "import matplotlib as mpl\n",
    "import matplotlib.ticker as ticker\n",
    "import matplotlib.gridspec as gridspec\n",
    "palette = list(mcolors.TABLEAU_COLORS.keys())\n",
    "sns.set_theme(style=\"ticks\", palette=\"muted\")\n",
    "sns.set_context(\"notebook\")\n",
    "%matplotlib inline"
   ]
  },
  {
   "cell_type": "code",
   "execution_count": 2,
   "metadata": {},
   "outputs": [
    {
     "name": "stdout",
     "output_type": "stream",
     "text": [
      "Notebook is in: /Users/krdav/Google Drive/MCB/Sullivan_lab/tRNA-charge-seq/projects/charge_half-life\n",
      "Repo is in: /Users/krdav/Google Drive/MCB/Sullivan_lab/tRNA-charge-seq\n"
     ]
    }
   ],
   "source": [
    "# Navigate back to NBdir in case of re-running a code block:\n",
    "if not 'NBdir' in globals():\n",
    "    NBdir = os.getcwd()\n",
    "print('Notebook is in: {}'.format(NBdir))\n",
    "os.chdir(NBdir)  # If you changed the current working dir, this will take you back to the notebook dir.\n",
    "\n",
    "# Define the path to the repo folder.\n",
    "# Change if necessary.\n",
    "homedir = '/'.join(NBdir.split('/')[0:-2])\n",
    "print('Repo is in: {}'.format(homedir))\n",
    "sys.path.insert(1, homedir)\n",
    "from src.stats_collection import STATS_collection\n",
    "from src.plotting import TRNA_plot\n",
    "from src.curve_fitting import loss_func_c1, loss_func_l1, loss_func_l2, hl_bsl_fit, bootstrap_hl, bootstrap_hl_fast\n",
    "\n",
    "# These are default folder names for data and raw fastq files\n",
    "# relative to the folder in which this notebook is in:\n",
    "data_dir = 'data'\n",
    "stats_dir = 'stats_collection'\n",
    "plotting_dir = 'plotting'"
   ]
  },
  {
   "cell_type": "code",
   "execution_count": null,
   "metadata": {},
   "outputs": [],
   "source": []
  },
  {
   "cell_type": "markdown",
   "metadata": {},
   "source": [
    "### Settings"
   ]
  },
  {
   "cell_type": "code",
   "execution_count": 3,
   "metadata": {},
   "outputs": [],
   "source": [
    "sample_list_fnam = 'sample_list.xlsx'\n",
    "sample_df = pd.read_excel('{}/{}'.format(NBdir, sample_list_fnam))\n",
    "\n",
    "# Make a dictionary with paths used for data processing:\n",
    "dir_dict = dict(NBdir = NBdir,\n",
    "                data_dir = data_dir,\n",
    "                stats_dir = stats_dir,\n",
    "                plotting_dir = plotting_dir)"
   ]
  },
  {
   "cell_type": "code",
   "execution_count": null,
   "metadata": {},
   "outputs": [],
   "source": []
  },
  {
   "cell_type": "code",
   "execution_count": 4,
   "metadata": {},
   "outputs": [
    {
     "data": {
      "text/plain": [
       "{'NBdir': '/Users/krdav/Google Drive/MCB/Sullivan_lab/tRNA-charge-seq/projects/charge_half-life',\n",
       " 'data_dir': 'data',\n",
       " 'stats_dir': 'stats_collection',\n",
       " 'plotting_dir': 'plotting'}"
      ]
     },
     "execution_count": 4,
     "metadata": {},
     "output_type": "execute_result"
    }
   ],
   "source": [
    "dir_dict"
   ]
  },
  {
   "cell_type": "code",
   "execution_count": null,
   "metadata": {},
   "outputs": [],
   "source": []
  },
  {
   "cell_type": "code",
   "execution_count": null,
   "metadata": {},
   "outputs": [],
   "source": []
  },
  {
   "cell_type": "code",
   "execution_count": null,
   "metadata": {},
   "outputs": [],
   "source": []
  },
  {
   "cell_type": "code",
   "execution_count": 5,
   "metadata": {},
   "outputs": [
    {
     "name": "stdout",
     "output_type": "stream",
     "text": [
      "Folder exists and overwrite set to false... Doing nothing.\n"
     ]
    }
   ],
   "source": [
    "# Get charge dataframe:\n",
    "plot_obj = TRNA_plot(dir_dict, sample_df=sample_df, \\\n",
    "                     stats_fnam='ALL_stats_aggregate.csv', \\\n",
    "                     overwrite_dir=False)\n",
    "plot_obj.get_charge_df()\n",
    "\n"
   ]
  },
  {
   "cell_type": "code",
   "execution_count": null,
   "metadata": {},
   "outputs": [],
   "source": []
  },
  {
   "cell_type": "code",
   "execution_count": 6,
   "metadata": {},
   "outputs": [
    {
     "data": {
      "text/html": [
       "<div>\n",
       "<style scoped>\n",
       "    .dataframe tbody tr th:only-of-type {\n",
       "        vertical-align: middle;\n",
       "    }\n",
       "\n",
       "    .dataframe tbody tr th {\n",
       "        vertical-align: top;\n",
       "    }\n",
       "\n",
       "    .dataframe thead th {\n",
       "        text-align: right;\n",
       "    }\n",
       "</style>\n",
       "<table border=\"1\" class=\"dataframe\">\n",
       "  <thead>\n",
       "    <tr style=\"text-align: right;\">\n",
       "      <th></th>\n",
       "      <th>sample_name_unique</th>\n",
       "      <th>sample_name</th>\n",
       "      <th>replicate</th>\n",
       "      <th>barcode</th>\n",
       "      <th>tRNA_annotation</th>\n",
       "      <th>tRNA_anno_short</th>\n",
       "      <th>tRNA_annotation_len</th>\n",
       "      <th>unique_annotation</th>\n",
       "      <th>codon</th>\n",
       "      <th>anticodon</th>\n",
       "      <th>AA_codon</th>\n",
       "      <th>amino_acid</th>\n",
       "      <th>single_codon</th>\n",
       "      <th>single_aa</th>\n",
       "      <th>mito_codon</th>\n",
       "      <th>Ecoli_ctr</th>\n",
       "      <th>AA_letter</th>\n",
       "      <th>A_count</th>\n",
       "      <th>C_count</th>\n",
       "      <th>count</th>\n",
       "      <th>charge</th>\n",
       "      <th>RPM</th>\n",
       "    </tr>\n",
       "  </thead>\n",
       "  <tbody>\n",
       "    <tr>\n",
       "      <th>0</th>\n",
       "      <td>0m_1</td>\n",
       "      <td>0m</td>\n",
       "      <td>1</td>\n",
       "      <td>l1Sp</td>\n",
       "      <td>Escherichia_coli_str_K_12_substr_MG1655_tRNA-e...</td>\n",
       "      <td>eColiLys-TTT-1-1</td>\n",
       "      <td>76</td>\n",
       "      <td>True</td>\n",
       "      <td>AAA</td>\n",
       "      <td>TTT</td>\n",
       "      <td>eColiLys-AAA</td>\n",
       "      <td>eColiLys</td>\n",
       "      <td>True</td>\n",
       "      <td>True</td>\n",
       "      <td>False</td>\n",
       "      <td>True</td>\n",
       "      <td>K</td>\n",
       "      <td>0</td>\n",
       "      <td>20</td>\n",
       "      <td>20</td>\n",
       "      <td>0.000000</td>\n",
       "      <td>464.597658</td>\n",
       "    </tr>\n",
       "    <tr>\n",
       "      <th>1</th>\n",
       "      <td>0m_1</td>\n",
       "      <td>0m</td>\n",
       "      <td>1</td>\n",
       "      <td>l1Sp</td>\n",
       "      <td>Homo_sapiens_mito_tRNA-Ala-TGC</td>\n",
       "      <td>Ala-TGC</td>\n",
       "      <td>72</td>\n",
       "      <td>True</td>\n",
       "      <td>GCA</td>\n",
       "      <td>TGC</td>\n",
       "      <td>Ala-GCA</td>\n",
       "      <td>Ala</td>\n",
       "      <td>True</td>\n",
       "      <td>True</td>\n",
       "      <td>True</td>\n",
       "      <td>False</td>\n",
       "      <td>A</td>\n",
       "      <td>1</td>\n",
       "      <td>48</td>\n",
       "      <td>49</td>\n",
       "      <td>2.040816</td>\n",
       "      <td>1138.264263</td>\n",
       "    </tr>\n",
       "    <tr>\n",
       "      <th>2</th>\n",
       "      <td>0m_1</td>\n",
       "      <td>0m</td>\n",
       "      <td>1</td>\n",
       "      <td>l1Sp</td>\n",
       "      <td>Homo_sapiens_mito_tRNA-Arg-TCG</td>\n",
       "      <td>Arg-TCG</td>\n",
       "      <td>68</td>\n",
       "      <td>True</td>\n",
       "      <td>CGA</td>\n",
       "      <td>TCG</td>\n",
       "      <td>Arg-CGA</td>\n",
       "      <td>Arg</td>\n",
       "      <td>True</td>\n",
       "      <td>True</td>\n",
       "      <td>True</td>\n",
       "      <td>False</td>\n",
       "      <td>R</td>\n",
       "      <td>9</td>\n",
       "      <td>98</td>\n",
       "      <td>107</td>\n",
       "      <td>8.411215</td>\n",
       "      <td>2485.597473</td>\n",
       "    </tr>\n",
       "  </tbody>\n",
       "</table>\n",
       "</div>"
      ],
      "text/plain": [
       "  sample_name_unique sample_name  replicate barcode  \\\n",
       "0               0m_1          0m          1    l1Sp   \n",
       "1               0m_1          0m          1    l1Sp   \n",
       "2               0m_1          0m          1    l1Sp   \n",
       "\n",
       "                                     tRNA_annotation   tRNA_anno_short  \\\n",
       "0  Escherichia_coli_str_K_12_substr_MG1655_tRNA-e...  eColiLys-TTT-1-1   \n",
       "1                     Homo_sapiens_mito_tRNA-Ala-TGC           Ala-TGC   \n",
       "2                     Homo_sapiens_mito_tRNA-Arg-TCG           Arg-TCG   \n",
       "\n",
       "   tRNA_annotation_len  unique_annotation codon anticodon      AA_codon  \\\n",
       "0                   76               True   AAA       TTT  eColiLys-AAA   \n",
       "1                   72               True   GCA       TGC       Ala-GCA   \n",
       "2                   68               True   CGA       TCG       Arg-CGA   \n",
       "\n",
       "  amino_acid  single_codon  single_aa  mito_codon  Ecoli_ctr AA_letter  \\\n",
       "0   eColiLys          True       True       False       True         K   \n",
       "1        Ala          True       True        True      False         A   \n",
       "2        Arg          True       True        True      False         R   \n",
       "\n",
       "   A_count  C_count  count    charge          RPM  \n",
       "0        0       20     20  0.000000   464.597658  \n",
       "1        1       48     49  2.040816  1138.264263  \n",
       "2        9       98    107  8.411215  2485.597473  "
      ]
     },
     "execution_count": 6,
     "metadata": {},
     "output_type": "execute_result"
    }
   ],
   "source": [
    "plot_obj.charge_df.head(3)"
   ]
  },
  {
   "cell_type": "code",
   "execution_count": 7,
   "metadata": {},
   "outputs": [
    {
     "data": {
      "text/html": [
       "<div>\n",
       "<style scoped>\n",
       "    .dataframe tbody tr th:only-of-type {\n",
       "        vertical-align: middle;\n",
       "    }\n",
       "\n",
       "    .dataframe tbody tr th {\n",
       "        vertical-align: top;\n",
       "    }\n",
       "\n",
       "    .dataframe thead th {\n",
       "        text-align: right;\n",
       "    }\n",
       "</style>\n",
       "<table border=\"1\" class=\"dataframe\">\n",
       "  <thead>\n",
       "    <tr style=\"text-align: right;\">\n",
       "      <th></th>\n",
       "      <th>sample_name_unique</th>\n",
       "      <th>sample_name</th>\n",
       "      <th>replicate</th>\n",
       "      <th>barcode</th>\n",
       "      <th>tRNA_annotation</th>\n",
       "      <th>tRNA_annotation_len</th>\n",
       "      <th>unique_annotation</th>\n",
       "      <th>5p_cover</th>\n",
       "      <th>align_3p_nt</th>\n",
       "      <th>codon</th>\n",
       "      <th>anticodon</th>\n",
       "      <th>amino_acid</th>\n",
       "      <th>count</th>\n",
       "      <th>AA_codon</th>\n",
       "      <th>tRNA_anno_short</th>\n",
       "      <th>single_codon</th>\n",
       "      <th>single_aa</th>\n",
       "      <th>mito_codon</th>\n",
       "      <th>Ecoli_ctr</th>\n",
       "      <th>AA_letter</th>\n",
       "    </tr>\n",
       "  </thead>\n",
       "  <tbody>\n",
       "    <tr>\n",
       "      <th>0</th>\n",
       "      <td>0m_1</td>\n",
       "      <td>0m</td>\n",
       "      <td>1</td>\n",
       "      <td>l1Sp</td>\n",
       "      <td>Escherichia_coli_str_K_12_substr_MG1655_tRNA-e...</td>\n",
       "      <td>76</td>\n",
       "      <td>True</td>\n",
       "      <td>False</td>\n",
       "      <td>C</td>\n",
       "      <td>AAA</td>\n",
       "      <td>TTT</td>\n",
       "      <td>eColiLys</td>\n",
       "      <td>14</td>\n",
       "      <td>eColiLys-AAA</td>\n",
       "      <td>eColiLys-TTT-1-1</td>\n",
       "      <td>True</td>\n",
       "      <td>True</td>\n",
       "      <td>False</td>\n",
       "      <td>True</td>\n",
       "      <td>K</td>\n",
       "    </tr>\n",
       "    <tr>\n",
       "      <th>1</th>\n",
       "      <td>0m_1</td>\n",
       "      <td>0m</td>\n",
       "      <td>1</td>\n",
       "      <td>l1Sp</td>\n",
       "      <td>Escherichia_coli_str_K_12_substr_MG1655_tRNA-e...</td>\n",
       "      <td>76</td>\n",
       "      <td>True</td>\n",
       "      <td>True</td>\n",
       "      <td>C</td>\n",
       "      <td>AAA</td>\n",
       "      <td>TTT</td>\n",
       "      <td>eColiLys</td>\n",
       "      <td>6</td>\n",
       "      <td>eColiLys-AAA</td>\n",
       "      <td>eColiLys-TTT-1-1</td>\n",
       "      <td>True</td>\n",
       "      <td>True</td>\n",
       "      <td>False</td>\n",
       "      <td>True</td>\n",
       "      <td>K</td>\n",
       "    </tr>\n",
       "    <tr>\n",
       "      <th>2</th>\n",
       "      <td>0m_1</td>\n",
       "      <td>0m</td>\n",
       "      <td>1</td>\n",
       "      <td>l1Sp</td>\n",
       "      <td>Homo_sapiens_mito_tRNA-Ala-TGC</td>\n",
       "      <td>72</td>\n",
       "      <td>True</td>\n",
       "      <td>False</td>\n",
       "      <td>C</td>\n",
       "      <td>GCA</td>\n",
       "      <td>TGC</td>\n",
       "      <td>Ala</td>\n",
       "      <td>33</td>\n",
       "      <td>Ala-GCA</td>\n",
       "      <td>Ala-TGC</td>\n",
       "      <td>True</td>\n",
       "      <td>True</td>\n",
       "      <td>True</td>\n",
       "      <td>False</td>\n",
       "      <td>A</td>\n",
       "    </tr>\n",
       "  </tbody>\n",
       "</table>\n",
       "</div>"
      ],
      "text/plain": [
       "  sample_name_unique sample_name  replicate barcode  \\\n",
       "0               0m_1          0m          1    l1Sp   \n",
       "1               0m_1          0m          1    l1Sp   \n",
       "2               0m_1          0m          1    l1Sp   \n",
       "\n",
       "                                     tRNA_annotation  tRNA_annotation_len  \\\n",
       "0  Escherichia_coli_str_K_12_substr_MG1655_tRNA-e...                   76   \n",
       "1  Escherichia_coli_str_K_12_substr_MG1655_tRNA-e...                   76   \n",
       "2                     Homo_sapiens_mito_tRNA-Ala-TGC                   72   \n",
       "\n",
       "   unique_annotation  5p_cover align_3p_nt codon anticodon amino_acid  count  \\\n",
       "0               True     False           C   AAA       TTT   eColiLys     14   \n",
       "1               True      True           C   AAA       TTT   eColiLys      6   \n",
       "2               True     False           C   GCA       TGC        Ala     33   \n",
       "\n",
       "       AA_codon   tRNA_anno_short  single_codon  single_aa  mito_codon  \\\n",
       "0  eColiLys-AAA  eColiLys-TTT-1-1          True       True       False   \n",
       "1  eColiLys-AAA  eColiLys-TTT-1-1          True       True       False   \n",
       "2       Ala-GCA           Ala-TGC          True       True        True   \n",
       "\n",
       "   Ecoli_ctr AA_letter  \n",
       "0       True         K  \n",
       "1       True         K  \n",
       "2      False         A  "
      ]
     },
     "execution_count": 7,
     "metadata": {},
     "output_type": "execute_result"
    }
   ],
   "source": [
    "plot_obj.all_stats.head(3)"
   ]
  },
  {
   "cell_type": "code",
   "execution_count": null,
   "metadata": {},
   "outputs": [],
   "source": []
  },
  {
   "cell_type": "code",
   "execution_count": 8,
   "metadata": {},
   "outputs": [
    {
     "data": {
      "text/html": [
       "<div>\n",
       "<style scoped>\n",
       "    .dataframe tbody tr th:only-of-type {\n",
       "        vertical-align: middle;\n",
       "    }\n",
       "\n",
       "    .dataframe tbody tr th {\n",
       "        vertical-align: top;\n",
       "    }\n",
       "\n",
       "    .dataframe thead th {\n",
       "        text-align: right;\n",
       "    }\n",
       "</style>\n",
       "<table border=\"1\" class=\"dataframe\">\n",
       "  <thead>\n",
       "    <tr style=\"text-align: right;\">\n",
       "      <th></th>\n",
       "      <th>sample_name_unique</th>\n",
       "      <th>sample_name</th>\n",
       "      <th>replicate</th>\n",
       "      <th>barcode</th>\n",
       "      <th>tRNA_annotation</th>\n",
       "      <th>tRNA_anno_short</th>\n",
       "      <th>tRNA_annotation_len</th>\n",
       "      <th>codon</th>\n",
       "      <th>anticodon</th>\n",
       "      <th>AA_codon</th>\n",
       "      <th>amino_acid</th>\n",
       "      <th>AA_letter</th>\n",
       "      <th>mito_codon</th>\n",
       "      <th>Ecoli_ctr</th>\n",
       "      <th>count</th>\n",
       "      <th>A_count</th>\n",
       "      <th>C_count</th>\n",
       "      <th>RPM</th>\n",
       "      <th>charge</th>\n",
       "    </tr>\n",
       "  </thead>\n",
       "  <tbody>\n",
       "    <tr>\n",
       "      <th>0</th>\n",
       "      <td>0m_1</td>\n",
       "      <td>0m</td>\n",
       "      <td>1</td>\n",
       "      <td>l1Sp</td>\n",
       "      <td>Escherichia_coli_str_K_12_substr_MG1655_tRNA-e...</td>\n",
       "      <td>eColiLys-TTT-1-1</td>\n",
       "      <td>76</td>\n",
       "      <td>AAA</td>\n",
       "      <td>TTT</td>\n",
       "      <td>eColiLys-AAA</td>\n",
       "      <td>eColiLys</td>\n",
       "      <td>K</td>\n",
       "      <td>False</td>\n",
       "      <td>True</td>\n",
       "      <td>20</td>\n",
       "      <td>0</td>\n",
       "      <td>20</td>\n",
       "      <td>464.597658</td>\n",
       "      <td>0.000000</td>\n",
       "    </tr>\n",
       "    <tr>\n",
       "      <th>1</th>\n",
       "      <td>0m_1</td>\n",
       "      <td>0m</td>\n",
       "      <td>1</td>\n",
       "      <td>l1Sp</td>\n",
       "      <td>Homo_sapiens_mito_tRNA-Ala-TGC</td>\n",
       "      <td>Ala-TGC</td>\n",
       "      <td>72</td>\n",
       "      <td>GCA</td>\n",
       "      <td>TGC</td>\n",
       "      <td>Ala-GCA</td>\n",
       "      <td>Ala</td>\n",
       "      <td>A</td>\n",
       "      <td>True</td>\n",
       "      <td>False</td>\n",
       "      <td>49</td>\n",
       "      <td>1</td>\n",
       "      <td>48</td>\n",
       "      <td>1138.264263</td>\n",
       "      <td>2.040816</td>\n",
       "    </tr>\n",
       "    <tr>\n",
       "      <th>2</th>\n",
       "      <td>0m_1</td>\n",
       "      <td>0m</td>\n",
       "      <td>1</td>\n",
       "      <td>l1Sp</td>\n",
       "      <td>Homo_sapiens_mito_tRNA-Arg-TCG</td>\n",
       "      <td>Arg-TCG</td>\n",
       "      <td>68</td>\n",
       "      <td>CGA</td>\n",
       "      <td>TCG</td>\n",
       "      <td>Arg-CGA</td>\n",
       "      <td>Arg</td>\n",
       "      <td>R</td>\n",
       "      <td>True</td>\n",
       "      <td>False</td>\n",
       "      <td>107</td>\n",
       "      <td>9</td>\n",
       "      <td>98</td>\n",
       "      <td>2485.597473</td>\n",
       "      <td>8.411215</td>\n",
       "    </tr>\n",
       "  </tbody>\n",
       "</table>\n",
       "</div>"
      ],
      "text/plain": [
       "  sample_name_unique sample_name  replicate barcode  \\\n",
       "0               0m_1          0m          1    l1Sp   \n",
       "1               0m_1          0m          1    l1Sp   \n",
       "2               0m_1          0m          1    l1Sp   \n",
       "\n",
       "                                     tRNA_annotation   tRNA_anno_short  \\\n",
       "0  Escherichia_coli_str_K_12_substr_MG1655_tRNA-e...  eColiLys-TTT-1-1   \n",
       "1                     Homo_sapiens_mito_tRNA-Ala-TGC           Ala-TGC   \n",
       "2                     Homo_sapiens_mito_tRNA-Arg-TCG           Arg-TCG   \n",
       "\n",
       "   tRNA_annotation_len codon anticodon      AA_codon amino_acid AA_letter  \\\n",
       "0                   76   AAA       TTT  eColiLys-AAA   eColiLys         K   \n",
       "1                   72   GCA       TGC       Ala-GCA        Ala         A   \n",
       "2                   68   CGA       TCG       Arg-CGA        Arg         R   \n",
       "\n",
       "   mito_codon  Ecoli_ctr  count  A_count  C_count          RPM    charge  \n",
       "0       False       True     20        0       20   464.597658  0.000000  \n",
       "1        True      False     49        1       48  1138.264263  2.040816  \n",
       "2        True      False    107        9       98  2485.597473  8.411215  "
      ]
     },
     "execution_count": 8,
     "metadata": {},
     "output_type": "execute_result"
    }
   ],
   "source": [
    "plot_obj.charge_filt['tr'].head(3)"
   ]
  },
  {
   "cell_type": "code",
   "execution_count": 9,
   "metadata": {},
   "outputs": [
    {
     "data": {
      "text/plain": [
       "{'Escherichia_coli_str_K_12_substr_MG1655_tRNA-eColiLys-TTT-1-1',\n",
       " 'Homo_sapiens_mito_tRNA-Ala-TGC',\n",
       " 'Homo_sapiens_mito_tRNA-Arg-TCG',\n",
       " 'Homo_sapiens_mito_tRNA-Asn-GTT',\n",
       " 'Homo_sapiens_mito_tRNA-Asp-GTC',\n",
       " 'Homo_sapiens_mito_tRNA-Cys-GCA',\n",
       " 'Homo_sapiens_mito_tRNA-Gln-TTG',\n",
       " 'Homo_sapiens_mito_tRNA-Glu-TTC',\n",
       " 'Homo_sapiens_mito_tRNA-Gly-TCC',\n",
       " 'Homo_sapiens_mito_tRNA-His-GTG',\n",
       " 'Homo_sapiens_mito_tRNA-Ile-GAT',\n",
       " 'Homo_sapiens_mito_tRNA-Leu1-TAG',\n",
       " 'Homo_sapiens_mito_tRNA-Leu2-TAA',\n",
       " 'Homo_sapiens_mito_tRNA-Lys-TTT',\n",
       " 'Homo_sapiens_mito_tRNA-Met-CAT',\n",
       " 'Homo_sapiens_mito_tRNA-Phe-GAA',\n",
       " 'Homo_sapiens_mito_tRNA-Pro-TGG',\n",
       " 'Homo_sapiens_mito_tRNA-Ser2-TGA',\n",
       " 'Homo_sapiens_mito_tRNA-Thr-TGT',\n",
       " 'Homo_sapiens_mito_tRNA-Trp-TCA',\n",
       " 'Homo_sapiens_mito_tRNA-Tyr-GTA',\n",
       " 'Homo_sapiens_mito_tRNA-Val-TAC',\n",
       " 'Homo_sapiens_tRNA-Ala-AGC-1-1',\n",
       " 'Homo_sapiens_tRNA-Ala-AGC-10-1',\n",
       " 'Homo_sapiens_tRNA-Ala-AGC-11-1',\n",
       " 'Homo_sapiens_tRNA-Ala-AGC-12-1',\n",
       " 'Homo_sapiens_tRNA-Ala-AGC-13-1',\n",
       " 'Homo_sapiens_tRNA-Ala-AGC-14-1',\n",
       " 'Homo_sapiens_tRNA-Ala-AGC-15-1',\n",
       " 'Homo_sapiens_tRNA-Ala-AGC-2-1',\n",
       " 'Homo_sapiens_tRNA-Ala-AGC-24-1',\n",
       " 'Homo_sapiens_tRNA-Ala-AGC-3-1',\n",
       " 'Homo_sapiens_tRNA-Ala-AGC-4-1',\n",
       " 'Homo_sapiens_tRNA-Ala-AGC-5-1',\n",
       " 'Homo_sapiens_tRNA-Ala-AGC-6-1',\n",
       " 'Homo_sapiens_tRNA-Ala-AGC-8-1',\n",
       " 'Homo_sapiens_tRNA-Ala-AGC-9-1',\n",
       " 'Homo_sapiens_tRNA-Ala-CGC-1-1',\n",
       " 'Homo_sapiens_tRNA-Ala-CGC-2-1',\n",
       " 'Homo_sapiens_tRNA-Ala-CGC-3-1',\n",
       " 'Homo_sapiens_tRNA-Ala-CGC-4-1',\n",
       " 'Homo_sapiens_tRNA-Ala-TGC-1-1',\n",
       " 'Homo_sapiens_tRNA-Ala-TGC-2-1',\n",
       " 'Homo_sapiens_tRNA-Ala-TGC-3-1',\n",
       " 'Homo_sapiens_tRNA-Ala-TGC-4-1',\n",
       " 'Homo_sapiens_tRNA-Ala-TGC-5-1',\n",
       " 'Homo_sapiens_tRNA-Ala-TGC-6-1',\n",
       " 'Homo_sapiens_tRNA-Ala-TGC-7-1',\n",
       " 'Homo_sapiens_tRNA-Arg-ACG-1-1',\n",
       " 'Homo_sapiens_tRNA-Arg-ACG-2-1',\n",
       " 'Homo_sapiens_tRNA-Arg-CCG-1-1',\n",
       " 'Homo_sapiens_tRNA-Arg-CCG-2-1',\n",
       " 'Homo_sapiens_tRNA-Arg-CCT-1-1',\n",
       " 'Homo_sapiens_tRNA-Arg-CCT-2-1',\n",
       " 'Homo_sapiens_tRNA-Arg-CCT-3-1',\n",
       " 'Homo_sapiens_tRNA-Arg-CCT-4-1',\n",
       " 'Homo_sapiens_tRNA-Arg-TCG-1-1',\n",
       " 'Homo_sapiens_tRNA-Arg-TCG-2-1',\n",
       " 'Homo_sapiens_tRNA-Arg-TCG-3-1',\n",
       " 'Homo_sapiens_tRNA-Arg-TCG-4-1',\n",
       " 'Homo_sapiens_tRNA-Arg-TCG-5-1',\n",
       " 'Homo_sapiens_tRNA-Arg-TCT-1-1',\n",
       " 'Homo_sapiens_tRNA-Arg-TCT-2-1',\n",
       " 'Homo_sapiens_tRNA-Arg-TCT-3-1',\n",
       " 'Homo_sapiens_tRNA-Arg-TCT-4-1',\n",
       " 'Homo_sapiens_tRNA-Asn-GTT-1-1',\n",
       " 'Homo_sapiens_tRNA-Asn-GTT-2-1',\n",
       " 'Homo_sapiens_tRNA-Asn-GTT-24-1',\n",
       " 'Homo_sapiens_tRNA-Asn-GTT-26-1',\n",
       " 'Homo_sapiens_tRNA-Asn-GTT-3-1',\n",
       " 'Homo_sapiens_tRNA-Asn-GTT-4-1',\n",
       " 'Homo_sapiens_tRNA-Asn-GTT-5-1',\n",
       " 'Homo_sapiens_tRNA-Asn-GTT-6-1',\n",
       " 'Homo_sapiens_tRNA-Asn-GTT-7-1',\n",
       " 'Homo_sapiens_tRNA-Asn-GTT-9-1',\n",
       " 'Homo_sapiens_tRNA-Asp-GTC-1-1',\n",
       " 'Homo_sapiens_tRNA-Asp-GTC-2-1',\n",
       " 'Homo_sapiens_tRNA-Asp-GTC-3-1',\n",
       " 'Homo_sapiens_tRNA-Cys-GCA-1-1',\n",
       " 'Homo_sapiens_tRNA-Cys-GCA-10-1',\n",
       " 'Homo_sapiens_tRNA-Cys-GCA-11-1',\n",
       " 'Homo_sapiens_tRNA-Cys-GCA-12-1',\n",
       " 'Homo_sapiens_tRNA-Cys-GCA-13-1',\n",
       " 'Homo_sapiens_tRNA-Cys-GCA-14-1',\n",
       " 'Homo_sapiens_tRNA-Cys-GCA-15-1',\n",
       " 'Homo_sapiens_tRNA-Cys-GCA-16-1',\n",
       " 'Homo_sapiens_tRNA-Cys-GCA-18-1',\n",
       " 'Homo_sapiens_tRNA-Cys-GCA-19-1',\n",
       " 'Homo_sapiens_tRNA-Cys-GCA-2-1',\n",
       " 'Homo_sapiens_tRNA-Cys-GCA-21-1',\n",
       " 'Homo_sapiens_tRNA-Cys-GCA-3-1',\n",
       " 'Homo_sapiens_tRNA-Cys-GCA-4-1',\n",
       " 'Homo_sapiens_tRNA-Cys-GCA-5-1',\n",
       " 'Homo_sapiens_tRNA-Cys-GCA-6-1',\n",
       " 'Homo_sapiens_tRNA-Cys-GCA-7-1',\n",
       " 'Homo_sapiens_tRNA-Cys-GCA-8-1',\n",
       " 'Homo_sapiens_tRNA-Cys-GCA-9-1',\n",
       " 'Homo_sapiens_tRNA-Gln-CTG-1-1',\n",
       " 'Homo_sapiens_tRNA-Gln-CTG-2-1',\n",
       " 'Homo_sapiens_tRNA-Gln-CTG-3-1',\n",
       " 'Homo_sapiens_tRNA-Gln-CTG-4-1',\n",
       " 'Homo_sapiens_tRNA-Gln-CTG-5-1',\n",
       " 'Homo_sapiens_tRNA-Gln-CTG-6-1',\n",
       " 'Homo_sapiens_tRNA-Gln-CTG-7-1',\n",
       " 'Homo_sapiens_tRNA-Gln-TTG-1-1',\n",
       " 'Homo_sapiens_tRNA-Gln-TTG-2-1',\n",
       " 'Homo_sapiens_tRNA-Gln-TTG-3-1',\n",
       " 'Homo_sapiens_tRNA-Gln-TTG-4-1',\n",
       " 'Homo_sapiens_tRNA-Glu-CTC-1-1',\n",
       " 'Homo_sapiens_tRNA-Glu-CTC-2-1',\n",
       " 'Homo_sapiens_tRNA-Glu-TTC-1-1',\n",
       " 'Homo_sapiens_tRNA-Glu-TTC-14-1',\n",
       " 'Homo_sapiens_tRNA-Glu-TTC-2-1',\n",
       " 'Homo_sapiens_tRNA-Glu-TTC-3-1',\n",
       " 'Homo_sapiens_tRNA-Glu-TTC-4-1',\n",
       " 'Homo_sapiens_tRNA-Gly-CCC-1-1',\n",
       " 'Homo_sapiens_tRNA-Gly-CCC-2-1',\n",
       " 'Homo_sapiens_tRNA-Gly-GCC-1-1',\n",
       " 'Homo_sapiens_tRNA-Gly-GCC-2-1',\n",
       " 'Homo_sapiens_tRNA-Gly-GCC-4-1',\n",
       " 'Homo_sapiens_tRNA-Gly-TCC-1-1',\n",
       " 'Homo_sapiens_tRNA-Gly-TCC-2-1',\n",
       " 'Homo_sapiens_tRNA-Gly-TCC-3-1',\n",
       " 'Homo_sapiens_tRNA-Gly-TCC-4-1',\n",
       " 'Homo_sapiens_tRNA-His-GTG-1-1',\n",
       " 'Homo_sapiens_tRNA-Ile-AAT-1-1',\n",
       " 'Homo_sapiens_tRNA-Ile-AAT-12-1',\n",
       " 'Homo_sapiens_tRNA-Ile-AAT-2-1',\n",
       " 'Homo_sapiens_tRNA-Ile-AAT-3-1',\n",
       " 'Homo_sapiens_tRNA-Ile-AAT-4-1',\n",
       " 'Homo_sapiens_tRNA-Ile-AAT-5-1',\n",
       " 'Homo_sapiens_tRNA-Ile-AAT-6-1',\n",
       " 'Homo_sapiens_tRNA-Ile-AAT-7-1',\n",
       " 'Homo_sapiens_tRNA-Ile-AAT-8-1',\n",
       " 'Homo_sapiens_tRNA-Ile-GAT-1-1',\n",
       " 'Homo_sapiens_tRNA-Ile-TAT-1-1',\n",
       " 'Homo_sapiens_tRNA-Ile-TAT-2-1',\n",
       " 'Homo_sapiens_tRNA-Ile-TAT-3-1',\n",
       " 'Homo_sapiens_tRNA-Leu-AAG-1-1',\n",
       " 'Homo_sapiens_tRNA-Leu-AAG-2-1',\n",
       " 'Homo_sapiens_tRNA-Leu-AAG-3-1',\n",
       " 'Homo_sapiens_tRNA-Leu-AAG-4-1',\n",
       " 'Homo_sapiens_tRNA-Leu-CAA-1-1',\n",
       " 'Homo_sapiens_tRNA-Leu-CAA-2-1',\n",
       " 'Homo_sapiens_tRNA-Leu-CAA-3-1',\n",
       " 'Homo_sapiens_tRNA-Leu-CAA-4-1',\n",
       " 'Homo_sapiens_tRNA-Leu-CAG-1-1',\n",
       " 'Homo_sapiens_tRNA-Leu-CAG-2-1',\n",
       " 'Homo_sapiens_tRNA-Leu-TAA-1-1',\n",
       " 'Homo_sapiens_tRNA-Leu-TAA-2-1',\n",
       " 'Homo_sapiens_tRNA-Leu-TAA-3-1',\n",
       " 'Homo_sapiens_tRNA-Leu-TAA-4-1',\n",
       " 'Homo_sapiens_tRNA-Leu-TAG-1-1',\n",
       " 'Homo_sapiens_tRNA-Leu-TAG-2-1',\n",
       " 'Homo_sapiens_tRNA-Leu-TAG-3-1',\n",
       " 'Homo_sapiens_tRNA-Lys-CTT-1-1',\n",
       " 'Homo_sapiens_tRNA-Lys-CTT-2-1',\n",
       " 'Homo_sapiens_tRNA-Lys-CTT-3-1',\n",
       " 'Homo_sapiens_tRNA-Lys-CTT-4-1',\n",
       " 'Homo_sapiens_tRNA-Lys-CTT-5-1',\n",
       " 'Homo_sapiens_tRNA-Lys-TTT-1-1',\n",
       " 'Homo_sapiens_tRNA-Lys-TTT-2-1',\n",
       " 'Homo_sapiens_tRNA-Lys-TTT-3-1',\n",
       " 'Homo_sapiens_tRNA-Lys-TTT-4-1',\n",
       " 'Homo_sapiens_tRNA-Lys-TTT-5-1',\n",
       " 'Homo_sapiens_tRNA-Lys-TTT-6-1',\n",
       " 'Homo_sapiens_tRNA-Met-CAT-1-1',\n",
       " 'Homo_sapiens_tRNA-Met-CAT-2-1',\n",
       " 'Homo_sapiens_tRNA-Met-CAT-3-1',\n",
       " 'Homo_sapiens_tRNA-Met-CAT-4-1',\n",
       " 'Homo_sapiens_tRNA-Met-CAT-5-1',\n",
       " 'Homo_sapiens_tRNA-Met-CAT-6-1',\n",
       " 'Homo_sapiens_tRNA-Phe-GAA-1-1',\n",
       " 'Homo_sapiens_tRNA-Phe-GAA-2-1',\n",
       " 'Homo_sapiens_tRNA-Phe-GAA-3-1',\n",
       " 'Homo_sapiens_tRNA-Phe-GAA-4-1',\n",
       " 'Homo_sapiens_tRNA-Pro-AGG-1-1',\n",
       " 'Homo_sapiens_tRNA-Pro-AGG-2-1',\n",
       " 'Homo_sapiens_tRNA-Pro-CGG-1-1',\n",
       " 'Homo_sapiens_tRNA-Pro-CGG-2-1',\n",
       " 'Homo_sapiens_tRNA-Pro-TGG-1-1',\n",
       " 'Homo_sapiens_tRNA-Pro-TGG-2-1',\n",
       " 'Homo_sapiens_tRNA-Pro-TGG-3-1',\n",
       " 'Homo_sapiens_tRNA-SeC-TCA-1-1',\n",
       " 'Homo_sapiens_tRNA-Ser-AGA-3-1',\n",
       " 'Homo_sapiens_tRNA-Ser-AGA-4-1',\n",
       " 'Homo_sapiens_tRNA-Ser-CGA-1-1',\n",
       " 'Homo_sapiens_tRNA-Ser-CGA-2-1',\n",
       " 'Homo_sapiens_tRNA-Ser-CGA-3-1',\n",
       " 'Homo_sapiens_tRNA-Ser-CGA-4-1',\n",
       " 'Homo_sapiens_tRNA-Ser-GCT-1-1',\n",
       " 'Homo_sapiens_tRNA-Ser-GCT-2-1',\n",
       " 'Homo_sapiens_tRNA-Ser-GCT-3-1',\n",
       " 'Homo_sapiens_tRNA-Ser-GCT-4-1',\n",
       " 'Homo_sapiens_tRNA-Ser-GCT-5-1',\n",
       " 'Homo_sapiens_tRNA-Ser-GCT-6-1',\n",
       " 'Homo_sapiens_tRNA-Ser-TGA-1-1',\n",
       " 'Homo_sapiens_tRNA-Ser-TGA-2-1',\n",
       " 'Homo_sapiens_tRNA-Ser-TGA-3-1',\n",
       " 'Homo_sapiens_tRNA-Ser-TGA-4-1',\n",
       " 'Homo_sapiens_tRNA-Thr-AGT-1-1',\n",
       " 'Homo_sapiens_tRNA-Thr-AGT-2-1',\n",
       " 'Homo_sapiens_tRNA-Thr-AGT-3-1',\n",
       " 'Homo_sapiens_tRNA-Thr-AGT-4-1',\n",
       " 'Homo_sapiens_tRNA-Thr-AGT-5-1',\n",
       " 'Homo_sapiens_tRNA-Thr-AGT-6-1',\n",
       " 'Homo_sapiens_tRNA-Thr-CGT-1-1',\n",
       " 'Homo_sapiens_tRNA-Thr-CGT-2-1',\n",
       " 'Homo_sapiens_tRNA-Thr-CGT-3-1',\n",
       " 'Homo_sapiens_tRNA-Thr-CGT-4-1',\n",
       " 'Homo_sapiens_tRNA-Thr-TGT-1-1',\n",
       " 'Homo_sapiens_tRNA-Thr-TGT-2-1',\n",
       " 'Homo_sapiens_tRNA-Thr-TGT-3-1',\n",
       " 'Homo_sapiens_tRNA-Thr-TGT-4-1',\n",
       " 'Homo_sapiens_tRNA-Thr-TGT-5-1',\n",
       " 'Homo_sapiens_tRNA-Thr-TGT-6-1',\n",
       " 'Homo_sapiens_tRNA-Trp-CCA-1-1',\n",
       " 'Homo_sapiens_tRNA-Trp-CCA-2-1',\n",
       " 'Homo_sapiens_tRNA-Trp-CCA-3-1',\n",
       " 'Homo_sapiens_tRNA-Trp-CCA-4-1',\n",
       " 'Homo_sapiens_tRNA-Trp-CCA-5-1',\n",
       " 'Homo_sapiens_tRNA-Tyr-GTA-1-1',\n",
       " 'Homo_sapiens_tRNA-Tyr-GTA-2-1',\n",
       " 'Homo_sapiens_tRNA-Tyr-GTA-3-1',\n",
       " 'Homo_sapiens_tRNA-Tyr-GTA-4-1',\n",
       " 'Homo_sapiens_tRNA-Tyr-GTA-5-1',\n",
       " 'Homo_sapiens_tRNA-Tyr-GTA-6-1',\n",
       " 'Homo_sapiens_tRNA-Tyr-GTA-7-1',\n",
       " 'Homo_sapiens_tRNA-Tyr-GTA-8-1',\n",
       " 'Homo_sapiens_tRNA-Val-AAC-1-1',\n",
       " 'Homo_sapiens_tRNA-Val-AAC-2-1',\n",
       " 'Homo_sapiens_tRNA-Val-AAC-3-1',\n",
       " 'Homo_sapiens_tRNA-Val-AAC-4-1',\n",
       " 'Homo_sapiens_tRNA-Val-AAC-5-1',\n",
       " 'Homo_sapiens_tRNA-Val-CAC-1-1',\n",
       " 'Homo_sapiens_tRNA-Val-CAC-2-1',\n",
       " 'Homo_sapiens_tRNA-Val-CAC-3-1',\n",
       " 'Homo_sapiens_tRNA-Val-CAC-4-1',\n",
       " 'Homo_sapiens_tRNA-Val-CAC-6-1',\n",
       " 'Homo_sapiens_tRNA-Val-TAC-1-1',\n",
       " 'Homo_sapiens_tRNA-Val-TAC-2-1',\n",
       " 'Homo_sapiens_tRNA-Val-TAC-3-1',\n",
       " 'Homo_sapiens_tRNA-Val-TAC-4-1',\n",
       " 'Homo_sapiens_tRNA-iMet-CAT-1-1',\n",
       " 'Homo_sapiens_tRNA-iMet-CAT-2-1'}"
      ]
     },
     "execution_count": 9,
     "metadata": {},
     "output_type": "execute_result"
    }
   ],
   "source": [
    "set(plot_obj.charge_filt['tr']['tRNA_annotation'])"
   ]
  },
  {
   "cell_type": "code",
   "execution_count": null,
   "metadata": {},
   "outputs": [],
   "source": []
  },
  {
   "cell_type": "code",
   "execution_count": null,
   "metadata": {},
   "outputs": [],
   "source": []
  },
  {
   "cell_type": "code",
   "execution_count": 10,
   "metadata": {},
   "outputs": [],
   "source": [
    "charge_df = sample_df.loc[:, ['sample_name_unique', 'hue_value', 'hue_order']].merge(plot_obj.charge_filt['tr'], on='sample_name_unique')"
   ]
  },
  {
   "cell_type": "code",
   "execution_count": 11,
   "metadata": {},
   "outputs": [],
   "source": [
    "# Enforce minimum read count:\n",
    "min_count = 4\n",
    "\n",
    "tann2snu = dict()\n",
    "for snu, tann, ectr, cnt in zip(charge_df['sample_name_unique'], \\\n",
    "                               charge_df['tRNA_annotation'], \\\n",
    "                               charge_df['Ecoli_ctr'], \\\n",
    "                               charge_df['count']):\n",
    "    if ectr or cnt < min_count:\n",
    "        continue\n",
    "    \n",
    "    if tann in tann2snu:\n",
    "        tann2snu[tann].add(snu)\n",
    "    else:\n",
    "        tann2snu[tann] = set()\n",
    "        tann2snu[tann].add(snu)\n",
    "\n",
    "# Filter based on minimum:\n",
    "all_snu = set(charge_df['sample_name_unique'])\n",
    "tann_sele = set()\n",
    "for tann in tann2snu:\n",
    "    if tann2snu[tann] == all_snu:\n",
    "        tann_sele.add(tann)\n",
    "\n",
    "mask = charge_df['tRNA_annotation'].isin(tann_sele)\n",
    "filt_df = charge_df[mask].copy()\n",
    "\n",
    "# Convert time to minutes:\n",
    "time_list = list()\n",
    "for sn in filt_df['sample_name']:\n",
    "    if 'NoOx' in sn:\n",
    "        time_list.append(None)\n",
    "    elif 'm' in sn:\n",
    "        time_list.append(int(sn[:-1]))\n",
    "    elif 'h' in sn:\n",
    "        time_list.append(int(sn[:-1])*60)\n",
    "    else:\n",
    "        raise Exception('???')\n",
    "filt_df['Time'] = time_list\n",
    "hl_df = filt_df[~filt_df['Time'].isna()].copy()"
   ]
  },
  {
   "cell_type": "code",
   "execution_count": 12,
   "metadata": {},
   "outputs": [],
   "source": [
    "#### Do this to make data ###\n",
    "# Delete when real data is available\n",
    "hl_df = hl_df.sort_values(['tRNA_annotation', 'Time'])\n",
    "ch_list = np.array([96.97580645161288, 95.96774193548386, 92.13709677419355, 88.30645161290322, 64.51612903225806, 42.33870967741935, 18.548387096774185, 2.2177419354838785]*len(tann_sele))\n",
    "hl_df['charge'] = np.random.normal(ch_list, ch_list/100+0.5)\n",
    "\n",
    "hl_df_cp = hl_df.copy()\n",
    "hl_df_cp['replicate'] = 2\n",
    "hl_df_cp['charge'] = np.random.normal(ch_list, ch_list/100+0.5)\n",
    "hl_df = pd.concat((hl_df, hl_df_cp))\n",
    "\n",
    "hl_df_cp['replicate'] = 3\n",
    "hl_df_cp['charge'] = np.random.normal(ch_list, ch_list/100+0.5)\n",
    "hl_df = pd.concat((hl_df, hl_df_cp))\n",
    "\n",
    "hl_df_cp['replicate'] = 4\n",
    "hl_df_cp['charge'] = np.random.normal(ch_list, ch_list/100+0.5)\n",
    "hl_df = pd.concat((hl_df, hl_df_cp))\n"
   ]
  },
  {
   "cell_type": "code",
   "execution_count": null,
   "metadata": {},
   "outputs": [],
   "source": []
  },
  {
   "cell_type": "code",
   "execution_count": 13,
   "metadata": {},
   "outputs": [],
   "source": [
    "for tann in tann_sele:\n",
    "    sample_mask = hl_df['tRNA_annotation'] == tann\n",
    "    hl_spl = hl_df[sample_mask].copy()\n",
    "    \n",
    "    # hl_p_est, hl_ci = bootstrap_hl(hl_spl)"
   ]
  },
  {
   "cell_type": "code",
   "execution_count": null,
   "metadata": {},
   "outputs": [],
   "source": []
  },
  {
   "cell_type": "code",
   "execution_count": null,
   "metadata": {},
   "outputs": [],
   "source": []
  },
  {
   "cell_type": "code",
   "execution_count": null,
   "metadata": {},
   "outputs": [],
   "source": []
  },
  {
   "cell_type": "code",
   "execution_count": null,
   "metadata": {},
   "outputs": [],
   "source": []
  },
  {
   "cell_type": "code",
   "execution_count": null,
   "metadata": {},
   "outputs": [],
   "source": []
  },
  {
   "cell_type": "markdown",
   "metadata": {},
   "source": [
    "Half-life\n",
    "\n",
    "$$\n",
    "N(t) = N_0 \\left( \\frac{1}{2} \\right) ^\\frac{t}{t_{1/2}} + N_{\\infty}\n",
    "$$\n"
   ]
  },
  {
   "cell_type": "markdown",
   "metadata": {},
   "source": [
    "$$\n",
    "log_2(N(t) - N_{\\infty}) = log_2(N_0) - \\frac{t}{t_{1/2}}\n",
    "$$"
   ]
  },
  {
   "cell_type": "markdown",
   "metadata": {},
   "source": [
    "$$\n",
    "log_2(N(t) - N_{\\infty}) = log_2(N_0) - t \\frac{1}{t_{1/2}}\n",
    "$$"
   ]
  },
  {
   "cell_type": "markdown",
   "metadata": {},
   "source": [
    "$$\n",
    "t_{1/2} = \\frac{t}{log_2(N_0) - log_2(N(t) - N_{\\infty})}\n",
    "$$"
   ]
  },
  {
   "cell_type": "code",
   "execution_count": null,
   "metadata": {},
   "outputs": [],
   "source": []
  },
  {
   "cell_type": "code",
   "execution_count": null,
   "metadata": {},
   "outputs": [],
   "source": []
  },
  {
   "cell_type": "code",
   "execution_count": null,
   "metadata": {},
   "outputs": [],
   "source": []
  },
  {
   "cell_type": "code",
   "execution_count": null,
   "metadata": {},
   "outputs": [],
   "source": []
  },
  {
   "cell_type": "code",
   "execution_count": 60,
   "metadata": {},
   "outputs": [
    {
     "data": {
      "text/plain": [
       "array([1, 2, 3])"
      ]
     },
     "execution_count": 60,
     "metadata": {},
     "output_type": "execute_result"
    }
   ],
   "source": [
    "np.tile(np.array([1,2,3]), 1)"
   ]
  },
  {
   "cell_type": "code",
   "execution_count": 51,
   "metadata": {},
   "outputs": [],
   "source": [
    "mat = np.arange(0, 12).reshape((3,4))"
   ]
  },
  {
   "cell_type": "code",
   "execution_count": 52,
   "metadata": {},
   "outputs": [
    {
     "data": {
      "text/plain": [
       "array([[ 0,  1,  2,  3],\n",
       "       [ 4,  5,  6,  7],\n",
       "       [ 8,  9, 10, 11]])"
      ]
     },
     "execution_count": 52,
     "metadata": {},
     "output_type": "execute_result"
    }
   ],
   "source": [
    "mat"
   ]
  },
  {
   "cell_type": "code",
   "execution_count": 56,
   "metadata": {},
   "outputs": [
    {
     "data": {
      "text/plain": [
       "array([ 0,  4,  8,  1,  5,  9,  2,  6, 10,  3,  7, 11])"
      ]
     },
     "execution_count": 56,
     "metadata": {},
     "output_type": "execute_result"
    }
   ],
   "source": [
    "fmat = mat.flatten(order='F')\n",
    "fmat"
   ]
  },
  {
   "cell_type": "code",
   "execution_count": 59,
   "metadata": {},
   "outputs": [
    {
     "data": {
      "text/plain": [
       "array([1.5, 5.5, 9.5])"
      ]
     },
     "execution_count": 59,
     "metadata": {},
     "output_type": "execute_result"
    }
   ],
   "source": [
    "np.mean(fmat.reshape((3,4), order='F'), axis=1)"
   ]
  },
  {
   "cell_type": "code",
   "execution_count": null,
   "metadata": {},
   "outputs": [],
   "source": []
  },
  {
   "cell_type": "code",
   "execution_count": null,
   "metadata": {},
   "outputs": [],
   "source": []
  },
  {
   "cell_type": "code",
   "execution_count": null,
   "metadata": {},
   "outputs": [],
   "source": []
  },
  {
   "cell_type": "code",
   "execution_count": null,
   "metadata": {},
   "outputs": [],
   "source": []
  },
  {
   "cell_type": "code",
   "execution_count": null,
   "metadata": {},
   "outputs": [],
   "source": []
  },
  {
   "cell_type": "code",
   "execution_count": null,
   "metadata": {},
   "outputs": [],
   "source": []
  },
  {
   "cell_type": "code",
   "execution_count": 14,
   "metadata": {},
   "outputs": [
    {
     "data": {
      "text/plain": [
       "(401.96860096690966, array([363.83086104, 427.31680073]))"
      ]
     },
     "execution_count": 14,
     "metadata": {},
     "output_type": "execute_result"
    }
   ],
   "source": [
    "bootstrap_hl(hl_spl, Ndraws=100000, BFGS_loss_func=loss_func_l2, lstsq=True)"
   ]
  },
  {
   "cell_type": "code",
   "execution_count": 36,
   "metadata": {},
   "outputs": [
    {
     "data": {
      "text/plain": [
       "(401.96860096690966, array([364.58660202, 426.3681481 ]))"
      ]
     },
     "execution_count": 36,
     "metadata": {},
     "output_type": "execute_result"
    }
   ],
   "source": [
    "bootstrap_hl(hl_spl, Ndraws=100000, BFGS_loss_func=loss_func_l2, lstsq=True, minus_N_bz=2)"
   ]
  },
  {
   "cell_type": "code",
   "execution_count": 64,
   "metadata": {},
   "outputs": [
    {
     "data": {
      "text/plain": [
       "(396.5764154133678, array([376.24284431, 410.123602  ]))"
      ]
     },
     "execution_count": 64,
     "metadata": {},
     "output_type": "execute_result"
    }
   ],
   "source": [
    "bootstrap_hl(hl_spl, Ndraws=1000, BFGS_loss_func=loss_func_l2, lstsq=False)"
   ]
  },
  {
   "cell_type": "code",
   "execution_count": 27,
   "metadata": {},
   "outputs": [
    {
     "data": {
      "text/plain": [
       "(396.5764154133678, array([385.61548928, 405.28895984]))"
      ]
     },
     "execution_count": 27,
     "metadata": {},
     "output_type": "execute_result"
    }
   ],
   "source": [
    "bootstrap_hl2(hl_spl, Ndraws=1000, BFGS_loss_func=loss_func_l2, lstsq=False)"
   ]
  },
  {
   "cell_type": "code",
   "execution_count": 16,
   "metadata": {},
   "outputs": [
    {
     "data": {
      "text/plain": [
       "(401.96860096690966, array([363.83278506, 427.32375062]))"
      ]
     },
     "execution_count": 16,
     "metadata": {},
     "output_type": "execute_result"
    }
   ],
   "source": [
    "bootstrap_hl_fast(hl_spl, Ndraws=100000, BFGS_loss_func=loss_func_l2)"
   ]
  },
  {
   "cell_type": "code",
   "execution_count": 17,
   "metadata": {},
   "outputs": [
    {
     "data": {
      "text/plain": [
       "(395.47721446302836, array([355.36040785, 421.64433102]))"
      ]
     },
     "execution_count": 17,
     "metadata": {},
     "output_type": "execute_result"
    }
   ],
   "source": [
    "bootstrap_hl_fast(hl_spl, Ndraws=100000, BFGS_loss_func=loss_func_c1)"
   ]
  },
  {
   "cell_type": "code",
   "execution_count": 62,
   "metadata": {},
   "outputs": [
    {
     "data": {
      "text/plain": [
       "(395.47721446302836, array([369.87870146, 417.67771578]))"
      ]
     },
     "execution_count": 62,
     "metadata": {},
     "output_type": "execute_result"
    }
   ],
   "source": [
    "bootstrap_hl_fast(hl_spl, Ndraws=100000, BFGS_loss_func=loss_func_c1, minus_N_bz=0)"
   ]
  },
  {
   "cell_type": "code",
   "execution_count": null,
   "metadata": {},
   "outputs": [],
   "source": []
  },
  {
   "cell_type": "code",
   "execution_count": null,
   "metadata": {},
   "outputs": [],
   "source": []
  },
  {
   "cell_type": "code",
   "execution_count": null,
   "metadata": {},
   "outputs": [],
   "source": []
  },
  {
   "cell_type": "code",
   "execution_count": null,
   "metadata": {},
   "outputs": [],
   "source": []
  },
  {
   "cell_type": "code",
   "execution_count": null,
   "metadata": {},
   "outputs": [],
   "source": []
  },
  {
   "cell_type": "code",
   "execution_count": null,
   "metadata": {},
   "outputs": [],
   "source": []
  },
  {
   "cell_type": "code",
   "execution_count": null,
   "metadata": {},
   "outputs": [],
   "source": []
  },
  {
   "cell_type": "code",
   "execution_count": null,
   "metadata": {},
   "outputs": [],
   "source": []
  },
  {
   "cell_type": "code",
   "execution_count": null,
   "metadata": {},
   "outputs": [],
   "source": []
  },
  {
   "cell_type": "code",
   "execution_count": null,
   "metadata": {},
   "outputs": [],
   "source": []
  },
  {
   "cell_type": "code",
   "execution_count": null,
   "metadata": {},
   "outputs": [],
   "source": []
  },
  {
   "cell_type": "code",
   "execution_count": null,
   "metadata": {},
   "outputs": [],
   "source": []
  },
  {
   "cell_type": "code",
   "execution_count": null,
   "metadata": {},
   "outputs": [],
   "source": []
  },
  {
   "cell_type": "code",
   "execution_count": null,
   "metadata": {},
   "outputs": [],
   "source": []
  },
  {
   "cell_type": "code",
   "execution_count": null,
   "metadata": {},
   "outputs": [],
   "source": []
  },
  {
   "cell_type": "code",
   "execution_count": null,
   "metadata": {},
   "outputs": [],
   "source": []
  },
  {
   "cell_type": "code",
   "execution_count": null,
   "metadata": {},
   "outputs": [],
   "source": []
  },
  {
   "cell_type": "code",
   "execution_count": null,
   "metadata": {},
   "outputs": [],
   "source": []
  }
 ],
 "metadata": {
  "kernelspec": {
   "display_name": "Python 3",
   "language": "python",
   "name": "python3"
  },
  "language_info": {
   "codemirror_mode": {
    "name": "ipython",
    "version": 3
   },
   "file_extension": ".py",
   "mimetype": "text/x-python",
   "name": "python",
   "nbconvert_exporter": "python",
   "pygments_lexer": "ipython3",
   "version": "3.8.5"
  }
 },
 "nbformat": 4,
 "nbformat_minor": 4
}
