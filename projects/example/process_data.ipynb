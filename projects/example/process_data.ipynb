{
 "cells": [
  {
   "cell_type": "markdown",
   "metadata": {},
   "source": [
    "# tRNA sequencing - data processing example\n",
    "\n",
    "This notebook is an example of processing raw data from tRNA sequencing.\n",
    "It starts from raw paired-end reads and concludes with a datafile containing counts of tRNA transcripts, with information about amino acids, codons, charge etc. and broken down based on sample name, replicate etc.\n",
    "Some generically useful plots will be generated, such as: logo plots of the UMI sequences and non-template bases, plots showing the transcript/codon coverage and charge per sample.\n",
    "\n",
    "\n",
    "\n",
    "## Setup - no need to change\n",
    "Setting up folders, alignment setting, sequence information etc.\n",
    "There should be no need to change these setting if the raw bz2 compressed data is stored in a folder named `data/raw_fastq`.\n",
    "\n",
    "\n",
    "### Importing external packages"
   ]
  },
  {
   "cell_type": "code",
   "execution_count": 37,
   "metadata": {},
   "outputs": [
    {
     "name": "stdout",
     "output_type": "stream",
     "text": [
      "The autoreload extension is already loaded. To reload it, use:\n",
      "  %reload_ext autoreload\n"
     ]
    }
   ],
   "source": [
    "# These magic cells reloads imported code when it changes.\n",
    "# Very useful for prototyping, other will do nothing.\n",
    "%load_ext autoreload\n",
    "%autoreload 2\n",
    "\n",
    "### General imports ###\n",
    "import os, sys, shutil, bz2\n",
    "from pathlib import Path\n",
    "import pandas as pd\n",
    "pd.set_option('display.max_columns', 50)\n",
    "import numpy as np\n",
    "\n",
    "### Plotting imports ###\n",
    "import seaborn as sns\n",
    "import matplotlib.pyplot as plt\n",
    "from matplotlib.backends.backend_pdf import PdfPages\n",
    "import matplotlib.colors as mcolors\n",
    "import matplotlib as mpl\n",
    "from matplotlib.patches import StepPatch\n",
    "import matplotlib.ticker as ticker\n",
    "import matplotlib.gridspec as gridspec\n",
    "import logomaker as lm\n",
    "from cycler import cycler\n",
    "palette = list(mcolors.TABLEAU_COLORS.keys())\n",
    "sns.set_theme(style=\"ticks\", palette=\"muted\")\n",
    "sns.set_context(\"talk\")\n",
    "%matplotlib inline\n",
    "\n",
    "from wand.image import Image as WImage"
   ]
  },
  {
   "cell_type": "markdown",
   "metadata": {},
   "source": [
    "### Setting home directory\n",
    "Navigate back to `NBdir` when re-running this code block."
   ]
  },
  {
   "cell_type": "code",
   "execution_count": 2,
   "metadata": {},
   "outputs": [
    {
     "name": "stdout",
     "output_type": "stream",
     "text": [
      "Notebook is in: /Users/krdav/Google Drive/MCB/Sullivan_lab/tRNA-charge-seq/projects/example\n"
     ]
    }
   ],
   "source": [
    "if not 'NBdir' in globals():\n",
    "    NBdir = os.getcwd()\n",
    "print('Notebook is in: {}'.format(NBdir))\n",
    "os.chdir(NBdir)  # If you changed the current working dir, this will take you back to the notebook dir."
   ]
  },
  {
   "cell_type": "markdown",
   "metadata": {},
   "source": [
    "Define the path to the repo folder and insert it to the system path to enable code import from the `src/` folder.\n",
    "__If the repo structure is changed this may need to be edited.__"
   ]
  },
  {
   "cell_type": "code",
   "execution_count": 3,
   "metadata": {},
   "outputs": [
    {
     "name": "stdout",
     "output_type": "stream",
     "text": [
      "Repo is in: /Users/krdav/Google Drive/MCB/Sullivan_lab/tRNA-charge-seq\n"
     ]
    }
   ],
   "source": [
    "homedir = '/'.join(NBdir.split('/')[0:-2])\n",
    "assert(os.path.isdir(homedir))\n",
    "print('Repo is in: {}'.format(homedir))\n",
    "sys.path.insert(1, homedir)"
   ]
  },
  {
   "cell_type": "markdown",
   "metadata": {},
   "source": [
    "### Importing internal code\n",
    "Import all the relevant classes and functions from the `src/` folder:"
   ]
  },
  {
   "cell_type": "code",
   "execution_count": 4,
   "metadata": {},
   "outputs": [],
   "source": [
    "from src.misc import index_to_sample_df, downsample_raw_input, read_tRNAdb_info, sample_df_to_dict\n",
    "from src.read_processing import AR_merge, BC_split, Kmer_analysis, BC_analysis, UMI_trim\n",
    "from src.alignment import SWIPE_align\n",
    "from src.stats_collection import STATS_collection\n",
    "from src.plotting import TRNA_plot\n",
    "from src.transcript_mutations import TM_analysis"
   ]
  },
  {
   "cell_type": "markdown",
   "metadata": {},
   "source": [
    "### Specify input\n",
    "Default folder names for data and raw fastq files relative to the folder in which this notebook is in.\n",
    "In this example all the output data should be put in the `data_dir` called `data` and the raw fastq files are stored in the `raw_fastq` folder, under the `data` folder."
   ]
  },
  {
   "cell_type": "code",
   "execution_count": 5,
   "metadata": {},
   "outputs": [],
   "source": [
    "data_dir = 'data'\n",
    "seq_dir = 'raw_fastq'\n",
    "seq_dir_noDS = seq_dir # Not downsampled\n",
    "assert(os.path.isdir('{}/{}/{}'.format(NBdir, data_dir, seq_dir)))"
   ]
  },
  {
   "cell_type": "markdown",
   "metadata": {},
   "source": [
    "The tRNA database is specied as a dictionary with keys for the different species:"
   ]
  },
  {
   "cell_type": "code",
   "execution_count": 6,
   "metadata": {},
   "outputs": [],
   "source": [
    "tRNA_database = dict()\n",
    "tRNA_database['human'] = '{}/tRNA_database/human/hg38-tRNAs.fa'.format(homedir)\n",
    "tRNA_database['mouse'] = '{}/tRNA_database/mouse/mm10-tRNAs.fa'.format(homedir)\n",
    "assert(all(os.path.isfile(db) for sp, db in tRNA_database.items()))\n",
    "tRNA_database_masked = dict()\n",
    "tRNA_database_masked['human'] = '{}/tRNA_database_masked/human/human-tRNAs.fa'.format(homedir)\n",
    "assert(all(os.path.isfile(db) for sp, db in tRNA_database_masked.items()))"
   ]
  },
  {
   "cell_type": "markdown",
   "metadata": {},
   "source": [
    "tRNA sequencing yields many duplicated reads.\n",
    "Adding these commonly seen sequences to a list prevents running the same alignments again and again.\n",
    "This is optional."
   ]
  },
  {
   "cell_type": "code",
   "execution_count": 7,
   "metadata": {},
   "outputs": [],
   "source": [
    "# common_seqs = '{}/utils/common-seqs.fasta.bz2'.format(homedir)\n",
    "# ^^ That one is big an comprehensive, good for a full scale run\n",
    "# with >1e6 reads per sample. For this example though it is going to\n",
    "# be a bottleneck for alignment so instead take the top 1k:\n",
    "common_seqs = '{}/utils/common-seqs_1k.fasta.bz2'.format(homedir)\n",
    "assert(os.path.isfile(common_seqs))"
   ]
  },
  {
   "cell_type": "markdown",
   "metadata": {},
   "source": [
    "Scoring matrices for SWIPE alignemnt.\n",
    "Matrix one is a standard +1 for match and -2 for mismatch.\n",
    "Matrix two is similar, but also rewarding match to a \"masked\" nt. marked by the character \"N\"."
   ]
  },
  {
   "cell_type": "code",
   "execution_count": 8,
   "metadata": {},
   "outputs": [],
   "source": [
    "SWIPE_score_mat = '{}/utils/nuc_score-matrix.txt'.format(homedir)\n",
    "SWIPE_score_mat2 = '{}/utils/nuc_score-matrix_2.txt'.format(homedir) # For masked reference sequences\n",
    "assert(os.path.isfile(SWIPE_score_mat))\n",
    "assert(os.path.isfile(SWIPE_score_mat2))"
   ]
  },
  {
   "cell_type": "markdown",
   "metadata": {},
   "source": [
    "Excel file to specify the sequence barcodes/indices e.g. the sequence of Illumina D501 index and the barcode sequence of each adapter."
   ]
  },
  {
   "cell_type": "code",
   "execution_count": 9,
   "metadata": {},
   "outputs": [],
   "source": [
    "index_list_fnam = 'index_list.xlsx'\n",
    "index_list_path = '{}/utils/{}'.format(homedir, index_list_fnam)\n",
    "assert(os.path.isfile(index_list_path))"
   ]
  },
  {
   "cell_type": "markdown",
   "metadata": {},
   "source": [
    "### Specify output directories\n",
    "These folder names are used in subsequent processing steps to dump data into the `data_dir`.\n",
    "Best to not change if you want to reload the data from past processing."
   ]
  },
  {
   "cell_type": "code",
   "execution_count": 10,
   "metadata": {},
   "outputs": [],
   "source": [
    "AdapterRemoval_dir = 'AdapterRemoval'\n",
    "BC_dir = 'BC_split'\n",
    "UMI_dir = 'UMI_trimmed'\n",
    "align_dir = 'SWalign'\n",
    "stats_dir = 'stats_collection'\n",
    "TM_dir = 'transcript_mutations'\n",
    "plotting_dir = 'plotting'"
   ]
  },
  {
   "cell_type": "markdown",
   "metadata": {},
   "source": [
    "### Specify setting for read length and alignment\n",
    "Define minimum read length based on minimum insert size."
   ]
  },
  {
   "cell_type": "code",
   "execution_count": 11,
   "metadata": {},
   "outputs": [
    {
     "name": "stdout",
     "output_type": "stream",
     "text": [
      "Using minimum read length: 39 (after merge)\n"
     ]
    }
   ],
   "source": [
    "MIN_INSERT_LEN = 10\n",
    "UMI_LEN = 10\n",
    "BC_MAX_LEN = 19\n",
    "MIN_READ_LEN = MIN_INSERT_LEN + UMI_LEN + BC_MAX_LEN\n",
    "print('Using minimum read length: {} (after merge)'.format(MIN_READ_LEN))"
   ]
  },
  {
   "cell_type": "markdown",
   "metadata": {},
   "source": [
    "The minimum alignment score.\n",
    "The alignment score is calculated as 1 per match, -2 per mismatch, -6 per gap opening and -1 per gap extension.\n",
    "Better to set relatively low, since additional filtering can be applied later."
   ]
  },
  {
   "cell_type": "code",
   "execution_count": 12,
   "metadata": {},
   "outputs": [
    {
     "name": "stdout",
     "output_type": "stream",
     "text": [
      "Using minimum alignemnt score: 15\n"
     ]
    }
   ],
   "source": [
    "MIN_SCORE_ALIGN = 15\n",
    "print('Using minimum alignemnt score: {}'.format(MIN_SCORE_ALIGN))"
   ]
  },
  {
   "cell_type": "markdown",
   "metadata": {},
   "source": [
    "### Read some global input"
   ]
  },
  {
   "cell_type": "code",
   "execution_count": 13,
   "metadata": {},
   "outputs": [],
   "source": [
    "# Read tRNA database information (length, codon etc) into dictionary:\n",
    "tRNA_data = read_tRNAdb_info(tRNA_database)\n",
    "# Read index information into dataframe:\n",
    "index_df = pd.read_excel(index_list_path)"
   ]
  },
  {
   "cell_type": "code",
   "execution_count": null,
   "metadata": {},
   "outputs": [],
   "source": []
  },
  {
   "cell_type": "code",
   "execution_count": null,
   "metadata": {},
   "outputs": [],
   "source": []
  },
  {
   "cell_type": "markdown",
   "metadata": {},
   "source": [
    "## Setup - sample specific\n",
    "A sample list is defined in an Excel file, in this case named `sample_list.xlsx`.\n",
    "Here, specify the filename, load it and show the first few rows:"
   ]
  },
  {
   "cell_type": "code",
   "execution_count": 14,
   "metadata": {},
   "outputs": [
    {
     "data": {
      "text/html": [
       "<div>\n",
       "<style scoped>\n",
       "    .dataframe tbody tr th:only-of-type {\n",
       "        vertical-align: middle;\n",
       "    }\n",
       "\n",
       "    .dataframe tbody tr th {\n",
       "        vertical-align: top;\n",
       "    }\n",
       "\n",
       "    .dataframe thead th {\n",
       "        text-align: right;\n",
       "    }\n",
       "</style>\n",
       "<table border=\"1\" class=\"dataframe\">\n",
       "  <thead>\n",
       "    <tr style=\"text-align: right;\">\n",
       "      <th></th>\n",
       "      <th>sample_name_unique</th>\n",
       "      <th>sample_name</th>\n",
       "      <th>replicate</th>\n",
       "      <th>fastq_mate1_filename</th>\n",
       "      <th>fastq_mate2_filename</th>\n",
       "      <th>P5_index</th>\n",
       "      <th>P7_index</th>\n",
       "      <th>barcode</th>\n",
       "      <th>species</th>\n",
       "      <th>plot_group</th>\n",
       "      <th>hue_name</th>\n",
       "      <th>hue_value</th>\n",
       "      <th>hue_order</th>\n",
       "    </tr>\n",
       "  </thead>\n",
       "  <tbody>\n",
       "    <tr>\n",
       "      <th>0</th>\n",
       "      <td>100p</td>\n",
       "      <td>100p</td>\n",
       "      <td>1</td>\n",
       "      <td>P3_R1.fastq.bz2</td>\n",
       "      <td>P3_R2.fastq.bz2</td>\n",
       "      <td>D501</td>\n",
       "      <td>D703</td>\n",
       "      <td>l2Sp</td>\n",
       "      <td>human</td>\n",
       "      <td>Charge-titration</td>\n",
       "      <td>Percent charge</td>\n",
       "      <td>100p</td>\n",
       "      <td>1</td>\n",
       "    </tr>\n",
       "    <tr>\n",
       "      <th>1</th>\n",
       "      <td>85p</td>\n",
       "      <td>85p</td>\n",
       "      <td>1</td>\n",
       "      <td>P3_R1.fastq.bz2</td>\n",
       "      <td>P3_R2.fastq.bz2</td>\n",
       "      <td>D501</td>\n",
       "      <td>D703</td>\n",
       "      <td>l4Sp</td>\n",
       "      <td>human</td>\n",
       "      <td>Charge-titration</td>\n",
       "      <td>Percent charge</td>\n",
       "      <td>85p</td>\n",
       "      <td>2</td>\n",
       "    </tr>\n",
       "  </tbody>\n",
       "</table>\n",
       "</div>"
      ],
      "text/plain": [
       "  sample_name_unique sample_name  replicate fastq_mate1_filename  \\\n",
       "0               100p        100p          1      P3_R1.fastq.bz2   \n",
       "1                85p         85p          1      P3_R1.fastq.bz2   \n",
       "\n",
       "  fastq_mate2_filename P5_index P7_index barcode species        plot_group  \\\n",
       "0      P3_R2.fastq.bz2     D501     D703    l2Sp   human  Charge-titration   \n",
       "1      P3_R2.fastq.bz2     D501     D703    l4Sp   human  Charge-titration   \n",
       "\n",
       "         hue_name hue_value  hue_order  \n",
       "0  Percent charge      100p          1  \n",
       "1  Percent charge       85p          2  "
      ]
     },
     "execution_count": 14,
     "metadata": {},
     "output_type": "execute_result"
    }
   ],
   "source": [
    "sample_list_fnam = 'sample_list.xlsx'\n",
    "sample_df = pd.read_excel('{}/{}'.format(NBdir, sample_list_fnam))\n",
    "sample_df.head(2)"
   ]
  },
  {
   "cell_type": "markdown",
   "metadata": {},
   "source": [
    "To this sample list dataframe add barcode and Illumina index sequences from the index dataframe:"
   ]
  },
  {
   "cell_type": "code",
   "execution_count": 15,
   "metadata": {},
   "outputs": [],
   "source": [
    "sample_df = index_to_sample_df(sample_df, index_df)"
   ]
  },
  {
   "cell_type": "markdown",
   "metadata": {},
   "source": [
    "Extract the filename for the paired-end mates to merge.\n",
    "In this example there is only one:"
   ]
  },
  {
   "cell_type": "code",
   "execution_count": 16,
   "metadata": {},
   "outputs": [
    {
     "data": {
      "text/html": [
       "<div>\n",
       "<style scoped>\n",
       "    .dataframe tbody tr th:only-of-type {\n",
       "        vertical-align: middle;\n",
       "    }\n",
       "\n",
       "    .dataframe tbody tr th {\n",
       "        vertical-align: top;\n",
       "    }\n",
       "\n",
       "    .dataframe thead th {\n",
       "        text-align: right;\n",
       "    }\n",
       "</style>\n",
       "<table border=\"1\" class=\"dataframe\">\n",
       "  <thead>\n",
       "    <tr style=\"text-align: right;\">\n",
       "      <th></th>\n",
       "      <th>fastq_mate1_filename</th>\n",
       "      <th>fastq_mate2_filename</th>\n",
       "      <th>P5_index</th>\n",
       "      <th>P7_index</th>\n",
       "      <th>P5_index_seq</th>\n",
       "      <th>P7_index_seq</th>\n",
       "    </tr>\n",
       "  </thead>\n",
       "  <tbody>\n",
       "    <tr>\n",
       "      <th>0</th>\n",
       "      <td>P3_R1.fastq.bz2</td>\n",
       "      <td>P3_R2.fastq.bz2</td>\n",
       "      <td>D501</td>\n",
       "      <td>D703</td>\n",
       "      <td>AGGCTATA</td>\n",
       "      <td>CGCTCATT</td>\n",
       "    </tr>\n",
       "  </tbody>\n",
       "</table>\n",
       "</div>"
      ],
      "text/plain": [
       "  fastq_mate1_filename fastq_mate2_filename P5_index P7_index P5_index_seq  \\\n",
       "0      P3_R1.fastq.bz2      P3_R2.fastq.bz2     D501     D703     AGGCTATA   \n",
       "\n",
       "  P7_index_seq  \n",
       "0     CGCTCATT  "
      ]
     },
     "execution_count": 16,
     "metadata": {},
     "output_type": "execute_result"
    }
   ],
   "source": [
    "# Get filenames from the sample information:\n",
    "inp_file_df = sample_df[['fastq_mate1_filename', 'fastq_mate2_filename', 'P5_index', 'P7_index', 'P5_index_seq', 'P7_index_seq']].copy().drop_duplicates().reset_index(drop=True)\n",
    "inp_file_df"
   ]
  },
  {
   "cell_type": "code",
   "execution_count": null,
   "metadata": {},
   "outputs": [],
   "source": []
  },
  {
   "cell_type": "markdown",
   "metadata": {},
   "source": [
    "### Downsampling for quick first-pass processing\n",
    "This example has 500,000 paired-end reads per file under `data/raw_fastq`.\n",
    "This is a small amount spread over the multiple samples that have been barcoded and pooled, but it is enough for an example.\n",
    "\n",
    "In a typical real run each sample has >1e6 reads and a total of more than 100 samples are pooled.\n",
    "Even simple tasks like uncompressing this amount of reads take a long time.\n",
    "To quickly check the integrity of the data, whether settings are right etc. it is possible to downsample each datafile using the `downsample_raw_input` function.\n",
    "\n",
    "It is highly recommended to do a run on downsampled data first e.g. downsampled to 1e4 reads per file.\n",
    "That way any error will be detected quickly and when results are satisfactory on the downsampled data the workflow can be performed on the full size data with confidence.\n",
    "\n",
    "Because this is an example there is no need to downsample the data first; however for reference, below is an example on how to call the `downsample_raw_input` function and downsample to 1e4 reads per file."
   ]
  },
  {
   "cell_type": "code",
   "execution_count": 17,
   "metadata": {},
   "outputs": [],
   "source": [
    "if False:\n",
    "    sample_df, inp_file_df, seq_dir = downsample_raw_input(sample_df, inp_file_df, NBdir, data_dir, seq_dir_noDS, downsample_absolute=1e4)"
   ]
  },
  {
   "cell_type": "markdown",
   "metadata": {},
   "source": [
    "### Paths for input/output\n",
    "Make a dictionary with paths used for data processing:"
   ]
  },
  {
   "cell_type": "code",
   "execution_count": 18,
   "metadata": {},
   "outputs": [],
   "source": [
    "dir_dict = dict(NBdir = NBdir,\n",
    "                data_dir = data_dir,\n",
    "                seq_dir = seq_dir,\n",
    "                AdapterRemoval_dir = AdapterRemoval_dir,\n",
    "                BC_dir = BC_dir,\n",
    "                UMI_dir = UMI_dir,\n",
    "                align_dir = align_dir,\n",
    "                stats_dir = stats_dir,\n",
    "                TM_dir = TM_dir,\n",
    "                plotting_dir = plotting_dir)"
   ]
  },
  {
   "cell_type": "code",
   "execution_count": null,
   "metadata": {},
   "outputs": [],
   "source": []
  },
  {
   "cell_type": "code",
   "execution_count": null,
   "metadata": {},
   "outputs": [],
   "source": []
  },
  {
   "cell_type": "markdown",
   "metadata": {},
   "source": [
    "## Process tRNA sequencing reads\n",
    "\n",
    "### Adapter removal and merging\n",
    "Run AdapterRemoval software to trim off any remaining Illumina adapters (if that has not already been done) and merge the paired-end reads:"
   ]
  },
  {
   "cell_type": "code",
   "execution_count": 19,
   "metadata": {},
   "outputs": [],
   "source": [
    "# Initiate the AdapterRemoval object:\n",
    "AR_obj = AR_merge(dir_dict, inp_file_df, MIN_READ_LEN, overwrite_dir=True)\n",
    "# Start AdapterRemoval (here n_jobs is irrelevant because there is only one input file pair):\n",
    "inp_file_df = AR_obj.run_parallel(n_jobs=4, overwrite=True)"
   ]
  },
  {
   "cell_type": "markdown",
   "metadata": {},
   "source": [
    "Statistics about the merging has now been added to the `inp_file_df` dataframe.\n",
    "Typically, >90 % of all reads are successfully merged."
   ]
  },
  {
   "cell_type": "code",
   "execution_count": 20,
   "metadata": {},
   "outputs": [
    {
     "data": {
      "text/html": [
       "<div>\n",
       "<style scoped>\n",
       "    .dataframe tbody tr th:only-of-type {\n",
       "        vertical-align: middle;\n",
       "    }\n",
       "\n",
       "    .dataframe tbody tr th {\n",
       "        vertical-align: top;\n",
       "    }\n",
       "\n",
       "    .dataframe thead th {\n",
       "        text-align: right;\n",
       "    }\n",
       "</style>\n",
       "<table border=\"1\" class=\"dataframe\">\n",
       "  <thead>\n",
       "    <tr style=\"text-align: right;\">\n",
       "      <th></th>\n",
       "      <th>fastq_mate1_filename</th>\n",
       "      <th>fastq_mate2_filename</th>\n",
       "      <th>P5_index</th>\n",
       "      <th>P7_index</th>\n",
       "      <th>P5_index_seq</th>\n",
       "      <th>P7_index_seq</th>\n",
       "      <th>N_pairs</th>\n",
       "      <th>N_merged</th>\n",
       "      <th>percent_successfully_merged</th>\n",
       "    </tr>\n",
       "  </thead>\n",
       "  <tbody>\n",
       "    <tr>\n",
       "      <th>0</th>\n",
       "      <td>P3_R1.fastq.bz2</td>\n",
       "      <td>P3_R2.fastq.bz2</td>\n",
       "      <td>D501</td>\n",
       "      <td>D703</td>\n",
       "      <td>AGGCTATA</td>\n",
       "      <td>CGCTCATT</td>\n",
       "      <td>551564</td>\n",
       "      <td>533567</td>\n",
       "      <td>96.737097</td>\n",
       "    </tr>\n",
       "  </tbody>\n",
       "</table>\n",
       "</div>"
      ],
      "text/plain": [
       "  fastq_mate1_filename fastq_mate2_filename P5_index P7_index P5_index_seq  \\\n",
       "0      P3_R1.fastq.bz2      P3_R2.fastq.bz2     D501     D703     AGGCTATA   \n",
       "\n",
       "  P7_index_seq  N_pairs  N_merged  percent_successfully_merged  \n",
       "0     CGCTCATT   551564    533567                    96.737097  "
      ]
     },
     "execution_count": 20,
     "metadata": {},
     "output_type": "execute_result"
    }
   ],
   "source": [
    "inp_file_df"
   ]
  },
  {
   "cell_type": "markdown",
   "metadata": {},
   "source": [
    "### Sample splitting\n",
    "Now, each merged file (only one for this example) contains reads from several adapter barcoded samples.\n",
    "In the following code block the merged file is split into sample specific files."
   ]
  },
  {
   "cell_type": "code",
   "execution_count": 21,
   "metadata": {},
   "outputs": [],
   "source": [
    "# Initiate the barcode splitting object:\n",
    "BCsplit_obj = BC_split(dir_dict, sample_df, inp_file_df, overwrite_dir=True)\n",
    "# Split the files (again, n_jobs is irrelevant because there is only one input file):\n",
    "sample_df, inp_file_df = BCsplit_obj.run_parallel(n_jobs=4)"
   ]
  },
  {
   "cell_type": "markdown",
   "metadata": {},
   "source": [
    "New columns of statistics have been added to the `inp_file_df` dataframe.\n",
    "Typically, >90 % of all merged reads will be successfully mapped to a barcode and split.\n",
    "In this example only 76 % of reads were mapped, below will investigate why."
   ]
  },
  {
   "cell_type": "code",
   "execution_count": 22,
   "metadata": {},
   "outputs": [
    {
     "data": {
      "text/html": [
       "<div>\n",
       "<style scoped>\n",
       "    .dataframe tbody tr th:only-of-type {\n",
       "        vertical-align: middle;\n",
       "    }\n",
       "\n",
       "    .dataframe tbody tr th {\n",
       "        vertical-align: top;\n",
       "    }\n",
       "\n",
       "    .dataframe thead th {\n",
       "        text-align: right;\n",
       "    }\n",
       "</style>\n",
       "<table border=\"1\" class=\"dataframe\">\n",
       "  <thead>\n",
       "    <tr style=\"text-align: right;\">\n",
       "      <th></th>\n",
       "      <th>fastq_mate1_filename</th>\n",
       "      <th>fastq_mate2_filename</th>\n",
       "      <th>P5_index</th>\n",
       "      <th>P7_index</th>\n",
       "      <th>P5_index_seq</th>\n",
       "      <th>P7_index_seq</th>\n",
       "      <th>N_pairs</th>\n",
       "      <th>N_merged</th>\n",
       "      <th>percent_successfully_merged</th>\n",
       "      <th>N_BC-mapped</th>\n",
       "      <th>N_BC-unmapped</th>\n",
       "      <th>N_sum-check</th>\n",
       "      <th>percent_BC-mapped</th>\n",
       "    </tr>\n",
       "  </thead>\n",
       "  <tbody>\n",
       "    <tr>\n",
       "      <th>0</th>\n",
       "      <td>P3_R1.fastq.bz2</td>\n",
       "      <td>P3_R2.fastq.bz2</td>\n",
       "      <td>D501</td>\n",
       "      <td>D703</td>\n",
       "      <td>AGGCTATA</td>\n",
       "      <td>CGCTCATT</td>\n",
       "      <td>551564</td>\n",
       "      <td>533567</td>\n",
       "      <td>96.737097</td>\n",
       "      <td>425049</td>\n",
       "      <td>108518</td>\n",
       "      <td>533567</td>\n",
       "      <td>79.661786</td>\n",
       "    </tr>\n",
       "  </tbody>\n",
       "</table>\n",
       "</div>"
      ],
      "text/plain": [
       "  fastq_mate1_filename fastq_mate2_filename P5_index P7_index P5_index_seq  \\\n",
       "0      P3_R1.fastq.bz2      P3_R2.fastq.bz2     D501     D703     AGGCTATA   \n",
       "\n",
       "  P7_index_seq  N_pairs  N_merged  percent_successfully_merged  N_BC-mapped  \\\n",
       "0     CGCTCATT   551564    533567                    96.737097       425049   \n",
       "\n",
       "   N_BC-unmapped  N_sum-check  percent_BC-mapped  \n",
       "0         108518       533567          79.661786  "
      ]
     },
     "execution_count": 22,
     "metadata": {},
     "output_type": "execute_result"
    }
   ],
   "source": [
    "inp_file_df"
   ]
  },
  {
   "cell_type": "markdown",
   "metadata": {},
   "source": [
    "Statistics have also also been added to the `sample_df` dataframe.\n",
    "For example the total number of reads for the sample (N_total) and how many ended on CC vs. CCA.\n",
    "Since all mature tRNAs end on CCA, and oxidation and 3' cleavage generates 3' CC, the percentage of CCA+CC vs. total reads is a good indidator of sample purity; it is typically >95 %.\n",
    "The percentage of CCA ending sequences (vs. CCA+CC ending) can be interpreted as the bulk charge"
   ]
  },
  {
   "cell_type": "code",
   "execution_count": 23,
   "metadata": {},
   "outputs": [
    {
     "data": {
      "text/html": [
       "<div>\n",
       "<style scoped>\n",
       "    .dataframe tbody tr th:only-of-type {\n",
       "        vertical-align: middle;\n",
       "    }\n",
       "\n",
       "    .dataframe tbody tr th {\n",
       "        vertical-align: top;\n",
       "    }\n",
       "\n",
       "    .dataframe thead th {\n",
       "        text-align: right;\n",
       "    }\n",
       "</style>\n",
       "<table border=\"1\" class=\"dataframe\">\n",
       "  <thead>\n",
       "    <tr style=\"text-align: right;\">\n",
       "      <th></th>\n",
       "      <th>sample_name_unique</th>\n",
       "      <th>sample_name</th>\n",
       "      <th>replicate</th>\n",
       "      <th>fastq_mate1_filename</th>\n",
       "      <th>fastq_mate2_filename</th>\n",
       "      <th>P5_index</th>\n",
       "      <th>P7_index</th>\n",
       "      <th>barcode</th>\n",
       "      <th>species</th>\n",
       "      <th>plot_group</th>\n",
       "      <th>hue_name</th>\n",
       "      <th>hue_value</th>\n",
       "      <th>hue_order</th>\n",
       "      <th>P5_index_seq</th>\n",
       "      <th>P7_index_seq</th>\n",
       "      <th>barcode_seq</th>\n",
       "      <th>N_total</th>\n",
       "      <th>N_CC</th>\n",
       "      <th>N_CCA</th>\n",
       "      <th>N_CCA+CC</th>\n",
       "      <th>CCA+CC_percent_total</th>\n",
       "      <th>percent_CCA</th>\n",
       "    </tr>\n",
       "  </thead>\n",
       "  <tbody>\n",
       "    <tr>\n",
       "      <th>0</th>\n",
       "      <td>100p</td>\n",
       "      <td>100p</td>\n",
       "      <td>1</td>\n",
       "      <td>P3_R1.fastq.bz2</td>\n",
       "      <td>P3_R2.fastq.bz2</td>\n",
       "      <td>D501</td>\n",
       "      <td>D703</td>\n",
       "      <td>l2Sp</td>\n",
       "      <td>human</td>\n",
       "      <td>Charge-titration</td>\n",
       "      <td>Percent charge</td>\n",
       "      <td>100p</td>\n",
       "      <td>1</td>\n",
       "      <td>AGGCTATA</td>\n",
       "      <td>CGCTCATT</td>\n",
       "      <td>GGCTGCCATGCTGTCACG</td>\n",
       "      <td>42717</td>\n",
       "      <td>2279</td>\n",
       "      <td>40087</td>\n",
       "      <td>42366</td>\n",
       "      <td>99.178313</td>\n",
       "      <td>94.620686</td>\n",
       "    </tr>\n",
       "    <tr>\n",
       "      <th>1</th>\n",
       "      <td>85p</td>\n",
       "      <td>85p</td>\n",
       "      <td>1</td>\n",
       "      <td>P3_R1.fastq.bz2</td>\n",
       "      <td>P3_R2.fastq.bz2</td>\n",
       "      <td>D501</td>\n",
       "      <td>D703</td>\n",
       "      <td>l4Sp</td>\n",
       "      <td>human</td>\n",
       "      <td>Charge-titration</td>\n",
       "      <td>Percent charge</td>\n",
       "      <td>85p</td>\n",
       "      <td>2</td>\n",
       "      <td>AGGCTATA</td>\n",
       "      <td>CGCTCATT</td>\n",
       "      <td>GGCTGCCATGCAAGCTG</td>\n",
       "      <td>41307</td>\n",
       "      <td>9872</td>\n",
       "      <td>31072</td>\n",
       "      <td>40944</td>\n",
       "      <td>99.121214</td>\n",
       "      <td>75.889019</td>\n",
       "    </tr>\n",
       "    <tr>\n",
       "      <th>2</th>\n",
       "      <td>70p</td>\n",
       "      <td>70p</td>\n",
       "      <td>1</td>\n",
       "      <td>P3_R1.fastq.bz2</td>\n",
       "      <td>P3_R2.fastq.bz2</td>\n",
       "      <td>D501</td>\n",
       "      <td>D703</td>\n",
       "      <td>l6Sp</td>\n",
       "      <td>human</td>\n",
       "      <td>Charge-titration</td>\n",
       "      <td>Percent charge</td>\n",
       "      <td>70p</td>\n",
       "      <td>3</td>\n",
       "      <td>AGGCTATA</td>\n",
       "      <td>CGCTCATT</td>\n",
       "      <td>GGCTGCCATGCTACAG</td>\n",
       "      <td>52721</td>\n",
       "      <td>23268</td>\n",
       "      <td>29050</td>\n",
       "      <td>52318</td>\n",
       "      <td>99.235599</td>\n",
       "      <td>55.525823</td>\n",
       "    </tr>\n",
       "    <tr>\n",
       "      <th>3</th>\n",
       "      <td>47p</td>\n",
       "      <td>47p</td>\n",
       "      <td>1</td>\n",
       "      <td>P3_R1.fastq.bz2</td>\n",
       "      <td>P3_R2.fastq.bz2</td>\n",
       "      <td>D501</td>\n",
       "      <td>D703</td>\n",
       "      <td>l9Sp</td>\n",
       "      <td>human</td>\n",
       "      <td>Charge-titration</td>\n",
       "      <td>Percent charge</td>\n",
       "      <td>47p</td>\n",
       "      <td>4</td>\n",
       "      <td>AGGCTATA</td>\n",
       "      <td>CGCTCATT</td>\n",
       "      <td>GGCTGCCATGCAACGTACA</td>\n",
       "      <td>106282</td>\n",
       "      <td>67658</td>\n",
       "      <td>37733</td>\n",
       "      <td>105391</td>\n",
       "      <td>99.161664</td>\n",
       "      <td>35.802867</td>\n",
       "    </tr>\n",
       "    <tr>\n",
       "      <th>4</th>\n",
       "      <td>40p1</td>\n",
       "      <td>40p</td>\n",
       "      <td>1</td>\n",
       "      <td>P3_R1.fastq.bz2</td>\n",
       "      <td>P3_R2.fastq.bz2</td>\n",
       "      <td>D501</td>\n",
       "      <td>D703</td>\n",
       "      <td>l3Sp</td>\n",
       "      <td>human</td>\n",
       "      <td>Charge-titration</td>\n",
       "      <td>Percent charge</td>\n",
       "      <td>40p</td>\n",
       "      <td>5</td>\n",
       "      <td>AGGCTATA</td>\n",
       "      <td>CGCTCATT</td>\n",
       "      <td>GGCTGCCATGCTGCGA</td>\n",
       "      <td>43159</td>\n",
       "      <td>30957</td>\n",
       "      <td>11883</td>\n",
       "      <td>42840</td>\n",
       "      <td>99.260873</td>\n",
       "      <td>27.738095</td>\n",
       "    </tr>\n",
       "    <tr>\n",
       "      <th>5</th>\n",
       "      <td>40p2</td>\n",
       "      <td>40p</td>\n",
       "      <td>2</td>\n",
       "      <td>P3_R1.fastq.bz2</td>\n",
       "      <td>P3_R2.fastq.bz2</td>\n",
       "      <td>D501</td>\n",
       "      <td>D703</td>\n",
       "      <td>l5Sp</td>\n",
       "      <td>human</td>\n",
       "      <td>Charge-titration</td>\n",
       "      <td>Percent charge</td>\n",
       "      <td>40p</td>\n",
       "      <td>5</td>\n",
       "      <td>AGGCTATA</td>\n",
       "      <td>CGCTCATT</td>\n",
       "      <td>GGCTGCCATGCAACGCATC</td>\n",
       "      <td>42017</td>\n",
       "      <td>29964</td>\n",
       "      <td>11758</td>\n",
       "      <td>41722</td>\n",
       "      <td>99.297903</td>\n",
       "      <td>28.181775</td>\n",
       "    </tr>\n",
       "    <tr>\n",
       "      <th>6</th>\n",
       "      <td>10p</td>\n",
       "      <td>10p</td>\n",
       "      <td>1</td>\n",
       "      <td>P3_R1.fastq.bz2</td>\n",
       "      <td>P3_R2.fastq.bz2</td>\n",
       "      <td>D501</td>\n",
       "      <td>D703</td>\n",
       "      <td>l1Sp</td>\n",
       "      <td>human</td>\n",
       "      <td>Charge-titration</td>\n",
       "      <td>Percent charge</td>\n",
       "      <td>10p</td>\n",
       "      <td>6</td>\n",
       "      <td>AGGCTATA</td>\n",
       "      <td>CGCTCATT</td>\n",
       "      <td>GGCTGCCATGCGACTA</td>\n",
       "      <td>44901</td>\n",
       "      <td>41765</td>\n",
       "      <td>2760</td>\n",
       "      <td>44525</td>\n",
       "      <td>99.162602</td>\n",
       "      <td>6.198765</td>\n",
       "    </tr>\n",
       "    <tr>\n",
       "      <th>7</th>\n",
       "      <td>0p</td>\n",
       "      <td>0p</td>\n",
       "      <td>1</td>\n",
       "      <td>P3_R1.fastq.bz2</td>\n",
       "      <td>P3_R2.fastq.bz2</td>\n",
       "      <td>D501</td>\n",
       "      <td>D703</td>\n",
       "      <td>l7Sp</td>\n",
       "      <td>human</td>\n",
       "      <td>Charge-titration</td>\n",
       "      <td>Percent charge</td>\n",
       "      <td>0p</td>\n",
       "      <td>7</td>\n",
       "      <td>AGGCTATA</td>\n",
       "      <td>CGCTCATT</td>\n",
       "      <td>GGCTGCCATGCACATGA</td>\n",
       "      <td>51945</td>\n",
       "      <td>51203</td>\n",
       "      <td>318</td>\n",
       "      <td>51521</td>\n",
       "      <td>99.183752</td>\n",
       "      <td>0.617224</td>\n",
       "    </tr>\n",
       "  </tbody>\n",
       "</table>\n",
       "</div>"
      ],
      "text/plain": [
       "  sample_name_unique sample_name  replicate fastq_mate1_filename  \\\n",
       "0               100p        100p          1      P3_R1.fastq.bz2   \n",
       "1                85p         85p          1      P3_R1.fastq.bz2   \n",
       "2                70p         70p          1      P3_R1.fastq.bz2   \n",
       "3                47p         47p          1      P3_R1.fastq.bz2   \n",
       "4               40p1         40p          1      P3_R1.fastq.bz2   \n",
       "5               40p2         40p          2      P3_R1.fastq.bz2   \n",
       "6                10p         10p          1      P3_R1.fastq.bz2   \n",
       "7                 0p          0p          1      P3_R1.fastq.bz2   \n",
       "\n",
       "  fastq_mate2_filename P5_index P7_index barcode species        plot_group  \\\n",
       "0      P3_R2.fastq.bz2     D501     D703    l2Sp   human  Charge-titration   \n",
       "1      P3_R2.fastq.bz2     D501     D703    l4Sp   human  Charge-titration   \n",
       "2      P3_R2.fastq.bz2     D501     D703    l6Sp   human  Charge-titration   \n",
       "3      P3_R2.fastq.bz2     D501     D703    l9Sp   human  Charge-titration   \n",
       "4      P3_R2.fastq.bz2     D501     D703    l3Sp   human  Charge-titration   \n",
       "5      P3_R2.fastq.bz2     D501     D703    l5Sp   human  Charge-titration   \n",
       "6      P3_R2.fastq.bz2     D501     D703    l1Sp   human  Charge-titration   \n",
       "7      P3_R2.fastq.bz2     D501     D703    l7Sp   human  Charge-titration   \n",
       "\n",
       "         hue_name hue_value  hue_order P5_index_seq P7_index_seq  \\\n",
       "0  Percent charge      100p          1     AGGCTATA     CGCTCATT   \n",
       "1  Percent charge       85p          2     AGGCTATA     CGCTCATT   \n",
       "2  Percent charge       70p          3     AGGCTATA     CGCTCATT   \n",
       "3  Percent charge       47p          4     AGGCTATA     CGCTCATT   \n",
       "4  Percent charge       40p          5     AGGCTATA     CGCTCATT   \n",
       "5  Percent charge       40p          5     AGGCTATA     CGCTCATT   \n",
       "6  Percent charge       10p          6     AGGCTATA     CGCTCATT   \n",
       "7  Percent charge        0p          7     AGGCTATA     CGCTCATT   \n",
       "\n",
       "           barcode_seq  N_total   N_CC  N_CCA  N_CCA+CC  CCA+CC_percent_total  \\\n",
       "0   GGCTGCCATGCTGTCACG    42717   2279  40087     42366             99.178313   \n",
       "1    GGCTGCCATGCAAGCTG    41307   9872  31072     40944             99.121214   \n",
       "2     GGCTGCCATGCTACAG    52721  23268  29050     52318             99.235599   \n",
       "3  GGCTGCCATGCAACGTACA   106282  67658  37733    105391             99.161664   \n",
       "4     GGCTGCCATGCTGCGA    43159  30957  11883     42840             99.260873   \n",
       "5  GGCTGCCATGCAACGCATC    42017  29964  11758     41722             99.297903   \n",
       "6     GGCTGCCATGCGACTA    44901  41765   2760     44525             99.162602   \n",
       "7    GGCTGCCATGCACATGA    51945  51203    318     51521             99.183752   \n",
       "\n",
       "   percent_CCA  \n",
       "0    94.620686  \n",
       "1    75.889019  \n",
       "2    55.525823  \n",
       "3    35.802867  \n",
       "4    27.738095  \n",
       "5    28.181775  \n",
       "6     6.198765  \n",
       "7     0.617224  "
      ]
     },
     "execution_count": 23,
     "metadata": {},
     "output_type": "execute_result"
    }
   ],
   "source": [
    "sample_df"
   ]
  },
  {
   "cell_type": "code",
   "execution_count": null,
   "metadata": {},
   "outputs": [],
   "source": []
  },
  {
   "cell_type": "code",
   "execution_count": null,
   "metadata": {},
   "outputs": [],
   "source": []
  },
  {
   "cell_type": "markdown",
   "metadata": {},
   "source": [
    "### Looking at unmapped reads\n",
    "Since the above mapping percentage was low we can run analysis on the unmapped reads to see if there is a pattern at the end of the reads were the adapter sequences was supposed to be.\n",
    "\n",
    "The most basic way of doing this is by counting Kmers:"
   ]
  },
  {
   "cell_type": "code",
   "execution_count": 24,
   "metadata": {},
   "outputs": [],
   "source": [
    "### Perform Kmer analysis on unmapped reads ###\n",
    "if True: # barcode analysis is typically suficient \n",
    "    # Initiate the Kmer analysis object:\n",
    "    kmer_obj = Kmer_analysis(dir_dict, inp_file_df, index_df, overwrite=True)\n",
    "    # Add a filter to avoid Kmers from the end of tRNA sequences:\n",
    "    kmer_obj.filter_3p_fasta(tRNA_database['human'])\n",
    "    # Add to this filter the constant region of the adapters:\n",
    "    kmer_obj.filter_window_BC(filter_window=(0, 11))\n",
    "    # Search for Kmers:\n",
    "    all_kmer = kmer_obj.search_unmapped(search_size=13)"
   ]
  },
  {
   "cell_type": "markdown",
   "metadata": {},
   "source": [
    "In the output table below each Kmer is listed with its count and distance to a known barcode (as defined in the index list input).\n",
    "It would seem that a lot of reads have Kmers similar to those found in adapter l11Sp..."
   ]
  },
  {
   "cell_type": "code",
   "execution_count": 25,
   "metadata": {},
   "outputs": [
    {
     "data": {
      "text/html": [
       "<div>\n",
       "<style scoped>\n",
       "    .dataframe tbody tr th:only-of-type {\n",
       "        vertical-align: middle;\n",
       "    }\n",
       "\n",
       "    .dataframe tbody tr th {\n",
       "        vertical-align: top;\n",
       "    }\n",
       "\n",
       "    .dataframe thead th {\n",
       "        text-align: right;\n",
       "    }\n",
       "</style>\n",
       "<table border=\"1\" class=\"dataframe\">\n",
       "  <thead>\n",
       "    <tr style=\"text-align: right;\">\n",
       "      <th></th>\n",
       "      <th>Kmer</th>\n",
       "      <th>Count</th>\n",
       "      <th>Barcode distance</th>\n",
       "      <th>Barcode</th>\n",
       "    </tr>\n",
       "  </thead>\n",
       "  <tbody>\n",
       "    <tr>\n",
       "      <th>0</th>\n",
       "      <td>TGCAA</td>\n",
       "      <td>90641</td>\n",
       "      <td>0.0</td>\n",
       "      <td>l4Sp</td>\n",
       "    </tr>\n",
       "    <tr>\n",
       "      <th>1</th>\n",
       "      <td>GCAAC</td>\n",
       "      <td>57033</td>\n",
       "      <td>0.0</td>\n",
       "      <td>l5Sp</td>\n",
       "    </tr>\n",
       "    <tr>\n",
       "      <th>2</th>\n",
       "      <td>AACCT</td>\n",
       "      <td>54617</td>\n",
       "      <td>0.0</td>\n",
       "      <td>l11Sp</td>\n",
       "    </tr>\n",
       "    <tr>\n",
       "      <th>3</th>\n",
       "      <td>CTGAT</td>\n",
       "      <td>54584</td>\n",
       "      <td>0.0</td>\n",
       "      <td>l11Sp</td>\n",
       "    </tr>\n",
       "    <tr>\n",
       "      <th>4</th>\n",
       "      <td>CCTGA</td>\n",
       "      <td>54453</td>\n",
       "      <td>0.0</td>\n",
       "      <td>l11Sp</td>\n",
       "    </tr>\n",
       "    <tr>\n",
       "      <th>5</th>\n",
       "      <td>ACCTG</td>\n",
       "      <td>54435</td>\n",
       "      <td>0.0</td>\n",
       "      <td>l11Sp</td>\n",
       "    </tr>\n",
       "    <tr>\n",
       "      <th>6</th>\n",
       "      <td>GCAAG</td>\n",
       "      <td>33330</td>\n",
       "      <td>0.0</td>\n",
       "      <td>l4Sp</td>\n",
       "    </tr>\n",
       "    <tr>\n",
       "      <th>7</th>\n",
       "      <td>CAAGT</td>\n",
       "      <td>32824</td>\n",
       "      <td>0.0</td>\n",
       "      <td>l10Sp</td>\n",
       "    </tr>\n",
       "  </tbody>\n",
       "</table>\n",
       "</div>"
      ],
      "text/plain": [
       "    Kmer  Count  Barcode distance Barcode\n",
       "0  TGCAA  90641               0.0    l4Sp\n",
       "1  GCAAC  57033               0.0    l5Sp\n",
       "2  AACCT  54617               0.0   l11Sp\n",
       "3  CTGAT  54584               0.0   l11Sp\n",
       "4  CCTGA  54453               0.0   l11Sp\n",
       "5  ACCTG  54435               0.0   l11Sp\n",
       "6  GCAAG  33330               0.0    l4Sp\n",
       "7  CAAGT  32824               0.0   l10Sp"
      ]
     },
     "execution_count": 25,
     "metadata": {},
     "output_type": "execute_result"
    }
   ],
   "source": [
    "all_kmer.head(8)"
   ]
  },
  {
   "cell_type": "markdown",
   "metadata": {},
   "source": [
    "Another way, typically more useful, of looking into the unmapped reads is to look for the barcode sequences directly.\n",
    "\n",
    "Recall that adapters look like this:  \n",
    "``GGCTGCCATGC    GACTA``  \n",
    "``GGCTGCCATGCA   AGTGC``  \n",
    "``GGCTGCCATGCTG  TCACG``  \n",
    "``GGCTGCCATGCAAC CTGAT``  \n",
    "With the barcode as the rightmost 5 nt.\n",
    "Search these 5 nt. barcodes by specifying `BC_size_3p=5`."
   ]
  },
  {
   "cell_type": "code",
   "execution_count": 26,
   "metadata": {},
   "outputs": [],
   "source": [
    "# Initiate the barcode analysis object:\n",
    "bc_analysis_obj = BC_analysis(dir_dict, inp_file_df, index_df, BC_size_3p=5, overwrite=True)\n",
    "# Search for barcodes in the unmapped reads.\n",
    "# For the summary output, filter by a max distance\n",
    "# to any barcode of 1 (group_dist=1), then group by barcode name:\n",
    "bc_analysis_df = bc_analysis_obj.search_unmapped(group_dist=1)"
   ]
  },
  {
   "cell_type": "markdown",
   "metadata": {},
   "source": [
    "The grouped counts can be seen in the output and again suggests presence of l10Sp and l11Sp, but also l12Sp and l3Sp to a lesser extend:"
   ]
  },
  {
   "cell_type": "code",
   "execution_count": 27,
   "metadata": {},
   "outputs": [
    {
     "data": {
      "text/html": [
       "<div>\n",
       "<style scoped>\n",
       "    .dataframe tbody tr th:only-of-type {\n",
       "        vertical-align: middle;\n",
       "    }\n",
       "\n",
       "    .dataframe tbody tr th {\n",
       "        vertical-align: top;\n",
       "    }\n",
       "\n",
       "    .dataframe thead th {\n",
       "        text-align: right;\n",
       "    }\n",
       "</style>\n",
       "<table border=\"1\" class=\"dataframe\">\n",
       "  <thead>\n",
       "    <tr style=\"text-align: right;\">\n",
       "      <th></th>\n",
       "      <th>Name</th>\n",
       "      <th>Count</th>\n",
       "    </tr>\n",
       "  </thead>\n",
       "  <tbody>\n",
       "    <tr>\n",
       "      <th>0</th>\n",
       "      <td>l11Sp</td>\n",
       "      <td>54405</td>\n",
       "    </tr>\n",
       "    <tr>\n",
       "      <th>1</th>\n",
       "      <td>l10Sp</td>\n",
       "      <td>32259</td>\n",
       "    </tr>\n",
       "    <tr>\n",
       "      <th>2</th>\n",
       "      <td>l12Sp</td>\n",
       "      <td>7391</td>\n",
       "    </tr>\n",
       "    <tr>\n",
       "      <th>3</th>\n",
       "      <td>l3Sp</td>\n",
       "      <td>3253</td>\n",
       "    </tr>\n",
       "  </tbody>\n",
       "</table>\n",
       "</div>"
      ],
      "text/plain": [
       "    Name  Count\n",
       "0  l11Sp  54405\n",
       "1  l10Sp  32259\n",
       "2  l12Sp   7391\n",
       "3   l3Sp   3253"
      ]
     },
     "execution_count": 27,
     "metadata": {},
     "output_type": "execute_result"
    }
   ],
   "source": [
    "bc_analysis_df.head(4)"
   ]
  },
  {
   "cell_type": "markdown",
   "metadata": {},
   "source": [
    "And more detailed information can be gleaned in the `bc_df` attribute which shows that the high number for l5Sp shown above is mostly due to observations with distances 1 from the barcode counted because of the `group_dist=1` flag."
   ]
  },
  {
   "cell_type": "code",
   "execution_count": 28,
   "metadata": {},
   "outputs": [
    {
     "data": {
      "text/html": [
       "<div>\n",
       "<style scoped>\n",
       "    .dataframe tbody tr th:only-of-type {\n",
       "        vertical-align: middle;\n",
       "    }\n",
       "\n",
       "    .dataframe tbody tr th {\n",
       "        vertical-align: top;\n",
       "    }\n",
       "\n",
       "    .dataframe thead th {\n",
       "        text-align: right;\n",
       "    }\n",
       "</style>\n",
       "<table border=\"1\" class=\"dataframe\">\n",
       "  <thead>\n",
       "    <tr style=\"text-align: right;\">\n",
       "      <th></th>\n",
       "      <th>Name</th>\n",
       "      <th>Barcode</th>\n",
       "      <th>Target</th>\n",
       "      <th>Count</th>\n",
       "      <th>Distance</th>\n",
       "    </tr>\n",
       "  </thead>\n",
       "  <tbody>\n",
       "    <tr>\n",
       "      <th>0</th>\n",
       "      <td>l11Sp</td>\n",
       "      <td>CTGAT</td>\n",
       "      <td>CTGAT</td>\n",
       "      <td>54322</td>\n",
       "      <td>0</td>\n",
       "    </tr>\n",
       "    <tr>\n",
       "      <th>1</th>\n",
       "      <td>l10Sp</td>\n",
       "      <td>AGTGC</td>\n",
       "      <td>AGTGC</td>\n",
       "      <td>32226</td>\n",
       "      <td>0</td>\n",
       "    </tr>\n",
       "    <tr>\n",
       "      <th>2</th>\n",
       "      <td>l12Sp</td>\n",
       "      <td>GTGAC</td>\n",
       "      <td>GTGAC</td>\n",
       "      <td>7368</td>\n",
       "      <td>0</td>\n",
       "    </tr>\n",
       "    <tr>\n",
       "      <th>3</th>\n",
       "      <td>l9Sp</td>\n",
       "      <td>GTACA</td>\n",
       "      <td>GTACA</td>\n",
       "      <td>1678</td>\n",
       "      <td>0</td>\n",
       "    </tr>\n",
       "    <tr>\n",
       "      <th>4</th>\n",
       "      <td>l3Sp</td>\n",
       "      <td>TGCGA</td>\n",
       "      <td>TGCGA</td>\n",
       "      <td>1124</td>\n",
       "      <td>0</td>\n",
       "    </tr>\n",
       "    <tr>\n",
       "      <th>5</th>\n",
       "      <td>l7Sp</td>\n",
       "      <td>CATGA</td>\n",
       "      <td>CATGA</td>\n",
       "      <td>1060</td>\n",
       "      <td>0</td>\n",
       "    </tr>\n",
       "    <tr>\n",
       "      <th>6</th>\n",
       "      <td>l5Sp</td>\n",
       "      <td>GCATC</td>\n",
       "      <td>GCATC</td>\n",
       "      <td>709</td>\n",
       "      <td>0</td>\n",
       "    </tr>\n",
       "  </tbody>\n",
       "</table>\n",
       "</div>"
      ],
      "text/plain": [
       "    Name Barcode Target  Count  Distance\n",
       "0  l11Sp   CTGAT  CTGAT  54322         0\n",
       "1  l10Sp   AGTGC  AGTGC  32226         0\n",
       "2  l12Sp   GTGAC  GTGAC   7368         0\n",
       "3   l9Sp   GTACA  GTACA   1678         0\n",
       "4   l3Sp   TGCGA  TGCGA   1124         0\n",
       "5   l7Sp   CATGA  CATGA   1060         0\n",
       "6   l5Sp   GCATC  GCATC    709         0"
      ]
     },
     "execution_count": 28,
     "metadata": {},
     "output_type": "execute_result"
    }
   ],
   "source": [
    "bc_analysis_obj.bc_df.head(7)"
   ]
  },
  {
   "cell_type": "markdown",
   "metadata": {},
   "source": [
    "The full output, grouped and not, can be found in the barcode split data folder in the two folders `Kmer_analysis` and `BC_analysis`.\n",
    "The explanation for the low mapping and the above findings is that the input file actually _do_ have samples barcoded with l10Sp, l11Sp and l12Sp even though these samples have not been defined in the samples sheet `sample_list.xlsx`.\n",
    "Thus, the use of Kmer and/or barcode analysis could be used to identify any mislabelling, bad adapters etc."
   ]
  },
  {
   "cell_type": "code",
   "execution_count": null,
   "metadata": {},
   "outputs": [],
   "source": []
  },
  {
   "cell_type": "code",
   "execution_count": null,
   "metadata": {},
   "outputs": [],
   "source": []
  },
  {
   "cell_type": "markdown",
   "metadata": {},
   "source": [
    "### Trimming UMI\n",
    "The reverse transcription was performed with an oligo containing a 10 nt. unique molecular identifier (UMI).\n",
    "Typically, UMIs are employed to collaped reads from the same molecule when over-sequencing a library made from a very small amount of starting material.\n",
    "For tRNA sequencing the amount of starting material should be so high that no tRNA molecular is sequenced twice; however, if there were bottlenecks in the library prep that assumption could prove false.\n",
    "The UMI employed for tRNA sequencing as a quality control for library prep.\n",
    "It also helps to diversify the start of the read, thereby increasing Illumina sequencing quality, and it randomizes the sequence context for circular ligation, decreasing ligation bias.\n",
    "\n",
    "But we also need to get rid of it before alignment."
   ]
  },
  {
   "cell_type": "code",
   "execution_count": 29,
   "metadata": {},
   "outputs": [],
   "source": [
    "# Initiate the UMI trimming object:\n",
    "UMItrim_obj = UMI_trim(dir_dict, sample_df, overwrite_dir=True)\n",
    "# Run the UMI trimming in parallel (increase n_jobs to number of processor):\n",
    "sample_df = UMItrim_obj.run_parallel(n_jobs=4)"
   ]
  },
  {
   "cell_type": "markdown",
   "metadata": {},
   "source": [
    "UMI trimming statistics have been added to the `sample_df` dataframe.\n",
    "Typically, >95 % of all barcode split reads have a valid UMI sequence i.e. the UMI ends on T or C.\n",
    "\n",
    "Observe, that the _expected_ number of observed UMIs have been calculated given the length of the UMI and the number reads with valid UMIs.\n",
    "The percentage of observed vs. expected UMIs is a good validation that the library prep was successful.\n",
    "It should not be expected to be 100 % because random bases in oligos are [not completely random](https://www.idtdna.com/pages/products/custom-dna-rna/mixed-bases); however, it should typically be >90 %.\n",
    "Be aware though, that the observed vs. expected UMI percentage depends on the sampling depth and thus downsampling will likely change this number.\n",
    "Downsampling using the `downsample_absolute` option could also cause lower percentages because it samples from the top of the fastq file (for speed reasons) and thus not randomly.\n",
    "Use the `downsample_fold` option for true random sampling.\n",
    "For an example of how the number of reads affect this see the `utils/code-of-limited-use` folder and check the `UMI_count_analysis` notebook."
   ]
  },
  {
   "cell_type": "code",
   "execution_count": 30,
   "metadata": {},
   "outputs": [
    {
     "data": {
      "text/html": [
       "<div>\n",
       "<style scoped>\n",
       "    .dataframe tbody tr th:only-of-type {\n",
       "        vertical-align: middle;\n",
       "    }\n",
       "\n",
       "    .dataframe tbody tr th {\n",
       "        vertical-align: top;\n",
       "    }\n",
       "\n",
       "    .dataframe thead th {\n",
       "        text-align: right;\n",
       "    }\n",
       "</style>\n",
       "<table border=\"1\" class=\"dataframe\">\n",
       "  <thead>\n",
       "    <tr style=\"text-align: right;\">\n",
       "      <th></th>\n",
       "      <th>sample_name_unique</th>\n",
       "      <th>sample_name</th>\n",
       "      <th>replicate</th>\n",
       "      <th>fastq_mate1_filename</th>\n",
       "      <th>fastq_mate2_filename</th>\n",
       "      <th>P5_index</th>\n",
       "      <th>P7_index</th>\n",
       "      <th>barcode</th>\n",
       "      <th>species</th>\n",
       "      <th>plot_group</th>\n",
       "      <th>hue_name</th>\n",
       "      <th>hue_value</th>\n",
       "      <th>hue_order</th>\n",
       "      <th>P5_index_seq</th>\n",
       "      <th>P7_index_seq</th>\n",
       "      <th>barcode_seq</th>\n",
       "      <th>N_total</th>\n",
       "      <th>N_CC</th>\n",
       "      <th>N_CCA</th>\n",
       "      <th>N_CCA+CC</th>\n",
       "      <th>CCA+CC_percent_total</th>\n",
       "      <th>percent_CCA</th>\n",
       "      <th>N_after_trim</th>\n",
       "      <th>N_UMI_observed</th>\n",
       "      <th>N_UMI_expected</th>\n",
       "      <th>percent_seqs_after_UMI_trim</th>\n",
       "      <th>percent_UMI_obs-vs-exp</th>\n",
       "    </tr>\n",
       "  </thead>\n",
       "  <tbody>\n",
       "    <tr>\n",
       "      <th>0</th>\n",
       "      <td>100p</td>\n",
       "      <td>100p</td>\n",
       "      <td>1</td>\n",
       "      <td>P3_R1.fastq.bz2</td>\n",
       "      <td>P3_R2.fastq.bz2</td>\n",
       "      <td>D501</td>\n",
       "      <td>D703</td>\n",
       "      <td>l2Sp</td>\n",
       "      <td>human</td>\n",
       "      <td>Charge-titration</td>\n",
       "      <td>Percent charge</td>\n",
       "      <td>100p</td>\n",
       "      <td>1</td>\n",
       "      <td>AGGCTATA</td>\n",
       "      <td>CGCTCATT</td>\n",
       "      <td>GGCTGCCATGCTGTCACG</td>\n",
       "      <td>42717</td>\n",
       "      <td>2279</td>\n",
       "      <td>40087</td>\n",
       "      <td>42366</td>\n",
       "      <td>99.178313</td>\n",
       "      <td>94.620686</td>\n",
       "      <td>41950</td>\n",
       "      <td>39541</td>\n",
       "      <td>40315.638763</td>\n",
       "      <td>98.204462</td>\n",
       "      <td>98.078565</td>\n",
       "    </tr>\n",
       "    <tr>\n",
       "      <th>1</th>\n",
       "      <td>85p</td>\n",
       "      <td>85p</td>\n",
       "      <td>1</td>\n",
       "      <td>P3_R1.fastq.bz2</td>\n",
       "      <td>P3_R2.fastq.bz2</td>\n",
       "      <td>D501</td>\n",
       "      <td>D703</td>\n",
       "      <td>l4Sp</td>\n",
       "      <td>human</td>\n",
       "      <td>Charge-titration</td>\n",
       "      <td>Percent charge</td>\n",
       "      <td>85p</td>\n",
       "      <td>2</td>\n",
       "      <td>AGGCTATA</td>\n",
       "      <td>CGCTCATT</td>\n",
       "      <td>GGCTGCCATGCAAGCTG</td>\n",
       "      <td>41307</td>\n",
       "      <td>9872</td>\n",
       "      <td>31072</td>\n",
       "      <td>40944</td>\n",
       "      <td>99.121214</td>\n",
       "      <td>75.889019</td>\n",
       "      <td>40570</td>\n",
       "      <td>38381</td>\n",
       "      <td>39040.076003</td>\n",
       "      <td>98.215799</td>\n",
       "      <td>98.311796</td>\n",
       "    </tr>\n",
       "    <tr>\n",
       "      <th>2</th>\n",
       "      <td>70p</td>\n",
       "      <td>70p</td>\n",
       "      <td>1</td>\n",
       "      <td>P3_R1.fastq.bz2</td>\n",
       "      <td>P3_R2.fastq.bz2</td>\n",
       "      <td>D501</td>\n",
       "      <td>D703</td>\n",
       "      <td>l6Sp</td>\n",
       "      <td>human</td>\n",
       "      <td>Charge-titration</td>\n",
       "      <td>Percent charge</td>\n",
       "      <td>70p</td>\n",
       "      <td>3</td>\n",
       "      <td>AGGCTATA</td>\n",
       "      <td>CGCTCATT</td>\n",
       "      <td>GGCTGCCATGCTACAG</td>\n",
       "      <td>52721</td>\n",
       "      <td>23268</td>\n",
       "      <td>29050</td>\n",
       "      <td>52318</td>\n",
       "      <td>99.235599</td>\n",
       "      <td>55.525823</td>\n",
       "      <td>51830</td>\n",
       "      <td>48245</td>\n",
       "      <td>49350.518375</td>\n",
       "      <td>98.309971</td>\n",
       "      <td>97.759865</td>\n",
       "    </tr>\n",
       "  </tbody>\n",
       "</table>\n",
       "</div>"
      ],
      "text/plain": [
       "  sample_name_unique sample_name  replicate fastq_mate1_filename  \\\n",
       "0               100p        100p          1      P3_R1.fastq.bz2   \n",
       "1                85p         85p          1      P3_R1.fastq.bz2   \n",
       "2                70p         70p          1      P3_R1.fastq.bz2   \n",
       "\n",
       "  fastq_mate2_filename P5_index P7_index barcode species        plot_group  \\\n",
       "0      P3_R2.fastq.bz2     D501     D703    l2Sp   human  Charge-titration   \n",
       "1      P3_R2.fastq.bz2     D501     D703    l4Sp   human  Charge-titration   \n",
       "2      P3_R2.fastq.bz2     D501     D703    l6Sp   human  Charge-titration   \n",
       "\n",
       "         hue_name hue_value  hue_order P5_index_seq P7_index_seq  \\\n",
       "0  Percent charge      100p          1     AGGCTATA     CGCTCATT   \n",
       "1  Percent charge       85p          2     AGGCTATA     CGCTCATT   \n",
       "2  Percent charge       70p          3     AGGCTATA     CGCTCATT   \n",
       "\n",
       "          barcode_seq  N_total   N_CC  N_CCA  N_CCA+CC  CCA+CC_percent_total  \\\n",
       "0  GGCTGCCATGCTGTCACG    42717   2279  40087     42366             99.178313   \n",
       "1   GGCTGCCATGCAAGCTG    41307   9872  31072     40944             99.121214   \n",
       "2    GGCTGCCATGCTACAG    52721  23268  29050     52318             99.235599   \n",
       "\n",
       "   percent_CCA  N_after_trim  N_UMI_observed  N_UMI_expected  \\\n",
       "0    94.620686         41950           39541    40315.638763   \n",
       "1    75.889019         40570           38381    39040.076003   \n",
       "2    55.525823         51830           48245    49350.518375   \n",
       "\n",
       "   percent_seqs_after_UMI_trim  percent_UMI_obs-vs-exp  \n",
       "0                    98.204462               98.078565  \n",
       "1                    98.215799               98.311796  \n",
       "2                    98.309971               97.759865  "
      ]
     },
     "execution_count": 30,
     "metadata": {},
     "output_type": "execute_result"
    }
   ],
   "source": [
    "sample_df.head(3)"
   ]
  },
  {
   "cell_type": "markdown",
   "metadata": {},
   "source": [
    "### Align sequences\n",
    "Now, the sequences are ready for alignment.\n",
    "This done using [SWIPE](https://github.com/torognes/swipe/), which is a fast implementation of the Smith-Waterman algorithm.\n",
    "The gap en gap extension penalties can be adjusted when initiating the alignment object and the match/mismatch score can be adjusted in the score matrix defined in the input above.\n",
    "However, the current defualt values have been tested and work well so adjustment should not be necessary.\n",
    "\n",
    "If `common_seqs` is specified, these sequences, when found in each sample, will be counted, skipped and first aligned at the end.\n",
    "This prevents alignments of common sequences to be run many times and can shorten the alignment time drastically.\n",
    "When alignment statistics is calculated the common sequences will be added with the their number of observations.\n",
    "\n",
    "Running this cell should be the slowest computation in this example.\n",
    "It may take a few minutes to run."
   ]
  },
  {
   "cell_type": "code",
   "execution_count": 31,
   "metadata": {},
   "outputs": [
    {
     "name": "stdout",
     "output_type": "stream",
     "text": [
      "Using common sequences to prevent duplicated alignment.\n",
      "Running Swipe on:  85p  100p  70p  47p  40p2  40p1  10p  common-seqs  0p\n",
      "Collecting alignment statistics, from sample:  100p  85p  70p  47p  40p2  40p1  10p  common-seqs  0p"
     ]
    }
   ],
   "source": [
    "# Initiate alignment object:\n",
    "align_obj = SWIPE_align(dir_dict, tRNA_database_masked, sample_df, \\\n",
    "                        SWIPE_score_mat2, gap_penalty=6, extension_penalty=3, \\\n",
    "                        min_score_align=MIN_SCORE_ALIGN, common_seqs=common_seqs, \\\n",
    "                        overwrite_dir=True)\n",
    "# Start the alignemnt:\n",
    "sample_df = align_obj.run_parallel(n_jobs=4)"
   ]
  },
  {
   "cell_type": "markdown",
   "metadata": {},
   "source": [
    "Alignment statistics is added to the `sample_df` dataframe.\n",
    "Typically, >95% of sequences are mapped and >70% of these have a single annotation.\n",
    "Those sequences with multiple annotations have exactly the same alignment score when aligned to multiple reference sequences which often happens when there exists multiple transcripts of a tRNAs with the same codon.\n",
    "The `percent_multiple_codons` quantifies the extend of the more problematic case when the multiple annotations come from transcripts with different codons.\n",
    "This should only be less than 10% of mapped reads."
   ]
  },
  {
   "cell_type": "code",
   "execution_count": 32,
   "metadata": {},
   "outputs": [
    {
     "data": {
      "text/html": [
       "<div>\n",
       "<style scoped>\n",
       "    .dataframe tbody tr th:only-of-type {\n",
       "        vertical-align: middle;\n",
       "    }\n",
       "\n",
       "    .dataframe tbody tr th {\n",
       "        vertical-align: top;\n",
       "    }\n",
       "\n",
       "    .dataframe thead th {\n",
       "        text-align: right;\n",
       "    }\n",
       "</style>\n",
       "<table border=\"1\" class=\"dataframe\">\n",
       "  <thead>\n",
       "    <tr style=\"text-align: right;\">\n",
       "      <th></th>\n",
       "      <th>sample_name_unique</th>\n",
       "      <th>sample_name</th>\n",
       "      <th>replicate</th>\n",
       "      <th>fastq_mate1_filename</th>\n",
       "      <th>fastq_mate2_filename</th>\n",
       "      <th>P5_index</th>\n",
       "      <th>P7_index</th>\n",
       "      <th>barcode</th>\n",
       "      <th>species</th>\n",
       "      <th>plot_group</th>\n",
       "      <th>hue_name</th>\n",
       "      <th>hue_value</th>\n",
       "      <th>hue_order</th>\n",
       "      <th>P5_index_seq</th>\n",
       "      <th>P7_index_seq</th>\n",
       "      <th>barcode_seq</th>\n",
       "      <th>N_total</th>\n",
       "      <th>N_CC</th>\n",
       "      <th>N_CCA</th>\n",
       "      <th>N_CCA+CC</th>\n",
       "      <th>CCA+CC_percent_total</th>\n",
       "      <th>percent_CCA</th>\n",
       "      <th>N_after_trim</th>\n",
       "      <th>N_UMI_observed</th>\n",
       "      <th>N_UMI_expected</th>\n",
       "      <th>percent_seqs_after_UMI_trim</th>\n",
       "      <th>percent_UMI_obs-vs-exp</th>\n",
       "      <th>N_mapped</th>\n",
       "      <th>percent_single_annotation</th>\n",
       "      <th>percent_multiple_annotation</th>\n",
       "      <th>percent_multiple_codons</th>\n",
       "      <th>Mapping_percent</th>\n",
       "    </tr>\n",
       "  </thead>\n",
       "  <tbody>\n",
       "    <tr>\n",
       "      <th>0</th>\n",
       "      <td>100p</td>\n",
       "      <td>100p</td>\n",
       "      <td>1</td>\n",
       "      <td>P3_R1.fastq.bz2</td>\n",
       "      <td>P3_R2.fastq.bz2</td>\n",
       "      <td>D501</td>\n",
       "      <td>D703</td>\n",
       "      <td>l2Sp</td>\n",
       "      <td>human</td>\n",
       "      <td>Charge-titration</td>\n",
       "      <td>Percent charge</td>\n",
       "      <td>100p</td>\n",
       "      <td>1</td>\n",
       "      <td>AGGCTATA</td>\n",
       "      <td>CGCTCATT</td>\n",
       "      <td>GGCTGCCATGCTGTCACG</td>\n",
       "      <td>42717</td>\n",
       "      <td>2279</td>\n",
       "      <td>40087</td>\n",
       "      <td>42366</td>\n",
       "      <td>99.178313</td>\n",
       "      <td>94.620686</td>\n",
       "      <td>41950</td>\n",
       "      <td>39541</td>\n",
       "      <td>40315.638763</td>\n",
       "      <td>98.204462</td>\n",
       "      <td>98.078565</td>\n",
       "      <td>41481.0</td>\n",
       "      <td>75.861238</td>\n",
       "      <td>24.138762</td>\n",
       "      <td>3.760758</td>\n",
       "      <td>98.882002</td>\n",
       "    </tr>\n",
       "    <tr>\n",
       "      <th>1</th>\n",
       "      <td>85p</td>\n",
       "      <td>85p</td>\n",
       "      <td>1</td>\n",
       "      <td>P3_R1.fastq.bz2</td>\n",
       "      <td>P3_R2.fastq.bz2</td>\n",
       "      <td>D501</td>\n",
       "      <td>D703</td>\n",
       "      <td>l4Sp</td>\n",
       "      <td>human</td>\n",
       "      <td>Charge-titration</td>\n",
       "      <td>Percent charge</td>\n",
       "      <td>85p</td>\n",
       "      <td>2</td>\n",
       "      <td>AGGCTATA</td>\n",
       "      <td>CGCTCATT</td>\n",
       "      <td>GGCTGCCATGCAAGCTG</td>\n",
       "      <td>41307</td>\n",
       "      <td>9872</td>\n",
       "      <td>31072</td>\n",
       "      <td>40944</td>\n",
       "      <td>99.121214</td>\n",
       "      <td>75.889019</td>\n",
       "      <td>40570</td>\n",
       "      <td>38381</td>\n",
       "      <td>39040.076003</td>\n",
       "      <td>98.215799</td>\n",
       "      <td>98.311796</td>\n",
       "      <td>40247.0</td>\n",
       "      <td>76.035481</td>\n",
       "      <td>23.964519</td>\n",
       "      <td>3.736924</td>\n",
       "      <td>99.203845</td>\n",
       "    </tr>\n",
       "    <tr>\n",
       "      <th>2</th>\n",
       "      <td>70p</td>\n",
       "      <td>70p</td>\n",
       "      <td>1</td>\n",
       "      <td>P3_R1.fastq.bz2</td>\n",
       "      <td>P3_R2.fastq.bz2</td>\n",
       "      <td>D501</td>\n",
       "      <td>D703</td>\n",
       "      <td>l6Sp</td>\n",
       "      <td>human</td>\n",
       "      <td>Charge-titration</td>\n",
       "      <td>Percent charge</td>\n",
       "      <td>70p</td>\n",
       "      <td>3</td>\n",
       "      <td>AGGCTATA</td>\n",
       "      <td>CGCTCATT</td>\n",
       "      <td>GGCTGCCATGCTACAG</td>\n",
       "      <td>52721</td>\n",
       "      <td>23268</td>\n",
       "      <td>29050</td>\n",
       "      <td>52318</td>\n",
       "      <td>99.235599</td>\n",
       "      <td>55.525823</td>\n",
       "      <td>51830</td>\n",
       "      <td>48245</td>\n",
       "      <td>49350.518375</td>\n",
       "      <td>98.309971</td>\n",
       "      <td>97.759865</td>\n",
       "      <td>51466.0</td>\n",
       "      <td>76.953717</td>\n",
       "      <td>23.046283</td>\n",
       "      <td>3.579062</td>\n",
       "      <td>99.297704</td>\n",
       "    </tr>\n",
       "  </tbody>\n",
       "</table>\n",
       "</div>"
      ],
      "text/plain": [
       "  sample_name_unique sample_name  replicate fastq_mate1_filename  \\\n",
       "0               100p        100p          1      P3_R1.fastq.bz2   \n",
       "1                85p         85p          1      P3_R1.fastq.bz2   \n",
       "2                70p         70p          1      P3_R1.fastq.bz2   \n",
       "\n",
       "  fastq_mate2_filename P5_index P7_index barcode species        plot_group  \\\n",
       "0      P3_R2.fastq.bz2     D501     D703    l2Sp   human  Charge-titration   \n",
       "1      P3_R2.fastq.bz2     D501     D703    l4Sp   human  Charge-titration   \n",
       "2      P3_R2.fastq.bz2     D501     D703    l6Sp   human  Charge-titration   \n",
       "\n",
       "         hue_name hue_value  hue_order P5_index_seq P7_index_seq  \\\n",
       "0  Percent charge      100p          1     AGGCTATA     CGCTCATT   \n",
       "1  Percent charge       85p          2     AGGCTATA     CGCTCATT   \n",
       "2  Percent charge       70p          3     AGGCTATA     CGCTCATT   \n",
       "\n",
       "          barcode_seq  N_total   N_CC  N_CCA  N_CCA+CC  CCA+CC_percent_total  \\\n",
       "0  GGCTGCCATGCTGTCACG    42717   2279  40087     42366             99.178313   \n",
       "1   GGCTGCCATGCAAGCTG    41307   9872  31072     40944             99.121214   \n",
       "2    GGCTGCCATGCTACAG    52721  23268  29050     52318             99.235599   \n",
       "\n",
       "   percent_CCA  N_after_trim  N_UMI_observed  N_UMI_expected  \\\n",
       "0    94.620686         41950           39541    40315.638763   \n",
       "1    75.889019         40570           38381    39040.076003   \n",
       "2    55.525823         51830           48245    49350.518375   \n",
       "\n",
       "   percent_seqs_after_UMI_trim  percent_UMI_obs-vs-exp  N_mapped  \\\n",
       "0                    98.204462               98.078565   41481.0   \n",
       "1                    98.215799               98.311796   40247.0   \n",
       "2                    98.309971               97.759865   51466.0   \n",
       "\n",
       "   percent_single_annotation  percent_multiple_annotation  \\\n",
       "0                  75.861238                    24.138762   \n",
       "1                  76.035481                    23.964519   \n",
       "2                  76.953717                    23.046283   \n",
       "\n",
       "   percent_multiple_codons  Mapping_percent  \n",
       "0                 3.760758        98.882002  \n",
       "1                 3.736924        99.203845  \n",
       "2                 3.579062        99.297704  "
      ]
     },
     "execution_count": 32,
     "metadata": {},
     "output_type": "execute_result"
    }
   ],
   "source": [
    "sample_df.head(3)"
   ]
  },
  {
   "cell_type": "markdown",
   "metadata": {},
   "source": [
    "### Collect alignment statistics\n",
    "The alignment results are stored in large JSON files that are practical for parsing but not for data manipulation, plotting etc.\n",
    "Therefore, it is necessary to collect statistics, add sample information, add UMI info and many more things.\n",
    "Notice the `common_seqs` argument is also used to fill out the common sequences that were separated out during the alignment phase."
   ]
  },
  {
   "cell_type": "code",
   "execution_count": 33,
   "metadata": {},
   "outputs": [
    {
     "name": "stdout",
     "output_type": "stream",
     "text": [
      "Using common sequences...\n",
      "Collecting stats from:  100p  85p  47p  70p  40p2  40p1  10p  0p"
     ]
    }
   ],
   "source": [
    "# Initiate the stats collection object:\n",
    "stats_obj = STATS_collection(dir_dict, tRNA_data, \\\n",
    "                             sample_df, common_seqs=common_seqs, \\\n",
    "                             overwrite_dir=True)\n",
    "# Start collecting stats for each sample:\n",
    "stats_df = stats_obj.run_parallel(n_jobs=4)"
   ]
  },
  {
   "cell_type": "markdown",
   "metadata": {},
   "source": [
    "The statistics is written, per read, as a bz2 compressed .csv file; however, many of the entries in this table will be duplicates and only different by different fastq read ID and UMI sequence.\n",
    "Therefore, another uncompressed table is made that aggregates all the row that are identical except differing read ID and UMI.\n",
    "\n",
    "After statistics have been collected for all samples a concatenation of the aggregated data from all samples is made with the name `ALL_stats_aggregate.csv`.\n",
    "This file is particularly useful because it is relatively compact but contains all information from all samples.\n",
    "\n",
    "The dataframe returned is the `ALL_stats_aggregate_filtered.csv` which is the aggregated data filtered to contain only the most relevant columnns and requiring that the 3' must be covered and have no 3' non-template bases."
   ]
  },
  {
   "cell_type": "code",
   "execution_count": 34,
   "metadata": {},
   "outputs": [
    {
     "data": {
      "text/html": [
       "<div>\n",
       "<style scoped>\n",
       "    .dataframe tbody tr th:only-of-type {\n",
       "        vertical-align: middle;\n",
       "    }\n",
       "\n",
       "    .dataframe tbody tr th {\n",
       "        vertical-align: top;\n",
       "    }\n",
       "\n",
       "    .dataframe thead th {\n",
       "        text-align: right;\n",
       "    }\n",
       "</style>\n",
       "<table border=\"1\" class=\"dataframe\">\n",
       "  <thead>\n",
       "    <tr style=\"text-align: right;\">\n",
       "      <th></th>\n",
       "      <th>sample_name_unique</th>\n",
       "      <th>sample_name</th>\n",
       "      <th>replicate</th>\n",
       "      <th>barcode</th>\n",
       "      <th>species</th>\n",
       "      <th>tRNA_annotation</th>\n",
       "      <th>tRNA_annotation_len</th>\n",
       "      <th>unique_annotation</th>\n",
       "      <th>5p_cover</th>\n",
       "      <th>align_3p_nt</th>\n",
       "      <th>codon</th>\n",
       "      <th>anticodon</th>\n",
       "      <th>amino_acid</th>\n",
       "      <th>align_gap</th>\n",
       "      <th>fmax_score&gt;0.9</th>\n",
       "      <th>count</th>\n",
       "      <th>UMIcount</th>\n",
       "    </tr>\n",
       "  </thead>\n",
       "  <tbody>\n",
       "    <tr>\n",
       "      <th>0</th>\n",
       "      <td>100p</td>\n",
       "      <td>100p</td>\n",
       "      <td>1</td>\n",
       "      <td>l2Sp</td>\n",
       "      <td>human</td>\n",
       "      <td>Escherichia_coli_str_K_12_substr_MG1655_tRNA-e...</td>\n",
       "      <td>76</td>\n",
       "      <td>True</td>\n",
       "      <td>False</td>\n",
       "      <td>C</td>\n",
       "      <td>AAA</td>\n",
       "      <td>TTT</td>\n",
       "      <td>eColiLys</td>\n",
       "      <td>False</td>\n",
       "      <td>False</td>\n",
       "      <td>1</td>\n",
       "      <td>1</td>\n",
       "    </tr>\n",
       "    <tr>\n",
       "      <th>1</th>\n",
       "      <td>100p</td>\n",
       "      <td>100p</td>\n",
       "      <td>1</td>\n",
       "      <td>l2Sp</td>\n",
       "      <td>human</td>\n",
       "      <td>Escherichia_coli_str_K_12_substr_MG1655_tRNA-e...</td>\n",
       "      <td>76</td>\n",
       "      <td>True</td>\n",
       "      <td>False</td>\n",
       "      <td>C</td>\n",
       "      <td>AAA</td>\n",
       "      <td>TTT</td>\n",
       "      <td>eColiLys</td>\n",
       "      <td>False</td>\n",
       "      <td>True</td>\n",
       "      <td>13</td>\n",
       "      <td>13</td>\n",
       "    </tr>\n",
       "    <tr>\n",
       "      <th>2</th>\n",
       "      <td>100p</td>\n",
       "      <td>100p</td>\n",
       "      <td>1</td>\n",
       "      <td>l2Sp</td>\n",
       "      <td>human</td>\n",
       "      <td>Escherichia_coli_str_K_12_substr_MG1655_tRNA-e...</td>\n",
       "      <td>76</td>\n",
       "      <td>True</td>\n",
       "      <td>False</td>\n",
       "      <td>C</td>\n",
       "      <td>AAA</td>\n",
       "      <td>TTT</td>\n",
       "      <td>eColiLys</td>\n",
       "      <td>True</td>\n",
       "      <td>False</td>\n",
       "      <td>2</td>\n",
       "      <td>2</td>\n",
       "    </tr>\n",
       "    <tr>\n",
       "      <th>3</th>\n",
       "      <td>100p</td>\n",
       "      <td>100p</td>\n",
       "      <td>1</td>\n",
       "      <td>l2Sp</td>\n",
       "      <td>human</td>\n",
       "      <td>Escherichia_coli_str_K_12_substr_MG1655_tRNA-e...</td>\n",
       "      <td>76</td>\n",
       "      <td>True</td>\n",
       "      <td>True</td>\n",
       "      <td>A</td>\n",
       "      <td>AAA</td>\n",
       "      <td>TTT</td>\n",
       "      <td>eColiLys</td>\n",
       "      <td>False</td>\n",
       "      <td>True</td>\n",
       "      <td>1</td>\n",
       "      <td>1</td>\n",
       "    </tr>\n",
       "    <tr>\n",
       "      <th>4</th>\n",
       "      <td>100p</td>\n",
       "      <td>100p</td>\n",
       "      <td>1</td>\n",
       "      <td>l2Sp</td>\n",
       "      <td>human</td>\n",
       "      <td>Escherichia_coli_str_K_12_substr_MG1655_tRNA-e...</td>\n",
       "      <td>76</td>\n",
       "      <td>True</td>\n",
       "      <td>True</td>\n",
       "      <td>C</td>\n",
       "      <td>AAA</td>\n",
       "      <td>TTT</td>\n",
       "      <td>eColiLys</td>\n",
       "      <td>False</td>\n",
       "      <td>True</td>\n",
       "      <td>9</td>\n",
       "      <td>9</td>\n",
       "    </tr>\n",
       "    <tr>\n",
       "      <th>5</th>\n",
       "      <td>100p</td>\n",
       "      <td>100p</td>\n",
       "      <td>1</td>\n",
       "      <td>l2Sp</td>\n",
       "      <td>human</td>\n",
       "      <td>Escherichia_coli_str_K_12_substr_MG1655_tRNA-e...</td>\n",
       "      <td>76</td>\n",
       "      <td>True</td>\n",
       "      <td>True</td>\n",
       "      <td>C</td>\n",
       "      <td>AAA</td>\n",
       "      <td>TTT</td>\n",
       "      <td>eColiLys</td>\n",
       "      <td>True</td>\n",
       "      <td>False</td>\n",
       "      <td>2</td>\n",
       "      <td>2</td>\n",
       "    </tr>\n",
       "    <tr>\n",
       "      <th>6</th>\n",
       "      <td>100p</td>\n",
       "      <td>100p</td>\n",
       "      <td>1</td>\n",
       "      <td>l2Sp</td>\n",
       "      <td>human</td>\n",
       "      <td>Homo_sapiens_mito_tRNA-Ala-TGC</td>\n",
       "      <td>72</td>\n",
       "      <td>True</td>\n",
       "      <td>False</td>\n",
       "      <td>A</td>\n",
       "      <td>GCA</td>\n",
       "      <td>TGC</td>\n",
       "      <td>Ala</td>\n",
       "      <td>False</td>\n",
       "      <td>False</td>\n",
       "      <td>1</td>\n",
       "      <td>1</td>\n",
       "    </tr>\n",
       "    <tr>\n",
       "      <th>7</th>\n",
       "      <td>100p</td>\n",
       "      <td>100p</td>\n",
       "      <td>1</td>\n",
       "      <td>l2Sp</td>\n",
       "      <td>human</td>\n",
       "      <td>Homo_sapiens_mito_tRNA-Ala-TGC</td>\n",
       "      <td>72</td>\n",
       "      <td>True</td>\n",
       "      <td>False</td>\n",
       "      <td>A</td>\n",
       "      <td>GCA</td>\n",
       "      <td>TGC</td>\n",
       "      <td>Ala</td>\n",
       "      <td>False</td>\n",
       "      <td>True</td>\n",
       "      <td>35</td>\n",
       "      <td>35</td>\n",
       "    </tr>\n",
       "  </tbody>\n",
       "</table>\n",
       "</div>"
      ],
      "text/plain": [
       "  sample_name_unique sample_name  replicate barcode species  \\\n",
       "0               100p        100p          1    l2Sp   human   \n",
       "1               100p        100p          1    l2Sp   human   \n",
       "2               100p        100p          1    l2Sp   human   \n",
       "3               100p        100p          1    l2Sp   human   \n",
       "4               100p        100p          1    l2Sp   human   \n",
       "5               100p        100p          1    l2Sp   human   \n",
       "6               100p        100p          1    l2Sp   human   \n",
       "7               100p        100p          1    l2Sp   human   \n",
       "\n",
       "                                     tRNA_annotation  tRNA_annotation_len  \\\n",
       "0  Escherichia_coli_str_K_12_substr_MG1655_tRNA-e...                   76   \n",
       "1  Escherichia_coli_str_K_12_substr_MG1655_tRNA-e...                   76   \n",
       "2  Escherichia_coli_str_K_12_substr_MG1655_tRNA-e...                   76   \n",
       "3  Escherichia_coli_str_K_12_substr_MG1655_tRNA-e...                   76   \n",
       "4  Escherichia_coli_str_K_12_substr_MG1655_tRNA-e...                   76   \n",
       "5  Escherichia_coli_str_K_12_substr_MG1655_tRNA-e...                   76   \n",
       "6                     Homo_sapiens_mito_tRNA-Ala-TGC                   72   \n",
       "7                     Homo_sapiens_mito_tRNA-Ala-TGC                   72   \n",
       "\n",
       "   unique_annotation  5p_cover align_3p_nt codon anticodon amino_acid  \\\n",
       "0               True     False           C   AAA       TTT   eColiLys   \n",
       "1               True     False           C   AAA       TTT   eColiLys   \n",
       "2               True     False           C   AAA       TTT   eColiLys   \n",
       "3               True      True           A   AAA       TTT   eColiLys   \n",
       "4               True      True           C   AAA       TTT   eColiLys   \n",
       "5               True      True           C   AAA       TTT   eColiLys   \n",
       "6               True     False           A   GCA       TGC        Ala   \n",
       "7               True     False           A   GCA       TGC        Ala   \n",
       "\n",
       "   align_gap  fmax_score>0.9  count  UMIcount  \n",
       "0      False           False      1         1  \n",
       "1      False            True     13        13  \n",
       "2       True           False      2         2  \n",
       "3      False            True      1         1  \n",
       "4      False            True      9         9  \n",
       "5       True           False      2         2  \n",
       "6      False           False      1         1  \n",
       "7      False            True     35        35  "
      ]
     },
     "execution_count": 34,
     "metadata": {},
     "output_type": "execute_result"
    }
   ],
   "source": [
    "stats_df.head(8)"
   ]
  },
  {
   "cell_type": "code",
   "execution_count": null,
   "metadata": {},
   "outputs": [],
   "source": []
  },
  {
   "cell_type": "code",
   "execution_count": null,
   "metadata": {},
   "outputs": [],
   "source": []
  },
  {
   "cell_type": "markdown",
   "metadata": {},
   "source": [
    "### Plotting the results\n",
    "Next, the data can be plotted in order to 1) inspect the data quality and 2) get an overview of the relative tRNA expression and charge.\n",
    "For this the `TRNA_plot` class was made.\n",
    "This class allows us to generate some standard plots that are useful for most experiments involving tRNA sequencing.\n",
    "It utilizes the information in the `sample_df` dataframe to group samples onto the same plot.\n",
    "\n",
    "The class can the initiated with exclusion filters based on alignment score or alignment gap content and using UMI or read counts.\n",
    "By using UMI counts instead of read counts, we can correct for PCR duplications; however, typically there is not a big difference between the UMI or read counts."
   ]
  },
  {
   "cell_type": "code",
   "execution_count": 67,
   "metadata": {},
   "outputs": [],
   "source": [
    "# Initiate the plotting object:\n",
    "plot_obj = TRNA_plot(dir_dict, sample_df, use_UMIcount=False, overwrite_dir=True)"
   ]
  },
  {
   "cell_type": "markdown",
   "metadata": {},
   "source": [
    "Inspired by the coverage plots in Behrens et al. 2021, we could start by plotting the sequence coverage broken down by the amino acid identity of the transcript.\n",
    "To plot all transcripts on a single plot it is necessary to scale the transcript length such that all are equal.\n",
    "This scaling is done by mapping all transcripts to the longest transcript.\n",
    "\n",
    "Below, a Behrens style coverage plot is shown, normalized on the y-axis such that coverage is shown as a percentage of the coverage at the 3' of the transcript.\n",
    "It shows nicely how the coverage decreases further into the transcript and drops off at particular points which are associated with commonly modified positions.\n",
    "It also shows the relative abundance of transcripts of an amino acid e.g. higher relative abundance of alanine (A) compared to tryptophan (W)."
   ]
  },
  {
   "cell_type": "code",
   "execution_count": 68,
   "metadata": {},
   "outputs": [
    {
     "name": "stdout",
     "output_type": "stream",
     "text": [
      "\n",
      "Now collecting data for sample:  100p  85p  70p  47p  40p1  40p2  10p  0p\n",
      "Now plotting sample:  100p  85p  70p  47p  40p1  40p2  10p  0p"
     ]
    },
    {
     "data": {
      "image/png": "[encoded data removed]",
      "text/plain": [
       "<wand.image.Image: c7dd7d0 'PDF' (910x478)>"
      ]
     },
     "execution_count": 68,
     "metadata": {},
     "output_type": "execute_result"
    }
   ],
   "source": [
    "plot_obj.plot_coverage(compartment='cyto', plot_type='behrens', y_norm=True, \\\n",
    "                       plot_name='cov-plot_cyto_behrens_norm')\n",
    "img = WImage(filename='data/plotting/cov-plot_cyto_behrens_norm.pdf[0]')\n",
    "img"
   ]
  },
  {
   "cell_type": "markdown",
   "metadata": {},
   "source": [
    "Sometimes, it may be desirable to focus on the coverage drop off and show more explicitly the fraction of reads that fully cover a transcript.\n",
    "For this, we can normalize the coverage such that the difference in relative abundance between different amino acids is equalized.\n",
    "Furthermore, a different style plot can be generated to enhance the view of coverage drop off.\n",
    "This plot is referred to as a \"needle plot\"\n",
    "\n",
    "Below, such a needle plot is shown.\n",
    "It clearly shows that the valine transcript (V) has a high read-through while the tryptophan transcript (W) has a very low read-through with two points with large coverage drop off."
   ]
  },
  {
   "cell_type": "code",
   "execution_count": 69,
   "metadata": {},
   "outputs": [
    {
     "name": "stdout",
     "output_type": "stream",
     "text": [
      "\n",
      "Now collecting data for sample:  100p  85p  70p  47p  40p1  40p2  10p  0p\n",
      "Now plotting sample:  100p  85p  70p  47p  40p1  40p2  10p  0p"
     ]
    },
    {
     "data": {
      "image/png": "[encoded data removed]",
      "text/plain": [
       "<wand.image.Image: 6a99690 'PDF' (692x478)>"
      ]
     },
     "execution_count": 69,
     "metadata": {},
     "output_type": "execute_result"
    }
   ],
   "source": [
    "plot_obj.plot_coverage(compartment='cyto', plot_type='needle', aa_norm=True, \\\n",
    "                       plot_name='cov-plot_cyto_needle_aa-norm')\n",
    "img = WImage(filename='data/plotting/cov-plot_cyto_needle_aa-norm.pdf[0]')\n",
    "img"
   ]
  },
  {
   "cell_type": "markdown",
   "metadata": {},
   "source": [
    "A common standard plot is a simple view of the relative expression level broken down by either transcript, codon or amino acid identity.\n",
    "This plot is generated below:"
   ]
  },
  {
   "cell_type": "code",
   "execution_count": 70,
   "metadata": {},
   "outputs": [
    {
     "name": "stdout",
     "output_type": "stream",
     "text": [
      "\n",
      "Now plotting sample/group:  Charge-titration\n",
      "Now plotting sample/group:  100p  85p  70p  47p  40p  10p  0p"
     ]
    },
    {
     "data": {
      "image/png": "[encoded data removed]",
      "text/plain": [
       "<wand.image.Image: f8f9970 'PDF' (1127x622)>"
      ]
     },
     "execution_count": 70,
     "metadata": {},
     "output_type": "execute_result"
    }
   ],
   "source": [
    "# Grouped plot:\n",
    "plot_obj.plot_abundance(plot_name='abundance-plot_codon_grp', group=True, \\\n",
    "                        plot_type='codon', min_obs=10)\n",
    "# Individual sample plot:\n",
    "plot_obj.plot_abundance(plot_name='abundance-plot_codon', group=False, \\\n",
    "                        plot_type='codon', min_obs=10)\n",
    "img = WImage(filename='data/plotting/abundance-plot_codon.pdf[0]')\n",
    "img"
   ]
  },
  {
   "cell_type": "markdown",
   "metadata": {},
   "source": [
    "Another standard plot is one showing the tRNA charge.\n",
    "Such a plot, broken down by amino acid and grouped, is shown below:"
   ]
  },
  {
   "cell_type": "code",
   "execution_count": 71,
   "metadata": {},
   "outputs": [
    {
     "name": "stdout",
     "output_type": "stream",
     "text": [
      "\n",
      "Now plotting sample/group:  Charge-titration\n",
      "Now plotting sample/group:  Charge-titration"
     ]
    },
    {
     "data": {
      "image/png": "[encoded data removed]",
      "text/plain": [
       "<wand.image.Image: e8b2bd7 'PDF' (4013x622)>"
      ]
     },
     "execution_count": 71,
     "metadata": {},
     "output_type": "execute_result"
    }
   ],
   "source": [
    "# Grouped plot, per codon:\n",
    "plot_obj.plot_abundance(plot_name='charge-plot_codon_grp', group=True, \\\n",
    "                        plot_type='codon', min_obs=50, charge_plot=True)\n",
    "# Grouped plot, per amino acid:\n",
    "plot_obj.plot_abundance(plot_name='charge-plot_aa_grp', group=True, \\\n",
    "                        plot_type='aa', min_obs=50, charge_plot=True)\n",
    "img = WImage(filename='data/plotting/charge-plot_aa_grp.pdf[0]')\n",
    "img"
   ]
  },
  {
   "cell_type": "markdown",
   "metadata": {},
   "source": [
    "Sometimes, it can be useful to plot the relative abundance of two samples in comparison to each other.\n",
    "For example, for replicates or samples that should have the same relative abundance, the RPM values should fall on a straight line.\n",
    "This is plotted below, with each transcript as a datapoint, a linear regression line in blue and a one-to-one correspondance as a red line:"
   ]
  },
  {
   "cell_type": "code",
   "execution_count": 72,
   "metadata": {},
   "outputs": [
    {
     "name": "stdout",
     "output_type": "stream",
     "text": [
      "\n",
      "Now plotting sample pairs:  (100p - 10p)  (100p - 0p)"
     ]
    },
    {
     "data": {
      "image/png": "[encoded data removed]",
      "text/plain": [
       "<wand.image.Image: c1f3bb4 'PDF' (479x406)>"
      ]
     },
     "execution_count": 72,
     "metadata": {},
     "output_type": "execute_result"
    }
   ],
   "source": [
    "plot_obj.plot_abundance_corr(sample_unique_pairs=[['100p', '100p'], ['10p', '0p']], \\\n",
    "                             plot_type='transcript', charge_plot=False, log=True, \\\n",
    "                             plot_name='abundance-corr-plot_tr', \\\n",
    "                             min_obs=30)\n",
    "img = WImage(filename='data/plotting/abundance-corr-plot_tr.pdf[0]')\n",
    "img"
   ]
  },
  {
   "cell_type": "markdown",
   "metadata": {},
   "source": [
    "A similar plot can be made showing charge instead of RPM:"
   ]
  },
  {
   "cell_type": "code",
   "execution_count": 73,
   "metadata": {},
   "outputs": [
    {
     "name": "stdout",
     "output_type": "stream",
     "text": [
      "\n",
      "Now plotting sample pairs:  (40p1 - 40p2)"
     ]
    },
    {
     "data": {
      "image/png": "[encoded data removed]",
      "text/plain": [
       "<wand.image.Image: ed0e85c 'PDF' (469x406)>"
      ]
     },
     "execution_count": 73,
     "metadata": {},
     "output_type": "execute_result"
    }
   ],
   "source": [
    "plot_obj.plot_abundance_corr(sample_unique_pairs=[['40p1'], ['40p2']], \\\n",
    "                             plot_type='aa', charge_plot=True, log=False, \\\n",
    "                             plot_name='charge-corr-plot_aa', \\\n",
    "                             min_obs=500, one2one_corr=True)\n",
    "img = WImage(filename='data/plotting/charge-corr-plot_aa.pdf[0]')\n",
    "img"
   ]
  },
  {
   "cell_type": "markdown",
   "metadata": {},
   "source": [
    "Finally, we can look into some of the features of the library prep.\n",
    "First, let us plot a logo over the positional nucleotide use of the UMI:"
   ]
  },
  {
   "cell_type": "code",
   "execution_count": 74,
   "metadata": {},
   "outputs": [
    {
     "name": "stdout",
     "output_type": "stream",
     "text": [
      "\n",
      "Now collecting data for sample:  100p  85p  47p  70p  40p2  40p1  10p  0p\n",
      "Now plotting logo plot."
     ]
    },
    {
     "data": {
      "image/png": "[encoded data removed]",
      "text/plain": [
       "<wand.image.Image: 7adba30 'PDF' (694x154)>"
      ]
     },
     "execution_count": 74,
     "metadata": {},
     "output_type": "execute_result"
    }
   ],
   "source": [
    "plot_obj.plot_UMI_logo(plot_name='UMI_logo')\n",
    "img = WImage(filename='data/plotting/UMI_logo.pdf[0]')\n",
    "img"
   ]
  },
  {
   "cell_type": "markdown",
   "metadata": {},
   "source": [
    "The UMI logo plot shows approxiamate random nucleotide use on all positions except the 3' nt. which is always a random pyrimidine.\n",
    "This is also what should be expected given the RT oligo design.\n",
    "\n",
    "Next, we can plot the 5' non-template nucleotides.\n",
    "These are added to the end of the cDNA by the reverse transcriptase during the RT-PCR reaction.\n",
    "Here, we only include up to the 99th percentile of the longest 5' non-template nucleotide additions:"
   ]
  },
  {
   "cell_type": "code",
   "execution_count": 75,
   "metadata": {},
   "outputs": [
    {
     "name": "stdout",
     "output_type": "stream",
     "text": [
      "\n",
      "Now collecting data for sample:  85p  100p  70p  47p  40p2  40p1  10p  0p\n",
      "Now plotting logo plot."
     ]
    },
    {
     "data": {
      "image/png": "[encoded data removed]",
      "text/plain": [
       "<wand.image.Image: d74a910 'PDF' (694x154)>"
      ]
     },
     "execution_count": 75,
     "metadata": {},
     "output_type": "execute_result"
    }
   ],
   "source": [
    "plot_obj.plot_non_temp(end='5p', plot_name='_5p-non-template_logo', \\\n",
    "                       seq_len_percentile=99)\n",
    "img = WImage(filename='data/plotting/_5p-non-template_logo.pdf[0]')\n",
    "img"
   ]
  },
  {
   "cell_type": "markdown",
   "metadata": {},
   "source": [
    "We observe that the most commonly observed 5' non-template nucleotide is T, which means that the reverse transcriptase adds A to the 3' of the cDNA.\n",
    "This is similar to the observation made by Behrens et al. 2021.\n",
    "\n",
    "Next, we can look at the 3' non-template nucleotides.\n",
    "These are not added by the reverse transcriptase but are likely either erronous CCA additions or additional bases in the adapter.\n",
    "Plotted below and only showing sequences with 3' coverage:"
   ]
  },
  {
   "cell_type": "code",
   "execution_count": 76,
   "metadata": {},
   "outputs": [
    {
     "name": "stdout",
     "output_type": "stream",
     "text": [
      "\n",
      "Now collecting data for sample:  100p  85p  70p  47p  40p2  40p1  10p  0p\n",
      "Now plotting logo plot."
     ]
    },
    {
     "data": {
      "image/png": "[encoded data removed]",
      "text/plain": [
       "<wand.image.Image: 1627080 'PDF' (694x154)>"
      ]
     },
     "execution_count": 76,
     "metadata": {},
     "output_type": "execute_result"
    }
   ],
   "source": [
    "plot_obj.plot_non_temp(end='3p', plot_name='_3p-non-template_logo', \\\n",
    "                       seq_len_percentile=99.9, _3p_cover=True)\n",
    "img = WImage(filename='data/plotting/_3p-non-template_logo.pdf[0]')\n",
    "img"
   ]
  },
  {
   "cell_type": "markdown",
   "metadata": {},
   "source": [
    "From this, we can see that 3' non-template nucleotides are a rare occurence with mostly one or two nucleotides added.\n",
    "Had there been many more sequences with 3' non-template nucleotides it would have indicated a problem, possibly with the quality of the adapter oligo.\n",
    "\n",
    "Before moving on, we can dump the charge and relative abundance data to enable custom plotting:"
   ]
  },
  {
   "cell_type": "code",
   "execution_count": 79,
   "metadata": {},
   "outputs": [],
   "source": [
    "# Write charge/RPM data grouped by transcript, codon and amino acid:\n",
    "plot_obj.write_charge_df(df_type='transcript', \\\n",
    "                         fnam='charge-df_tr')\n",
    "plot_obj.write_charge_df(df_type='codon', \\\n",
    "                         fnam='charge-df_codon')\n",
    "plot_obj.write_charge_df(df_type='aa', \\\n",
    "                         fnam='charge-df_aa')"
   ]
  },
  {
   "cell_type": "code",
   "execution_count": null,
   "metadata": {},
   "outputs": [],
   "source": []
  },
  {
   "cell_type": "code",
   "execution_count": null,
   "metadata": {},
   "outputs": [],
   "source": []
  },
  {
   "cell_type": "code",
   "execution_count": null,
   "metadata": {},
   "outputs": [],
   "source": []
  },
  {
   "cell_type": "code",
   "execution_count": null,
   "metadata": {},
   "outputs": [],
   "source": []
  },
  {
   "cell_type": "code",
   "execution_count": null,
   "metadata": {},
   "outputs": [],
   "source": []
  },
  {
   "cell_type": "code",
   "execution_count": null,
   "metadata": {},
   "outputs": [],
   "source": []
  },
  {
   "cell_type": "code",
   "execution_count": null,
   "metadata": {},
   "outputs": [],
   "source": []
  },
  {
   "cell_type": "code",
   "execution_count": null,
   "metadata": {},
   "outputs": [],
   "source": []
  },
  {
   "cell_type": "code",
   "execution_count": null,
   "metadata": {},
   "outputs": [],
   "source": []
  },
  {
   "cell_type": "code",
   "execution_count": null,
   "metadata": {},
   "outputs": [],
   "source": []
  },
  {
   "cell_type": "code",
   "execution_count": null,
   "metadata": {},
   "outputs": [],
   "source": []
  },
  {
   "cell_type": "code",
   "execution_count": null,
   "metadata": {},
   "outputs": [],
   "source": []
  },
  {
   "cell_type": "code",
   "execution_count": null,
   "metadata": {},
   "outputs": [],
   "source": []
  },
  {
   "cell_type": "code",
   "execution_count": null,
   "metadata": {},
   "outputs": [],
   "source": []
  },
  {
   "cell_type": "code",
   "execution_count": null,
   "metadata": {},
   "outputs": [],
   "source": []
  },
  {
   "cell_type": "code",
   "execution_count": null,
   "metadata": {},
   "outputs": [],
   "source": []
  },
  {
   "cell_type": "code",
   "execution_count": null,
   "metadata": {},
   "outputs": [],
   "source": []
  },
  {
   "cell_type": "code",
   "execution_count": null,
   "metadata": {},
   "outputs": [],
   "source": []
  },
  {
   "cell_type": "code",
   "execution_count": null,
   "metadata": {},
   "outputs": [],
   "source": []
  },
  {
   "cell_type": "code",
   "execution_count": null,
   "metadata": {},
   "outputs": [],
   "source": [
    "# Use the TM_analysis to find the most mutated positions in the tRNA transcripts.\n",
    "# Then generate a new version of the tRNA transcripts database with these positions masked\n",
    "# Then, using the masked sequences, re-run the alignment, stats collected and plotting\n",
    "\n",
    "# Re-run using gap_open = -3 and gap_extension = -2 to reflect how gaps are more tolerated\n",
    "\n",
    "### The masked tRNA database will only be used for alignment\n",
    "# All other steps will use the old unmasked database"
   ]
  },
  {
   "cell_type": "code",
   "execution_count": null,
   "metadata": {},
   "outputs": [],
   "source": []
  },
  {
   "cell_type": "code",
   "execution_count": 623,
   "metadata": {},
   "outputs": [
    {
     "name": "stdout",
     "output_type": "stream",
     "text": [
      "Using common sequences...\n",
      "Collecting stats from:  100p1  100p2  100p4  100p3  85p4  85p2  85p3  85p1  70p3  70p1  70p2  70p4  55p2  55p1  55p3  55p4  40p1  40p2  40p3  25p1  40p4  25p2  10p2  25p3  10p4  25p4  0p2  10p3  10p1  0p1  0p3  0p4  0p_90m1  0p_90m3  0p_90m2  0p_90m4"
     ]
    }
   ],
   "source": [
    "### Perform transcript mutation analysis ###\n",
    "TM_obj = TM_analysis(dir_dict, sample_df, tRNA_database, pull_default=True, common_seqs=common_seqs, ignore_common_count=True)\n",
    "TM_dir_abs = TM_obj.make_dir(overwrite=True)\n",
    "\n",
    "#TM_obj.find_muts(n_jobs=4, sample_list=['70p1', '70p2', '70p3', '70p4'])\n",
    "TM_obj.find_muts(n_jobs=4, unique_anno=True)\n",
    "#TM_obj.find_muts(n_jobs=4)\n",
    "TM_obj.fix_end()\n",
    "\n",
    "#TM_obj.plot_transcript_logo()\n",
    "\n",
    "\n",
    "\n",
    "# tr_mut_out = TM_obj.plot_transcript_mut(topN=30, no_plot_return=False, mito=False, gap_only=False, plot_name='test_heat', min_count_show=10)\n",
    "#tr_mut_out = TM_obj.plot_transcript_mut(topN=30, no_plot_return=False, mito=False, gap_only=False, plot_name='test_heat2')\n",
    "\n",
    "\n",
    "#tr_cov_out = TM_obj.plot_transcript_cov(topN=40, no_plot_return=False, mito=False, plot_name='test_heat_cov', sort_rows=True)\n",
    "#tr_mut_out = TM_obj.plot_transcript_mut(topN=40, no_plot_return=False, mito=False, gap_only=False, plot_name='test_heat2', sort_rows=tr_cov_out[2])\n",
    "\n",
    "\n",
    "TM_obj.mask_tRNA_database(min_mut_freq=0.5, min_pos_count=50, min_tr_count=100, frac_max_score=0.90)\n",
    "\n",
    "tRNA_database_masked = TM_obj.write_masked_tRNA_database(out_dir='tRNA_database_masked')"
   ]
  },
  {
   "cell_type": "code",
   "execution_count": null,
   "metadata": {},
   "outputs": [],
   "source": []
  },
  {
   "cell_type": "code",
   "execution_count": null,
   "metadata": {},
   "outputs": [],
   "source": []
  },
  {
   "cell_type": "code",
   "execution_count": 615,
   "metadata": {},
   "outputs": [
    {
     "data": {
      "image/png": "[encoded data removed]",
      "text/plain": [
       "<Figure size 432x288 with 1 Axes>"
      ]
     },
     "metadata": {},
     "output_type": "display_data"
    }
   ],
   "source": [
    "plt.hist(TM_obj.mask_stats['human']['mask_count'], bins=15);"
   ]
  },
  {
   "cell_type": "code",
   "execution_count": 616,
   "metadata": {},
   "outputs": [
    {
     "data": {
      "text/plain": [
       "{'mask_count': array([0, 0, 0, 0, 0, 0, 0, 0, 0, 0, 0, 0, 0, 0, 0, 0, 0, 0, 0, 0, 0, 0,\n",
       "        1, 0, 0, 5, 0, 0, 0, 5, 0, 3, 0, 3, 2, 3, 0, 5, 0, 3, 3, 2, 0, 3,\n",
       "        3, 3, 3, 2, 0, 2, 5, 5, 4, 2, 2, 2, 2, 2, 2, 0, 2, 4, 2, 4, 0, 1,\n",
       "        0, 0, 0, 0, 2, 0, 0, 0, 2, 2, 0, 0, 0, 2, 2, 2, 2, 0, 0, 2, 0, 1,\n",
       "        1, 1, 2, 0, 2, 0, 2, 2, 0, 0, 2, 0, 0, 2, 0, 2, 0, 0, 0, 2, 2, 2,\n",
       "        2, 2, 2, 2, 2, 2, 2, 2, 0, 0, 0, 0, 0, 0, 0, 0, 2, 0, 2, 0, 0, 1,\n",
       "        1, 0, 1, 1, 1, 0, 0, 1, 1, 1, 1, 1, 3, 0, 3, 3, 3, 3, 3, 3, 3, 0,\n",
       "        0, 1, 1, 1, 3, 3, 3, 3, 3, 3, 3, 3, 0, 0, 4, 4, 1, 0, 0, 0, 0, 0,\n",
       "        0, 1, 0, 0, 1, 1, 1, 1, 0, 0, 0, 0, 0, 1, 1, 1, 1, 0, 0, 0, 3, 3,\n",
       "        3, 3, 0, 0, 3, 3, 3, 3, 0, 0, 0, 3, 3, 3, 3, 3, 0, 0, 0, 0, 0, 0,\n",
       "        0, 0, 0, 3, 3, 3, 3, 3, 0, 0, 0, 0, 0, 5, 5, 0, 0, 5, 0, 0, 0, 0,\n",
       "        0, 0, 0, 0, 0, 0, 0, 0, 0, 1, 1, 0, 1, 0, 0, 0, 0, 0, 0, 0, 0, 0,\n",
       "        0, 0, 0, 0, 0, 0, 0, 1, 0, 0, 0, 1, 1, 0, 0, 0, 0, 2, 2]),\n",
       " 'mask_sum': 307,\n",
       " 'mask_mean': 1.0848056537102473,\n",
       " 'mask_frac': 0.4664310954063604}"
      ]
     },
     "execution_count": 616,
     "metadata": {},
     "output_type": "execute_result"
    }
   ],
   "source": [
    "TM_obj.mask_stats['human']"
   ]
  },
  {
   "cell_type": "code",
   "execution_count": null,
   "metadata": {},
   "outputs": [],
   "source": []
  },
  {
   "cell_type": "code",
   "execution_count": 617,
   "metadata": {},
   "outputs": [
    {
     "data": {
      "image/png": "[encoded data removed]",
      "text/plain": [
       "<Figure size 432x288 with 1 Axes>"
      ]
     },
     "metadata": {},
     "output_type": "display_data"
    }
   ],
   "source": [
    "plt.hist(TM_obj.mask_stats['human']['mask_count'], bins=15);"
   ]
  },
  {
   "cell_type": "code",
   "execution_count": 576,
   "metadata": {},
   "outputs": [
    {
     "data": {
      "text/plain": [
       "{'mask_count': array([ 0,  0,  0,  0,  0,  0,  0,  0,  0,  0,  0,  0,  0,  0,  0,  0,  0,\n",
       "         0,  0,  0,  0,  0,  1,  0,  0,  5,  0,  0,  0,  5,  0,  4,  0,  4,\n",
       "         0,  4,  0,  5,  0,  4,  4,  0,  0,  5,  5,  5,  5,  3,  0,  3,  5,\n",
       "         5,  4,  2,  0,  0,  0,  0,  0,  0,  0,  4,  0,  4,  0,  0,  0,  0,\n",
       "         0,  0,  5,  0,  0,  0,  5,  5,  0,  0,  0,  5,  5,  5,  5,  4,  0,\n",
       "         5,  4,  2,  2,  2,  2,  3,  3,  2,  3,  3,  3,  2,  3,  3,  2,  3,\n",
       "         3,  3,  0,  0,  3,  3,  3,  2,  3,  3,  3,  2,  2,  2,  2,  2,  0,\n",
       "         0,  3,  3,  3,  0,  1,  1,  3,  5,  3,  5,  5,  1,  1,  0,  1,  1,\n",
       "         1,  0,  0,  1,  1,  1,  1,  2,  4,  0,  4,  4,  4,  4,  4,  4,  3,\n",
       "         0,  0,  3,  3,  3,  4,  4,  4,  4,  3,  3,  3,  3,  0,  0,  5,  5,\n",
       "         2,  0,  0,  0,  4,  4,  0,  1,  0,  0,  1,  1,  1,  1,  0,  0,  0,\n",
       "         1,  0,  4,  4,  4,  4,  1,  1,  0,  3,  0,  3,  3,  0,  0, 13, 13,\n",
       "        13, 13,  0,  4,  4,  4,  4,  4,  4,  4,  0,  0,  0,  0,  0,  0,  0,\n",
       "         0,  0,  5,  5,  5,  5,  5,  3,  0,  5,  5,  5,  8,  8,  6,  6,  8,\n",
       "         6,  0,  0,  3,  0,  0,  0,  0,  3,  3,  3,  3,  2,  2,  2,  2,  2,\n",
       "         0,  3,  3,  3,  3,  3,  3,  3,  3,  0,  3,  3,  0,  3,  3,  0,  2,\n",
       "         0,  0,  0,  2,  2,  1,  1,  1,  0,  4,  4]),\n",
       " 'mask_sum': 615,\n",
       " 'mask_frac': 0.6183745583038869}"
      ]
     },
     "execution_count": 576,
     "metadata": {},
     "output_type": "execute_result"
    }
   ],
   "source": [
    "TM_obj.mask_stats['human']"
   ]
  },
  {
   "cell_type": "code",
   "execution_count": null,
   "metadata": {},
   "outputs": [],
   "source": []
  },
  {
   "cell_type": "code",
   "execution_count": null,
   "metadata": {},
   "outputs": [],
   "source": []
  },
  {
   "cell_type": "code",
   "execution_count": null,
   "metadata": {},
   "outputs": [],
   "source": []
  },
  {
   "cell_type": "code",
   "execution_count": null,
   "metadata": {},
   "outputs": [],
   "source": []
  },
  {
   "cell_type": "code",
   "execution_count": 599,
   "metadata": {},
   "outputs": [
    {
     "name": "stdout",
     "output_type": "stream",
     "text": [
      "Using common sequences to prevent duplicated alignment.\n",
      "Running Swipe on:  100p2  100p1  100p3  100p4  85p4  85p2  85p3  85p1  70p3  70p2  70p1  55p1  55p3  55p4  70p4  40p1  40p2  55p2  25p1  40p4  25p2  10p1  25p4  10p3  10p2  25p3  0p2  40p3  0p4  0p1  10p4  0p3  0p_90m4  0p_90m1  0p_90m2  0p_90m3  common-seqs\n",
      "Collecting alignment statistics, from sample:  100p1  100p2  100p3  100p4  85p2  85p1  85p3  85p4  70p3  70p1  70p2  70p4  55p2  55p1  55p3  55p4  40p1  40p2  40p4  40p3  25p1  25p4  25p2  25p3  10p2  10p1  10p3  10p4  0p1  0p2  0p3  0p4  0p_90m3  0p_90m1  0p_90m2  0p_90m4  common-seqs"
     ]
    },
    {
     "data": {
      "text/html": [
       "<div>\n",
       "<style scoped>\n",
       "    .dataframe tbody tr th:only-of-type {\n",
       "        vertical-align: middle;\n",
       "    }\n",
       "\n",
       "    .dataframe tbody tr th {\n",
       "        vertical-align: top;\n",
       "    }\n",
       "\n",
       "    .dataframe thead th {\n",
       "        text-align: right;\n",
       "    }\n",
       "</style>\n",
       "<table border=\"1\" class=\"dataframe\">\n",
       "  <thead>\n",
       "    <tr style=\"text-align: right;\">\n",
       "      <th></th>\n",
       "      <th>sample_name_unique</th>\n",
       "      <th>sample_name</th>\n",
       "      <th>replicate</th>\n",
       "      <th>P5_index</th>\n",
       "      <th>P7_index</th>\n",
       "      <th>barcode</th>\n",
       "      <th>species</th>\n",
       "      <th>plot_group</th>\n",
       "      <th>hue_name</th>\n",
       "      <th>hue_value</th>\n",
       "      <th>hue_order</th>\n",
       "      <th>P5_index_seq</th>\n",
       "      <th>P7_index_seq</th>\n",
       "      <th>barcode_seq</th>\n",
       "      <th>fastq_mate1_filename</th>\n",
       "      <th>fastq_mate2_filename</th>\n",
       "      <th>N_total</th>\n",
       "      <th>N_CC</th>\n",
       "      <th>N_CCA</th>\n",
       "      <th>N_CCA+CC</th>\n",
       "      <th>CCA+CC_percent_total</th>\n",
       "      <th>percent_CCA</th>\n",
       "      <th>N_after_trim</th>\n",
       "      <th>N_UMI_observed</th>\n",
       "      <th>N_UMI_expected</th>\n",
       "      <th>percent_seqs_after_UMI_trim</th>\n",
       "      <th>percent_UMI_obs-vs-exp</th>\n",
       "      <th>N_mapped</th>\n",
       "      <th>percent_single_annotation</th>\n",
       "      <th>percent_multiple_annotation</th>\n",
       "      <th>Mapping_percent</th>\n",
       "    </tr>\n",
       "  </thead>\n",
       "  <tbody>\n",
       "    <tr>\n",
       "      <th>0</th>\n",
       "      <td>100p1</td>\n",
       "      <td>100p</td>\n",
       "      <td>1</td>\n",
       "      <td>D501</td>\n",
       "      <td>D701</td>\n",
       "      <td>l1Sp</td>\n",
       "      <td>human</td>\n",
       "      <td>Charge-titration</td>\n",
       "      <td>Percent charge</td>\n",
       "      <td>100p</td>\n",
       "      <td>1</td>\n",
       "      <td>AGGCTATA</td>\n",
       "      <td>ATTACTCG</td>\n",
       "      <td>GGCTGCCATGCGACTA</td>\n",
       "      <td>P1_R1_DSA-10k.fastq.bz2</td>\n",
       "      <td>P1_R2_DSA-10k.fastq.bz2</td>\n",
       "      <td>944</td>\n",
       "      <td>38</td>\n",
       "      <td>902</td>\n",
       "      <td>940</td>\n",
       "      <td>99.576271</td>\n",
       "      <td>95.957447</td>\n",
       "      <td>931</td>\n",
       "      <td>866</td>\n",
       "      <td>930.174768</td>\n",
       "      <td>98.622881</td>\n",
       "      <td>93.100784</td>\n",
       "      <td>922.0</td>\n",
       "      <td>74.511931</td>\n",
       "      <td>25.488069</td>\n",
       "      <td>99.033298</td>\n",
       "    </tr>\n",
       "    <tr>\n",
       "      <th>1</th>\n",
       "      <td>100p2</td>\n",
       "      <td>100p</td>\n",
       "      <td>2</td>\n",
       "      <td>D501</td>\n",
       "      <td>D702</td>\n",
       "      <td>l2Sp</td>\n",
       "      <td>human</td>\n",
       "      <td>Charge-titration</td>\n",
       "      <td>Percent charge</td>\n",
       "      <td>100p</td>\n",
       "      <td>1</td>\n",
       "      <td>AGGCTATA</td>\n",
       "      <td>TCCGGAGA</td>\n",
       "      <td>GGCTGCCATGCAAGTGC</td>\n",
       "      <td>P2_R1_DSA-10k.fastq.bz2</td>\n",
       "      <td>P2_R2_DSA-10k.fastq.bz2</td>\n",
       "      <td>673</td>\n",
       "      <td>14</td>\n",
       "      <td>648</td>\n",
       "      <td>662</td>\n",
       "      <td>98.365527</td>\n",
       "      <td>97.885196</td>\n",
       "      <td>663</td>\n",
       "      <td>622</td>\n",
       "      <td>662.581602</td>\n",
       "      <td>98.514116</td>\n",
       "      <td>93.875230</td>\n",
       "      <td>653.0</td>\n",
       "      <td>73.813170</td>\n",
       "      <td>26.186830</td>\n",
       "      <td>98.491704</td>\n",
       "    </tr>\n",
       "    <tr>\n",
       "      <th>2</th>\n",
       "      <td>100p3</td>\n",
       "      <td>100p</td>\n",
       "      <td>3</td>\n",
       "      <td>D501</td>\n",
       "      <td>D703</td>\n",
       "      <td>l3Sp</td>\n",
       "      <td>human</td>\n",
       "      <td>Charge-titration</td>\n",
       "      <td>Percent charge</td>\n",
       "      <td>100p</td>\n",
       "      <td>1</td>\n",
       "      <td>AGGCTATA</td>\n",
       "      <td>CGCTCATT</td>\n",
       "      <td>GGCTGCCATGCTGTCACG</td>\n",
       "      <td>P3_R1_DSA-10k.fastq.bz2</td>\n",
       "      <td>P3_R2_DSA-10k.fastq.bz2</td>\n",
       "      <td>709</td>\n",
       "      <td>35</td>\n",
       "      <td>666</td>\n",
       "      <td>701</td>\n",
       "      <td>98.871650</td>\n",
       "      <td>95.007133</td>\n",
       "      <td>692</td>\n",
       "      <td>633</td>\n",
       "      <td>691.544180</td>\n",
       "      <td>97.602257</td>\n",
       "      <td>91.534282</td>\n",
       "      <td>674.0</td>\n",
       "      <td>72.848665</td>\n",
       "      <td>27.151335</td>\n",
       "      <td>97.398844</td>\n",
       "    </tr>\n",
       "  </tbody>\n",
       "</table>\n",
       "</div>"
      ],
      "text/plain": [
       "  sample_name_unique sample_name  replicate P5_index P7_index barcode species  \\\n",
       "0              100p1        100p          1     D501     D701    l1Sp   human   \n",
       "1              100p2        100p          2     D501     D702    l2Sp   human   \n",
       "2              100p3        100p          3     D501     D703    l3Sp   human   \n",
       "\n",
       "         plot_group        hue_name hue_value  hue_order P5_index_seq  \\\n",
       "0  Charge-titration  Percent charge      100p          1     AGGCTATA   \n",
       "1  Charge-titration  Percent charge      100p          1     AGGCTATA   \n",
       "2  Charge-titration  Percent charge      100p          1     AGGCTATA   \n",
       "\n",
       "  P7_index_seq         barcode_seq     fastq_mate1_filename  \\\n",
       "0     ATTACTCG    GGCTGCCATGCGACTA  P1_R1_DSA-10k.fastq.bz2   \n",
       "1     TCCGGAGA   GGCTGCCATGCAAGTGC  P2_R1_DSA-10k.fastq.bz2   \n",
       "2     CGCTCATT  GGCTGCCATGCTGTCACG  P3_R1_DSA-10k.fastq.bz2   \n",
       "\n",
       "      fastq_mate2_filename  N_total  N_CC  N_CCA  N_CCA+CC  \\\n",
       "0  P1_R2_DSA-10k.fastq.bz2      944    38    902       940   \n",
       "1  P2_R2_DSA-10k.fastq.bz2      673    14    648       662   \n",
       "2  P3_R2_DSA-10k.fastq.bz2      709    35    666       701   \n",
       "\n",
       "   CCA+CC_percent_total  percent_CCA  N_after_trim  N_UMI_observed  \\\n",
       "0             99.576271    95.957447           931             866   \n",
       "1             98.365527    97.885196           663             622   \n",
       "2             98.871650    95.007133           692             633   \n",
       "\n",
       "   N_UMI_expected  percent_seqs_after_UMI_trim  percent_UMI_obs-vs-exp  \\\n",
       "0      930.174768                    98.622881               93.100784   \n",
       "1      662.581602                    98.514116               93.875230   \n",
       "2      691.544180                    97.602257               91.534282   \n",
       "\n",
       "   N_mapped  percent_single_annotation  percent_multiple_annotation  \\\n",
       "0     922.0                  74.511931                    25.488069   \n",
       "1     653.0                  73.813170                    26.186830   \n",
       "2     674.0                  72.848665                    27.151335   \n",
       "\n",
       "   Mapping_percent  \n",
       "0        99.033298  \n",
       "1        98.491704  \n",
       "2        97.398844  "
      ]
     },
     "execution_count": 599,
     "metadata": {},
     "output_type": "execute_result"
    }
   ],
   "source": [
    "### Align reads to database of reference tRNAs ###\n",
    "align_obj = SWIPE_align(dir_dict, tRNA_database, sample_df, SWIPE_score_mat2, gap_penalty=3, extension_penalty=2, min_score_align=MIN_SCORE_ALIGN, common_seqs=common_seqs)\n",
    "align_dir_abs = align_obj.make_dir(overwrite=True)\n",
    "# sample_df = align_obj.run_serial(dry_run=False, verbose=False, overwrite=False)\n",
    "sample_df = align_obj.run_parallel(n_jobs=4)\n",
    "sample_df.head(3)"
   ]
  },
  {
   "cell_type": "code",
   "execution_count": null,
   "metadata": {},
   "outputs": [],
   "source": []
  },
  {
   "cell_type": "code",
   "execution_count": 618,
   "metadata": {},
   "outputs": [
    {
     "name": "stdout",
     "output_type": "stream",
     "text": [
      "Using common sequences to prevent duplicated alignment.\n",
      "Running Swipe on:  100p1  100p3  100p2  100p4  85p4  85p2  85p3  70p3  85p1  70p1  70p2  55p1  55p2  55p4  40p1  70p4  40p2  55p3  40p3  25p3  25p4  10p1  25p1  25p2  10p4  10p2  10p3  40p4  0p2  0p1  0p3  0p4  0p_90m1  0p_90m3  0p_90m2  0p_90m4  common-seqs\n",
      "Collecting alignment statistics, from sample:  100p2  100p3  100p1  100p4  85p2  85p3  85p4  85p1  70p2  70p1  70p3  70p4  55p2  55p1  55p4  55p3  40p1  40p2  40p3  40p4  25p1  25p2  25p3  25p4  10p2  10p3  10p1  10p4  0p1  0p2  0p3  0p4  0p_90m1  0p_90m3  0p_90m2  0p_90m4  common-seqs"
     ]
    },
    {
     "data": {
      "text/html": [
       "<div>\n",
       "<style scoped>\n",
       "    .dataframe tbody tr th:only-of-type {\n",
       "        vertical-align: middle;\n",
       "    }\n",
       "\n",
       "    .dataframe tbody tr th {\n",
       "        vertical-align: top;\n",
       "    }\n",
       "\n",
       "    .dataframe thead th {\n",
       "        text-align: right;\n",
       "    }\n",
       "</style>\n",
       "<table border=\"1\" class=\"dataframe\">\n",
       "  <thead>\n",
       "    <tr style=\"text-align: right;\">\n",
       "      <th></th>\n",
       "      <th>sample_name_unique</th>\n",
       "      <th>sample_name</th>\n",
       "      <th>replicate</th>\n",
       "      <th>P5_index</th>\n",
       "      <th>P7_index</th>\n",
       "      <th>barcode</th>\n",
       "      <th>species</th>\n",
       "      <th>plot_group</th>\n",
       "      <th>hue_name</th>\n",
       "      <th>hue_value</th>\n",
       "      <th>hue_order</th>\n",
       "      <th>P5_index_seq</th>\n",
       "      <th>P7_index_seq</th>\n",
       "      <th>barcode_seq</th>\n",
       "      <th>fastq_mate1_filename</th>\n",
       "      <th>fastq_mate2_filename</th>\n",
       "      <th>N_total</th>\n",
       "      <th>N_CC</th>\n",
       "      <th>N_CCA</th>\n",
       "      <th>N_CCA+CC</th>\n",
       "      <th>CCA+CC_percent_total</th>\n",
       "      <th>percent_CCA</th>\n",
       "      <th>N_after_trim</th>\n",
       "      <th>N_UMI_observed</th>\n",
       "      <th>N_UMI_expected</th>\n",
       "      <th>percent_seqs_after_UMI_trim</th>\n",
       "      <th>percent_UMI_obs-vs-exp</th>\n",
       "      <th>N_mapped</th>\n",
       "      <th>percent_single_annotation</th>\n",
       "      <th>percent_multiple_annotation</th>\n",
       "      <th>Mapping_percent</th>\n",
       "    </tr>\n",
       "  </thead>\n",
       "  <tbody>\n",
       "    <tr>\n",
       "      <th>0</th>\n",
       "      <td>100p1</td>\n",
       "      <td>100p</td>\n",
       "      <td>1</td>\n",
       "      <td>D501</td>\n",
       "      <td>D701</td>\n",
       "      <td>l1Sp</td>\n",
       "      <td>human</td>\n",
       "      <td>Charge-titration</td>\n",
       "      <td>Percent charge</td>\n",
       "      <td>100p</td>\n",
       "      <td>1</td>\n",
       "      <td>AGGCTATA</td>\n",
       "      <td>ATTACTCG</td>\n",
       "      <td>GGCTGCCATGCGACTA</td>\n",
       "      <td>P1_R1_DSA-10k.fastq.bz2</td>\n",
       "      <td>P1_R2_DSA-10k.fastq.bz2</td>\n",
       "      <td>944</td>\n",
       "      <td>38</td>\n",
       "      <td>902</td>\n",
       "      <td>940</td>\n",
       "      <td>99.576271</td>\n",
       "      <td>95.957447</td>\n",
       "      <td>931</td>\n",
       "      <td>866</td>\n",
       "      <td>930.174768</td>\n",
       "      <td>98.622881</td>\n",
       "      <td>93.100784</td>\n",
       "      <td>927.0</td>\n",
       "      <td>75.512406</td>\n",
       "      <td>24.487594</td>\n",
       "      <td>99.570354</td>\n",
       "    </tr>\n",
       "    <tr>\n",
       "      <th>1</th>\n",
       "      <td>100p2</td>\n",
       "      <td>100p</td>\n",
       "      <td>2</td>\n",
       "      <td>D501</td>\n",
       "      <td>D702</td>\n",
       "      <td>l2Sp</td>\n",
       "      <td>human</td>\n",
       "      <td>Charge-titration</td>\n",
       "      <td>Percent charge</td>\n",
       "      <td>100p</td>\n",
       "      <td>1</td>\n",
       "      <td>AGGCTATA</td>\n",
       "      <td>TCCGGAGA</td>\n",
       "      <td>GGCTGCCATGCAAGTGC</td>\n",
       "      <td>P2_R1_DSA-10k.fastq.bz2</td>\n",
       "      <td>P2_R2_DSA-10k.fastq.bz2</td>\n",
       "      <td>673</td>\n",
       "      <td>14</td>\n",
       "      <td>648</td>\n",
       "      <td>662</td>\n",
       "      <td>98.365527</td>\n",
       "      <td>97.885196</td>\n",
       "      <td>663</td>\n",
       "      <td>622</td>\n",
       "      <td>662.581602</td>\n",
       "      <td>98.514116</td>\n",
       "      <td>93.875230</td>\n",
       "      <td>656.0</td>\n",
       "      <td>72.713415</td>\n",
       "      <td>27.286585</td>\n",
       "      <td>98.944193</td>\n",
       "    </tr>\n",
       "    <tr>\n",
       "      <th>2</th>\n",
       "      <td>100p3</td>\n",
       "      <td>100p</td>\n",
       "      <td>3</td>\n",
       "      <td>D501</td>\n",
       "      <td>D703</td>\n",
       "      <td>l3Sp</td>\n",
       "      <td>human</td>\n",
       "      <td>Charge-titration</td>\n",
       "      <td>Percent charge</td>\n",
       "      <td>100p</td>\n",
       "      <td>1</td>\n",
       "      <td>AGGCTATA</td>\n",
       "      <td>CGCTCATT</td>\n",
       "      <td>GGCTGCCATGCTGTCACG</td>\n",
       "      <td>P3_R1_DSA-10k.fastq.bz2</td>\n",
       "      <td>P3_R2_DSA-10k.fastq.bz2</td>\n",
       "      <td>709</td>\n",
       "      <td>35</td>\n",
       "      <td>666</td>\n",
       "      <td>701</td>\n",
       "      <td>98.871650</td>\n",
       "      <td>95.007133</td>\n",
       "      <td>692</td>\n",
       "      <td>633</td>\n",
       "      <td>691.544180</td>\n",
       "      <td>97.602257</td>\n",
       "      <td>91.534282</td>\n",
       "      <td>677.0</td>\n",
       "      <td>73.264402</td>\n",
       "      <td>26.735598</td>\n",
       "      <td>97.832370</td>\n",
       "    </tr>\n",
       "  </tbody>\n",
       "</table>\n",
       "</div>"
      ],
      "text/plain": [
       "  sample_name_unique sample_name  replicate P5_index P7_index barcode species  \\\n",
       "0              100p1        100p          1     D501     D701    l1Sp   human   \n",
       "1              100p2        100p          2     D501     D702    l2Sp   human   \n",
       "2              100p3        100p          3     D501     D703    l3Sp   human   \n",
       "\n",
       "         plot_group        hue_name hue_value  hue_order P5_index_seq  \\\n",
       "0  Charge-titration  Percent charge      100p          1     AGGCTATA   \n",
       "1  Charge-titration  Percent charge      100p          1     AGGCTATA   \n",
       "2  Charge-titration  Percent charge      100p          1     AGGCTATA   \n",
       "\n",
       "  P7_index_seq         barcode_seq     fastq_mate1_filename  \\\n",
       "0     ATTACTCG    GGCTGCCATGCGACTA  P1_R1_DSA-10k.fastq.bz2   \n",
       "1     TCCGGAGA   GGCTGCCATGCAAGTGC  P2_R1_DSA-10k.fastq.bz2   \n",
       "2     CGCTCATT  GGCTGCCATGCTGTCACG  P3_R1_DSA-10k.fastq.bz2   \n",
       "\n",
       "      fastq_mate2_filename  N_total  N_CC  N_CCA  N_CCA+CC  \\\n",
       "0  P1_R2_DSA-10k.fastq.bz2      944    38    902       940   \n",
       "1  P2_R2_DSA-10k.fastq.bz2      673    14    648       662   \n",
       "2  P3_R2_DSA-10k.fastq.bz2      709    35    666       701   \n",
       "\n",
       "   CCA+CC_percent_total  percent_CCA  N_after_trim  N_UMI_observed  \\\n",
       "0             99.576271    95.957447           931             866   \n",
       "1             98.365527    97.885196           663             622   \n",
       "2             98.871650    95.007133           692             633   \n",
       "\n",
       "   N_UMI_expected  percent_seqs_after_UMI_trim  percent_UMI_obs-vs-exp  \\\n",
       "0      930.174768                    98.622881               93.100784   \n",
       "1      662.581602                    98.514116               93.875230   \n",
       "2      691.544180                    97.602257               91.534282   \n",
       "\n",
       "   N_mapped  percent_single_annotation  percent_multiple_annotation  \\\n",
       "0     927.0                  75.512406                    24.487594   \n",
       "1     656.0                  72.713415                    27.286585   \n",
       "2     677.0                  73.264402                    26.735598   \n",
       "\n",
       "   Mapping_percent  \n",
       "0        99.570354  \n",
       "1        98.944193  \n",
       "2        97.832370  "
      ]
     },
     "execution_count": 618,
     "metadata": {},
     "output_type": "execute_result"
    }
   ],
   "source": [
    "### Align reads to database of reference tRNAs ###\n",
    "align_obj = SWIPE_align(dir_dict, tRNA_database_masked, sample_df, SWIPE_score_mat2, gap_penalty=3, extension_penalty=2, min_score_align=MIN_SCORE_ALIGN, common_seqs=common_seqs)\n",
    "align_dir_abs = align_obj.make_dir(overwrite=True)\n",
    "# sample_df = align_obj.run_serial(dry_run=False, verbose=False, overwrite=False)\n",
    "sample_df = align_obj.run_parallel(n_jobs=4)\n",
    "sample_df.head(3)"
   ]
  },
  {
   "cell_type": "code",
   "execution_count": null,
   "metadata": {},
   "outputs": [],
   "source": []
  },
  {
   "cell_type": "code",
   "execution_count": null,
   "metadata": {},
   "outputs": [],
   "source": []
  },
  {
   "cell_type": "code",
   "execution_count": null,
   "metadata": {},
   "outputs": [],
   "source": []
  },
  {
   "cell_type": "code",
   "execution_count": null,
   "metadata": {},
   "outputs": [],
   "source": []
  },
  {
   "cell_type": "code",
   "execution_count": null,
   "metadata": {},
   "outputs": [],
   "source": []
  },
  {
   "cell_type": "code",
   "execution_count": null,
   "metadata": {},
   "outputs": [],
   "source": []
  },
  {
   "cell_type": "code",
   "execution_count": null,
   "metadata": {},
   "outputs": [],
   "source": []
  },
  {
   "cell_type": "code",
   "execution_count": null,
   "metadata": {},
   "outputs": [],
   "source": []
  },
  {
   "cell_type": "code",
   "execution_count": null,
   "metadata": {},
   "outputs": [],
   "source": []
  },
  {
   "cell_type": "code",
   "execution_count": null,
   "metadata": {},
   "outputs": [],
   "source": []
  },
  {
   "cell_type": "code",
   "execution_count": null,
   "metadata": {},
   "outputs": [],
   "source": []
  },
  {
   "cell_type": "code",
   "execution_count": null,
   "metadata": {},
   "outputs": [],
   "source": []
  },
  {
   "cell_type": "code",
   "execution_count": null,
   "metadata": {},
   "outputs": [],
   "source": []
  },
  {
   "cell_type": "code",
   "execution_count": null,
   "metadata": {},
   "outputs": [],
   "source": []
  },
  {
   "cell_type": "code",
   "execution_count": null,
   "metadata": {},
   "outputs": [],
   "source": []
  },
  {
   "cell_type": "code",
   "execution_count": null,
   "metadata": {},
   "outputs": [],
   "source": []
  },
  {
   "cell_type": "code",
   "execution_count": null,
   "metadata": {},
   "outputs": [],
   "source": []
  },
  {
   "cell_type": "code",
   "execution_count": null,
   "metadata": {},
   "outputs": [],
   "source": []
  },
  {
   "cell_type": "code",
   "execution_count": null,
   "metadata": {},
   "outputs": [],
   "source": []
  },
  {
   "cell_type": "code",
   "execution_count": null,
   "metadata": {},
   "outputs": [],
   "source": []
  },
  {
   "cell_type": "code",
   "execution_count": null,
   "metadata": {},
   "outputs": [],
   "source": []
  },
  {
   "cell_type": "code",
   "execution_count": null,
   "metadata": {},
   "outputs": [],
   "source": []
  },
  {
   "cell_type": "code",
   "execution_count": null,
   "metadata": {},
   "outputs": [],
   "source": []
  },
  {
   "cell_type": "code",
   "execution_count": null,
   "metadata": {},
   "outputs": [],
   "source": []
  },
  {
   "cell_type": "code",
   "execution_count": null,
   "metadata": {},
   "outputs": [],
   "source": []
  },
  {
   "cell_type": "code",
   "execution_count": null,
   "metadata": {},
   "outputs": [],
   "source": []
  },
  {
   "cell_type": "code",
   "execution_count": null,
   "metadata": {},
   "outputs": [],
   "source": []
  },
  {
   "cell_type": "code",
   "execution_count": null,
   "metadata": {},
   "outputs": [],
   "source": []
  }
 ],
 "metadata": {
  "kernelspec": {
   "display_name": "Python 3",
   "language": "python",
   "name": "python3"
  },
  "language_info": {
   "codemirror_mode": {
    "name": "ipython",
    "version": 3
   },
   "file_extension": ".py",
   "mimetype": "text/x-python",
   "name": "python",
   "nbconvert_exporter": "python",
   "pygments_lexer": "ipython3",
   "version": "3.8.5"
  }
 },
 "nbformat": 4,
 "nbformat_minor": 4
}
